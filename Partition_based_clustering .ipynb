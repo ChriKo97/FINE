{
 "cells": [
  {
   "cell_type": "code",
   "execution_count": 38,
   "metadata": {},
   "outputs": [],
   "source": [
    "#conda install -c conda-forge tslearn\n",
    "#pip install https://github.com/scikit-learn-contrib/scikit-learn-extra/archive/master.zip\n",
    "\n",
    "import os\n",
    "import pathlib\n",
    "\n",
    "import dask\n",
    "import geopandas as gpd\n",
    "import matplotlib.pyplot as plt\n",
    "import numpy as np\n",
    "import pandas as pd\n",
    "import pytest\n",
    "#import seaborn as sns \n",
    "import xarray as xr\n",
    "from dask.diagnostics import ProgressBar\n",
    "from dask.distributed import Client\n",
    "from shapely.ops import cascaded_union, unary_union\n",
    "from scipy import stats\n",
    "\n",
    "from sklearn.cluster import KMeans\n",
    "from sklearn_extra.cluster import KMedoids\n",
    "from sklearn.metrics import silhouette_score\n",
    "\n",
    "import geokit as gk\n",
    "import metis_utils.io_tools as ito\n",
    "import metis_utils.time_tools as tto\n",
    "import metis_utils.computation_tools as cto\n",
    "import spagat.grouping as spgm\n",
    "import spagat.representation as spr\n",
    "#import spagatti.input as spti\n",
    "#import spagatti.utils as spu\n",
    "#import spagatti.dataset as sptd"
   ]
  },
  {
   "cell_type": "code",
   "execution_count": 14,
   "metadata": {},
   "outputs": [
    {
     "data": {
      "text/html": [
       "<div>\n",
       "<style scoped>\n",
       "    .dataframe tbody tr th:only-of-type {\n",
       "        vertical-align: middle;\n",
       "    }\n",
       "\n",
       "    .dataframe tbody tr th {\n",
       "        vertical-align: top;\n",
       "    }\n",
       "\n",
       "    .dataframe thead th {\n",
       "        text-align: right;\n",
       "    }\n",
       "</style>\n",
       "<table border=\"1\" class=\"dataframe\">\n",
       "  <thead>\n",
       "    <tr style=\"text-align: right;\">\n",
       "      <th></th>\n",
       "      <th>datetime</th>\n",
       "      <th>Vancouver</th>\n",
       "      <th>Portland</th>\n",
       "      <th>San Francisco</th>\n",
       "      <th>Seattle</th>\n",
       "      <th>Los Angeles</th>\n",
       "      <th>San Diego</th>\n",
       "      <th>Las Vegas</th>\n",
       "      <th>Phoenix</th>\n",
       "      <th>Albuquerque</th>\n",
       "      <th>...</th>\n",
       "      <th>Philadelphia</th>\n",
       "      <th>New York</th>\n",
       "      <th>Montreal</th>\n",
       "      <th>Boston</th>\n",
       "      <th>Beersheba</th>\n",
       "      <th>Tel Aviv District</th>\n",
       "      <th>Eilat</th>\n",
       "      <th>Haifa</th>\n",
       "      <th>Nahariyya</th>\n",
       "      <th>Jerusalem</th>\n",
       "    </tr>\n",
       "  </thead>\n",
       "  <tbody>\n",
       "    <tr>\n",
       "      <th>1</th>\n",
       "      <td>2012-10-01 13:00:00</td>\n",
       "      <td>76.0</td>\n",
       "      <td>81.0</td>\n",
       "      <td>88.0</td>\n",
       "      <td>81.0</td>\n",
       "      <td>88.0</td>\n",
       "      <td>82.0</td>\n",
       "      <td>22.0</td>\n",
       "      <td>23.0</td>\n",
       "      <td>50.0</td>\n",
       "      <td>...</td>\n",
       "      <td>71.0</td>\n",
       "      <td>58.0</td>\n",
       "      <td>93.0</td>\n",
       "      <td>68.0</td>\n",
       "      <td>50.0</td>\n",
       "      <td>63.0</td>\n",
       "      <td>22.0</td>\n",
       "      <td>51.0</td>\n",
       "      <td>51.0</td>\n",
       "      <td>50.0</td>\n",
       "    </tr>\n",
       "    <tr>\n",
       "      <th>2</th>\n",
       "      <td>2012-10-01 14:00:00</td>\n",
       "      <td>76.0</td>\n",
       "      <td>80.0</td>\n",
       "      <td>87.0</td>\n",
       "      <td>80.0</td>\n",
       "      <td>88.0</td>\n",
       "      <td>81.0</td>\n",
       "      <td>21.0</td>\n",
       "      <td>23.0</td>\n",
       "      <td>49.0</td>\n",
       "      <td>...</td>\n",
       "      <td>70.0</td>\n",
       "      <td>57.0</td>\n",
       "      <td>91.0</td>\n",
       "      <td>68.0</td>\n",
       "      <td>51.0</td>\n",
       "      <td>62.0</td>\n",
       "      <td>22.0</td>\n",
       "      <td>51.0</td>\n",
       "      <td>51.0</td>\n",
       "      <td>50.0</td>\n",
       "    </tr>\n",
       "    <tr>\n",
       "      <th>3</th>\n",
       "      <td>2012-10-01 15:00:00</td>\n",
       "      <td>76.0</td>\n",
       "      <td>80.0</td>\n",
       "      <td>86.0</td>\n",
       "      <td>80.0</td>\n",
       "      <td>88.0</td>\n",
       "      <td>81.0</td>\n",
       "      <td>21.0</td>\n",
       "      <td>23.0</td>\n",
       "      <td>49.0</td>\n",
       "      <td>...</td>\n",
       "      <td>70.0</td>\n",
       "      <td>57.0</td>\n",
       "      <td>87.0</td>\n",
       "      <td>68.0</td>\n",
       "      <td>51.0</td>\n",
       "      <td>62.0</td>\n",
       "      <td>22.0</td>\n",
       "      <td>51.0</td>\n",
       "      <td>51.0</td>\n",
       "      <td>50.0</td>\n",
       "    </tr>\n",
       "    <tr>\n",
       "      <th>4</th>\n",
       "      <td>2012-10-01 16:00:00</td>\n",
       "      <td>77.0</td>\n",
       "      <td>80.0</td>\n",
       "      <td>85.0</td>\n",
       "      <td>79.0</td>\n",
       "      <td>88.0</td>\n",
       "      <td>81.0</td>\n",
       "      <td>21.0</td>\n",
       "      <td>23.0</td>\n",
       "      <td>49.0</td>\n",
       "      <td>...</td>\n",
       "      <td>69.0</td>\n",
       "      <td>57.0</td>\n",
       "      <td>84.0</td>\n",
       "      <td>68.0</td>\n",
       "      <td>52.0</td>\n",
       "      <td>62.0</td>\n",
       "      <td>22.0</td>\n",
       "      <td>51.0</td>\n",
       "      <td>51.0</td>\n",
       "      <td>50.0</td>\n",
       "    </tr>\n",
       "    <tr>\n",
       "      <th>5</th>\n",
       "      <td>2012-10-01 17:00:00</td>\n",
       "      <td>78.0</td>\n",
       "      <td>79.0</td>\n",
       "      <td>84.0</td>\n",
       "      <td>79.0</td>\n",
       "      <td>88.0</td>\n",
       "      <td>80.0</td>\n",
       "      <td>21.0</td>\n",
       "      <td>24.0</td>\n",
       "      <td>49.0</td>\n",
       "      <td>...</td>\n",
       "      <td>69.0</td>\n",
       "      <td>57.0</td>\n",
       "      <td>80.0</td>\n",
       "      <td>68.0</td>\n",
       "      <td>54.0</td>\n",
       "      <td>62.0</td>\n",
       "      <td>23.0</td>\n",
       "      <td>51.0</td>\n",
       "      <td>51.0</td>\n",
       "      <td>50.0</td>\n",
       "    </tr>\n",
       "  </tbody>\n",
       "</table>\n",
       "<p>5 rows × 37 columns</p>\n",
       "</div>"
      ],
      "text/plain": [
       "              datetime  Vancouver  Portland  San Francisco  Seattle  \\\n",
       "1  2012-10-01 13:00:00       76.0      81.0           88.0     81.0   \n",
       "2  2012-10-01 14:00:00       76.0      80.0           87.0     80.0   \n",
       "3  2012-10-01 15:00:00       76.0      80.0           86.0     80.0   \n",
       "4  2012-10-01 16:00:00       77.0      80.0           85.0     79.0   \n",
       "5  2012-10-01 17:00:00       78.0      79.0           84.0     79.0   \n",
       "\n",
       "   Los Angeles  San Diego  Las Vegas  Phoenix  Albuquerque  ...  Philadelphia  \\\n",
       "1         88.0       82.0       22.0     23.0         50.0  ...          71.0   \n",
       "2         88.0       81.0       21.0     23.0         49.0  ...          70.0   \n",
       "3         88.0       81.0       21.0     23.0         49.0  ...          70.0   \n",
       "4         88.0       81.0       21.0     23.0         49.0  ...          69.0   \n",
       "5         88.0       80.0       21.0     24.0         49.0  ...          69.0   \n",
       "\n",
       "   New York  Montreal  Boston  Beersheba  Tel Aviv District  Eilat  Haifa  \\\n",
       "1      58.0      93.0    68.0       50.0               63.0   22.0   51.0   \n",
       "2      57.0      91.0    68.0       51.0               62.0   22.0   51.0   \n",
       "3      57.0      87.0    68.0       51.0               62.0   22.0   51.0   \n",
       "4      57.0      84.0    68.0       52.0               62.0   22.0   51.0   \n",
       "5      57.0      80.0    68.0       54.0               62.0   23.0   51.0   \n",
       "\n",
       "   Nahariyya  Jerusalem  \n",
       "1       51.0       50.0  \n",
       "2       51.0       50.0  \n",
       "3       51.0       50.0  \n",
       "4       51.0       50.0  \n",
       "5       51.0       50.0  \n",
       "\n",
       "[5 rows x 37 columns]"
      ]
     },
     "execution_count": 14,
     "metadata": {},
     "output_type": "execute_result"
    }
   ],
   "source": [
    "#dummy data \n",
    "data = pd.read_csv(\"/home/s-patil/data/humidity.csv\") \n",
    "data = data.dropna()\n",
    "data.head()"
   ]
  },
  {
   "cell_type": "code",
   "execution_count": 24,
   "metadata": {},
   "outputs": [
    {
     "data": {
      "text/plain": [
       "array([[76.0, 81.0, 88.0, ..., 51.0, 51.0, 50.0],\n",
       "       [76.0, 80.0, 87.0, ..., 51.0, 51.0, 50.0],\n",
       "       [76.0, 80.0, 86.0, ..., 51.0, 51.0, 50.0],\n",
       "       ...,\n",
       "       [82.0, 33.0, 22.0, ..., 95.0, 95.0, 60.0],\n",
       "       [87.0, 35.0, 20.0, ..., 96.0, 96.0, 56.0],\n",
       "       [87.0, 40.0, 22.0, ..., 96.0, 96.0, 60.0]], dtype=object)"
      ]
     },
     "execution_count": 24,
     "metadata": {},
     "output_type": "execute_result"
    }
   ],
   "source": [
    "xarray_values = data.values\n",
    "xarray_values = xarray_values[:,1:]\n",
    "xarray_values"
   ]
  },
  {
   "cell_type": "code",
   "execution_count": 25,
   "metadata": {},
   "outputs": [
    {
     "data": {
      "text/plain": [
       "array(['2012-10-01 13:00:00', '2012-10-01 14:00:00',\n",
       "       '2012-10-01 15:00:00', ..., '2017-10-27 22:00:00',\n",
       "       '2017-10-27 23:00:00', '2017-10-28 00:00:00'], dtype=object)"
      ]
     },
     "execution_count": 25,
     "metadata": {},
     "output_type": "execute_result"
    }
   ],
   "source": [
    "time = data.datetime.values\n",
    "time"
   ]
  },
  {
   "cell_type": "code",
   "execution_count": 21,
   "metadata": {},
   "outputs": [
    {
     "data": {
      "text/plain": [
       "['Vancouver',\n",
       " 'Portland',\n",
       " 'San Francisco',\n",
       " 'Seattle',\n",
       " 'Los Angeles',\n",
       " 'San Diego',\n",
       " 'Las Vegas',\n",
       " 'Phoenix',\n",
       " 'Albuquerque',\n",
       " 'Denver',\n",
       " 'San Antonio',\n",
       " 'Dallas',\n",
       " 'Houston',\n",
       " 'Kansas City',\n",
       " 'Minneapolis',\n",
       " 'Saint Louis',\n",
       " 'Chicago',\n",
       " 'Nashville',\n",
       " 'Indianapolis',\n",
       " 'Atlanta',\n",
       " 'Detroit',\n",
       " 'Jacksonville',\n",
       " 'Charlotte',\n",
       " 'Miami',\n",
       " 'Pittsburgh',\n",
       " 'Toronto',\n",
       " 'Philadelphia',\n",
       " 'New York',\n",
       " 'Montreal',\n",
       " 'Boston',\n",
       " 'Beersheba',\n",
       " 'Tel Aviv District',\n",
       " 'Eilat',\n",
       " 'Haifa',\n",
       " 'Nahariyya',\n",
       " 'Jerusalem']"
      ]
     },
     "execution_count": 21,
     "metadata": {},
     "output_type": "execute_result"
    }
   ],
   "source": [
    "regions_ids = list(data.columns)\n",
    "regions_ids.pop(0)\n",
    "regions_ids"
   ]
  },
  {
   "cell_type": "code",
   "execution_count": 26,
   "metadata": {},
   "outputs": [
    {
     "data": {
      "text/plain": [
       "<xarray.DataArray (time: 36263, region_ids: 36)>\n",
       "array([[76.0, 81.0, 88.0, ..., 51.0, 51.0, 50.0],\n",
       "       [76.0, 80.0, 87.0, ..., 51.0, 51.0, 50.0],\n",
       "       [76.0, 80.0, 86.0, ..., 51.0, 51.0, 50.0],\n",
       "       ...,\n",
       "       [82.0, 33.0, 22.0, ..., 95.0, 95.0, 60.0],\n",
       "       [87.0, 35.0, 20.0, ..., 96.0, 96.0, 56.0],\n",
       "       [87.0, 40.0, 22.0, ..., 96.0, 96.0, 60.0]], dtype=object)\n",
       "Coordinates:\n",
       "  * time        (time) object '2012-10-01 13:00:00' ... '2017-10-28 00:00:00'\n",
       "  * region_ids  (region_ids) <U17 'Vancouver' 'Portland' ... 'Jerusalem'"
      ]
     },
     "execution_count": 26,
     "metadata": {},
     "output_type": "execute_result"
    }
   ],
   "source": [
    "test_xr_DataArray = xr.DataArray(xarray_values, \n",
    "                                 coords={'time': time, 'region_ids': regions_ids}, \n",
    "                                 dims=['time','region_ids'])\n",
    "\n",
    "test_xr_DataArray"
   ]
  },
  {
   "cell_type": "code",
   "execution_count": 27,
   "metadata": {},
   "outputs": [
    {
     "data": {
      "text/plain": [
       "<xarray.DataArray (region_ids: 36, time: 36263)>\n",
       "array([[76.0, 76.0, 76.0, ..., 82.0, 87.0, 87.0],\n",
       "       [81.0, 80.0, 80.0, ..., 33.0, 35.0, 40.0],\n",
       "       [88.0, 87.0, 86.0, ..., 22.0, 20.0, 22.0],\n",
       "       ...,\n",
       "       [51.0, 51.0, 51.0, ..., 95.0, 96.0, 96.0],\n",
       "       [51.0, 51.0, 51.0, ..., 95.0, 96.0, 96.0],\n",
       "       [50.0, 50.0, 50.0, ..., 60.0, 56.0, 60.0]], dtype=object)\n",
       "Coordinates:\n",
       "  * time        (time) object '2012-10-01 13:00:00' ... '2017-10-28 00:00:00'\n",
       "  * region_ids  (region_ids) <U17 'Vancouver' 'Portland' ... 'Jerusalem'"
      ]
     },
     "execution_count": 27,
     "metadata": {},
     "output_type": "execute_result"
    }
   ],
   "source": [
    "#http://xarray.pydata.org/en/stable/generated/xarray.DataArray.transpose.html  DOES NOT WORK !!!\n",
    "\n",
    "## Transposing dimensions is enough\n",
    "transposed_test_xr_DataArray = test_xr_DataArray.transpose(transpose_coords= True)\n",
    "transposed_test_xr_DataArray"
   ]
  },
  {
   "cell_type": "code",
   "execution_count": 54,
   "metadata": {},
   "outputs": [
    {
     "data": {
      "text/plain": [
       "KMedoids(init='heuristic', max_iter=300, metric='euclidean', n_clusters=2,\n",
       "         random_state=None)"
      ]
     },
     "execution_count": 54,
     "metadata": {},
     "output_type": "execute_result"
    }
   ],
   "source": [
    "kmedoids_cluster = KMedoids(n_clusters=2, metric='euclidean').fit(transposed_test_xr_DataArray)\n",
    "kmedoids_cluster"
   ]
  },
  {
   "cell_type": "code",
   "execution_count": 55,
   "metadata": {},
   "outputs": [
    {
     "data": {
      "text/plain": [
       "array([0, 0, 0, 0, 1, 1, 1, 1, 1, 1, 1, 1, 1, 1, 1, 1, 0, 1, 1, 1, 0, 0,\n",
       "       1, 0, 1, 0, 1, 1, 0, 0, 0, 1, 1, 0, 0, 0])"
      ]
     },
     "execution_count": 55,
     "metadata": {},
     "output_type": "execute_result"
    }
   ],
   "source": [
    "kmedoids_cluster.labels_"
   ]
  },
  {
   "cell_type": "code",
   "execution_count": 56,
   "metadata": {},
   "outputs": [
    {
     "data": {
      "text/plain": [
       "0.08825941086200596"
      ]
     },
     "execution_count": 56,
     "metadata": {},
     "output_type": "execute_result"
    }
   ],
   "source": [
    "silhouette_score(transposed_test_xr_DataArray, kmedoids_cluster.labels_ )"
   ]
  },
  {
   "cell_type": "code",
   "execution_count": null,
   "metadata": {},
   "outputs": [],
   "source": []
  }
 ],
 "metadata": {
  "kernelspec": {
   "display_name": "Python 3",
   "language": "python",
   "name": "python3"
  },
  "language_info": {
   "codemirror_mode": {
    "name": "ipython",
    "version": 3
   },
   "file_extension": ".py",
   "mimetype": "text/x-python",
   "name": "python",
   "nbconvert_exporter": "python",
   "pygments_lexer": "ipython3",
   "version": "3.6.7"
  }
 },
 "nbformat": 4,
 "nbformat_minor": 2
}
