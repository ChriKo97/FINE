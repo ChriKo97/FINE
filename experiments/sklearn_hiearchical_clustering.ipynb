{
 "cells": [
  {
   "cell_type": "code",
   "execution_count": 1,
   "metadata": {},
   "outputs": [],
   "source": [
    "%load_ext autoreload\n",
    "%autoreload 2"
   ]
  },
  {
   "cell_type": "code",
   "execution_count": 2,
   "metadata": {},
   "outputs": [],
   "source": [
    "import xarray as xr\n",
    "import numpy as np\n",
    "import pandas as pd\n",
    "import os\n",
    "import warnings\n",
    "import geopandas as gpd\n",
    "from scipy.cluster import hierarchy\n",
    "from sklearn import metrics\n",
    "from scipy.cluster import vq\n",
    "import sklearn.cluster as skc\n",
    "\n",
    "import FINE as fn\n",
    "import FINE.spagat.dataset as spd\n",
    "import FINE.spagat.grouping as spg\n",
    "import FINE.spagat.representation as spr \n",
    "import FINE.spagat.grouping_utils as gu\n",
    "from FINE.IOManagement import dictIO\n",
    "import FINE.IOManagement.xarrayIO as xrIO\n",
    "\n",
    "from MATES import OptimizationManager\n",
    "\n"
   ]
  },
  {
   "cell_type": "code",
   "execution_count": 19,
   "metadata": {},
   "outputs": [],
   "source": [
    "color_list = ['blue', 'purple', 'orange', 'green', 'red', 'cyan', 'magenta', 'yellow', 'black', 'white', \n",
    "              'sky blue', 'brown', 'olive', 'aquamarine', 'pink']"
   ]
  },
  {
   "cell_type": "code",
   "execution_count": 28,
   "metadata": {},
   "outputs": [],
   "source": [
    "import seaborn as sns\n",
    "color_palette = sns.color_palette(None, 30)"
   ]
  },
  {
   "cell_type": "code",
   "execution_count": 29,
   "metadata": {},
   "outputs": [
    {
     "data": {
      "text/html": [
       "<svg  width=\"1650\" height=\"55\"><rect x=\"0\" y=\"0\" width=\"55\" height=\"55\" style=\"fill:#1f77b4;stroke-width:2;stroke:rgb(255,255,255)\"/><rect x=\"55\" y=\"0\" width=\"55\" height=\"55\" style=\"fill:#ff7f0e;stroke-width:2;stroke:rgb(255,255,255)\"/><rect x=\"110\" y=\"0\" width=\"55\" height=\"55\" style=\"fill:#2ca02c;stroke-width:2;stroke:rgb(255,255,255)\"/><rect x=\"165\" y=\"0\" width=\"55\" height=\"55\" style=\"fill:#d62728;stroke-width:2;stroke:rgb(255,255,255)\"/><rect x=\"220\" y=\"0\" width=\"55\" height=\"55\" style=\"fill:#9467bd;stroke-width:2;stroke:rgb(255,255,255)\"/><rect x=\"275\" y=\"0\" width=\"55\" height=\"55\" style=\"fill:#8c564b;stroke-width:2;stroke:rgb(255,255,255)\"/><rect x=\"330\" y=\"0\" width=\"55\" height=\"55\" style=\"fill:#e377c2;stroke-width:2;stroke:rgb(255,255,255)\"/><rect x=\"385\" y=\"0\" width=\"55\" height=\"55\" style=\"fill:#7f7f7f;stroke-width:2;stroke:rgb(255,255,255)\"/><rect x=\"440\" y=\"0\" width=\"55\" height=\"55\" style=\"fill:#bcbd22;stroke-width:2;stroke:rgb(255,255,255)\"/><rect x=\"495\" y=\"0\" width=\"55\" height=\"55\" style=\"fill:#17becf;stroke-width:2;stroke:rgb(255,255,255)\"/><rect x=\"550\" y=\"0\" width=\"55\" height=\"55\" style=\"fill:#1f77b4;stroke-width:2;stroke:rgb(255,255,255)\"/><rect x=\"605\" y=\"0\" width=\"55\" height=\"55\" style=\"fill:#ff7f0e;stroke-width:2;stroke:rgb(255,255,255)\"/><rect x=\"660\" y=\"0\" width=\"55\" height=\"55\" style=\"fill:#2ca02c;stroke-width:2;stroke:rgb(255,255,255)\"/><rect x=\"715\" y=\"0\" width=\"55\" height=\"55\" style=\"fill:#d62728;stroke-width:2;stroke:rgb(255,255,255)\"/><rect x=\"770\" y=\"0\" width=\"55\" height=\"55\" style=\"fill:#9467bd;stroke-width:2;stroke:rgb(255,255,255)\"/><rect x=\"825\" y=\"0\" width=\"55\" height=\"55\" style=\"fill:#8c564b;stroke-width:2;stroke:rgb(255,255,255)\"/><rect x=\"880\" y=\"0\" width=\"55\" height=\"55\" style=\"fill:#e377c2;stroke-width:2;stroke:rgb(255,255,255)\"/><rect x=\"935\" y=\"0\" width=\"55\" height=\"55\" style=\"fill:#7f7f7f;stroke-width:2;stroke:rgb(255,255,255)\"/><rect x=\"990\" y=\"0\" width=\"55\" height=\"55\" style=\"fill:#bcbd22;stroke-width:2;stroke:rgb(255,255,255)\"/><rect x=\"1045\" y=\"0\" width=\"55\" height=\"55\" style=\"fill:#17becf;stroke-width:2;stroke:rgb(255,255,255)\"/><rect x=\"1100\" y=\"0\" width=\"55\" height=\"55\" style=\"fill:#1f77b4;stroke-width:2;stroke:rgb(255,255,255)\"/><rect x=\"1155\" y=\"0\" width=\"55\" height=\"55\" style=\"fill:#ff7f0e;stroke-width:2;stroke:rgb(255,255,255)\"/><rect x=\"1210\" y=\"0\" width=\"55\" height=\"55\" style=\"fill:#2ca02c;stroke-width:2;stroke:rgb(255,255,255)\"/><rect x=\"1265\" y=\"0\" width=\"55\" height=\"55\" style=\"fill:#d62728;stroke-width:2;stroke:rgb(255,255,255)\"/><rect x=\"1320\" y=\"0\" width=\"55\" height=\"55\" style=\"fill:#9467bd;stroke-width:2;stroke:rgb(255,255,255)\"/><rect x=\"1375\" y=\"0\" width=\"55\" height=\"55\" style=\"fill:#8c564b;stroke-width:2;stroke:rgb(255,255,255)\"/><rect x=\"1430\" y=\"0\" width=\"55\" height=\"55\" style=\"fill:#e377c2;stroke-width:2;stroke:rgb(255,255,255)\"/><rect x=\"1485\" y=\"0\" width=\"55\" height=\"55\" style=\"fill:#7f7f7f;stroke-width:2;stroke:rgb(255,255,255)\"/><rect x=\"1540\" y=\"0\" width=\"55\" height=\"55\" style=\"fill:#bcbd22;stroke-width:2;stroke:rgb(255,255,255)\"/><rect x=\"1595\" y=\"0\" width=\"55\" height=\"55\" style=\"fill:#17becf;stroke-width:2;stroke:rgb(255,255,255)\"/></svg>"
      ],
      "text/plain": [
       "[(0.12156862745098039, 0.4666666666666667, 0.7058823529411765),\n",
       " (1.0, 0.4980392156862745, 0.054901960784313725),\n",
       " (0.17254901960784313, 0.6274509803921569, 0.17254901960784313),\n",
       " (0.8392156862745098, 0.15294117647058825, 0.1568627450980392),\n",
       " (0.5803921568627451, 0.403921568627451, 0.7411764705882353),\n",
       " (0.5490196078431373, 0.33725490196078434, 0.29411764705882354),\n",
       " (0.8901960784313725, 0.4666666666666667, 0.7607843137254902),\n",
       " (0.4980392156862745, 0.4980392156862745, 0.4980392156862745),\n",
       " (0.7372549019607844, 0.7411764705882353, 0.13333333333333333),\n",
       " (0.09019607843137255, 0.7450980392156863, 0.8117647058823529),\n",
       " (0.12156862745098039, 0.4666666666666667, 0.7058823529411765),\n",
       " (1.0, 0.4980392156862745, 0.054901960784313725),\n",
       " (0.17254901960784313, 0.6274509803921569, 0.17254901960784313),\n",
       " (0.8392156862745098, 0.15294117647058825, 0.1568627450980392),\n",
       " (0.5803921568627451, 0.403921568627451, 0.7411764705882353),\n",
       " (0.5490196078431373, 0.33725490196078434, 0.29411764705882354),\n",
       " (0.8901960784313725, 0.4666666666666667, 0.7607843137254902),\n",
       " (0.4980392156862745, 0.4980392156862745, 0.4980392156862745),\n",
       " (0.7372549019607844, 0.7411764705882353, 0.13333333333333333),\n",
       " (0.09019607843137255, 0.7450980392156863, 0.8117647058823529),\n",
       " (0.12156862745098039, 0.4666666666666667, 0.7058823529411765),\n",
       " (1.0, 0.4980392156862745, 0.054901960784313725),\n",
       " (0.17254901960784313, 0.6274509803921569, 0.17254901960784313),\n",
       " (0.8392156862745098, 0.15294117647058825, 0.1568627450980392),\n",
       " (0.5803921568627451, 0.403921568627451, 0.7411764705882353),\n",
       " (0.5490196078431373, 0.33725490196078434, 0.29411764705882354),\n",
       " (0.8901960784313725, 0.4666666666666667, 0.7607843137254902),\n",
       " (0.4980392156862745, 0.4980392156862745, 0.4980392156862745),\n",
       " (0.7372549019607844, 0.7411764705882353, 0.13333333333333333),\n",
       " (0.09019607843137255, 0.7450980392156863, 0.8117647058823529)]"
      ]
     },
     "execution_count": 29,
     "metadata": {},
     "output_type": "execute_result"
    }
   ],
   "source": [
    "color_palette"
   ]
  },
  {
   "cell_type": "markdown",
   "metadata": {},
   "source": [
    "## dataset - multi_node_test_esM_init (Germany)"
   ]
  },
  {
   "cell_type": "code",
   "execution_count": null,
   "metadata": {},
   "outputs": [],
   "source": [
    "def getData():\n",
    "    inputDataPath = r'C:\\Users\\s.patil\\Documents\\code\\fine\\examples\\Multi-regional_Energy_System_Workflow\\InputData'\n",
    "    data = {}\n",
    "\n",
    "    # Onshore data\n",
    "    capacityMax = pd.read_excel(os.path.join(inputDataPath, 'SpatialData_Germany', 'Wind', 'maxCapacityOnshore_GW_el.xlsx'),\n",
    "                                index_col=0, squeeze=True)\n",
    "    operationRateMax = pd.read_excel(\n",
    "        os.path.join(inputDataPath, 'SpatialData_Germany', 'Wind', 'maxOperationRateOnshore_el.xlsx'),\n",
    "                                                  header = 0, index_col = 0)\n",
    "\n",
    "    data.update({'Wind (onshore), capacityMax': capacityMax})\n",
    "    data.update({'Wind (onshore), operationRateMax': operationRateMax})\n",
    "\n",
    "    # Offshore data\n",
    "    capacityMax = pd.read_excel(os.path.join(inputDataPath, 'SpatialData_Germany', 'Wind', 'maxCapacityOffshore_GW_el.xlsx'),\n",
    "                                index_col=0, squeeze=True)\n",
    "    operationRateMax = pd.read_excel(\n",
    "        os.path.join(inputDataPath, 'SpatialData_Germany', 'Wind', 'maxOperationRateOffshore_el.xlsx'),\n",
    "                                                  header = 0, index_col = 0)\n",
    "\n",
    "    data.update({'Wind (offshore), capacityMax': capacityMax})\n",
    "    data.update({'Wind (offshore), operationRateMax': operationRateMax})\n",
    "\n",
    "    # PV data\n",
    "    capacityMax = pd.read_excel(os.path.join(inputDataPath, 'SpatialData_Germany', 'PV', 'maxCapacityPV_GW_el.xlsx'),\n",
    "                                index_col=0, squeeze=True)\n",
    "    operationRateMax = pd.read_excel(os.path.join(inputDataPath, 'SpatialData_Germany', 'PV', 'maxOperationRatePV_el.xlsx'),\n",
    "                                                  header = 0, index_col = 0)\n",
    "\n",
    "    data.update({'PV, capacityMax': capacityMax})\n",
    "    data.update({'PV, operationRateMax': operationRateMax})\n",
    "\n",
    "    # Run of river data\n",
    "    capacityFix = pd.read_excel(os.path.join(inputDataPath, 'SpatialData_Germany', 'HydroPower', 'fixCapacityROR_GW_el.xlsx'),\n",
    "                                index_col=0, squeeze=True)\n",
    "    operationRateFix = pd.read_excel(os.path.join(inputDataPath, 'SpatialData_Germany', 'HydroPower',\n",
    "                                                  'fixOperationRateROR.xlsx'),\n",
    "                                                  header = 0, index_col = 0)\n",
    "\n",
    "    data.update({'Existing run-of-river plants, capacityFix': capacityFix})\n",
    "    data.update({'Existing run-of-river plants, operationRateFix': operationRateFix})\n",
    "\n",
    "    # Biogas data\n",
    "    operationRateMax = pd.read_excel(os.path.join(inputDataPath, 'SpatialData_Germany', 'Biogas',\n",
    "                                                  'biogasPotential_GWh_biogas.xlsx'),\n",
    "                                                  header = 0, index_col = 0)\n",
    "\n",
    "    data.update({'Biogas, operationRateMax': operationRateMax})\n",
    "\n",
    "    biogasCommodityCostTimeSeries = pd.read_excel(os.path.join(inputDataPath, 'SpatialData_Germany', 'Biogas',\n",
    "                                                  'biogasPriceTimeSeries_MrdEuro_GWh.xlsx'),\n",
    "                                                  header = 0, index_col = 0)\n",
    "\n",
    "    data.update({'Biogas, commodityCostTimeSeries': biogasCommodityCostTimeSeries})\n",
    "\n",
    "    # Natural gas data\n",
    "    naturalGasCommodityCostTimeSeries = pd.read_excel(os.path.join(inputDataPath, 'SpatialData_Germany', 'NaturalGas',\n",
    "                                                  'naturalGasPriceTimeSeries_MrdEuro_GWh.xlsx'),\n",
    "                                                  header = 0, index_col = 0)\n",
    "\n",
    "    data.update({'Natural Gas, commodityCostTimeSeries': naturalGasCommodityCostTimeSeries})\n",
    "\n",
    "    # Natural gas plant data\n",
    "    capacityMax = pd.read_excel(os.path.join(inputDataPath, 'SpatialData_Germany', 'NaturalGasPlants',\n",
    "                                             'existingCombinedCycleGasTurbinePlantsCapacity_GW_el.xlsx'),\n",
    "                                index_col=0, squeeze=True)\n",
    "\n",
    "    data.update({'Existing CCGT plants (methane), capacityMax': capacityMax})\n",
    "\n",
    "    # Hydrogen salt cavern data\n",
    "    capacityMax = pd.read_excel(os.path.join(inputDataPath, 'SpatialData_Germany', 'GeologicalStorage',\n",
    "                                             'existingSaltCavernsCapacity_GWh_methane.xlsx'),\n",
    "                                index_col=0, squeeze=True) * 3 / 10\n",
    "\n",
    "    data.update({'Salt caverns (hydrogen), capacityMax': capacityMax})\n",
    "\n",
    "    # Methane salt cavern data\n",
    "    capacityMax = pd.read_excel(os.path.join(inputDataPath, 'SpatialData_Germany', 'GeologicalStorage',\n",
    "                                             'existingSaltCavernsCapacity_GWh_methane.xlsx'),\n",
    "                                index_col=0, squeeze=True)\n",
    "\n",
    "    data.update({'Salt caverns (methane), capacityMax': capacityMax})\n",
    "\n",
    "    # Pumped hydro storage data\n",
    "    capacityFix = pd.read_excel(os.path.join(inputDataPath, 'SpatialData_Germany', 'HydroPower',\n",
    "                                             'fixCapacityPHS_storage_GWh_energyPHS.xlsx'),\n",
    "                                index_col=0, squeeze=True)\n",
    "\n",
    "    data.update({'Pumped hydro storage, capacityFix': capacityFix})\n",
    "\n",
    "    # AC cables data\n",
    "    capacityFix = pd.read_excel(os.path.join(inputDataPath, 'SpatialData_Germany', 'ElectricGrid',\n",
    "                                             'ACcableExistingCapacity_GW_el.xlsx'),\n",
    "                                index_col=0, header=0)\n",
    "\n",
    "    data.update({'AC cables, capacityFix': capacityFix})\n",
    "\n",
    "    reactances = pd.read_excel(os.path.join(inputDataPath, 'SpatialData_Germany', 'ElectricGrid',\n",
    "                                            'ACcableReactance.xlsx'),\n",
    "                                index_col=0, header=0)\n",
    "\n",
    "    data.update({'AC cables, reactances': reactances})\n",
    "\n",
    "    # DC cables data\n",
    "    capacityFix = pd.read_excel(os.path.join(inputDataPath, 'SpatialData_Germany', 'ElectricGrid',\n",
    "                                             'DCcableExistingCapacity_GW_el.xlsx'),\n",
    "                                index_col=0, header=0)\n",
    "    distances = pd.read_excel(os.path.join(inputDataPath, 'SpatialData_Germany', 'ElectricGrid',\n",
    "                                           'DCcableLength_km.xlsx'),\n",
    "                              index_col=0, header=0)\n",
    "    losses = pd.read_excel(os.path.join(inputDataPath, 'SpatialData_Germany', 'ElectricGrid',\n",
    "                                        'DCcableLosses.xlsx'),\n",
    "                           index_col=0, header=0)\n",
    "\n",
    "    data.update({'DC cables, capacityFix': capacityFix})\n",
    "    data.update({'DC cables, distances': distances})\n",
    "    data.update({'DC cables, losses': losses})\n",
    "\n",
    "    # Pipelines data\n",
    "    eligibility = pd.read_excel(os.path.join(inputDataPath, 'SpatialData_Germany', 'Pipelines',\n",
    "                                             'pipelineIncidence.xlsx'), index_col=0, header=0)\n",
    "    distances = pd.read_excel(os.path.join(inputDataPath, 'SpatialData_Germany', 'Pipelines', 'pipelineLength.xlsx'),\n",
    "                              index_col=0, header=0)\n",
    "\n",
    "    data.update({'Pipelines, eligibility': eligibility})\n",
    "    data.update({'Pipelines, distances': distances})\n",
    "\n",
    "    # Electricity demand data\n",
    "    operationRateFix = pd.read_excel(os.path.join(inputDataPath, 'SpatialData_Germany', 'Demands',\n",
    "                                                  'electricityDemand_GWh_el.xlsx'),\n",
    "                                                  header = 0, index_col = 0)\n",
    "\n",
    "    data.update({'Electricity demand, operationRateFix': operationRateFix})\n",
    "\n",
    "    # Hydrogen demand data\n",
    "    operationRateFix = pd.read_excel(os.path.join(inputDataPath, 'SpatialData_Germany', 'Demands',\n",
    "                                                  'hydrogenDemand_GWh_hydrogen.xlsx'),\n",
    "                                                  header = 0, index_col = 0)\n",
    "\n",
    "    data.update({'Hydrogen demand, operationRateFix': operationRateFix})\n",
    "\n",
    "    return data"
   ]
  },
  {
   "cell_type": "code",
   "execution_count": null,
   "metadata": {},
   "outputs": [],
   "source": [
    "data = getData()"
   ]
  },
  {
   "cell_type": "code",
   "execution_count": null,
   "metadata": {},
   "outputs": [],
   "source": [
    "# 2. Create an energy system model instance\n",
    "locations = {'cluster_0', 'cluster_1', 'cluster_2', 'cluster_3', 'cluster_4', 'cluster_5', 'cluster_6', 'cluster_7'}\n",
    "commodityUnitDict = {'electricity': r'GW$_{el}$', 'methane': r'GW$_{CH_{4},LHV}$', 'biogas': r'GW$_{biogas,LHV}$',\n",
    "                         'CO2': r'Mio. t$_{CO_2}$/h', 'hydrogen': r'GW$_{H_{2},LHV}$'}\n",
    "commodities = {'electricity', 'hydrogen', 'methane', 'biogas', 'CO2'}\n",
    "numberOfTimeSteps=8760\n",
    "hoursPerTimeStep=1\n",
    "\n",
    "esM = fn.EnergySystemModel(locations=locations, commodities=commodities, numberOfTimeSteps=8760,\n",
    "                               commodityUnitsDict=commodityUnitDict,\n",
    "                               hoursPerTimeStep=1, costUnit='1e9 Euro', lengthUnit='km', verboseLogLevel=0)\n",
    "\n",
    "CO2_reductionTarget = 1\n",
    "\n",
    "\n",
    "# 3. Add commodity sources to the energy system model\n",
    "## 3.1. Electricity sources\n",
    "### Wind onshore\n",
    "\n",
    "esM.add(fn.Source(esM=esM, name='Wind (onshore)', commodity='electricity', hasCapacityVariable=True,\n",
    "                  operationRateMax=data['Wind (onshore), operationRateMax'],\n",
    "                  capacityMax=data['Wind (onshore), capacityMax'],\n",
    "                  investPerCapacity=1.1, opexPerCapacity=1.1*0.02, interestRate=0.08,\n",
    "                  economicLifetime=20))\n",
    "\n",
    "data['Wind (onshore), operationRateMax'].sum()\n",
    "\n",
    "\n",
    "### Wind offshore\n",
    "\n",
    "esM.add(fn.Source(esM=esM, name='Wind (offshore)', commodity='electricity', hasCapacityVariable=True,\n",
    "                  operationRateMax=data['Wind (offshore), operationRateMax'],\n",
    "                  capacityMax=data['Wind (offshore), capacityMax'],\n",
    "                  investPerCapacity=2.3, opexPerCapacity=2.3*0.02, interestRate=0.08,\n",
    "                  economicLifetime=20))\n",
    "\n",
    "data['Wind (offshore), operationRateMax'].sum()\n",
    "\n",
    "### PV\n",
    "\n",
    "esM.add(fn.Source(esM=esM, name='PV', commodity='electricity', hasCapacityVariable=True,\n",
    "                  operationRateMax=data['PV, operationRateMax'], capacityMax=data['PV, capacityMax'],\n",
    "                  investPerCapacity=0.65, opexPerCapacity=0.65*0.02, interestRate=0.08,\n",
    "                  economicLifetime=25))\n",
    "\n",
    "data['PV, operationRateMax'].sum()\n",
    "\n",
    "### Exisisting run-of-river hydroelectricity plants\n",
    "\n",
    "esM.add(fn.Source(esM=esM, name='Existing run-of-river plants', commodity='electricity',\n",
    "                  hasCapacityVariable=True,\n",
    "                  operationRateFix=data['Existing run-of-river plants, operationRateFix'], tsaWeight=0.01,\n",
    "                  capacityFix=data['Existing run-of-river plants, capacityFix'],\n",
    "                  investPerCapacity=0, opexPerCapacity=0.208))\n",
    "\n",
    "## 3.2. Methane (natural gas and biogas)\n",
    "### Natural gas\n",
    "esM.add(fn.Source(esM=esM, name='Natural gas purchase', commodity='methane',\n",
    "                  hasCapacityVariable=False, commodityCostTimeSeries=data['Natural Gas, commodityCostTimeSeries']))\n",
    "\n",
    "### Biogas\n",
    "esM.add(fn.Source(esM=esM, name='Biogas purchase', commodity='biogas',\n",
    "                  operationRateMax=data['Biogas, operationRateMax'], hasCapacityVariable=False,\n",
    "                  commodityCostTimeSeries=data['Biogas, commodityCostTimeSeries']))\n",
    "\n",
    "\n",
    "## 3.3 CO2\n",
    "### CO2\n",
    "\n",
    "esM.add(fn.Source(esM=esM, name='CO2 from enviroment', commodity='CO2',\n",
    "                  hasCapacityVariable=False, commodityLimitID='CO2 limit', yearlyLimit=366*(1-CO2_reductionTarget)))\n",
    "\n",
    "\n",
    "# 4. Add conversion components to the energy system model\n",
    "\n",
    "### Combined cycle gas turbine plants\n",
    "\n",
    "esM.add(fn.Conversion(esM=esM, name='CCGT plants (methane)', physicalUnit=r'GW$_{el}$',\n",
    "                      commodityConversionFactors={'electricity':1, 'methane':-1/0.625, 'CO2':201*1e-6/0.625},\n",
    "                      hasCapacityVariable=True,\n",
    "                      investPerCapacity=0.65, opexPerCapacity=0.021, interestRate=0.08,\n",
    "                      economicLifetime=33))\n",
    "\n",
    "\n",
    "### New combined cycle gas turbine plants for biogas\n",
    "\n",
    "esM.add(fn.Conversion(esM=esM, name='New CCGT plants (biogas)', physicalUnit=r'GW$_{el}$',\n",
    "                      commodityConversionFactors={'electricity':1, 'biogas':-1/0.635},\n",
    "                      hasCapacityVariable=True,\n",
    "                      investPerCapacity=0.7, opexPerCapacity=0.021, interestRate=0.08,\n",
    "                      economicLifetime=33))\n",
    "\n",
    "\n",
    "### New combined cycly gas turbines for hydrogen\n",
    "\n",
    "esM.add(fn.Conversion(esM=esM, name='New CCGT plants (hydrogen)', physicalUnit=r'GW$_{el}$',\n",
    "                      commodityConversionFactors={'electricity':1, 'hydrogen':-1/0.6},\n",
    "                      hasCapacityVariable=True,\n",
    "                      investPerCapacity=0.7, opexPerCapacity=0.021, interestRate=0.08,\n",
    "                      economicLifetime=33))\n",
    "\n",
    "### Electrolyzers\n",
    "\n",
    "esM.add(fn.Conversion(esM=esM, name='Electroylzers', physicalUnit=r'GW$_{el}$',\n",
    "                      commodityConversionFactors={'electricity':-1, 'hydrogen':0.7},\n",
    "                      hasCapacityVariable=True,\n",
    "                      investPerCapacity=0.5, opexPerCapacity=0.5*0.025, interestRate=0.08,\n",
    "                      economicLifetime=10))\n",
    "\n",
    "### rSOC\n",
    "\n",
    "capexRSOC=1.5\n",
    "\n",
    "esM.add(fn.Conversion(esM=esM, name='rSOEC', physicalUnit=r'GW$_{el}$', linkedConversionCapacityID='rSOC',\n",
    "                      commodityConversionFactors={'electricity':-1, 'hydrogen':0.6},\n",
    "                      hasCapacityVariable=True,\n",
    "                      investPerCapacity=capexRSOC/2, opexPerCapacity=capexRSOC*0.02/2, interestRate=0.08,\n",
    "                      economicLifetime=10))\n",
    "\n",
    "esM.add(fn.Conversion(esM=esM, name='rSOFC', physicalUnit=r'GW$_{el}$', linkedConversionCapacityID='rSOC',\n",
    "                      commodityConversionFactors={'electricity':1, 'hydrogen':-1/0.6},\n",
    "                      hasCapacityVariable=True,\n",
    "                      investPerCapacity=capexRSOC/2, opexPerCapacity=capexRSOC*0.02/2, interestRate=0.08,\n",
    "                      economicLifetime=10))\n",
    "\n",
    "\n",
    "# 5. Add commodity storages to the energy system model\n",
    "## 5.1. Electricity storage\n",
    "### Lithium ion batteries\n",
    "\n",
    "esM.add(fn.Storage(esM=esM, name='Li-ion batteries', commodity='electricity',\n",
    "                   hasCapacityVariable=True, chargeEfficiency=0.95,\n",
    "                   cyclicLifetime=10000, dischargeEfficiency=0.95, selfDischarge=1-(1-0.03)**(1/(30*24)),\n",
    "                   chargeRate=1, dischargeRate=1, doPreciseTsaModeling=False,\n",
    "                   investPerCapacity=0.151, opexPerCapacity=0.002, interestRate=0.08,\n",
    "                   economicLifetime=22))\n",
    "\n",
    "## 5.2. Hydrogen storage\n",
    "### Hydrogen filled salt caverns\n",
    "\n",
    "esM.add(fn.Storage(esM=esM, name='Salt caverns (hydrogen)', commodity='hydrogen',\n",
    "                   hasCapacityVariable=True, capacityVariableDomain='continuous',\n",
    "                   capacityPerPlantUnit=133,\n",
    "                   chargeRate=1/470.37, dischargeRate=1/470.37, sharedPotentialID='Existing salt caverns',\n",
    "                   stateOfChargeMin=0.33, stateOfChargeMax=1, capacityMax=data['Salt caverns (hydrogen), capacityMax'],\n",
    "                   investPerCapacity=0.00011, opexPerCapacity=0.00057, interestRate=0.08,\n",
    "                   economicLifetime=30))\n",
    "\n",
    "\n",
    "## 5.3. Methane storage\n",
    "### Methane filled salt caverns\n",
    "\n",
    "esM.add(fn.Storage(esM=esM, name='Salt caverns (biogas)', commodity='biogas',\n",
    "                   hasCapacityVariable=True, capacityVariableDomain='continuous',\n",
    "                   capacityPerPlantUnit=443,\n",
    "                   chargeRate=1/470.37, dischargeRate=1/470.37, sharedPotentialID='Existing salt caverns',\n",
    "                   stateOfChargeMin=0.33, stateOfChargeMax=1, capacityMax=data['Salt caverns (methane), capacityMax'],\n",
    "                   investPerCapacity=0.00004, opexPerCapacity=0.00001, interestRate=0.08,\n",
    "                   economicLifetime=30))\n",
    "\n",
    "\n",
    "## 5.4 Pumped hydro storage\n",
    "### Pumped hydro storage\n",
    "\n",
    "esM.add(fn.Storage(esM=esM, name='Pumped hydro storage', commodity='electricity',\n",
    "                   chargeEfficiency=0.88, dischargeEfficiency=0.88,\n",
    "                   hasCapacityVariable=True, selfDischarge=1-(1-0.00375)**(1/(30*24)),\n",
    "                   chargeRate=0.16, dischargeRate=0.12, capacityFix=data['Pumped hydro storage, capacityFix'],\n",
    "                   investPerCapacity=0, opexPerCapacity=0.000153))\n",
    "\n",
    "\n",
    "# 6. Add commodity transmission components to the energy system model\n",
    "## 6.1. Electricity transmission\n",
    "### AC cables\n",
    "\n",
    "esM.add(fn.LinearOptimalPowerFlow(esM=esM, name='AC cables', commodity='electricity',\n",
    "                                  hasCapacityVariable=True, capacityFix=data['AC cables, capacityFix'],\n",
    "                                  reactances=data['AC cables, reactances']))\n",
    "\n",
    "### DC cables\n",
    "\n",
    "esM.add(fn.Transmission(esM=esM, name='DC cables', commodity='electricity', losses=data['DC cables, losses'],\n",
    "                        distances=data['DC cables, distances'],\n",
    "                        hasCapacityVariable=True, capacityFix=data['DC cables, capacityFix']))\n",
    "\n",
    "\n",
    "## 6.2 Methane transmission\n",
    "### Methane pipeline\n",
    "\n",
    "esM.add(fn.Transmission(esM=esM, name='Pipelines (biogas)', commodity='biogas',\n",
    "                        distances=data['Pipelines, distances'],\n",
    "                        hasCapacityVariable=True, hasIsBuiltBinaryVariable=False, bigM=300,\n",
    "                            capacityMax=data['Pipelines, eligibility']*15, sharedPotentialID='pipelines',\n",
    "                            investPerCapacity=0.000037, investIfBuilt=0.000314,\n",
    "                            interestRate=0.08, economicLifetime=40))\n",
    "\n",
    "## 6.3 Hydrogen transmission\n",
    "### Hydrogen pipelines\n",
    "\n",
    "esM.add(fn.Transmission(esM=esM, name='Pipelines (hydrogen)', commodity='hydrogen',\n",
    "                            distances=data['Pipelines, distances'],\n",
    "                            hasCapacityVariable=True, hasIsBuiltBinaryVariable=False, bigM=300,\n",
    "                            locationalEligibility=data['Pipelines, eligibility'],\n",
    "                            capacityMax=data['Pipelines, eligibility']*15, sharedPotentialID='pipelines',\n",
    "                            investPerCapacity=0.000177, investIfBuilt=0.00033,\n",
    "                            interestRate=0.08, economicLifetime=40))\n",
    "\n",
    "# 7. Add commodity sinks to the energy system model\n",
    "## 7.1. Electricity sinks\n",
    "### Electricity demand\n",
    "\n",
    "esM.add(fn.Sink(esM=esM, name='Electricity demand', commodity='electricity',\n",
    "                    hasCapacityVariable=False, operationRateFix=data['Electricity demand, operationRateFix']))\n",
    "\n",
    "## 7.2. Hydrogen sinks\n",
    "### Fuel cell electric vehicle (FCEV) demand\n",
    "\n",
    "FCEV_penetration=0.5\n",
    "esM.add(fn.Sink(esM=esM, name='Hydrogen demand', commodity='hydrogen', hasCapacityVariable=False,\n",
    "                    operationRateFix=data['Hydrogen demand, operationRateFix']*FCEV_penetration))\n",
    "\n",
    "## 7.3. CO2 sinks\n",
    "### CO2 exiting the system's boundary\n",
    "\n",
    "esM.add(fn.Sink(esM=esM, name='CO2 to enviroment', commodity='CO2',\n",
    "                    hasCapacityVariable=False, commodityLimitID='CO2 limit', yearlyLimit=366*(1-CO2_reductionTarget)))\n",
    "\n",
    "# 8. Optimize energy system model\n",
    "\n",
    "# esM.cluster(numberOfTypicalPeriods=3)\n",
    "\n",
    "# esM.optimize(timeSeriesAggregation=True, solver = solver)\n"
   ]
  },
  {
   "cell_type": "code",
   "execution_count": null,
   "metadata": {},
   "outputs": [],
   "source": [
    "esM_Germany = esM"
   ]
  },
  {
   "cell_type": "code",
   "execution_count": null,
   "metadata": {},
   "outputs": [],
   "source": [
    "shp_Germany = 'C:/Users/s.patil/Documents/code/fine/examples/Multi-regional_Energy_System_Workflow/InputData/SpatialData_Germany/shapeFiles/clusteredRegions.shp'"
   ]
  },
  {
   "cell_type": "markdown",
   "metadata": {},
   "source": [
    "## dataset - EuropeanModel"
   ]
  },
  {
   "cell_type": "code",
   "execution_count": 4,
   "metadata": {},
   "outputs": [],
   "source": [
    "# Input files\n",
    "\n",
    "INPUT_PATH = 'C:/Users/s.patil/Documents/code/fine/examples/Multi-regional_Energy_System_Workflow/InputData/EuropeanModelData'\n",
    "\n",
    "input_data = os.path.join(INPUT_PATH,'new_EuropeanScenario_Ch5_Section1_DGC.nc')\n",
    "shp_Europe = os.path.join(INPUT_PATH,'supregions.shp')\n",
    "\n"
   ]
  },
  {
   "cell_type": "code",
   "execution_count": 5,
   "metadata": {},
   "outputs": [],
   "source": [
    "opM = OptimizationManager(input_data,\n",
    "                          commodityUnitsDict={'electricity': 'GW_el', \n",
    "                                              'hydrogen': 'GW_h2', \n",
    "                                              'water': 'GW_wt', \n",
    "                                              'waterRes':'GW_wt', \n",
    "                                              'biomass':'GW_bio'})"
   ]
  },
  {
   "cell_type": "code",
   "execution_count": 6,
   "metadata": {},
   "outputs": [
    {
     "name": "stdout",
     "output_type": "stream",
     "text": [
      "The distances of a component are set to a normalized value of 1.\n"
     ]
    }
   ],
   "source": [
    "esM_Europe = opM.setup()"
   ]
  },
  {
   "cell_type": "markdown",
   "metadata": {},
   "source": [
    "## Spatial grouping - sklearn hierarchical "
   ]
  },
  {
   "cell_type": "code",
   "execution_count": 7,
   "metadata": {},
   "outputs": [],
   "source": [
    "aggregation_function_dict = {'operationRateMax': ('weighted mean', 'capacityMax'),#\n",
    "                              'operationRateFix': ('sum', None),\n",
    "                              'locationalEligibility': ('bool', None),\n",
    "                              'capacityMax': ('sum', None),\n",
    "                              'investPerCapacity': ('mean', None),\n",
    "                              'investIfBuilt': ('bool', None),\n",
    "                              'opexPerOperation': ('mean', None),\n",
    "                              'opexPerCapacity': ('mean', None),\n",
    "                              'opexIfBuilt': ('bool', None),\n",
    "                              'interestRate': ('mean', None),\n",
    "                              'economicLifetime': ('mean', None),\n",
    "                              'capacityFix': ('sum', None),\n",
    "                              'losses': ('mean', None),\n",
    "                              'distances': ('mean', None),\n",
    "                              'commodityCost': ('mean', None),\n",
    "                              'commodityRevenue': ('mean', None),\n",
    "                              'opexPerChargeOperation': ('mean', None),\n",
    "                              'opexPerDischargeOperation': ('mean', None),\n",
    "                              'QPcostScale': ('sum', None), \n",
    "                              'technicalLifetime': ('sum', None),\n",
    "                              'reactances': ('sum', None), \n",
    "                              }"
   ]
  },
  {
   "cell_type": "code",
   "execution_count": null,
   "metadata": {},
   "outputs": [],
   "source": [
    "def checkConnectivity(connectivity_matrix):\n",
    "    is_diagonal_all_1 =  'all diagonal values are not 1' if any(a != 1 for a in np.diagonal(connectivity_matrix)) else 'all diagonal values are 1'\n",
    "    is_symmetric = 'symmetric'if (connectivity_matrix == connectivity_matrix.T).all() else 'not symmetric'\n",
    "    \n",
    "    length = len(connectMatrix)\n",
    "    is_connection = [] \n",
    "    for row in range(length):\n",
    "        if np.count_nonzero(connectMatrix[row] == 1) > 1:\n",
    "            is_connection.append(True)\n",
    "        else:\n",
    "            is_connection.append(False)\n",
    "    \n",
    "    if all(is_connection):\n",
    "        connected = \"all regions are connected\"\n",
    "    else:\n",
    "        connected = f\"regions are not connected. Hint: check region(s) at index {[i for i, x in enumerate(is_connection) if not x]}\"\n",
    "    \n",
    "    print(f'In the connectivity matrix: {is_diagonal_all_1}, the matrix is {is_symmetric}, and {connected}') \n",
    "         "
   ]
  },
  {
   "cell_type": "markdown",
   "metadata": {},
   "source": [
    "### Germany"
   ]
  },
  {
   "cell_type": "code",
   "execution_count": null,
   "metadata": {},
   "outputs": [],
   "source": [
    "# #STEP 1. Read in the shapefile \n",
    "# gdfRegions = gpd.read_file(shp_Germany)\n",
    "\n",
    "# #STEP 2. Obtain xr dataset from esM \n",
    "# sds = spd.SpagatDataset()\n",
    "# esm_dict, comp_dict = dictIO.exportToDict(esM_Germany)\n",
    "# sds.xr_dataset = xrIO.dimensional_data_to_xarray_dataset(esm_dict, comp_dict)\n",
    "\n",
    "# #STEP 3. Add shapefile information to sds\n",
    "# sds.add_objects(description='gpd_geometries',\n",
    "#                 dimension_list=['space'],\n",
    "#                 object_list=gdfRegions.geometry)\n",
    "# spr.add_region_centroids(sds, spatial_dim='space')"
   ]
  },
  {
   "cell_type": "code",
   "execution_count": null,
   "metadata": {},
   "outputs": [],
   "source": [
    "# #GROUPING\n",
    "# dimension_description='space'\n",
    "# regions_list = sds.xr_dataset[dimension_description].values\n",
    "# n_regions = len(regions_list)\n",
    "\n",
    "# aggregation_dict = {}\n",
    "# aggregation_dict[n_regions] = {region_id: [region_id] for region_id in regions_list}  \n",
    "\n",
    "# #STEP 0a. Preprocess the whole dataset with handle_mode='toDissimilarity'\n",
    "# dict_ts, dict_1d, dict_2d = gu.preprocessDataset(sds, handle_mode='toDissimilarity') \n",
    "\n",
    "# #STEP 0b. Calculate the overall distance between each region pair (uses custom distance)\n",
    "# precomputed_dist_matrix = gu.selfDistanceMatrix(dict_ts, dict_1d, dict_2d, n_regions)"
   ]
  },
  {
   "cell_type": "code",
   "execution_count": null,
   "metadata": {},
   "outputs": [],
   "source": [
    "# connectMatrix = gu.generateConnectivityMatrix(sds)"
   ]
  },
  {
   "cell_type": "code",
   "execution_count": null,
   "metadata": {},
   "outputs": [],
   "source": [
    "# connectMatrix"
   ]
  },
  {
   "cell_type": "code",
   "execution_count": null,
   "metadata": {},
   "outputs": [],
   "source": [
    "# checkConnectivity(connectMatrix)"
   ]
  },
  {
   "cell_type": "code",
   "execution_count": null,
   "metadata": {},
   "outputs": [],
   "source": [
    "# model = skc.AgglomerativeClustering(n_clusters=2,\n",
    "#                                     affinity='precomputed',\n",
    "#                                     linkage='average',\n",
    "#                                     connectivity=connectMatrix).fit(precomputed_dist_matrix)"
   ]
  },
  {
   "cell_type": "code",
   "execution_count": 12,
   "metadata": {},
   "outputs": [],
   "source": [
    "# Output files \n",
    "n_regions = 7\n",
    "groupingResult_xr_file = f'groupingResult_{n_regions}reg.nc4'\n",
    "groupingResult_shp_file = f'groupingResult_{n_regions}reg.shp'"
   ]
  },
  {
   "cell_type": "code",
   "execution_count": 13,
   "metadata": {},
   "outputs": [
    {
     "ename": "NameError",
     "evalue": "name 'esM_Germany' is not defined",
     "output_type": "error",
     "traceback": [
      "\u001b[1;31m---------------------------------------------------------------------------\u001b[0m",
      "\u001b[1;31mNameError\u001b[0m                                 Traceback (most recent call last)",
      "\u001b[1;32m<ipython-input-13-61ee2a44fc4a>\u001b[0m in \u001b[0;36m<module>\u001b[1;34m\u001b[0m\n\u001b[1;32m----> 1\u001b[1;33m aggregated_esM = esM_Germany.aggregateSpatially(shapefilePath = shp_Germany, \n\u001b[0m\u001b[0;32m      2\u001b[0m                                                 \u001b[0mgrouping_mode\u001b[0m\u001b[1;33m=\u001b[0m\u001b[1;34m'all_variable_based'\u001b[0m\u001b[1;33m,\u001b[0m\u001b[1;33m\u001b[0m\u001b[1;33m\u001b[0m\u001b[0m\n\u001b[0;32m      3\u001b[0m                                                 \u001b[0mnRegionsForRepresentation\u001b[0m \u001b[1;33m=\u001b[0m \u001b[0mn_regions\u001b[0m\u001b[1;33m,\u001b[0m\u001b[1;33m\u001b[0m\u001b[1;33m\u001b[0m\u001b[0m\n\u001b[0;32m      4\u001b[0m                                                 \u001b[0maggregatedResultsPath\u001b[0m \u001b[1;33m=\u001b[0m \u001b[1;34m'.'\u001b[0m\u001b[1;33m,\u001b[0m\u001b[1;33m\u001b[0m\u001b[1;33m\u001b[0m\u001b[0m\n\u001b[0;32m      5\u001b[0m                                                 \u001b[0magg_mode\u001b[0m\u001b[1;33m=\u001b[0m\u001b[1;34m'sklearn_hierarchical'\u001b[0m\u001b[1;33m,\u001b[0m\u001b[1;33m\u001b[0m\u001b[1;33m\u001b[0m\u001b[0m\n",
      "\u001b[1;31mNameError\u001b[0m: name 'esM_Germany' is not defined"
     ]
    }
   ],
   "source": [
    "aggregated_esM = esM_Germany.aggregateSpatially(shapefilePath = shp_Germany, \n",
    "                                                grouping_mode='all_variable_based', \n",
    "                                                nRegionsForRepresentation = n_regions,\n",
    "                                                aggregatedResultsPath = '.',\n",
    "                                                agg_mode='sklearn_hierarchical',\n",
    "                                                sds_region_filename=groupingResult_shp_file,\n",
    "                                                sds_xr_dataset_filename=groupingResult_xr_file) "
   ]
  },
  {
   "cell_type": "code",
   "execution_count": null,
   "metadata": {},
   "outputs": [],
   "source": [
    "# gpd.read_file(groupingResult_shp_file)"
   ]
  },
  {
   "cell_type": "code",
   "execution_count": null,
   "metadata": {},
   "outputs": [],
   "source": [
    "fig, ax = fn.plotLocations(groupingResult_shp_file, \n",
    "                           plotLocNames=False, \n",
    "                           indexColumn='space',\n",
    "                           faceColor=color_list)"
   ]
  },
  {
   "cell_type": "code",
   "execution_count": null,
   "metadata": {},
   "outputs": [],
   "source": [
    "fig, ax = fn.plotLocations(shp_Germany, plotLocNames=True, indexColumn='index')"
   ]
  },
  {
   "cell_type": "markdown",
   "metadata": {},
   "source": [
    "### Europe"
   ]
  },
  {
   "cell_type": "code",
   "execution_count": null,
   "metadata": {},
   "outputs": [],
   "source": [
    "# #STEP 1. Read in the shapefile \n",
    "# gdfRegions = gpd.read_file(shp_Europe)\n",
    "\n",
    "# #STEP 2. Obtain xr dataset from esM \n",
    "# sds = spd.SpagatDataset()\n",
    "# esm_dict, comp_dict = dictIO.exportToDict(esM_Europe)\n",
    "# sds.xr_dataset = xrIO.dimensional_data_to_xarray_dataset(esm_dict, comp_dict)\n",
    "\n",
    "# #STEP 3. Add shapefile information to sds\n",
    "# sds.add_objects(description='gpd_geometries',\n",
    "#                 dimension_list=['space'],\n",
    "#                 object_list=gdfRegions.geometry)\n",
    "# spr.add_region_centroids(sds, spatial_dim='space')"
   ]
  },
  {
   "cell_type": "code",
   "execution_count": null,
   "metadata": {},
   "outputs": [],
   "source": [
    "# #GROUPING\n",
    "# dimension_description='space'\n",
    "# regions_list = sds.xr_dataset[dimension_description].values\n",
    "# n_regions = len(regions_list)\n",
    "\n",
    "# aggregation_dict = {}\n",
    "# aggregation_dict[n_regions] = {region_id: [region_id] for region_id in regions_list}  \n",
    "\n",
    "# #STEP 0a. Preprocess the whole dataset with handle_mode='toDissimilarity'\n",
    "# dict_ts, dict_1d, dict_2d = gu.preprocessDataset(sds, handle_mode='toDissimilarity') \n",
    "\n",
    "# #STEP 0b. Calculate the overall distance between each region pair (uses custom distance)\n",
    "# precomputed_dist_matrix = gu.selfDistanceMatrix(dict_ts, dict_1d, dict_2d, n_regions)"
   ]
  },
  {
   "cell_type": "code",
   "execution_count": null,
   "metadata": {},
   "outputs": [],
   "source": [
    "# connectMatrix = gu.generateConnectivityMatrix(sds)"
   ]
  },
  {
   "cell_type": "code",
   "execution_count": 32,
   "metadata": {},
   "outputs": [],
   "source": [
    "# Output files \n",
    "n_regions = 6\n",
    "groupingResult_xr_file = f'groupingResult_{n_regions}reg.nc4'\n",
    "groupingResult_shp_file = f'groupingResult_{n_regions}reg.shp'"
   ]
  },
  {
   "cell_type": "code",
   "execution_count": 33,
   "metadata": {},
   "outputs": [
    {
     "name": "stdout",
     "output_type": "stream",
     "text": [
      "Performing all variable-based clustering on the regions. Clustering mode: sklearn_hierarchical\n"
     ]
    },
    {
     "name": "stderr",
     "output_type": "stream",
     "text": [
      " c:\\users\\s.patil\\documents\\code\\fine\\FINE\\spagat\\grouping_utils.py:271: UserWarning:Variable gpd_geometries has dimensions ('space',) which are not considered for spatial aggregation.\n",
      " c:\\users\\s.patil\\documents\\code\\fine\\FINE\\spagat\\grouping_utils.py:271: UserWarning:Variable gpd_centroids has dimensions ('space',) which are not considered for spatial aggregation.\n"
     ]
    },
    {
     "name": "stdout",
     "output_type": "stream",
     "text": [
      "The cophenetic correlation coefficient of the hiearchical clustering is  0.5620275126621418\n",
      "Inconsistencies: [0.0, 0.0, 0.0, 0.7071067811865486, 0.0, 0.0, 0.0, 0.0, 0.0, 0.0, 0.7071067811865528, 0.0, 0.7071067811880829, 0.7071067811865469, 0.0, 0.7071067811865456, 0.7071067811865529, 0.7071067811865474, 0.7071067811865508, 0.7071067811865459, 0.6542387016444168, 0.7071067811883113, 0.0, 1.1186427590226695, 0.0, 0.0, 0.0, 0.0, 0.0, 1.0956851798313658, 0.0, 0.7071067811865561, 0.7071067811865477, 0.70710678118651, 0.0, 0.707106781164566, 0.0, 0.7071067811865512, 0.707106781186535, 0.0, 0.0, 0.0, 0.7071067811865425, 0.7071067811865475, 0.9857827843183673, 0.707106781186548, 1.017155815024377, 0.0, 0.0, 1.0440295850902683, 0.7071067811865474, 0.7942141780692772, 0.7071067811865478, 1.020785804706473, 0.0, 0.7071067811865476, 0.7071067811865476, 0.7071067811865434, 1.073050860057954, 0.7692939113142074, 1.093579067779541, 0.7071067811864602, 0.8520599925863961, 0.7071067811865471, 0.7071067811865388, 0.7071067811865551, 1.000051485609662, 0.8569890530642083, 0.7071067811865474, 0.7071067811866334, 0.7071067811865834, 1.114095582938629, 0.7071067811865464, 0.7071067811865455, 0.5932719984890192, 0.7071067811865498, 0.7071067811865476, 0.7804714981898248, 0.7071067811865498, 0.7071067811862003, 0.7071067811865478, 0.7071067811866083, 0.6413429227957422, 0.7071067811865298, 0.6203206235660074, 0.6047847018766266, 0.7071067811722584, 0.70710678118611, 0.7251332976143475, 0.6856582136690744, 1.0598551065747233, 0.7071067811865475, 0.7071067811865478, 0.8377589197352046, 0.7969040178355088]\n",
      "Silhouette scores:  [-0.0498137322516356, 0.041908038538514804, 0.008937177829858258, -0.04500331200410057, 0.09779414811734395, 0.06335599715689277, 0.1377219842091785, 0.11288664064801956, 0.07828819640844809, 0.08752001271736982, 0.14356267626254207, 0.1466078870095984, 0.14883951170534, 0.10964951711398428, 0.08349490156774393, 0.07483883499079995, 0.07122529985880387, 0.10680272349380093, 0.09618827270324774, 0.10261459834587534, 0.11952039455325147, 0.12289470947245089, 0.11668622213899556, 0.1337828972421054, 0.13080372692486578, 0.1407450367265059, 0.15703294620603123, 0.16111823896539432, 0.16678066911505782, 0.1478455181409092, 0.13210049838605986, 0.130621094562943, 0.1832746141857308, 0.15689297026747198, 0.1760388045622202, 0.1820457583420214, 0.17810917134634874, 0.17334117138244942, 0.1696159851496399, 0.1738564225437044, 0.15998409136968766, 0.17029943931083782, 0.16991754324958475, 0.2057146411250997, 0.2007585422988698, 0.21210897124329864, 0.20908851340590584, 0.18779668916743167, 0.19872810290727097, 0.20003520445702516, 0.21388574989612974, 0.22009241825807901, 0.21703235577602994, 0.20652848526252976, 0.19695630715582899, 0.19004772910134685, 0.18754048008583404, 0.17766421183740336, 0.1705324747630604, 0.15267919611858402, 0.1467663233597213, 0.15007007031250677, 0.152406691327265, 0.1488497068594341, 0.13913046631898973, 0.18128795000318396, 0.16987450304468787, 0.16366387716682615, 0.15454246831954177, 0.15026826033544302, 0.13972524267402406, 0.14796674053919143, 0.13743525204378956, 0.11920387021630902, 0.13163537453636895, 0.1347655489874957, 0.12088398299417762, 0.12388597217131521, 0.10375487550036096, 0.095287457500496, 0.08867529697384358, 0.09172950230530084, 0.09413433039154874, 0.08955800118501021, 0.0907774760547434, 0.08014699179976305, 0.06924970394170776, 0.06321985131630392, 0.058185615631716675, 0.05159898864934428, 0.037598130766922117, 0.04042543082312058, 0.025044812067898256, 0.011019039066446345]\n",
      "elapsed time for all_variable_based_clustering: 1.73 minutes\n",
      "Aggregation mode for 2d_locationalEligibility set to bool as only binary values are acceptable for this variable\n",
      "Aggregation mode for 1d_locationalEligibility set to bool as only binary values are acceptable for this variable\n"
     ]
    },
    {
     "name": "stderr",
     "output_type": "stream",
     "text": [
      " c:\\users\\s.patil\\documents\\code\\fine\\FINE\\spagat\\representation.py:120: VisibleDeprecationWarning:Creating an ndarray from ragged nested sequences (which is a list-or-tuple of lists-or-tuples-or ndarrays with different lengths or shapes) is deprecated. If you meant to do this, you must specify 'dtype=object' when creating the ndarray\n",
      " c:\\users\\s.patil\\documents\\code\\fine\\FINE\\utils.py:1049: UserWarning:Pandas doesn't allow columns to be created via a new attribute name - see https://pandas.pydata.org/pandas-docs/stable/indexing.html#attribute-access\n",
      " c:\\users\\s.patil\\documents\\code\\fine\\FINE\\utils.py:1049: UserWarning:Pandas doesn't allow columns to be created via a new attribute name - see https://pandas.pydata.org/pandas-docs/stable/indexing.html#attribute-access\n",
      " c:\\users\\s.patil\\documents\\code\\fine\\FINE\\utils.py:1049: UserWarning:Pandas doesn't allow columns to be created via a new attribute name - see https://pandas.pydata.org/pandas-docs/stable/indexing.html#attribute-access\n",
      " c:\\users\\s.patil\\documents\\code\\fine\\FINE\\utils.py:1049: UserWarning:Pandas doesn't allow columns to be created via a new attribute name - see https://pandas.pydata.org/pandas-docs/stable/indexing.html#attribute-access\n",
      " c:\\users\\s.patil\\documents\\code\\fine\\FINE\\utils.py:1049: UserWarning:Pandas doesn't allow columns to be created via a new attribute name - see https://pandas.pydata.org/pandas-docs/stable/indexing.html#attribute-access\n",
      " c:\\users\\s.patil\\documents\\code\\fine\\FINE\\utils.py:1049: UserWarning:Pandas doesn't allow columns to be created via a new attribute name - see https://pandas.pydata.org/pandas-docs/stable/indexing.html#attribute-access\n",
      " c:\\users\\s.patil\\documents\\code\\fine\\FINE\\utils.py:1049: UserWarning:Pandas doesn't allow columns to be created via a new attribute name - see https://pandas.pydata.org/pandas-docs/stable/indexing.html#attribute-access\n",
      " c:\\users\\s.patil\\documents\\code\\fine\\FINE\\utils.py:1049: UserWarning:Pandas doesn't allow columns to be created via a new attribute name - see https://pandas.pydata.org/pandas-docs/stable/indexing.html#attribute-access\n",
      " c:\\users\\s.patil\\documents\\code\\fine\\FINE\\utils.py:1049: UserWarning:Pandas doesn't allow columns to be created via a new attribute name - see https://pandas.pydata.org/pandas-docs/stable/indexing.html#attribute-access\n",
      " c:\\users\\s.patil\\documents\\code\\fine\\FINE\\utils.py:1049: UserWarning:Pandas doesn't allow columns to be created via a new attribute name - see https://pandas.pydata.org/pandas-docs/stable/indexing.html#attribute-access\n"
     ]
    },
    {
     "name": "stdout",
     "output_type": "stream",
     "text": [
      "elapsed time for save_sds: 0.11 minutes\n"
     ]
    }
   ],
   "source": [
    "aggregated_esM = esM_Europe.aggregateSpatially(shapefilePath = shp_Europe, \n",
    "                                                grouping_mode='all_variable_based', \n",
    "                                                nRegionsForRepresentation = n_regions,\n",
    "                                                aggregatedResultsPath = '.',\n",
    "                                                agg_mode='sklearn_hierarchical',\n",
    "                                                sds_region_filename=groupingResult_shp_file,\n",
    "                                                sds_xr_dataset_filename=groupingResult_xr_file) "
   ]
  },
  {
   "cell_type": "code",
   "execution_count": 36,
   "metadata": {},
   "outputs": [
    {
     "data": {
      "image/png": "[encoded data removed]",
      "text/plain": [
       "<Figure size 432x432 with 1 Axes>"
      ]
     },
     "metadata": {
      "needs_background": "light"
     },
     "output_type": "display_data"
    }
   ],
   "source": [
    "fig, ax = fn.plotLocations(groupingResult_shp_file, \n",
    "                           plotLocNames=False, \n",
    "                           indexColumn='space',\n",
    "                          faceColor=color_palette)                         "
   ]
  },
  {
   "cell_type": "code",
   "execution_count": null,
   "metadata": {},
   "outputs": [],
   "source": []
  }
 ],
 "metadata": {
  "kernelspec": {
   "display_name": "Python 3",
   "language": "python",
   "name": "python3"
  },
  "language_info": {
   "codemirror_mode": {
    "name": "ipython",
    "version": 3
   },
   "file_extension": ".py",
   "mimetype": "text/x-python",
   "name": "python",
   "nbconvert_exporter": "python",
   "pygments_lexer": "ipython3",
   "version": "3.7.8"
  }
 },
 "nbformat": 4,
 "nbformat_minor": 4
}
