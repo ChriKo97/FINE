{
 "cells": [
  {
   "cell_type": "code",
   "execution_count": 1,
   "metadata": {},
   "outputs": [],
   "source": [
    "import xarray as xr\n",
    "import numpy as np\n",
    "import pandas as pd\n",
    "import geopandas\n",
    "import warnings\n",
    "\n",
    "from sklearn import preprocessing as prep\n",
    "from scipy.cluster import hierarchy\n",
    "from sklearn import metrics\n",
    "\n",
    "import FINE.spagat.dataset as spd\n",
    "from ipynb.fs.full import grouping_utils"
   ]
  },
  {
   "cell_type": "markdown",
   "metadata": {},
   "source": [
    "## test dataset - (test_dataset2)"
   ]
  },
  {
   "cell_type": "code",
   "execution_count": 2,
   "metadata": {},
   "outputs": [
    {
     "data": {
      "text/html": [
       "<div><svg style=\"position: absolute; width: 0; height: 0; overflow: hidden\">\n",
       "<defs>\n",
       "<symbol id=\"icon-database\" viewBox=\"0 0 32 32\">\n",
       "<path d=\"M16 0c-8.837 0-16 2.239-16 5v4c0 2.761 7.163 5 16 5s16-2.239 16-5v-4c0-2.761-7.163-5-16-5z\"></path>\n",
       "<path d=\"M16 17c-8.837 0-16-2.239-16-5v6c0 2.761 7.163 5 16 5s16-2.239 16-5v-6c0 2.761-7.163 5-16 5z\"></path>\n",
       "<path d=\"M16 26c-8.837 0-16-2.239-16-5v6c0 2.761 7.163 5 16 5s16-2.239 16-5v-6c0 2.761-7.163 5-16 5z\"></path>\n",
       "</symbol>\n",
       "<symbol id=\"icon-file-text2\" viewBox=\"0 0 32 32\">\n",
       "<path d=\"M28.681 7.159c-0.694-0.947-1.662-2.053-2.724-3.116s-2.169-2.030-3.116-2.724c-1.612-1.182-2.393-1.319-2.841-1.319h-15.5c-1.378 0-2.5 1.121-2.5 2.5v27c0 1.378 1.122 2.5 2.5 2.5h23c1.378 0 2.5-1.122 2.5-2.5v-19.5c0-0.448-0.137-1.23-1.319-2.841zM24.543 5.457c0.959 0.959 1.712 1.825 2.268 2.543h-4.811v-4.811c0.718 0.556 1.584 1.309 2.543 2.268zM28 29.5c0 0.271-0.229 0.5-0.5 0.5h-23c-0.271 0-0.5-0.229-0.5-0.5v-27c0-0.271 0.229-0.5 0.5-0.5 0 0 15.499-0 15.5 0v7c0 0.552 0.448 1 1 1h7v19.5z\"></path>\n",
       "<path d=\"M23 26h-14c-0.552 0-1-0.448-1-1s0.448-1 1-1h14c0.552 0 1 0.448 1 1s-0.448 1-1 1z\"></path>\n",
       "<path d=\"M23 22h-14c-0.552 0-1-0.448-1-1s0.448-1 1-1h14c0.552 0 1 0.448 1 1s-0.448 1-1 1z\"></path>\n",
       "<path d=\"M23 18h-14c-0.552 0-1-0.448-1-1s0.448-1 1-1h14c0.552 0 1 0.448 1 1s-0.448 1-1 1z\"></path>\n",
       "</symbol>\n",
       "</defs>\n",
       "</svg>\n",
       "<style>/* CSS stylesheet for displaying xarray objects in jupyterlab.\n",
       " *\n",
       " */\n",
       "\n",
       ":root {\n",
       "  --xr-font-color0: var(--jp-content-font-color0, rgba(0, 0, 0, 1));\n",
       "  --xr-font-color2: var(--jp-content-font-color2, rgba(0, 0, 0, 0.54));\n",
       "  --xr-font-color3: var(--jp-content-font-color3, rgba(0, 0, 0, 0.38));\n",
       "  --xr-border-color: var(--jp-border-color2, #e0e0e0);\n",
       "  --xr-disabled-color: var(--jp-layout-color3, #bdbdbd);\n",
       "  --xr-background-color: var(--jp-layout-color0, white);\n",
       "  --xr-background-color-row-even: var(--jp-layout-color1, white);\n",
       "  --xr-background-color-row-odd: var(--jp-layout-color2, #eeeeee);\n",
       "}\n",
       "\n",
       "html[theme=dark],\n",
       "body.vscode-dark {\n",
       "  --xr-font-color0: rgba(255, 255, 255, 1);\n",
       "  --xr-font-color2: rgba(255, 255, 255, 0.54);\n",
       "  --xr-font-color3: rgba(255, 255, 255, 0.38);\n",
       "  --xr-border-color: #1F1F1F;\n",
       "  --xr-disabled-color: #515151;\n",
       "  --xr-background-color: #111111;\n",
       "  --xr-background-color-row-even: #111111;\n",
       "  --xr-background-color-row-odd: #313131;\n",
       "}\n",
       "\n",
       ".xr-wrap {\n",
       "  display: block;\n",
       "  min-width: 300px;\n",
       "  max-width: 700px;\n",
       "}\n",
       "\n",
       ".xr-text-repr-fallback {\n",
       "  /* fallback to plain text repr when CSS is not injected (untrusted notebook) */\n",
       "  display: none;\n",
       "}\n",
       "\n",
       ".xr-header {\n",
       "  padding-top: 6px;\n",
       "  padding-bottom: 6px;\n",
       "  margin-bottom: 4px;\n",
       "  border-bottom: solid 1px var(--xr-border-color);\n",
       "}\n",
       "\n",
       ".xr-header > div,\n",
       ".xr-header > ul {\n",
       "  display: inline;\n",
       "  margin-top: 0;\n",
       "  margin-bottom: 0;\n",
       "}\n",
       "\n",
       ".xr-obj-type,\n",
       ".xr-array-name {\n",
       "  margin-left: 2px;\n",
       "  margin-right: 10px;\n",
       "}\n",
       "\n",
       ".xr-obj-type {\n",
       "  color: var(--xr-font-color2);\n",
       "}\n",
       "\n",
       ".xr-sections {\n",
       "  padding-left: 0 !important;\n",
       "  display: grid;\n",
       "  grid-template-columns: 150px auto auto 1fr 20px 20px;\n",
       "}\n",
       "\n",
       ".xr-section-item {\n",
       "  display: contents;\n",
       "}\n",
       "\n",
       ".xr-section-item input {\n",
       "  display: none;\n",
       "}\n",
       "\n",
       ".xr-section-item input + label {\n",
       "  color: var(--xr-disabled-color);\n",
       "}\n",
       "\n",
       ".xr-section-item input:enabled + label {\n",
       "  cursor: pointer;\n",
       "  color: var(--xr-font-color2);\n",
       "}\n",
       "\n",
       ".xr-section-item input:enabled + label:hover {\n",
       "  color: var(--xr-font-color0);\n",
       "}\n",
       "\n",
       ".xr-section-summary {\n",
       "  grid-column: 1;\n",
       "  color: var(--xr-font-color2);\n",
       "  font-weight: 500;\n",
       "}\n",
       "\n",
       ".xr-section-summary > span {\n",
       "  display: inline-block;\n",
       "  padding-left: 0.5em;\n",
       "}\n",
       "\n",
       ".xr-section-summary-in:disabled + label {\n",
       "  color: var(--xr-font-color2);\n",
       "}\n",
       "\n",
       ".xr-section-summary-in + label:before {\n",
       "  display: inline-block;\n",
       "  content: '►';\n",
       "  font-size: 11px;\n",
       "  width: 15px;\n",
       "  text-align: center;\n",
       "}\n",
       "\n",
       ".xr-section-summary-in:disabled + label:before {\n",
       "  color: var(--xr-disabled-color);\n",
       "}\n",
       "\n",
       ".xr-section-summary-in:checked + label:before {\n",
       "  content: '▼';\n",
       "}\n",
       "\n",
       ".xr-section-summary-in:checked + label > span {\n",
       "  display: none;\n",
       "}\n",
       "\n",
       ".xr-section-summary,\n",
       ".xr-section-inline-details {\n",
       "  padding-top: 4px;\n",
       "  padding-bottom: 4px;\n",
       "}\n",
       "\n",
       ".xr-section-inline-details {\n",
       "  grid-column: 2 / -1;\n",
       "}\n",
       "\n",
       ".xr-section-details {\n",
       "  display: none;\n",
       "  grid-column: 1 / -1;\n",
       "  margin-bottom: 5px;\n",
       "}\n",
       "\n",
       ".xr-section-summary-in:checked ~ .xr-section-details {\n",
       "  display: contents;\n",
       "}\n",
       "\n",
       ".xr-array-wrap {\n",
       "  grid-column: 1 / -1;\n",
       "  display: grid;\n",
       "  grid-template-columns: 20px auto;\n",
       "}\n",
       "\n",
       ".xr-array-wrap > label {\n",
       "  grid-column: 1;\n",
       "  vertical-align: top;\n",
       "}\n",
       "\n",
       ".xr-preview {\n",
       "  color: var(--xr-font-color3);\n",
       "}\n",
       "\n",
       ".xr-array-preview,\n",
       ".xr-array-data {\n",
       "  padding: 0 5px !important;\n",
       "  grid-column: 2;\n",
       "}\n",
       "\n",
       ".xr-array-data,\n",
       ".xr-array-in:checked ~ .xr-array-preview {\n",
       "  display: none;\n",
       "}\n",
       "\n",
       ".xr-array-in:checked ~ .xr-array-data,\n",
       ".xr-array-preview {\n",
       "  display: inline-block;\n",
       "}\n",
       "\n",
       ".xr-dim-list {\n",
       "  display: inline-block !important;\n",
       "  list-style: none;\n",
       "  padding: 0 !important;\n",
       "  margin: 0;\n",
       "}\n",
       "\n",
       ".xr-dim-list li {\n",
       "  display: inline-block;\n",
       "  padding: 0;\n",
       "  margin: 0;\n",
       "}\n",
       "\n",
       ".xr-dim-list:before {\n",
       "  content: '(';\n",
       "}\n",
       "\n",
       ".xr-dim-list:after {\n",
       "  content: ')';\n",
       "}\n",
       "\n",
       ".xr-dim-list li:not(:last-child):after {\n",
       "  content: ',';\n",
       "  padding-right: 5px;\n",
       "}\n",
       "\n",
       ".xr-has-index {\n",
       "  font-weight: bold;\n",
       "}\n",
       "\n",
       ".xr-var-list,\n",
       ".xr-var-item {\n",
       "  display: contents;\n",
       "}\n",
       "\n",
       ".xr-var-item > div,\n",
       ".xr-var-item label,\n",
       ".xr-var-item > .xr-var-name span {\n",
       "  background-color: var(--xr-background-color-row-even);\n",
       "  margin-bottom: 0;\n",
       "}\n",
       "\n",
       ".xr-var-item > .xr-var-name:hover span {\n",
       "  padding-right: 5px;\n",
       "}\n",
       "\n",
       ".xr-var-list > li:nth-child(odd) > div,\n",
       ".xr-var-list > li:nth-child(odd) > label,\n",
       ".xr-var-list > li:nth-child(odd) > .xr-var-name span {\n",
       "  background-color: var(--xr-background-color-row-odd);\n",
       "}\n",
       "\n",
       ".xr-var-name {\n",
       "  grid-column: 1;\n",
       "}\n",
       "\n",
       ".xr-var-dims {\n",
       "  grid-column: 2;\n",
       "}\n",
       "\n",
       ".xr-var-dtype {\n",
       "  grid-column: 3;\n",
       "  text-align: right;\n",
       "  color: var(--xr-font-color2);\n",
       "}\n",
       "\n",
       ".xr-var-preview {\n",
       "  grid-column: 4;\n",
       "}\n",
       "\n",
       ".xr-var-name,\n",
       ".xr-var-dims,\n",
       ".xr-var-dtype,\n",
       ".xr-preview,\n",
       ".xr-attrs dt {\n",
       "  white-space: nowrap;\n",
       "  overflow: hidden;\n",
       "  text-overflow: ellipsis;\n",
       "  padding-right: 10px;\n",
       "}\n",
       "\n",
       ".xr-var-name:hover,\n",
       ".xr-var-dims:hover,\n",
       ".xr-var-dtype:hover,\n",
       ".xr-attrs dt:hover {\n",
       "  overflow: visible;\n",
       "  width: auto;\n",
       "  z-index: 1;\n",
       "}\n",
       "\n",
       ".xr-var-attrs,\n",
       ".xr-var-data {\n",
       "  display: none;\n",
       "  background-color: var(--xr-background-color) !important;\n",
       "  padding-bottom: 5px !important;\n",
       "}\n",
       "\n",
       ".xr-var-attrs-in:checked ~ .xr-var-attrs,\n",
       ".xr-var-data-in:checked ~ .xr-var-data {\n",
       "  display: block;\n",
       "}\n",
       "\n",
       ".xr-var-data > table {\n",
       "  float: right;\n",
       "}\n",
       "\n",
       ".xr-var-name span,\n",
       ".xr-var-data,\n",
       ".xr-attrs {\n",
       "  padding-left: 25px !important;\n",
       "}\n",
       "\n",
       ".xr-attrs,\n",
       ".xr-var-attrs,\n",
       ".xr-var-data {\n",
       "  grid-column: 1 / -1;\n",
       "}\n",
       "\n",
       "dl.xr-attrs {\n",
       "  padding: 0;\n",
       "  margin: 0;\n",
       "  display: grid;\n",
       "  grid-template-columns: 125px auto;\n",
       "}\n",
       "\n",
       ".xr-attrs dt, dd {\n",
       "  padding: 0;\n",
       "  margin: 0;\n",
       "  float: left;\n",
       "  padding-right: 10px;\n",
       "  width: auto;\n",
       "}\n",
       "\n",
       ".xr-attrs dt {\n",
       "  font-weight: normal;\n",
       "  grid-column: 1;\n",
       "}\n",
       "\n",
       ".xr-attrs dt:hover span {\n",
       "  display: inline-block;\n",
       "  background: var(--xr-background-color);\n",
       "  padding-right: 10px;\n",
       "}\n",
       "\n",
       ".xr-attrs dd {\n",
       "  grid-column: 2;\n",
       "  white-space: pre-wrap;\n",
       "  word-break: break-all;\n",
       "}\n",
       "\n",
       ".xr-icon-database,\n",
       ".xr-icon-file-text2 {\n",
       "  display: inline-block;\n",
       "  vertical-align: middle;\n",
       "  width: 1em;\n",
       "  height: 1.5em !important;\n",
       "  stroke-width: 0;\n",
       "  stroke: currentColor;\n",
       "  fill: currentColor;\n",
       "}\n",
       "</style><pre class='xr-text-repr-fallback'>&lt;xarray.Dataset&gt;\n",
       "Dimensions:           (Period: 1, TimeStep: 2, component: 4, space: 3, space_2: 3)\n",
       "Coordinates:\n",
       "  * component         (component) &lt;U2 &#x27;c1&#x27; &#x27;c2&#x27; &#x27;c3&#x27; &#x27;c4&#x27;\n",
       "  * Period            (Period) int32 0\n",
       "  * TimeStep          (TimeStep) &lt;U2 &#x27;T0&#x27; &#x27;T1&#x27;\n",
       "  * space             (space) &lt;U6 &#x27;01_reg&#x27; &#x27;02_reg&#x27; &#x27;03_reg&#x27;\n",
       "  * space_2           (space_2) &lt;U6 &#x27;01_reg&#x27; &#x27;02_reg&#x27; &#x27;03_reg&#x27;\n",
       "Data variables:\n",
       "    operationFixRate  (component, Period, TimeStep, space) float64 nan ... 1.0\n",
       "    1d_capacity       (component, space) float64 0.9 1.0 0.9 0.0 ... nan nan nan\n",
       "    2d_distance       (component, space, space_2) float64 0.0 1.0 ... nan nan</pre><div class='xr-wrap' hidden><div class='xr-header'><div class='xr-obj-type'>xarray.Dataset</div></div><ul class='xr-sections'><li class='xr-section-item'><input id='section-c871fc9d-7fa2-4ca0-a852-c8dcf8b38a63' class='xr-section-summary-in' type='checkbox' disabled ><label for='section-c871fc9d-7fa2-4ca0-a852-c8dcf8b38a63' class='xr-section-summary'  title='Expand/collapse section'>Dimensions:</label><div class='xr-section-inline-details'><ul class='xr-dim-list'><li><span class='xr-has-index'>Period</span>: 1</li><li><span class='xr-has-index'>TimeStep</span>: 2</li><li><span class='xr-has-index'>component</span>: 4</li><li><span class='xr-has-index'>space</span>: 3</li><li><span class='xr-has-index'>space_2</span>: 3</li></ul></div><div class='xr-section-details'></div></li><li class='xr-section-item'><input id='section-015c3eb0-aa00-444b-aa53-4d8f964cda76' class='xr-section-summary-in' type='checkbox'  checked><label for='section-015c3eb0-aa00-444b-aa53-4d8f964cda76' class='xr-section-summary' >Coordinates: <span>(5)</span></label><div class='xr-section-inline-details'></div><div class='xr-section-details'><ul class='xr-var-list'><li class='xr-var-item'><div class='xr-var-name'><span class='xr-has-index'>component</span></div><div class='xr-var-dims'>(component)</div><div class='xr-var-dtype'>&lt;U2</div><div class='xr-var-preview xr-preview'>&#x27;c1&#x27; &#x27;c2&#x27; &#x27;c3&#x27; &#x27;c4&#x27;</div><input id='attrs-d1ddb957-aae8-412c-a57f-a42b8b454913' class='xr-var-attrs-in' type='checkbox' disabled><label for='attrs-d1ddb957-aae8-412c-a57f-a42b8b454913' title='Show/Hide attributes'><svg class='icon xr-icon-file-text2'><use xlink:href='#icon-file-text2'></use></svg></label><input id='data-3e1991f3-3a72-41db-9ce1-5fe7dca553a6' class='xr-var-data-in' type='checkbox'><label for='data-3e1991f3-3a72-41db-9ce1-5fe7dca553a6' title='Show/Hide data repr'><svg class='icon xr-icon-database'><use xlink:href='#icon-database'></use></svg></label><div class='xr-var-attrs'><dl class='xr-attrs'></dl></div><div class='xr-var-data'><pre>array([&#x27;c1&#x27;, &#x27;c2&#x27;, &#x27;c3&#x27;, &#x27;c4&#x27;], dtype=&#x27;&lt;U2&#x27;)</pre></div></li><li class='xr-var-item'><div class='xr-var-name'><span class='xr-has-index'>Period</span></div><div class='xr-var-dims'>(Period)</div><div class='xr-var-dtype'>int32</div><div class='xr-var-preview xr-preview'>0</div><input id='attrs-d467e14b-1461-4568-b8cf-fef537355522' class='xr-var-attrs-in' type='checkbox' disabled><label for='attrs-d467e14b-1461-4568-b8cf-fef537355522' title='Show/Hide attributes'><svg class='icon xr-icon-file-text2'><use xlink:href='#icon-file-text2'></use></svg></label><input id='data-7f03f8a8-734e-45af-9658-6ddbcb2fddbc' class='xr-var-data-in' type='checkbox'><label for='data-7f03f8a8-734e-45af-9658-6ddbcb2fddbc' title='Show/Hide data repr'><svg class='icon xr-icon-database'><use xlink:href='#icon-database'></use></svg></label><div class='xr-var-attrs'><dl class='xr-attrs'></dl></div><div class='xr-var-data'><pre>array([0])</pre></div></li><li class='xr-var-item'><div class='xr-var-name'><span class='xr-has-index'>TimeStep</span></div><div class='xr-var-dims'>(TimeStep)</div><div class='xr-var-dtype'>&lt;U2</div><div class='xr-var-preview xr-preview'>&#x27;T0&#x27; &#x27;T1&#x27;</div><input id='attrs-27a1658e-3a79-4234-9885-48ada41b1d6a' class='xr-var-attrs-in' type='checkbox' disabled><label for='attrs-27a1658e-3a79-4234-9885-48ada41b1d6a' title='Show/Hide attributes'><svg class='icon xr-icon-file-text2'><use xlink:href='#icon-file-text2'></use></svg></label><input id='data-1316dc39-f6b2-4243-a34a-ab094fe3541b' class='xr-var-data-in' type='checkbox'><label for='data-1316dc39-f6b2-4243-a34a-ab094fe3541b' title='Show/Hide data repr'><svg class='icon xr-icon-database'><use xlink:href='#icon-database'></use></svg></label><div class='xr-var-attrs'><dl class='xr-attrs'></dl></div><div class='xr-var-data'><pre>array([&#x27;T0&#x27;, &#x27;T1&#x27;], dtype=&#x27;&lt;U2&#x27;)</pre></div></li><li class='xr-var-item'><div class='xr-var-name'><span class='xr-has-index'>space</span></div><div class='xr-var-dims'>(space)</div><div class='xr-var-dtype'>&lt;U6</div><div class='xr-var-preview xr-preview'>&#x27;01_reg&#x27; &#x27;02_reg&#x27; &#x27;03_reg&#x27;</div><input id='attrs-6b351b4c-761c-4ed4-b2e5-7ffbd36b183d' class='xr-var-attrs-in' type='checkbox' disabled><label for='attrs-6b351b4c-761c-4ed4-b2e5-7ffbd36b183d' title='Show/Hide attributes'><svg class='icon xr-icon-file-text2'><use xlink:href='#icon-file-text2'></use></svg></label><input id='data-e5081b10-48ba-44af-bedd-72329ec52749' class='xr-var-data-in' type='checkbox'><label for='data-e5081b10-48ba-44af-bedd-72329ec52749' title='Show/Hide data repr'><svg class='icon xr-icon-database'><use xlink:href='#icon-database'></use></svg></label><div class='xr-var-attrs'><dl class='xr-attrs'></dl></div><div class='xr-var-data'><pre>array([&#x27;01_reg&#x27;, &#x27;02_reg&#x27;, &#x27;03_reg&#x27;], dtype=&#x27;&lt;U6&#x27;)</pre></div></li><li class='xr-var-item'><div class='xr-var-name'><span class='xr-has-index'>space_2</span></div><div class='xr-var-dims'>(space_2)</div><div class='xr-var-dtype'>&lt;U6</div><div class='xr-var-preview xr-preview'>&#x27;01_reg&#x27; &#x27;02_reg&#x27; &#x27;03_reg&#x27;</div><input id='attrs-19033a6b-086c-4bc2-8ee1-d32b17b43069' class='xr-var-attrs-in' type='checkbox' disabled><label for='attrs-19033a6b-086c-4bc2-8ee1-d32b17b43069' title='Show/Hide attributes'><svg class='icon xr-icon-file-text2'><use xlink:href='#icon-file-text2'></use></svg></label><input id='data-3e4a156b-f7b1-441b-b7e5-5f659ff71648' class='xr-var-data-in' type='checkbox'><label for='data-3e4a156b-f7b1-441b-b7e5-5f659ff71648' title='Show/Hide data repr'><svg class='icon xr-icon-database'><use xlink:href='#icon-database'></use></svg></label><div class='xr-var-attrs'><dl class='xr-attrs'></dl></div><div class='xr-var-data'><pre>array([&#x27;01_reg&#x27;, &#x27;02_reg&#x27;, &#x27;03_reg&#x27;], dtype=&#x27;&lt;U6&#x27;)</pre></div></li></ul></div></li><li class='xr-section-item'><input id='section-ad02ce0e-85fb-464f-8c5f-3e333441d3f6' class='xr-section-summary-in' type='checkbox'  checked><label for='section-ad02ce0e-85fb-464f-8c5f-3e333441d3f6' class='xr-section-summary' >Data variables: <span>(3)</span></label><div class='xr-section-inline-details'></div><div class='xr-section-details'><ul class='xr-var-list'><li class='xr-var-item'><div class='xr-var-name'><span>operationFixRate</span></div><div class='xr-var-dims'>(component, Period, TimeStep, space)</div><div class='xr-var-dtype'>float64</div><div class='xr-var-preview xr-preview'>nan nan nan nan ... 1.0 0.3 2.0 1.0</div><input id='attrs-65ec81c1-a33b-4d32-a730-9fdf7bd230d4' class='xr-var-attrs-in' type='checkbox' disabled><label for='attrs-65ec81c1-a33b-4d32-a730-9fdf7bd230d4' title='Show/Hide attributes'><svg class='icon xr-icon-file-text2'><use xlink:href='#icon-file-text2'></use></svg></label><input id='data-180aabf5-73e8-4529-9b58-14d2616e1021' class='xr-var-data-in' type='checkbox'><label for='data-180aabf5-73e8-4529-9b58-14d2616e1021' title='Show/Hide data repr'><svg class='icon xr-icon-database'><use xlink:href='#icon-database'></use></svg></label><div class='xr-var-attrs'><dl class='xr-attrs'></dl></div><div class='xr-var-data'><pre>array([[[[nan, nan, nan],\n",
       "         [nan, nan, nan]]],\n",
       "\n",
       "\n",
       "       [[[1. , 0.9, 2. ],\n",
       "         [1. , 0. , 0.9]]],\n",
       "\n",
       "\n",
       "       [[[nan, nan, nan],\n",
       "         [nan, nan, nan]]],\n",
       "\n",
       "\n",
       "       [[[0. , 1. , 1. ],\n",
       "         [0.3, 2. , 1. ]]]])</pre></div></li><li class='xr-var-item'><div class='xr-var-name'><span>1d_capacity</span></div><div class='xr-var-dims'>(component, space)</div><div class='xr-var-dtype'>float64</div><div class='xr-var-preview xr-preview'>0.9 1.0 0.9 0.0 ... 0.9 nan nan nan</div><input id='attrs-d4166bd1-62b9-4983-a7b8-b38df4ac967d' class='xr-var-attrs-in' type='checkbox' disabled><label for='attrs-d4166bd1-62b9-4983-a7b8-b38df4ac967d' title='Show/Hide attributes'><svg class='icon xr-icon-file-text2'><use xlink:href='#icon-file-text2'></use></svg></label><input id='data-caeea852-ab42-47da-bb6d-0868ec40c33a' class='xr-var-data-in' type='checkbox'><label for='data-caeea852-ab42-47da-bb6d-0868ec40c33a' title='Show/Hide data repr'><svg class='icon xr-icon-database'><use xlink:href='#icon-database'></use></svg></label><div class='xr-var-attrs'><dl class='xr-attrs'></dl></div><div class='xr-var-data'><pre>array([[0.9, 1. , 0.9],\n",
       "       [0. , 0. , 0. ],\n",
       "       [0.9, 1. , 0.9],\n",
       "       [nan, nan, nan]])</pre></div></li><li class='xr-var-item'><div class='xr-var-name'><span>2d_distance</span></div><div class='xr-var-dims'>(component, space, space_2)</div><div class='xr-var-dtype'>float64</div><div class='xr-var-preview xr-preview'>0.0 1.0 2.0 1.0 ... nan nan nan nan</div><input id='attrs-93fb3a97-98d9-456a-bc81-b4ecb9ac8a0d' class='xr-var-attrs-in' type='checkbox' disabled><label for='attrs-93fb3a97-98d9-456a-bc81-b4ecb9ac8a0d' title='Show/Hide attributes'><svg class='icon xr-icon-file-text2'><use xlink:href='#icon-file-text2'></use></svg></label><input id='data-187e7c29-9eb0-4bc0-a9ee-4cbd4d3b2829' class='xr-var-data-in' type='checkbox'><label for='data-187e7c29-9eb0-4bc0-a9ee-4cbd4d3b2829' title='Show/Hide data repr'><svg class='icon xr-icon-database'><use xlink:href='#icon-database'></use></svg></label><div class='xr-var-attrs'><dl class='xr-attrs'></dl></div><div class='xr-var-data'><pre>array([[[ 0. ,  1. ,  2. ],\n",
       "        [ 1. ,  0. , 10. ],\n",
       "        [ 2. , 10. ,  0. ]],\n",
       "\n",
       "       [[ 0. ,  0.1,  0.2],\n",
       "        [ 0.1,  0. ,  1. ],\n",
       "        [ 0.2,  1. ,  0. ]],\n",
       "\n",
       "       [[ nan,  nan,  nan],\n",
       "        [ nan,  nan,  nan],\n",
       "        [ nan,  nan,  nan]],\n",
       "\n",
       "       [[ nan,  nan,  nan],\n",
       "        [ nan,  nan,  nan],\n",
       "        [ nan,  nan,  nan]]])</pre></div></li></ul></div></li><li class='xr-section-item'><input id='section-e299ac0f-7ac7-4462-b491-83caf9f68c5d' class='xr-section-summary-in' type='checkbox' disabled ><label for='section-e299ac0f-7ac7-4462-b491-83caf9f68c5d' class='xr-section-summary'  title='Expand/collapse section'>Attributes: <span>(0)</span></label><div class='xr-section-inline-details'></div><div class='xr-section-details'><dl class='xr-attrs'></dl></div></li></ul></div></div>"
      ],
      "text/plain": [
       "<xarray.Dataset>\n",
       "Dimensions:           (Period: 1, TimeStep: 2, component: 4, space: 3, space_2: 3)\n",
       "Coordinates:\n",
       "  * component         (component) <U2 'c1' 'c2' 'c3' 'c4'\n",
       "  * Period            (Period) int32 0\n",
       "  * TimeStep          (TimeStep) <U2 'T0' 'T1'\n",
       "  * space             (space) <U6 '01_reg' '02_reg' '03_reg'\n",
       "  * space_2           (space_2) <U6 '01_reg' '02_reg' '03_reg'\n",
       "Data variables:\n",
       "    operationFixRate  (component, Period, TimeStep, space) float64 nan ... 1.0\n",
       "    1d_capacity       (component, space) float64 0.9 1.0 0.9 0.0 ... nan nan nan\n",
       "    2d_distance       (component, space, space_2) float64 0.0 1.0 ... nan nan"
      ]
     },
     "execution_count": 2,
     "metadata": {},
     "output_type": "execute_result"
    }
   ],
   "source": [
    "space = ['01_reg','02_reg','03_reg']\n",
    "TimeStep = ['T0','T1']\n",
    "space_2 = space.copy()\n",
    "component = ['c1','c2','c3','c4']\n",
    "Period = [0]\n",
    "\n",
    "demand = np.stack([[[[np.nan,np.nan, np.nan] for i in range(2)]],\n",
    "                        [[[1, 0.9,  2],\n",
    "                          [1, 0,  0.9]]],\n",
    "                        [[[np.nan,np.nan, np.nan] for i in range(2)]],\n",
    "                        [[[0,   1, 1],\n",
    "                          [0.3, 2, 1]]]])\n",
    "demand = xr.DataArray(demand, coords=[component, Period, TimeStep, space], dims=['component', 'Period', 'TimeStep','space'])\n",
    "cap_1d = np.stack([[0.9,  1,  0.9],\n",
    "                        [0,    0,  0],\n",
    "                        [0.9,  1,  0.9],\n",
    "                        [np.nan] *3])\n",
    "cap_1d = xr.DataArray(cap_1d, coords=[component,space], dims=['component','space'])\n",
    "dist_2d = np.stack([[[0,1,2],[1,0,10],[2,10,0]],\n",
    "                         [[0,0.1,0.2],[0.1,0,1],[0.2,1,0]],\n",
    "                         [[np.nan] * 3 for i in range(3)],\n",
    "                         [[np.nan] * 3 for i in range(3)]])\n",
    "dist_2d = xr.DataArray(dist_2d, coords=[component,space,space_2], dims=['component','space','space_2'])\n",
    "\n",
    "ds = xr.Dataset({'operationFixRate': demand, '1d_capacity': cap_1d, '2d_distance': dist_2d})\n",
    "\n",
    "sds = spd.SpagatDataset()\n",
    "sds.xr_dataset = ds\n",
    "\n",
    "sds.xr_dataset"
   ]
  },
  {
   "cell_type": "code",
   "execution_count": 3,
   "metadata": {},
   "outputs": [],
   "source": [
    "#sds\n",
    "#handle_mode\n",
    "vars='all'\n",
    "dims='all'\n",
    "var_weightings=None"
   ]
  },
  {
   "cell_type": "code",
   "execution_count": 4,
   "metadata": {},
   "outputs": [],
   "source": [
    "dataset = sds.xr_dataset"
   ]
  },
  {
   "cell_type": "markdown",
   "metadata": {},
   "source": [
    "#### STEP 1. Traverse all variables in the dataset, and put them in separate categories"
   ]
  },
  {
   "cell_type": "code",
   "execution_count": 5,
   "metadata": {},
   "outputs": [],
   "source": [
    "vars_ts = {}\n",
    "vars_1d = {}\n",
    "vars_2d = {}"
   ]
  },
  {
   "cell_type": "code",
   "execution_count": 6,
   "metadata": {},
   "outputs": [],
   "source": [
    "# for varname, da in dataset.data_vars.items():\n",
    "#     #print(f'variable is {varname}')\n",
    "#     #print(f'corresponding data is {da}')\n",
    "    \n",
    "#     if sorted(da.dims) == sorted(('component','Period','TimeStep', 'space')):  \n",
    "# #         print(f'variable is {varname}')\n",
    "# #         print(f'corresponding data is {da}')\n",
    "        \n",
    "#         da = da.transpose('Period','component','space','TimeStep')[0]  \n",
    "#         #print(f'transposed da is {da}')\n",
    "#         vars_ts[varname] = da\n",
    "# vars_ts"
   ]
  },
  {
   "cell_type": "code",
   "execution_count": 7,
   "metadata": {},
   "outputs": [],
   "source": [
    "for varname, da in dataset.data_vars.items():\n",
    "        # sort the dimensions\n",
    "        if sorted(da.dims) == sorted(('component','Period','TimeStep', 'space')):   #TODO: maybe space should be generalized with additional variable - dimension_description ?\n",
    "            # Period is not considered -> TODO: consider the Period dimension.\n",
    "            da = da.transpose('Period','component','space','TimeStep')[0]  \n",
    "            vars_ts[varname] = da\n",
    "\n",
    "        elif sorted(da.dims) == sorted(('component','space')):\n",
    "            vars_1d[varname] = da\n",
    "\n",
    "        elif sorted(da.dims) == sorted(('component','space','space_2')):\n",
    "            vars_2d[varname] = da\n",
    "\n",
    "        else:\n",
    "            warnings.warn(\"Variable '\" + varname + \"' has dimensions + '\" + str(da.dims) + \"' which are not considered for spatial aggregation.\")"
   ]
  },
  {
   "cell_type": "code",
   "execution_count": 8,
   "metadata": {},
   "outputs": [],
   "source": [
    "component_list = list(dataset['component'].values)\n",
    "n_regions = len(dataset['space'].values)"
   ]
  },
  {
   "cell_type": "code",
   "execution_count": 9,
   "metadata": {},
   "outputs": [
    {
     "data": {
      "text/plain": [
       "{'operationFixRate': <xarray.DataArray 'operationFixRate' (component: 4, space: 3, TimeStep: 2)>\n",
       " array([[[nan, nan],\n",
       "         [nan, nan],\n",
       "         [nan, nan]],\n",
       " \n",
       "        [[1. , 1. ],\n",
       "         [0.9, 0. ],\n",
       "         [2. , 0.9]],\n",
       " \n",
       "        [[nan, nan],\n",
       "         [nan, nan],\n",
       "         [nan, nan]],\n",
       " \n",
       "        [[0. , 0.3],\n",
       "         [1. , 2. ],\n",
       "         [1. , 1. ]]])\n",
       " Coordinates:\n",
       "   * component  (component) <U2 'c1' 'c2' 'c3' 'c4'\n",
       "     Period     int32 0\n",
       "   * TimeStep   (TimeStep) <U2 'T0' 'T1'\n",
       "   * space      (space) <U6 '01_reg' '02_reg' '03_reg'}"
      ]
     },
     "execution_count": 9,
     "metadata": {},
     "output_type": "execute_result"
    }
   ],
   "source": [
    "vars_ts"
   ]
  },
  {
   "cell_type": "markdown",
   "metadata": {},
   "source": [
    "#### STEP 2. preprocess Time Series"
   ]
  },
  {
   "cell_type": "code",
   "execution_count": 10,
   "metadata": {},
   "outputs": [
    {
     "data": {
      "text/plain": [
       "{'operationFixRate': array([[0.5 , 0.5 , 0.  , 0.15],\n",
       "        [0.45, 0.  , 0.5 , 1.  ],\n",
       "        [1.  , 0.45, 0.5 , 0.5 ]])}"
      ]
     },
     "execution_count": 10,
     "metadata": {},
     "output_type": "execute_result"
    }
   ],
   "source": [
    "ds_timeseries = grouping_utils.preprocessTimeSeries(vars_ts, n_regions, len(component_list))\n",
    "ds_timeseries"
   ]
  },
  {
   "cell_type": "markdown",
   "metadata": {},
   "source": [
    "#### STEP 3. preprocess 1d Variables"
   ]
  },
  {
   "cell_type": "code",
   "execution_count": 11,
   "metadata": {},
   "outputs": [
    {
     "data": {
      "text/plain": [
       "{'1d_capacity': <xarray.DataArray '1d_capacity' (component: 4, space: 3)>\n",
       " array([[0.9, 1. , 0.9],\n",
       "        [0. , 0. , 0. ],\n",
       "        [0.9, 1. , 0.9],\n",
       "        [nan, nan, nan]])\n",
       " Coordinates:\n",
       "   * component  (component) <U2 'c1' 'c2' 'c3' 'c4'\n",
       "   * space      (space) <U6 '01_reg' '02_reg' '03_reg'}"
      ]
     },
     "execution_count": 11,
     "metadata": {},
     "output_type": "execute_result"
    }
   ],
   "source": [
    "vars_1d"
   ]
  },
  {
   "cell_type": "code",
   "execution_count": 12,
   "metadata": {},
   "outputs": [
    {
     "data": {
      "text/plain": [
       "{'1d_capacity': array([[0., 0., 0.],\n",
       "        [1., 0., 1.],\n",
       "        [0., 0., 0.]])}"
      ]
     },
     "execution_count": 12,
     "metadata": {},
     "output_type": "execute_result"
    }
   ],
   "source": [
    "ds_1d_vars = grouping_utils.preprocess1dVariables(vars_1d, len(component_list))\n",
    "ds_1d_vars"
   ]
  },
  {
   "cell_type": "markdown",
   "metadata": {},
   "source": [
    "#### STEP 4. Varies based on handle_mode"
   ]
  },
  {
   "cell_type": "markdown",
   "metadata": {},
   "source": [
    "##### STEP 4a. if handle_mode == 'toDissimilarity', call preprocess2dVariables directly"
   ]
  },
  {
   "cell_type": "code",
   "execution_count": 13,
   "metadata": {},
   "outputs": [],
   "source": [
    "handle_mode = 'toDissimilarity'"
   ]
  },
  {
   "cell_type": "code",
   "execution_count": 14,
   "metadata": {},
   "outputs": [
    {
     "data": {
      "text/plain": [
       "{'2d_distance': <xarray.DataArray '2d_distance' (component: 4, space: 3, space_2: 3)>\n",
       " array([[[ 0. ,  1. ,  2. ],\n",
       "         [ 1. ,  0. , 10. ],\n",
       "         [ 2. , 10. ,  0. ]],\n",
       " \n",
       "        [[ 0. ,  0.1,  0.2],\n",
       "         [ 0.1,  0. ,  1. ],\n",
       "         [ 0.2,  1. ,  0. ]],\n",
       " \n",
       "        [[ nan,  nan,  nan],\n",
       "         [ nan,  nan,  nan],\n",
       "         [ nan,  nan,  nan]],\n",
       " \n",
       "        [[ nan,  nan,  nan],\n",
       "         [ nan,  nan,  nan],\n",
       "         [ nan,  nan,  nan]]])\n",
       " Coordinates:\n",
       "   * component  (component) <U2 'c1' 'c2' 'c3' 'c4'\n",
       "   * space      (space) <U6 '01_reg' '02_reg' '03_reg'\n",
       "   * space_2    (space_2) <U6 '01_reg' '02_reg' '03_reg'}"
      ]
     },
     "execution_count": 14,
     "metadata": {},
     "output_type": "execute_result"
    }
   ],
   "source": [
    "vars_2d"
   ]
  },
  {
   "cell_type": "code",
   "execution_count": 15,
   "metadata": {},
   "outputs": [
    {
     "data": {
      "text/plain": [
       "{'2d_distance': {0: array([0.9, 0.8, 0. ]), 1: array([0.9, 0.8, 0. ])}}"
      ]
     },
     "execution_count": 15,
     "metadata": {},
     "output_type": "execute_result"
    }
   ],
   "source": [
    "ds_2d_vars = grouping_utils.preprocess2dVariables(vars_2d, component_list, handle_mode='toDissimilarity')\n",
    "ds_2d_vars"
   ]
  },
  {
   "cell_type": "code",
   "execution_count": 16,
   "metadata": {},
   "outputs": [],
   "source": [
    "#return ds_timeseries, ds_1d_vars, ds_2d_vars"
   ]
  },
  {
   "cell_type": "markdown",
   "metadata": {},
   "source": [
    "##### STEP 4b. if handle_mode == 'toAffinity' -> convert matrix in weighted matrix based on var_weightings"
   ]
  },
  {
   "cell_type": "code",
   "execution_count": 17,
   "metadata": {},
   "outputs": [],
   "source": [
    "handle_mode = 'toAffinity'"
   ]
  },
  {
   "cell_type": "code",
   "execution_count": 18,
   "metadata": {},
   "outputs": [],
   "source": [
    "# Weighting factors of each variable \n",
    "if var_weightings:\n",
    "    var_weightings = var_weightings               #TODO: reduce the lines here by using 'if var_weightings is None' \n",
    "else:\n",
    "    vars_list = list(vars_ts.keys()) + list(vars_1d.keys()) + list(vars_2d.keys())\n",
    "    var_weightings = dict.fromkeys(vars_list,1)"
   ]
  },
  {
   "cell_type": "code",
   "execution_count": 19,
   "metadata": {},
   "outputs": [
    {
     "data": {
      "text/plain": [
       "{'operationFixRate': 1, '1d_capacity': 1, '2d_distance': 1}"
      ]
     },
     "execution_count": 19,
     "metadata": {},
     "output_type": "execute_result"
    }
   ],
   "source": [
    "var_weightings"
   ]
  },
  {
   "cell_type": "markdown",
   "metadata": {},
   "source": [
    "##### STEP 4b. (i)  For each Time series varriable:  convert it's corresponding matrix into weighted matrix (weights are from var_weightings)"
   ]
  },
  {
   "cell_type": "code",
   "execution_count": 20,
   "metadata": {},
   "outputs": [
    {
     "data": {
      "text/plain": [
       "array([[0.],\n",
       "       [0.],\n",
       "       [0.]])"
      ]
     },
     "execution_count": 20,
     "metadata": {},
     "output_type": "execute_result"
    }
   ],
   "source": [
    "matrix_ts = np.array([np.zeros(n_regions)]).T\n",
    "matrix_ts"
   ]
  },
  {
   "cell_type": "code",
   "execution_count": 21,
   "metadata": {},
   "outputs": [],
   "source": [
    "for var, var_matrix in ds_timeseries.items():\n",
    "\n",
    "    weight = var_weightings[var]\n",
    "            \n",
    "    # Concatenate the matrix of this var to the final matrix with its weighting factor\n",
    "    matrix_ts = np.concatenate((matrix_ts, var_matrix * weight), axis=1)       "
   ]
  },
  {
   "cell_type": "code",
   "execution_count": 22,
   "metadata": {},
   "outputs": [],
   "source": [
    "matrix_ts = np.delete(matrix_ts,0,1)\n"
   ]
  },
  {
   "cell_type": "code",
   "execution_count": 23,
   "metadata": {},
   "outputs": [
    {
     "data": {
      "text/plain": [
       "array([[0.5 , 0.5 , 0.  , 0.15],\n",
       "       [0.45, 0.  , 0.5 , 1.  ],\n",
       "       [1.  , 0.45, 0.5 , 0.5 ]])"
      ]
     },
     "execution_count": 23,
     "metadata": {},
     "output_type": "execute_result"
    }
   ],
   "source": [
    "matrix_ts"
   ]
  },
  {
   "cell_type": "code",
   "execution_count": 24,
   "metadata": {},
   "outputs": [
    {
     "data": {
      "text/plain": [
       "array([[0.5 , 0.5 , 0.  , 0.15],\n",
       "       [0.45, 0.  , 0.5 , 1.  ],\n",
       "       [1.  , 0.45, 0.5 , 0.5 ]])"
      ]
     },
     "execution_count": 24,
     "metadata": {},
     "output_type": "execute_result"
    }
   ],
   "source": [
    "ds_timeseries.get('operationFixRate')\n"
   ]
  },
  {
   "cell_type": "code",
   "execution_count": 25,
   "metadata": {},
   "outputs": [
    {
     "data": {
      "text/plain": [
       "array([[ True,  True,  True,  True],\n",
       "       [ True,  True,  True,  True],\n",
       "       [ True,  True,  True,  True]])"
      ]
     },
     "execution_count": 25,
     "metadata": {},
     "output_type": "execute_result"
    }
   ],
   "source": [
    "matrix_ts == ds_timeseries.get('operationFixRate')"
   ]
  },
  {
   "cell_type": "markdown",
   "metadata": {},
   "source": [
    "##### STEP 4b. (ii)  For each 1d varriable:  convert it's corresponding matrix into weighted matrix (weights are from var_weightings)"
   ]
  },
  {
   "cell_type": "code",
   "execution_count": 27,
   "metadata": {},
   "outputs": [
    {
     "data": {
      "text/plain": [
       "array([[0.],\n",
       "       [0.],\n",
       "       [0.]])"
      ]
     },
     "execution_count": 27,
     "metadata": {},
     "output_type": "execute_result"
    }
   ],
   "source": [
    "###### For 1d vars: obtain the single matrix - matrix_1d\n",
    "matrix_1d = np.array([np.zeros(n_regions)]).T\n",
    "matrix_1d"
   ]
  },
  {
   "cell_type": "code",
   "execution_count": 28,
   "metadata": {},
   "outputs": [],
   "source": [
    "for var, var_matrix in ds_1d_vars.items():\n",
    "\n",
    "    weight = var_weightings[var]\n",
    "\n",
    "    # Concatenate the matrix of this vars to one single 1d matrix with weight factor\n",
    "    matrix_1d = np.concatenate((matrix_1d, var_matrix * weight),axis=1)\n",
    "        \n",
    "matrix_1d = np.delete(matrix_1d,0,1)"
   ]
  },
  {
   "cell_type": "code",
   "execution_count": 29,
   "metadata": {},
   "outputs": [
    {
     "data": {
      "text/plain": [
       "array([[ True,  True,  True],\n",
       "       [ True,  True,  True],\n",
       "       [ True,  True,  True]])"
      ]
     },
     "execution_count": 29,
     "metadata": {},
     "output_type": "execute_result"
    }
   ],
   "source": [
    "matrix_1d == ds_1d_vars.get('1d_capacity')"
   ]
  },
  {
   "cell_type": "markdown",
   "metadata": {},
   "source": [
    "##### STEP 4b. (iii)  a. Preprocess 2d variables"
   ]
  },
  {
   "cell_type": "code",
   "execution_count": 30,
   "metadata": {},
   "outputs": [],
   "source": [
    "ds_2d_vars = grouping_utils.preprocess2dVariables(vars_2d, component_list, handle_mode='toAffinity')"
   ]
  },
  {
   "cell_type": "code",
   "execution_count": 31,
   "metadata": {},
   "outputs": [
    {
     "data": {
      "text/plain": [
       "{'2d_distance': {0: array([[0. , 0.1, 0.2],\n",
       "         [0.1, 0. , 1. ],\n",
       "         [0.2, 1. , 0. ]]),\n",
       "  1: array([[0. , 0.1, 0.2],\n",
       "         [0.1, 0. , 1. ],\n",
       "         [0.2, 1. , 0. ]])}}"
      ]
     },
     "execution_count": 31,
     "metadata": {},
     "output_type": "execute_result"
    }
   ],
   "source": [
    "ds_2d_vars"
   ]
  },
  {
   "cell_type": "markdown",
   "metadata": {},
   "source": [
    "##### STEP 4b. (iii)  b. For each variable, convert the matrix corresponding to each component to weighted matrix and Add each components weighted matrices to obtain one single weighted affinity matrix"
   ]
  },
  {
   "cell_type": "code",
   "execution_count": 32,
   "metadata": {},
   "outputs": [
    {
     "data": {
      "text/plain": [
       "array([[0., 0., 0.],\n",
       "       [0., 0., 0.],\n",
       "       [0., 0., 0.]])"
      ]
     },
     "execution_count": 32,
     "metadata": {},
     "output_type": "execute_result"
    }
   ],
   "source": [
    "###### For 2d vars: obtain a single square matrix of size n_regions*regions\n",
    "matrix_2d = np.zeros((n_regions,n_regions))\n",
    "matrix_2d"
   ]
  },
  {
   "cell_type": "code",
   "execution_count": 33,
   "metadata": {},
   "outputs": [],
   "source": [
    "# After adding, the value in matrix_2d is not in the range [0,1] any more\n",
    "for var, var_dict in ds_2d_vars.items():\n",
    "\n",
    "    weight = var_weightings[var]\n",
    "\n",
    "    # Add the matrices of different components for one var to a single matrix\n",
    "    for component, data in var_dict.items():\n",
    "        matrix_2d += data * weight\n"
   ]
  },
  {
   "cell_type": "code",
   "execution_count": 34,
   "metadata": {},
   "outputs": [
    {
     "data": {
      "text/plain": [
       "array([[0. , 0.2, 0.4],\n",
       "       [0.2, 0. , 2. ],\n",
       "       [0.4, 2. , 0. ]])"
      ]
     },
     "execution_count": 34,
     "metadata": {},
     "output_type": "execute_result"
    }
   ],
   "source": [
    "matrix_2d"
   ]
  },
  {
   "cell_type": "code",
   "execution_count": null,
   "metadata": {},
   "outputs": [],
   "source": [
    "\n",
    "###### Return 3 separate matrices\n",
    "#return matrix_ts, matrix_1d, matrix_2d"
   ]
  }
 ],
 "metadata": {
  "kernelspec": {
   "display_name": "Python 3",
   "language": "python",
   "name": "python3"
  },
  "language_info": {
   "codemirror_mode": {
    "name": "ipython",
    "version": 3
   },
   "file_extension": ".py",
   "mimetype": "text/x-python",
   "name": "python",
   "nbconvert_exporter": "python",
   "pygments_lexer": "ipython3",
   "version": "3.7.8"
  }
 },
 "nbformat": 4,
 "nbformat_minor": 4
}
