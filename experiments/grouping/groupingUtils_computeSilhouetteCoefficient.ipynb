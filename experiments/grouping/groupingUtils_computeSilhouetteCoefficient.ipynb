{
 "cells": [
  {
   "cell_type": "code",
   "execution_count": 1,
   "metadata": {},
   "outputs": [],
   "source": [
    "import xarray as xr\n",
    "import numpy as np\n",
    "import pandas as pd\n",
    "import geopandas\n",
    "import warnings\n",
    "\n",
    "from sklearn import preprocessing as prep\n",
    "from scipy.cluster import hierarchy\n",
    "from sklearn import metrics\n",
    "\n",
    "import FINE.spagat.dataset as spd\n",
    "from ipynb.fs.full import grouping_utils"
   ]
  },
  {
   "cell_type": "code",
   "execution_count": 2,
   "metadata": {},
   "outputs": [],
   "source": [
    "def computeSilhouetteCoefficient(regions_list, distanceMatrix, aggregation_dict):\n",
    "\n",
    "    n_regions = len(regions_list)\n",
    "\n",
    "    # Silhouette Coefficient scores\n",
    "    scores = [0 for i in range(1, n_regions-1)]\n",
    "\n",
    "    # Labels for each region object\n",
    "    labels = [0 for i in range(n_regions)]\n",
    "\n",
    "    for k, regions_dict in aggregation_dict.items():\n",
    "\n",
    "        if k == 1 or k == n_regions:\n",
    "            continue\n",
    "\n",
    "        # Obtain labels list for this clustering results\n",
    "        label = 0\n",
    "        for sup_region in regions_dict.values():\n",
    "            for reg in sup_region:\n",
    "                ind = regions_list.index(reg)\n",
    "                labels[ind] = label\n",
    "            \n",
    "            label += 1\n",
    "        \n",
    "        # Silhouette score of this clustering\n",
    "        s = metrics.silhouette_score(distanceMatrix, labels, metric='precomputed')\n",
    "        scores[k-2] = s\n",
    "\n",
    "    return scores"
   ]
  },
  {
   "cell_type": "code",
   "execution_count": null,
   "metadata": {},
   "outputs": [],
   "source": []
  }
 ],
 "metadata": {
  "kernelspec": {
   "display_name": "Python 3",
   "language": "python",
   "name": "python3"
  },
  "language_info": {
   "codemirror_mode": {
    "name": "ipython",
    "version": 3
   },
   "file_extension": ".py",
   "mimetype": "text/x-python",
   "name": "python",
   "nbconvert_exporter": "python",
   "pygments_lexer": "ipython3",
   "version": "3.7.8"
  }
 },
 "nbformat": 4,
 "nbformat_minor": 4
}
