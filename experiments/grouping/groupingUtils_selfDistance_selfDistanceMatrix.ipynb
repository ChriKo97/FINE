{
 "cells": [
  {
   "cell_type": "code",
   "execution_count": 1,
   "metadata": {},
   "outputs": [],
   "source": [
    "import xarray as xr\n",
    "import numpy as np\n",
    "import pandas as pd\n",
    "import geopandas\n",
    "import warnings\n",
    "\n",
    "from sklearn import preprocessing as prep\n",
    "from scipy.cluster import hierarchy\n",
    "from sklearn import metrics\n",
    "\n",
    "import FINE.spagat.dataset as spd\n",
    "from ipynb.fs.full import grouping_utils"
   ]
  },
  {
   "cell_type": "markdown",
   "metadata": {},
   "source": [
    "## test dataset - (test_dataset2)"
   ]
  },
  {
   "cell_type": "code",
   "execution_count": 2,
   "metadata": {},
   "outputs": [
    {
     "data": {
      "text/html": [
       "<div><svg style=\"position: absolute; width: 0; height: 0; overflow: hidden\">\n",
       "<defs>\n",
       "<symbol id=\"icon-database\" viewBox=\"0 0 32 32\">\n",
       "<path d=\"M16 0c-8.837 0-16 2.239-16 5v4c0 2.761 7.163 5 16 5s16-2.239 16-5v-4c0-2.761-7.163-5-16-5z\"></path>\n",
       "<path d=\"M16 17c-8.837 0-16-2.239-16-5v6c0 2.761 7.163 5 16 5s16-2.239 16-5v-6c0 2.761-7.163 5-16 5z\"></path>\n",
       "<path d=\"M16 26c-8.837 0-16-2.239-16-5v6c0 2.761 7.163 5 16 5s16-2.239 16-5v-6c0 2.761-7.163 5-16 5z\"></path>\n",
       "</symbol>\n",
       "<symbol id=\"icon-file-text2\" viewBox=\"0 0 32 32\">\n",
       "<path d=\"M28.681 7.159c-0.694-0.947-1.662-2.053-2.724-3.116s-2.169-2.030-3.116-2.724c-1.612-1.182-2.393-1.319-2.841-1.319h-15.5c-1.378 0-2.5 1.121-2.5 2.5v27c0 1.378 1.122 2.5 2.5 2.5h23c1.378 0 2.5-1.122 2.5-2.5v-19.5c0-0.448-0.137-1.23-1.319-2.841zM24.543 5.457c0.959 0.959 1.712 1.825 2.268 2.543h-4.811v-4.811c0.718 0.556 1.584 1.309 2.543 2.268zM28 29.5c0 0.271-0.229 0.5-0.5 0.5h-23c-0.271 0-0.5-0.229-0.5-0.5v-27c0-0.271 0.229-0.5 0.5-0.5 0 0 15.499-0 15.5 0v7c0 0.552 0.448 1 1 1h7v19.5z\"></path>\n",
       "<path d=\"M23 26h-14c-0.552 0-1-0.448-1-1s0.448-1 1-1h14c0.552 0 1 0.448 1 1s-0.448 1-1 1z\"></path>\n",
       "<path d=\"M23 22h-14c-0.552 0-1-0.448-1-1s0.448-1 1-1h14c0.552 0 1 0.448 1 1s-0.448 1-1 1z\"></path>\n",
       "<path d=\"M23 18h-14c-0.552 0-1-0.448-1-1s0.448-1 1-1h14c0.552 0 1 0.448 1 1s-0.448 1-1 1z\"></path>\n",
       "</symbol>\n",
       "</defs>\n",
       "</svg>\n",
       "<style>/* CSS stylesheet for displaying xarray objects in jupyterlab.\n",
       " *\n",
       " */\n",
       "\n",
       ":root {\n",
       "  --xr-font-color0: var(--jp-content-font-color0, rgba(0, 0, 0, 1));\n",
       "  --xr-font-color2: var(--jp-content-font-color2, rgba(0, 0, 0, 0.54));\n",
       "  --xr-font-color3: var(--jp-content-font-color3, rgba(0, 0, 0, 0.38));\n",
       "  --xr-border-color: var(--jp-border-color2, #e0e0e0);\n",
       "  --xr-disabled-color: var(--jp-layout-color3, #bdbdbd);\n",
       "  --xr-background-color: var(--jp-layout-color0, white);\n",
       "  --xr-background-color-row-even: var(--jp-layout-color1, white);\n",
       "  --xr-background-color-row-odd: var(--jp-layout-color2, #eeeeee);\n",
       "}\n",
       "\n",
       "html[theme=dark],\n",
       "body.vscode-dark {\n",
       "  --xr-font-color0: rgba(255, 255, 255, 1);\n",
       "  --xr-font-color2: rgba(255, 255, 255, 0.54);\n",
       "  --xr-font-color3: rgba(255, 255, 255, 0.38);\n",
       "  --xr-border-color: #1F1F1F;\n",
       "  --xr-disabled-color: #515151;\n",
       "  --xr-background-color: #111111;\n",
       "  --xr-background-color-row-even: #111111;\n",
       "  --xr-background-color-row-odd: #313131;\n",
       "}\n",
       "\n",
       ".xr-wrap {\n",
       "  display: block;\n",
       "  min-width: 300px;\n",
       "  max-width: 700px;\n",
       "}\n",
       "\n",
       ".xr-text-repr-fallback {\n",
       "  /* fallback to plain text repr when CSS is not injected (untrusted notebook) */\n",
       "  display: none;\n",
       "}\n",
       "\n",
       ".xr-header {\n",
       "  padding-top: 6px;\n",
       "  padding-bottom: 6px;\n",
       "  margin-bottom: 4px;\n",
       "  border-bottom: solid 1px var(--xr-border-color);\n",
       "}\n",
       "\n",
       ".xr-header > div,\n",
       ".xr-header > ul {\n",
       "  display: inline;\n",
       "  margin-top: 0;\n",
       "  margin-bottom: 0;\n",
       "}\n",
       "\n",
       ".xr-obj-type,\n",
       ".xr-array-name {\n",
       "  margin-left: 2px;\n",
       "  margin-right: 10px;\n",
       "}\n",
       "\n",
       ".xr-obj-type {\n",
       "  color: var(--xr-font-color2);\n",
       "}\n",
       "\n",
       ".xr-sections {\n",
       "  padding-left: 0 !important;\n",
       "  display: grid;\n",
       "  grid-template-columns: 150px auto auto 1fr 20px 20px;\n",
       "}\n",
       "\n",
       ".xr-section-item {\n",
       "  display: contents;\n",
       "}\n",
       "\n",
       ".xr-section-item input {\n",
       "  display: none;\n",
       "}\n",
       "\n",
       ".xr-section-item input + label {\n",
       "  color: var(--xr-disabled-color);\n",
       "}\n",
       "\n",
       ".xr-section-item input:enabled + label {\n",
       "  cursor: pointer;\n",
       "  color: var(--xr-font-color2);\n",
       "}\n",
       "\n",
       ".xr-section-item input:enabled + label:hover {\n",
       "  color: var(--xr-font-color0);\n",
       "}\n",
       "\n",
       ".xr-section-summary {\n",
       "  grid-column: 1;\n",
       "  color: var(--xr-font-color2);\n",
       "  font-weight: 500;\n",
       "}\n",
       "\n",
       ".xr-section-summary > span {\n",
       "  display: inline-block;\n",
       "  padding-left: 0.5em;\n",
       "}\n",
       "\n",
       ".xr-section-summary-in:disabled + label {\n",
       "  color: var(--xr-font-color2);\n",
       "}\n",
       "\n",
       ".xr-section-summary-in + label:before {\n",
       "  display: inline-block;\n",
       "  content: '►';\n",
       "  font-size: 11px;\n",
       "  width: 15px;\n",
       "  text-align: center;\n",
       "}\n",
       "\n",
       ".xr-section-summary-in:disabled + label:before {\n",
       "  color: var(--xr-disabled-color);\n",
       "}\n",
       "\n",
       ".xr-section-summary-in:checked + label:before {\n",
       "  content: '▼';\n",
       "}\n",
       "\n",
       ".xr-section-summary-in:checked + label > span {\n",
       "  display: none;\n",
       "}\n",
       "\n",
       ".xr-section-summary,\n",
       ".xr-section-inline-details {\n",
       "  padding-top: 4px;\n",
       "  padding-bottom: 4px;\n",
       "}\n",
       "\n",
       ".xr-section-inline-details {\n",
       "  grid-column: 2 / -1;\n",
       "}\n",
       "\n",
       ".xr-section-details {\n",
       "  display: none;\n",
       "  grid-column: 1 / -1;\n",
       "  margin-bottom: 5px;\n",
       "}\n",
       "\n",
       ".xr-section-summary-in:checked ~ .xr-section-details {\n",
       "  display: contents;\n",
       "}\n",
       "\n",
       ".xr-array-wrap {\n",
       "  grid-column: 1 / -1;\n",
       "  display: grid;\n",
       "  grid-template-columns: 20px auto;\n",
       "}\n",
       "\n",
       ".xr-array-wrap > label {\n",
       "  grid-column: 1;\n",
       "  vertical-align: top;\n",
       "}\n",
       "\n",
       ".xr-preview {\n",
       "  color: var(--xr-font-color3);\n",
       "}\n",
       "\n",
       ".xr-array-preview,\n",
       ".xr-array-data {\n",
       "  padding: 0 5px !important;\n",
       "  grid-column: 2;\n",
       "}\n",
       "\n",
       ".xr-array-data,\n",
       ".xr-array-in:checked ~ .xr-array-preview {\n",
       "  display: none;\n",
       "}\n",
       "\n",
       ".xr-array-in:checked ~ .xr-array-data,\n",
       ".xr-array-preview {\n",
       "  display: inline-block;\n",
       "}\n",
       "\n",
       ".xr-dim-list {\n",
       "  display: inline-block !important;\n",
       "  list-style: none;\n",
       "  padding: 0 !important;\n",
       "  margin: 0;\n",
       "}\n",
       "\n",
       ".xr-dim-list li {\n",
       "  display: inline-block;\n",
       "  padding: 0;\n",
       "  margin: 0;\n",
       "}\n",
       "\n",
       ".xr-dim-list:before {\n",
       "  content: '(';\n",
       "}\n",
       "\n",
       ".xr-dim-list:after {\n",
       "  content: ')';\n",
       "}\n",
       "\n",
       ".xr-dim-list li:not(:last-child):after {\n",
       "  content: ',';\n",
       "  padding-right: 5px;\n",
       "}\n",
       "\n",
       ".xr-has-index {\n",
       "  font-weight: bold;\n",
       "}\n",
       "\n",
       ".xr-var-list,\n",
       ".xr-var-item {\n",
       "  display: contents;\n",
       "}\n",
       "\n",
       ".xr-var-item > div,\n",
       ".xr-var-item label,\n",
       ".xr-var-item > .xr-var-name span {\n",
       "  background-color: var(--xr-background-color-row-even);\n",
       "  margin-bottom: 0;\n",
       "}\n",
       "\n",
       ".xr-var-item > .xr-var-name:hover span {\n",
       "  padding-right: 5px;\n",
       "}\n",
       "\n",
       ".xr-var-list > li:nth-child(odd) > div,\n",
       ".xr-var-list > li:nth-child(odd) > label,\n",
       ".xr-var-list > li:nth-child(odd) > .xr-var-name span {\n",
       "  background-color: var(--xr-background-color-row-odd);\n",
       "}\n",
       "\n",
       ".xr-var-name {\n",
       "  grid-column: 1;\n",
       "}\n",
       "\n",
       ".xr-var-dims {\n",
       "  grid-column: 2;\n",
       "}\n",
       "\n",
       ".xr-var-dtype {\n",
       "  grid-column: 3;\n",
       "  text-align: right;\n",
       "  color: var(--xr-font-color2);\n",
       "}\n",
       "\n",
       ".xr-var-preview {\n",
       "  grid-column: 4;\n",
       "}\n",
       "\n",
       ".xr-var-name,\n",
       ".xr-var-dims,\n",
       ".xr-var-dtype,\n",
       ".xr-preview,\n",
       ".xr-attrs dt {\n",
       "  white-space: nowrap;\n",
       "  overflow: hidden;\n",
       "  text-overflow: ellipsis;\n",
       "  padding-right: 10px;\n",
       "}\n",
       "\n",
       ".xr-var-name:hover,\n",
       ".xr-var-dims:hover,\n",
       ".xr-var-dtype:hover,\n",
       ".xr-attrs dt:hover {\n",
       "  overflow: visible;\n",
       "  width: auto;\n",
       "  z-index: 1;\n",
       "}\n",
       "\n",
       ".xr-var-attrs,\n",
       ".xr-var-data {\n",
       "  display: none;\n",
       "  background-color: var(--xr-background-color) !important;\n",
       "  padding-bottom: 5px !important;\n",
       "}\n",
       "\n",
       ".xr-var-attrs-in:checked ~ .xr-var-attrs,\n",
       ".xr-var-data-in:checked ~ .xr-var-data {\n",
       "  display: block;\n",
       "}\n",
       "\n",
       ".xr-var-data > table {\n",
       "  float: right;\n",
       "}\n",
       "\n",
       ".xr-var-name span,\n",
       ".xr-var-data,\n",
       ".xr-attrs {\n",
       "  padding-left: 25px !important;\n",
       "}\n",
       "\n",
       ".xr-attrs,\n",
       ".xr-var-attrs,\n",
       ".xr-var-data {\n",
       "  grid-column: 1 / -1;\n",
       "}\n",
       "\n",
       "dl.xr-attrs {\n",
       "  padding: 0;\n",
       "  margin: 0;\n",
       "  display: grid;\n",
       "  grid-template-columns: 125px auto;\n",
       "}\n",
       "\n",
       ".xr-attrs dt, dd {\n",
       "  padding: 0;\n",
       "  margin: 0;\n",
       "  float: left;\n",
       "  padding-right: 10px;\n",
       "  width: auto;\n",
       "}\n",
       "\n",
       ".xr-attrs dt {\n",
       "  font-weight: normal;\n",
       "  grid-column: 1;\n",
       "}\n",
       "\n",
       ".xr-attrs dt:hover span {\n",
       "  display: inline-block;\n",
       "  background: var(--xr-background-color);\n",
       "  padding-right: 10px;\n",
       "}\n",
       "\n",
       ".xr-attrs dd {\n",
       "  grid-column: 2;\n",
       "  white-space: pre-wrap;\n",
       "  word-break: break-all;\n",
       "}\n",
       "\n",
       ".xr-icon-database,\n",
       ".xr-icon-file-text2 {\n",
       "  display: inline-block;\n",
       "  vertical-align: middle;\n",
       "  width: 1em;\n",
       "  height: 1.5em !important;\n",
       "  stroke-width: 0;\n",
       "  stroke: currentColor;\n",
       "  fill: currentColor;\n",
       "}\n",
       "</style><pre class='xr-text-repr-fallback'>&lt;xarray.Dataset&gt;\n",
       "Dimensions:           (Period: 1, TimeStep: 2, component: 4, space: 3, space_2: 3)\n",
       "Coordinates:\n",
       "  * component         (component) &lt;U2 &#x27;c1&#x27; &#x27;c2&#x27; &#x27;c3&#x27; &#x27;c4&#x27;\n",
       "  * Period            (Period) int32 0\n",
       "  * TimeStep          (TimeStep) &lt;U2 &#x27;T0&#x27; &#x27;T1&#x27;\n",
       "  * space             (space) &lt;U6 &#x27;01_reg&#x27; &#x27;02_reg&#x27; &#x27;03_reg&#x27;\n",
       "  * space_2           (space_2) &lt;U6 &#x27;01_reg&#x27; &#x27;02_reg&#x27; &#x27;03_reg&#x27;\n",
       "Data variables:\n",
       "    operationFixRate  (component, Period, TimeStep, space) float64 nan ... 1.0\n",
       "    1d_capacity       (component, space) float64 0.9 1.0 0.9 0.0 ... nan nan nan\n",
       "    2d_distance       (component, space, space_2) float64 0.0 1.0 ... nan nan</pre><div class='xr-wrap' hidden><div class='xr-header'><div class='xr-obj-type'>xarray.Dataset</div></div><ul class='xr-sections'><li class='xr-section-item'><input id='section-16ec04e3-bfec-40ea-834b-beff523ed50b' class='xr-section-summary-in' type='checkbox' disabled ><label for='section-16ec04e3-bfec-40ea-834b-beff523ed50b' class='xr-section-summary'  title='Expand/collapse section'>Dimensions:</label><div class='xr-section-inline-details'><ul class='xr-dim-list'><li><span class='xr-has-index'>Period</span>: 1</li><li><span class='xr-has-index'>TimeStep</span>: 2</li><li><span class='xr-has-index'>component</span>: 4</li><li><span class='xr-has-index'>space</span>: 3</li><li><span class='xr-has-index'>space_2</span>: 3</li></ul></div><div class='xr-section-details'></div></li><li class='xr-section-item'><input id='section-74d577c0-0933-4263-92ee-4d1496f8de26' class='xr-section-summary-in' type='checkbox'  checked><label for='section-74d577c0-0933-4263-92ee-4d1496f8de26' class='xr-section-summary' >Coordinates: <span>(5)</span></label><div class='xr-section-inline-details'></div><div class='xr-section-details'><ul class='xr-var-list'><li class='xr-var-item'><div class='xr-var-name'><span class='xr-has-index'>component</span></div><div class='xr-var-dims'>(component)</div><div class='xr-var-dtype'>&lt;U2</div><div class='xr-var-preview xr-preview'>&#x27;c1&#x27; &#x27;c2&#x27; &#x27;c3&#x27; &#x27;c4&#x27;</div><input id='attrs-de44cbba-723f-4805-ae6c-c59c3654c6b9' class='xr-var-attrs-in' type='checkbox' disabled><label for='attrs-de44cbba-723f-4805-ae6c-c59c3654c6b9' title='Show/Hide attributes'><svg class='icon xr-icon-file-text2'><use xlink:href='#icon-file-text2'></use></svg></label><input id='data-18d563a5-e2d0-4b12-b4be-acc81dd7a637' class='xr-var-data-in' type='checkbox'><label for='data-18d563a5-e2d0-4b12-b4be-acc81dd7a637' title='Show/Hide data repr'><svg class='icon xr-icon-database'><use xlink:href='#icon-database'></use></svg></label><div class='xr-var-attrs'><dl class='xr-attrs'></dl></div><div class='xr-var-data'><pre>array([&#x27;c1&#x27;, &#x27;c2&#x27;, &#x27;c3&#x27;, &#x27;c4&#x27;], dtype=&#x27;&lt;U2&#x27;)</pre></div></li><li class='xr-var-item'><div class='xr-var-name'><span class='xr-has-index'>Period</span></div><div class='xr-var-dims'>(Period)</div><div class='xr-var-dtype'>int32</div><div class='xr-var-preview xr-preview'>0</div><input id='attrs-ad8a2a33-08f0-4299-8f28-ac5d8c48e9f1' class='xr-var-attrs-in' type='checkbox' disabled><label for='attrs-ad8a2a33-08f0-4299-8f28-ac5d8c48e9f1' title='Show/Hide attributes'><svg class='icon xr-icon-file-text2'><use xlink:href='#icon-file-text2'></use></svg></label><input id='data-33f0b1cd-6874-4798-844e-594dc47721f3' class='xr-var-data-in' type='checkbox'><label for='data-33f0b1cd-6874-4798-844e-594dc47721f3' title='Show/Hide data repr'><svg class='icon xr-icon-database'><use xlink:href='#icon-database'></use></svg></label><div class='xr-var-attrs'><dl class='xr-attrs'></dl></div><div class='xr-var-data'><pre>array([0])</pre></div></li><li class='xr-var-item'><div class='xr-var-name'><span class='xr-has-index'>TimeStep</span></div><div class='xr-var-dims'>(TimeStep)</div><div class='xr-var-dtype'>&lt;U2</div><div class='xr-var-preview xr-preview'>&#x27;T0&#x27; &#x27;T1&#x27;</div><input id='attrs-646d16e8-bd64-4ca6-9f83-c284bea638a2' class='xr-var-attrs-in' type='checkbox' disabled><label for='attrs-646d16e8-bd64-4ca6-9f83-c284bea638a2' title='Show/Hide attributes'><svg class='icon xr-icon-file-text2'><use xlink:href='#icon-file-text2'></use></svg></label><input id='data-d54a1e3e-9909-4b68-a343-438bddf8c5f7' class='xr-var-data-in' type='checkbox'><label for='data-d54a1e3e-9909-4b68-a343-438bddf8c5f7' title='Show/Hide data repr'><svg class='icon xr-icon-database'><use xlink:href='#icon-database'></use></svg></label><div class='xr-var-attrs'><dl class='xr-attrs'></dl></div><div class='xr-var-data'><pre>array([&#x27;T0&#x27;, &#x27;T1&#x27;], dtype=&#x27;&lt;U2&#x27;)</pre></div></li><li class='xr-var-item'><div class='xr-var-name'><span class='xr-has-index'>space</span></div><div class='xr-var-dims'>(space)</div><div class='xr-var-dtype'>&lt;U6</div><div class='xr-var-preview xr-preview'>&#x27;01_reg&#x27; &#x27;02_reg&#x27; &#x27;03_reg&#x27;</div><input id='attrs-35009807-e157-480f-8e6d-fffe24f2f3d3' class='xr-var-attrs-in' type='checkbox' disabled><label for='attrs-35009807-e157-480f-8e6d-fffe24f2f3d3' title='Show/Hide attributes'><svg class='icon xr-icon-file-text2'><use xlink:href='#icon-file-text2'></use></svg></label><input id='data-f3acc13a-1ab2-403e-a424-bfb39cf50b57' class='xr-var-data-in' type='checkbox'><label for='data-f3acc13a-1ab2-403e-a424-bfb39cf50b57' title='Show/Hide data repr'><svg class='icon xr-icon-database'><use xlink:href='#icon-database'></use></svg></label><div class='xr-var-attrs'><dl class='xr-attrs'></dl></div><div class='xr-var-data'><pre>array([&#x27;01_reg&#x27;, &#x27;02_reg&#x27;, &#x27;03_reg&#x27;], dtype=&#x27;&lt;U6&#x27;)</pre></div></li><li class='xr-var-item'><div class='xr-var-name'><span class='xr-has-index'>space_2</span></div><div class='xr-var-dims'>(space_2)</div><div class='xr-var-dtype'>&lt;U6</div><div class='xr-var-preview xr-preview'>&#x27;01_reg&#x27; &#x27;02_reg&#x27; &#x27;03_reg&#x27;</div><input id='attrs-65b67b00-6849-4675-8f40-bb6acf568b59' class='xr-var-attrs-in' type='checkbox' disabled><label for='attrs-65b67b00-6849-4675-8f40-bb6acf568b59' title='Show/Hide attributes'><svg class='icon xr-icon-file-text2'><use xlink:href='#icon-file-text2'></use></svg></label><input id='data-0d0395d3-359f-4b8d-9e7b-acaa962f2fc4' class='xr-var-data-in' type='checkbox'><label for='data-0d0395d3-359f-4b8d-9e7b-acaa962f2fc4' title='Show/Hide data repr'><svg class='icon xr-icon-database'><use xlink:href='#icon-database'></use></svg></label><div class='xr-var-attrs'><dl class='xr-attrs'></dl></div><div class='xr-var-data'><pre>array([&#x27;01_reg&#x27;, &#x27;02_reg&#x27;, &#x27;03_reg&#x27;], dtype=&#x27;&lt;U6&#x27;)</pre></div></li></ul></div></li><li class='xr-section-item'><input id='section-b999499f-a8e9-436a-ab86-3a3f300fffee' class='xr-section-summary-in' type='checkbox'  checked><label for='section-b999499f-a8e9-436a-ab86-3a3f300fffee' class='xr-section-summary' >Data variables: <span>(3)</span></label><div class='xr-section-inline-details'></div><div class='xr-section-details'><ul class='xr-var-list'><li class='xr-var-item'><div class='xr-var-name'><span>operationFixRate</span></div><div class='xr-var-dims'>(component, Period, TimeStep, space)</div><div class='xr-var-dtype'>float64</div><div class='xr-var-preview xr-preview'>nan nan nan nan ... 1.0 0.3 2.0 1.0</div><input id='attrs-495c4884-9da6-4112-a262-5fe5afbf1d67' class='xr-var-attrs-in' type='checkbox' disabled><label for='attrs-495c4884-9da6-4112-a262-5fe5afbf1d67' title='Show/Hide attributes'><svg class='icon xr-icon-file-text2'><use xlink:href='#icon-file-text2'></use></svg></label><input id='data-34da576c-88dc-4462-9450-921630f7687c' class='xr-var-data-in' type='checkbox'><label for='data-34da576c-88dc-4462-9450-921630f7687c' title='Show/Hide data repr'><svg class='icon xr-icon-database'><use xlink:href='#icon-database'></use></svg></label><div class='xr-var-attrs'><dl class='xr-attrs'></dl></div><div class='xr-var-data'><pre>array([[[[nan, nan, nan],\n",
       "         [nan, nan, nan]]],\n",
       "\n",
       "\n",
       "       [[[1. , 0.9, 2. ],\n",
       "         [1. , 0. , 0.9]]],\n",
       "\n",
       "\n",
       "       [[[nan, nan, nan],\n",
       "         [nan, nan, nan]]],\n",
       "\n",
       "\n",
       "       [[[0. , 1. , 1. ],\n",
       "         [0.3, 2. , 1. ]]]])</pre></div></li><li class='xr-var-item'><div class='xr-var-name'><span>1d_capacity</span></div><div class='xr-var-dims'>(component, space)</div><div class='xr-var-dtype'>float64</div><div class='xr-var-preview xr-preview'>0.9 1.0 0.9 0.0 ... 0.9 nan nan nan</div><input id='attrs-03a0bce7-457e-490b-b81e-6d9ab8a23d47' class='xr-var-attrs-in' type='checkbox' disabled><label for='attrs-03a0bce7-457e-490b-b81e-6d9ab8a23d47' title='Show/Hide attributes'><svg class='icon xr-icon-file-text2'><use xlink:href='#icon-file-text2'></use></svg></label><input id='data-40de5db2-d139-429b-8b73-55bd9fc3ba9e' class='xr-var-data-in' type='checkbox'><label for='data-40de5db2-d139-429b-8b73-55bd9fc3ba9e' title='Show/Hide data repr'><svg class='icon xr-icon-database'><use xlink:href='#icon-database'></use></svg></label><div class='xr-var-attrs'><dl class='xr-attrs'></dl></div><div class='xr-var-data'><pre>array([[0.9, 1. , 0.9],\n",
       "       [0. , 0. , 0. ],\n",
       "       [0.9, 1. , 0.9],\n",
       "       [nan, nan, nan]])</pre></div></li><li class='xr-var-item'><div class='xr-var-name'><span>2d_distance</span></div><div class='xr-var-dims'>(component, space, space_2)</div><div class='xr-var-dtype'>float64</div><div class='xr-var-preview xr-preview'>0.0 1.0 2.0 1.0 ... nan nan nan nan</div><input id='attrs-6ec8b68e-a645-47af-a97d-7e9feb1ac92c' class='xr-var-attrs-in' type='checkbox' disabled><label for='attrs-6ec8b68e-a645-47af-a97d-7e9feb1ac92c' title='Show/Hide attributes'><svg class='icon xr-icon-file-text2'><use xlink:href='#icon-file-text2'></use></svg></label><input id='data-e2ba3a4f-fc39-4771-aad6-f3a1375a61fa' class='xr-var-data-in' type='checkbox'><label for='data-e2ba3a4f-fc39-4771-aad6-f3a1375a61fa' title='Show/Hide data repr'><svg class='icon xr-icon-database'><use xlink:href='#icon-database'></use></svg></label><div class='xr-var-attrs'><dl class='xr-attrs'></dl></div><div class='xr-var-data'><pre>array([[[ 0. ,  1. ,  2. ],\n",
       "        [ 1. ,  0. , 10. ],\n",
       "        [ 2. , 10. ,  0. ]],\n",
       "\n",
       "       [[ 0. ,  0.1,  0.2],\n",
       "        [ 0.1,  0. ,  1. ],\n",
       "        [ 0.2,  1. ,  0. ]],\n",
       "\n",
       "       [[ nan,  nan,  nan],\n",
       "        [ nan,  nan,  nan],\n",
       "        [ nan,  nan,  nan]],\n",
       "\n",
       "       [[ nan,  nan,  nan],\n",
       "        [ nan,  nan,  nan],\n",
       "        [ nan,  nan,  nan]]])</pre></div></li></ul></div></li><li class='xr-section-item'><input id='section-d321d24f-e724-4ee3-9381-46531f36c4bd' class='xr-section-summary-in' type='checkbox' disabled ><label for='section-d321d24f-e724-4ee3-9381-46531f36c4bd' class='xr-section-summary'  title='Expand/collapse section'>Attributes: <span>(0)</span></label><div class='xr-section-inline-details'></div><div class='xr-section-details'><dl class='xr-attrs'></dl></div></li></ul></div></div>"
      ],
      "text/plain": [
       "<xarray.Dataset>\n",
       "Dimensions:           (Period: 1, TimeStep: 2, component: 4, space: 3, space_2: 3)\n",
       "Coordinates:\n",
       "  * component         (component) <U2 'c1' 'c2' 'c3' 'c4'\n",
       "  * Period            (Period) int32 0\n",
       "  * TimeStep          (TimeStep) <U2 'T0' 'T1'\n",
       "  * space             (space) <U6 '01_reg' '02_reg' '03_reg'\n",
       "  * space_2           (space_2) <U6 '01_reg' '02_reg' '03_reg'\n",
       "Data variables:\n",
       "    operationFixRate  (component, Period, TimeStep, space) float64 nan ... 1.0\n",
       "    1d_capacity       (component, space) float64 0.9 1.0 0.9 0.0 ... nan nan nan\n",
       "    2d_distance       (component, space, space_2) float64 0.0 1.0 ... nan nan"
      ]
     },
     "execution_count": 2,
     "metadata": {},
     "output_type": "execute_result"
    }
   ],
   "source": [
    "space = ['01_reg','02_reg','03_reg']\n",
    "TimeStep = ['T0','T1']\n",
    "space_2 = space.copy()\n",
    "component = ['c1','c2','c3','c4']\n",
    "Period = [0]\n",
    "\n",
    "demand = np.stack([[[[np.nan,np.nan, np.nan] for i in range(2)]],\n",
    "                        [[[1, 0.9,  2],\n",
    "                          [1, 0,  0.9]]],\n",
    "                        [[[np.nan,np.nan, np.nan] for i in range(2)]],\n",
    "                        [[[0,   1, 1],\n",
    "                          [0.3, 2, 1]]]])\n",
    "demand = xr.DataArray(demand, coords=[component, Period, TimeStep, space], dims=['component', 'Period', 'TimeStep','space'])\n",
    "cap_1d = np.stack([[0.9,  1,  0.9],\n",
    "                        [0,    0,  0],\n",
    "                        [0.9,  1,  0.9],\n",
    "                        [np.nan] *3])\n",
    "cap_1d = xr.DataArray(cap_1d, coords=[component,space], dims=['component','space'])\n",
    "dist_2d = np.stack([[[0,1,2],[1,0,10],[2,10,0]],\n",
    "                         [[0,0.1,0.2],[0.1,0,1],[0.2,1,0]],\n",
    "                         [[np.nan] * 3 for i in range(3)],\n",
    "                         [[np.nan] * 3 for i in range(3)]])\n",
    "dist_2d = xr.DataArray(dist_2d, coords=[component,space,space_2], dims=['component','space','space_2'])\n",
    "\n",
    "ds = xr.Dataset({'operationFixRate': demand, '1d_capacity': cap_1d, '2d_distance': dist_2d})\n",
    "\n",
    "sds = spd.SpagatDataset()\n",
    "sds.xr_dataset = ds\n",
    "\n",
    "sds.xr_dataset"
   ]
  },
  {
   "cell_type": "code",
   "execution_count": 3,
   "metadata": {},
   "outputs": [],
   "source": [
    "# Obtain the data dictionaries for three var categories after preprocessing\n",
    "dict_ts, dict_1d, dict_2d = grouping_utils.preprocessDataset(sds, handle_mode='toDissimilarity')"
   ]
  },
  {
   "cell_type": "code",
   "execution_count": 4,
   "metadata": {},
   "outputs": [
    {
     "data": {
      "text/plain": [
       "{'operationFixRate': array([[0.5 , 0.5 , 0.  , 0.15],\n",
       "        [0.45, 0.  , 0.5 , 1.  ],\n",
       "        [1.  , 0.45, 0.5 , 0.5 ]])}"
      ]
     },
     "execution_count": 4,
     "metadata": {},
     "output_type": "execute_result"
    }
   ],
   "source": [
    "dict_ts"
   ]
  },
  {
   "cell_type": "code",
   "execution_count": 5,
   "metadata": {},
   "outputs": [
    {
     "data": {
      "text/plain": [
       "{'1d_capacity': array([[0., 0., 0.],\n",
       "        [1., 0., 1.],\n",
       "        [0., 0., 0.]])}"
      ]
     },
     "execution_count": 5,
     "metadata": {},
     "output_type": "execute_result"
    }
   ],
   "source": [
    "dict_1d"
   ]
  },
  {
   "cell_type": "code",
   "execution_count": 6,
   "metadata": {},
   "outputs": [
    {
     "data": {
      "text/plain": [
       "{'2d_distance': {0: array([0.9, 0.8, 0. ]), 1: array([0.9, 0.8, 0. ])}}"
      ]
     },
     "execution_count": 6,
     "metadata": {},
     "output_type": "execute_result"
    }
   ],
   "source": [
    "dict_2d"
   ]
  },
  {
   "cell_type": "code",
   "execution_count": 7,
   "metadata": {},
   "outputs": [],
   "source": [
    "# Original region list\n",
    "dimension_description='space' \n",
    "regions_list = sds.xr_dataset[dimension_description].values\n",
    "n_regions = len(regions_list)\n",
    "\n"
   ]
  },
  {
   "cell_type": "code",
   "execution_count": 8,
   "metadata": {},
   "outputs": [],
   "source": [
    "# Apply clustering methods based on the Custom Distance Function\n",
    "squared_dist_matrix = grouping_utils.selfDistanceMatrix(dict_ts, dict_1d, dict_2d, n_regions)"
   ]
  },
  {
   "cell_type": "code",
   "execution_count": 9,
   "metadata": {},
   "outputs": [
    {
     "data": {
      "text/plain": [
       "array([[0.   , 4.845, 1.905],\n",
       "       [4.845, 0.   , 2.755],\n",
       "       [1.905, 2.755, 0.   ]])"
      ]
     },
     "execution_count": 9,
     "metadata": {},
     "output_type": "execute_result"
    }
   ],
   "source": [
    "squared_dist_matrix"
   ]
  },
  {
   "cell_type": "markdown",
   "metadata": {},
   "source": [
    "# selfDistanceMatrix()"
   ]
  },
  {
   "cell_type": "code",
   "execution_count": 10,
   "metadata": {},
   "outputs": [],
   "source": [
    "ds_ts = dict_ts\n",
    "ds_1d = dict_1d\n",
    "ds_2d = dict_2d\n",
    "n_regions = n_regions\n",
    "var_weightings=None"
   ]
  },
  {
   "cell_type": "code",
   "execution_count": 11,
   "metadata": {},
   "outputs": [
    {
     "data": {
      "text/plain": [
       "array([[0., 0., 0.],\n",
       "       [0., 0., 0.],\n",
       "       [0., 0., 0.]])"
      ]
     },
     "execution_count": 11,
     "metadata": {},
     "output_type": "execute_result"
    }
   ],
   "source": [
    "distMatrix = np.zeros((n_regions,n_regions))\n",
    "distMatrix"
   ]
  },
  {
   "cell_type": "code",
   "execution_count": 12,
   "metadata": {},
   "outputs": [
    {
     "name": "stdout",
     "output_type": "stream",
     "text": [
      "regions are 0 and 1\n",
      "4.845\n",
      "-----------------------------------------------------------------------------------------\n",
      "regions are 0 and 2\n",
      "1.9050000000000002\n",
      "-----------------------------------------------------------------------------------------\n",
      "regions are 1 and 2\n",
      "2.755\n",
      "-----------------------------------------------------------------------------------------\n",
      "[[0.    4.845 1.905]\n",
      " [0.    0.    2.755]\n",
      " [0.    0.    0.   ]]\n",
      "-----------------------------------------------------------------------------------------\n"
     ]
    }
   ],
   "source": [
    "for i in range(n_regions):\n",
    "    for j in range(i+1,n_regions):\n",
    "        print(f'regions are {i} and {j}')\n",
    "        distMatrix[i,j] = grouping_utils.selfDistance(ds_ts,ds_1d, ds_2d, n_regions, i,j, var_weightings=var_weightings)\n",
    "        print(distMatrix[i,j])\n",
    "        print('-----------------------------------------------------------------------------------------')\n",
    "print(distMatrix)\n",
    "print('-----------------------------------------------------------------------------------------')\n",
    "distMatrix += distMatrix.T - np.diag(distMatrix.diagonal())"
   ]
  },
  {
   "cell_type": "code",
   "execution_count": 13,
   "metadata": {},
   "outputs": [
    {
     "data": {
      "text/plain": [
       "array([[0.   , 4.845, 1.905],\n",
       "       [4.845, 0.   , 2.755],\n",
       "       [1.905, 2.755, 0.   ]])"
      ]
     },
     "execution_count": 13,
     "metadata": {},
     "output_type": "execute_result"
    }
   ],
   "source": [
    "distMatrix"
   ]
  },
  {
   "cell_type": "markdown",
   "metadata": {},
   "source": [
    "# selfDistance()"
   ]
  },
  {
   "cell_type": "code",
   "execution_count": 14,
   "metadata": {},
   "outputs": [],
   "source": [
    "ds_ts = dict_ts\n",
    "ds_1d = dict_1d\n",
    "ds_2d = dict_2d\n",
    "n_regions = n_regions\n",
    "a = 0\n",
    "b = 1\n",
    "var_weightings=None\n",
    "part_weightings=None"
   ]
  },
  {
   "cell_type": "markdown",
   "metadata": {},
   "source": [
    "#### STEP 1. If weights for variables are not passed (via var_weightings) then assign default 1 to each "
   ]
  },
  {
   "cell_type": "code",
   "execution_count": 15,
   "metadata": {},
   "outputs": [],
   "source": [
    "# Weighting factors of each variable \n",
    "if var_weightings:                       \n",
    "    var_weightings = var_weightings\n",
    "else:                                    #TODO: Skip the if statement and \"if not var_weightings\" here\n",
    "    vars_list = list(ds_ts.keys()) + list(ds_1d.keys()) + list(ds_2d.keys())\n",
    "    var_weightings = dict.fromkeys(vars_list,1)"
   ]
  },
  {
   "cell_type": "markdown",
   "metadata": {},
   "source": [
    "#### STEP 2. If weights for the 3 variable categories are not passed (via part_weightings) then assign default 1 to each"
   ]
  },
  {
   "cell_type": "code",
   "execution_count": 16,
   "metadata": {},
   "outputs": [],
   "source": [
    "\n",
    "if part_weightings:\n",
    "    part_weightings = part_weightings\n",
    "else:                              #TODO: similar to the above change\n",
    "    part_weightings = [1,1,1]"
   ]
  },
  {
   "cell_type": "markdown",
   "metadata": {},
   "source": [
    "#### STEP 3. Find distance for each variable category separately "
   ]
  },
  {
   "cell_type": "markdown",
   "metadata": {},
   "source": [
    "#### STEP 3a. Distance of Time Series Part"
   ]
  },
  {
   "cell_type": "code",
   "execution_count": 17,
   "metadata": {},
   "outputs": [],
   "source": [
    "distance_ts = 0"
   ]
  },
  {
   "cell_type": "code",
   "execution_count": 14,
   "metadata": {},
   "outputs": [
    {
     "name": "stdout",
     "output_type": "stream",
     "text": [
      "[0.5  0.5  0.   0.15]\n",
      "[0.45 0.   0.5  1.  ]\n",
      "---------------------------------------------------------------------\n",
      "[ 0.05  0.5  -0.5  -0.85]\n",
      "---------------------------------------------------------------------\n",
      "[0.0025 0.25   0.25   0.7225]\n",
      "---------------------------------------------------------------------\n",
      "1.2249999999999999\n",
      "---------------------------------------------------------------------\n",
      "1.2249999999999999\n"
     ]
    }
   ],
   "source": [
    "for var, var_matr in ds_ts.items():\n",
    "#     print(var)\n",
    "#     print(var_matr)\n",
    "#     print('---------------------------------------------------------------------')\n",
    "    var_weight_factor = var_weightings[var]\n",
    "    # Vectors for the two data points (regions), each feature refers to [one valid component & one timestep] for this var\n",
    "    reg_a = var_matr[a]\n",
    "    reg_b = var_matr[b]\n",
    "    print(reg_a)\n",
    "    print(reg_b)\n",
    "    print('---------------------------------------------------------------------')\n",
    "    print(reg_a - reg_b)\n",
    "    print('---------------------------------------------------------------------')\n",
    "    print(np.power((reg_a - reg_b),2))\n",
    "    print('---------------------------------------------------------------------')\n",
    "    print(sum(np.power((reg_a - reg_b),2)))\n",
    "    print('---------------------------------------------------------------------')\n",
    "    distance_ts += sum(np.power((reg_a - reg_b),2)) * var_weight_factor\n",
    "    print(distance_ts)"
   ]
  },
  {
   "cell_type": "code",
   "execution_count": 15,
   "metadata": {},
   "outputs": [
    {
     "data": {
      "text/plain": [
       "1.2249999999999999"
      ]
     },
     "execution_count": 15,
     "metadata": {},
     "output_type": "execute_result"
    }
   ],
   "source": [
    "distance_ts"
   ]
  },
  {
   "cell_type": "markdown",
   "metadata": {},
   "source": [
    "#### STEP 3b. Distance of 1d Variables Part"
   ]
  },
  {
   "cell_type": "code",
   "execution_count": null,
   "metadata": {},
   "outputs": [],
   "source": [
    "distance_1d = 0"
   ]
  },
  {
   "cell_type": "code",
   "execution_count": null,
   "metadata": {},
   "outputs": [],
   "source": [
    "for var, var_matr in ds_1d.items():\n",
    "    print(var)\n",
    "    print(var_matr)\n",
    "    print('---------------------------------------------------------------------')\n",
    "    var_weight_factor = var_weightings[var]\n",
    "\n",
    "    # Vectors for the two data points (regions), each feature refers to one valid component for this var\n",
    "    reg_a = var_matr[a]\n",
    "    reg_b = var_matr[b]\n",
    "    print(reg_a)\n",
    "    print(reg_b)\n",
    "    print('---------------------------------------------------------------------')\n",
    "    # dist_1d(a,b) = sum_var{var_weight * sum_c( [value_var_c(a) - value_var_c(b)]^2 ) }\n",
    "    distance_1d += sum(np.power((reg_a - reg_b),2)) * var_weight_factor"
   ]
  },
  {
   "cell_type": "markdown",
   "metadata": {},
   "source": [
    "#### STEP 3c. Distance of 2d Variables Part"
   ]
  },
  {
   "cell_type": "code",
   "execution_count": null,
   "metadata": {},
   "outputs": [],
   "source": [
    "dict_2d"
   ]
  },
  {
   "cell_type": "code",
   "execution_count": null,
   "metadata": {},
   "outputs": [],
   "source": [
    "distance_2d = 0"
   ]
  },
  {
   "cell_type": "code",
   "execution_count": null,
   "metadata": {},
   "outputs": [],
   "source": [
    "# The index of corresponding value for region[a] and region[b] in the distance vectors\n",
    "index_regA_regB = a * (n_regions - a) + (b - a) -1\n",
    "index_regA_regB"
   ]
  },
  {
   "cell_type": "code",
   "execution_count": null,
   "metadata": {},
   "outputs": [],
   "source": [
    "for var, var_dict in ds_2d.items():\n",
    "   \n",
    "\n",
    "    var_weight_factor = var_weightings[var]\n",
    "    for component, data in var_dict.items():\n",
    "        # Find the corresponding distance value for region_a and region_b \n",
    "        value_var_c = data[index_regA_regB]\n",
    "        print(value_var_c)\n",
    "        print('--------------------------------------------------------------')\n",
    "        if not np.isnan(value_var_c):\n",
    "            \n",
    "            distance_2d += (value_var_c*value_var_c) * var_weight_factor\n",
    "\n"
   ]
  },
  {
   "cell_type": "markdown",
   "metadata": {},
   "source": [
    "#### STEP 4. Add all three distances part_weightings of each category"
   ]
  },
  {
   "cell_type": "code",
   "execution_count": null,
   "metadata": {},
   "outputs": [],
   "source": [
    "distance_ts * part_weightings[0] + distance_1d * part_weightings[1] + distance_2d * part_weightings[2]"
   ]
  },
  {
   "cell_type": "code",
   "execution_count": null,
   "metadata": {},
   "outputs": [],
   "source": []
  }
 ],
 "metadata": {
  "kernelspec": {
   "display_name": "Python 3",
   "language": "python",
   "name": "python3"
  },
  "language_info": {
   "codemirror_mode": {
    "name": "ipython",
    "version": 3
   },
   "file_extension": ".py",
   "mimetype": "text/x-python",
   "name": "python",
   "nbconvert_exporter": "python",
   "pygments_lexer": "ipython3",
   "version": "3.7.8"
  }
 },
 "nbformat": 4,
 "nbformat_minor": 4
}
