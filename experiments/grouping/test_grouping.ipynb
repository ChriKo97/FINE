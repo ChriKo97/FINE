{
 "cells": [
  {
   "cell_type": "code",
   "execution_count": 9,
   "metadata": {},
   "outputs": [],
   "source": [
    "import pathlib\n",
    "import numpy as np\n",
    "import pytest\n",
    "import xarray as xr \n",
    "\n",
    "import FINE.spagat.dataset as spd\n",
    "import FINE.spagat.representation as spr\n",
    "import FINE.spagat.grouping as spg"
   ]
  },
  {
   "cell_type": "markdown",
   "metadata": {},
   "source": [
    "## dataset - test_dataset1"
   ]
  },
  {
   "cell_type": "code",
   "execution_count": 3,
   "metadata": {},
   "outputs": [],
   "source": [
    "space = ['01_reg','02_reg','03_reg']\n",
    "timestep = ['T0','T1']\n",
    "space_2 = space.copy()\n",
    "\n",
    "opFix = xr.DataArray(np.array([[1,1],\n",
    "                                    [0.9,1],\n",
    "                                    [2,2]]), coords=[space, timestep], dims=['space', 'TimeStep'])\n",
    "cap_1d = xr.DataArray(np.array([0.9,\n",
    "                                       1,\n",
    "                                       0.9]), coords=[space], dims=['space'])\n",
    "dist_2d = xr.DataArray(np.array([[0,1,2],\n",
    "                                      [1,0,10],\n",
    "                                      [2,10,0]]), coords=[space,space_2], dims=['space','space_2'])\n",
    "\n",
    "ds = xr.Dataset({'operationFixRate': opFix,'1d_capacity': cap_1d,'2d_distance': dist_2d})\n",
    "\n",
    "ds"
   ]
  },
  {
   "cell_type": "code",
   "execution_count": 5,
   "metadata": {},
   "outputs": [
    {
     "data": {
      "text/plain": [
       "<FINE.spagat.dataset.SpagatDataset at 0x120543776c8>"
      ]
     },
     "execution_count": 5,
     "metadata": {},
     "output_type": "execute_result"
    }
   ],
   "source": [
    "sds = spd.SpagatDataset()\n",
    "sds.xr_dataset = ds\n",
    "\n",
    "test_dataset1 = sds\n",
    "test_dataset1"
   ]
  },
  {
   "cell_type": "markdown",
   "metadata": {},
   "source": [
    "## dataset - test_dataset2"
   ]
  },
  {
   "cell_type": "code",
   "execution_count": 6,
   "metadata": {},
   "outputs": [
    {
     "data": {
      "text/html": [
       "<div><svg style=\"position: absolute; width: 0; height: 0; overflow: hidden\">\n",
       "<defs>\n",
       "<symbol id=\"icon-database\" viewBox=\"0 0 32 32\">\n",
       "<path d=\"M16 0c-8.837 0-16 2.239-16 5v4c0 2.761 7.163 5 16 5s16-2.239 16-5v-4c0-2.761-7.163-5-16-5z\"></path>\n",
       "<path d=\"M16 17c-8.837 0-16-2.239-16-5v6c0 2.761 7.163 5 16 5s16-2.239 16-5v-6c0 2.761-7.163 5-16 5z\"></path>\n",
       "<path d=\"M16 26c-8.837 0-16-2.239-16-5v6c0 2.761 7.163 5 16 5s16-2.239 16-5v-6c0 2.761-7.163 5-16 5z\"></path>\n",
       "</symbol>\n",
       "<symbol id=\"icon-file-text2\" viewBox=\"0 0 32 32\">\n",
       "<path d=\"M28.681 7.159c-0.694-0.947-1.662-2.053-2.724-3.116s-2.169-2.030-3.116-2.724c-1.612-1.182-2.393-1.319-2.841-1.319h-15.5c-1.378 0-2.5 1.121-2.5 2.5v27c0 1.378 1.122 2.5 2.5 2.5h23c1.378 0 2.5-1.122 2.5-2.5v-19.5c0-0.448-0.137-1.23-1.319-2.841zM24.543 5.457c0.959 0.959 1.712 1.825 2.268 2.543h-4.811v-4.811c0.718 0.556 1.584 1.309 2.543 2.268zM28 29.5c0 0.271-0.229 0.5-0.5 0.5h-23c-0.271 0-0.5-0.229-0.5-0.5v-27c0-0.271 0.229-0.5 0.5-0.5 0 0 15.499-0 15.5 0v7c0 0.552 0.448 1 1 1h7v19.5z\"></path>\n",
       "<path d=\"M23 26h-14c-0.552 0-1-0.448-1-1s0.448-1 1-1h14c0.552 0 1 0.448 1 1s-0.448 1-1 1z\"></path>\n",
       "<path d=\"M23 22h-14c-0.552 0-1-0.448-1-1s0.448-1 1-1h14c0.552 0 1 0.448 1 1s-0.448 1-1 1z\"></path>\n",
       "<path d=\"M23 18h-14c-0.552 0-1-0.448-1-1s0.448-1 1-1h14c0.552 0 1 0.448 1 1s-0.448 1-1 1z\"></path>\n",
       "</symbol>\n",
       "</defs>\n",
       "</svg>\n",
       "<style>/* CSS stylesheet for displaying xarray objects in jupyterlab.\n",
       " *\n",
       " */\n",
       "\n",
       ":root {\n",
       "  --xr-font-color0: var(--jp-content-font-color0, rgba(0, 0, 0, 1));\n",
       "  --xr-font-color2: var(--jp-content-font-color2, rgba(0, 0, 0, 0.54));\n",
       "  --xr-font-color3: var(--jp-content-font-color3, rgba(0, 0, 0, 0.38));\n",
       "  --xr-border-color: var(--jp-border-color2, #e0e0e0);\n",
       "  --xr-disabled-color: var(--jp-layout-color3, #bdbdbd);\n",
       "  --xr-background-color: var(--jp-layout-color0, white);\n",
       "  --xr-background-color-row-even: var(--jp-layout-color1, white);\n",
       "  --xr-background-color-row-odd: var(--jp-layout-color2, #eeeeee);\n",
       "}\n",
       "\n",
       "html[theme=dark],\n",
       "body.vscode-dark {\n",
       "  --xr-font-color0: rgba(255, 255, 255, 1);\n",
       "  --xr-font-color2: rgba(255, 255, 255, 0.54);\n",
       "  --xr-font-color3: rgba(255, 255, 255, 0.38);\n",
       "  --xr-border-color: #1F1F1F;\n",
       "  --xr-disabled-color: #515151;\n",
       "  --xr-background-color: #111111;\n",
       "  --xr-background-color-row-even: #111111;\n",
       "  --xr-background-color-row-odd: #313131;\n",
       "}\n",
       "\n",
       ".xr-wrap {\n",
       "  display: block;\n",
       "  min-width: 300px;\n",
       "  max-width: 700px;\n",
       "}\n",
       "\n",
       ".xr-text-repr-fallback {\n",
       "  /* fallback to plain text repr when CSS is not injected (untrusted notebook) */\n",
       "  display: none;\n",
       "}\n",
       "\n",
       ".xr-header {\n",
       "  padding-top: 6px;\n",
       "  padding-bottom: 6px;\n",
       "  margin-bottom: 4px;\n",
       "  border-bottom: solid 1px var(--xr-border-color);\n",
       "}\n",
       "\n",
       ".xr-header > div,\n",
       ".xr-header > ul {\n",
       "  display: inline;\n",
       "  margin-top: 0;\n",
       "  margin-bottom: 0;\n",
       "}\n",
       "\n",
       ".xr-obj-type,\n",
       ".xr-array-name {\n",
       "  margin-left: 2px;\n",
       "  margin-right: 10px;\n",
       "}\n",
       "\n",
       ".xr-obj-type {\n",
       "  color: var(--xr-font-color2);\n",
       "}\n",
       "\n",
       ".xr-sections {\n",
       "  padding-left: 0 !important;\n",
       "  display: grid;\n",
       "  grid-template-columns: 150px auto auto 1fr 20px 20px;\n",
       "}\n",
       "\n",
       ".xr-section-item {\n",
       "  display: contents;\n",
       "}\n",
       "\n",
       ".xr-section-item input {\n",
       "  display: none;\n",
       "}\n",
       "\n",
       ".xr-section-item input + label {\n",
       "  color: var(--xr-disabled-color);\n",
       "}\n",
       "\n",
       ".xr-section-item input:enabled + label {\n",
       "  cursor: pointer;\n",
       "  color: var(--xr-font-color2);\n",
       "}\n",
       "\n",
       ".xr-section-item input:enabled + label:hover {\n",
       "  color: var(--xr-font-color0);\n",
       "}\n",
       "\n",
       ".xr-section-summary {\n",
       "  grid-column: 1;\n",
       "  color: var(--xr-font-color2);\n",
       "  font-weight: 500;\n",
       "}\n",
       "\n",
       ".xr-section-summary > span {\n",
       "  display: inline-block;\n",
       "  padding-left: 0.5em;\n",
       "}\n",
       "\n",
       ".xr-section-summary-in:disabled + label {\n",
       "  color: var(--xr-font-color2);\n",
       "}\n",
       "\n",
       ".xr-section-summary-in + label:before {\n",
       "  display: inline-block;\n",
       "  content: '►';\n",
       "  font-size: 11px;\n",
       "  width: 15px;\n",
       "  text-align: center;\n",
       "}\n",
       "\n",
       ".xr-section-summary-in:disabled + label:before {\n",
       "  color: var(--xr-disabled-color);\n",
       "}\n",
       "\n",
       ".xr-section-summary-in:checked + label:before {\n",
       "  content: '▼';\n",
       "}\n",
       "\n",
       ".xr-section-summary-in:checked + label > span {\n",
       "  display: none;\n",
       "}\n",
       "\n",
       ".xr-section-summary,\n",
       ".xr-section-inline-details {\n",
       "  padding-top: 4px;\n",
       "  padding-bottom: 4px;\n",
       "}\n",
       "\n",
       ".xr-section-inline-details {\n",
       "  grid-column: 2 / -1;\n",
       "}\n",
       "\n",
       ".xr-section-details {\n",
       "  display: none;\n",
       "  grid-column: 1 / -1;\n",
       "  margin-bottom: 5px;\n",
       "}\n",
       "\n",
       ".xr-section-summary-in:checked ~ .xr-section-details {\n",
       "  display: contents;\n",
       "}\n",
       "\n",
       ".xr-array-wrap {\n",
       "  grid-column: 1 / -1;\n",
       "  display: grid;\n",
       "  grid-template-columns: 20px auto;\n",
       "}\n",
       "\n",
       ".xr-array-wrap > label {\n",
       "  grid-column: 1;\n",
       "  vertical-align: top;\n",
       "}\n",
       "\n",
       ".xr-preview {\n",
       "  color: var(--xr-font-color3);\n",
       "}\n",
       "\n",
       ".xr-array-preview,\n",
       ".xr-array-data {\n",
       "  padding: 0 5px !important;\n",
       "  grid-column: 2;\n",
       "}\n",
       "\n",
       ".xr-array-data,\n",
       ".xr-array-in:checked ~ .xr-array-preview {\n",
       "  display: none;\n",
       "}\n",
       "\n",
       ".xr-array-in:checked ~ .xr-array-data,\n",
       ".xr-array-preview {\n",
       "  display: inline-block;\n",
       "}\n",
       "\n",
       ".xr-dim-list {\n",
       "  display: inline-block !important;\n",
       "  list-style: none;\n",
       "  padding: 0 !important;\n",
       "  margin: 0;\n",
       "}\n",
       "\n",
       ".xr-dim-list li {\n",
       "  display: inline-block;\n",
       "  padding: 0;\n",
       "  margin: 0;\n",
       "}\n",
       "\n",
       ".xr-dim-list:before {\n",
       "  content: '(';\n",
       "}\n",
       "\n",
       ".xr-dim-list:after {\n",
       "  content: ')';\n",
       "}\n",
       "\n",
       ".xr-dim-list li:not(:last-child):after {\n",
       "  content: ',';\n",
       "  padding-right: 5px;\n",
       "}\n",
       "\n",
       ".xr-has-index {\n",
       "  font-weight: bold;\n",
       "}\n",
       "\n",
       ".xr-var-list,\n",
       ".xr-var-item {\n",
       "  display: contents;\n",
       "}\n",
       "\n",
       ".xr-var-item > div,\n",
       ".xr-var-item label,\n",
       ".xr-var-item > .xr-var-name span {\n",
       "  background-color: var(--xr-background-color-row-even);\n",
       "  margin-bottom: 0;\n",
       "}\n",
       "\n",
       ".xr-var-item > .xr-var-name:hover span {\n",
       "  padding-right: 5px;\n",
       "}\n",
       "\n",
       ".xr-var-list > li:nth-child(odd) > div,\n",
       ".xr-var-list > li:nth-child(odd) > label,\n",
       ".xr-var-list > li:nth-child(odd) > .xr-var-name span {\n",
       "  background-color: var(--xr-background-color-row-odd);\n",
       "}\n",
       "\n",
       ".xr-var-name {\n",
       "  grid-column: 1;\n",
       "}\n",
       "\n",
       ".xr-var-dims {\n",
       "  grid-column: 2;\n",
       "}\n",
       "\n",
       ".xr-var-dtype {\n",
       "  grid-column: 3;\n",
       "  text-align: right;\n",
       "  color: var(--xr-font-color2);\n",
       "}\n",
       "\n",
       ".xr-var-preview {\n",
       "  grid-column: 4;\n",
       "}\n",
       "\n",
       ".xr-var-name,\n",
       ".xr-var-dims,\n",
       ".xr-var-dtype,\n",
       ".xr-preview,\n",
       ".xr-attrs dt {\n",
       "  white-space: nowrap;\n",
       "  overflow: hidden;\n",
       "  text-overflow: ellipsis;\n",
       "  padding-right: 10px;\n",
       "}\n",
       "\n",
       ".xr-var-name:hover,\n",
       ".xr-var-dims:hover,\n",
       ".xr-var-dtype:hover,\n",
       ".xr-attrs dt:hover {\n",
       "  overflow: visible;\n",
       "  width: auto;\n",
       "  z-index: 1;\n",
       "}\n",
       "\n",
       ".xr-var-attrs,\n",
       ".xr-var-data {\n",
       "  display: none;\n",
       "  background-color: var(--xr-background-color) !important;\n",
       "  padding-bottom: 5px !important;\n",
       "}\n",
       "\n",
       ".xr-var-attrs-in:checked ~ .xr-var-attrs,\n",
       ".xr-var-data-in:checked ~ .xr-var-data {\n",
       "  display: block;\n",
       "}\n",
       "\n",
       ".xr-var-data > table {\n",
       "  float: right;\n",
       "}\n",
       "\n",
       ".xr-var-name span,\n",
       ".xr-var-data,\n",
       ".xr-attrs {\n",
       "  padding-left: 25px !important;\n",
       "}\n",
       "\n",
       ".xr-attrs,\n",
       ".xr-var-attrs,\n",
       ".xr-var-data {\n",
       "  grid-column: 1 / -1;\n",
       "}\n",
       "\n",
       "dl.xr-attrs {\n",
       "  padding: 0;\n",
       "  margin: 0;\n",
       "  display: grid;\n",
       "  grid-template-columns: 125px auto;\n",
       "}\n",
       "\n",
       ".xr-attrs dt, dd {\n",
       "  padding: 0;\n",
       "  margin: 0;\n",
       "  float: left;\n",
       "  padding-right: 10px;\n",
       "  width: auto;\n",
       "}\n",
       "\n",
       ".xr-attrs dt {\n",
       "  font-weight: normal;\n",
       "  grid-column: 1;\n",
       "}\n",
       "\n",
       ".xr-attrs dt:hover span {\n",
       "  display: inline-block;\n",
       "  background: var(--xr-background-color);\n",
       "  padding-right: 10px;\n",
       "}\n",
       "\n",
       ".xr-attrs dd {\n",
       "  grid-column: 2;\n",
       "  white-space: pre-wrap;\n",
       "  word-break: break-all;\n",
       "}\n",
       "\n",
       ".xr-icon-database,\n",
       ".xr-icon-file-text2 {\n",
       "  display: inline-block;\n",
       "  vertical-align: middle;\n",
       "  width: 1em;\n",
       "  height: 1.5em !important;\n",
       "  stroke-width: 0;\n",
       "  stroke: currentColor;\n",
       "  fill: currentColor;\n",
       "}\n",
       "</style><pre class='xr-text-repr-fallback'>&lt;xarray.Dataset&gt;\n",
       "Dimensions:           (Period: 1, TimeStep: 2, component: 4, space: 3, space_2: 3)\n",
       "Coordinates:\n",
       "  * component         (component) &lt;U2 &#x27;c1&#x27; &#x27;c2&#x27; &#x27;c3&#x27; &#x27;c4&#x27;\n",
       "  * Period            (Period) int32 0\n",
       "  * TimeStep          (TimeStep) &lt;U2 &#x27;T0&#x27; &#x27;T1&#x27;\n",
       "  * space             (space) &lt;U6 &#x27;01_reg&#x27; &#x27;02_reg&#x27; &#x27;03_reg&#x27;\n",
       "  * space_2           (space_2) &lt;U6 &#x27;01_reg&#x27; &#x27;02_reg&#x27; &#x27;03_reg&#x27;\n",
       "Data variables:\n",
       "    operationFixRate  (component, Period, TimeStep, space) float64 nan ... 1.0\n",
       "    1d_capacity       (component, space) float64 0.9 1.0 0.9 0.0 ... nan nan nan\n",
       "    2d_distance       (component, space, space_2) float64 0.0 1.0 ... nan nan</pre><div class='xr-wrap' hidden><div class='xr-header'><div class='xr-obj-type'>xarray.Dataset</div></div><ul class='xr-sections'><li class='xr-section-item'><input id='section-7b3a4de9-39fb-4f97-8f27-aeb835e7bc46' class='xr-section-summary-in' type='checkbox' disabled ><label for='section-7b3a4de9-39fb-4f97-8f27-aeb835e7bc46' class='xr-section-summary'  title='Expand/collapse section'>Dimensions:</label><div class='xr-section-inline-details'><ul class='xr-dim-list'><li><span class='xr-has-index'>Period</span>: 1</li><li><span class='xr-has-index'>TimeStep</span>: 2</li><li><span class='xr-has-index'>component</span>: 4</li><li><span class='xr-has-index'>space</span>: 3</li><li><span class='xr-has-index'>space_2</span>: 3</li></ul></div><div class='xr-section-details'></div></li><li class='xr-section-item'><input id='section-c9cf7c92-da65-417a-a910-f9e344ffd085' class='xr-section-summary-in' type='checkbox'  checked><label for='section-c9cf7c92-da65-417a-a910-f9e344ffd085' class='xr-section-summary' >Coordinates: <span>(5)</span></label><div class='xr-section-inline-details'></div><div class='xr-section-details'><ul class='xr-var-list'><li class='xr-var-item'><div class='xr-var-name'><span class='xr-has-index'>component</span></div><div class='xr-var-dims'>(component)</div><div class='xr-var-dtype'>&lt;U2</div><div class='xr-var-preview xr-preview'>&#x27;c1&#x27; &#x27;c2&#x27; &#x27;c3&#x27; &#x27;c4&#x27;</div><input id='attrs-90789705-ed0f-4045-a896-605ae9550be0' class='xr-var-attrs-in' type='checkbox' disabled><label for='attrs-90789705-ed0f-4045-a896-605ae9550be0' title='Show/Hide attributes'><svg class='icon xr-icon-file-text2'><use xlink:href='#icon-file-text2'></use></svg></label><input id='data-48ebb93c-a3b2-4f16-8c08-c55f39e607b7' class='xr-var-data-in' type='checkbox'><label for='data-48ebb93c-a3b2-4f16-8c08-c55f39e607b7' title='Show/Hide data repr'><svg class='icon xr-icon-database'><use xlink:href='#icon-database'></use></svg></label><div class='xr-var-attrs'><dl class='xr-attrs'></dl></div><div class='xr-var-data'><pre>array([&#x27;c1&#x27;, &#x27;c2&#x27;, &#x27;c3&#x27;, &#x27;c4&#x27;], dtype=&#x27;&lt;U2&#x27;)</pre></div></li><li class='xr-var-item'><div class='xr-var-name'><span class='xr-has-index'>Period</span></div><div class='xr-var-dims'>(Period)</div><div class='xr-var-dtype'>int32</div><div class='xr-var-preview xr-preview'>0</div><input id='attrs-01268305-4208-4089-8555-343e977acc66' class='xr-var-attrs-in' type='checkbox' disabled><label for='attrs-01268305-4208-4089-8555-343e977acc66' title='Show/Hide attributes'><svg class='icon xr-icon-file-text2'><use xlink:href='#icon-file-text2'></use></svg></label><input id='data-a1e401a1-4325-4b54-89a2-e070e0abb62c' class='xr-var-data-in' type='checkbox'><label for='data-a1e401a1-4325-4b54-89a2-e070e0abb62c' title='Show/Hide data repr'><svg class='icon xr-icon-database'><use xlink:href='#icon-database'></use></svg></label><div class='xr-var-attrs'><dl class='xr-attrs'></dl></div><div class='xr-var-data'><pre>array([0])</pre></div></li><li class='xr-var-item'><div class='xr-var-name'><span class='xr-has-index'>TimeStep</span></div><div class='xr-var-dims'>(TimeStep)</div><div class='xr-var-dtype'>&lt;U2</div><div class='xr-var-preview xr-preview'>&#x27;T0&#x27; &#x27;T1&#x27;</div><input id='attrs-04ed5736-8fcc-4527-b960-5f2d93e722f9' class='xr-var-attrs-in' type='checkbox' disabled><label for='attrs-04ed5736-8fcc-4527-b960-5f2d93e722f9' title='Show/Hide attributes'><svg class='icon xr-icon-file-text2'><use xlink:href='#icon-file-text2'></use></svg></label><input id='data-dff716ea-9bea-42d8-8e12-ec897dffd308' class='xr-var-data-in' type='checkbox'><label for='data-dff716ea-9bea-42d8-8e12-ec897dffd308' title='Show/Hide data repr'><svg class='icon xr-icon-database'><use xlink:href='#icon-database'></use></svg></label><div class='xr-var-attrs'><dl class='xr-attrs'></dl></div><div class='xr-var-data'><pre>array([&#x27;T0&#x27;, &#x27;T1&#x27;], dtype=&#x27;&lt;U2&#x27;)</pre></div></li><li class='xr-var-item'><div class='xr-var-name'><span class='xr-has-index'>space</span></div><div class='xr-var-dims'>(space)</div><div class='xr-var-dtype'>&lt;U6</div><div class='xr-var-preview xr-preview'>&#x27;01_reg&#x27; &#x27;02_reg&#x27; &#x27;03_reg&#x27;</div><input id='attrs-12a6c4b9-decb-4642-8804-f09f2fb192e3' class='xr-var-attrs-in' type='checkbox' disabled><label for='attrs-12a6c4b9-decb-4642-8804-f09f2fb192e3' title='Show/Hide attributes'><svg class='icon xr-icon-file-text2'><use xlink:href='#icon-file-text2'></use></svg></label><input id='data-cb1a14ab-4ee5-4dd3-b767-1a447a709da6' class='xr-var-data-in' type='checkbox'><label for='data-cb1a14ab-4ee5-4dd3-b767-1a447a709da6' title='Show/Hide data repr'><svg class='icon xr-icon-database'><use xlink:href='#icon-database'></use></svg></label><div class='xr-var-attrs'><dl class='xr-attrs'></dl></div><div class='xr-var-data'><pre>array([&#x27;01_reg&#x27;, &#x27;02_reg&#x27;, &#x27;03_reg&#x27;], dtype=&#x27;&lt;U6&#x27;)</pre></div></li><li class='xr-var-item'><div class='xr-var-name'><span class='xr-has-index'>space_2</span></div><div class='xr-var-dims'>(space_2)</div><div class='xr-var-dtype'>&lt;U6</div><div class='xr-var-preview xr-preview'>&#x27;01_reg&#x27; &#x27;02_reg&#x27; &#x27;03_reg&#x27;</div><input id='attrs-5f302e6f-ff77-4e81-a6ae-728afa18fee1' class='xr-var-attrs-in' type='checkbox' disabled><label for='attrs-5f302e6f-ff77-4e81-a6ae-728afa18fee1' title='Show/Hide attributes'><svg class='icon xr-icon-file-text2'><use xlink:href='#icon-file-text2'></use></svg></label><input id='data-b0686e01-dec4-4ec3-bfda-30660bc22bce' class='xr-var-data-in' type='checkbox'><label for='data-b0686e01-dec4-4ec3-bfda-30660bc22bce' title='Show/Hide data repr'><svg class='icon xr-icon-database'><use xlink:href='#icon-database'></use></svg></label><div class='xr-var-attrs'><dl class='xr-attrs'></dl></div><div class='xr-var-data'><pre>array([&#x27;01_reg&#x27;, &#x27;02_reg&#x27;, &#x27;03_reg&#x27;], dtype=&#x27;&lt;U6&#x27;)</pre></div></li></ul></div></li><li class='xr-section-item'><input id='section-bdb9e54a-9f7e-40c5-a984-4aeabfc64087' class='xr-section-summary-in' type='checkbox'  checked><label for='section-bdb9e54a-9f7e-40c5-a984-4aeabfc64087' class='xr-section-summary' >Data variables: <span>(3)</span></label><div class='xr-section-inline-details'></div><div class='xr-section-details'><ul class='xr-var-list'><li class='xr-var-item'><div class='xr-var-name'><span>operationFixRate</span></div><div class='xr-var-dims'>(component, Period, TimeStep, space)</div><div class='xr-var-dtype'>float64</div><div class='xr-var-preview xr-preview'>nan nan nan nan ... 1.0 0.3 2.0 1.0</div><input id='attrs-4c219b71-abb3-4940-87d9-40a6611ce477' class='xr-var-attrs-in' type='checkbox' disabled><label for='attrs-4c219b71-abb3-4940-87d9-40a6611ce477' title='Show/Hide attributes'><svg class='icon xr-icon-file-text2'><use xlink:href='#icon-file-text2'></use></svg></label><input id='data-94eb1e01-1c3b-48e9-8fe4-1210eca6c8cc' class='xr-var-data-in' type='checkbox'><label for='data-94eb1e01-1c3b-48e9-8fe4-1210eca6c8cc' title='Show/Hide data repr'><svg class='icon xr-icon-database'><use xlink:href='#icon-database'></use></svg></label><div class='xr-var-attrs'><dl class='xr-attrs'></dl></div><div class='xr-var-data'><pre>array([[[[nan, nan, nan],\n",
       "         [nan, nan, nan]]],\n",
       "\n",
       "\n",
       "       [[[1. , 0.9, 2. ],\n",
       "         [1. , 0. , 0.9]]],\n",
       "\n",
       "\n",
       "       [[[nan, nan, nan],\n",
       "         [nan, nan, nan]]],\n",
       "\n",
       "\n",
       "       [[[0. , 1. , 1. ],\n",
       "         [0.3, 2. , 1. ]]]])</pre></div></li><li class='xr-var-item'><div class='xr-var-name'><span>1d_capacity</span></div><div class='xr-var-dims'>(component, space)</div><div class='xr-var-dtype'>float64</div><div class='xr-var-preview xr-preview'>0.9 1.0 0.9 0.0 ... 0.9 nan nan nan</div><input id='attrs-e172d74e-57d5-461d-a462-ae3d24020364' class='xr-var-attrs-in' type='checkbox' disabled><label for='attrs-e172d74e-57d5-461d-a462-ae3d24020364' title='Show/Hide attributes'><svg class='icon xr-icon-file-text2'><use xlink:href='#icon-file-text2'></use></svg></label><input id='data-68b2cbbe-cbeb-4c8d-be4a-c749256d7405' class='xr-var-data-in' type='checkbox'><label for='data-68b2cbbe-cbeb-4c8d-be4a-c749256d7405' title='Show/Hide data repr'><svg class='icon xr-icon-database'><use xlink:href='#icon-database'></use></svg></label><div class='xr-var-attrs'><dl class='xr-attrs'></dl></div><div class='xr-var-data'><pre>array([[0.9, 1. , 0.9],\n",
       "       [0. , 0. , 0. ],\n",
       "       [0.9, 1. , 0.9],\n",
       "       [nan, nan, nan]])</pre></div></li><li class='xr-var-item'><div class='xr-var-name'><span>2d_distance</span></div><div class='xr-var-dims'>(component, space, space_2)</div><div class='xr-var-dtype'>float64</div><div class='xr-var-preview xr-preview'>0.0 1.0 2.0 1.0 ... nan nan nan nan</div><input id='attrs-c2c73bea-507b-4369-861d-f21f88561c02' class='xr-var-attrs-in' type='checkbox' disabled><label for='attrs-c2c73bea-507b-4369-861d-f21f88561c02' title='Show/Hide attributes'><svg class='icon xr-icon-file-text2'><use xlink:href='#icon-file-text2'></use></svg></label><input id='data-d303d31b-2013-4fcd-9d65-2b2962ddaeaf' class='xr-var-data-in' type='checkbox'><label for='data-d303d31b-2013-4fcd-9d65-2b2962ddaeaf' title='Show/Hide data repr'><svg class='icon xr-icon-database'><use xlink:href='#icon-database'></use></svg></label><div class='xr-var-attrs'><dl class='xr-attrs'></dl></div><div class='xr-var-data'><pre>array([[[ 0. ,  1. ,  2. ],\n",
       "        [ 1. ,  0. , 10. ],\n",
       "        [ 2. , 10. ,  0. ]],\n",
       "\n",
       "       [[ 0. ,  0.1,  0.2],\n",
       "        [ 0.1,  0. ,  1. ],\n",
       "        [ 0.2,  1. ,  0. ]],\n",
       "\n",
       "       [[ nan,  nan,  nan],\n",
       "        [ nan,  nan,  nan],\n",
       "        [ nan,  nan,  nan]],\n",
       "\n",
       "       [[ nan,  nan,  nan],\n",
       "        [ nan,  nan,  nan],\n",
       "        [ nan,  nan,  nan]]])</pre></div></li></ul></div></li><li class='xr-section-item'><input id='section-5c8fc8f2-a807-404f-93af-1b5ad75f01ad' class='xr-section-summary-in' type='checkbox' disabled ><label for='section-5c8fc8f2-a807-404f-93af-1b5ad75f01ad' class='xr-section-summary'  title='Expand/collapse section'>Attributes: <span>(0)</span></label><div class='xr-section-inline-details'></div><div class='xr-section-details'><dl class='xr-attrs'></dl></div></li></ul></div></div>"
      ],
      "text/plain": [
       "<xarray.Dataset>\n",
       "Dimensions:           (Period: 1, TimeStep: 2, component: 4, space: 3, space_2: 3)\n",
       "Coordinates:\n",
       "  * component         (component) <U2 'c1' 'c2' 'c3' 'c4'\n",
       "  * Period            (Period) int32 0\n",
       "  * TimeStep          (TimeStep) <U2 'T0' 'T1'\n",
       "  * space             (space) <U6 '01_reg' '02_reg' '03_reg'\n",
       "  * space_2           (space_2) <U6 '01_reg' '02_reg' '03_reg'\n",
       "Data variables:\n",
       "    operationFixRate  (component, Period, TimeStep, space) float64 nan ... 1.0\n",
       "    1d_capacity       (component, space) float64 0.9 1.0 0.9 0.0 ... nan nan nan\n",
       "    2d_distance       (component, space, space_2) float64 0.0 1.0 ... nan nan"
      ]
     },
     "execution_count": 6,
     "metadata": {},
     "output_type": "execute_result"
    }
   ],
   "source": [
    "space = ['01_reg','02_reg','03_reg']\n",
    "TimeStep = ['T0','T1']\n",
    "space_2 = space.copy()\n",
    "component = ['c1','c2','c3','c4']\n",
    "Period = [0]\n",
    "\n",
    "demand = np.stack([[[[np.nan,np.nan, np.nan] for i in range(2)]],\n",
    "                        [[[1, 0.9,  2],\n",
    "                          [1, 0,  0.9]]],\n",
    "                        [[[np.nan,np.nan, np.nan] for i in range(2)]],\n",
    "                        [[[0,   1, 1],\n",
    "                          [0.3, 2, 1]]]])\n",
    "demand = xr.DataArray(demand, coords=[component, Period, TimeStep, space], dims=['component', 'Period', 'TimeStep','space'])\n",
    "cap_1d = np.stack([[0.9,  1,  0.9],\n",
    "                        [0,    0,  0],\n",
    "                        [0.9,  1,  0.9],\n",
    "                        [np.nan] *3])\n",
    "cap_1d = xr.DataArray(cap_1d, coords=[component,space], dims=['component','space'])\n",
    "dist_2d = np.stack([[[0,1,2],[1,0,10],[2,10,0]],\n",
    "                         [[0,0.1,0.2],[0.1,0,1],[0.2,1,0]],\n",
    "                         [[np.nan] * 3 for i in range(3)],\n",
    "                         [[np.nan] * 3 for i in range(3)]])\n",
    "dist_2d = xr.DataArray(dist_2d, coords=[component,space,space_2], dims=['component','space','space_2'])\n",
    "\n",
    "ds = xr.Dataset({'operationFixRate': demand, '1d_capacity': cap_1d, '2d_distance': dist_2d})\n",
    "\n",
    "ds"
   ]
  },
  {
   "cell_type": "code",
   "execution_count": 7,
   "metadata": {},
   "outputs": [],
   "source": [
    "sds = spd.SpagatDataset()\n",
    "sds.xr_dataset = ds\n",
    "\n",
    "test_dataset2 = sds"
   ]
  },
  {
   "cell_type": "markdown",
   "metadata": {},
   "source": [
    "## test_all_variable_based_clustering_hierarchical()"
   ]
  },
  {
   "cell_type": "code",
   "execution_count": 10,
   "metadata": {},
   "outputs": [
    {
     "name": "stdout",
     "output_type": "stream",
     "text": [
      "The cophenetic correlation coefficient of the hiearchical clustering is  0.7231402390092978\n",
      "Inconsistencies: [0.0, 0.7071067811865472]\n",
      "Silhouette scores:  [0.30511369702145824]\n",
      "elapsed time for all_variable_based_clustering: 0.00 minutes\n"
     ]
    }
   ],
   "source": [
    "clustered_regions1 = spg.all_variable_based_clustering(test_dataset2,agg_mode='hierarchical2')"
   ]
  },
  {
   "cell_type": "code",
   "execution_count": 11,
   "metadata": {},
   "outputs": [
    {
     "data": {
      "text/plain": [
       "3"
      ]
     },
     "execution_count": 11,
     "metadata": {},
     "output_type": "execute_result"
    }
   ],
   "source": [
    "len(clustered_regions1) #== 3"
   ]
  },
  {
   "cell_type": "code",
   "execution_count": 12,
   "metadata": {},
   "outputs": [
    {
     "data": {
      "text/plain": [
       "{'01_reg': ['01_reg'], '02_reg': ['02_reg'], '03_reg': ['03_reg']}"
      ]
     },
     "execution_count": 12,
     "metadata": {},
     "output_type": "execute_result"
    }
   ],
   "source": [
    "clustered_regions1.get(3) #== {'01_reg': ['01_reg'], '02_reg': ['02_reg'], '03_reg': ['03_reg']}\n",
    "     "
   ]
  },
  {
   "cell_type": "code",
   "execution_count": 13,
   "metadata": {},
   "outputs": [
    {
     "data": {
      "text/plain": [
       "{'01_reg_03_reg': ['01_reg', '03_reg'], '02_reg': ['02_reg']}"
      ]
     },
     "execution_count": 13,
     "metadata": {},
     "output_type": "execute_result"
    }
   ],
   "source": [
    "dict2 = clustered_regions1.get(2)\n",
    "dict2"
   ]
  },
  {
   "cell_type": "code",
   "execution_count": 15,
   "metadata": {},
   "outputs": [
    {
     "name": "stdout",
     "output_type": "stream",
     "text": [
      "01_reg_03_reg, 13\n",
      "02_reg, 6\n"
     ]
    }
   ],
   "source": [
    "for sup_reg in dict2:\n",
    "    print(f'{sup_reg}, {len(sup_reg)}')"
   ]
  },
  {
   "cell_type": "code",
   "execution_count": null,
   "metadata": {},
   "outputs": [],
   "source": [
    "for sup_reg in dict2:\n",
    "     if len(sup_reg) == 2:\n",
    "          assert sorted(sup_reg) == ['01_reg', '03_reg']\n",
    "     if len(sup_reg) == 1:\n",
    "          assert sorted(sup_reg) == ['02_reg']"
   ]
  },
  {
   "cell_type": "code",
   "execution_count": 16,
   "metadata": {},
   "outputs": [
    {
     "data": {
      "text/plain": [
       "{'01_reg_02_reg_03_reg': ['01_reg', '02_reg', '03_reg']}"
      ]
     },
     "execution_count": 16,
     "metadata": {},
     "output_type": "execute_result"
    }
   ],
   "source": [
    "dict1 = clustered_regions1.get(1)\n",
    "dict1"
   ]
  },
  {
   "cell_type": "code",
   "execution_count": 17,
   "metadata": {},
   "outputs": [],
   "source": [
    "for sup_reg in dict1:\n",
    "     if len(sup_reg) == 3:\n",
    "            print(sup_reg)\n",
    "          # sorted(sup_reg) == ['01_reg', '02_reg', '03_reg']"
   ]
  },
  {
   "cell_type": "markdown",
   "metadata": {},
   "source": [
    "## test_all_variable_based_clustering_spectral()"
   ]
  },
  {
   "cell_type": "code",
   "execution_count": 18,
   "metadata": {},
   "outputs": [
    {
     "name": "stdout",
     "output_type": "stream",
     "text": [
      "Modularities [0.16692023623072105, 0.06451653722956459]\n",
      "Silhouette scores:  [0.30511369702145824]\n",
      "elapsed time for all_variable_based_clustering: 0.01 minutes\n"
     ]
    }
   ],
   "source": [
    "clustered_regions1 = spg.all_variable_based_clustering(test_dataset2,agg_mode='spectral',weighting=[10,1,1])"
   ]
  },
  {
   "cell_type": "code",
   "execution_count": 19,
   "metadata": {},
   "outputs": [
    {
     "data": {
      "text/plain": [
       "3"
      ]
     },
     "execution_count": 19,
     "metadata": {},
     "output_type": "execute_result"
    }
   ],
   "source": [
    "len(clustered_regions1) #== 3"
   ]
  },
  {
   "cell_type": "code",
   "execution_count": 20,
   "metadata": {},
   "outputs": [
    {
     "data": {
      "text/plain": [
       "{'02_reg': ['02_reg'], '01_reg_03_reg': ['01_reg', '03_reg']}"
      ]
     },
     "execution_count": 20,
     "metadata": {},
     "output_type": "execute_result"
    }
   ],
   "source": [
    "dict1_2 = clustered_regions1.get(2)\n",
    "dict1_2"
   ]
  },
  {
   "cell_type": "code",
   "execution_count": 24,
   "metadata": {},
   "outputs": [
    {
     "name": "stdout",
     "output_type": "stream",
     "text": [
      "['01_reg', '03_reg']\n"
     ]
    }
   ],
   "source": [
    "for sup_region in dict1_2.values():\n",
    "     if len(sup_region) == 2:\n",
    "          print(sorted(sup_region)) #==  ['01_reg','03_reg']"
   ]
  },
  {
   "cell_type": "code",
   "execution_count": 25,
   "metadata": {},
   "outputs": [
    {
     "name": "stdout",
     "output_type": "stream",
     "text": [
      "Modularities [0.17543875915620316, 0.142189364184016]\n",
      "Silhouette scores:  [0.04094753448868963]\n",
      "elapsed time for all_variable_based_clustering: 0.00 minutes\n"
     ]
    }
   ],
   "source": [
    "clustered_regions2 = spg.all_variable_based_clustering(test_dataset2,agg_mode='spectral',weighting=[1,1,10])"
   ]
  },
  {
   "cell_type": "code",
   "execution_count": 26,
   "metadata": {},
   "outputs": [
    {
     "data": {
      "text/plain": [
       "True"
      ]
     },
     "execution_count": 26,
     "metadata": {},
     "output_type": "execute_result"
    }
   ],
   "source": [
    "len(clustered_regions2) == 3"
   ]
  },
  {
   "cell_type": "code",
   "execution_count": 27,
   "metadata": {},
   "outputs": [
    {
     "data": {
      "text/plain": [
       "{'02_reg_03_reg': ['02_reg', '03_reg'], '01_reg': ['01_reg']}"
      ]
     },
     "execution_count": 27,
     "metadata": {},
     "output_type": "execute_result"
    }
   ],
   "source": [
    "dict2_2 = clustered_regions2.get(2)\n",
    "dict2_2"
   ]
  },
  {
   "cell_type": "code",
   "execution_count": 28,
   "metadata": {},
   "outputs": [
    {
     "name": "stdout",
     "output_type": "stream",
     "text": [
      "['02_reg', '03_reg']\n"
     ]
    }
   ],
   "source": [
    "for sup_region in dict2_2.values():\n",
    "     if len(sup_region) == 2:\n",
    "        print(sorted(sup_region)) ## ==  ['02_reg','03_reg']"
   ]
  },
  {
   "cell_type": "code",
   "execution_count": 29,
   "metadata": {},
   "outputs": [
    {
     "name": "stdout",
     "output_type": "stream",
     "text": [
      "Modularites:  [0.16697313202259687, 0.06715382977433099]\n",
      "Silhouette scores:  [0.30511369702145824]\n",
      "elapsed time for all_variable_based_clustering: 0.00 minutes\n"
     ]
    }
   ],
   "source": [
    "clustered_regions3 = spg.all_variable_based_clustering(test_dataset2,agg_mode='spectral2')"
   ]
  },
  {
   "cell_type": "code",
   "execution_count": 30,
   "metadata": {},
   "outputs": [
    {
     "data": {
      "text/plain": [
       "3"
      ]
     },
     "execution_count": 30,
     "metadata": {},
     "output_type": "execute_result"
    }
   ],
   "source": [
    "len(clustered_regions3) #== 3"
   ]
  },
  {
   "cell_type": "code",
   "execution_count": 31,
   "metadata": {},
   "outputs": [
    {
     "data": {
      "text/plain": [
       "{'01_reg_03_reg': ['01_reg', '03_reg'], '02_reg': ['02_reg']}"
      ]
     },
     "execution_count": 31,
     "metadata": {},
     "output_type": "execute_result"
    }
   ],
   "source": [
    "dict3_2 = clustered_regions3.get(2)\n",
    "dict3_2"
   ]
  },
  {
   "cell_type": "code",
   "execution_count": 32,
   "metadata": {},
   "outputs": [
    {
     "name": "stdout",
     "output_type": "stream",
     "text": [
      "['01_reg', '03_reg']\n"
     ]
    }
   ],
   "source": [
    "for sup_region in dict3_2.values():\n",
    "    if len(sup_region) == 2:\n",
    "        print(sorted(sup_region)) #==  ['01_reg','03_reg']"
   ]
  },
  {
   "cell_type": "code",
   "execution_count": null,
   "metadata": {},
   "outputs": [],
   "source": []
  }
 ],
 "metadata": {
  "kernelspec": {
   "display_name": "Python 3",
   "language": "python",
   "name": "python3"
  },
  "language_info": {
   "codemirror_mode": {
    "name": "ipython",
    "version": 3
   },
   "file_extension": ".py",
   "mimetype": "text/x-python",
   "name": "python",
   "nbconvert_exporter": "python",
   "pygments_lexer": "ipython3",
   "version": "3.7.8"
  }
 },
 "nbformat": 4,
 "nbformat_minor": 4
}
