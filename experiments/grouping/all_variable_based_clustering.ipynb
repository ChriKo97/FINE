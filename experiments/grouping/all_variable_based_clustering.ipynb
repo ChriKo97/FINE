{
 "cells": [
  {
   "cell_type": "code",
   "execution_count": 1,
   "metadata": {},
   "outputs": [],
   "source": [
    "import logging\n",
    "import os\n",
    "\n",
    "import matplotlib.pyplot as plt\n",
    "import numpy as np\n",
    "import pandas as pd\n",
    "import xarray as xr\n",
    "from matplotlib import pyplot as plt\n",
    "\n",
    "# Using SciPy.cluster for clustering\n",
    "from scipy.cluster import hierarchy\n",
    "from scipy.cluster import vq\n",
    "\n",
    "# Using Scikit Learn for clustering\n",
    "#from sklearn.cluster import KMeans\n",
    "import sklearn.cluster as skc\n",
    "from sklearn import metrics\n",
    "\n",
    "import FINE.spagat.utils as spu\n",
    "import FINE.spagat.dataset as spd\n",
    "\n",
    "import FINE.spagat.grouping_utils as gu  \n",
    "from ipynb.fs.full import grouping_utils "
   ]
  },
  {
   "cell_type": "markdown",
   "metadata": {},
   "source": [
    "## test dataset - (test_dataset2)"
   ]
  },
  {
   "cell_type": "code",
   "execution_count": 2,
   "metadata": {},
   "outputs": [
    {
     "data": {
      "text/html": [
       "<div><svg style=\"position: absolute; width: 0; height: 0; overflow: hidden\">\n",
       "<defs>\n",
       "<symbol id=\"icon-database\" viewBox=\"0 0 32 32\">\n",
       "<path d=\"M16 0c-8.837 0-16 2.239-16 5v4c0 2.761 7.163 5 16 5s16-2.239 16-5v-4c0-2.761-7.163-5-16-5z\"></path>\n",
       "<path d=\"M16 17c-8.837 0-16-2.239-16-5v6c0 2.761 7.163 5 16 5s16-2.239 16-5v-6c0 2.761-7.163 5-16 5z\"></path>\n",
       "<path d=\"M16 26c-8.837 0-16-2.239-16-5v6c0 2.761 7.163 5 16 5s16-2.239 16-5v-6c0 2.761-7.163 5-16 5z\"></path>\n",
       "</symbol>\n",
       "<symbol id=\"icon-file-text2\" viewBox=\"0 0 32 32\">\n",
       "<path d=\"M28.681 7.159c-0.694-0.947-1.662-2.053-2.724-3.116s-2.169-2.030-3.116-2.724c-1.612-1.182-2.393-1.319-2.841-1.319h-15.5c-1.378 0-2.5 1.121-2.5 2.5v27c0 1.378 1.122 2.5 2.5 2.5h23c1.378 0 2.5-1.122 2.5-2.5v-19.5c0-0.448-0.137-1.23-1.319-2.841zM24.543 5.457c0.959 0.959 1.712 1.825 2.268 2.543h-4.811v-4.811c0.718 0.556 1.584 1.309 2.543 2.268zM28 29.5c0 0.271-0.229 0.5-0.5 0.5h-23c-0.271 0-0.5-0.229-0.5-0.5v-27c0-0.271 0.229-0.5 0.5-0.5 0 0 15.499-0 15.5 0v7c0 0.552 0.448 1 1 1h7v19.5z\"></path>\n",
       "<path d=\"M23 26h-14c-0.552 0-1-0.448-1-1s0.448-1 1-1h14c0.552 0 1 0.448 1 1s-0.448 1-1 1z\"></path>\n",
       "<path d=\"M23 22h-14c-0.552 0-1-0.448-1-1s0.448-1 1-1h14c0.552 0 1 0.448 1 1s-0.448 1-1 1z\"></path>\n",
       "<path d=\"M23 18h-14c-0.552 0-1-0.448-1-1s0.448-1 1-1h14c0.552 0 1 0.448 1 1s-0.448 1-1 1z\"></path>\n",
       "</symbol>\n",
       "</defs>\n",
       "</svg>\n",
       "<style>/* CSS stylesheet for displaying xarray objects in jupyterlab.\n",
       " *\n",
       " */\n",
       "\n",
       ":root {\n",
       "  --xr-font-color0: var(--jp-content-font-color0, rgba(0, 0, 0, 1));\n",
       "  --xr-font-color2: var(--jp-content-font-color2, rgba(0, 0, 0, 0.54));\n",
       "  --xr-font-color3: var(--jp-content-font-color3, rgba(0, 0, 0, 0.38));\n",
       "  --xr-border-color: var(--jp-border-color2, #e0e0e0);\n",
       "  --xr-disabled-color: var(--jp-layout-color3, #bdbdbd);\n",
       "  --xr-background-color: var(--jp-layout-color0, white);\n",
       "  --xr-background-color-row-even: var(--jp-layout-color1, white);\n",
       "  --xr-background-color-row-odd: var(--jp-layout-color2, #eeeeee);\n",
       "}\n",
       "\n",
       "html[theme=dark],\n",
       "body.vscode-dark {\n",
       "  --xr-font-color0: rgba(255, 255, 255, 1);\n",
       "  --xr-font-color2: rgba(255, 255, 255, 0.54);\n",
       "  --xr-font-color3: rgba(255, 255, 255, 0.38);\n",
       "  --xr-border-color: #1F1F1F;\n",
       "  --xr-disabled-color: #515151;\n",
       "  --xr-background-color: #111111;\n",
       "  --xr-background-color-row-even: #111111;\n",
       "  --xr-background-color-row-odd: #313131;\n",
       "}\n",
       "\n",
       ".xr-wrap {\n",
       "  display: block;\n",
       "  min-width: 300px;\n",
       "  max-width: 700px;\n",
       "}\n",
       "\n",
       ".xr-text-repr-fallback {\n",
       "  /* fallback to plain text repr when CSS is not injected (untrusted notebook) */\n",
       "  display: none;\n",
       "}\n",
       "\n",
       ".xr-header {\n",
       "  padding-top: 6px;\n",
       "  padding-bottom: 6px;\n",
       "  margin-bottom: 4px;\n",
       "  border-bottom: solid 1px var(--xr-border-color);\n",
       "}\n",
       "\n",
       ".xr-header > div,\n",
       ".xr-header > ul {\n",
       "  display: inline;\n",
       "  margin-top: 0;\n",
       "  margin-bottom: 0;\n",
       "}\n",
       "\n",
       ".xr-obj-type,\n",
       ".xr-array-name {\n",
       "  margin-left: 2px;\n",
       "  margin-right: 10px;\n",
       "}\n",
       "\n",
       ".xr-obj-type {\n",
       "  color: var(--xr-font-color2);\n",
       "}\n",
       "\n",
       ".xr-sections {\n",
       "  padding-left: 0 !important;\n",
       "  display: grid;\n",
       "  grid-template-columns: 150px auto auto 1fr 20px 20px;\n",
       "}\n",
       "\n",
       ".xr-section-item {\n",
       "  display: contents;\n",
       "}\n",
       "\n",
       ".xr-section-item input {\n",
       "  display: none;\n",
       "}\n",
       "\n",
       ".xr-section-item input + label {\n",
       "  color: var(--xr-disabled-color);\n",
       "}\n",
       "\n",
       ".xr-section-item input:enabled + label {\n",
       "  cursor: pointer;\n",
       "  color: var(--xr-font-color2);\n",
       "}\n",
       "\n",
       ".xr-section-item input:enabled + label:hover {\n",
       "  color: var(--xr-font-color0);\n",
       "}\n",
       "\n",
       ".xr-section-summary {\n",
       "  grid-column: 1;\n",
       "  color: var(--xr-font-color2);\n",
       "  font-weight: 500;\n",
       "}\n",
       "\n",
       ".xr-section-summary > span {\n",
       "  display: inline-block;\n",
       "  padding-left: 0.5em;\n",
       "}\n",
       "\n",
       ".xr-section-summary-in:disabled + label {\n",
       "  color: var(--xr-font-color2);\n",
       "}\n",
       "\n",
       ".xr-section-summary-in + label:before {\n",
       "  display: inline-block;\n",
       "  content: '►';\n",
       "  font-size: 11px;\n",
       "  width: 15px;\n",
       "  text-align: center;\n",
       "}\n",
       "\n",
       ".xr-section-summary-in:disabled + label:before {\n",
       "  color: var(--xr-disabled-color);\n",
       "}\n",
       "\n",
       ".xr-section-summary-in:checked + label:before {\n",
       "  content: '▼';\n",
       "}\n",
       "\n",
       ".xr-section-summary-in:checked + label > span {\n",
       "  display: none;\n",
       "}\n",
       "\n",
       ".xr-section-summary,\n",
       ".xr-section-inline-details {\n",
       "  padding-top: 4px;\n",
       "  padding-bottom: 4px;\n",
       "}\n",
       "\n",
       ".xr-section-inline-details {\n",
       "  grid-column: 2 / -1;\n",
       "}\n",
       "\n",
       ".xr-section-details {\n",
       "  display: none;\n",
       "  grid-column: 1 / -1;\n",
       "  margin-bottom: 5px;\n",
       "}\n",
       "\n",
       ".xr-section-summary-in:checked ~ .xr-section-details {\n",
       "  display: contents;\n",
       "}\n",
       "\n",
       ".xr-array-wrap {\n",
       "  grid-column: 1 / -1;\n",
       "  display: grid;\n",
       "  grid-template-columns: 20px auto;\n",
       "}\n",
       "\n",
       ".xr-array-wrap > label {\n",
       "  grid-column: 1;\n",
       "  vertical-align: top;\n",
       "}\n",
       "\n",
       ".xr-preview {\n",
       "  color: var(--xr-font-color3);\n",
       "}\n",
       "\n",
       ".xr-array-preview,\n",
       ".xr-array-data {\n",
       "  padding: 0 5px !important;\n",
       "  grid-column: 2;\n",
       "}\n",
       "\n",
       ".xr-array-data,\n",
       ".xr-array-in:checked ~ .xr-array-preview {\n",
       "  display: none;\n",
       "}\n",
       "\n",
       ".xr-array-in:checked ~ .xr-array-data,\n",
       ".xr-array-preview {\n",
       "  display: inline-block;\n",
       "}\n",
       "\n",
       ".xr-dim-list {\n",
       "  display: inline-block !important;\n",
       "  list-style: none;\n",
       "  padding: 0 !important;\n",
       "  margin: 0;\n",
       "}\n",
       "\n",
       ".xr-dim-list li {\n",
       "  display: inline-block;\n",
       "  padding: 0;\n",
       "  margin: 0;\n",
       "}\n",
       "\n",
       ".xr-dim-list:before {\n",
       "  content: '(';\n",
       "}\n",
       "\n",
       ".xr-dim-list:after {\n",
       "  content: ')';\n",
       "}\n",
       "\n",
       ".xr-dim-list li:not(:last-child):after {\n",
       "  content: ',';\n",
       "  padding-right: 5px;\n",
       "}\n",
       "\n",
       ".xr-has-index {\n",
       "  font-weight: bold;\n",
       "}\n",
       "\n",
       ".xr-var-list,\n",
       ".xr-var-item {\n",
       "  display: contents;\n",
       "}\n",
       "\n",
       ".xr-var-item > div,\n",
       ".xr-var-item label,\n",
       ".xr-var-item > .xr-var-name span {\n",
       "  background-color: var(--xr-background-color-row-even);\n",
       "  margin-bottom: 0;\n",
       "}\n",
       "\n",
       ".xr-var-item > .xr-var-name:hover span {\n",
       "  padding-right: 5px;\n",
       "}\n",
       "\n",
       ".xr-var-list > li:nth-child(odd) > div,\n",
       ".xr-var-list > li:nth-child(odd) > label,\n",
       ".xr-var-list > li:nth-child(odd) > .xr-var-name span {\n",
       "  background-color: var(--xr-background-color-row-odd);\n",
       "}\n",
       "\n",
       ".xr-var-name {\n",
       "  grid-column: 1;\n",
       "}\n",
       "\n",
       ".xr-var-dims {\n",
       "  grid-column: 2;\n",
       "}\n",
       "\n",
       ".xr-var-dtype {\n",
       "  grid-column: 3;\n",
       "  text-align: right;\n",
       "  color: var(--xr-font-color2);\n",
       "}\n",
       "\n",
       ".xr-var-preview {\n",
       "  grid-column: 4;\n",
       "}\n",
       "\n",
       ".xr-var-name,\n",
       ".xr-var-dims,\n",
       ".xr-var-dtype,\n",
       ".xr-preview,\n",
       ".xr-attrs dt {\n",
       "  white-space: nowrap;\n",
       "  overflow: hidden;\n",
       "  text-overflow: ellipsis;\n",
       "  padding-right: 10px;\n",
       "}\n",
       "\n",
       ".xr-var-name:hover,\n",
       ".xr-var-dims:hover,\n",
       ".xr-var-dtype:hover,\n",
       ".xr-attrs dt:hover {\n",
       "  overflow: visible;\n",
       "  width: auto;\n",
       "  z-index: 1;\n",
       "}\n",
       "\n",
       ".xr-var-attrs,\n",
       ".xr-var-data {\n",
       "  display: none;\n",
       "  background-color: var(--xr-background-color) !important;\n",
       "  padding-bottom: 5px !important;\n",
       "}\n",
       "\n",
       ".xr-var-attrs-in:checked ~ .xr-var-attrs,\n",
       ".xr-var-data-in:checked ~ .xr-var-data {\n",
       "  display: block;\n",
       "}\n",
       "\n",
       ".xr-var-data > table {\n",
       "  float: right;\n",
       "}\n",
       "\n",
       ".xr-var-name span,\n",
       ".xr-var-data,\n",
       ".xr-attrs {\n",
       "  padding-left: 25px !important;\n",
       "}\n",
       "\n",
       ".xr-attrs,\n",
       ".xr-var-attrs,\n",
       ".xr-var-data {\n",
       "  grid-column: 1 / -1;\n",
       "}\n",
       "\n",
       "dl.xr-attrs {\n",
       "  padding: 0;\n",
       "  margin: 0;\n",
       "  display: grid;\n",
       "  grid-template-columns: 125px auto;\n",
       "}\n",
       "\n",
       ".xr-attrs dt, dd {\n",
       "  padding: 0;\n",
       "  margin: 0;\n",
       "  float: left;\n",
       "  padding-right: 10px;\n",
       "  width: auto;\n",
       "}\n",
       "\n",
       ".xr-attrs dt {\n",
       "  font-weight: normal;\n",
       "  grid-column: 1;\n",
       "}\n",
       "\n",
       ".xr-attrs dt:hover span {\n",
       "  display: inline-block;\n",
       "  background: var(--xr-background-color);\n",
       "  padding-right: 10px;\n",
       "}\n",
       "\n",
       ".xr-attrs dd {\n",
       "  grid-column: 2;\n",
       "  white-space: pre-wrap;\n",
       "  word-break: break-all;\n",
       "}\n",
       "\n",
       ".xr-icon-database,\n",
       ".xr-icon-file-text2 {\n",
       "  display: inline-block;\n",
       "  vertical-align: middle;\n",
       "  width: 1em;\n",
       "  height: 1.5em !important;\n",
       "  stroke-width: 0;\n",
       "  stroke: currentColor;\n",
       "  fill: currentColor;\n",
       "}\n",
       "</style><pre class='xr-text-repr-fallback'>&lt;xarray.Dataset&gt;\n",
       "Dimensions:           (Period: 1, TimeStep: 2, component: 4, space: 3, space_2: 3)\n",
       "Coordinates:\n",
       "  * component         (component) &lt;U2 &#x27;c1&#x27; &#x27;c2&#x27; &#x27;c3&#x27; &#x27;c4&#x27;\n",
       "  * Period            (Period) int32 0\n",
       "  * TimeStep          (TimeStep) &lt;U2 &#x27;T0&#x27; &#x27;T1&#x27;\n",
       "  * space             (space) &lt;U6 &#x27;01_reg&#x27; &#x27;02_reg&#x27; &#x27;03_reg&#x27;\n",
       "  * space_2           (space_2) &lt;U6 &#x27;01_reg&#x27; &#x27;02_reg&#x27; &#x27;03_reg&#x27;\n",
       "Data variables:\n",
       "    operationFixRate  (component, Period, TimeStep, space) float64 nan ... 1.0\n",
       "    1d_capacity       (component, space) float64 0.9 1.0 0.9 0.0 ... nan nan nan\n",
       "    2d_distance       (component, space, space_2) float64 0.0 1.0 ... nan nan</pre><div class='xr-wrap' hidden><div class='xr-header'><div class='xr-obj-type'>xarray.Dataset</div></div><ul class='xr-sections'><li class='xr-section-item'><input id='section-0695b772-38ba-4e80-acbb-aab88f140b2c' class='xr-section-summary-in' type='checkbox' disabled ><label for='section-0695b772-38ba-4e80-acbb-aab88f140b2c' class='xr-section-summary'  title='Expand/collapse section'>Dimensions:</label><div class='xr-section-inline-details'><ul class='xr-dim-list'><li><span class='xr-has-index'>Period</span>: 1</li><li><span class='xr-has-index'>TimeStep</span>: 2</li><li><span class='xr-has-index'>component</span>: 4</li><li><span class='xr-has-index'>space</span>: 3</li><li><span class='xr-has-index'>space_2</span>: 3</li></ul></div><div class='xr-section-details'></div></li><li class='xr-section-item'><input id='section-1fa16540-ff34-4afb-97d9-69ba695d8050' class='xr-section-summary-in' type='checkbox'  checked><label for='section-1fa16540-ff34-4afb-97d9-69ba695d8050' class='xr-section-summary' >Coordinates: <span>(5)</span></label><div class='xr-section-inline-details'></div><div class='xr-section-details'><ul class='xr-var-list'><li class='xr-var-item'><div class='xr-var-name'><span class='xr-has-index'>component</span></div><div class='xr-var-dims'>(component)</div><div class='xr-var-dtype'>&lt;U2</div><div class='xr-var-preview xr-preview'>&#x27;c1&#x27; &#x27;c2&#x27; &#x27;c3&#x27; &#x27;c4&#x27;</div><input id='attrs-81477e89-6446-43a3-8f11-2bc909bdf003' class='xr-var-attrs-in' type='checkbox' disabled><label for='attrs-81477e89-6446-43a3-8f11-2bc909bdf003' title='Show/Hide attributes'><svg class='icon xr-icon-file-text2'><use xlink:href='#icon-file-text2'></use></svg></label><input id='data-24259cbb-eb67-4be6-9f79-9e2e0197d760' class='xr-var-data-in' type='checkbox'><label for='data-24259cbb-eb67-4be6-9f79-9e2e0197d760' title='Show/Hide data repr'><svg class='icon xr-icon-database'><use xlink:href='#icon-database'></use></svg></label><div class='xr-var-attrs'><dl class='xr-attrs'></dl></div><div class='xr-var-data'><pre>array([&#x27;c1&#x27;, &#x27;c2&#x27;, &#x27;c3&#x27;, &#x27;c4&#x27;], dtype=&#x27;&lt;U2&#x27;)</pre></div></li><li class='xr-var-item'><div class='xr-var-name'><span class='xr-has-index'>Period</span></div><div class='xr-var-dims'>(Period)</div><div class='xr-var-dtype'>int32</div><div class='xr-var-preview xr-preview'>0</div><input id='attrs-b06e9ae4-e1a6-4d52-8de6-c190c6db6dcc' class='xr-var-attrs-in' type='checkbox' disabled><label for='attrs-b06e9ae4-e1a6-4d52-8de6-c190c6db6dcc' title='Show/Hide attributes'><svg class='icon xr-icon-file-text2'><use xlink:href='#icon-file-text2'></use></svg></label><input id='data-ae673087-f677-44a7-b69d-00226fd6aa4b' class='xr-var-data-in' type='checkbox'><label for='data-ae673087-f677-44a7-b69d-00226fd6aa4b' title='Show/Hide data repr'><svg class='icon xr-icon-database'><use xlink:href='#icon-database'></use></svg></label><div class='xr-var-attrs'><dl class='xr-attrs'></dl></div><div class='xr-var-data'><pre>array([0])</pre></div></li><li class='xr-var-item'><div class='xr-var-name'><span class='xr-has-index'>TimeStep</span></div><div class='xr-var-dims'>(TimeStep)</div><div class='xr-var-dtype'>&lt;U2</div><div class='xr-var-preview xr-preview'>&#x27;T0&#x27; &#x27;T1&#x27;</div><input id='attrs-6c18dd60-e353-4143-8319-5f740d05a754' class='xr-var-attrs-in' type='checkbox' disabled><label for='attrs-6c18dd60-e353-4143-8319-5f740d05a754' title='Show/Hide attributes'><svg class='icon xr-icon-file-text2'><use xlink:href='#icon-file-text2'></use></svg></label><input id='data-21d101bc-e743-4f18-80d4-9ddd51de3e81' class='xr-var-data-in' type='checkbox'><label for='data-21d101bc-e743-4f18-80d4-9ddd51de3e81' title='Show/Hide data repr'><svg class='icon xr-icon-database'><use xlink:href='#icon-database'></use></svg></label><div class='xr-var-attrs'><dl class='xr-attrs'></dl></div><div class='xr-var-data'><pre>array([&#x27;T0&#x27;, &#x27;T1&#x27;], dtype=&#x27;&lt;U2&#x27;)</pre></div></li><li class='xr-var-item'><div class='xr-var-name'><span class='xr-has-index'>space</span></div><div class='xr-var-dims'>(space)</div><div class='xr-var-dtype'>&lt;U6</div><div class='xr-var-preview xr-preview'>&#x27;01_reg&#x27; &#x27;02_reg&#x27; &#x27;03_reg&#x27;</div><input id='attrs-3669397b-3d8c-4597-a832-82a93e7d7242' class='xr-var-attrs-in' type='checkbox' disabled><label for='attrs-3669397b-3d8c-4597-a832-82a93e7d7242' title='Show/Hide attributes'><svg class='icon xr-icon-file-text2'><use xlink:href='#icon-file-text2'></use></svg></label><input id='data-c8590b05-76d9-4c3f-8e3c-0ed51d248a8d' class='xr-var-data-in' type='checkbox'><label for='data-c8590b05-76d9-4c3f-8e3c-0ed51d248a8d' title='Show/Hide data repr'><svg class='icon xr-icon-database'><use xlink:href='#icon-database'></use></svg></label><div class='xr-var-attrs'><dl class='xr-attrs'></dl></div><div class='xr-var-data'><pre>array([&#x27;01_reg&#x27;, &#x27;02_reg&#x27;, &#x27;03_reg&#x27;], dtype=&#x27;&lt;U6&#x27;)</pre></div></li><li class='xr-var-item'><div class='xr-var-name'><span class='xr-has-index'>space_2</span></div><div class='xr-var-dims'>(space_2)</div><div class='xr-var-dtype'>&lt;U6</div><div class='xr-var-preview xr-preview'>&#x27;01_reg&#x27; &#x27;02_reg&#x27; &#x27;03_reg&#x27;</div><input id='attrs-9e93be12-b94d-464b-98d1-d8cccc179e46' class='xr-var-attrs-in' type='checkbox' disabled><label for='attrs-9e93be12-b94d-464b-98d1-d8cccc179e46' title='Show/Hide attributes'><svg class='icon xr-icon-file-text2'><use xlink:href='#icon-file-text2'></use></svg></label><input id='data-29d1ae37-2395-436b-b8ac-b96cdc48edf5' class='xr-var-data-in' type='checkbox'><label for='data-29d1ae37-2395-436b-b8ac-b96cdc48edf5' title='Show/Hide data repr'><svg class='icon xr-icon-database'><use xlink:href='#icon-database'></use></svg></label><div class='xr-var-attrs'><dl class='xr-attrs'></dl></div><div class='xr-var-data'><pre>array([&#x27;01_reg&#x27;, &#x27;02_reg&#x27;, &#x27;03_reg&#x27;], dtype=&#x27;&lt;U6&#x27;)</pre></div></li></ul></div></li><li class='xr-section-item'><input id='section-db9f80d1-3058-40ca-afbc-e1915eeebff4' class='xr-section-summary-in' type='checkbox'  checked><label for='section-db9f80d1-3058-40ca-afbc-e1915eeebff4' class='xr-section-summary' >Data variables: <span>(3)</span></label><div class='xr-section-inline-details'></div><div class='xr-section-details'><ul class='xr-var-list'><li class='xr-var-item'><div class='xr-var-name'><span>operationFixRate</span></div><div class='xr-var-dims'>(component, Period, TimeStep, space)</div><div class='xr-var-dtype'>float64</div><div class='xr-var-preview xr-preview'>nan nan nan nan ... 1.0 0.3 2.0 1.0</div><input id='attrs-d8d4f1a8-4938-4be2-b7cc-6effcfccd5e4' class='xr-var-attrs-in' type='checkbox' disabled><label for='attrs-d8d4f1a8-4938-4be2-b7cc-6effcfccd5e4' title='Show/Hide attributes'><svg class='icon xr-icon-file-text2'><use xlink:href='#icon-file-text2'></use></svg></label><input id='data-7df21470-39e1-4d24-8bb7-4ddd87a5cdfd' class='xr-var-data-in' type='checkbox'><label for='data-7df21470-39e1-4d24-8bb7-4ddd87a5cdfd' title='Show/Hide data repr'><svg class='icon xr-icon-database'><use xlink:href='#icon-database'></use></svg></label><div class='xr-var-attrs'><dl class='xr-attrs'></dl></div><div class='xr-var-data'><pre>array([[[[nan, nan, nan],\n",
       "         [nan, nan, nan]]],\n",
       "\n",
       "\n",
       "       [[[1. , 0.9, 2. ],\n",
       "         [1. , 0. , 0.9]]],\n",
       "\n",
       "\n",
       "       [[[nan, nan, nan],\n",
       "         [nan, nan, nan]]],\n",
       "\n",
       "\n",
       "       [[[0. , 1. , 1. ],\n",
       "         [0.3, 2. , 1. ]]]])</pre></div></li><li class='xr-var-item'><div class='xr-var-name'><span>1d_capacity</span></div><div class='xr-var-dims'>(component, space)</div><div class='xr-var-dtype'>float64</div><div class='xr-var-preview xr-preview'>0.9 1.0 0.9 0.0 ... 0.9 nan nan nan</div><input id='attrs-61d95a58-56f5-451e-b372-0e071ffefc7c' class='xr-var-attrs-in' type='checkbox' disabled><label for='attrs-61d95a58-56f5-451e-b372-0e071ffefc7c' title='Show/Hide attributes'><svg class='icon xr-icon-file-text2'><use xlink:href='#icon-file-text2'></use></svg></label><input id='data-b8cb9a3b-eb6b-4a14-bde8-1a08f8904153' class='xr-var-data-in' type='checkbox'><label for='data-b8cb9a3b-eb6b-4a14-bde8-1a08f8904153' title='Show/Hide data repr'><svg class='icon xr-icon-database'><use xlink:href='#icon-database'></use></svg></label><div class='xr-var-attrs'><dl class='xr-attrs'></dl></div><div class='xr-var-data'><pre>array([[0.9, 1. , 0.9],\n",
       "       [0. , 0. , 0. ],\n",
       "       [0.9, 1. , 0.9],\n",
       "       [nan, nan, nan]])</pre></div></li><li class='xr-var-item'><div class='xr-var-name'><span>2d_distance</span></div><div class='xr-var-dims'>(component, space, space_2)</div><div class='xr-var-dtype'>float64</div><div class='xr-var-preview xr-preview'>0.0 1.0 2.0 1.0 ... nan nan nan nan</div><input id='attrs-62ccd0f0-4916-49dc-98b6-e2b15b6ab4b5' class='xr-var-attrs-in' type='checkbox' disabled><label for='attrs-62ccd0f0-4916-49dc-98b6-e2b15b6ab4b5' title='Show/Hide attributes'><svg class='icon xr-icon-file-text2'><use xlink:href='#icon-file-text2'></use></svg></label><input id='data-38575119-1418-489e-8c6f-c86ad4292b3f' class='xr-var-data-in' type='checkbox'><label for='data-38575119-1418-489e-8c6f-c86ad4292b3f' title='Show/Hide data repr'><svg class='icon xr-icon-database'><use xlink:href='#icon-database'></use></svg></label><div class='xr-var-attrs'><dl class='xr-attrs'></dl></div><div class='xr-var-data'><pre>array([[[ 0. ,  1. ,  2. ],\n",
       "        [ 1. ,  0. , 10. ],\n",
       "        [ 2. , 10. ,  0. ]],\n",
       "\n",
       "       [[ 0. ,  0.1,  0.2],\n",
       "        [ 0.1,  0. ,  1. ],\n",
       "        [ 0.2,  1. ,  0. ]],\n",
       "\n",
       "       [[ nan,  nan,  nan],\n",
       "        [ nan,  nan,  nan],\n",
       "        [ nan,  nan,  nan]],\n",
       "\n",
       "       [[ nan,  nan,  nan],\n",
       "        [ nan,  nan,  nan],\n",
       "        [ nan,  nan,  nan]]])</pre></div></li></ul></div></li><li class='xr-section-item'><input id='section-86bd99cd-ac00-45d9-aea9-0a7210f56774' class='xr-section-summary-in' type='checkbox' disabled ><label for='section-86bd99cd-ac00-45d9-aea9-0a7210f56774' class='xr-section-summary'  title='Expand/collapse section'>Attributes: <span>(0)</span></label><div class='xr-section-inline-details'></div><div class='xr-section-details'><dl class='xr-attrs'></dl></div></li></ul></div></div>"
      ],
      "text/plain": [
       "<xarray.Dataset>\n",
       "Dimensions:           (Period: 1, TimeStep: 2, component: 4, space: 3, space_2: 3)\n",
       "Coordinates:\n",
       "  * component         (component) <U2 'c1' 'c2' 'c3' 'c4'\n",
       "  * Period            (Period) int32 0\n",
       "  * TimeStep          (TimeStep) <U2 'T0' 'T1'\n",
       "  * space             (space) <U6 '01_reg' '02_reg' '03_reg'\n",
       "  * space_2           (space_2) <U6 '01_reg' '02_reg' '03_reg'\n",
       "Data variables:\n",
       "    operationFixRate  (component, Period, TimeStep, space) float64 nan ... 1.0\n",
       "    1d_capacity       (component, space) float64 0.9 1.0 0.9 0.0 ... nan nan nan\n",
       "    2d_distance       (component, space, space_2) float64 0.0 1.0 ... nan nan"
      ]
     },
     "execution_count": 2,
     "metadata": {},
     "output_type": "execute_result"
    }
   ],
   "source": [
    "space = ['01_reg','02_reg','03_reg']\n",
    "TimeStep = ['T0','T1']\n",
    "space_2 = space.copy()\n",
    "component = ['c1','c2','c3','c4']\n",
    "Period = [0]\n",
    "\n",
    "demand = np.stack([[[[np.nan,np.nan, np.nan] for i in range(2)]],\n",
    "                        [[[1, 0.9,  2],\n",
    "                          [1, 0,  0.9]]],\n",
    "                        [[[np.nan,np.nan, np.nan] for i in range(2)]],\n",
    "                        [[[0,   1, 1],\n",
    "                          [0.3, 2, 1]]]])\n",
    "demand = xr.DataArray(demand, coords=[component, Period, TimeStep, space], dims=['component', 'Period', 'TimeStep','space'])\n",
    "cap_1d = np.stack([[0.9,  1,  0.9],\n",
    "                        [0,    0,  0],\n",
    "                        [0.9,  1,  0.9],\n",
    "                        [np.nan] *3])\n",
    "cap_1d = xr.DataArray(cap_1d, coords=[component,space], dims=['component','space'])\n",
    "dist_2d = np.stack([[[0,1,2],[1,0,10],[2,10,0]],\n",
    "                         [[0,0.1,0.2],[0.1,0,1],[0.2,1,0]],\n",
    "                         [[np.nan] * 3 for i in range(3)],\n",
    "                         [[np.nan] * 3 for i in range(3)]])\n",
    "dist_2d = xr.DataArray(dist_2d, coords=[component,space,space_2], dims=['component','space','space_2'])\n",
    "\n",
    "ds = xr.Dataset({'operationFixRate': demand, '1d_capacity': cap_1d, '2d_distance': dist_2d})\n",
    "\n",
    "sds = spd.SpagatDataset()\n",
    "sds.xr_dataset = ds\n",
    "\n",
    "sds.xr_dataset"
   ]
  },
  {
   "cell_type": "markdown",
   "metadata": {},
   "source": [
    "# all_variable_based_clustering()"
   ]
  },
  {
   "cell_type": "code",
   "execution_count": 3,
   "metadata": {},
   "outputs": [],
   "source": [
    "verbose=False\n",
    "ax_illustration=None \n",
    "save_fig='test' \n",
    "dimension_description='space' \n",
    "weighting=None"
   ]
  },
  {
   "cell_type": "code",
   "execution_count": 4,
   "metadata": {},
   "outputs": [],
   "source": [
    "# Original region list\n",
    "regions_list = sds.xr_dataset[dimension_description].values\n",
    "n_regions = len(regions_list)"
   ]
  },
  {
   "cell_type": "code",
   "execution_count": 5,
   "metadata": {},
   "outputs": [
    {
     "data": {
      "text/plain": [
       "{3: {'01_reg': ['01_reg'], '02_reg': ['02_reg'], '03_reg': ['03_reg']}}"
      ]
     },
     "execution_count": 5,
     "metadata": {},
     "output_type": "execute_result"
    }
   ],
   "source": [
    "aggregation_dict = {}\n",
    "aggregation_dict[n_regions] = {region_id: [region_id] for region_id in regions_list}\n",
    "aggregation_dict"
   ]
  },
  {
   "cell_type": "markdown",
   "metadata": {},
   "source": [
    "## Option 1.  agg_mode = 'hierarchical' \n",
    "#### Clustering method via SciPy.cluster module"
   ]
  },
  {
   "cell_type": "code",
   "execution_count": null,
   "metadata": {},
   "outputs": [],
   "source": [
    "agg_mode = 'hierarchical' "
   ]
  },
  {
   "cell_type": "code",
   "execution_count": null,
   "metadata": {},
   "outputs": [],
   "source": [
    "#sds\n",
    "handle_mode = 'toDissimilarity'\n",
    "vars='all'\n",
    "dims='all'\n",
    "var_weightings=None"
   ]
  },
  {
   "cell_type": "markdown",
   "metadata": {},
   "source": [
    "#### STEP 1.  Preprocess the whole dataset (grouping_utils - preprocessDataset())"
   ]
  },
  {
   "cell_type": "code",
   "execution_count": null,
   "metadata": {},
   "outputs": [],
   "source": [
    "# Obtain the data dictionaries for three var categories after preprocessing\n",
    "dict_ts, dict_1d, dict_2d = gu.preprocessDataset(sds, handle_mode='toDissimilarity')"
   ]
  },
  {
   "cell_type": "markdown",
   "metadata": {},
   "source": [
    "#### STEP 2.  Calculate the overall distance between each region pair (uses custom distance)"
   ]
  },
  {
   "cell_type": "code",
   "execution_count": null,
   "metadata": {},
   "outputs": [],
   "source": [
    "# Apply clustering methods based on the Custom Distance Function\n",
    "squared_dist_matrix = gu.selfDistanceMatrix(dict_ts, dict_1d, dict_2d, n_regions)\n",
    "squared_dist_matrix"
   ]
  },
  {
   "cell_type": "markdown",
   "metadata": {},
   "source": [
    "#### STEP 3. Clustering"
   ]
  },
  {
   "cell_type": "markdown",
   "metadata": {},
   "source": [
    "#### STEP 3a.  Hierarchical clustering with average linkage"
   ]
  },
  {
   "cell_type": "code",
   "execution_count": null,
   "metadata": {},
   "outputs": [],
   "source": [
    "distance_matrix = hierarchy.distance.squareform(squared_dist_matrix)\n",
    "Z = hierarchy.linkage(distance_matrix, method='average')\n",
    "Z"
   ]
  },
  {
   "cell_type": "code",
   "execution_count": null,
   "metadata": {},
   "outputs": [],
   "source": [
    "print('The cophenetic correlation coefficient of the hiearchical clustering is ', hierarchy.cophenet(Z, distance_matrix)[0])\n",
    " "
   ]
  },
  {
   "cell_type": "markdown",
   "metadata": {},
   "source": [
    "#### STEP 3b.  Figure for inconsistency check "
   ]
  },
  {
   "cell_type": "code",
   "execution_count": null,
   "metadata": {},
   "outputs": [],
   "source": [
    "fig, ax = plt.subplots(figsize=(18,7))\n",
    "inconsistency = hierarchy.inconsistent(Z)\n",
    "ax.plot(range(1,len(Z)+1),list(inconsistency[:,3]),'go-')\n",
    "ax.set_title('Inconsistency of each Link with the Links Below', fontsize=14)\n",
    "ax.set_xlabel('Number of disjoint clusters under this link', fontsize=12)\n",
    "ax.set_ylabel('Inconsistency Coefficients', fontsize=12)\n",
    "\n",
    "plt.xticks(range(1,len(Z)+1), np.arange(len(Z)+1,1, -1))\n",
    "plt.show()"
   ]
  },
  {
   "cell_type": "markdown",
   "metadata": {},
   "source": [
    "#### STEP 3c.  If specified, figure for resulting dendrogram"
   ]
  },
  {
   "cell_type": "code",
   "execution_count": null,
   "metadata": {},
   "outputs": [],
   "source": [
    "\n",
    "if ax_illustration is not None:\n",
    "    R = hierarchy.dendrogram(Z, \n",
    "                          orientation=\"top\",\n",
    "                            labels=sds.xr_dataset[dimension_description].values, \n",
    "                            ax=ax_illustration, \n",
    "                            leaf_font_size=14\n",
    "                            )\n",
    "\n",
    "    if save_fig is not None:\n",
    "        spu.plt_savefig(save_name=save_fig)\n",
    "\n",
    "elif save_fig is not None:\n",
    "    fig, ax = spu.plt.subplots(figsize=(25, 12))\n",
    "\n",
    "    R = hierarchy.dendrogram(Z, \n",
    "                            orientation=\"top\",\n",
    "                            labels=sds.xr_dataset[dimension_description].values, \n",
    "                            ax=ax, \n",
    "                            leaf_font_size=14\n",
    "                            )\n",
    "\n",
    "    spu.plt_savefig(fig=fig, save_name=save_fig)\n",
    " "
   ]
  },
  {
   "cell_type": "markdown",
   "metadata": {},
   "source": [
    "#### STEP 4.  find the sub_to_sup_region_id_dict for every level in the hierarchy"
   ]
  },
  {
   "cell_type": "code",
   "execution_count": null,
   "metadata": {},
   "outputs": [],
   "source": [
    "# regions_dict to record the newest region set after each merging step, regions_dict_complete for all regions appearing during clustering\n",
    "regions_dict = {region_id: [region_id] for region_id in regions_list}\n",
    "regions_dict"
   ]
  },
  {
   "cell_type": "code",
   "execution_count": null,
   "metadata": {},
   "outputs": [],
   "source": [
    "regions_dict_complete = regions_dict.copy()\n",
    "regions_dict_complete"
   ]
  },
  {
   "cell_type": "code",
   "execution_count": null,
   "metadata": {},
   "outputs": [],
   "source": [
    "Z"
   ]
  },
  {
   "cell_type": "code",
   "execution_count": null,
   "metadata": {},
   "outputs": [],
   "source": [
    "range(len(Z))"
   ]
  },
  {
   "cell_type": "code",
   "execution_count": null,
   "metadata": {},
   "outputs": [],
   "source": [
    "int(Z[0][1])"
   ]
  },
  {
   "cell_type": "code",
   "execution_count": null,
   "metadata": {},
   "outputs": [],
   "source": [
    "# Identify, which regions are merged together (new_merged_region_id_list)\n",
    "for i in range(len(Z)):\n",
    "    print(i) \n",
    "    print('-------------------------------------------------------------------')\n",
    "    # identify the keys of the sub regions that will be merged\n",
    "    key_list = list(regions_dict_complete.keys())\n",
    "    key_1 = key_list[int(Z[i][0])]\n",
    "    key_2 = key_list[int(Z[i][1])]\n",
    "    print(key_1)\n",
    "    print(key_2)\n",
    "    print('------------------------------------------------------------------')\n",
    "    # get the region_id_list_s of the sub regions\n",
    "    value_list = list(regions_dict_complete.values())\n",
    "    sub_region_id_list_1 = value_list[int(Z[i][0])]\n",
    "    sub_region_id_list_2 = value_list[int(Z[i][1])]\n",
    "    print(sub_region_id_list_1)\n",
    "    print(sub_region_id_list_2)\n",
    "    print('------------------------------------------------------------------')\n",
    "    # add the new region to the dict by merging the two region_id_lists\n",
    "    sup_region_id = f'{key_1}_{key_2}'\n",
    "    sup_region_id_list = sub_region_id_list_1.copy()\n",
    "    sup_region_id_list.extend(sub_region_id_list_2)\n",
    "    print(sub_region_id_list_2)\n",
    "    print('------------------------------------------------------------------')\n",
    "    regions_dict_complete[sup_region_id] = sup_region_id_list\n",
    "    regions_dict[sup_region_id] = sup_region_id_list\n",
    "    del regions_dict[key_1]\n",
    "    del regions_dict[key_2]\n",
    "    \n",
    "    if verbose:\n",
    "        print(i)\n",
    "        print('\\t', 'keys:', key_1, key_2)\n",
    "        print('\\t', 'list_1', sub_region_id_list_1)\n",
    "        print('\\t', 'list_2', sub_region_id_list_2)\n",
    "        print('\\t', 'sup_region_id', sup_region_id)\n",
    "        print('\\t', 'sup_region_id_list', sup_region_id_list)\n",
    "\n",
    "    aggregation_dict[n_regions - i - 1] = regions_dict.copy()\n",
    "    \n"
   ]
  },
  {
   "cell_type": "markdown",
   "metadata": {},
   "source": [
    "#### STEP 5.  Get Silhouette Coefficient scores"
   ]
  },
  {
   "cell_type": "code",
   "execution_count": null,
   "metadata": {},
   "outputs": [],
   "source": [
    "# Silhouette Coefficient scores\n",
    "silhouette_scores = gu.computeSilhouetteCoefficient(list(regions_list), squared_dist_matrix, aggregation_dict)\n",
    "print(silhouette_scores)"
   ]
  },
  {
   "cell_type": "markdown",
   "metadata": {},
   "source": [
    "# computeSilhouetteCoefficient()"
   ]
  },
  {
   "cell_type": "code",
   "execution_count": null,
   "metadata": {},
   "outputs": [],
   "source": [
    "regions_list = list(regions_list)\n",
    "distanceMatrix = squared_dist_matrix\n",
    "aggregation_dict = aggregation_dict"
   ]
  },
  {
   "cell_type": "code",
   "execution_count": null,
   "metadata": {},
   "outputs": [],
   "source": [
    "n_regions = len(regions_list)"
   ]
  },
  {
   "cell_type": "code",
   "execution_count": null,
   "metadata": {},
   "outputs": [],
   "source": [
    "# Silhouette Coefficient scores\n",
    "scores = [0 for i in range(1, n_regions-1)]\n",
    "scores"
   ]
  },
  {
   "cell_type": "code",
   "execution_count": null,
   "metadata": {},
   "outputs": [],
   "source": [
    "# Labels for each region object\n",
    "labels = [0 for i in range(n_regions)]\n",
    "labels"
   ]
  },
  {
   "cell_type": "code",
   "execution_count": null,
   "metadata": {},
   "outputs": [],
   "source": [
    "aggregation_dict"
   ]
  },
  {
   "cell_type": "code",
   "execution_count": null,
   "metadata": {},
   "outputs": [],
   "source": [
    "regions_list"
   ]
  },
  {
   "cell_type": "markdown",
   "metadata": {},
   "source": [
    "#### STEP 1. Obtain Silhouette scores for all intermediate levels in the hierarchy"
   ]
  },
  {
   "cell_type": "code",
   "execution_count": null,
   "metadata": {},
   "outputs": [],
   "source": [
    "for k, regions_dict in aggregation_dict.items():\n",
    "\n",
    "#     if k == 1 or k == n_regions:\n",
    "#         continue\n",
    "\n",
    "    # Obtain labels list for this clustering results\n",
    "    label = 0\n",
    "    for sup_region in regions_dict.values():\n",
    "        #### STEP 1.\n",
    "        print(sup_region)\n",
    "        print('-----------------------------------------')\n",
    "        for reg in sup_region:\n",
    "            print(reg)\n",
    "            print('-----------------------------------------')\n",
    "            ind = regions_list.index(reg)  \n",
    "            print(ind)\n",
    "            print('-----------------------------------------')\n",
    "            labels[ind] = label\n",
    "            \n",
    "        label += 1\n",
    "    print(label)\n",
    "    print(labels)\n",
    "    print('--------------------------------------------------')\n",
    "    # Silhouette score of this clustering\n",
    "    s = metrics.silhouette_score(distanceMatrix, labels, metric='precomputed')\n",
    "    scores[k-2] = s\n",
    "\n"
   ]
  },
  {
   "cell_type": "code",
   "execution_count": null,
   "metadata": {},
   "outputs": [],
   "source": [
    "scores"
   ]
  },
  {
   "cell_type": "markdown",
   "metadata": {},
   "source": [
    "# END - computeSilhouetteCoefficient()"
   ]
  },
  {
   "cell_type": "code",
   "execution_count": null,
   "metadata": {},
   "outputs": [],
   "source": [
    "aggregation_dict"
   ]
  },
  {
   "cell_type": "markdown",
   "metadata": {},
   "source": [
    "## Option 2.  agg_mode = 'hierarchical2'\n",
    "\n",
    "#### Clustering method via Scikit Learn module'''"
   ]
  },
  {
   "cell_type": "code",
   "execution_count": null,
   "metadata": {},
   "outputs": [],
   "source": [
    "agg_mode = 'hierarchical2' "
   ]
  },
  {
   "cell_type": "markdown",
   "metadata": {},
   "source": [
    "#### STEP 1.  Preprocess the whole dataset (grouping_utils - preprocessDataset())"
   ]
  },
  {
   "cell_type": "code",
   "execution_count": null,
   "metadata": {},
   "outputs": [],
   "source": [
    "# Obtain the data dictionaries for three var categories after preprocessing\n",
    "ds_ts, ds_1d, ds_2d = gu.preprocessDataset(sds, handle_mode='toDissimilarity')"
   ]
  },
  {
   "cell_type": "markdown",
   "metadata": {},
   "source": [
    "#### STEP 2.  Calculate the overall distance between each region pair (uses custom distance)"
   ]
  },
  {
   "cell_type": "code",
   "execution_count": null,
   "metadata": {},
   "outputs": [],
   "source": [
    "# Precompute the distance matrix according to the Custom Distance Function\n",
    "squared_distMatrix = gu.selfDistanceMatrix(ds_ts, ds_1d, ds_2d, n_regions)"
   ]
  },
  {
   "cell_type": "markdown",
   "metadata": {},
   "source": [
    "# generateConnectivityMatrix()"
   ]
  },
  {
   "cell_type": "code",
   "execution_count": null,
   "metadata": {},
   "outputs": [],
   "source": [
    "ds_extracted = sds.xr_dataset"
   ]
  },
  {
   "cell_type": "code",
   "execution_count": null,
   "metadata": {},
   "outputs": [],
   "source": [
    "ds_extracted"
   ]
  },
  {
   "cell_type": "markdown",
   "metadata": {},
   "source": [
    "#### STEP 1. obtain a dict of all 2d components "
   ]
  },
  {
   "cell_type": "code",
   "execution_count": null,
   "metadata": {},
   "outputs": [],
   "source": [
    "vars_2d = {}"
   ]
  },
  {
   "cell_type": "code",
   "execution_count": null,
   "metadata": {},
   "outputs": [],
   "source": [
    "for varname, da in ds_extracted.data_vars.items():\n",
    "    if da.dims == ('component','space','space_2'):\n",
    "        vars_2d[varname] = da"
   ]
  },
  {
   "cell_type": "code",
   "execution_count": null,
   "metadata": {},
   "outputs": [],
   "source": [
    "vars_2d"
   ]
  },
  {
   "cell_type": "code",
   "execution_count": null,
   "metadata": {},
   "outputs": [],
   "source": [
    "n_regions = len(ds_extracted['space'].values)\n",
    "component_list = list(ds_extracted['component'].values)\n",
    "n_components = len(component_list)"
   ]
  },
  {
   "cell_type": "markdown",
   "metadata": {},
   "source": [
    "#### STEP 2. Preprocess the variables ( calls preprocess2dVariables()  )"
   ]
  },
  {
   "cell_type": "code",
   "execution_count": null,
   "metadata": {},
   "outputs": [],
   "source": [
    "# Square matrices for each 2d variable and each valid component\n",
    "ds_2d = grouping_utils.preprocess2dVariables(vars_2d, component_list, handle_mode='toAffinity')"
   ]
  },
  {
   "cell_type": "code",
   "execution_count": null,
   "metadata": {},
   "outputs": [],
   "source": [
    "ds_2d"
   ]
  },
  {
   "cell_type": "markdown",
   "metadata": {},
   "source": [
    "#### STEP 3. If 'pipeline' is among the list of 2d components, only use that. Else use all components having 2d variables"
   ]
  },
  {
   "cell_type": "code",
   "execution_count": null,
   "metadata": {},
   "outputs": [],
   "source": [
    "# The neighboring information is based on the 2d vars with components related to pipeline\n",
    "connect_components = []"
   ]
  },
  {
   "cell_type": "code",
   "execution_count": null,
   "metadata": {},
   "outputs": [],
   "source": [
    "for i in range(len(component_list)):\n",
    "    if 'pipeline' in component_list[i].lower():\n",
    "        connect_components.append(i)"
   ]
  },
  {
   "cell_type": "code",
   "execution_count": null,
   "metadata": {},
   "outputs": [],
   "source": [
    "connect_components"
   ]
  },
  {
   "cell_type": "code",
   "execution_count": null,
   "metadata": {},
   "outputs": [],
   "source": [
    "# If there is no components related to pipelines, then consider all existing components.\n",
    "if not connect_components:\n",
    "    connect_components = list(range(len(component_list)))"
   ]
  },
  {
   "cell_type": "code",
   "execution_count": null,
   "metadata": {},
   "outputs": [],
   "source": [
    "connect_components"
   ]
  },
  {
   "cell_type": "code",
   "execution_count": null,
   "metadata": {},
   "outputs": [],
   "source": [
    "adjacencyMatrix = np.zeros((n_regions,n_regions))\n",
    "adjacencyMatrix"
   ]
  },
  {
   "cell_type": "markdown",
   "metadata": {},
   "source": [
    "#### STEP 4. for each region pair, check if they are connected (calls checkConnectivity function)"
   ]
  },
  {
   "cell_type": "code",
   "execution_count": null,
   "metadata": {},
   "outputs": [],
   "source": [
    "# Check each index pair of regions to verify, if the two regions are connected to each other\n",
    "for i in range(n_regions):\n",
    "    for j in range(i+1,n_regions):\n",
    "        if grouping_utils.checkConnectivity(i,j, ds_2d, connect_components):\n",
    "            adjacencyMatrix[i,j] = 1"
   ]
  },
  {
   "cell_type": "markdown",
   "metadata": {},
   "source": [
    "#### STEP 5. Convert the upper triangualr matrix into a symmetric matrix."
   ]
  },
  {
   "cell_type": "code",
   "execution_count": null,
   "metadata": {},
   "outputs": [],
   "source": [
    "adjacencyMatrix"
   ]
  },
  {
   "cell_type": "code",
   "execution_count": null,
   "metadata": {},
   "outputs": [],
   "source": [
    "np.diag(adjacencyMatrix.diagonal())"
   ]
  },
  {
   "cell_type": "code",
   "execution_count": null,
   "metadata": {},
   "outputs": [],
   "source": [
    "adjacencyMatrix += adjacencyMatrix.T - np.diag(adjacencyMatrix.diagonal())"
   ]
  },
  {
   "cell_type": "code",
   "execution_count": null,
   "metadata": {},
   "outputs": [],
   "source": [
    "adjacencyMatrix"
   ]
  },
  {
   "cell_type": "code",
   "execution_count": null,
   "metadata": {},
   "outputs": [],
   "source": [
    "# Set the diagonal values as 1\n",
    "np.fill_diagonal(adjacencyMatrix, 1)"
   ]
  },
  {
   "cell_type": "code",
   "execution_count": null,
   "metadata": {},
   "outputs": [],
   "source": [
    "adjacencyMatrix"
   ]
  },
  {
   "cell_type": "markdown",
   "metadata": {},
   "source": [
    "# END - generateConnectivityMatrix()"
   ]
  },
  {
   "cell_type": "markdown",
   "metadata": {},
   "source": [
    "# checkConnectivity()"
   ]
  },
  {
   "cell_type": "code",
   "execution_count": null,
   "metadata": {},
   "outputs": [],
   "source": [
    "connect_components"
   ]
  },
  {
   "cell_type": "code",
   "execution_count": null,
   "metadata": {},
   "outputs": [],
   "source": [
    "ds_2d"
   ]
  },
  {
   "cell_type": "code",
   "execution_count": null,
   "metadata": {},
   "outputs": [],
   "source": [
    "i = 1\n",
    "j = 2"
   ]
  },
  {
   "cell_type": "markdown",
   "metadata": {},
   "source": [
    "#### STEP. Returns True if the given region pair has any non-zero value, for each 2d variable and for each of it's component "
   ]
  },
  {
   "cell_type": "code",
   "execution_count": null,
   "metadata": {},
   "outputs": [],
   "source": [
    "for var, var_dict in ds_2d.items():\n",
    "    for c, data in var_dict.items():\n",
    "        if (c in connect_components) and (data[i,j] != 0): \n",
    "            print('True')\n",
    "            \n",
    "print('False')"
   ]
  },
  {
   "cell_type": "code",
   "execution_count": null,
   "metadata": {},
   "outputs": [],
   "source": [
    "def checkConnectivity(i,j, ds_2d, connect_components):\n",
    "    '''Check if region i is neighboring to region j, based on the components related to pipelines.\n",
    "        - as 1 if there exists at least one non-zero value in any matrix at the position [i,j]\n",
    "        - if no components related to pipelines, then the connect_components is the list of all existing components.\n",
    "    '''\n",
    "    \n",
    "    for var, var_dict in ds_2d.items():\n",
    "        for c, data in var_dict.items():\n",
    "            if (c in connect_components) and (data[i,j] != 0):\n",
    "                return True\n",
    "            \n",
    "    return False    "
   ]
  },
  {
   "cell_type": "code",
   "execution_count": null,
   "metadata": {},
   "outputs": [],
   "source": [
    "checkConnectivity(0,1, ds_2d, connect_components)"
   ]
  },
  {
   "cell_type": "markdown",
   "metadata": {},
   "source": [
    "# END - checkConnectivity()"
   ]
  },
  {
   "cell_type": "markdown",
   "metadata": {},
   "source": [
    "#### STEP 3.  Obtain a matrix where 1 means two regions are connected and 0 means not (any one of the component and any one of it's 2d variable has to have a positive value)"
   ]
  },
  {
   "cell_type": "code",
   "execution_count": null,
   "metadata": {},
   "outputs": [],
   "source": [
    "# Connectivity matrix for neighboring structure\n",
    "connectMatrix = gu.generateConnectivityMatrix(sds)"
   ]
  },
  {
   "cell_type": "code",
   "execution_count": null,
   "metadata": {},
   "outputs": [],
   "source": [
    "connectMatrix"
   ]
  },
  {
   "cell_type": "code",
   "execution_count": null,
   "metadata": {},
   "outputs": [],
   "source": [
    "# Silhouette Coefficient scores\n",
    "silhouette_scores = []"
   ]
  },
  {
   "cell_type": "code",
   "execution_count": null,
   "metadata": {},
   "outputs": [],
   "source": [
    "aggregation_dict"
   ]
  },
  {
   "cell_type": "markdown",
   "metadata": {},
   "source": [
    "#### STEP 3. Clustering for every number of regions from 1 to one less than n_regions "
   ]
  },
  {
   "cell_type": "code",
   "execution_count": null,
   "metadata": {},
   "outputs": [],
   "source": [
    "for i in range(1,n_regions):\n",
    "    # Computing hierarchical clustering\n",
    "    model = skc.AgglomerativeClustering(n_clusters=i,affinity='precomputed',linkage='average',connectivity=connectMatrix).fit(squared_distMatrix)\n",
    "    regions_label_list = model.labels_\n",
    "\n",
    "    # Silhouette Coefficient score for this clustering results\n",
    "    if i != 1:\n",
    "        s = metrics.silhouette_score(squared_distMatrix, regions_label_list, metric='precomputed')\n",
    "        silhouette_scores.append(s)\n",
    "\n",
    "    # Create a regions dictionary for the aggregated regions\n",
    "    regions_dict = {}\n",
    "    for label in range(i):\n",
    "        # Group the regions of this regions label\n",
    "        sup_region_list = list(regions_list[regions_label_list == label])\n",
    "        sup_region_id = '_'.join(sup_region_list)\n",
    "        regions_dict[sup_region_id] = sup_region_list.copy()\n",
    "    print(regions_dict)\n",
    "    print('===============================================================')\n",
    "    aggregation_dict[i] = regions_dict.copy()\n",
    "    print(aggregation_dict)\n",
    "    print('===============================================================')"
   ]
  },
  {
   "cell_type": "markdown",
   "metadata": {},
   "source": [
    "#### STEP 4. cophenetic correlation coefficient"
   ]
  },
  {
   "cell_type": "code",
   "execution_count": null,
   "metadata": {},
   "outputs": [],
   "source": [
    "# Plot the hierarchical tree dendrogram\n",
    "clustering_tree = skc.AgglomerativeClustering(distance_threshold=0, \n",
    "                                              n_clusters=None, \n",
    "                                              affinity='precomputed', \n",
    "                                              linkage='average',\n",
    "                                              connectivity=connectMatrix).fit(squared_distMatrix)\n",
    "# Create the counts of samples under each node"
   ]
  },
  {
   "cell_type": "code",
   "execution_count": null,
   "metadata": {},
   "outputs": [],
   "source": [
    "clustering_tree"
   ]
  },
  {
   "cell_type": "code",
   "execution_count": null,
   "metadata": {},
   "outputs": [],
   "source": [
    "counts = np.zeros(clustering_tree.children_.shape[0])\n",
    "n_samples = len(clustering_tree.labels_)\n",
    "for i, merge in enumerate(clustering_tree.children_):\n",
    "    current_count = 0\n",
    "    for child_idx in merge:\n",
    "        if child_idx < n_samples:\n",
    "            current_count += 1  # leaf node\n",
    "        else:\n",
    "            current_count += counts[child_idx - n_samples]\n",
    "    counts[i] = current_count"
   ]
  },
  {
   "cell_type": "code",
   "execution_count": null,
   "metadata": {},
   "outputs": [],
   "source": [
    "            \n",
    "linkage_matrix = np.column_stack([clustering_tree.children_, clustering_tree.distances_, counts]).astype(float)   \n",
    "# Plot the corresponding dendrogram\n",
    "#hierarchy.dendrogram(linkage_matrix)"
   ]
  },
  {
   "cell_type": "code",
   "execution_count": null,
   "metadata": {},
   "outputs": [],
   "source": [
    "linkage_matrix"
   ]
  },
  {
   "cell_type": "code",
   "execution_count": null,
   "metadata": {},
   "outputs": [],
   "source": [
    "distance_matrix = hierarchy.distance.squareform(squared_distMatrix)\n",
    "print('The cophenetic correlation coefficient of the hiearchical clustering is ', hierarchy.cophenet(linkage_matrix, distance_matrix)[0])\n",
    " "
   ]
  },
  {
   "cell_type": "code",
   "execution_count": null,
   "metadata": {},
   "outputs": [],
   "source": [
    "       \n",
    "#fig, ax = plt.subplots(figsize=(18,7))\n",
    "inconsistency = hierarchy.inconsistent(linkage_matrix)\n",
    "print('Inconsistencies:',list(inconsistency[:,3]))\n",
    "# ax.plot(range(1,len(linkage_matrix)+1),list(inconsistency[:,3]),'go-')\n",
    "# ax.set_title('Inconsistency of each Link with the Links Below', fontsize=14)\n",
    "# ax.set_xlabel('Number of disjoint clusters under this link', fontsize=12)\n",
    "# ax.set_ylabel('Inconsistencies', fontsize=12)\n",
    "\n",
    "# plt.xticks(range(1,len(linkage_matrix)+1), np.arange(len(linkage_matrix)+1,1, -1))\n",
    "# plt.show()"
   ]
  },
  {
   "cell_type": "markdown",
   "metadata": {},
   "source": [
    "#### STEP 5. Print a list of Silhouette scores (Only for the intermediate levels of merges (2 to one less than n_regions))"
   ]
  },
  {
   "cell_type": "code",
   "execution_count": null,
   "metadata": {},
   "outputs": [],
   "source": [
    "print('Silhouette scores: ',silhouette_scores)       "
   ]
  },
  {
   "cell_type": "code",
   "execution_count": null,
   "metadata": {},
   "outputs": [],
   "source": [
    "aggregation_dict"
   ]
  },
  {
   "cell_type": "markdown",
   "metadata": {},
   "source": [
    "## Option 3.  agg_mode = 'spectral'"
   ]
  },
  {
   "cell_type": "code",
   "execution_count": 6,
   "metadata": {},
   "outputs": [],
   "source": [
    "agg_mode = 'spectral'"
   ]
  },
  {
   "cell_type": "markdown",
   "metadata": {},
   "source": [
    "#### STEP 1.  Preprocess the whole dataset (grouping_utils - preprocessDataset())"
   ]
  },
  {
   "cell_type": "code",
   "execution_count": null,
   "metadata": {},
   "outputs": [],
   "source": [
    "# Obtain the matrices for three var categories after preprocessing\n",
    "feature_matrix_ts, feature_matrix_1d, adjacency_matrix_2d = gu.preprocessDataset(sds, handle_mode='toAffinity')"
   ]
  },
  {
   "cell_type": "code",
   "execution_count": null,
   "metadata": {},
   "outputs": [],
   "source": [
    "feature_matrix_ts"
   ]
  },
  {
   "cell_type": "code",
   "execution_count": null,
   "metadata": {},
   "outputs": [],
   "source": [
    "# List of weighting factors for 3 categories\n",
    "if weighting:\n",
    "    weighting = weighting\n",
    "else:                          #TODO: reduce these lines to 1 line (IF not weighting)\n",
    "    weighting = [1,1,1]"
   ]
  },
  {
   "cell_type": "code",
   "execution_count": null,
   "metadata": {},
   "outputs": [],
   "source": [
    "# Using RBF kernel to construct affinity matrix\n",
    "delta = 1"
   ]
  },
  {
   "cell_type": "markdown",
   "metadata": {},
   "source": [
    "#### STEP 2a. (i) Obtain distance matrix for time series variable set (used pdist, which in turn uses default euclidean distance)"
   ]
  },
  {
   "cell_type": "code",
   "execution_count": null,
   "metadata": {},
   "outputs": [],
   "source": [
    "hierarchy.distance.pdist(feature_matrix_ts)"
   ]
  },
  {
   "cell_type": "code",
   "execution_count": null,
   "metadata": {},
   "outputs": [],
   "source": [
    "##### Obtain affinity matrix for TimeSeries part via RBF kernel applied on distance matrix\n",
    "distance_matrix_ts = hierarchy.distance.squareform(hierarchy.distance.pdist(feature_matrix_ts))"
   ]
  },
  {
   "cell_type": "code",
   "execution_count": null,
   "metadata": {},
   "outputs": [],
   "source": [
    "distance_matrix_ts"
   ]
  },
  {
   "cell_type": "markdown",
   "metadata": {},
   "source": [
    "#### STEP 2a. (ii) Use RBF kernel to construct affinity matrix based on distance matrix of time series variable set"
   ]
  },
  {
   "cell_type": "code",
   "execution_count": null,
   "metadata": {},
   "outputs": [],
   "source": [
    "affinity_ts = np.exp(- distance_matrix_ts ** 2 / (2. * delta ** 2))"
   ]
  },
  {
   "cell_type": "code",
   "execution_count": null,
   "metadata": {},
   "outputs": [],
   "source": [
    "affinity_ts"
   ]
  },
  {
   "cell_type": "markdown",
   "metadata": {},
   "source": [
    "#### STEP 2b. Obtain distance matrix for 1d variable set (used pdist, which in turn uses default euclidean distance)"
   ]
  },
  {
   "cell_type": "code",
   "execution_count": null,
   "metadata": {},
   "outputs": [],
   "source": [
    "##### Obtain affinity matrix for 1d-Vars part via RBF kernel applied on distance matrix\n",
    "distance_matrix_1d = hierarchy.distance.squareform(hierarchy.distance.pdist(feature_matrix_1d))"
   ]
  },
  {
   "cell_type": "markdown",
   "metadata": {},
   "source": [
    "#### STEP 2b. (ii) Use RBF kernel to construct affinity matrix based on distance matrix of 1d variable set"
   ]
  },
  {
   "cell_type": "code",
   "execution_count": null,
   "metadata": {},
   "outputs": [],
   "source": [
    "affinity_1d = np.exp(- distance_matrix_1d ** 2 / (2. * delta ** 2))"
   ]
  },
  {
   "cell_type": "markdown",
   "metadata": {},
   "source": [
    "#### STEP 2c. (i) Obtain distance matrix for 2d variable set (used pdist, which in turn uses default euclidean distance)"
   ]
  },
  {
   "cell_type": "code",
   "execution_count": null,
   "metadata": {},
   "outputs": [],
   "source": [
    "adjacency_matrix_2d"
   ]
  },
  {
   "cell_type": "code",
   "execution_count": null,
   "metadata": {},
   "outputs": [],
   "source": [
    "#adjacency_matrix_2d is affinity matrix, convert it into distance matrix by taking it's reciprocal \n",
    "adjacency_2d_adverse = 1.0 / adjacency_matrix_2d\n",
    "adjacency_2d_adverse"
   ]
  },
  {
   "cell_type": "code",
   "execution_count": null,
   "metadata": {},
   "outputs": [],
   "source": [
    "max_value = adjacency_2d_adverse[np.isfinite(adjacency_2d_adverse)].max()\n",
    "max_value"
   ]
  },
  {
   "cell_type": "code",
   "execution_count": null,
   "metadata": {},
   "outputs": [],
   "source": [
    "adjacency_2d_adverse[np.isinf(adjacency_2d_adverse)] = max_value + 10\n",
    "adjacency_2d_adverse"
   ]
  },
  {
   "cell_type": "code",
   "execution_count": null,
   "metadata": {},
   "outputs": [],
   "source": [
    "np.fill_diagonal(adjacency_2d_adverse,0)"
   ]
  },
  {
   "cell_type": "code",
   "execution_count": null,
   "metadata": {},
   "outputs": [],
   "source": [
    "adjacency_2d_adverse"
   ]
  },
  {
   "cell_type": "markdown",
   "metadata": {},
   "source": [
    "#### STEP 2c. (ii) Use RBF kernel to construct affinity matrix based on distance matrix of 2d variable set"
   ]
  },
  {
   "cell_type": "code",
   "execution_count": null,
   "metadata": {},
   "outputs": [],
   "source": [
    "# Construct the affinity matrix by applying RBF on the dissimilarity matrix\n",
    "affinity_2d = np.exp(- adjacency_2d_adverse ** 2 / (2. * delta ** 2))\n",
    "affinity_2d"
   ]
  },
  {
   "cell_type": "markdown",
   "metadata": {},
   "source": [
    "#### STEP 3. Compute a single affinity matrix"
   ]
  },
  {
   "cell_type": "code",
   "execution_count": null,
   "metadata": {},
   "outputs": [],
   "source": [
    "##### The precomputed affinity matrix for spectral clustering\n",
    "affinity_matrix = (affinity_ts * weighting[0] + affinity_1d * weighting[1] + affinity_2d * weighting[2]) \n",
    "affinity_matrix"
   ]
  },
  {
   "cell_type": "code",
   "execution_count": null,
   "metadata": {},
   "outputs": [],
   "source": [
    "# ##### Solve the spatial contiguity problem with the connectivity condition\n",
    "# # Connectivity matrix for neighboring structure\n",
    "# connectMatrix = gu.generateConnectivityMatrix(sds)\n",
    "# # Cut down the edges that have zero value in connectivity matrix\n",
    "# affinity_matrix[connectMatrix==0] = 0"
   ]
  },
  {
   "cell_type": "code",
   "execution_count": null,
   "metadata": {},
   "outputs": [],
   "source": [
    "# Evaluation indicators\n",
    "modularities = []"
   ]
  },
  {
   "cell_type": "markdown",
   "metadata": {},
   "source": [
    "#### STEP 4. For 1 to one less than n regions: Perform the following sub steps "
   ]
  },
  {
   "cell_type": "code",
   "execution_count": null,
   "metadata": {},
   "outputs": [],
   "source": [
    "for i in range(1,n_regions):\n",
    "    #### STEP 4a. clustering\n",
    "    model = skc.SpectralClustering(n_clusters=i,affinity='precomputed').fit(affinity_matrix)\n",
    "    regions_label_list = model.labels_\n",
    "    \n",
    "    #### STEP 4b. compute modulatiy (calls computeModularity() )\n",
    "    modularity = gu.computeModularity(affinity_matrix, regions_label_list)\n",
    "    modularities.append(modularity)\n",
    "\n",
    "    #### STEP 4c. form resulting sub_to_sup_region_id_dict \n",
    "    regions_dict = {}\n",
    "    for label in range(i):\n",
    "        # Group the regions of this regions label\n",
    "        sup_region_list = list(regions_list[regions_label_list == label])\n",
    "        sup_region_id = '_'.join(sup_region_list)\n",
    "        regions_dict[sup_region_id] = sup_region_list.copy()\n",
    "\n",
    "    aggregation_dict[i] = regions_dict.copy()\n",
    "    \n",
    "# Plotting the modularites according to increase of k values, check if there exists an inflection point\n",
    "# fig, ax = spu.plt.subplots(figsize=(25, 12))\n",
    "# ax.plot(range(1,n_regions),modularities,'go-')\n",
    "# ax.set_title('Impact of aggregated regions on modularity')\n",
    "# ax.set_xlabel('number of aggregated regions')\n",
    "# ax.set_ylabel('Modularity')\n",
    "# plt.show()\n",
    "\n",
    "print('Modularities',modularities)"
   ]
  },
  {
   "cell_type": "markdown",
   "metadata": {},
   "source": [
    "#### STEP 5. Obtain Silhouette scores"
   ]
  },
  {
   "cell_type": "code",
   "execution_count": null,
   "metadata": {},
   "outputs": [],
   "source": [
    "# Silhouette Coefficient scores\n",
    "ds_ts, ds_1d, ds_2d = gu.preprocessDataset(sds, handle_mode='toDissimilarity')\n",
    "distances = gu.selfDistanceMatrix(ds_ts, ds_1d, ds_2d, n_regions)\n",
    "silhouette_scores = gu.computeSilhouetteCoefficient(list(regions_list), distances, aggregation_dict)\n",
    "print('Silhouette scores: ',silhouette_scores)"
   ]
  },
  {
   "cell_type": "code",
   "execution_count": null,
   "metadata": {},
   "outputs": [],
   "source": [
    "aggregation_dict"
   ]
  },
  {
   "cell_type": "markdown",
   "metadata": {},
   "source": [
    "# computeModularity()"
   ]
  },
  {
   "cell_type": "code",
   "execution_count": null,
   "metadata": {},
   "outputs": [],
   "source": [
    "adjacency = affinity_matrix\n",
    "#rions_label_list\n",
    "adjacency"
   ]
  },
  {
   "cell_type": "markdown",
   "metadata": {},
   "source": [
    "#### STEP 1. set affinity of same region pairs (diagonal elements) to 0 in adjacency matrix"
   ]
  },
  {
   "cell_type": "code",
   "execution_count": null,
   "metadata": {},
   "outputs": [],
   "source": [
    "np.fill_diagonal(adjacency, 0)  "
   ]
  },
  {
   "cell_type": "code",
   "execution_count": null,
   "metadata": {},
   "outputs": [],
   "source": [
    "\n",
    "n_regions = len(regions_label_list)"
   ]
  },
  {
   "cell_type": "code",
   "execution_count": null,
   "metadata": {},
   "outputs": [],
   "source": [
    "# Values in the adjacency matrix as edge weights\n",
    "edge_weights_sum = np.sum(adjacency)"
   ]
  },
  {
   "cell_type": "code",
   "execution_count": null,
   "metadata": {},
   "outputs": [],
   "source": [
    "modularity = 0"
   ]
  },
  {
   "cell_type": "markdown",
   "metadata": {},
   "source": [
    "#### STEP 2. For every region pair calculate the modularity and add it all up"
   ]
  },
  {
   "cell_type": "code",
   "execution_count": null,
   "metadata": {},
   "outputs": [],
   "source": [
    "for v in range(n_regions):\n",
    "    for w in range(v+1, n_regions):\n",
    "\n",
    "        # The weighted degree of nodes: sum of node's incident edge weights\n",
    "        d_v = np.sum(adjacency[v])\n",
    "        d_w = np.sum(adjacency[w])\n",
    "        # If the two nodes belong to the same cluster\n",
    "        delta = 1 if regions_label_list[v] == regions_label_list[w] else 0\n",
    "\n",
    "        # Sum up the actual fraction of the edges minus the expected fraction of edges inside of each cluster\n",
    "        modularity += (adjacency[v,w] - (d_v * d_w) / (2 * edge_weights_sum)) * delta\n",
    "\n",
    "\n"
   ]
  },
  {
   "cell_type": "markdown",
   "metadata": {},
   "source": [
    "#### STEP 3. Modify the obtained modularity further"
   ]
  },
  {
   "cell_type": "code",
   "execution_count": null,
   "metadata": {},
   "outputs": [],
   "source": [
    "modularity = modularity / (2 * edge_weights_sum)"
   ]
  },
  {
   "cell_type": "code",
   "execution_count": null,
   "metadata": {},
   "outputs": [],
   "source": [
    "modularity"
   ]
  },
  {
   "cell_type": "markdown",
   "metadata": {},
   "source": [
    "# END = computeModularity() "
   ]
  },
  {
   "cell_type": "markdown",
   "metadata": {},
   "source": [
    "## agg_mode ='spectral2' \n",
    "\n",
    "#### Affinity matrix: construct a distance matrix based on selfDistanceMatrix function, transform it to similarity matrix\n"
   ]
  },
  {
   "cell_type": "code",
   "execution_count": 7,
   "metadata": {},
   "outputs": [],
   "source": [
    "agg_mode ='spectral2' "
   ]
  },
  {
   "cell_type": "markdown",
   "metadata": {},
   "source": [
    "#### STEP 1.  Preprocess the whole dataset (grouping_utils - preprocessDataset())"
   ]
  },
  {
   "cell_type": "code",
   "execution_count": 8,
   "metadata": {},
   "outputs": [],
   "source": [
    "# Obtain the data dictionaries for three var categories after preprocessing\n",
    "ds_ts, ds_1d, ds_2d = gu.preprocessDataset(sds, handle_mode='toDissimilarity')"
   ]
  },
  {
   "cell_type": "code",
   "execution_count": 9,
   "metadata": {},
   "outputs": [
    {
     "data": {
      "text/plain": [
       "{'2d_distance': {0: array([0.9, 0.8, 0. ]), 1: array([0.9, 0.8, 0. ])}}"
      ]
     },
     "execution_count": 9,
     "metadata": {},
     "output_type": "execute_result"
    }
   ],
   "source": [
    "ds_2d"
   ]
  },
  {
   "cell_type": "markdown",
   "metadata": {},
   "source": [
    "#### STEP 2.  Calculate the overall distance between each region pair (uses custom distance)"
   ]
  },
  {
   "cell_type": "code",
   "execution_count": 10,
   "metadata": {},
   "outputs": [
    {
     "data": {
      "text/plain": [
       "array([[0.   , 4.845, 1.905],\n",
       "       [4.845, 0.   , 2.755],\n",
       "       [1.905, 2.755, 0.   ]])"
      ]
     },
     "execution_count": 10,
     "metadata": {},
     "output_type": "execute_result"
    }
   ],
   "source": [
    "# Precompute the distance matrix according to the Custom Distance Function\n",
    "distMatrix = gu.selfDistanceMatrix(ds_ts, ds_1d, ds_2d, n_regions)\n",
    "distMatrix"
   ]
  },
  {
   "cell_type": "markdown",
   "metadata": {},
   "source": [
    "#### STEP 3. Scale the distance matrix between 0 and 1"
   ]
  },
  {
   "cell_type": "code",
   "execution_count": 11,
   "metadata": {},
   "outputs": [
    {
     "data": {
      "text/plain": [
       "array([[0.        , 1.        , 0.39318885],\n",
       "       [1.        , 0.        , 0.56862745],\n",
       "       [0.39318885, 0.56862745, 0.        ]])"
      ]
     },
     "execution_count": 11,
     "metadata": {},
     "output_type": "execute_result"
    }
   ],
   "source": [
    "# Rescaling the matrix in order to generate valid affinity_matrix\n",
    "distMatrix = gu.matrix_MinMaxScaler(distMatrix)\n",
    "distMatrix"
   ]
  },
  {
   "cell_type": "markdown",
   "metadata": {},
   "source": [
    "#### STEP 4. Use RBF kernel to construct affinity matrix based on distance matrix"
   ]
  },
  {
   "cell_type": "code",
   "execution_count": 12,
   "metadata": {},
   "outputs": [
    {
     "data": {
      "text/plain": [
       "array([[1.        , 0.60653066, 0.9256133 ],\n",
       "       [0.60653066, 1.        , 0.8507231 ],\n",
       "       [0.9256133 , 0.8507231 , 1.        ]])"
      ]
     },
     "execution_count": 12,
     "metadata": {},
     "output_type": "execute_result"
    }
   ],
   "source": [
    "# Obtain affinity matrix for part_1 via RBF kernel applied on distance matrix\n",
    "delta = 1\n",
    "affinity_matrix = np.exp(- distMatrix ** 2 / (2. * delta ** 2))\n",
    "affinity_matrix"
   ]
  },
  {
   "cell_type": "code",
   "execution_count": 13,
   "metadata": {},
   "outputs": [],
   "source": [
    "# # Connectivity matrix for neighboring structure\n",
    "# connectMatrix = gu.generateConnectivityMatrix(sds)\n",
    "# # Cut down the edges that have zero value in connectivity matrix\n",
    "# affinity_matrix[connectMatrix==0] = 0\n",
    "\n",
    "# Evaluation indicators\n",
    "modularities = []"
   ]
  },
  {
   "cell_type": "code",
   "execution_count": 14,
   "metadata": {},
   "outputs": [],
   "source": [
    "# Silhouette Coefficient scores\n",
    "silhouette_scores = []"
   ]
  },
  {
   "cell_type": "markdown",
   "metadata": {},
   "source": [
    "#### STEP 5. For 1 to one less than n regions: Perform the following sub steps "
   ]
  },
  {
   "cell_type": "code",
   "execution_count": 15,
   "metadata": {},
   "outputs": [],
   "source": [
    "for i in range(1,n_regions):\n",
    "    #### STEP 5a. clustering\n",
    "    # Perform the spectral clustering with the precomputed affinity matrix (adjacency matrix)\n",
    "    model = skc.SpectralClustering(n_clusters=i,affinity='precomputed').fit(affinity_matrix)\n",
    "    regions_label_list = model.labels_\n",
    "    \n",
    "    #### STEP 5b. compute modulatiy (calls computeModularity() )\n",
    "    # Compute the modularity for evaluation, using affinity matrix as adjacency matrix of a graph\n",
    "    modularity = gu.computeModularity(affinity_matrix, regions_label_list)\n",
    "    modularities.append(modularity)\n",
    "    \n",
    "    #### STEP 5c. Obtain Silhouette Coefficient score (skip for n_region=1 as this score can be computed only n_regions = 2 : n-1 regions)\n",
    "    if i != 1:\n",
    "        s = metrics.silhouette_score(distMatrix, regions_label_list, metric='precomputed')\n",
    "        silhouette_scores.append(s)\n",
    "    \n",
    "    #### STEP 5d. form resulting sub_to_sup_region_id_dict \n",
    "    # Create a regions dictionary for the aggregated regions\n",
    "    regions_dict = {}\n",
    "    for label in range(i):\n",
    "        # Group the regions of this regions label\n",
    "        sup_region_list = list(regions_list[regions_label_list == label])\n",
    "        sup_region_id = '_'.join(sup_region_list)\n",
    "        regions_dict[sup_region_id] = sup_region_list.copy()\n",
    "\n",
    "    aggregation_dict[i] = regions_dict.copy()\n",
    "\n",
    "# Plotting the modularites according to increase of k values, check if there exists an inflection point\n",
    "# fig, ax = spu.plt.subplots(figsize=(25, 12))\n",
    "# ax.plot(range(1,n_regions),modularities,'go-')\n",
    "# ax.set_title('Impact of aggregated regions on modularity')\n",
    "# ax.set_xlabel('number of aggregated regions')\n",
    "# ax.set_ylabel('Modularity')"
   ]
  },
  {
   "cell_type": "code",
   "execution_count": 16,
   "metadata": {},
   "outputs": [
    {
     "name": "stdout",
     "output_type": "stream",
     "text": [
      "Modularites:  [0.16697313202259687, 0.06715382977433099]\n"
     ]
    }
   ],
   "source": [
    "       \n",
    "print('Modularites: ',modularities)"
   ]
  },
  {
   "cell_type": "code",
   "execution_count": 17,
   "metadata": {},
   "outputs": [
    {
     "name": "stdout",
     "output_type": "stream",
     "text": [
      "Silhouette scores:  [0.30511369702145824]\n"
     ]
    }
   ],
   "source": [
    "print('Silhouette scores: ',silhouette_scores)"
   ]
  },
  {
   "cell_type": "code",
   "execution_count": 18,
   "metadata": {},
   "outputs": [
    {
     "data": {
      "text/plain": [
       "{3: {'01_reg': ['01_reg'], '02_reg': ['02_reg'], '03_reg': ['03_reg']},\n",
       " 1: {'01_reg_02_reg_03_reg': ['01_reg', '02_reg', '03_reg']},\n",
       " 2: {'01_reg_03_reg': ['01_reg', '03_reg'], '02_reg': ['02_reg']}}"
      ]
     },
     "execution_count": 18,
     "metadata": {},
     "output_type": "execute_result"
    }
   ],
   "source": [
    "aggregation_dict"
   ]
  },
  {
   "cell_type": "code",
   "execution_count": null,
   "metadata": {},
   "outputs": [],
   "source": []
  }
 ],
 "metadata": {
  "kernelspec": {
   "display_name": "Python 3",
   "language": "python",
   "name": "python3"
  },
  "language_info": {
   "codemirror_mode": {
    "name": "ipython",
    "version": 3
   },
   "file_extension": ".py",
   "mimetype": "text/x-python",
   "name": "python",
   "nbconvert_exporter": "python",
   "pygments_lexer": "ipython3",
   "version": "3.7.8"
  }
 },
 "nbformat": 4,
 "nbformat_minor": 4
}
