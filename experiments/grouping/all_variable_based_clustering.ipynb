{
 "cells": [
  {
   "cell_type": "code",
   "execution_count": 1,
   "metadata": {},
   "outputs": [],
   "source": [
    "import logging\n",
    "import os\n",
    "\n",
    "import matplotlib.pyplot as plt\n",
    "import numpy as np\n",
    "import pandas as pd\n",
    "import xarray as xr\n",
    "from matplotlib import pyplot as plt\n",
    "\n",
    "# Using SciPy.cluster for clustering\n",
    "from scipy.cluster import hierarchy\n",
    "from scipy.cluster import vq\n",
    "\n",
    "# Using Scikit Learn for clustering\n",
    "#from sklearn.cluster import KMeans\n",
    "import sklearn.cluster as skc\n",
    "from sklearn import metrics\n",
    "\n",
    "import FINE.spagat.utils as spu\n",
    "import FINE.spagat.dataset as spd\n",
    "\n",
    "import FINE.spagat.grouping_utils as gu  \n",
    "#from ipynb.fs.full import grouping_utils "
   ]
  },
  {
   "cell_type": "markdown",
   "metadata": {},
   "source": [
    "## test dataset - (test_dataset2)"
   ]
  },
  {
   "cell_type": "code",
   "execution_count": 2,
   "metadata": {},
   "outputs": [
    {
     "data": {
      "text/html": [
       "<div><svg style=\"position: absolute; width: 0; height: 0; overflow: hidden\">\n",
       "<defs>\n",
       "<symbol id=\"icon-database\" viewBox=\"0 0 32 32\">\n",
       "<path d=\"M16 0c-8.837 0-16 2.239-16 5v4c0 2.761 7.163 5 16 5s16-2.239 16-5v-4c0-2.761-7.163-5-16-5z\"></path>\n",
       "<path d=\"M16 17c-8.837 0-16-2.239-16-5v6c0 2.761 7.163 5 16 5s16-2.239 16-5v-6c0 2.761-7.163 5-16 5z\"></path>\n",
       "<path d=\"M16 26c-8.837 0-16-2.239-16-5v6c0 2.761 7.163 5 16 5s16-2.239 16-5v-6c0 2.761-7.163 5-16 5z\"></path>\n",
       "</symbol>\n",
       "<symbol id=\"icon-file-text2\" viewBox=\"0 0 32 32\">\n",
       "<path d=\"M28.681 7.159c-0.694-0.947-1.662-2.053-2.724-3.116s-2.169-2.030-3.116-2.724c-1.612-1.182-2.393-1.319-2.841-1.319h-15.5c-1.378 0-2.5 1.121-2.5 2.5v27c0 1.378 1.122 2.5 2.5 2.5h23c1.378 0 2.5-1.122 2.5-2.5v-19.5c0-0.448-0.137-1.23-1.319-2.841zM24.543 5.457c0.959 0.959 1.712 1.825 2.268 2.543h-4.811v-4.811c0.718 0.556 1.584 1.309 2.543 2.268zM28 29.5c0 0.271-0.229 0.5-0.5 0.5h-23c-0.271 0-0.5-0.229-0.5-0.5v-27c0-0.271 0.229-0.5 0.5-0.5 0 0 15.499-0 15.5 0v7c0 0.552 0.448 1 1 1h7v19.5z\"></path>\n",
       "<path d=\"M23 26h-14c-0.552 0-1-0.448-1-1s0.448-1 1-1h14c0.552 0 1 0.448 1 1s-0.448 1-1 1z\"></path>\n",
       "<path d=\"M23 22h-14c-0.552 0-1-0.448-1-1s0.448-1 1-1h14c0.552 0 1 0.448 1 1s-0.448 1-1 1z\"></path>\n",
       "<path d=\"M23 18h-14c-0.552 0-1-0.448-1-1s0.448-1 1-1h14c0.552 0 1 0.448 1 1s-0.448 1-1 1z\"></path>\n",
       "</symbol>\n",
       "</defs>\n",
       "</svg>\n",
       "<style>/* CSS stylesheet for displaying xarray objects in jupyterlab.\n",
       " *\n",
       " */\n",
       "\n",
       ":root {\n",
       "  --xr-font-color0: var(--jp-content-font-color0, rgba(0, 0, 0, 1));\n",
       "  --xr-font-color2: var(--jp-content-font-color2, rgba(0, 0, 0, 0.54));\n",
       "  --xr-font-color3: var(--jp-content-font-color3, rgba(0, 0, 0, 0.38));\n",
       "  --xr-border-color: var(--jp-border-color2, #e0e0e0);\n",
       "  --xr-disabled-color: var(--jp-layout-color3, #bdbdbd);\n",
       "  --xr-background-color: var(--jp-layout-color0, white);\n",
       "  --xr-background-color-row-even: var(--jp-layout-color1, white);\n",
       "  --xr-background-color-row-odd: var(--jp-layout-color2, #eeeeee);\n",
       "}\n",
       "\n",
       "html[theme=dark],\n",
       "body.vscode-dark {\n",
       "  --xr-font-color0: rgba(255, 255, 255, 1);\n",
       "  --xr-font-color2: rgba(255, 255, 255, 0.54);\n",
       "  --xr-font-color3: rgba(255, 255, 255, 0.38);\n",
       "  --xr-border-color: #1F1F1F;\n",
       "  --xr-disabled-color: #515151;\n",
       "  --xr-background-color: #111111;\n",
       "  --xr-background-color-row-even: #111111;\n",
       "  --xr-background-color-row-odd: #313131;\n",
       "}\n",
       "\n",
       ".xr-wrap {\n",
       "  display: block;\n",
       "  min-width: 300px;\n",
       "  max-width: 700px;\n",
       "}\n",
       "\n",
       ".xr-text-repr-fallback {\n",
       "  /* fallback to plain text repr when CSS is not injected (untrusted notebook) */\n",
       "  display: none;\n",
       "}\n",
       "\n",
       ".xr-header {\n",
       "  padding-top: 6px;\n",
       "  padding-bottom: 6px;\n",
       "  margin-bottom: 4px;\n",
       "  border-bottom: solid 1px var(--xr-border-color);\n",
       "}\n",
       "\n",
       ".xr-header > div,\n",
       ".xr-header > ul {\n",
       "  display: inline;\n",
       "  margin-top: 0;\n",
       "  margin-bottom: 0;\n",
       "}\n",
       "\n",
       ".xr-obj-type,\n",
       ".xr-array-name {\n",
       "  margin-left: 2px;\n",
       "  margin-right: 10px;\n",
       "}\n",
       "\n",
       ".xr-obj-type {\n",
       "  color: var(--xr-font-color2);\n",
       "}\n",
       "\n",
       ".xr-sections {\n",
       "  padding-left: 0 !important;\n",
       "  display: grid;\n",
       "  grid-template-columns: 150px auto auto 1fr 20px 20px;\n",
       "}\n",
       "\n",
       ".xr-section-item {\n",
       "  display: contents;\n",
       "}\n",
       "\n",
       ".xr-section-item input {\n",
       "  display: none;\n",
       "}\n",
       "\n",
       ".xr-section-item input + label {\n",
       "  color: var(--xr-disabled-color);\n",
       "}\n",
       "\n",
       ".xr-section-item input:enabled + label {\n",
       "  cursor: pointer;\n",
       "  color: var(--xr-font-color2);\n",
       "}\n",
       "\n",
       ".xr-section-item input:enabled + label:hover {\n",
       "  color: var(--xr-font-color0);\n",
       "}\n",
       "\n",
       ".xr-section-summary {\n",
       "  grid-column: 1;\n",
       "  color: var(--xr-font-color2);\n",
       "  font-weight: 500;\n",
       "}\n",
       "\n",
       ".xr-section-summary > span {\n",
       "  display: inline-block;\n",
       "  padding-left: 0.5em;\n",
       "}\n",
       "\n",
       ".xr-section-summary-in:disabled + label {\n",
       "  color: var(--xr-font-color2);\n",
       "}\n",
       "\n",
       ".xr-section-summary-in + label:before {\n",
       "  display: inline-block;\n",
       "  content: '►';\n",
       "  font-size: 11px;\n",
       "  width: 15px;\n",
       "  text-align: center;\n",
       "}\n",
       "\n",
       ".xr-section-summary-in:disabled + label:before {\n",
       "  color: var(--xr-disabled-color);\n",
       "}\n",
       "\n",
       ".xr-section-summary-in:checked + label:before {\n",
       "  content: '▼';\n",
       "}\n",
       "\n",
       ".xr-section-summary-in:checked + label > span {\n",
       "  display: none;\n",
       "}\n",
       "\n",
       ".xr-section-summary,\n",
       ".xr-section-inline-details {\n",
       "  padding-top: 4px;\n",
       "  padding-bottom: 4px;\n",
       "}\n",
       "\n",
       ".xr-section-inline-details {\n",
       "  grid-column: 2 / -1;\n",
       "}\n",
       "\n",
       ".xr-section-details {\n",
       "  display: none;\n",
       "  grid-column: 1 / -1;\n",
       "  margin-bottom: 5px;\n",
       "}\n",
       "\n",
       ".xr-section-summary-in:checked ~ .xr-section-details {\n",
       "  display: contents;\n",
       "}\n",
       "\n",
       ".xr-array-wrap {\n",
       "  grid-column: 1 / -1;\n",
       "  display: grid;\n",
       "  grid-template-columns: 20px auto;\n",
       "}\n",
       "\n",
       ".xr-array-wrap > label {\n",
       "  grid-column: 1;\n",
       "  vertical-align: top;\n",
       "}\n",
       "\n",
       ".xr-preview {\n",
       "  color: var(--xr-font-color3);\n",
       "}\n",
       "\n",
       ".xr-array-preview,\n",
       ".xr-array-data {\n",
       "  padding: 0 5px !important;\n",
       "  grid-column: 2;\n",
       "}\n",
       "\n",
       ".xr-array-data,\n",
       ".xr-array-in:checked ~ .xr-array-preview {\n",
       "  display: none;\n",
       "}\n",
       "\n",
       ".xr-array-in:checked ~ .xr-array-data,\n",
       ".xr-array-preview {\n",
       "  display: inline-block;\n",
       "}\n",
       "\n",
       ".xr-dim-list {\n",
       "  display: inline-block !important;\n",
       "  list-style: none;\n",
       "  padding: 0 !important;\n",
       "  margin: 0;\n",
       "}\n",
       "\n",
       ".xr-dim-list li {\n",
       "  display: inline-block;\n",
       "  padding: 0;\n",
       "  margin: 0;\n",
       "}\n",
       "\n",
       ".xr-dim-list:before {\n",
       "  content: '(';\n",
       "}\n",
       "\n",
       ".xr-dim-list:after {\n",
       "  content: ')';\n",
       "}\n",
       "\n",
       ".xr-dim-list li:not(:last-child):after {\n",
       "  content: ',';\n",
       "  padding-right: 5px;\n",
       "}\n",
       "\n",
       ".xr-has-index {\n",
       "  font-weight: bold;\n",
       "}\n",
       "\n",
       ".xr-var-list,\n",
       ".xr-var-item {\n",
       "  display: contents;\n",
       "}\n",
       "\n",
       ".xr-var-item > div,\n",
       ".xr-var-item label,\n",
       ".xr-var-item > .xr-var-name span {\n",
       "  background-color: var(--xr-background-color-row-even);\n",
       "  margin-bottom: 0;\n",
       "}\n",
       "\n",
       ".xr-var-item > .xr-var-name:hover span {\n",
       "  padding-right: 5px;\n",
       "}\n",
       "\n",
       ".xr-var-list > li:nth-child(odd) > div,\n",
       ".xr-var-list > li:nth-child(odd) > label,\n",
       ".xr-var-list > li:nth-child(odd) > .xr-var-name span {\n",
       "  background-color: var(--xr-background-color-row-odd);\n",
       "}\n",
       "\n",
       ".xr-var-name {\n",
       "  grid-column: 1;\n",
       "}\n",
       "\n",
       ".xr-var-dims {\n",
       "  grid-column: 2;\n",
       "}\n",
       "\n",
       ".xr-var-dtype {\n",
       "  grid-column: 3;\n",
       "  text-align: right;\n",
       "  color: var(--xr-font-color2);\n",
       "}\n",
       "\n",
       ".xr-var-preview {\n",
       "  grid-column: 4;\n",
       "}\n",
       "\n",
       ".xr-var-name,\n",
       ".xr-var-dims,\n",
       ".xr-var-dtype,\n",
       ".xr-preview,\n",
       ".xr-attrs dt {\n",
       "  white-space: nowrap;\n",
       "  overflow: hidden;\n",
       "  text-overflow: ellipsis;\n",
       "  padding-right: 10px;\n",
       "}\n",
       "\n",
       ".xr-var-name:hover,\n",
       ".xr-var-dims:hover,\n",
       ".xr-var-dtype:hover,\n",
       ".xr-attrs dt:hover {\n",
       "  overflow: visible;\n",
       "  width: auto;\n",
       "  z-index: 1;\n",
       "}\n",
       "\n",
       ".xr-var-attrs,\n",
       ".xr-var-data {\n",
       "  display: none;\n",
       "  background-color: var(--xr-background-color) !important;\n",
       "  padding-bottom: 5px !important;\n",
       "}\n",
       "\n",
       ".xr-var-attrs-in:checked ~ .xr-var-attrs,\n",
       ".xr-var-data-in:checked ~ .xr-var-data {\n",
       "  display: block;\n",
       "}\n",
       "\n",
       ".xr-var-data > table {\n",
       "  float: right;\n",
       "}\n",
       "\n",
       ".xr-var-name span,\n",
       ".xr-var-data,\n",
       ".xr-attrs {\n",
       "  padding-left: 25px !important;\n",
       "}\n",
       "\n",
       ".xr-attrs,\n",
       ".xr-var-attrs,\n",
       ".xr-var-data {\n",
       "  grid-column: 1 / -1;\n",
       "}\n",
       "\n",
       "dl.xr-attrs {\n",
       "  padding: 0;\n",
       "  margin: 0;\n",
       "  display: grid;\n",
       "  grid-template-columns: 125px auto;\n",
       "}\n",
       "\n",
       ".xr-attrs dt, dd {\n",
       "  padding: 0;\n",
       "  margin: 0;\n",
       "  float: left;\n",
       "  padding-right: 10px;\n",
       "  width: auto;\n",
       "}\n",
       "\n",
       ".xr-attrs dt {\n",
       "  font-weight: normal;\n",
       "  grid-column: 1;\n",
       "}\n",
       "\n",
       ".xr-attrs dt:hover span {\n",
       "  display: inline-block;\n",
       "  background: var(--xr-background-color);\n",
       "  padding-right: 10px;\n",
       "}\n",
       "\n",
       ".xr-attrs dd {\n",
       "  grid-column: 2;\n",
       "  white-space: pre-wrap;\n",
       "  word-break: break-all;\n",
       "}\n",
       "\n",
       ".xr-icon-database,\n",
       ".xr-icon-file-text2 {\n",
       "  display: inline-block;\n",
       "  vertical-align: middle;\n",
       "  width: 1em;\n",
       "  height: 1.5em !important;\n",
       "  stroke-width: 0;\n",
       "  stroke: currentColor;\n",
       "  fill: currentColor;\n",
       "}\n",
       "</style><pre class='xr-text-repr-fallback'>&lt;xarray.Dataset&gt;\n",
       "Dimensions:           (Period: 1, TimeStep: 2, component: 4, space: 3, space_2: 3)\n",
       "Coordinates:\n",
       "  * component         (component) &lt;U2 &#x27;c1&#x27; &#x27;c2&#x27; &#x27;c3&#x27; &#x27;c4&#x27;\n",
       "  * Period            (Period) int32 0\n",
       "  * TimeStep          (TimeStep) &lt;U2 &#x27;T0&#x27; &#x27;T1&#x27;\n",
       "  * space             (space) &lt;U6 &#x27;01_reg&#x27; &#x27;02_reg&#x27; &#x27;03_reg&#x27;\n",
       "  * space_2           (space_2) &lt;U6 &#x27;01_reg&#x27; &#x27;02_reg&#x27; &#x27;03_reg&#x27;\n",
       "Data variables:\n",
       "    operationFixRate  (component, Period, TimeStep, space) float64 nan ... 1.0\n",
       "    1d_capacity       (component, space) float64 0.9 1.0 0.9 0.0 ... nan nan nan\n",
       "    2d_distance       (component, space, space_2) float64 0.0 1.0 ... nan nan</pre><div class='xr-wrap' hidden><div class='xr-header'><div class='xr-obj-type'>xarray.Dataset</div></div><ul class='xr-sections'><li class='xr-section-item'><input id='section-e8615533-268c-451b-91b9-1b53742f9f03' class='xr-section-summary-in' type='checkbox' disabled ><label for='section-e8615533-268c-451b-91b9-1b53742f9f03' class='xr-section-summary'  title='Expand/collapse section'>Dimensions:</label><div class='xr-section-inline-details'><ul class='xr-dim-list'><li><span class='xr-has-index'>Period</span>: 1</li><li><span class='xr-has-index'>TimeStep</span>: 2</li><li><span class='xr-has-index'>component</span>: 4</li><li><span class='xr-has-index'>space</span>: 3</li><li><span class='xr-has-index'>space_2</span>: 3</li></ul></div><div class='xr-section-details'></div></li><li class='xr-section-item'><input id='section-8e238014-1f45-4656-b860-c82f4113d8be' class='xr-section-summary-in' type='checkbox'  checked><label for='section-8e238014-1f45-4656-b860-c82f4113d8be' class='xr-section-summary' >Coordinates: <span>(5)</span></label><div class='xr-section-inline-details'></div><div class='xr-section-details'><ul class='xr-var-list'><li class='xr-var-item'><div class='xr-var-name'><span class='xr-has-index'>component</span></div><div class='xr-var-dims'>(component)</div><div class='xr-var-dtype'>&lt;U2</div><div class='xr-var-preview xr-preview'>&#x27;c1&#x27; &#x27;c2&#x27; &#x27;c3&#x27; &#x27;c4&#x27;</div><input id='attrs-d3102181-f830-4562-a542-e9bc329b17a3' class='xr-var-attrs-in' type='checkbox' disabled><label for='attrs-d3102181-f830-4562-a542-e9bc329b17a3' title='Show/Hide attributes'><svg class='icon xr-icon-file-text2'><use xlink:href='#icon-file-text2'></use></svg></label><input id='data-3cb781cf-6294-4bed-9f5e-156103be1064' class='xr-var-data-in' type='checkbox'><label for='data-3cb781cf-6294-4bed-9f5e-156103be1064' title='Show/Hide data repr'><svg class='icon xr-icon-database'><use xlink:href='#icon-database'></use></svg></label><div class='xr-var-attrs'><dl class='xr-attrs'></dl></div><div class='xr-var-data'><pre>array([&#x27;c1&#x27;, &#x27;c2&#x27;, &#x27;c3&#x27;, &#x27;c4&#x27;], dtype=&#x27;&lt;U2&#x27;)</pre></div></li><li class='xr-var-item'><div class='xr-var-name'><span class='xr-has-index'>Period</span></div><div class='xr-var-dims'>(Period)</div><div class='xr-var-dtype'>int32</div><div class='xr-var-preview xr-preview'>0</div><input id='attrs-41610893-b39d-41ed-98ed-4692ecba42f9' class='xr-var-attrs-in' type='checkbox' disabled><label for='attrs-41610893-b39d-41ed-98ed-4692ecba42f9' title='Show/Hide attributes'><svg class='icon xr-icon-file-text2'><use xlink:href='#icon-file-text2'></use></svg></label><input id='data-7200e04c-805d-4dfb-bf00-62592c31ae07' class='xr-var-data-in' type='checkbox'><label for='data-7200e04c-805d-4dfb-bf00-62592c31ae07' title='Show/Hide data repr'><svg class='icon xr-icon-database'><use xlink:href='#icon-database'></use></svg></label><div class='xr-var-attrs'><dl class='xr-attrs'></dl></div><div class='xr-var-data'><pre>array([0])</pre></div></li><li class='xr-var-item'><div class='xr-var-name'><span class='xr-has-index'>TimeStep</span></div><div class='xr-var-dims'>(TimeStep)</div><div class='xr-var-dtype'>&lt;U2</div><div class='xr-var-preview xr-preview'>&#x27;T0&#x27; &#x27;T1&#x27;</div><input id='attrs-3d86fa3d-eca7-4153-9fc3-8fa415a4fb6b' class='xr-var-attrs-in' type='checkbox' disabled><label for='attrs-3d86fa3d-eca7-4153-9fc3-8fa415a4fb6b' title='Show/Hide attributes'><svg class='icon xr-icon-file-text2'><use xlink:href='#icon-file-text2'></use></svg></label><input id='data-32ca5c75-0f90-45cb-86e1-232efe672a0c' class='xr-var-data-in' type='checkbox'><label for='data-32ca5c75-0f90-45cb-86e1-232efe672a0c' title='Show/Hide data repr'><svg class='icon xr-icon-database'><use xlink:href='#icon-database'></use></svg></label><div class='xr-var-attrs'><dl class='xr-attrs'></dl></div><div class='xr-var-data'><pre>array([&#x27;T0&#x27;, &#x27;T1&#x27;], dtype=&#x27;&lt;U2&#x27;)</pre></div></li><li class='xr-var-item'><div class='xr-var-name'><span class='xr-has-index'>space</span></div><div class='xr-var-dims'>(space)</div><div class='xr-var-dtype'>&lt;U6</div><div class='xr-var-preview xr-preview'>&#x27;01_reg&#x27; &#x27;02_reg&#x27; &#x27;03_reg&#x27;</div><input id='attrs-7f0270af-f325-49d8-b41c-a51739b7916d' class='xr-var-attrs-in' type='checkbox' disabled><label for='attrs-7f0270af-f325-49d8-b41c-a51739b7916d' title='Show/Hide attributes'><svg class='icon xr-icon-file-text2'><use xlink:href='#icon-file-text2'></use></svg></label><input id='data-55eeb7b6-4b0f-4fa5-8c43-a376e5e1a122' class='xr-var-data-in' type='checkbox'><label for='data-55eeb7b6-4b0f-4fa5-8c43-a376e5e1a122' title='Show/Hide data repr'><svg class='icon xr-icon-database'><use xlink:href='#icon-database'></use></svg></label><div class='xr-var-attrs'><dl class='xr-attrs'></dl></div><div class='xr-var-data'><pre>array([&#x27;01_reg&#x27;, &#x27;02_reg&#x27;, &#x27;03_reg&#x27;], dtype=&#x27;&lt;U6&#x27;)</pre></div></li><li class='xr-var-item'><div class='xr-var-name'><span class='xr-has-index'>space_2</span></div><div class='xr-var-dims'>(space_2)</div><div class='xr-var-dtype'>&lt;U6</div><div class='xr-var-preview xr-preview'>&#x27;01_reg&#x27; &#x27;02_reg&#x27; &#x27;03_reg&#x27;</div><input id='attrs-74768994-e072-4856-8f82-a11a5ccba931' class='xr-var-attrs-in' type='checkbox' disabled><label for='attrs-74768994-e072-4856-8f82-a11a5ccba931' title='Show/Hide attributes'><svg class='icon xr-icon-file-text2'><use xlink:href='#icon-file-text2'></use></svg></label><input id='data-33f8e77e-3bb1-425e-91f4-1abc9bf79c57' class='xr-var-data-in' type='checkbox'><label for='data-33f8e77e-3bb1-425e-91f4-1abc9bf79c57' title='Show/Hide data repr'><svg class='icon xr-icon-database'><use xlink:href='#icon-database'></use></svg></label><div class='xr-var-attrs'><dl class='xr-attrs'></dl></div><div class='xr-var-data'><pre>array([&#x27;01_reg&#x27;, &#x27;02_reg&#x27;, &#x27;03_reg&#x27;], dtype=&#x27;&lt;U6&#x27;)</pre></div></li></ul></div></li><li class='xr-section-item'><input id='section-b14e0412-95a0-410d-9fa9-9ac604da215e' class='xr-section-summary-in' type='checkbox'  checked><label for='section-b14e0412-95a0-410d-9fa9-9ac604da215e' class='xr-section-summary' >Data variables: <span>(3)</span></label><div class='xr-section-inline-details'></div><div class='xr-section-details'><ul class='xr-var-list'><li class='xr-var-item'><div class='xr-var-name'><span>operationFixRate</span></div><div class='xr-var-dims'>(component, Period, TimeStep, space)</div><div class='xr-var-dtype'>float64</div><div class='xr-var-preview xr-preview'>nan nan nan nan ... 1.0 0.3 2.0 1.0</div><input id='attrs-8103dfcd-b299-451e-9504-8c9aedacc90c' class='xr-var-attrs-in' type='checkbox' disabled><label for='attrs-8103dfcd-b299-451e-9504-8c9aedacc90c' title='Show/Hide attributes'><svg class='icon xr-icon-file-text2'><use xlink:href='#icon-file-text2'></use></svg></label><input id='data-7c41379d-f721-4c91-9265-4e0fc5de406b' class='xr-var-data-in' type='checkbox'><label for='data-7c41379d-f721-4c91-9265-4e0fc5de406b' title='Show/Hide data repr'><svg class='icon xr-icon-database'><use xlink:href='#icon-database'></use></svg></label><div class='xr-var-attrs'><dl class='xr-attrs'></dl></div><div class='xr-var-data'><pre>array([[[[nan, nan, nan],\n",
       "         [nan, nan, nan]]],\n",
       "\n",
       "\n",
       "       [[[1. , 0.9, 2. ],\n",
       "         [1. , 0. , 0.9]]],\n",
       "\n",
       "\n",
       "       [[[nan, nan, nan],\n",
       "         [nan, nan, nan]]],\n",
       "\n",
       "\n",
       "       [[[0. , 1. , 1. ],\n",
       "         [0.3, 2. , 1. ]]]])</pre></div></li><li class='xr-var-item'><div class='xr-var-name'><span>1d_capacity</span></div><div class='xr-var-dims'>(component, space)</div><div class='xr-var-dtype'>float64</div><div class='xr-var-preview xr-preview'>0.9 1.0 0.9 0.0 ... 0.9 nan nan nan</div><input id='attrs-3d156298-912e-44f2-a4ee-20af68da1e94' class='xr-var-attrs-in' type='checkbox' disabled><label for='attrs-3d156298-912e-44f2-a4ee-20af68da1e94' title='Show/Hide attributes'><svg class='icon xr-icon-file-text2'><use xlink:href='#icon-file-text2'></use></svg></label><input id='data-2ce207d1-b947-488b-9603-e33c1ffb94b7' class='xr-var-data-in' type='checkbox'><label for='data-2ce207d1-b947-488b-9603-e33c1ffb94b7' title='Show/Hide data repr'><svg class='icon xr-icon-database'><use xlink:href='#icon-database'></use></svg></label><div class='xr-var-attrs'><dl class='xr-attrs'></dl></div><div class='xr-var-data'><pre>array([[0.9, 1. , 0.9],\n",
       "       [0. , 0. , 0. ],\n",
       "       [0.9, 1. , 0.9],\n",
       "       [nan, nan, nan]])</pre></div></li><li class='xr-var-item'><div class='xr-var-name'><span>2d_distance</span></div><div class='xr-var-dims'>(component, space, space_2)</div><div class='xr-var-dtype'>float64</div><div class='xr-var-preview xr-preview'>0.0 1.0 2.0 1.0 ... nan nan nan nan</div><input id='attrs-e646f918-edbd-48df-9881-a2168d47ad76' class='xr-var-attrs-in' type='checkbox' disabled><label for='attrs-e646f918-edbd-48df-9881-a2168d47ad76' title='Show/Hide attributes'><svg class='icon xr-icon-file-text2'><use xlink:href='#icon-file-text2'></use></svg></label><input id='data-2178858e-f3b5-4cd6-ab6f-385de106667f' class='xr-var-data-in' type='checkbox'><label for='data-2178858e-f3b5-4cd6-ab6f-385de106667f' title='Show/Hide data repr'><svg class='icon xr-icon-database'><use xlink:href='#icon-database'></use></svg></label><div class='xr-var-attrs'><dl class='xr-attrs'></dl></div><div class='xr-var-data'><pre>array([[[ 0. ,  1. ,  2. ],\n",
       "        [ 1. ,  0. , 10. ],\n",
       "        [ 2. , 10. ,  0. ]],\n",
       "\n",
       "       [[ 0. ,  0.1,  0.2],\n",
       "        [ 0.1,  0. ,  1. ],\n",
       "        [ 0.2,  1. ,  0. ]],\n",
       "\n",
       "       [[ nan,  nan,  nan],\n",
       "        [ nan,  nan,  nan],\n",
       "        [ nan,  nan,  nan]],\n",
       "\n",
       "       [[ nan,  nan,  nan],\n",
       "        [ nan,  nan,  nan],\n",
       "        [ nan,  nan,  nan]]])</pre></div></li></ul></div></li><li class='xr-section-item'><input id='section-1a646e3b-a4f0-4a38-a14a-c9607c260bb4' class='xr-section-summary-in' type='checkbox' disabled ><label for='section-1a646e3b-a4f0-4a38-a14a-c9607c260bb4' class='xr-section-summary'  title='Expand/collapse section'>Attributes: <span>(0)</span></label><div class='xr-section-inline-details'></div><div class='xr-section-details'><dl class='xr-attrs'></dl></div></li></ul></div></div>"
      ],
      "text/plain": [
       "<xarray.Dataset>\n",
       "Dimensions:           (Period: 1, TimeStep: 2, component: 4, space: 3, space_2: 3)\n",
       "Coordinates:\n",
       "  * component         (component) <U2 'c1' 'c2' 'c3' 'c4'\n",
       "  * Period            (Period) int32 0\n",
       "  * TimeStep          (TimeStep) <U2 'T0' 'T1'\n",
       "  * space             (space) <U6 '01_reg' '02_reg' '03_reg'\n",
       "  * space_2           (space_2) <U6 '01_reg' '02_reg' '03_reg'\n",
       "Data variables:\n",
       "    operationFixRate  (component, Period, TimeStep, space) float64 nan ... 1.0\n",
       "    1d_capacity       (component, space) float64 0.9 1.0 0.9 0.0 ... nan nan nan\n",
       "    2d_distance       (component, space, space_2) float64 0.0 1.0 ... nan nan"
      ]
     },
     "execution_count": 2,
     "metadata": {},
     "output_type": "execute_result"
    }
   ],
   "source": [
    "space = ['01_reg','02_reg','03_reg']\n",
    "TimeStep = ['T0','T1']\n",
    "space_2 = space.copy()\n",
    "component = ['c1','c2','c3','c4']\n",
    "Period = [0]\n",
    "\n",
    "demand = np.stack([[[[np.nan,np.nan, np.nan] for i in range(2)]],\n",
    "                        [[[1, 0.9,  2],\n",
    "                          [1, 0,  0.9]]],\n",
    "                        [[[np.nan,np.nan, np.nan] for i in range(2)]],\n",
    "                        [[[0,   1, 1],\n",
    "                          [0.3, 2, 1]]]])\n",
    "demand = xr.DataArray(demand, coords=[component, Period, TimeStep, space], dims=['component', 'Period', 'TimeStep','space'])\n",
    "cap_1d = np.stack([[0.9,  1,  0.9],\n",
    "                        [0,    0,  0],\n",
    "                        [0.9,  1,  0.9],\n",
    "                        [np.nan] *3])\n",
    "cap_1d = xr.DataArray(cap_1d, coords=[component,space], dims=['component','space'])\n",
    "dist_2d = np.stack([[[0,1,2],[1,0,10],[2,10,0]],\n",
    "                         [[0,0.1,0.2],[0.1,0,1],[0.2,1,0]],\n",
    "                         [[np.nan] * 3 for i in range(3)],\n",
    "                         [[np.nan] * 3 for i in range(3)]])\n",
    "dist_2d = xr.DataArray(dist_2d, coords=[component,space,space_2], dims=['component','space','space_2'])\n",
    "\n",
    "ds = xr.Dataset({'operationFixRate': demand, '1d_capacity': cap_1d, '2d_distance': dist_2d})\n",
    "\n",
    "sds = spd.SpagatDataset()\n",
    "sds.xr_dataset = ds\n",
    "\n",
    "sds.xr_dataset"
   ]
  },
  {
   "cell_type": "markdown",
   "metadata": {},
   "source": [
    "# all_variable_based_clustering()"
   ]
  },
  {
   "cell_type": "code",
   "execution_count": 27,
   "metadata": {},
   "outputs": [],
   "source": [
    "verbose=False\n",
    "ax_illustration=None \n",
    "save_fig='test' \n",
    "dimension_description='space' \n",
    "weighting=None"
   ]
  },
  {
   "cell_type": "code",
   "execution_count": 28,
   "metadata": {},
   "outputs": [],
   "source": [
    "# Original region list\n",
    "regions_list = sds.xr_dataset[dimension_description].values\n",
    "n_regions = len(regions_list)"
   ]
  },
  {
   "cell_type": "code",
   "execution_count": 29,
   "metadata": {},
   "outputs": [
    {
     "data": {
      "text/plain": [
       "{3: {'01_reg': ['01_reg'], '02_reg': ['02_reg'], '03_reg': ['03_reg']}}"
      ]
     },
     "execution_count": 29,
     "metadata": {},
     "output_type": "execute_result"
    }
   ],
   "source": [
    "aggregation_dict = {}\n",
    "aggregation_dict[n_regions] = {region_id: [region_id] for region_id in regions_list}\n",
    "aggregation_dict"
   ]
  },
  {
   "cell_type": "markdown",
   "metadata": {},
   "source": [
    "## Option 1.  agg_mode = 'hierarchical' \n",
    "#### Clustering method via SciPy.cluster module"
   ]
  },
  {
   "cell_type": "code",
   "execution_count": 30,
   "metadata": {},
   "outputs": [],
   "source": [
    "agg_mode = 'hierarchical' "
   ]
  },
  {
   "cell_type": "code",
   "execution_count": 31,
   "metadata": {},
   "outputs": [],
   "source": [
    "#sds\n",
    "handle_mode = 'toDissimilarity'\n",
    "vars='all'\n",
    "dims='all'\n",
    "var_weightings=None"
   ]
  },
  {
   "cell_type": "markdown",
   "metadata": {},
   "source": [
    "#### STEP 1.  Preprocess the whole dataset (grouping_utils - preprocessDataset())"
   ]
  },
  {
   "cell_type": "code",
   "execution_count": 32,
   "metadata": {},
   "outputs": [],
   "source": [
    "# Obtain the data dictionaries for three var categories after preprocessing\n",
    "dict_ts, dict_1d, dict_2d = gu.preprocessDataset(sds, handle_mode='toDissimilarity')"
   ]
  },
  {
   "cell_type": "markdown",
   "metadata": {},
   "source": [
    "#### STEP 2.  Calculate the overall distance between each region pair (uses custom distance)"
   ]
  },
  {
   "cell_type": "code",
   "execution_count": 33,
   "metadata": {},
   "outputs": [
    {
     "data": {
      "text/plain": [
       "array([[0.   , 4.845, 1.905],\n",
       "       [4.845, 0.   , 2.755],\n",
       "       [1.905, 2.755, 0.   ]])"
      ]
     },
     "execution_count": 33,
     "metadata": {},
     "output_type": "execute_result"
    }
   ],
   "source": [
    "# Apply clustering methods based on the Custom Distance Function\n",
    "squared_dist_matrix = gu.selfDistanceMatrix(dict_ts, dict_1d, dict_2d, n_regions)\n",
    "squared_dist_matrix"
   ]
  },
  {
   "cell_type": "markdown",
   "metadata": {},
   "source": [
    "#### STEP 3. Clustering"
   ]
  },
  {
   "cell_type": "markdown",
   "metadata": {},
   "source": [
    "#### STEP 3a.  Hierarchical clustering with average linkage"
   ]
  },
  {
   "cell_type": "code",
   "execution_count": 34,
   "metadata": {},
   "outputs": [
    {
     "data": {
      "text/plain": [
       "array([[0.   , 2.   , 1.905, 2.   ],\n",
       "       [1.   , 3.   , 3.8  , 3.   ]])"
      ]
     },
     "execution_count": 34,
     "metadata": {},
     "output_type": "execute_result"
    }
   ],
   "source": [
    "distance_matrix = hierarchy.distance.squareform(squared_dist_matrix)\n",
    "Z = hierarchy.linkage(distance_matrix, method='average')\n",
    "Z"
   ]
  },
  {
   "cell_type": "code",
   "execution_count": 35,
   "metadata": {},
   "outputs": [
    {
     "name": "stdout",
     "output_type": "stream",
     "text": [
      "The cophenetic correlation coefficient of the hiearchical clustering is  0.7231402390092978\n"
     ]
    }
   ],
   "source": [
    "print('The cophenetic correlation coefficient of the hiearchical clustering is ', hierarchy.cophenet(Z, distance_matrix)[0])\n",
    " "
   ]
  },
  {
   "cell_type": "markdown",
   "metadata": {},
   "source": [
    "#### STEP 3b.  Figure for inconsistency check "
   ]
  },
  {
   "cell_type": "code",
   "execution_count": 36,
   "metadata": {},
   "outputs": [
    {
     "data": {
      "image/png": "[encoded data removed]",
      "text/plain": [
       "<Figure size 1296x504 with 1 Axes>"
      ]
     },
     "metadata": {
      "needs_background": "light"
     },
     "output_type": "display_data"
    }
   ],
   "source": [
    "fig, ax = plt.subplots(figsize=(18,7))\n",
    "inconsistency = hierarchy.inconsistent(Z)\n",
    "ax.plot(range(1,len(Z)+1),list(inconsistency[:,3]),'go-')\n",
    "ax.set_title('Inconsistency of each Link with the Links Below', fontsize=14)\n",
    "ax.set_xlabel('Number of disjoint clusters under this link', fontsize=12)\n",
    "ax.set_ylabel('Inconsistency Coefficients', fontsize=12)\n",
    "\n",
    "plt.xticks(range(1,len(Z)+1), np.arange(len(Z)+1,1, -1))\n",
    "plt.show()"
   ]
  },
  {
   "cell_type": "markdown",
   "metadata": {},
   "source": [
    "#### STEP 3c.  If specified, figure for resulting dendrogram"
   ]
  },
  {
   "cell_type": "code",
   "execution_count": 37,
   "metadata": {},
   "outputs": [
    {
     "data": {
      "image/png": "[encoded data removed]",
      "text/plain": [
       "<Figure size 1800x864 with 1 Axes>"
      ]
     },
     "metadata": {
      "needs_background": "light"
     },
     "output_type": "display_data"
    }
   ],
   "source": [
    "\n",
    "if ax_illustration is not None:\n",
    "    R = hierarchy.dendrogram(Z, \n",
    "                          orientation=\"top\",\n",
    "                            labels=sds.xr_dataset[dimension_description].values, \n",
    "                            ax=ax_illustration, \n",
    "                            leaf_font_size=14\n",
    "                            )\n",
    "\n",
    "    if save_fig is not None:\n",
    "        spu.plt_savefig(save_name=save_fig)\n",
    "\n",
    "elif save_fig is not None:\n",
    "    fig, ax = spu.plt.subplots(figsize=(25, 12))\n",
    "\n",
    "    R = hierarchy.dendrogram(Z, \n",
    "                            orientation=\"top\",\n",
    "                            labels=sds.xr_dataset[dimension_description].values, \n",
    "                            ax=ax, \n",
    "                            leaf_font_size=14\n",
    "                            )\n",
    "\n",
    "    spu.plt_savefig(fig=fig, save_name=save_fig)\n",
    " "
   ]
  },
  {
   "cell_type": "markdown",
   "metadata": {},
   "source": [
    "#### STEP 4.  find the sub_to_sup_region_id_dict for every level in the hierarchy"
   ]
  },
  {
   "cell_type": "code",
   "execution_count": 47,
   "metadata": {},
   "outputs": [
    {
     "data": {
      "text/plain": [
       "{'01_reg': ['01_reg'], '02_reg': ['02_reg'], '03_reg': ['03_reg']}"
      ]
     },
     "execution_count": 47,
     "metadata": {},
     "output_type": "execute_result"
    }
   ],
   "source": [
    "# regions_dict to record the newest region set after each merging step, regions_dict_complete for all regions appearing during clustering\n",
    "regions_dict = {region_id: [region_id] for region_id in regions_list}\n",
    "regions_dict"
   ]
  },
  {
   "cell_type": "code",
   "execution_count": 48,
   "metadata": {},
   "outputs": [
    {
     "data": {
      "text/plain": [
       "{'01_reg': ['01_reg'], '02_reg': ['02_reg'], '03_reg': ['03_reg']}"
      ]
     },
     "execution_count": 48,
     "metadata": {},
     "output_type": "execute_result"
    }
   ],
   "source": [
    "regions_dict_complete = regions_dict.copy()\n",
    "regions_dict_complete"
   ]
  },
  {
   "cell_type": "code",
   "execution_count": 50,
   "metadata": {},
   "outputs": [
    {
     "data": {
      "text/plain": [
       "array([[0.   , 2.   , 1.905, 2.   ],\n",
       "       [1.   , 3.   , 3.8  , 3.   ]])"
      ]
     },
     "execution_count": 50,
     "metadata": {},
     "output_type": "execute_result"
    }
   ],
   "source": [
    "Z"
   ]
  },
  {
   "cell_type": "code",
   "execution_count": 51,
   "metadata": {},
   "outputs": [
    {
     "data": {
      "text/plain": [
       "range(0, 2)"
      ]
     },
     "execution_count": 51,
     "metadata": {},
     "output_type": "execute_result"
    }
   ],
   "source": [
    "range(len(Z))"
   ]
  },
  {
   "cell_type": "code",
   "execution_count": 54,
   "metadata": {},
   "outputs": [
    {
     "data": {
      "text/plain": [
       "2"
      ]
     },
     "execution_count": 54,
     "metadata": {},
     "output_type": "execute_result"
    }
   ],
   "source": [
    "int(Z[0][1])"
   ]
  },
  {
   "cell_type": "code",
   "execution_count": 52,
   "metadata": {},
   "outputs": [
    {
     "name": "stdout",
     "output_type": "stream",
     "text": [
      "0\n",
      "-------------------------------------------------------------------\n",
      "01_reg\n",
      "03_reg\n",
      "------------------------------------------------------------------\n",
      "['01_reg']\n",
      "['03_reg']\n",
      "------------------------------------------------------------------\n",
      "['03_reg']\n",
      "------------------------------------------------------------------\n",
      "1\n",
      "-------------------------------------------------------------------\n",
      "02_reg\n",
      "01_reg_03_reg\n",
      "------------------------------------------------------------------\n",
      "['02_reg']\n",
      "['01_reg', '03_reg']\n",
      "------------------------------------------------------------------\n",
      "['01_reg', '03_reg']\n",
      "------------------------------------------------------------------\n"
     ]
    }
   ],
   "source": [
    "# Identify, which regions are merged together (new_merged_region_id_list)\n",
    "for i in range(len(Z)):\n",
    "    print(i) \n",
    "    print('-------------------------------------------------------------------')\n",
    "    # identify the keys of the sub regions that will be merged\n",
    "    key_list = list(regions_dict_complete.keys())\n",
    "    key_1 = key_list[int(Z[i][0])]\n",
    "    key_2 = key_list[int(Z[i][1])]\n",
    "    print(key_1)\n",
    "    print(key_2)\n",
    "    print('------------------------------------------------------------------')\n",
    "    # get the region_id_list_s of the sub regions\n",
    "    value_list = list(regions_dict_complete.values())\n",
    "    sub_region_id_list_1 = value_list[int(Z[i][0])]\n",
    "    sub_region_id_list_2 = value_list[int(Z[i][1])]\n",
    "    print(sub_region_id_list_1)\n",
    "    print(sub_region_id_list_2)\n",
    "    print('------------------------------------------------------------------')\n",
    "    # add the new region to the dict by merging the two region_id_lists\n",
    "    sup_region_id = f'{key_1}_{key_2}'\n",
    "    sup_region_id_list = sub_region_id_list_1.copy()\n",
    "    sup_region_id_list.extend(sub_region_id_list_2)\n",
    "    print(sub_region_id_list_2)\n",
    "    print('------------------------------------------------------------------')\n",
    "    regions_dict_complete[sup_region_id] = sup_region_id_list\n",
    "    regions_dict[sup_region_id] = sup_region_id_list\n",
    "    del regions_dict[key_1]\n",
    "    del regions_dict[key_2]\n",
    "    \n",
    "    if verbose:\n",
    "        print(i)\n",
    "        print('\\t', 'keys:', key_1, key_2)\n",
    "        print('\\t', 'list_1', sub_region_id_list_1)\n",
    "        print('\\t', 'list_2', sub_region_id_list_2)\n",
    "        print('\\t', 'sup_region_id', sup_region_id)\n",
    "        print('\\t', 'sup_region_id_list', sup_region_id_list)\n",
    "\n",
    "    aggregation_dict[n_regions - i - 1] = regions_dict.copy()\n",
    "    \n"
   ]
  },
  {
   "cell_type": "markdown",
   "metadata": {},
   "source": [
    "#### STEP 5.  Get Silhouette Coefficient scores"
   ]
  },
  {
   "cell_type": "code",
   "execution_count": 71,
   "metadata": {},
   "outputs": [
    {
     "name": "stdout",
     "output_type": "stream",
     "text": [
      "[0.30511369702145824]\n"
     ]
    }
   ],
   "source": [
    "# Silhouette Coefficient scores\n",
    "silhouette_scores = gu.computeSilhouetteCoefficient(list(regions_list), squared_dist_matrix, aggregation_dict)\n",
    "print(silhouette_scores)"
   ]
  },
  {
   "cell_type": "markdown",
   "metadata": {},
   "source": [
    "# computeSilhouetteCoefficient()"
   ]
  },
  {
   "cell_type": "code",
   "execution_count": 70,
   "metadata": {},
   "outputs": [],
   "source": [
    "regions_list = list(regions_list)\n",
    "distanceMatrix = squared_dist_matrix\n",
    "aggregation_dict = aggregation_dict"
   ]
  },
  {
   "cell_type": "code",
   "execution_count": null,
   "metadata": {},
   "outputs": [],
   "source": [
    "n_regions = len(regions_list)"
   ]
  },
  {
   "cell_type": "code",
   "execution_count": 59,
   "metadata": {},
   "outputs": [
    {
     "data": {
      "text/plain": [
       "[0]"
      ]
     },
     "execution_count": 59,
     "metadata": {},
     "output_type": "execute_result"
    }
   ],
   "source": [
    "# Silhouette Coefficient scores\n",
    "scores = [0 for i in range(1, n_regions-1)]\n",
    "scores"
   ]
  },
  {
   "cell_type": "code",
   "execution_count": 60,
   "metadata": {},
   "outputs": [
    {
     "data": {
      "text/plain": [
       "[0, 0, 0]"
      ]
     },
     "execution_count": 60,
     "metadata": {},
     "output_type": "execute_result"
    }
   ],
   "source": [
    "# Labels for each region object\n",
    "labels = [0 for i in range(n_regions)]\n",
    "labels"
   ]
  },
  {
   "cell_type": "code",
   "execution_count": 62,
   "metadata": {},
   "outputs": [
    {
     "data": {
      "text/plain": [
       "{3: {'01_reg': ['01_reg'], '02_reg': ['02_reg'], '03_reg': ['03_reg']},\n",
       " 2: {'02_reg': ['02_reg'], '01_reg_03_reg': ['01_reg', '03_reg']},\n",
       " 1: {'02_reg_01_reg_03_reg': ['02_reg', '01_reg', '03_reg']}}"
      ]
     },
     "execution_count": 62,
     "metadata": {},
     "output_type": "execute_result"
    }
   ],
   "source": [
    "aggregation_dict"
   ]
  },
  {
   "cell_type": "code",
   "execution_count": 65,
   "metadata": {},
   "outputs": [
    {
     "data": {
      "text/plain": [
       "['01_reg', '02_reg', '03_reg']"
      ]
     },
     "execution_count": 65,
     "metadata": {},
     "output_type": "execute_result"
    }
   ],
   "source": [
    "regions_list"
   ]
  },
  {
   "cell_type": "markdown",
   "metadata": {},
   "source": [
    "#### STEP 1. Obtain Silhouette scores for all intermediate levels in the hierarchy"
   ]
  },
  {
   "cell_type": "code",
   "execution_count": 69,
   "metadata": {},
   "outputs": [
    {
     "name": "stdout",
     "output_type": "stream",
     "text": [
      "['01_reg']\n",
      "-----------------------------------------\n",
      "01_reg\n",
      "-----------------------------------------\n",
      "0\n",
      "-----------------------------------------\n",
      "['02_reg']\n",
      "-----------------------------------------\n",
      "02_reg\n",
      "-----------------------------------------\n",
      "1\n",
      "-----------------------------------------\n",
      "['03_reg']\n",
      "-----------------------------------------\n",
      "03_reg\n",
      "-----------------------------------------\n",
      "2\n",
      "-----------------------------------------\n",
      "3\n",
      "[0, 1, 2]\n",
      "--------------------------------------------------\n"
     ]
    },
    {
     "ename": "ValueError",
     "evalue": "Number of labels is 3. Valid values are 2 to n_samples - 1 (inclusive)",
     "output_type": "error",
     "traceback": [
      "\u001b[1;31m---------------------------------------------------------------------------\u001b[0m",
      "\u001b[1;31mValueError\u001b[0m                                Traceback (most recent call last)",
      "\u001b[1;32m<ipython-input-69-5af9aa57e42e>\u001b[0m in \u001b[0;36m<module>\u001b[1;34m\u001b[0m\n\u001b[0;32m     22\u001b[0m     \u001b[0mprint\u001b[0m\u001b[1;33m(\u001b[0m\u001b[1;34m'--------------------------------------------------'\u001b[0m\u001b[1;33m)\u001b[0m\u001b[1;33m\u001b[0m\u001b[1;33m\u001b[0m\u001b[0m\n\u001b[0;32m     23\u001b[0m     \u001b[1;31m# Silhouette score of this clustering\u001b[0m\u001b[1;33m\u001b[0m\u001b[1;33m\u001b[0m\u001b[1;33m\u001b[0m\u001b[0m\n\u001b[1;32m---> 24\u001b[1;33m     \u001b[0ms\u001b[0m \u001b[1;33m=\u001b[0m \u001b[0mmetrics\u001b[0m\u001b[1;33m.\u001b[0m\u001b[0msilhouette_score\u001b[0m\u001b[1;33m(\u001b[0m\u001b[0mdistanceMatrix\u001b[0m\u001b[1;33m,\u001b[0m \u001b[0mlabels\u001b[0m\u001b[1;33m,\u001b[0m \u001b[0mmetric\u001b[0m\u001b[1;33m=\u001b[0m\u001b[1;34m'precomputed'\u001b[0m\u001b[1;33m)\u001b[0m\u001b[1;33m\u001b[0m\u001b[1;33m\u001b[0m\u001b[0m\n\u001b[0m\u001b[0;32m     25\u001b[0m     \u001b[0mscores\u001b[0m\u001b[1;33m[\u001b[0m\u001b[0mk\u001b[0m\u001b[1;33m-\u001b[0m\u001b[1;36m2\u001b[0m\u001b[1;33m]\u001b[0m \u001b[1;33m=\u001b[0m \u001b[0ms\u001b[0m\u001b[1;33m\u001b[0m\u001b[1;33m\u001b[0m\u001b[0m\n\u001b[0;32m     26\u001b[0m \u001b[1;33m\u001b[0m\u001b[0m\n",
      "\u001b[1;32m~\\Anaconda3\\envs\\europeanmodel\\lib\\site-packages\\sklearn\\utils\\validation.py\u001b[0m in \u001b[0;36minner_f\u001b[1;34m(*args, **kwargs)\u001b[0m\n\u001b[0;32m     70\u001b[0m                           FutureWarning)\n\u001b[0;32m     71\u001b[0m         \u001b[0mkwargs\u001b[0m\u001b[1;33m.\u001b[0m\u001b[0mupdate\u001b[0m\u001b[1;33m(\u001b[0m\u001b[1;33m{\u001b[0m\u001b[0mk\u001b[0m\u001b[1;33m:\u001b[0m \u001b[0marg\u001b[0m \u001b[1;32mfor\u001b[0m \u001b[0mk\u001b[0m\u001b[1;33m,\u001b[0m \u001b[0marg\u001b[0m \u001b[1;32min\u001b[0m \u001b[0mzip\u001b[0m\u001b[1;33m(\u001b[0m\u001b[0msig\u001b[0m\u001b[1;33m.\u001b[0m\u001b[0mparameters\u001b[0m\u001b[1;33m,\u001b[0m \u001b[0margs\u001b[0m\u001b[1;33m)\u001b[0m\u001b[1;33m}\u001b[0m\u001b[1;33m)\u001b[0m\u001b[1;33m\u001b[0m\u001b[1;33m\u001b[0m\u001b[0m\n\u001b[1;32m---> 72\u001b[1;33m         \u001b[1;32mreturn\u001b[0m \u001b[0mf\u001b[0m\u001b[1;33m(\u001b[0m\u001b[1;33m**\u001b[0m\u001b[0mkwargs\u001b[0m\u001b[1;33m)\u001b[0m\u001b[1;33m\u001b[0m\u001b[1;33m\u001b[0m\u001b[0m\n\u001b[0m\u001b[0;32m     73\u001b[0m     \u001b[1;32mreturn\u001b[0m \u001b[0minner_f\u001b[0m\u001b[1;33m\u001b[0m\u001b[1;33m\u001b[0m\u001b[0m\n\u001b[0;32m     74\u001b[0m \u001b[1;33m\u001b[0m\u001b[0m\n",
      "\u001b[1;32m~\\Anaconda3\\envs\\europeanmodel\\lib\\site-packages\\sklearn\\metrics\\cluster\\_unsupervised.py\u001b[0m in \u001b[0;36msilhouette_score\u001b[1;34m(X, labels, metric, sample_size, random_state, **kwds)\u001b[0m\n\u001b[0;32m    115\u001b[0m         \u001b[1;32melse\u001b[0m\u001b[1;33m:\u001b[0m\u001b[1;33m\u001b[0m\u001b[1;33m\u001b[0m\u001b[0m\n\u001b[0;32m    116\u001b[0m             \u001b[0mX\u001b[0m\u001b[1;33m,\u001b[0m \u001b[0mlabels\u001b[0m \u001b[1;33m=\u001b[0m \u001b[0mX\u001b[0m\u001b[1;33m[\u001b[0m\u001b[0mindices\u001b[0m\u001b[1;33m]\u001b[0m\u001b[1;33m,\u001b[0m \u001b[0mlabels\u001b[0m\u001b[1;33m[\u001b[0m\u001b[0mindices\u001b[0m\u001b[1;33m]\u001b[0m\u001b[1;33m\u001b[0m\u001b[1;33m\u001b[0m\u001b[0m\n\u001b[1;32m--> 117\u001b[1;33m     \u001b[1;32mreturn\u001b[0m \u001b[0mnp\u001b[0m\u001b[1;33m.\u001b[0m\u001b[0mmean\u001b[0m\u001b[1;33m(\u001b[0m\u001b[0msilhouette_samples\u001b[0m\u001b[1;33m(\u001b[0m\u001b[0mX\u001b[0m\u001b[1;33m,\u001b[0m \u001b[0mlabels\u001b[0m\u001b[1;33m,\u001b[0m \u001b[0mmetric\u001b[0m\u001b[1;33m=\u001b[0m\u001b[0mmetric\u001b[0m\u001b[1;33m,\u001b[0m \u001b[1;33m**\u001b[0m\u001b[0mkwds\u001b[0m\u001b[1;33m)\u001b[0m\u001b[1;33m)\u001b[0m\u001b[1;33m\u001b[0m\u001b[1;33m\u001b[0m\u001b[0m\n\u001b[0m\u001b[0;32m    118\u001b[0m \u001b[1;33m\u001b[0m\u001b[0m\n\u001b[0;32m    119\u001b[0m \u001b[1;33m\u001b[0m\u001b[0m\n",
      "\u001b[1;32m~\\Anaconda3\\envs\\europeanmodel\\lib\\site-packages\\sklearn\\utils\\validation.py\u001b[0m in \u001b[0;36minner_f\u001b[1;34m(*args, **kwargs)\u001b[0m\n\u001b[0;32m     70\u001b[0m                           FutureWarning)\n\u001b[0;32m     71\u001b[0m         \u001b[0mkwargs\u001b[0m\u001b[1;33m.\u001b[0m\u001b[0mupdate\u001b[0m\u001b[1;33m(\u001b[0m\u001b[1;33m{\u001b[0m\u001b[0mk\u001b[0m\u001b[1;33m:\u001b[0m \u001b[0marg\u001b[0m \u001b[1;32mfor\u001b[0m \u001b[0mk\u001b[0m\u001b[1;33m,\u001b[0m \u001b[0marg\u001b[0m \u001b[1;32min\u001b[0m \u001b[0mzip\u001b[0m\u001b[1;33m(\u001b[0m\u001b[0msig\u001b[0m\u001b[1;33m.\u001b[0m\u001b[0mparameters\u001b[0m\u001b[1;33m,\u001b[0m \u001b[0margs\u001b[0m\u001b[1;33m)\u001b[0m\u001b[1;33m}\u001b[0m\u001b[1;33m)\u001b[0m\u001b[1;33m\u001b[0m\u001b[1;33m\u001b[0m\u001b[0m\n\u001b[1;32m---> 72\u001b[1;33m         \u001b[1;32mreturn\u001b[0m \u001b[0mf\u001b[0m\u001b[1;33m(\u001b[0m\u001b[1;33m**\u001b[0m\u001b[0mkwargs\u001b[0m\u001b[1;33m)\u001b[0m\u001b[1;33m\u001b[0m\u001b[1;33m\u001b[0m\u001b[0m\n\u001b[0m\u001b[0;32m     73\u001b[0m     \u001b[1;32mreturn\u001b[0m \u001b[0minner_f\u001b[0m\u001b[1;33m\u001b[0m\u001b[1;33m\u001b[0m\u001b[0m\n\u001b[0;32m     74\u001b[0m \u001b[1;33m\u001b[0m\u001b[0m\n",
      "\u001b[1;32m~\\Anaconda3\\envs\\europeanmodel\\lib\\site-packages\\sklearn\\metrics\\cluster\\_unsupervised.py\u001b[0m in \u001b[0;36msilhouette_samples\u001b[1;34m(X, labels, metric, **kwds)\u001b[0m\n\u001b[0;32m    227\u001b[0m     \u001b[0mn_samples\u001b[0m \u001b[1;33m=\u001b[0m \u001b[0mlen\u001b[0m\u001b[1;33m(\u001b[0m\u001b[0mlabels\u001b[0m\u001b[1;33m)\u001b[0m\u001b[1;33m\u001b[0m\u001b[1;33m\u001b[0m\u001b[0m\n\u001b[0;32m    228\u001b[0m     \u001b[0mlabel_freqs\u001b[0m \u001b[1;33m=\u001b[0m \u001b[0mnp\u001b[0m\u001b[1;33m.\u001b[0m\u001b[0mbincount\u001b[0m\u001b[1;33m(\u001b[0m\u001b[0mlabels\u001b[0m\u001b[1;33m)\u001b[0m\u001b[1;33m\u001b[0m\u001b[1;33m\u001b[0m\u001b[0m\n\u001b[1;32m--> 229\u001b[1;33m     \u001b[0mcheck_number_of_labels\u001b[0m\u001b[1;33m(\u001b[0m\u001b[0mlen\u001b[0m\u001b[1;33m(\u001b[0m\u001b[0mle\u001b[0m\u001b[1;33m.\u001b[0m\u001b[0mclasses_\u001b[0m\u001b[1;33m)\u001b[0m\u001b[1;33m,\u001b[0m \u001b[0mn_samples\u001b[0m\u001b[1;33m)\u001b[0m\u001b[1;33m\u001b[0m\u001b[1;33m\u001b[0m\u001b[0m\n\u001b[0m\u001b[0;32m    230\u001b[0m \u001b[1;33m\u001b[0m\u001b[0m\n\u001b[0;32m    231\u001b[0m     \u001b[0mkwds\u001b[0m\u001b[1;33m[\u001b[0m\u001b[1;34m'metric'\u001b[0m\u001b[1;33m]\u001b[0m \u001b[1;33m=\u001b[0m \u001b[0mmetric\u001b[0m\u001b[1;33m\u001b[0m\u001b[1;33m\u001b[0m\u001b[0m\n",
      "\u001b[1;32m~\\Anaconda3\\envs\\europeanmodel\\lib\\site-packages\\sklearn\\metrics\\cluster\\_unsupervised.py\u001b[0m in \u001b[0;36mcheck_number_of_labels\u001b[1;34m(n_labels, n_samples)\u001b[0m\n\u001b[0;32m     33\u001b[0m     \u001b[1;32mif\u001b[0m \u001b[1;32mnot\u001b[0m \u001b[1;36m1\u001b[0m \u001b[1;33m<\u001b[0m \u001b[0mn_labels\u001b[0m \u001b[1;33m<\u001b[0m \u001b[0mn_samples\u001b[0m\u001b[1;33m:\u001b[0m\u001b[1;33m\u001b[0m\u001b[1;33m\u001b[0m\u001b[0m\n\u001b[0;32m     34\u001b[0m         raise ValueError(\"Number of labels is %d. Valid values are 2 \"\n\u001b[1;32m---> 35\u001b[1;33m                          \"to n_samples - 1 (inclusive)\" % n_labels)\n\u001b[0m\u001b[0;32m     36\u001b[0m \u001b[1;33m\u001b[0m\u001b[0m\n\u001b[0;32m     37\u001b[0m \u001b[1;33m\u001b[0m\u001b[0m\n",
      "\u001b[1;31mValueError\u001b[0m: Number of labels is 3. Valid values are 2 to n_samples - 1 (inclusive)"
     ]
    }
   ],
   "source": [
    "for k, regions_dict in aggregation_dict.items():\n",
    "\n",
    "#     if k == 1 or k == n_regions:\n",
    "#         continue\n",
    "\n",
    "    # Obtain labels list for this clustering results\n",
    "    label = 0\n",
    "    for sup_region in regions_dict.values():\n",
    "        #### STEP 1.\n",
    "        print(sup_region)\n",
    "        print('-----------------------------------------')\n",
    "        for reg in sup_region:\n",
    "            print(reg)\n",
    "            print('-----------------------------------------')\n",
    "            ind = regions_list.index(reg)  \n",
    "            print(ind)\n",
    "            print('-----------------------------------------')\n",
    "            labels[ind] = label\n",
    "            \n",
    "        label += 1\n",
    "    print(label)\n",
    "    print(labels)\n",
    "    print('--------------------------------------------------')\n",
    "    # Silhouette score of this clustering\n",
    "    s = metrics.silhouette_score(distanceMatrix, labels, metric='precomputed')\n",
    "    scores[k-2] = s\n",
    "\n"
   ]
  },
  {
   "cell_type": "code",
   "execution_count": 72,
   "metadata": {},
   "outputs": [
    {
     "data": {
      "text/plain": [
       "[0.30511369702145824]"
      ]
     },
     "execution_count": 72,
     "metadata": {},
     "output_type": "execute_result"
    }
   ],
   "source": [
    "scores"
   ]
  },
  {
   "cell_type": "markdown",
   "metadata": {},
   "source": [
    "# END - computeSilhouetteCoefficient()"
   ]
  },
  {
   "cell_type": "code",
   "execution_count": 61,
   "metadata": {},
   "outputs": [
    {
     "data": {
      "text/plain": [
       "{3: {'01_reg': ['01_reg'], '02_reg': ['02_reg'], '03_reg': ['03_reg']},\n",
       " 2: {'02_reg': ['02_reg'], '01_reg_03_reg': ['01_reg', '03_reg']},\n",
       " 1: {'02_reg_01_reg_03_reg': ['02_reg', '01_reg', '03_reg']}}"
      ]
     },
     "execution_count": 61,
     "metadata": {},
     "output_type": "execute_result"
    }
   ],
   "source": [
    "aggregation_dict"
   ]
  },
  {
   "cell_type": "markdown",
   "metadata": {},
   "source": [
    "### agg_mode = 'hierarchical2'\n",
    "\n",
    "#### Clustering method via Scikit Learn module'''"
   ]
  },
  {
   "cell_type": "code",
   "execution_count": null,
   "metadata": {},
   "outputs": [],
   "source": [
    "agg_mode = 'hierarchical2' "
   ]
  },
  {
   "cell_type": "code",
   "execution_count": null,
   "metadata": {},
   "outputs": [],
   "source": [
    "# Obtain the data dictionaries for three var categories after preprocessing\n",
    "ds_ts, ds_1d, ds_2d = gu.preprocessDataset(sds, handle_mode='toDissimilarity')\n",
    "\n",
    "# Precompute the distance matrix according to the Custom Distance Function\n",
    "squared_distMatrix = gu.selfDistanceMatrix(ds_ts, ds_1d, ds_2d, n_regions)\n",
    "\n",
    "# Connectivity matrix for neighboring structure\n",
    "connectMatrix = gu.generateConnectivityMatrix(sds)\n",
    "\n",
    "# Silhouette Coefficient scores\n",
    "silhouette_scores = []"
   ]
  },
  {
   "cell_type": "code",
   "execution_count": null,
   "metadata": {},
   "outputs": [],
   "source": [
    "        for i in range(1,n_regions):\n",
    "            # Computing hierarchical clustering\n",
    "            model = skc.AgglomerativeClustering(n_clusters=i,affinity='precomputed',linkage='average',connectivity=connectMatrix).fit(squared_distMatrix)\n",
    "            regions_label_list = model.labels_\n",
    "\n",
    "            # Silhouette Coefficient score for this clustering results\n",
    "            if i != 1:\n",
    "                s = metrics.silhouette_score(squared_distMatrix, regions_label_list, metric='precomputed')\n",
    "                silhouette_scores.append(s)\n",
    "\n",
    "            # Create a regions dictionary for the aggregated regions\n",
    "            regions_dict = {}\n",
    "            for label in range(i):\n",
    "                # Group the regions of this regions label\n",
    "                sup_region_list = list(regions_list[regions_label_list == label])\n",
    "                sup_region_id = '_'.join(sup_region_list)\n",
    "                regions_dict[sup_region_id] = sup_region_list.copy()\n",
    "\n",
    "            aggregation_dict[i] = regions_dict.copy()\n",
    "\n",
    "        # Plot the hierarchical tree dendrogram\n",
    "        clustering_tree = skc.AgglomerativeClustering(distance_threshold=0, \n",
    "                                                      n_clusters=None, \n",
    "                                                      affinity='precomputed', \n",
    "                                                      linkage='average',\n",
    "                                                      connectivity=connectMatrix).fit(squared_distMatrix)\n",
    "        # Create the counts of samples under each node\n",
    "        counts = np.zeros(clustering_tree.children_.shape[0])\n",
    "        n_samples = len(clustering_tree.labels_)\n",
    "        for i, merge in enumerate(clustering_tree.children_):\n",
    "            current_count = 0\n",
    "            for child_idx in merge:\n",
    "                if child_idx < n_samples:\n",
    "                    current_count += 1  # leaf node\n",
    "                else:\n",
    "                    current_count += counts[child_idx - n_samples]\n",
    "            counts[i] = current_count\n",
    "            \n",
    "        linkage_matrix = np.column_stack([clustering_tree.children_, clustering_tree.distances_, counts]).astype(float)   \n",
    "        # Plot the corresponding dendrogram\n",
    "        #hierarchy.dendrogram(linkage_matrix)\n",
    "\n",
    "        distance_matrix = hierarchy.distance.squareform(squared_distMatrix)\n",
    "        print('The cophenetic correlation coefficient of the hiearchical clustering is ', hierarchy.cophenet(linkage_matrix, distance_matrix)[0])\n",
    "        \n",
    "        #fig, ax = plt.subplots(figsize=(18,7))\n",
    "        inconsistency = hierarchy.inconsistent(linkage_matrix)\n",
    "        print('Inconsistencies:',list(inconsistency[:,3]))\n",
    "        # ax.plot(range(1,len(linkage_matrix)+1),list(inconsistency[:,3]),'go-')\n",
    "        # ax.set_title('Inconsistency of each Link with the Links Below', fontsize=14)\n",
    "        # ax.set_xlabel('Number of disjoint clusters under this link', fontsize=12)\n",
    "        # ax.set_ylabel('Inconsistencies', fontsize=12)\n",
    "\n",
    "        # plt.xticks(range(1,len(linkage_matrix)+1), np.arange(len(linkage_matrix)+1,1, -1))\n",
    "        # plt.show()\n",
    "\n",
    "        print('Silhouette scores: ',silhouette_scores)       "
   ]
  },
  {
   "cell_type": "code",
   "execution_count": null,
   "metadata": {},
   "outputs": [],
   "source": [
    "aggregation_dict"
   ]
  },
  {
   "cell_type": "markdown",
   "metadata": {},
   "source": [
    "### agg_mode = 'spectral'\n",
    "\n",
    "#### ## Affinity matrix: combine three matrices of ts_vars, 1d_vars and 2d_vars to one single precomputed affinity matrix"
   ]
  },
  {
   "cell_type": "code",
   "execution_count": null,
   "metadata": {},
   "outputs": [],
   "source": [
    "agg_mode = 'spectral'"
   ]
  },
  {
   "cell_type": "code",
   "execution_count": null,
   "metadata": {},
   "outputs": [],
   "source": [
    "# Obtain the matrices for three var categories after preprocessing\n",
    "feature_matrix_ts, feature_matrix_1d, adjacency_matrix_2d = gu.preprocessDataset(sds, handle_mode='toAffinity')\n",
    "\n",
    "# List of weighting factors for 3 categories\n",
    "if weighting:\n",
    "    weighting = weighting\n",
    "else:                          #TODO: reduce these lines to 1 line (IF not weighting)\n",
    "    weighting = [1,1,1]\n",
    "\n",
    "# Using RBF kernel to construct affinity matrix\n",
    "delta = 1\n",
    "\n",
    "##### Obtain affinity matrix for TimeSeries part via RBF kernel applied on distance matrix\n",
    "distance_matrix_ts = hierarchy.distance.squareform(hierarchy.distance.pdist(feature_matrix_ts))\n",
    "\n",
    "affinity_ts = np.exp(- distance_matrix_ts ** 2 / (2. * delta ** 2))\n",
    "\n",
    "##### Obtain affinity matrix for 1d-Vars part via RBF kernel applied on distance matrix\n",
    "distance_matrix_1d = hierarchy.distance.squareform(hierarchy.distance.pdist(feature_matrix_1d))\n",
    "\n",
    "affinity_1d = np.exp(- distance_matrix_1d ** 2 / (2. * delta ** 2))\n",
    "\n",
    "##### Obtain affinity matrix for 2d-Vars\n",
    "\n",
    "# Convert the adjacency matrix to a dissimilarity matrix similar to a distance matrix: high value=more dissimilarity, 0=identical elements\n",
    "adjacency_2d_adverse = 1.0 / adjacency_matrix_2d\n",
    "max_value = adjacency_2d_adverse[np.isfinite(adjacency_2d_adverse)].max()\n",
    "adjacency_2d_adverse[np.isinf(adjacency_2d_adverse)] = max_value + 10\n",
    "np.fill_diagonal(adjacency_2d_adverse,0)\n",
    "\n",
    "# Construct the affinity matrix by applying RBF on the dissimilarity matrix\n",
    "affinity_2d = np.exp(- adjacency_2d_adverse ** 2 / (2. * delta ** 2))\n",
    "\n",
    "##### The precomputed affinity matrix for spectral clustering\n",
    "affinity_matrix = (affinity_ts * weighting[0] + affinity_1d * weighting[1] + affinity_2d * weighting[2]) \n",
    "\n",
    "# ##### Solve the spatial contiguity problem with the connectivity condition\n",
    "# # Connectivity matrix for neighboring structure\n",
    "# connectMatrix = gu.generateConnectivityMatrix(sds)\n",
    "# # Cut down the edges that have zero value in connectivity matrix\n",
    "# affinity_matrix[connectMatrix==0] = 0\n",
    "\n",
    "# Evaluation indicators\n",
    "modularities = []\n",
    "\n",
    "for i in range(1,n_regions):\n",
    "    # Perform the spectral clustering with the precomputed affinity matrix (adjacency matrix)\n",
    "    model = skc.SpectralClustering(n_clusters=i,affinity='precomputed').fit(affinity_matrix)\n",
    "    regions_label_list = model.labels_\n",
    "\n",
    "    # Compute the modularity for evaluation, using affinity matrix as adjacency matrix of a graph\n",
    "    modularity = gu.computeModularity(affinity_matrix, regions_label_list)\n",
    "    modularities.append(modularity)\n",
    "\n",
    "    # Create a regions dictionary for the aggregated regions\n",
    "    regions_dict = {}\n",
    "    for label in range(i):\n",
    "        # Group the regions of this regions label\n",
    "        sup_region_list = list(regions_list[regions_label_list == label])\n",
    "        sup_region_id = '_'.join(sup_region_list)\n",
    "        regions_dict[sup_region_id] = sup_region_list.copy()\n",
    "\n",
    "    aggregation_dict[i] = regions_dict.copy()\n",
    "    \n",
    "    # Plotting the modularites according to increase of k values, check if there exists an inflection point\n",
    "    # fig, ax = spu.plt.subplots(figsize=(25, 12))\n",
    "    # ax.plot(range(1,n_regions),modularities,'go-')\n",
    "    # ax.set_title('Impact of aggregated regions on modularity')\n",
    "    # ax.set_xlabel('number of aggregated regions')\n",
    "    # ax.set_ylabel('Modularity')\n",
    "    # plt.show()\n",
    "\n",
    "    print('Modularities',modularities)\n",
    "\n",
    "    # Silhouette Coefficient scores\n",
    "    ds_ts, ds_1d, ds_2d = gu.preprocessDataset(sds, handle_mode='toDissimilarity')\n",
    "    distances = gu.selfDistanceMatrix(ds_ts, ds_1d, ds_2d, n_regions)\n",
    "    silhouette_scores = gu.computeSilhouetteCoefficient(list(regions_list), distances, aggregation_dict)\n",
    "    print('Silhouette scores: ',silhouette_scores)"
   ]
  },
  {
   "cell_type": "code",
   "execution_count": null,
   "metadata": {},
   "outputs": [],
   "source": [
    "aggregation_dict"
   ]
  },
  {
   "cell_type": "markdown",
   "metadata": {},
   "source": [
    "## agg_mode ='spectral2' \n",
    "\n",
    "#### Affinity matrix: construct a distance matrix based on selfDistanceMatrix function, transform it to similarity matrix\n"
   ]
  },
  {
   "cell_type": "code",
   "execution_count": null,
   "metadata": {},
   "outputs": [],
   "source": [
    "agg_mode ='spectral2' "
   ]
  },
  {
   "cell_type": "code",
   "execution_count": null,
   "metadata": {},
   "outputs": [],
   "source": [
    "# Obtain the data dictionaries for three var categories after preprocessing\n",
    "ds_ts, ds_1d, ds_2d = gu.preprocessDataset(sds, handle_mode='toDissimilarity')\n",
    "\n",
    "# Precompute the distance matrix according to the Custom Distance Function\n",
    "distMatrix = gu.selfDistanceMatrix(ds_ts, ds_1d, ds_2d, n_regions)\n",
    "# Rescaling the matrix in order to generate valid affinity_matrix\n",
    "distMatrix = gu.matrix_MinMaxScaler(distMatrix)\n",
    "\n",
    "# Obtain affinity matrix for part_1 via RBF kernel applied on distance matrix\n",
    "delta = 1\n",
    "affinity_matrix = np.exp(- distMatrix ** 2 / (2. * delta ** 2))\n",
    "\n",
    "# # Connectivity matrix for neighboring structure\n",
    "# connectMatrix = gu.generateConnectivityMatrix(sds)\n",
    "# # Cut down the edges that have zero value in connectivity matrix\n",
    "# affinity_matrix[connectMatrix==0] = 0\n",
    "\n",
    "# Evaluation indicators\n",
    "modularities = []\n",
    "\n",
    "# Silhouette Coefficient scores\n",
    "silhouette_scores = []\n",
    "\n",
    "for i in range(1,n_regions):\n",
    "    # Perform the spectral clustering with the precomputed affinity matrix (adjacency matrix)\n",
    "    model = skc.SpectralClustering(n_clusters=i,affinity='precomputed').fit(affinity_matrix)\n",
    "    regions_label_list = model.labels_\n",
    "    # Compute the modularity for evaluation, using affinity matrix as adjacency matrix of a graph\n",
    "    modularity = gu.computeModularity(affinity_matrix, regions_label_list)\n",
    "    modularities.append(modularity)\n",
    "\n",
    "    # Silhouette Coefficient score for this clustering results\n",
    "    if i != 1:\n",
    "        s = metrics.silhouette_score(distMatrix, regions_label_list, metric='precomputed')\n",
    "        silhouette_scores.append(s)\n",
    "\n",
    "    # Create a regions dictionary for the aggregated regions\n",
    "    regions_dict = {}\n",
    "    for label in range(i):\n",
    "        # Group the regions of this regions label\n",
    "        sup_region_list = list(regions_list[regions_label_list == label])\n",
    "        sup_region_id = '_'.join(sup_region_list)\n",
    "        regions_dict[sup_region_id] = sup_region_list.copy()\n",
    "\n",
    "    aggregation_dict[i] = regions_dict.copy()\n",
    "\n",
    "# Plotting the modularites according to increase of k values, check if there exists an inflection point\n",
    "# fig, ax = spu.plt.subplots(figsize=(25, 12))\n",
    "# ax.plot(range(1,n_regions),modularities,'go-')\n",
    "# ax.set_title('Impact of aggregated regions on modularity')\n",
    "# ax.set_xlabel('number of aggregated regions')\n",
    "# ax.set_ylabel('Modularity')\n",
    "       \n",
    "print('Modularites: ',modularities)\n",
    "\n",
    "print('Silhouette scores: ',silhouette_scores)\n",
    "\n"
   ]
  },
  {
   "cell_type": "code",
   "execution_count": null,
   "metadata": {},
   "outputs": [],
   "source": [
    "aggregation_dict"
   ]
  },
  {
   "cell_type": "code",
   "execution_count": null,
   "metadata": {},
   "outputs": [],
   "source": []
  }
 ],
 "metadata": {
  "kernelspec": {
   "display_name": "Python 3",
   "language": "python",
   "name": "python3"
  },
  "language_info": {
   "codemirror_mode": {
    "name": "ipython",
    "version": 3
   },
   "file_extension": ".py",
   "mimetype": "text/x-python",
   "name": "python",
   "nbconvert_exporter": "python",
   "pygments_lexer": "ipython3",
   "version": "3.7.8"
  }
 },
 "nbformat": 4,
 "nbformat_minor": 4
}
