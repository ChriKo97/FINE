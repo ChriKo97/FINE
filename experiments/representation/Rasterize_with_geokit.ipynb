{
 "cells": [
  {
   "cell_type": "code",
   "execution_count": 1,
   "metadata": {},
   "outputs": [],
   "source": [
    "import xarray as xr\n",
    "import geopandas as gpd\n",
    "import numpy as np\n",
    "import pandas as pd\n",
    "from sklearn.datasets import make_blobs\n",
    "from shapely.geometry import Polygon, MultiPolygon, MultiPoint\n",
    "import matplotlib.pyplot as plt\n",
    "\n",
    "import geokit as gk\n",
    "\n",
    "import FINE as fn\n",
    "import FINE.spagat.dataset as spd\n",
    "import FINE.spagat.representation as spr \n",
    "import FINE.IOManagement.xarray_io as xrio "
   ]
  },
  {
   "cell_type": "markdown",
   "metadata": {},
   "source": [
    "# FUNCTIONS "
   ]
  },
  {
   "cell_type": "code",
   "execution_count": 2,
   "metadata": {},
   "outputs": [],
   "source": [
    "def read_shape_data(sds, SHP_PATH, index_col='e-id', geometry_column='geometry', srs=4326):\n",
    "    \"\"\"Read shape data from shapefiles.\"\"\"\n",
    "\n",
    "    #USING GEOKIT\n",
    "    gkdf = gk.vector.extractFeatures(SHP_PATH, srs=srs)\n",
    "    region_ids = gkdf[index_col].values\n",
    "\n",
    "    sds.gkdf = gkdf\n",
    "    sds.add_region_data(region_ids)\n",
    "    sds.add_objects(description ='gk_geometries',  \n",
    "                    dimension_list =['region_ids'], \n",
    "                    object_list = gkdf.geom)\n",
    "\n",
    "\n",
    "    # USING GEOPANDAS \n",
    "#     gdf = gpd.read_file(SHP_PATH)\n",
    "# region_ids = gdf[index_col].values\n",
    "#     sds.gdf = gdf\n",
    "#     sds.add_region_data(region_ids)\n",
    "#     sds.add_objects(description ='gpd_geometries',  \n",
    "#                     dimension_list =['region_ids'], \n",
    "#                     object_list = gdf.geometry)\n",
    "\n",
    "    return sds"
   ]
  },
  {
   "cell_type": "code",
   "execution_count": 3,
   "metadata": {},
   "outputs": [],
   "source": [
    "def rasterize_xarray(sds, \n",
    "                     shape, \n",
    "                     x_coord='x', \n",
    "                     y_coord='y', \n",
    "                     srs=gk.srs.EPSG3035):\n",
    "    '''Takes a gridded xarray dataset and a geokit shape to raster the dataset\n",
    "    based on the shape'''\n",
    "\n",
    "    x_min = float(sds[x_coord].min().values)\n",
    "    x_max = float(sds[x_coord].max().values)\n",
    "    y_min = float(sds[y_coord].min().values)\n",
    "    y_max = float(sds[y_coord].max().values)\n",
    "\n",
    "    dy = sds[y_coord][1].values - sds[y_coord][0].values\n",
    "    dx = sds[x_coord][1].values - sds[x_coord][0].values\n",
    "\n",
    "    # TODO: discuss with Sev whether the following can be generalized\n",
    "    # without using dx and dy, such that generalization for cosmo becomes easier\n",
    "    gk_ds = gk.vector.rasterize(source=shape, \n",
    "                                pixelWidth=dx, \n",
    "                                pixelHeight=dy,\n",
    "                                srs=srs, \n",
    "                                bounds=(x_min, y_min, x_max, y_max))\n",
    "\n",
    "    # TODO: understand, why y axis is inversed when ReadAsArray\n",
    "    return np.flip(gk_ds.ReadAsArray(), 0)\n",
    "    # return gk_ds.ReadAsArray()\n"
   ]
  },
  {
   "cell_type": "code",
   "execution_count": 4,
   "metadata": {},
   "outputs": [],
   "source": [
    "def add_rasters(sds, \n",
    "                region_description='region_ids',\n",
    "                x_coord='x', \n",
    "                y_coord='y',\n",
    "                srs=gk.srs.EPSG3035):\n",
    "\n",
    "        sds.xr_dataset['rasters'] = ([region_description, 'y', 'x'],\n",
    "                                      [rasterize_xarray(sds.xr_dataset, \n",
    "                                                            geometry.item(0),\n",
    "                                                            x_coord=x_coord, \n",
    "                                                            y_coord=y_coord,\n",
    "                                                            srs=srs)\n",
    "                                       for geometry in sds.xr_dataset['gk_geometries']])\n"
   ]
  }
 ],
 "metadata": {
  "kernelspec": {
   "display_name": "Python 3",
   "language": "python",
   "name": "python3"
  },
  "language_info": {
   "codemirror_mode": {
    "name": "ipython",
    "version": 3
   },
   "file_extension": ".py",
   "mimetype": "text/x-python",
   "name": "python",
   "nbconvert_exporter": "python",
   "pygments_lexer": "ipython3",
   "version": "3.7.8"
  }
 },
 "nbformat": 4,
 "nbformat_minor": 4
}
