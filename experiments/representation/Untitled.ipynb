{
 "cells": [
  {
   "cell_type": "code",
   "execution_count": 45,
   "metadata": {},
   "outputs": [],
   "source": [
    "import os\n",
    "import pathlib\n",
    "\n",
    "import pytest\n",
    "import numpy as np\n",
    "import pandas as pd\n",
    "import math\n",
    "import xarray as xr\n",
    "from shapely.geometry import Point, Polygon\n",
    "from shapely.geometry import LineString\n",
    "import geopandas as gpd\n",
    "import matplotlib.pyplot as plt\n",
    "\n",
    "from shapely.ops import cascaded_union, unary_union\n",
    "\n",
    "import FINE.spagat.representation as spr\n",
    "import FINE.spagat.grouping as spg\n",
    "import FINE.spagat.dataset as spd\n",
    "import FINE.spagat.utils as spu"
   ]
  },
  {
   "cell_type": "code",
   "execution_count": 2,
   "metadata": {},
   "outputs": [],
   "source": [
    "%load_ext autoreload\n",
    "%autoreload 2"
   ]
  },
  {
   "cell_type": "code",
   "execution_count": 18,
   "metadata": {},
   "outputs": [],
   "source": [
    "component_list = ['c1','c2']  \n",
    "space_list = ['01_reg','02_reg','03_reg','04_reg']\n",
    "TimeStep_list = ['T0','T1']\n",
    "Period_list = [0]\n",
    "\n",
    "## ts variable data\n",
    "test_ts_data = np.array([ [ [ [5, 5, 5, 5] for i in range(2)] ],\n",
    "\n",
    "                      [ [[np.nan, np.nan, np.nan, np.nan] for i in range(2)] ]\n",
    "\n",
    "                      ])\n",
    "\n",
    "test_ts_DataArray = xr.DataArray(test_ts_data, \n",
    "                              coords=[component_list, Period_list, TimeStep_list, space_list], \n",
    "                              dims=['component', 'Period', 'TimeStep','space'])\n",
    "\n",
    "## 1d variable data\n",
    "test_1d_data = np.array([ [5,  5,  5, 5],\n",
    "                        [np.nan] *4\n",
    "                      ])\n",
    "\n",
    "test_1d_DataArray = xr.DataArray(test_1d_data, \n",
    "                          coords=[component_list, space_list], \n",
    "                          dims=['component', 'space'])\n",
    "\n",
    "## 2d variable data\n",
    "test_2d_data = np.array([ [[ 0,  5,  5, 5],\n",
    "                      [ 5,  0,  5, 5],\n",
    "                      [ 5,  5,  0, 5],\n",
    "                      [ 5,  5,  5, 0]],\n",
    "\n",
    "                    [[np.nan] * 4 for i in range(4)] \n",
    "                    ])\n",
    "\n",
    "test_2d_DataArray = xr.DataArray(test_2d_data, \n",
    "                          coords=[component_list, space_list, space_list], \n",
    "                          dims=['component', 'space', 'space_2'])\n",
    "\n",
    "test_ds = xr.Dataset({'var_ts': test_ts_DataArray, \n",
    "                    'var_1d': test_1d_DataArray,\n",
    "                    'var_2d': test_2d_DataArray})    \n",
    "\n",
    "sds = spd.SpagatDataset()\n",
    "sds.xr_dataset = test_ds            \n",
    "\n",
    "test_geometries = [Polygon([(0,0), (2,0), (2,2), (0,2)]),\n",
    "                Polygon([(2,0), (4,0), (4,2), (2,2)]),\n",
    "                Polygon([(0,0), (4,0), (4,4), (0,4)]),\n",
    "                Polygon([(0,0), (1,0), (1,1), (0,1)])]   \n",
    "\n",
    "sds.add_objects(description ='gpd_geometries',   #NOTE: not sure if it is ok to call another function here\n",
    "            dimension_list =['space'], \n",
    "            object_list = test_geometries)"
   ]
  },
  {
   "cell_type": "code",
   "execution_count": null,
   "metadata": {},
   "outputs": [],
   "source": [
    "sds.xr_dataset = sds.xr_dataset.rename({'var_2d':'2d_locationalEligibility'})"
   ]
  },
  {
   "cell_type": "code",
   "execution_count": 47,
   "metadata": {},
   "outputs": [],
   "source": [
    "file_path=\"C:/Users/s.patil/Documents/code/fine/test/spagat/data/output\"\n",
    "files_name = \"AC_lines\",\n",
    "spatial_dim=\"space\"\n",
    "eligibility_variable=\"2d_locationalEligibility\"\n",
    "eligibility_component='c1'"
   ]
  },
  {
   "cell_type": "code",
   "execution_count": 48,
   "metadata": {},
   "outputs": [],
   "source": [
    "spr.add_region_centroids(sds)"
   ]
  },
  {
   "cell_type": "code",
   "execution_count": 49,
   "metadata": {},
   "outputs": [],
   "source": [
    "buses_0 = []\n",
    "buses_1 = []\n",
    "geoms = []"
   ]
  },
  {
   "cell_type": "code",
   "execution_count": 50,
   "metadata": {},
   "outputs": [],
   "source": [
    "if eligibility_component is not None:\n",
    "    eligibility_xr_array = sds.xr_dataset[eligibility_variable].sel(\n",
    "        component=eligibility_component\n",
    "    )\n",
    "else:\n",
    "    eligibility_xr_array = sds.xr_dataset[eligibility_variable]  "
   ]
  },
  {
   "cell_type": "code",
   "execution_count": 51,
   "metadata": {},
   "outputs": [],
   "source": [
    "for region_id_1 in sds.xr_dataset[f\"{spatial_dim}\"].values:\n",
    "    for region_id_2 in sds.xr_dataset[f\"{spatial_dim}_2\"].values:\n",
    "        if eligibility_xr_array.sel(space=region_id_1, space_2=region_id_2).values: \n",
    "            buses_0.append(region_id_1)\n",
    "            buses_1.append(region_id_2)\n",
    "\n",
    "            point_1 = sds.xr_dataset.gpd_centroids.sel(space=region_id_1).item(0)\n",
    "            point_2 = sds.xr_dataset.gpd_centroids.sel(space=region_id_2).item(0)\n",
    "            line = LineString([(point_1.x, point_1.y), (point_2.x, point_2.y)])\n",
    "\n",
    "            geoms.append(line)"
   ]
  },
  {
   "cell_type": "code",
   "execution_count": 52,
   "metadata": {},
   "outputs": [],
   "source": [
    "# TODO: understand what s_nom and x stand for (look into FINE?) and add or delete them below\n",
    "df = pd.DataFrame(\n",
    "    {\n",
    "        \"bus0\": buses_0,\n",
    "        \"bus1\": buses_1,\n",
    "        #      's_nom': ,\n",
    "        #      'x': ,\n",
    "    }\n",
    ")"
   ]
  },
  {
   "cell_type": "code",
   "execution_count": 53,
   "metadata": {},
   "outputs": [
    {
     "data": {
      "text/plain": [
       "[<shapely.geometry.linestring.LineString at 0x2e28c554548>,\n",
       " <shapely.geometry.linestring.LineString at 0x2e28c4e32c8>,\n",
       " <shapely.geometry.linestring.LineString at 0x2e28c4dff48>,\n",
       " <shapely.geometry.linestring.LineString at 0x2e28c4dfb48>,\n",
       " <shapely.geometry.linestring.LineString at 0x2e28c4dbd08>,\n",
       " <shapely.geometry.linestring.LineString at 0x2e28c4d56c8>,\n",
       " <shapely.geometry.linestring.LineString at 0x2e28c516cc8>,\n",
       " <shapely.geometry.linestring.LineString at 0x2e28c4d0048>,\n",
       " <shapely.geometry.linestring.LineString at 0x2e28c571788>,\n",
       " <shapely.geometry.linestring.LineString at 0x2e28c4c9808>,\n",
       " <shapely.geometry.linestring.LineString at 0x2e28c4cc448>,\n",
       " <shapely.geometry.linestring.LineString at 0x2e28c4c21c8>]"
      ]
     },
     "execution_count": 53,
     "metadata": {},
     "output_type": "execute_result"
    }
   ],
   "source": [
    "geoms"
   ]
  },
  {
   "cell_type": "code",
   "execution_count": 54,
   "metadata": {},
   "outputs": [
    {
     "data": {
      "text/html": [
       "<div>\n",
       "<style scoped>\n",
       "    .dataframe tbody tr th:only-of-type {\n",
       "        vertical-align: middle;\n",
       "    }\n",
       "\n",
       "    .dataframe tbody tr th {\n",
       "        vertical-align: top;\n",
       "    }\n",
       "\n",
       "    .dataframe thead th {\n",
       "        text-align: right;\n",
       "    }\n",
       "</style>\n",
       "<table border=\"1\" class=\"dataframe\">\n",
       "  <thead>\n",
       "    <tr style=\"text-align: right;\">\n",
       "      <th></th>\n",
       "      <th>bus0</th>\n",
       "      <th>bus1</th>\n",
       "    </tr>\n",
       "  </thead>\n",
       "  <tbody>\n",
       "    <tr>\n",
       "      <th>0</th>\n",
       "      <td>01_reg</td>\n",
       "      <td>02_reg</td>\n",
       "    </tr>\n",
       "    <tr>\n",
       "      <th>1</th>\n",
       "      <td>01_reg</td>\n",
       "      <td>03_reg</td>\n",
       "    </tr>\n",
       "    <tr>\n",
       "      <th>2</th>\n",
       "      <td>01_reg</td>\n",
       "      <td>04_reg</td>\n",
       "    </tr>\n",
       "    <tr>\n",
       "      <th>3</th>\n",
       "      <td>02_reg</td>\n",
       "      <td>01_reg</td>\n",
       "    </tr>\n",
       "    <tr>\n",
       "      <th>4</th>\n",
       "      <td>02_reg</td>\n",
       "      <td>03_reg</td>\n",
       "    </tr>\n",
       "    <tr>\n",
       "      <th>5</th>\n",
       "      <td>02_reg</td>\n",
       "      <td>04_reg</td>\n",
       "    </tr>\n",
       "    <tr>\n",
       "      <th>6</th>\n",
       "      <td>03_reg</td>\n",
       "      <td>01_reg</td>\n",
       "    </tr>\n",
       "    <tr>\n",
       "      <th>7</th>\n",
       "      <td>03_reg</td>\n",
       "      <td>02_reg</td>\n",
       "    </tr>\n",
       "    <tr>\n",
       "      <th>8</th>\n",
       "      <td>03_reg</td>\n",
       "      <td>04_reg</td>\n",
       "    </tr>\n",
       "    <tr>\n",
       "      <th>9</th>\n",
       "      <td>04_reg</td>\n",
       "      <td>01_reg</td>\n",
       "    </tr>\n",
       "    <tr>\n",
       "      <th>10</th>\n",
       "      <td>04_reg</td>\n",
       "      <td>02_reg</td>\n",
       "    </tr>\n",
       "    <tr>\n",
       "      <th>11</th>\n",
       "      <td>04_reg</td>\n",
       "      <td>03_reg</td>\n",
       "    </tr>\n",
       "  </tbody>\n",
       "</table>\n",
       "</div>"
      ],
      "text/plain": [
       "      bus0    bus1\n",
       "0   01_reg  02_reg\n",
       "1   01_reg  03_reg\n",
       "2   01_reg  04_reg\n",
       "3   02_reg  01_reg\n",
       "4   02_reg  03_reg\n",
       "5   02_reg  04_reg\n",
       "6   03_reg  01_reg\n",
       "7   03_reg  02_reg\n",
       "8   03_reg  04_reg\n",
       "9   04_reg  01_reg\n",
       "10  04_reg  02_reg\n",
       "11  04_reg  03_reg"
      ]
     },
     "execution_count": 54,
     "metadata": {},
     "output_type": "execute_result"
    }
   ],
   "source": [
    "df"
   ]
  },
  {
   "cell_type": "code",
   "execution_count": 55,
   "metadata": {},
   "outputs": [],
   "source": [
    "gdf = spu.create_gdf(df, geoms)"
   ]
  },
  {
   "cell_type": "code",
   "execution_count": 56,
   "metadata": {},
   "outputs": [
    {
     "data": {
      "text/html": [
       "<div>\n",
       "<style scoped>\n",
       "    .dataframe tbody tr th:only-of-type {\n",
       "        vertical-align: middle;\n",
       "    }\n",
       "\n",
       "    .dataframe tbody tr th {\n",
       "        vertical-align: top;\n",
       "    }\n",
       "\n",
       "    .dataframe thead th {\n",
       "        text-align: right;\n",
       "    }\n",
       "</style>\n",
       "<table border=\"1\" class=\"dataframe\">\n",
       "  <thead>\n",
       "    <tr style=\"text-align: right;\">\n",
       "      <th></th>\n",
       "      <th>bus0</th>\n",
       "      <th>bus1</th>\n",
       "      <th>geometry</th>\n",
       "    </tr>\n",
       "  </thead>\n",
       "  <tbody>\n",
       "    <tr>\n",
       "      <th>0</th>\n",
       "      <td>01_reg</td>\n",
       "      <td>02_reg</td>\n",
       "      <td>LINESTRING (1.00000 1.00000, 3.00000 1.00000)</td>\n",
       "    </tr>\n",
       "    <tr>\n",
       "      <th>1</th>\n",
       "      <td>01_reg</td>\n",
       "      <td>03_reg</td>\n",
       "      <td>LINESTRING (1.00000 1.00000, 2.00000 2.00000)</td>\n",
       "    </tr>\n",
       "    <tr>\n",
       "      <th>2</th>\n",
       "      <td>01_reg</td>\n",
       "      <td>04_reg</td>\n",
       "      <td>LINESTRING (1.00000 1.00000, 0.50000 0.50000)</td>\n",
       "    </tr>\n",
       "    <tr>\n",
       "      <th>3</th>\n",
       "      <td>02_reg</td>\n",
       "      <td>01_reg</td>\n",
       "      <td>LINESTRING (3.00000 1.00000, 1.00000 1.00000)</td>\n",
       "    </tr>\n",
       "    <tr>\n",
       "      <th>4</th>\n",
       "      <td>02_reg</td>\n",
       "      <td>03_reg</td>\n",
       "      <td>LINESTRING (3.00000 1.00000, 2.00000 2.00000)</td>\n",
       "    </tr>\n",
       "    <tr>\n",
       "      <th>5</th>\n",
       "      <td>02_reg</td>\n",
       "      <td>04_reg</td>\n",
       "      <td>LINESTRING (3.00000 1.00000, 0.50000 0.50000)</td>\n",
       "    </tr>\n",
       "    <tr>\n",
       "      <th>6</th>\n",
       "      <td>03_reg</td>\n",
       "      <td>01_reg</td>\n",
       "      <td>LINESTRING (2.00000 2.00000, 1.00000 1.00000)</td>\n",
       "    </tr>\n",
       "    <tr>\n",
       "      <th>7</th>\n",
       "      <td>03_reg</td>\n",
       "      <td>02_reg</td>\n",
       "      <td>LINESTRING (2.00000 2.00000, 3.00000 1.00000)</td>\n",
       "    </tr>\n",
       "    <tr>\n",
       "      <th>8</th>\n",
       "      <td>03_reg</td>\n",
       "      <td>04_reg</td>\n",
       "      <td>LINESTRING (2.00000 2.00000, 0.50000 0.50000)</td>\n",
       "    </tr>\n",
       "    <tr>\n",
       "      <th>9</th>\n",
       "      <td>04_reg</td>\n",
       "      <td>01_reg</td>\n",
       "      <td>LINESTRING (0.50000 0.50000, 1.00000 1.00000)</td>\n",
       "    </tr>\n",
       "    <tr>\n",
       "      <th>10</th>\n",
       "      <td>04_reg</td>\n",
       "      <td>02_reg</td>\n",
       "      <td>LINESTRING (0.50000 0.50000, 3.00000 1.00000)</td>\n",
       "    </tr>\n",
       "    <tr>\n",
       "      <th>11</th>\n",
       "      <td>04_reg</td>\n",
       "      <td>03_reg</td>\n",
       "      <td>LINESTRING (0.50000 0.50000, 2.00000 2.00000)</td>\n",
       "    </tr>\n",
       "  </tbody>\n",
       "</table>\n",
       "</div>"
      ],
      "text/plain": [
       "      bus0    bus1                                       geometry\n",
       "0   01_reg  02_reg  LINESTRING (1.00000 1.00000, 3.00000 1.00000)\n",
       "1   01_reg  03_reg  LINESTRING (1.00000 1.00000, 2.00000 2.00000)\n",
       "2   01_reg  04_reg  LINESTRING (1.00000 1.00000, 0.50000 0.50000)\n",
       "3   02_reg  01_reg  LINESTRING (3.00000 1.00000, 1.00000 1.00000)\n",
       "4   02_reg  03_reg  LINESTRING (3.00000 1.00000, 2.00000 2.00000)\n",
       "5   02_reg  04_reg  LINESTRING (3.00000 1.00000, 0.50000 0.50000)\n",
       "6   03_reg  01_reg  LINESTRING (2.00000 2.00000, 1.00000 1.00000)\n",
       "7   03_reg  02_reg  LINESTRING (2.00000 2.00000, 3.00000 1.00000)\n",
       "8   03_reg  04_reg  LINESTRING (2.00000 2.00000, 0.50000 0.50000)\n",
       "9   04_reg  01_reg  LINESTRING (0.50000 0.50000, 1.00000 1.00000)\n",
       "10  04_reg  02_reg  LINESTRING (0.50000 0.50000, 3.00000 1.00000)\n",
       "11  04_reg  03_reg  LINESTRING (0.50000 0.50000, 2.00000 2.00000)"
      ]
     },
     "execution_count": 56,
     "metadata": {},
     "output_type": "execute_result"
    }
   ],
   "source": [
    "gdf"
   ]
  },
  {
   "cell_type": "code",
   "execution_count": 21,
   "metadata": {},
   "outputs": [],
   "source": []
  },
  {
   "cell_type": "code",
   "execution_count": 26,
   "metadata": {},
   "outputs": [],
   "source": [
    "spr.create_grid_shapefile(sds,\n",
    "                          file_path=\"C:/Users/s.patil/Documents/code/fine/test/spagat/data/output\",\n",
    "                          files_name=\"AC_lines\",\n",
    "                        spatial_dim=\"space\",\n",
    "                        eligibility_variable=\"2d_locationalEligibility\",\n",
    "                        eligibility_component='c1')"
   ]
  },
  {
   "cell_type": "code",
   "execution_count": 28,
   "metadata": {},
   "outputs": [],
   "source": [
    "dummy_map = gpd.read_file(\"C:/Users/s.patil/Documents/code/fine/test/spagat/data/output/AC_lines.shp\")"
   ]
  },
  {
   "cell_type": "code",
   "execution_count": 30,
   "metadata": {},
   "outputs": [
    {
     "data": {
      "text/html": [
       "<div>\n",
       "<style scoped>\n",
       "    .dataframe tbody tr th:only-of-type {\n",
       "        vertical-align: middle;\n",
       "    }\n",
       "\n",
       "    .dataframe tbody tr th {\n",
       "        vertical-align: top;\n",
       "    }\n",
       "\n",
       "    .dataframe thead th {\n",
       "        text-align: right;\n",
       "    }\n",
       "</style>\n",
       "<table border=\"1\" class=\"dataframe\">\n",
       "  <thead>\n",
       "    <tr style=\"text-align: right;\">\n",
       "      <th></th>\n",
       "      <th>FID</th>\n",
       "      <th>geometry</th>\n",
       "    </tr>\n",
       "  </thead>\n",
       "  <tbody>\n",
       "    <tr>\n",
       "      <th>0</th>\n",
       "      <td>0</td>\n",
       "      <td>LINESTRING (1.00000 1.00000, 3.00000 1.00000)</td>\n",
       "    </tr>\n",
       "    <tr>\n",
       "      <th>1</th>\n",
       "      <td>1</td>\n",
       "      <td>LINESTRING (1.00000 1.00000, 2.00000 2.00000)</td>\n",
       "    </tr>\n",
       "    <tr>\n",
       "      <th>2</th>\n",
       "      <td>2</td>\n",
       "      <td>LINESTRING (1.00000 1.00000, 0.50000 0.50000)</td>\n",
       "    </tr>\n",
       "    <tr>\n",
       "      <th>3</th>\n",
       "      <td>3</td>\n",
       "      <td>LINESTRING (3.00000 1.00000, 1.00000 1.00000)</td>\n",
       "    </tr>\n",
       "    <tr>\n",
       "      <th>4</th>\n",
       "      <td>4</td>\n",
       "      <td>LINESTRING (3.00000 1.00000, 2.00000 2.00000)</td>\n",
       "    </tr>\n",
       "    <tr>\n",
       "      <th>5</th>\n",
       "      <td>5</td>\n",
       "      <td>LINESTRING (3.00000 1.00000, 0.50000 0.50000)</td>\n",
       "    </tr>\n",
       "    <tr>\n",
       "      <th>6</th>\n",
       "      <td>6</td>\n",
       "      <td>LINESTRING (2.00000 2.00000, 1.00000 1.00000)</td>\n",
       "    </tr>\n",
       "    <tr>\n",
       "      <th>7</th>\n",
       "      <td>7</td>\n",
       "      <td>LINESTRING (2.00000 2.00000, 3.00000 1.00000)</td>\n",
       "    </tr>\n",
       "    <tr>\n",
       "      <th>8</th>\n",
       "      <td>8</td>\n",
       "      <td>LINESTRING (2.00000 2.00000, 0.50000 0.50000)</td>\n",
       "    </tr>\n",
       "    <tr>\n",
       "      <th>9</th>\n",
       "      <td>9</td>\n",
       "      <td>LINESTRING (0.50000 0.50000, 1.00000 1.00000)</td>\n",
       "    </tr>\n",
       "    <tr>\n",
       "      <th>10</th>\n",
       "      <td>10</td>\n",
       "      <td>LINESTRING (0.50000 0.50000, 3.00000 1.00000)</td>\n",
       "    </tr>\n",
       "    <tr>\n",
       "      <th>11</th>\n",
       "      <td>11</td>\n",
       "      <td>LINESTRING (0.50000 0.50000, 2.00000 2.00000)</td>\n",
       "    </tr>\n",
       "  </tbody>\n",
       "</table>\n",
       "</div>"
      ],
      "text/plain": [
       "    FID                                       geometry\n",
       "0     0  LINESTRING (1.00000 1.00000, 3.00000 1.00000)\n",
       "1     1  LINESTRING (1.00000 1.00000, 2.00000 2.00000)\n",
       "2     2  LINESTRING (1.00000 1.00000, 0.50000 0.50000)\n",
       "3     3  LINESTRING (3.00000 1.00000, 1.00000 1.00000)\n",
       "4     4  LINESTRING (3.00000 1.00000, 2.00000 2.00000)\n",
       "5     5  LINESTRING (3.00000 1.00000, 0.50000 0.50000)\n",
       "6     6  LINESTRING (2.00000 2.00000, 1.00000 1.00000)\n",
       "7     7  LINESTRING (2.00000 2.00000, 3.00000 1.00000)\n",
       "8     8  LINESTRING (2.00000 2.00000, 0.50000 0.50000)\n",
       "9     9  LINESTRING (0.50000 0.50000, 1.00000 1.00000)\n",
       "10   10  LINESTRING (0.50000 0.50000, 3.00000 1.00000)\n",
       "11   11  LINESTRING (0.50000 0.50000, 2.00000 2.00000)"
      ]
     },
     "execution_count": 30,
     "metadata": {},
     "output_type": "execute_result"
    }
   ],
   "source": [
    "dummy_map"
   ]
  },
  {
   "cell_type": "code",
   "execution_count": 29,
   "metadata": {},
   "outputs": [
    {
     "data": {
      "text/plain": [
       "<AxesSubplot:>"
      ]
     },
     "execution_count": 29,
     "metadata": {},
     "output_type": "execute_result"
    },
    {
     "data": {
      "image/png": "[encoded data removed]",
      "text/plain": [
       "<Figure size 432x288 with 1 Axes>"
      ]
     },
     "metadata": {
      "needs_background": "light"
     },
     "output_type": "display_data"
    }
   ],
   "source": [
    "dummy_map.plot()"
   ]
  },
  {
   "cell_type": "code",
   "execution_count": null,
   "metadata": {},
   "outputs": [],
   "source": []
  }
 ],
 "metadata": {
  "kernelspec": {
   "display_name": "Python 3",
   "language": "python",
   "name": "python3"
  },
  "language_info": {
   "codemirror_mode": {
    "name": "ipython",
    "version": 3
   },
   "file_extension": ".py",
   "mimetype": "text/x-python",
   "name": "python",
   "nbconvert_exporter": "python",
   "pygments_lexer": "ipython3",
   "version": "3.7.8"
  }
 },
 "nbformat": 4,
 "nbformat_minor": 4
}
