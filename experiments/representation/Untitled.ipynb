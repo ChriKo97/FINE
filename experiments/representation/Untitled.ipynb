{
 "cells": [
  {
   "cell_type": "code",
   "execution_count": 1,
   "metadata": {},
   "outputs": [],
   "source": [
    "import os\n",
    "import pathlib\n",
    "\n",
    "import pytest\n",
    "import numpy as np\n",
    "import pandas as pd\n",
    "import math\n",
    "import xarray as xr\n",
    "from shapely.geometry import Point, Polygon\n",
    "from shapely.geometry import LineString\n",
    "import geopandas as gpd\n",
    "import matplotlib.pyplot as plt\n",
    "\n",
    "from shapely.ops import cascaded_union, unary_union\n",
    "\n",
    "import FINE.spagat.representation as spr\n",
    "import FINE.spagat.grouping as spg\n",
    "import FINE.spagat.dataset as spd\n",
    "import FINE.spagat.utils as spu"
   ]
  },
  {
   "cell_type": "code",
   "execution_count": 2,
   "metadata": {},
   "outputs": [],
   "source": [
    "%load_ext autoreload\n",
    "%autoreload 2"
   ]
  },
  {
   "cell_type": "code",
   "execution_count": null,
   "metadata": {},
   "outputs": [],
   "source": [
    "component_list = ['c1','c2']  \n",
    "space_list = ['01_reg','02_reg','03_reg','04_reg']\n",
    "TimeStep_list = ['T0','T1']\n",
    "Period_list = [0]\n",
    "\n",
    "## ts variable data\n",
    "test_ts_data = np.array([ [ [ [5, 5, 5, 5] for i in range(2)] ],\n",
    "\n",
    "                      [ [[np.nan, np.nan, np.nan, np.nan] for i in range(2)] ]\n",
    "\n",
    "                      ])\n",
    "\n",
    "test_ts_DataArray = xr.DataArray(test_ts_data, \n",
    "                              coords=[component_list, Period_list, TimeStep_list, space_list], \n",
    "                              dims=['component', 'Period', 'TimeStep','space'])\n",
    "\n",
    "## 1d variable data\n",
    "test_1d_data = np.array([ [5,  5,  5, 5],\n",
    "                        [np.nan] *4\n",
    "                      ])\n",
    "\n",
    "test_1d_DataArray = xr.DataArray(test_1d_data, \n",
    "                          coords=[component_list, space_list], \n",
    "                          dims=['component', 'space'])\n",
    "\n",
    "## 2d variable data\n",
    "test_2d_data = np.array([ [[ 0,  5,  5, 5],\n",
    "                      [ 5,  0,  5, 5],\n",
    "                      [ 5,  5,  0, 5],\n",
    "                      [ 5,  5,  5, 0]],\n",
    "\n",
    "                    [[np.nan] * 4 for i in range(4)] \n",
    "                    ])\n",
    "\n",
    "test_2d_DataArray = xr.DataArray(test_2d_data, \n",
    "                          coords=[component_list, space_list, space_list], \n",
    "                          dims=['component', 'space', 'space_2'])\n",
    "\n",
    "test_ds = xr.Dataset({'var_ts': test_ts_DataArray, \n",
    "                    'var_1d': test_1d_DataArray,\n",
    "                    'var_2d': test_2d_DataArray})    \n",
    "\n",
    "sds = spd.SpagatDataset()\n",
    "sds.xr_dataset = test_ds            \n",
    "\n",
    "test_geometries = [Polygon([(0,0), (2,0), (2,2), (0,2)]),\n",
    "                Polygon([(2,0), (4,0), (4,2), (2,2)]),\n",
    "                Polygon([(0,0), (4,0), (4,4), (0,4)]),\n",
    "                Polygon([(0,0), (1,0), (1,1), (0,1)])]   \n",
    "\n",
    "sds.add_objects(description ='gpd_geometries',   #NOTE: not sure if it is ok to call another function here\n",
    "            dimension_list =['space'], \n",
    "            object_list = test_geometries)"
   ]
  },
  {
   "cell_type": "code",
   "execution_count": null,
   "metadata": {},
   "outputs": [],
   "source": [
    "sds.xr_dataset = sds.xr_dataset.rename({'var_2d':'2d_locationalEligibility'})"
   ]
  },
  {
   "cell_type": "code",
   "execution_count": null,
   "metadata": {},
   "outputs": [],
   "source": [
    "file_path=\"C:/Users/s.patil/Documents/code/fine/test/spagat/data/output\"\n",
    "files_name = \"AC_lines\",\n",
    "spatial_dim=\"space\"\n",
    "eligibility_variable=\"2d_locationalEligibility\"\n",
    "eligibility_component='c1'"
   ]
  },
  {
   "cell_type": "code",
   "execution_count": null,
   "metadata": {},
   "outputs": [],
   "source": [
    "spr.add_region_centroids(sds)"
   ]
  },
  {
   "cell_type": "code",
   "execution_count": null,
   "metadata": {},
   "outputs": [],
   "source": [
    "buses_0 = []\n",
    "buses_1 = []\n",
    "geoms = []"
   ]
  },
  {
   "cell_type": "code",
   "execution_count": null,
   "metadata": {},
   "outputs": [],
   "source": [
    "if eligibility_component is not None:\n",
    "    eligibility_xr_array = sds.xr_dataset[eligibility_variable].sel(\n",
    "        component=eligibility_component\n",
    "    )\n",
    "else:\n",
    "    eligibility_xr_array = sds.xr_dataset[eligibility_variable]  "
   ]
  },
  {
   "cell_type": "code",
   "execution_count": null,
   "metadata": {},
   "outputs": [],
   "source": [
    "for region_id_1 in sds.xr_dataset[f\"{spatial_dim}\"].values:\n",
    "    for region_id_2 in sds.xr_dataset[f\"{spatial_dim}_2\"].values:\n",
    "        if eligibility_xr_array.sel(space=region_id_1, space_2=region_id_2).values: \n",
    "            buses_0.append(region_id_1)\n",
    "            buses_1.append(region_id_2)\n",
    "\n",
    "            point_1 = sds.xr_dataset.gpd_centroids.sel(space=region_id_1).item(0)\n",
    "            point_2 = sds.xr_dataset.gpd_centroids.sel(space=region_id_2).item(0)\n",
    "            line = LineString([(point_1.x, point_1.y), (point_2.x, point_2.y)])\n",
    "\n",
    "            geoms.append(line)"
   ]
  },
  {
   "cell_type": "code",
   "execution_count": null,
   "metadata": {},
   "outputs": [],
   "source": [
    "# TODO: understand what s_nom and x stand for (look into FINE?) and add or delete them below\n",
    "df = pd.DataFrame(\n",
    "    {\n",
    "        \"bus0\": buses_0,\n",
    "        \"bus1\": buses_1,\n",
    "        #      's_nom': ,\n",
    "        #      'x': ,\n",
    "    }\n",
    ")"
   ]
  },
  {
   "cell_type": "code",
   "execution_count": null,
   "metadata": {},
   "outputs": [],
   "source": [
    "geoms"
   ]
  },
  {
   "cell_type": "code",
   "execution_count": null,
   "metadata": {},
   "outputs": [],
   "source": [
    "df"
   ]
  },
  {
   "cell_type": "code",
   "execution_count": null,
   "metadata": {},
   "outputs": [],
   "source": [
    "gdf = spu.create_gdf(df, geoms)"
   ]
  },
  {
   "cell_type": "code",
   "execution_count": null,
   "metadata": {},
   "outputs": [],
   "source": [
    "gdf"
   ]
  },
  {
   "cell_type": "code",
   "execution_count": null,
   "metadata": {},
   "outputs": [],
   "source": []
  },
  {
   "cell_type": "code",
   "execution_count": null,
   "metadata": {},
   "outputs": [],
   "source": [
    "spr.create_grid_shapefile(sds,\n",
    "                          file_path=\"C:/Users/s.patil/Documents/code/fine/test/spagat/data/output\",\n",
    "                          files_name=\"AC_lines\",\n",
    "                        spatial_dim=\"space\",\n",
    "                        eligibility_variable=\"2d_locationalEligibility\",\n",
    "                        eligibility_component='c1')"
   ]
  },
  {
   "cell_type": "code",
   "execution_count": null,
   "metadata": {},
   "outputs": [],
   "source": [
    "dummy_map = gpd.read_file(\"C:/Users/s.patil/Documents/code/fine/test/spagat/data/output/AC_lines.shp\")"
   ]
  },
  {
   "cell_type": "code",
   "execution_count": null,
   "metadata": {},
   "outputs": [],
   "source": [
    "dummy_map"
   ]
  },
  {
   "cell_type": "code",
   "execution_count": null,
   "metadata": {},
   "outputs": [],
   "source": [
    "dummy_map.plot()"
   ]
  },
  {
   "cell_type": "code",
   "execution_count": null,
   "metadata": {},
   "outputs": [],
   "source": []
  }
 ],
 "metadata": {
  "kernelspec": {
   "display_name": "Python 3",
   "language": "python",
   "name": "python3"
  },
  "language_info": {
   "codemirror_mode": {
    "name": "ipython",
    "version": 3
   },
   "file_extension": ".py",
   "mimetype": "text/x-python",
   "name": "python",
   "nbconvert_exporter": "python",
   "pygments_lexer": "ipython3",
   "version": "3.7.8"
  }
 },
 "nbformat": 4,
 "nbformat_minor": 4
}
