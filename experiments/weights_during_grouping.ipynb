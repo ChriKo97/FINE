{
 "cells": [
  {
   "cell_type": "code",
   "execution_count": 2,
   "metadata": {},
   "outputs": [],
   "source": [
    "import numpy as np"
   ]
  },
  {
   "cell_type": "code",
   "execution_count": 3,
   "metadata": {},
   "outputs": [],
   "source": [
    "expected_dict = {}\n",
    "\n",
    "c1_matrix = 0.1 * np.array([ [0, 1],\n",
    "                            [ 1,  1],\n",
    "                            [ 1,  10] ])\n",
    "\n",
    "c2_matrix = 0.1 * np.array([ [ 0, 2],\n",
    "                            [ 2,  2],\n",
    "                            [ 2,  10]])\n",
    "\n",
    "expected_dict['var1'] = {'c1': c1_matrix, 'c2' : c2_matrix}\n",
    "\n",
    "c3_matrix = 0.1 * np.array([ [ 0,  8],           #NOTE: some of the numbers like 6 and 3 throw assertion error due to difference in resulting floating values\n",
    "                            [ 8,  8],\n",
    "                            [ 8,  10]])\n",
    "\n",
    "c4_matrix = 0.1 * np.array([ [ 0,  9],\n",
    "                            [ 9,  9],\n",
    "                            [ 9,  10]])\n",
    "\n",
    "expected_dict['var2'] = {'c3': c3_matrix, 'c4' : c4_matrix}"
   ]
  },
  {
   "cell_type": "code",
   "execution_count": 4,
   "metadata": {},
   "outputs": [
    {
     "data": {
      "text/plain": [
       "dict_keys(['var1', 'var2'])"
      ]
     },
     "execution_count": 4,
     "metadata": {},
     "output_type": "execute_result"
    }
   ],
   "source": [
    "expected_dict.keys()"
   ]
  },
  {
   "cell_type": "code",
   "execution_count": 6,
   "metadata": {},
   "outputs": [],
   "source": [
    "var_list = ['var1', 'var2']"
   ]
  },
  {
   "cell_type": "code",
   "execution_count": 15,
   "metadata": {},
   "outputs": [
    {
     "name": "stdout",
     "output_type": "stream",
     "text": [
      "dict_keys(['c1', 'c2'])\n",
      "--------\n",
      "[[0.  0.1]\n",
      " [0.1 0.1]\n",
      " [0.1 1. ]]\n",
      "===========================\n",
      "dict_keys(['c3', 'c4'])\n",
      "--------\n",
      "[[0.  0.8]\n",
      " [0.8 0.8]\n",
      " [0.8 1. ]]\n",
      "===========================\n"
     ]
    }
   ],
   "source": [
    "for var in var_list:\n",
    "    var_dict = expected_dict[var]\n",
    "    print(var_dict.keys())\n",
    "    print('--------')\n",
    "    key1 = next(iter(var_dict))\n",
    "    print(var_dict.get(key1))\n",
    "    print('===========================')"
   ]
  },
  {
   "cell_type": "code",
   "execution_count": null,
   "metadata": {},
   "outputs": [],
   "source": []
  }
 ],
 "metadata": {
  "kernelspec": {
   "display_name": "Python 3",
   "language": "python",
   "name": "python3"
  },
  "language_info": {
   "codemirror_mode": {
    "name": "ipython",
    "version": 3
   },
   "file_extension": ".py",
   "mimetype": "text/x-python",
   "name": "python",
   "nbconvert_exporter": "python",
   "pygments_lexer": "ipython3",
   "version": "3.7.8"
  }
 },
 "nbformat": 4,
 "nbformat_minor": 4
}
