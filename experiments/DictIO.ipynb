{
 "cells": [
  {
   "cell_type": "code",
   "execution_count": 1,
   "metadata": {},
   "outputs": [],
   "source": [
    "import pytest\n",
    "import os\n",
    "\n",
    "import numpy as np\n",
    "import xarray as xr\n",
    "import pandas as pd \n",
    "import json\n",
    "\n",
    "import FINE as fn\n",
    "from FINE.IOManagement import dictIO"
   ]
  },
  {
   "cell_type": "code",
   "execution_count": 2,
   "metadata": {},
   "outputs": [],
   "source": [
    "numberOfTimeSteps = 4\n",
    "hoursPerTimeStep = 2190\n",
    "\n",
    "# Create an energy system model instance \n",
    "esM = fn.EnergySystemModel(locations={'ElectrolyzerLocation', 'IndustryLocation'}, \n",
    "                            commodities={'electricity', 'hydrogen'}, \n",
    "                            numberOfTimeSteps=numberOfTimeSteps,\n",
    "                            commodityUnitsDict={'electricity': r'kW$_{el}$', 'hydrogen': r'kW$_{H_{2},LHV}$'},\n",
    "                            hoursPerTimeStep=hoursPerTimeStep, costUnit='1 Euro', \n",
    "                            lengthUnit='km', \n",
    "                            verboseLogLevel=2)\n",
    "\n",
    "### Buy electricity at the electricity market\n",
    "costs = pd.DataFrame([np.array([ 0.05, 0., 0.1, 0.051,]),np.array([0., 0., 0., 0.,])],\n",
    "                        index = ['ElectrolyzerLocation', 'IndustryLocation']).T\n",
    "revenues = pd.DataFrame([np.array([ 0., 0.01, 0., 0.,]),np.array([0., 0., 0., 0.,])],\n",
    "                        index = ['ElectrolyzerLocation', 'IndustryLocation']).T\n",
    "maxpurchase = pd.DataFrame([np.array([1e6, 1e6, 1e6, 1e6,]),np.array([0., 0., 0., 0.,])],\n",
    "                        index = ['ElectrolyzerLocation', 'IndustryLocation']).T * hoursPerTimeStep\n",
    "esM.add(fn.Source(esM=esM, name='Electricity market', commodity='electricity', \n",
    "                    hasCapacityVariable=False, operationRateMax = maxpurchase,\n",
    "                    commodityCostTimeSeries = costs,  \n",
    "                    commodityRevenueTimeSeries = revenues,  \n",
    "                    )) # eur/kWh\n",
    "\n",
    "### Electrolyzers\n",
    "esM.add(fn.Conversion(esM=esM, name='Electrolyzers', physicalUnit=r'kW$_{el}$',\n",
    "                      commodityConversionFactors={'electricity':-1, 'hydrogen':0.7},\n",
    "                      hasCapacityVariable=True, \n",
    "                      investPerCapacity=500, # euro/kW\n",
    "                      opexPerCapacity=500*0.025, \n",
    "                      interestRate=0.08,\n",
    "                      economicLifetime=10))\n",
    "\n",
    "### Hydrogen filled somewhere\n",
    "esM.add(fn.Storage(esM=esM, name='Pressure tank', commodity='hydrogen',\n",
    "                   hasCapacityVariable=True, capacityVariableDomain='continuous',\n",
    "                   stateOfChargeMin=0.33, \n",
    "                   investPerCapacity=0.5, # eur/kWh\n",
    "                   interestRate=0.08,\n",
    "                   economicLifetime=30))\n",
    "\n",
    "### Hydrogen pipelines\n",
    "esM.add(fn.Transmission(esM=esM, name='Pipelines', commodity='hydrogen',\n",
    "                        hasCapacityVariable=True,\n",
    "                        investPerCapacity=0.177, \n",
    "                        interestRate=0.08, \n",
    "                        economicLifetime=40))\n",
    "\n",
    "### Industry site\n",
    "demand = pd.DataFrame([np.array([0., 0., 0., 0.,]), np.array([6e3, 6e3, 6e3, 6e3,]),],\n",
    "                index = ['ElectrolyzerLocation', 'IndustryLocation']).T * hoursPerTimeStep\n",
    "esM.add(fn.Sink(esM=esM, name='Industry site', commodity='hydrogen', hasCapacityVariable=False,\n",
    "                operationRateFix = demand,\n",
    "                ))"
   ]
  },
  {
   "cell_type": "code",
   "execution_count": 15,
   "metadata": {},
   "outputs": [],
   "source": [
    "esm_dict, comp_dict = dictIO.exportToDict(esM)\n",
    "# write a new FINE model from it\n",
    "output_esM = dictIO.importFromDict(esm_dict, comp_dict)"
   ]
  },
  {
   "cell_type": "code",
   "execution_count": 14,
   "metadata": {},
   "outputs": [
    {
     "data": {
      "text/plain": [
       "{'ElectrolyzerLocation', 'IndustryLocation'}"
      ]
     },
     "execution_count": 14,
     "metadata": {},
     "output_type": "execute_result"
    }
   ],
   "source": [
    "new_esM.locations"
   ]
  },
  {
   "cell_type": "code",
   "execution_count": 16,
   "metadata": {},
   "outputs": [],
   "source": [
    "expected_locations={'ElectrolyzerLocation', 'IndustryLocation'}\n",
    "assert output_esM.locations == expected_locations"
   ]
  },
  {
   "cell_type": "code",
   "execution_count": 12,
   "metadata": {},
   "outputs": [],
   "source": [
    "expected_Conversion_Electrolyzers_investPerCapacity = pd.Series([500, 500], index=list(expected_locations))"
   ]
  },
  {
   "cell_type": "code",
   "execution_count": 20,
   "metadata": {},
   "outputs": [
    {
     "ename": "TypeError",
     "evalue": "'EnergySystemModel' object is not subscriptable",
     "output_type": "error",
     "traceback": [
      "\u001b[1;31m---------------------------------------------------------------------------\u001b[0m",
      "\u001b[1;31mTypeError\u001b[0m                                 Traceback (most recent call last)",
      "\u001b[1;32m<ipython-input-20-c52d79fb2791>\u001b[0m in \u001b[0;36m<module>\u001b[1;34m\u001b[0m\n\u001b[1;32m----> 1\u001b[1;33m \u001b[0mnew_esM\u001b[0m\u001b[1;33m[\u001b[0m\u001b[0mnew_esM\u001b[0m\u001b[1;33m.\u001b[0m\u001b[0mcomponentNames\u001b[0m \u001b[1;33m==\u001b[0m \u001b[1;34m'Electrolyzers'\u001b[0m\u001b[1;33m]\u001b[0m\u001b[1;33m\u001b[0m\u001b[1;33m\u001b[0m\u001b[0m\n\u001b[0m",
      "\u001b[1;31mTypeError\u001b[0m: 'EnergySystemModel' object is not subscriptable"
     ]
    }
   ],
   "source": []
  },
  {
   "cell_type": "code",
   "execution_count": null,
   "metadata": {},
   "outputs": [],
   "source": []
  }
 ],
 "metadata": {
  "kernelspec": {
   "display_name": "Python 3",
   "language": "python",
   "name": "python3"
  },
  "language_info": {
   "codemirror_mode": {
    "name": "ipython",
    "version": 3
   },
   "file_extension": ".py",
   "mimetype": "text/x-python",
   "name": "python",
   "nbconvert_exporter": "python",
   "pygments_lexer": "ipython3",
   "version": "3.7.8"
  }
 },
 "nbformat": 4,
 "nbformat_minor": 4
}
