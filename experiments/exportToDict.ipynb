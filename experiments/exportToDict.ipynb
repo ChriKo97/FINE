{
 "cells": [
  {
   "cell_type": "code",
   "execution_count": 1,
   "metadata": {},
   "outputs": [],
   "source": [
    "import FINE as fn\n",
    "import FINE.utils as utils\n",
    "import pandas as pd\n",
    "import numpy as np\n",
    "\n",
    "import inspect\n",
    "import json"
   ]
  },
  {
   "cell_type": "code",
   "execution_count": 13,
   "metadata": {},
   "outputs": [],
   "source": [
    "numberOfTimeSteps = 4\n",
    "hoursPerTimeStep = 2190\n",
    "\n",
    "# Create an energy system model instance \n",
    "esM = fn.EnergySystemModel(locations={'ElectrolyzerLocation', 'IndustryLocation'}, \n",
    "                            commodities={'electricity', 'hydrogen'}, \n",
    "                            numberOfTimeSteps=numberOfTimeSteps,\n",
    "                            commodityUnitsDict={'electricity': r'kW$_{el}$', 'hydrogen': r'kW$_{H_{2},LHV}$'},\n",
    "                            hoursPerTimeStep=hoursPerTimeStep, costUnit='1 Euro', \n",
    "                            lengthUnit='km', \n",
    "                            verboseLogLevel=2)\n",
    "\n",
    "### Buy electricity at the electricity market\n",
    "costs = pd.DataFrame([np.array([ 0.05, 0., 0.1, 0.051,]),np.array([0., 0., 0., 0.,])],\n",
    "                        index = ['ElectrolyzerLocation', 'IndustryLocation']).T\n",
    "revenues = pd.DataFrame([np.array([ 0., 0.01, 0., 0.,]),np.array([0., 0., 0., 0.,])],\n",
    "                        index = ['ElectrolyzerLocation', 'IndustryLocation']).T\n",
    "maxpurchase = pd.DataFrame([np.array([1e6, 1e6, 1e6, 1e6,]),np.array([0., 0., 0., 0.,])],\n",
    "                        index = ['ElectrolyzerLocation', 'IndustryLocation']).T * hoursPerTimeStep\n",
    "esM.add(fn.Source(esM=esM, name='Electricity market', commodity='electricity', \n",
    "                    hasCapacityVariable=False, operationRateMax = maxpurchase,\n",
    "                    commodityCostTimeSeries = costs,  \n",
    "                    commodityRevenueTimeSeries = revenues,  \n",
    "                    )) # eur/kWh\n",
    "\n",
    "### Electrolyzers\n",
    "esM.add(fn.Conversion(esM=esM, name='Electrolyzers', physicalUnit=r'kW$_{el}$',\n",
    "                      commodityConversionFactors={'electricity':-1, 'hydrogen':0.7},\n",
    "                      hasCapacityVariable=True, \n",
    "                      investPerCapacity=500, # euro/kW\n",
    "                      opexPerCapacity=500*0.025, \n",
    "                      interestRate=0.08,\n",
    "                      economicLifetime=10))\n",
    "\n",
    "### Hydrogen filled somewhere\n",
    "esM.add(fn.Storage(esM=esM, name='Pressure tank', commodity='hydrogen',\n",
    "                   hasCapacityVariable=True, capacityVariableDomain='continuous',\n",
    "                   stateOfChargeMin=0.33, \n",
    "                   investPerCapacity=0.5, # eur/kWh\n",
    "                   interestRate=0.08,\n",
    "                   economicLifetime=30))\n",
    "\n",
    "### Hydrogen pipelines\n",
    "esM.add(fn.Transmission(esM=esM, name='Pipelines', commodity='hydrogen',\n",
    "                        hasCapacityVariable=True,\n",
    "                        investPerCapacity=0.177, \n",
    "                        interestRate=0.08, \n",
    "                        economicLifetime=40))\n",
    "\n",
    "### Industry site\n",
    "demand = pd.DataFrame([np.array([0., 0., 0., 0.,]), np.array([6e3, 6e3, 6e3, 6e3,]),],\n",
    "                index = ['ElectrolyzerLocation', 'IndustryLocation']).T * hoursPerTimeStep\n",
    "esM.add(fn.Sink(esM=esM, name='Industry site', commodity='hydrogen', hasCapacityVariable=False,\n",
    "                operationRateFix = demand,\n",
    "                ))\n"
   ]
  },
  {
   "cell_type": "code",
   "execution_count": 15,
   "metadata": {},
   "outputs": [
    {
     "data": {
      "text/html": [
       "<div>\n",
       "<style scoped>\n",
       "    .dataframe tbody tr th:only-of-type {\n",
       "        vertical-align: middle;\n",
       "    }\n",
       "\n",
       "    .dataframe tbody tr th {\n",
       "        vertical-align: top;\n",
       "    }\n",
       "\n",
       "    .dataframe thead th {\n",
       "        text-align: right;\n",
       "    }\n",
       "</style>\n",
       "<table border=\"1\" class=\"dataframe\">\n",
       "  <thead>\n",
       "    <tr style=\"text-align: right;\">\n",
       "      <th></th>\n",
       "      <th>ElectrolyzerLocation</th>\n",
       "      <th>IndustryLocation</th>\n",
       "    </tr>\n",
       "  </thead>\n",
       "  <tbody>\n",
       "    <tr>\n",
       "      <th>0</th>\n",
       "      <td>0.0</td>\n",
       "      <td>13140000.0</td>\n",
       "    </tr>\n",
       "    <tr>\n",
       "      <th>1</th>\n",
       "      <td>0.0</td>\n",
       "      <td>13140000.0</td>\n",
       "    </tr>\n",
       "    <tr>\n",
       "      <th>2</th>\n",
       "      <td>0.0</td>\n",
       "      <td>13140000.0</td>\n",
       "    </tr>\n",
       "    <tr>\n",
       "      <th>3</th>\n",
       "      <td>0.0</td>\n",
       "      <td>13140000.0</td>\n",
       "    </tr>\n",
       "  </tbody>\n",
       "</table>\n",
       "</div>"
      ],
      "text/plain": [
       "   ElectrolyzerLocation  IndustryLocation\n",
       "0                   0.0        13140000.0\n",
       "1                   0.0        13140000.0\n",
       "2                   0.0        13140000.0\n",
       "3                   0.0        13140000.0"
      ]
     },
     "execution_count": 15,
     "metadata": {},
     "output_type": "execute_result"
    }
   ],
   "source": [
    "demand"
   ]
  },
  {
   "cell_type": "code",
   "execution_count": 3,
   "metadata": {},
   "outputs": [],
   "source": [
    "# Get all input properties of the esM\n",
    "inputkwargs = inspect.getfullargspec(fn.EnergySystemModel.__init__)"
   ]
  },
  {
   "cell_type": "code",
   "execution_count": 4,
   "metadata": {},
   "outputs": [
    {
     "data": {
      "text/plain": [
       "['self',\n",
       " 'locations',\n",
       " 'commodities',\n",
       " 'commodityUnitsDict',\n",
       " 'numberOfTimeSteps',\n",
       " 'hoursPerTimeStep',\n",
       " 'costUnit',\n",
       " 'lengthUnit',\n",
       " 'verboseLogLevel']"
      ]
     },
     "execution_count": 4,
     "metadata": {},
     "output_type": "execute_result"
    }
   ],
   "source": [
    "inputkwargs.args"
   ]
  },
  {
   "cell_type": "code",
   "execution_count": 5,
   "metadata": {},
   "outputs": [
    {
     "name": "stdout",
     "output_type": "stream",
     "text": [
      "{'ElectrolyzerLocation', 'IndustryLocation'}\n",
      "-----------------------------------------------------------------\n",
      "{'hydrogen', 'electricity'}\n",
      "-----------------------------------------------------------------\n",
      "{'electricity': 'kW$_{el}$', 'hydrogen': 'kW$_{H_{2},LHV}$'}\n",
      "-----------------------------------------------------------------\n",
      "4\n",
      "-----------------------------------------------------------------\n",
      "2190\n",
      "-----------------------------------------------------------------\n",
      "1 Euro\n",
      "-----------------------------------------------------------------\n",
      "km\n",
      "-----------------------------------------------------------------\n",
      "2\n",
      "-----------------------------------------------------------------\n"
     ]
    }
   ],
   "source": [
    "esmDict = {}        \n",
    "# Loop over all props\n",
    "for arg in inputkwargs.args:\n",
    "    if not arg is 'self':\n",
    "        print(getattr(esM,arg))\n",
    "        print('-----------------------------------------------------------------')\n",
    "        esmDict[arg] = getattr(esM,arg)"
   ]
  },
  {
   "cell_type": "code",
   "execution_count": 7,
   "metadata": {},
   "outputs": [
    {
     "data": {
      "text/plain": [
       "{'locations': {'ElectrolyzerLocation', 'IndustryLocation'},\n",
       " 'commodities': {'electricity', 'hydrogen'},\n",
       " 'commodityUnitsDict': {'electricity': 'kW$_{el}$',\n",
       "  'hydrogen': 'kW$_{H_{2},LHV}$'},\n",
       " 'numberOfTimeSteps': 4,\n",
       " 'hoursPerTimeStep': 2190,\n",
       " 'costUnit': '1 Euro',\n",
       " 'lengthUnit': 'km',\n",
       " 'verboseLogLevel': 2}"
      ]
     },
     "execution_count": 7,
     "metadata": {},
     "output_type": "execute_result"
    }
   ],
   "source": [
    "esmDict"
   ]
  },
  {
   "cell_type": "code",
   "execution_count": 8,
   "metadata": {},
   "outputs": [],
   "source": [
    "compDict = {}"
   ]
  },
  {
   "cell_type": "code",
   "execution_count": 9,
   "metadata": {},
   "outputs": [],
   "source": [
    "componentModel = esM.componentModelingDict['SourceSinkModel']"
   ]
  },
  {
   "cell_type": "code",
   "execution_count": 12,
   "metadata": {},
   "outputs": [],
   "source": [
    "getattr(componentModel.componentsDict['Industry site'], 'operationRateFix')"
   ]
  },
  {
   "cell_type": "code",
   "execution_count": null,
   "metadata": {},
   "outputs": [],
   "source": [
    "componentname = 'Electricity market'"
   ]
  },
  {
   "cell_type": "code",
   "execution_count": null,
   "metadata": {},
   "outputs": [],
   "source": [
    "classname = type(componentModel.componentsDict[componentname]).__name__\n",
    "classname"
   ]
  },
  {
   "cell_type": "code",
   "execution_count": null,
   "metadata": {},
   "outputs": [],
   "source": [
    "compDict[classname]"
   ]
  },
  {
   "cell_type": "code",
   "execution_count": null,
   "metadata": {},
   "outputs": [],
   "source": [
    "if not 'Source' in compDict:\n",
    "            compDict[classname] = utils.PowerDict()\n",
    "\n",
    "compDict"
   ]
  },
  {
   "cell_type": "code",
   "execution_count": null,
   "metadata": {},
   "outputs": [],
   "source": [
    "compDict[classname][componentname] = utils.PowerDict()"
   ]
  },
  {
   "cell_type": "code",
   "execution_count": null,
   "metadata": {},
   "outputs": [],
   "source": [
    "compDict"
   ]
  },
  {
   "cell_type": "code",
   "execution_count": null,
   "metadata": {},
   "outputs": [],
   "source": [
    "componentModel.componentsDict"
   ]
  },
  {
   "cell_type": "code",
   "execution_count": null,
   "metadata": {},
   "outputs": [],
   "source": [
    "component = componentModel.componentsDict[componentname]"
   ]
  },
  {
   "cell_type": "code",
   "execution_count": null,
   "metadata": {},
   "outputs": [],
   "source": [
    "component['operationRateMax']"
   ]
  },
  {
   "cell_type": "code",
   "execution_count": null,
   "metadata": {},
   "outputs": [],
   "source": [
    "class_ = getattr(fn, classname)\n",
    "class_"
   ]
  },
  {
   "cell_type": "code",
   "execution_count": null,
   "metadata": {},
   "outputs": [],
   "source": [
    "inputkwargs = inspect.getfullargspec(class_.__init__)\n",
    "inputkwargs"
   ]
  },
  {
   "cell_type": "code",
   "execution_count": null,
   "metadata": {},
   "outputs": [],
   "source": [
    "'operationRateMax'"
   ]
  },
  {
   "cell_type": "code",
   "execution_count": null,
   "metadata": {},
   "outputs": [],
   "source": [
    "compDict[classname][componentname]['operationRateMax'] = getattr(component,'operationRateMax')"
   ]
  },
  {
   "cell_type": "code",
   "execution_count": null,
   "metadata": {},
   "outputs": [],
   "source": [
    "getattr(component,'opexIfBuilt')"
   ]
  },
  {
   "cell_type": "code",
   "execution_count": null,
   "metadata": {},
   "outputs": [],
   "source": [
    "compDict"
   ]
  },
  {
   "cell_type": "code",
   "execution_count": null,
   "metadata": {},
   "outputs": [],
   "source": [
    "for prop in inputkwargs.args:\n",
    "            \n",
    "    if (prop is not 'self') and (prop is not 'esM'):\n",
    "        compDict[classname][componentname][prop] = getattr(component,prop)\n",
    "        print(compDict)"
   ]
  },
  {
   "cell_type": "code",
   "execution_count": null,
   "metadata": {},
   "outputs": [],
   "source": [
    "# Loop over all components\n",
    "for modelname in esM.componentModelingDict.keys():\n",
    "    # Get all component models\n",
    "    componentModel = esM.componentModelingDict[modelname]\n",
    "    \n",
    "    # Loop over all components belonging to the model\n",
    "    for componentname in componentModel.componentsDict:\n",
    "        print(f'componentname is {componentname}')\n",
    "        print('===================================================================')       \n",
    "        \n",
    "\n",
    "        # Get class name of component\n",
    "        classname = type(componentModel.componentsDict[componentname]).__name__\n",
    "        \n",
    "        if not classname in compDict:\n",
    "            compDict[classname] = utils.PowerDict()\n",
    "            \n",
    "        compDict[classname][componentname] = utils.PowerDict()\n",
    "        component = componentModel.componentsDict[componentname]\n",
    "         \n",
    "        \n",
    "        # Get class\n",
    "        class_ = getattr(fn, classname)\n",
    "        \n",
    "        \n",
    "        # Get input arguments of the class\n",
    "        inputkwargs = inspect.getfullargspec(class_.__init__)\n",
    "\n",
    "        # Loop over all input props\n",
    "        for prop in inputkwargs.args:\n",
    "            \n",
    "            if (prop is not 'self') and (prop is not 'esM'):\n",
    "                compDict[classname][componentname][prop] = getattr(component,prop)\n",
    "                "
   ]
  },
  {
   "cell_type": "code",
   "execution_count": null,
   "metadata": {},
   "outputs": [],
   "source": []
  },
  {
   "cell_type": "markdown",
   "metadata": {},
   "source": [
    "# TEST OPTIMIZATION"
   ]
  },
  {
   "cell_type": "code",
   "execution_count": null,
   "metadata": {},
   "outputs": [],
   "source": [
    "# 8. Optimize energy system model\n",
    "\n",
    "esM.cluster(numberOfTypicalPeriods=3)\n",
    "\n",
    "esM.optimize(timeSeriesAggregation=True, solver = 'gurobi')"
   ]
  },
  {
   "cell_type": "code",
   "execution_count": null,
   "metadata": {},
   "outputs": [],
   "source": []
  }
 ],
 "metadata": {
  "kernelspec": {
   "display_name": "Python 3",
   "language": "python",
   "name": "python3"
  },
  "language_info": {
   "codemirror_mode": {
    "name": "ipython",
    "version": 3
   },
   "file_extension": ".py",
   "mimetype": "text/x-python",
   "name": "python",
   "nbconvert_exporter": "python",
   "pygments_lexer": "ipython3",
   "version": "3.7.8"
  }
 },
 "nbformat": 4,
 "nbformat_minor": 4
}
