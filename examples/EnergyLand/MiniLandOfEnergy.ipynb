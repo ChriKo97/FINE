{
 "cells": [
  {
   "cell_type": "code",
   "execution_count": 1,
   "metadata": {},
   "outputs": [],
   "source": [
    "import FINE as fn\n",
    "from getData import getData\n",
    "import pandas as pd\n",
    "import os\n",
    "import copy\n",
    "cwd = os.getcwd()\n",
    "data = getData()\n",
    "\n",
    "\n",
    "%matplotlib inline  \n",
    "%load_ext autoreload\n",
    "%autoreload 2"
   ]
  },
  {
   "cell_type": "code",
   "execution_count": 2,
   "metadata": {},
   "outputs": [],
   "source": [
    "locations = {'EnergyLand_elec'}\n",
    "commodityUnitDict = {'electricity': r'GW$_{el}$'}\n",
    "commodities = {'electricity'}\n",
    "numberOfTimeSteps=8760\n",
    "hoursPerTimeStep=1"
   ]
  },
  {
   "cell_type": "code",
   "execution_count": 3,
   "metadata": {},
   "outputs": [],
   "source": [
    "esM = fn.EnergySystemModel(locations=locations, commodities=commodities, numberOfTimeSteps=8760,\n",
    "                           commodityUnitsDict=commodityUnitDict,\n",
    "                           hoursPerTimeStep=1, costUnit='1e6 Euro', lengthUnit='km', verboseLogLevel=0)"
   ]
  },
  {
   "cell_type": "markdown",
   "metadata": {},
   "source": [
    "# Sources"
   ]
  },
  {
   "cell_type": "code",
   "execution_count": 4,
   "metadata": {},
   "outputs": [],
   "source": [
    "esM.add(fn.Source(esM=esM, name='Wind_Onshore', commodity='electricity', hasCapacityVariable=True,\n",
    "                  operationRateMax=data['Wind_onshore, operationRateMax'],\n",
    "                  capacityMax=data['Wind_onshore, capacityMax'],\n",
    "                  investPerCapacity=1250, opexPerCapacity=1250*0.02, interestRate=0.08,\n",
    "                  economicLifetime=20, technicalLifetime=10))"
   ]
  },
  {
   "cell_type": "markdown",
   "metadata": {},
   "source": [
    "esM.add(fn.Source(esM=esM, name='Wind_Onshore_stock', commodity='electricity', hasCapacityVariable=True,\n",
    "                  operationRateMax=data['Wind_onshore, operationRateMax'],\n",
    "                  capacityFix=100, \n",
    "                  investPerCapacity=1250, opexPerCapacity=1250*0.02, interestRate=0.08,\n",
    "                  economicLifetime=20))"
   ]
  },
  {
   "cell_type": "markdown",
   "metadata": {},
   "source": [
    "esM.add(fn.Source(esM=esM, name='PV', commodity='electricity', hasCapacityVariable=True,\n",
    "                  operationRateMax=data['PV, operationRateMax'],\n",
    "                  capacityMax=data['PV, capacityMax'],\n",
    "                  investPerCapacity=800, opexPerCapacity=800*0.019, interestRate=0.08,\n",
    "                  economicLifetime=20))"
   ]
  },
  {
   "cell_type": "code",
   "execution_count": 5,
   "metadata": {},
   "outputs": [],
   "source": [
    "esM.add(fn.Source(esM=esM, name='el_Import', commodity='electricity', hasCapacityVariable=False,\n",
    "                  operationRateMax=data['el_Import, operationRateMax']))"
   ]
  },
  {
   "cell_type": "markdown",
   "metadata": {},
   "source": [
    "# Storage"
   ]
  },
  {
   "cell_type": "code",
   "execution_count": 6,
   "metadata": {},
   "outputs": [],
   "source": [
    "esM.add(fn.Storage(esM=esM, name='Li-ion batteries', commodity='electricity',\n",
    "                   hasCapacityVariable=True, chargeEfficiency=0.99,\n",
    "                   dischargeEfficiency=0.99, selfDischarge=0.004,\n",
    "                   doPreciseTsaModeling=False,investPerCapacity=120, \n",
    "                   opexPerCapacity=120*0.014, opexPerChargeOperation=0.0001, \n",
    "                   interestRate=0.08, economicLifetime=10))"
   ]
  },
  {
   "cell_type": "markdown",
   "metadata": {},
   "source": [
    "esM.add(fn.Storage(esM=esM, name='Li-ion batteries_stock', commodity='electricity',\n",
    "                   hasCapacityVariable=True, chargeEfficiency=0.99,\n",
    "                   dischargeEfficiency=0.99, selfDischarge=0.004,\n",
    "                   doPreciseTsaModeling=False,investPerCapacity=120, \n",
    "                   opexPerCapacity=120*0.014, opexPerChargeOperation=0.0001, \n",
    "                   interestRate=0.08, economicLifetime=10, capacityFix=0))"
   ]
  },
  {
   "cell_type": "markdown",
   "metadata": {},
   "source": [
    "# Sink"
   ]
  },
  {
   "cell_type": "code",
   "execution_count": 7,
   "metadata": {},
   "outputs": [],
   "source": [
    "eDemand=516\n",
    "esM.add(fn.Sink(esM=esM, name='Electricity demand', commodity='electricity',\n",
    "                hasCapacityVariable=False, operationRateFix=data['Electricity demand, operationRateFix']*eDemand))"
   ]
  },
  {
   "cell_type": "markdown",
   "metadata": {},
   "source": [
    "# Optimization"
   ]
  },
  {
   "cell_type": "code",
   "execution_count": 8,
   "metadata": {},
   "outputs": [
    {
     "data": {
      "text/plain": [
       "{'Wind_Onshore': 'SourceSinkModel',\n",
       " 'el_Import': 'SourceSinkModel',\n",
       " 'Li-ion batteries': 'StorageModel',\n",
       " 'Electricity demand': 'SourceSinkModel'}"
      ]
     },
     "execution_count": 8,
     "metadata": {},
     "output_type": "execute_result"
    }
   ],
   "source": [
    "esM.componentNames"
   ]
  },
  {
   "cell_type": "code",
   "execution_count": 24,
   "metadata": {
    "scrolled": true
   },
   "outputs": [
    {
     "name": "stdout",
     "output_type": "stream",
     "text": [
      "nbOfSteps =  1\n",
      "NumberOfRepresentedYearsPerStep =  10\n",
      "\n",
      "Clustering time series data with 7 typical periods and 24 time steps per period...\n",
      "\t\t(0.5779 sec)\n",
      "\n",
      "Time series aggregation specifications:\n",
      "Number of typical periods:7, number of time steps per periods:24\n",
      "\n",
      "Declaring sets, variables and constraints for SourceSinkModel\n",
      "\tdeclaring sets... \n",
      "\tdeclaring variables... \n",
      "\tdeclaring constraints... \n",
      "\t\t(0.0625 sec)\n",
      "\n",
      "Declaring sets, variables and constraints for StorageModel\n",
      "\tdeclaring sets... \n",
      "\tdeclaring variables... \n",
      "\tdeclaring constraints... \n",
      "\t\t(0.4686 sec)\n",
      "\n",
      "Declaring shared potential constraint...\n",
      "\t\t(0.0000 sec)\n",
      "\n",
      "Declaring commodity balances...\n",
      "\t\t(0.0156 sec)\n",
      "\n",
      "Declaring objective function...\n",
      "\t\t(0.0312 sec)\n",
      "\n",
      "Using license file C:\\Users\\there\\gurobi.lic\n",
      "Academic license - for non-commercial use only\n",
      "Read LP format model from file C:\\Users\\there\\AppData\\Local\\Temp\\tmpsn63nfh5.pyomo.lp\n",
      "Reading time = 0.05 seconds\n",
      "x5652: 11078 rows, 5652 columns, 29626 nonzeros\n",
      "Changed value of parameter QCPDual to 1\n",
      "   Prev: 0  Min: 0  Max: 1  Default: 0\n",
      "Changed value of parameter Threads to 3\n",
      "   Prev: 0  Min: 0  Max: 1024  Default: 0\n",
      "Changed value of parameter logfile to log_2080\n",
      "   Prev:   Default: \n",
      "Gurobi Optimizer version 9.0.0 build v9.0.0rc2 (win64)\n",
      "Optimize a model with 11078 rows, 5652 columns and 29626 nonzeros\n",
      "Model fingerprint: 0x6bb78d63\n",
      "Coefficient statistics:\n",
      "  Matrix range     [2e-02, 1e+00]\n",
      "  Objective range  [5e-04, 2e+02]\n",
      "  Bounds range     [6e+02, 6e+02]\n",
      "  RHS range        [7e-01, 6e+02]\n",
      "Presolve removed 7007 rows and 4021 columns\n",
      "Presolve time: 0.02s\n",
      "Presolved: 4071 rows, 1631 columns, 17054 nonzeros\n",
      "\n",
      "Iteration    Objective       Primal Inf.    Dual Inf.      Time\n",
      "       0      handle free variables                          0s\n",
      "     769    1.7467838e+05   0.000000e+00   0.000000e+00      0s\n",
      "\n",
      "Solved in 769 iterations and 0.05 seconds\n",
      "Optimal objective  1.746783772e+05\n",
      "\n",
      "Status: ok\n",
      "Return code: 0\n",
      "Message: Model was solved to optimality (subject to tolerances), and an optimal solution is available.\n",
      "Termination condition: optimal\n",
      "Termination message: Model was solved to optimality (subject to tolerances), and an optimal solution is available.\n",
      "Wall time: 0.046863555908203125\n",
      "Error rc: 0\n",
      "Time: 0.39049768447875977\n",
      "\n",
      "\n",
      "Name: x5652\n",
      "Lower bound: 174678.37722984154\n",
      "Upper bound: 174678.37722984154\n",
      "Number of objectives: 1\n",
      "Number of constraints: 11078\n",
      "Number of variables: 5652\n",
      "Number of binary variables: 0\n",
      "Number of integer variables: 0\n",
      "Number of continuous variables: 5652\n",
      "Number of nonzeros: 29626\n",
      "Sense: minimize\n",
      "\n",
      "Solve time: 0.8435642719268799 sec.\n",
      "\n",
      "Processing optimization output...\n",
      "for SourceSinkModel ...(0.4686sec)\n",
      "for StorageModel ...  (1.4684sec)\n",
      "\t\t(1.9371 sec)\n",
      "\n",
      "\n",
      "Writing output to Excel... \n",
      "\tProcessing SourceSinkModel ...\n",
      "\tProcessing StorageModel ...\n",
      "\tSaving file...\n",
      "Done. (6.6859 sec)\n"
     ]
    },
    {
     "name": "stderr",
     "output_type": "stream",
     "text": [
      "c:\\users\\there\\documents\\programming\\fine\\FINE\\component.py:339: UserWarning: Component identifier Wind_Onshore_stock_2080 already exists. Data will be overwritten.\n",
      "  warnings.warn('Component identifier ' + self.name + ' already exists. Data will be overwritten.')\n",
      "c:\\users\\there\\documents\\programming\\fine\\FINE\\component.py:339: UserWarning: Component identifier Li-ion batteries_stock_2080 already exists. Data will be overwritten.\n",
      "  warnings.warn('Component identifier ' + self.name + ' already exists. Data will be overwritten.')\n"
     ]
    }
   ],
   "source": [
    "esM.optimizeMyopic(startYear=2080, endYear=2090, nbOfSteps=None, nbOfRepresentedYears=None, numberOfTypicalPeriods=7, timeSeriesAggregation=True)"
   ]
  },
  {
   "cell_type": "code",
   "execution_count": null,
   "metadata": {},
   "outputs": [],
   "source": [
    "esM.componentModelingDict['SourceSinkModel'].componentsDict['Wind_Onshore_stock'].capacityFix"
   ]
  },
  {
   "cell_type": "code",
   "execution_count": null,
   "metadata": {},
   "outputs": [],
   "source": [
    "esM.cluster(numberOfTypicalPeriods=7)"
   ]
  },
  {
   "cell_type": "code",
   "execution_count": null,
   "metadata": {},
   "outputs": [],
   "source": [
    "esM.optimize(timeSeriesAggregation=True, solver='gurobi')"
   ]
  },
  {
   "cell_type": "code",
   "execution_count": null,
   "metadata": {},
   "outputs": [],
   "source": [
    "esM.getOptimizationSummary(\"SourceSinkModel\", outputLevel=0)"
   ]
  },
  {
   "cell_type": "code",
   "execution_count": null,
   "metadata": {},
   "outputs": [],
   "source": [
    "esM.getStock(2025)"
   ]
  },
  {
   "cell_type": "code",
   "execution_count": null,
   "metadata": {},
   "outputs": [],
   "source": [
    "esM.componentModelingDict['SourceSinkModel'].componentsDict['Wind_Onshore'].name"
   ]
  },
  {
   "cell_type": "code",
   "execution_count": null,
   "metadata": {},
   "outputs": [],
   "source": [
    "esM.getOptimizationSummary(\"StorageModel\", outputLevel=2)"
   ]
  }
 ],
 "metadata": {
  "kernelspec": {
   "display_name": "Python 3",
   "language": "python",
   "name": "python3"
  },
  "language_info": {
   "codemirror_mode": {
    "name": "ipython",
    "version": 3
   },
   "file_extension": ".py",
   "mimetype": "text/x-python",
   "name": "python",
   "nbconvert_exporter": "python",
   "pygments_lexer": "ipython3",
   "version": "3.6.9"
  }
 },
 "nbformat": 4,
 "nbformat_minor": 2
}
