{
 "cells": [
  {
   "cell_type": "code",
   "execution_count": null,
   "id": "26486d7f",
   "metadata": {},
   "outputs": [],
   "source": [
    "import os\n",
    "import sys\n",
    "\n",
    "import pandas as pd\n",
    "import xarray as xr\n",
    "\n",
    "import FINE as fn\n",
    "import FINE.IOManagement.xarrayIO as xrIO\n",
    "\n",
    "cwd = os.getcwd()\n",
    "\n",
    "%load_ext autoreload\n",
    "%autoreload 2"
   ]
  },
  {
   "cell_type": "markdown",
   "id": "b50d2128",
   "metadata": {},
   "source": [
    "# Workflow for spatial aggregation of an energy system model\n",
    "\n",
    "This example notebook shows how model regions can be merged to obtain fewer regions\n",
    "\n",
    "<img src=\"figures/spatial_aggregation_for_example_notebook.png\" style=\"width: 1000px;\"/>\n",
    "\n",
    "The figure above dipicts the basic idea behind spatial aggregation. The term spatial aggregation refers to grouping \n",
    "and subsequently merging the regions that are similar in some sense (NOTE: Please look into the documentation for \n",
    "different methods to group regions). "
   ]
  },
  {
   "cell_type": "markdown",
   "id": "608870c6",
   "metadata": {},
   "source": [
    "## STEP 1. Set up your ESM instance "
   ]
  },
  {
   "cell_type": "code",
   "execution_count": null,
   "id": "be51b590",
   "metadata": {},
   "outputs": [],
   "source": [
    "from getModel import getModel\n",
    "\n",
    "esM = getModel()"
   ]
  },
  {
   "cell_type": "code",
   "execution_count": null,
   "id": "056aecea",
   "metadata": {},
   "outputs": [],
   "source": [
    "esM.locations"
   ]
  },
  {
   "cell_type": "markdown",
   "id": "76ad6e48",
   "metadata": {},
   "source": [
    "## STEP 2. Spatial Aggregation"
   ]
  },
  {
   "cell_type": "code",
   "execution_count": null,
   "id": "0e16e44a",
   "metadata": {},
   "outputs": [],
   "source": [
    "# The input data to spatial aggregation are esM instance and the shapefile containing model regions' geometries\n",
    "SHAPEFILE_PATH = os.path.join(\n",
    "    cwd,\n",
    "    \"..\",\n",
    "    \"Multi-regional_Energy_System_Workflow/InputData/SpatialData/ShapeFiles/clusteredRegions.shp\",\n",
    ")"
   ]
  },
  {
   "cell_type": "code",
   "execution_count": null,
   "id": "814b5281",
   "metadata": {},
   "outputs": [],
   "source": [
    "# Once the regions are grouped, the data witin each region group needs to be aggregated. Through the aggregation_function_dict\n",
    "# parameter, it is possible to define/change how each variable show be aggregated. Please refer to the documentation for more\n",
    "# information.\n",
    "\n",
    "aggregation_function_dict = {\n",
    "    \"operationRateMax\": (\"weighted mean\", \"capacityMax\"),\n",
    "    \"operationRateFix\": (\"sum\", None),\n",
    "}"
   ]
  },
  {
   "cell_type": "code",
   "execution_count": null,
   "id": "6c1be83c",
   "metadata": {},
   "outputs": [],
   "source": [
    "# You can provide a path to save the results with desired file names. Two files are saved - a shapefile containing\n",
    "# the merged region geometries and a netcdf file containing the aggregated esM instance data.\n",
    "shp_name = \"aggregated_regions\"\n",
    "aggregated_xr_filename = \"aggregated_xr_ds.nc\""
   ]
  },
  {
   "cell_type": "code",
   "execution_count": null,
   "id": "b195b879",
   "metadata": {},
   "outputs": [],
   "source": [
    "# Spatial aggregation\n",
    "aggregated_esM = esM.aggregateSpatially(\n",
    "    shapefile=SHAPEFILE_PATH,\n",
    "    grouping_mode=\"parameter_based\",\n",
    "    n_groups=4,\n",
    "    aggregatedResultsPath=os.path.join(cwd, \"output_data\"),\n",
    "    aggregation_function_dict=aggregation_function_dict,\n",
    "    shp_name=shp_name,\n",
    "    aggregated_xr_filename=aggregated_xr_filename,\n",
    "    solver=\"glpk\",\n",
    ")"
   ]
  },
  {
   "cell_type": "code",
   "execution_count": null,
   "id": "40008854",
   "metadata": {},
   "outputs": [],
   "source": [
    "# Original spatial resolution\n",
    "fig, ax = fn.plotLocations(SHAPEFILE_PATH, plotLocNames=True, indexColumn=\"index\")"
   ]
  },
  {
   "cell_type": "code",
   "execution_count": null,
   "id": "a9048cbb",
   "metadata": {},
   "outputs": [],
   "source": [
    "# Spatial resolution after aggregation\n",
    "AGGREGATED_SHP_PATH = os.path.join(cwd, \"output_data\", f\"{shp_name}.shp\")\n",
    "\n",
    "fig, ax = fn.plotLocations(AGGREGATED_SHP_PATH, plotLocNames=True, indexColumn=\"space\")"
   ]
  },
  {
   "cell_type": "code",
   "execution_count": null,
   "id": "9b41e819",
   "metadata": {},
   "outputs": [],
   "source": [
    "# The locations in the resulting esM instance are now 4.\n",
    "aggregated_esM.locations"
   ]
  },
  {
   "cell_type": "code",
   "execution_count": null,
   "id": "16ceb54d",
   "metadata": {},
   "outputs": [],
   "source": [
    "#  And corresponding data has also been aggregated\n",
    "aggregated_esM.getComponentAttribute(\"Wind (onshore)\", \"operationRateMax\")"
   ]
  },
  {
   "cell_type": "markdown",
   "id": "544c55d8",
   "metadata": {},
   "source": [
    "# Step 3. Temporal Aggregation\n",
    "\n",
    "Although spatial aggregation aids in reducing the computational complexity of optimization, temporal aggregation is still necessary. \n",
    "\n",
    "Spatial aggregation is not here is replace temporal aggregation. They both go hand-in-hand. \n",
    "\n",
    "Imagine performing temporal aggregation on a model with too many regions. You have to reduce the temporal resolution to a large extent. Or you can take too few regions and reduce the temporal resolution to a smaller extent. \n",
    "\n",
    "With spatial and temporal aggregation, you need not compromise on either the temporal or spatial resolution of your model. "
   ]
  },
  {
   "cell_type": "code",
   "execution_count": null,
   "id": "309d5e29",
   "metadata": {},
   "outputs": [],
   "source": [
    "aggregated_esM.aggregateTemporally(numberOfTypicalPeriods=7)"
   ]
  },
  {
   "cell_type": "markdown",
   "id": "15c6afb6",
   "metadata": {},
   "source": [
    "# Step 5. Optimization"
   ]
  },
  {
   "cell_type": "code",
   "execution_count": null,
   "id": "88baa81f",
   "metadata": {},
   "outputs": [],
   "source": [
    "aggregated_esM.optimize(timeSeriesAggregation=True)\n",
    "# The following `optimizationSpecs` are recommended if you use the Gurobi solver.\n",
    "# aggregated_esM.optimize(timeSeriesAggregation=True,\n",
    "#                         optimizationSpecs='OptimalityTol=1e-3 method=2 cuts=0')"
   ]
  }
 ],
 "metadata": {
  "kernelspec": {
   "display_name": "Python 3",
   "language": "python",
   "name": "python3"
  },
  "language_info": {
   "codemirror_mode": {
    "name": "ipython",
    "version": 3
   },
   "file_extension": ".py",
   "mimetype": "text/x-python",
   "name": "python",
   "nbconvert_exporter": "python",
   "pygments_lexer": "ipython3",
   "version": "3.6.13"
  }
 },
 "nbformat": 4,
 "nbformat_minor": 5
}
