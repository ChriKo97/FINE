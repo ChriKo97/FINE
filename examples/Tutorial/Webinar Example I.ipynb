{
 "cells": [
  {
   "cell_type": "code",
   "execution_count": null,
   "metadata": {},
   "outputs": [],
   "source": [
    "import warnings\n",
    "warnings.filterwarnings('ignore') # For better visibility, warnings are turned off in this notebook"
   ]
  },
  {
   "cell_type": "markdown",
   "metadata": {},
   "source": [
    "# FINE Webinar Part I: 2-nodal Electricity Supply System"
   ]
  },
  {
   "cell_type": "markdown",
   "metadata": {},
   "source": [
    "In this application of the FINE framework, an energy supply system, consisting of two-regions, is modeled and optimized.\n",
    "\n",
    "The workflow is structures as follows:\n",
    "-  Required packages are imported\n",
    "-  An energy system model instance is created\n",
    "-  Commodity sources are added to the energy supply system model\n",
    "-  Commodity conversion components are added to the energy supply system model\n",
    "-  Commodity storages are added to the energy supply system model\n",
    "-  Commodity transmission components are added to the energy supply system model\n",
    "-  Commodity sinks are added to the energy supply system model\n",
    "-  The energy supply system model is optimized\n",
    "-  Selected optimization results are presented"
   ]
  },
  {
   "cell_type": "markdown",
   "metadata": {},
   "source": [
    "# Import required packages\n",
    "\n",
    "The FINE framework is imported which provides the required classes and functions for modeling the energy system."
   ]
  },
  {
   "cell_type": "code",
   "execution_count": null,
   "metadata": {},
   "outputs": [],
   "source": [
    "import FINE as fn         # Provides objects and functions to model an energy system \n",
    "import pandas as pd       # Used to manage data in tables\n",
    "import shapely as shp     # Used to generate geometric objects\n",
    "import numpy as np        # Used to generate random input data\n",
    "np.random.seed(42)        # Sets a \"seed\" to produce the same random input data in each model run"
   ]
  },
  {
   "cell_type": "code",
   "execution_count": null,
   "metadata": {
    "tags": [
     "nbval-skip"
    ]
   },
   "outputs": [],
   "source": [
    "import geopandas as gpd   # Used to display geo-referenced plots"
   ]
  },
  {
   "cell_type": "markdown",
   "metadata": {},
   "source": [
    "# Model an energy system"
   ]
  },
  {
   "cell_type": "markdown",
   "metadata": {},
   "source": [
    "## Create an energy system model instance \n",
    "\n",
    "The structure of the energy supply system model is given by the considered locations, commodities, the number of time steps as well as the hours per time step.\n",
    "\n",
    "The commodities are specified by a unit (i.e. 'GW_electric', 'GW_naturalGas_lowerHeatingValue', 'Mio. t CO2/h') which can be given as an energy or mass unit per hour. Furthermore, the cost unit and length unit are specified."
   ]
  },
  {
   "cell_type": "code",
   "execution_count": null,
   "metadata": {
    "code_folding": []
   },
   "outputs": [],
   "source": [
    "# Input parameters\n",
    "locations = {'regionN', 'regionS'}\n",
    "commodityUnitDict = {'electricity': r'GW$_{el}$', 'naturalGas': r'GW$_{CH_{4},LHV}$',\n",
    "                     'CO2': r'Mio. t$_{CO_2}$/h'}\n",
    "commodities = {'electricity', 'naturalGas', 'CO2'}\n",
    "numberOfTimeSteps, hoursPerTimeStep = 8760, 1\n",
    "costUnit, lengthUnit = '1e6 Euro', 'km'\n",
    "\n",
    "# Code\n",
    "esM = fn.EnergySystemModel(locations=locations, commodities=commodities,\n",
    "    numberOfTimeSteps=numberOfTimeSteps, commodityUnitsDict=commodityUnitDict,\n",
    "    hoursPerTimeStep=hoursPerTimeStep, costUnit=costUnit, lengthUnit=lengthUnit, verboseLogLevel=0)"
   ]
  },
  {
   "cell_type": "markdown",
   "metadata": {},
   "source": [
    "## Add source components\n",
    "\n",
    "Source components generate commodities across the energy system's virtual boundaries."
   ]
  },
  {
   "cell_type": "code",
   "execution_count": null,
   "metadata": {
    "scrolled": true
   },
   "outputs": [],
   "source": [
    "# Input parameters\n",
    "name, commodity ='Wind turbines', 'electricity'\n",
    "hasCapacityVariable = True\n",
    "operationRateMax = pd.DataFrame([[np.random.beta(a=2,b=7.5),np.random.beta(a=2,b=9)]\n",
    "                                  for t in range(8760)],\n",
    "                                index=range(8760), columns=['regionN', 'regionS']).round(6)\n",
    "capacityMax = pd.Series([400, 200], index=['regionN', 'regionS'])\n",
    "investPerCapacity, opexPerCapacity = 1200, 1200*0.02\n",
    "interestRate, economicLifetime = 0.08, 20\n",
    "\n",
    "# If data should be read from an excel file:\n",
    "writer = pd.ExcelWriter('windTurbineProfile.xlsx') # writes data to an excel file\n",
    "operationRateMax.to_excel(writer)                  # (not required if excel file\n",
    "writer.save()                                      #  already exists)\n",
    "operationRateMax = pd.read_excel('windTurbineProfile.xlsx', index_col=0) # reads an excel file located in \n",
    "                                                            # the current working directory\n",
    "    \n",
    "# Code\n",
    "esM.add(fn.Source(esM=esM, name=name, commodity=commodity, hasCapacityVariable=hasCapacityVariable,\n",
    "    operationRateMax=operationRateMax, capacityMax=capacityMax, investPerCapacity=investPerCapacity,\n",
    "    opexPerCapacity=opexPerCapacity, interestRate=interestRate, economicLifetime=economicLifetime))"
   ]
  },
  {
   "cell_type": "code",
   "execution_count": null,
   "metadata": {
    "scrolled": true
   },
   "outputs": [],
   "source": [
    "# Input parameters\n",
    "name, commodity ='PV', 'electricity'\n",
    "hasCapacityVariable = True\n",
    "dailyProfileSimple = [0,0,0,0,0,0,0,0.05,0.15,0.2,0.4,0.8,0.7,0.4,0.2,0.15,0.05,0,0,0,0,0,0,0]\n",
    "operationRateMax = pd.DataFrame([[u,u] for day in range(365) for u in dailyProfileSimple],\n",
    "                                index=range(8760), columns=['regionN', 'regionS'])\n",
    "capacityMax = pd.Series([100, 100], index=['regionN', 'regionS'])\n",
    "investPerCapacity, opexPerCapacity = 800, 800*0.02\n",
    "interestRate, economicLifetime = 0.08, 25\n",
    "\n",
    "# If data should be read from an excel file:\n",
    "writer = pd.ExcelWriter('PV_Profile.xlsx') # writes data to an excel file\n",
    "operationRateMax.to_excel(writer)                  # (not required if excel file\n",
    "writer.save()                                      #  already exists)\n",
    "operationRateMax = pd.read_excel('PV_Profile.xlsx', index_col=0) # reads an excel file located in \n",
    "                                                            # the current working directory\n",
    "\n",
    "# Code\n",
    "esM.add(fn.Source(esM=esM, name=name, commodity=commodity, hasCapacityVariable=hasCapacityVariable,\n",
    "    operationRateMax=operationRateMax, capacityMax=capacityMax, investPerCapacity=investPerCapacity,\n",
    "    opexPerCapacity=opexPerCapacity, interestRate=interestRate, economicLifetime=economicLifetime))"
   ]
  },
  {
   "cell_type": "code",
   "execution_count": null,
   "metadata": {},
   "outputs": [],
   "source": [
    "# Input parameters\n",
    "name, commodity ='Natural gas import', 'naturalGas'\n",
    "hasCapacityVariable = False\n",
    "commodityCost = 0.03\n",
    "\n",
    "# Code\n",
    "esM.add(fn.Source(esM=esM, name=name, commodity=commodity, hasCapacityVariable=hasCapacityVariable,\n",
    "    commodityCost=commodityCost))"
   ]
  },
  {
   "cell_type": "markdown",
   "metadata": {},
   "source": [
    "##  Add conversion components\n",
    "\n",
    "Conversion components convert m commodities into n other commodities."
   ]
  },
  {
   "cell_type": "code",
   "execution_count": null,
   "metadata": {},
   "outputs": [],
   "source": [
    "# Input parameters\n",
    "name, physicalUnit = 'Gas power plants', r'GW$_{el}$'\n",
    "commodityConversionFactors = {'electricity':1, 'naturalGas':-1/0.63, 'CO2':201*1e-6/0.63}\n",
    "hasCapacityVariable=True\n",
    "investPerCapacity, opexPerCapacity = 650, 650*0.03\n",
    "interestRate, economicLifetime = 0.08, 30\n",
    "\n",
    "# Code\n",
    "esM.add(fn.Conversion(esM=esM, name=name, physicalUnit=physicalUnit,\n",
    "    commodityConversionFactors=commodityConversionFactors, hasCapacityVariable=hasCapacityVariable,\n",
    "    investPerCapacity=investPerCapacity, opexPerCapacity=opexPerCapacity, \n",
    "    interestRate=interestRate, economicLifetime=economicLifetime))"
   ]
  },
  {
   "cell_type": "markdown",
   "metadata": {},
   "source": [
    "## Add storage components\n",
    "\n",
    "Storage components can store commodities across time steps.\n",
    "\n",
    "The self discharge of a storage technology is described in FINE in percent per hour. If the literature value is given in percent per month, e.g. 3%/month, the self discharge per hours is obtained using the equation (1-$\\text{selfDischarge}_\\text{hour})^{30*24\\text{h}} = 1-\\text{selfDischarge}_\\text{month}$."
   ]
  },
  {
   "cell_type": "code",
   "execution_count": null,
   "metadata": {},
   "outputs": [],
   "source": [
    "# Input parameters\n",
    "name, commodity = 'Batteries', 'electricity'\n",
    "hasCapacityVariable=True\n",
    "chargeEfficiency, dischargeEfficiency, selfDischarge = 0.95, 0.95, 1-(1-0.03)**(1/(30*24))\n",
    "chargeRate, dischargeRate = 1, 1\n",
    "investPerCapacity, opexPerCapacity = 150, 150*0.01\n",
    "interestRate, economicLifetime, cyclicLifetime = 0.08, 22, 12000\n",
    "\n",
    "# Code\n",
    "esM.add(fn.Storage(esM=esM, name=name, commodity=commodity, hasCapacityVariable=hasCapacityVariable,\n",
    "    chargeEfficiency=chargeEfficiency, cyclicLifetime=cyclicLifetime,\n",
    "    dischargeEfficiency=dischargeEfficiency, selfDischarge=selfDischarge, chargeRate=chargeRate,\n",
    "    dischargeRate=dischargeRate, investPerCapacity=investPerCapacity,\n",
    "    opexPerCapacity=opexPerCapacity, interestRate=interestRate, economicLifetime=economicLifetime))"
   ]
  },
  {
   "cell_type": "markdown",
   "metadata": {},
   "source": [
    "## Add transmission components\n",
    "\n",
    "Transmission components transmit commodities between regions."
   ]
  },
  {
   "cell_type": "code",
   "execution_count": null,
   "metadata": {},
   "outputs": [],
   "source": [
    "# Input parameters\n",
    "name, commodity ='AC cables', 'electricity'\n",
    "hasCapacityVariable = True\n",
    "capacityFix = pd.DataFrame([[0, 30], [30, 0]], columns=['regionN', 'regionS'],\n",
    "    index=['regionN', 'regionS'])\n",
    "distances = pd.DataFrame([[0, 400], [400, 0]], columns=['regionN', 'regionS'],\n",
    "    index=['regionN', 'regionS'])\n",
    "losses=0.0001\n",
    "\n",
    "# Code\n",
    "esM.add(fn.Transmission(esM=esM, name=name, commodity=commodity,\n",
    "    hasCapacityVariable=hasCapacityVariable, capacityFix=capacityFix,\n",
    "    distances=distances, losses=losses))"
   ]
  },
  {
   "cell_type": "code",
   "execution_count": null,
   "metadata": {},
   "outputs": [],
   "source": [
    "distances"
   ]
  },
  {
   "cell_type": "markdown",
   "metadata": {},
   "source": [
    "## Add sink components\n",
    "\n",
    "Sinks remove commodities across the energy system´s virtual boundaries."
   ]
  },
  {
   "cell_type": "code",
   "execution_count": null,
   "metadata": {
    "code_folding": [],
    "scrolled": true
   },
   "outputs": [],
   "source": [
    "# Input parameters\n",
    "name, commodity ='Electricity demand', 'electricity',\n",
    "hasCapacityVariable = False\n",
    "dailyProfileSimple = [0.6,0.6,0.6,0.6,0.6,0.7,0.9,1,1,1,1,1,1,1,1,1,1,1,1,1,1,1,0.9,0.8]\n",
    "operationRateFix = pd.DataFrame([[(u+0.1*np.random.rand())*25,(u+0.1*np.random.rand())*40]\n",
    "                                 for day in range(365) for u in dailyProfileSimple],\n",
    "                                index=range(8760), columns=['regionN', 'regionS']).round(2)\n",
    "\n",
    "# If data should be read from an excel file:\n",
    "writer = pd.ExcelWriter('demandProfile.xlsx') # writes data to an excel file\n",
    "operationRateFix.to_excel(writer)                  # (not required if excel file\n",
    "writer.save()                                      #  already exists)\n",
    "operationRateFix = pd.read_excel('demandProfile.xlsx', index_col=0) # reads an excel file located in \n",
    "                                                            # the current working directory\n",
    "\n",
    "# Code\n",
    "esM.add(fn.Sink(esM=esM, name=name, commodity=commodity, hasCapacityVariable=hasCapacityVariable,\n",
    "    operationRateFix=operationRateFix))"
   ]
  },
  {
   "cell_type": "code",
   "execution_count": null,
   "metadata": {},
   "outputs": [],
   "source": [
    "# Input parameters\n",
    "name, commodity ='CO2 to enviroment', 'CO2',\n",
    "hasCapacityVariable=False\n",
    "commodityLimitID, yearlyLimit ='CO2 limit', 366*(1-0.8)\n",
    "\n",
    "# Code\n",
    "if yearlyLimit > 0:\n",
    "    esM.add(fn.Sink(esM=esM, name=name, commodity=commodity,\n",
    "        hasCapacityVariable=hasCapacityVariable, commodityLimitID=commodityLimitID,\n",
    "        yearlyLimit=yearlyLimit))"
   ]
  },
  {
   "cell_type": "markdown",
   "metadata": {},
   "source": [
    "# Optimize energy system model"
   ]
  },
  {
   "cell_type": "markdown",
   "metadata": {},
   "source": [
    "All components are now added to the model and the model can be optimized. If the computational complexity of the optimization should be reduced, the time series data of the specified components can be clustered before the optimization and the parameter timeSeriesAggregation is set to True in the optimize call."
   ]
  },
  {
   "cell_type": "code",
   "execution_count": null,
   "metadata": {},
   "outputs": [],
   "source": [
    "# Input parameters\n",
    "numberOfTypicalPeriods=30\n",
    "\n",
    "# Code\n",
    "esM.aggregateTemporally(numberOfTypicalPeriods=numberOfTypicalPeriods)"
   ]
  },
  {
   "cell_type": "code",
   "execution_count": null,
   "metadata": {
    "scrolled": true
   },
   "outputs": [],
   "source": [
    "# Input parameters\n",
    "timeSeriesAggregation=True\n",
    "solver='glpk'\n",
    "\n",
    "# Code\n",
    "esM.optimize(timeSeriesAggregation=timeSeriesAggregation, solver=solver)"
   ]
  },
  {
   "cell_type": "markdown",
   "metadata": {},
   "source": [
    "# Output of selected results\n",
    "\n",
    "For the assessment of the optimization result, several result output functions are available. They can be categorized into output in form of tables, geo-referenced output visualization and the full time series visualization.\n"
   ]
  },
  {
   "cell_type": "markdown",
   "metadata": {},
   "source": [
    "## Create a regional shape file and visualize it\n",
    "\n",
    "Information on the geometrical shape of the investigated regions can either be downloaded from a website (e.g. from https://gadm.org/) or manually created. In this notebook, the geometries are manually created."
   ]
  },
  {
   "cell_type": "code",
   "execution_count": null,
   "metadata": {
    "tags": [
     "nbval-skip"
    ]
   },
   "outputs": [],
   "source": [
    "# Create two circles, representing the two regions, and store their geometries in a shape file\n",
    "shpRegionS = shp.geometry.Point(0.5,0.5).buffer(0.5)\n",
    "shpRegionN = shp.geometry.Point(0.5,1.5).buffer(0.5)\n",
    "regionsGdf = gpd.GeoDataFrame({'geometry':[shpRegionN,shpRegionS],\n",
    "                               'regionName':['regionN','regionS']},\n",
    "                              index=['regionN','regionS'], crs='epsg:3035')\n",
    "regionsGdf.to_file('regions.shp')\n",
    "\n",
    "# Create a line, representing the connection between the two regions, and store its geometry in a\n",
    "# shape file\n",
    "lines = shp.geometry.LineString([(0.5,0.5),(0.5,1.5)])\n",
    "linesGdf = gpd.GeoDataFrame({'geometry':[lines, lines],'loc0':['regionN','regionS'],\n",
    "                             'loc1':['regionS','regionN']},\n",
    "                            index=['regionN_regionS','regionS_regionN'], crs='epsg:3035')\n",
    "linesGdf.to_file('lines.shp')\n",
    "\n",
    "# Visualize the geometric representation of the two regions\n",
    "fig, ax = fn.plotLocations('regions.shp', indexColumn='regionName', plotLocNames=True)"
   ]
  },
  {
   "cell_type": "markdown",
   "metadata": {},
   "source": [
    "## Display optimization summaries\n",
    "\n",
    "For each modeling class, an optimization summary can be stored and displayed. "
   ]
  },
  {
   "cell_type": "code",
   "execution_count": null,
   "metadata": {},
   "outputs": [],
   "source": [
    "srcSnkSummary = esM.getOptimizationSummary(\"SourceSinkModel\", outputLevel=1)\n",
    "display(esM.getOptimizationSummary(\"SourceSinkModel\", outputLevel=2))"
   ]
  },
  {
   "cell_type": "code",
   "execution_count": null,
   "metadata": {},
   "outputs": [],
   "source": [
    "convSummary = esM.getOptimizationSummary(\"ConversionModel\", outputLevel=1)\n",
    "display(esM.getOptimizationSummary(\"ConversionModel\", outputLevel=2))"
   ]
  },
  {
   "cell_type": "code",
   "execution_count": null,
   "metadata": {},
   "outputs": [],
   "source": [
    "storSummary = esM.getOptimizationSummary(\"StorageModel\", outputLevel=1)\n",
    "display(esM.getOptimizationSummary(\"StorageModel\", outputLevel=2))"
   ]
  },
  {
   "cell_type": "code",
   "execution_count": null,
   "metadata": {},
   "outputs": [],
   "source": [
    "transSummary = esM.getOptimizationSummary(\"TransmissionModel\", outputLevel=1)\n",
    "display(esM.getOptimizationSummary(\"TransmissionModel\", outputLevel=2))"
   ]
  },
  {
   "cell_type": "markdown",
   "metadata": {},
   "source": [
    "## Display regional and operational plots\n",
    "\n",
    "Georeferenced plots as well as plots representing time series can be displayed for each component."
   ]
  },
  {
   "cell_type": "markdown",
   "metadata": {},
   "source": [
    "### Wind turbines"
   ]
  },
  {
   "cell_type": "code",
   "execution_count": null,
   "metadata": {
    "tags": [
     "nbval-skip"
    ]
   },
   "outputs": [],
   "source": [
    "# If wind turbines are built, their capacities are displayed in a geo-referenced plot\n",
    "if srcSnkSummary.loc[('Wind turbines','capacity','[GW$_{el}$]')].sum() > 0:\n",
    "    fig, ax = fn.plotLocationalColorMap(esM, 'Wind turbines', 'regions.shp', 'regionName',\n",
    "        perArea=False, zlabel='Capacity\\n[GW]\\n', figsize=(4,4))\n",
    "else:\n",
    "    print('No wind turbines built.')\n",
    "\n",
    "# If wind turbines are built in regionN, their operation is displayed as heatmap\n",
    "if srcSnkSummary.loc[('Wind turbines','capacity','[GW$_{el}$]'),'regionN'] > 0:\n",
    "    fig, ax = fn.plotOperationColorMap(esM, 'Wind turbines', 'regionN', figsize=(5,3), \n",
    "        xlabel='Day of the year', ylabel='Hour of the day', zlabel='Operation\\nin regionN\\n[GW]')\n",
    "\n",
    "# If wind turbines are built in regionS, their operation is displayed as heatmap\n",
    "if srcSnkSummary.loc[('Wind turbines','capacity','[GW$_{el}$]'),'regionS'] > 0:\n",
    "    fig, ax = fn.plotOperationColorMap(esM, 'Wind turbines', 'regionS', figsize=(5,3), \n",
    "        xlabel='Day of the year', ylabel='Hour of the Day', zlabel='Operation\\nin regionS\\n[GW]', orientation='vertical')"
   ]
  },
  {
   "cell_type": "markdown",
   "metadata": {},
   "source": [
    "### PV systems"
   ]
  },
  {
   "cell_type": "code",
   "execution_count": null,
   "metadata": {
    "tags": [
     "nbval-skip"
    ]
   },
   "outputs": [],
   "source": [
    "# If PV systems are built, their capacities are displayed in a geo-referenced plot\n",
    "if srcSnkSummary.loc[('PV','capacity','[GW$_{el}$]')].sum() > 0:\n",
    "    fig, ax = fn.plotLocationalColorMap(esM, 'PV', 'regions.shp', 'regionName', perArea=False,\n",
    "        zlabel='Capacity\\n[GW]\\n', figsize=(4,4))\n",
    "else:\n",
    "    print('No PV systems built.')\n",
    "\n",
    "# If PV systems are built in regionS, their operation is displayed as heatmap\n",
    "if srcSnkSummary.loc[('PV','capacity','[GW$_{el}$]'),'regionN'] > 0:\n",
    "    fig, ax = fn.plotOperationColorMap(esM, 'PV', 'regionN', figsize=(5,3), \n",
    "        xlabel='Day of the year', ylabel='Hour of the day', zlabel='Operation\\nin regionN\\n[GW]')\n",
    "\n",
    "# If PV systems are built in regionS, their operation is displayed as heatmap\n",
    "if srcSnkSummary.loc[('PV','capacity','[GW$_{el}$]'),'regionS'] > 0:\n",
    "    fig, ax = fn.plotOperationColorMap(esM, 'PV', 'regionS', figsize=(5,3), \n",
    "        xlabel='Day of the year', ylabel='Hour of the day', zlabel='Operation\\nin regionS\\n[GW]', orientation='vertical')"
   ]
  },
  {
   "cell_type": "markdown",
   "metadata": {},
   "source": [
    "### Gas power plants"
   ]
  },
  {
   "cell_type": "code",
   "execution_count": null,
   "metadata": {
    "tags": [
     "nbval-skip"
    ]
   },
   "outputs": [],
   "source": [
    "# If CCGT plants are built, their capacities are displayed in a geo-referenced plot\n",
    "if convSummary.loc[('Gas power plants','capacity','[GW$_{el}$]')].sum() > 0:\n",
    "    fig, ax = fn.plotLocationalColorMap(esM, 'Gas power plants', 'regions.shp', 'regionName',\n",
    "        perArea=False, zlabel='Capacity\\n[GW]\\n', figsize=(4,4))\n",
    "else:\n",
    "    print('No CCGT plants built.')\n",
    "\n",
    "# If CCGT plants are built in regionS, their operation is displayed as heatmap\n",
    "if convSummary.loc[('Gas power plants','capacity','[GW$_{el}$]'),'regionN'] > 0:\n",
    "    fig, ax = fn.plotOperationColorMap(esM, 'Gas power plants', 'regionN', figsize=(5,3), \n",
    "        xlabel='Day of the year', ylabel='Hour of the day', zlabel='Operation\\nin regionN\\n[GW]', orientation='vertical')\n",
    "\n",
    "# If CCGT plants are built in regionS, their operation is displayed as heatmap\n",
    "if convSummary.loc[('Gas power plants','capacity','[GW$_{el}$]'),'regionS'] > 0:\n",
    "    fig, ax = fn.plotOperationColorMap(esM, 'Gas power plants', 'regionS', figsize=(5,3), \n",
    "        xlabel='Day of the year', ylabel='Hour of the day', zlabel='Operation\\nin regionS\\n[GW]', orientation='vertical')"
   ]
  },
  {
   "cell_type": "markdown",
   "metadata": {},
   "source": [
    "### Batteries"
   ]
  },
  {
   "cell_type": "code",
   "execution_count": null,
   "metadata": {
    "code_folding": [],
    "tags": [
     "nbval-skip"
    ]
   },
   "outputs": [],
   "source": [
    "# If batteries are built, their capacities are displayed in a geo-referenced plot\n",
    "if storSummary.loc[('Batteries','capacity','[GW$_{el}$*h]')].sum() > 0:\n",
    "    fig, ax = fn.plotLocationalColorMap(esM, 'Batteries', 'regions.shp', 'regionName',\n",
    "        perArea=False, zlabel='Capacity\\n[GWh]\\n', figsize=(4,4))\n",
    "else:\n",
    "    print('No batteries built.')\n",
    "    \n",
    "# If batteries are built in regionS, their storage inventory is displayed as heatmap\n",
    "if storSummary.loc[('Batteries','capacity','[GW$_{el}$*h]'),'regionN'] > 0:\n",
    "    fig, ax = fn.plotOperationColorMap(esM, 'Batteries', 'regionN', figsize=(5,3),\n",
    "        xlabel='Day of the year', ylabel='Hour of the day',\n",
    "        zlabel='State of charge\\nin regionN\\n[GW]',\n",
    "        variableName='stateOfChargeOperationVariablesOptimum', orientation='vertical')\n",
    "\n",
    "# If batteries are built in regionS, their storage inventory is displayed as heatmap\n",
    "if storSummary.loc[('Batteries','capacity','[GW$_{el}$*h]'),'regionS'] > 0:\n",
    "    fig, ax = fn.plotOperationColorMap(esM, 'Batteries', 'regionS', figsize=(5,3),\n",
    "        xlabel='Day of the year', ylabel='Hour of the day',\n",
    "        zlabel='State of charge\\nin regionS\\n[GW]',\n",
    "        variableName='stateOfChargeOperationVariablesOptimum', orientation='vertical')"
   ]
  },
  {
   "cell_type": "markdown",
   "metadata": {},
   "source": [
    "### AC cables"
   ]
  },
  {
   "cell_type": "code",
   "execution_count": null,
   "metadata": {
    "tags": [
     "nbval-skip"
    ]
   },
   "outputs": [],
   "source": [
    "# The built AC cable capacities are displayed\n",
    "fig, ax = fn.plotLocations('regions.shp', indexColumn='regionName')   \n",
    "fig, ax = fn.plotTransmission(esM, 'AC cables', 'lines.shp', loc0='loc0', loc1='loc1',\n",
    "    fig=fig, ax=ax, cbHeight=0.4)"
   ]
  },
  {
   "cell_type": "markdown",
   "metadata": {},
   "source": [
    "### Electricity demand"
   ]
  },
  {
   "cell_type": "code",
   "execution_count": null,
   "metadata": {},
   "outputs": [],
   "source": [
    "# The electricity demand time series in regionN is displayed\n",
    "fig, ax = fn.plotOperationColorMap(esM, 'Electricity demand', 'regionN', figsize=(5,3), \n",
    "    xlabel='Day of the year', ylabel='Hour of the day', zlabel='Demand\\nin regionN\\n[GW]', orientation='vertical')\n",
    "\n",
    "# The electricity demand time series in regionS is displayed\n",
    "fig, ax = fn.plotOperationColorMap(esM, 'Electricity demand', 'regionS', figsize=(5,3), \n",
    "    xlabel='Day of the year', ylabel='Hour of the day', zlabel='Demand\\nin regionS\\n[GW]', orientation='vertical')"
   ]
  },
  {
   "cell_type": "code",
   "execution_count": null,
   "metadata": {},
   "outputs": [],
   "source": []
  }
 ],
 "metadata": {
  "jupytext": {
   "encoding": "# -*- coding: utf-8 -*-",
   "formats": "ipynb,py:percent"
  },
  "kernelspec": {
   "display_name": "Python 3",
   "language": "python",
   "name": "python3"
  },
  "language_info": {
   "codemirror_mode": {
    "name": "ipython",
    "version": 3
   },
   "file_extension": ".py",
   "mimetype": "text/x-python",
   "name": "python",
   "nbconvert_exporter": "python",
   "pygments_lexer": "ipython3",
   "version": "3.7.8"
  },
  "toc": {
   "base_numbering": 1,
   "nav_menu": {
    "height": "431px",
    "width": "510px"
   },
   "number_sections": true,
   "sideBar": true,
   "skip_h1_title": false,
   "title_cell": "Table of Contents",
   "title_sidebar": "Contents",
   "toc_cell": false,
   "toc_position": {
    "height": "calc(100% - 180px)",
    "left": "10px",
    "top": "150px",
    "width": "399px"
   },
   "toc_section_display": true,
   "toc_window_display": true
  }
 },
 "nbformat": 4,
 "nbformat_minor": 4
}
