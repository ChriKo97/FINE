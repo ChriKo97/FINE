{
 "cells": [
  {
   "cell_type": "code",
   "execution_count": 1,
   "metadata": {},
   "outputs": [],
   "source": [
    "%load_ext autoreload\n",
    "%autoreload 2"
   ]
  },
  {
   "cell_type": "code",
   "execution_count": 3,
   "metadata": {},
   "outputs": [
    {
     "name": "stderr",
     "output_type": "stream",
     "text": [
      " C:\\Users\\s.patil\\Anaconda3\\envs\\europeanmodel\\lib\\importlib\\_bootstrap.py:219: RuntimeWarning:numpy.ufunc size changed, may indicate binary incompatibility. Expected 192 from C header, got 216 from PyObject\n",
      " C:\\Users\\s.patil\\Anaconda3\\envs\\europeanmodel\\lib\\importlib\\_bootstrap.py:219: RuntimeWarning:numpy.ufunc size changed, may indicate binary incompatibility. Expected 192 from C header, got 216 from PyObject\n"
     ]
    }
   ],
   "source": [
    "import os\n",
    "import geopandas as gpd\n",
    "import pandas as pd\n",
    "import numpy as np\n",
    "import xarray as xr\n",
    "import matplotlib.pyplot as plt\n",
    "import matplotlib.patches as mpatches\n",
    "\n",
    "import FINE.spagat.RE_representation_utils as RE_rep_utils\n",
    "from FINE.spagat.RE_representation import represent_RE_technology, get_one_REtech_per_region"
   ]
  },
  {
   "cell_type": "markdown",
   "metadata": {},
   "source": [
    "## Import data and shapefiles "
   ]
  },
  {
   "cell_type": "code",
   "execution_count": 4,
   "metadata": {},
   "outputs": [],
   "source": [
    "shapefile = f'InputData/Shapefiles/CZE.shp'\n",
    "\n",
    "GRIDDED_WIND_DATA_PATH = f'InputData/CZE_wind.nc4'\n",
    "GRIDDED_PV_DATA_PATH = f'InputData/CZE_pv.nc4'"
   ]
  },
  {
   "cell_type": "code",
   "execution_count": 5,
   "metadata": {},
   "outputs": [
    {
     "name": "stderr",
     "output_type": "stream",
     "text": [
      " C:\\Users\\s.patil\\Anaconda3\\envs\\europeanmodel\\lib\\importlib\\_bootstrap.py:219: RuntimeWarning:numpy.ufunc size changed, may indicate binary incompatibility. Expected 192 from C header, got 216 from PyObject\n"
     ]
    }
   ],
   "source": [
    "gridded_wind_ds = xr.open_dataset(GRIDDED_WIND_DATA_PATH)\n",
    "gridded_pv_ds = xr.open_dataset(GRIDDED_PV_DATA_PATH)"
   ]
  },
  {
   "cell_type": "markdown",
   "metadata": {},
   "source": [
    "## Rasterize datasets based on the shapefile"
   ]
  },
  {
   "cell_type": "code",
   "execution_count": 7,
   "metadata": {},
   "outputs": [],
   "source": [
    "rasterized_wind_ds = RE_rep_utils.add_shapes_from_shp(gridded_wind_ds,\n",
    "                                        shapefile, \n",
    "                                        index_col='e-id', \n",
    "                                        geometry_col='geometry',\n",
    "                                        longitude='x', \n",
    "                                        latitude='y')\n",
    "\n",
    "rasterized_pv_ds = RE_rep_utils.add_shapes_from_shp(gridded_pv_ds,\n",
    "                                        shapefile, \n",
    "                                        index_col='e-id', \n",
    "                                        geometry_col='geometry',\n",
    "                                        longitude='x', \n",
    "                                        latitude='y')"
   ]
  },
  {
   "cell_type": "markdown",
   "metadata": {},
   "source": [
    "## Aggregation of time series \n",
    "\n",
    "### 1 wind turbine and PV type per region"
   ]
  },
  {
   "cell_type": "code",
   "execution_count": 8,
   "metadata": {},
   "outputs": [
    {
     "name": "stdout",
     "output_type": "stream",
     "text": [
      "Number of time series in 39_cz: 364\n",
      "Number of time series in 40_cz: 213\n",
      "elapsed time for get_one_REtech_per_region: 0.02 minutes\n",
      "Number of time series in 39_cz: 333\n",
      "Number of time series in 40_cz: 190\n",
      "elapsed time for get_one_REtech_per_region: 0.02 minutes\n"
     ]
    }
   ],
   "source": [
    "aggregated_wind_ds = get_one_REtech_per_region(rasterized_wind_ds)\n",
    "\n",
    "aggregated_pv_ds = get_one_REtech_per_region(rasterized_pv_ds)"
   ]
  },
  {
   "cell_type": "markdown",
   "metadata": {},
   "source": [
    "## Representation of time series \n",
    "\n",
    "### Desired number of wind turbine and PV types per region (Possibilites - 2 to (1 less than the number of time series originally present in the region))"
   ]
  },
  {
   "cell_type": "markdown",
   "metadata": {},
   "source": [
    "#### 5 per region"
   ]
  },
  {
   "cell_type": "code",
   "execution_count": 9,
   "metadata": {},
   "outputs": [
    {
     "name": "stdout",
     "output_type": "stream",
     "text": [
      "Number of time series in 39_cz: 364\n",
      "Number of time series in 40_cz: 213\n",
      "elapsed time for represent_RE_technology: 0.03 minutes\n",
      "Number of time series in 39_cz: 333\n",
      "Number of time series in 40_cz: 190\n",
      "elapsed time for represent_RE_technology: 0.03 minutes\n"
     ]
    }
   ],
   "source": [
    "represented_5_wind_ds = represent_RE_technology(rasterized_RE_ds=rasterized_wind_ds, n_timeSeries_perRegion=5)\n",
    "\n",
    "represented_5_pv_ds = represent_RE_technology(rasterized_RE_ds=rasterized_pv_ds, n_timeSeries_perRegion=5)"
   ]
  },
  {
   "cell_type": "markdown",
   "metadata": {},
   "source": [
    "#### 10 per region"
   ]
  },
  {
   "cell_type": "code",
   "execution_count": 10,
   "metadata": {},
   "outputs": [
    {
     "name": "stdout",
     "output_type": "stream",
     "text": [
      "Number of time series in 39_cz: 364\n",
      "Number of time series in 40_cz: 213\n",
      "elapsed time for represent_RE_technology: 0.03 minutes\n",
      "Number of time series in 39_cz: 333\n",
      "Number of time series in 40_cz: 190\n",
      "elapsed time for represent_RE_technology: 0.03 minutes\n"
     ]
    }
   ],
   "source": [
    "represented_10_wind_ds = represent_RE_technology(rasterized_RE_ds=rasterized_wind_ds, n_timeSeries_perRegion=10)\n",
    "\n",
    "represented_10_pv_ds = represent_RE_technology(rasterized_RE_ds=rasterized_pv_ds, n_timeSeries_perRegion=10)"
   ]
  },
  {
   "cell_type": "markdown",
   "metadata": {},
   "source": [
    "## Plots "
   ]
  },
  {
   "cell_type": "markdown",
   "metadata": {},
   "source": [
    "#### 1. Distribution of represented capacities in all regions  (Violin plot)"
   ]
  },
  {
   "cell_type": "code",
   "execution_count": 14,
   "metadata": {},
   "outputs": [
    {
     "data": {
      "text/plain": [
       "<matplotlib.legend.Legend at 0x1872e159148>"
      ]
     },
     "execution_count": 14,
     "metadata": {},
     "output_type": "execute_result"
    },
    {
     "data": {
      "image/png": "[encoded data removed]",
      "text/plain": [
       "<Figure size 1080x360 with 1 Axes>"
      ]
     },
     "metadata": {
      "needs_background": "light"
     },
     "output_type": "display_data"
    }
   ],
   "source": [
    "fzj_color_list_strong = ['#023d6b', '#ff8c0c', '#df0f44', '#6d268e', '#adbde3','#30a93b', '#ffe900']\n",
    "\n",
    "fig, ax = plt.subplots(figsize=(15,5))\n",
    "\n",
    "# 1 TIME SERIES PER REGION \n",
    "## get data \n",
    "wind_capfac = aggregated_wind_ds['capfac']\n",
    "wind_capacity = aggregated_wind_ds['capacity']\n",
    "\n",
    "pv_capfac = aggregated_pv_ds['capfac']\n",
    "pv_capacity = aggregated_pv_ds['capacity']\n",
    "\n",
    "d_wind = wind_capfac.mean(dim='time').values.flatten() \n",
    "w_wind = wind_capacity.values.flatten()\n",
    "\n",
    "d_pv = pv_capfac.mean(dim='time').values.flatten()\n",
    "w_pv = pv_capacity.values.flatten()\n",
    "\n",
    "n = 1\n",
    "\n",
    "## plot wind data\n",
    "RE_rep_utils.plot_violin_plot(data=d_wind, weights=w_wind, position=n, color=fzj_color_list_strong[0], ax=ax, widths=1)\n",
    "## plot pv data \n",
    "RE_rep_utils.plot_violin_plot(data=d_pv, weights=w_pv, position=n, color=fzj_color_list_strong[1], ax=ax, widths=1)\n",
    "\n",
    "# 5 TIME SERIES PER REGION \n",
    "## get data \n",
    "wind_capfac = represented_5_wind_ds['capfac']\n",
    "wind_capacity = represented_5_wind_ds['capacity']\n",
    "\n",
    "pv_capfac = represented_5_pv_ds['capfac']\n",
    "pv_capacity = represented_5_pv_ds['capacity']\n",
    "\n",
    "d_wind = wind_capfac.mean(dim='time').values.flatten() \n",
    "w_wind = wind_capacity.values.flatten()\n",
    "\n",
    "d_pv = pv_capfac.mean(dim='time').values.flatten()\n",
    "w_pv = pv_capacity.values.flatten()\n",
    "\n",
    "n = 5\n",
    "\n",
    "## plot wind data\n",
    "RE_rep_utils.plot_violin_plot(data=d_wind, weights=w_wind, position=n, color=fzj_color_list_strong[0], ax=ax, widths=1)\n",
    "## plot pv data \n",
    "RE_rep_utils.plot_violin_plot(data=d_pv, weights=w_pv, position=n, color=fzj_color_list_strong[1], ax=ax, widths=1)\n",
    "\n",
    "# 10 TIME SERIES PER REGION \n",
    "\n",
    "wind_capfac = represented_10_wind_ds['capfac']\n",
    "wind_capacity = represented_10_wind_ds['capacity']\n",
    "\n",
    "pv_capfac = represented_10_pv_ds['capfac']\n",
    "pv_capacity = represented_10_pv_ds['capacity']\n",
    "\n",
    "d_wind = wind_capfac.mean(dim='time').values.flatten() \n",
    "w_wind = wind_capacity.values.flatten()\n",
    "\n",
    "d_pv = pv_capfac.mean(dim='time').values.flatten()\n",
    "w_pv = pv_capacity.values.flatten()\n",
    "\n",
    "n = 10\n",
    "\n",
    "## plot wind data\n",
    "RE_rep_utils.plot_violin_plot(data=d_wind, weights=w_wind, position=n, color=fzj_color_list_strong[0], ax=ax, widths=1)\n",
    "## plot pv data \n",
    "RE_rep_utils.plot_violin_plot(data=d_pv, weights=w_pv, position=n, color=fzj_color_list_strong[1], ax=ax, widths=1)\n",
    "\n",
    "y_pos = [1, 5, 10]\n",
    "x_tick_labels = [1, 5, 10]\n",
    "\n",
    "plt.xticks(y_pos , x_tick_labels)\n",
    "plt.ylabel('Mean of capacity factor')\n",
    "plt.xlabel('Number of time series')\n",
    "ax.set_ylim(bottom=0)\n",
    "#custom legend\n",
    "wind_patch = mpatches.Patch(edgecolor='black', facecolor=fzj_color_list_strong[0], alpha = 0.3, label='Wind (Onshore)')\n",
    "pv_patch = mpatches.Patch(edgecolor='black', facecolor=fzj_color_list_strong[1], alpha = 0.3, label='PV')\n",
    "plt.legend(handles=[wind_patch, pv_patch], bbox_to_anchor=(0, 1.02, 1, 0.2), loc=\"lower left\",\n",
    "               mode=\"expand\", borderaxespad=0, ncol=4, prop={\"size\":16})\n",
    "#save figure   \n",
    "#pto.plt_savefig(save_name='Violin_W', path='/home/s-patil/code/spagatti_development/spagat/Representation_analysis/Results/Plots', fig=fig)"
   ]
  },
  {
   "cell_type": "code",
   "execution_count": null,
   "metadata": {},
   "outputs": [],
   "source": []
  }
 ],
 "metadata": {
  "kernelspec": {
   "display_name": "Python 3",
   "language": "python",
   "name": "python3"
  },
  "language_info": {
   "codemirror_mode": {
    "name": "ipython",
    "version": 3
   },
   "file_extension": ".py",
   "mimetype": "text/x-python",
   "name": "python",
   "nbconvert_exporter": "python",
   "pygments_lexer": "ipython3",
   "version": "3.7.8"
  }
 },
 "nbformat": 4,
 "nbformat_minor": 5
}
