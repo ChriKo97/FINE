{
 "cells": [
  {
   "cell_type": "code",
   "execution_count": 1,
   "metadata": {},
   "outputs": [],
   "source": [
    "import warnings\n",
    "warnings.filterwarnings('ignore') # For better visibility, warnings are turned off in this notebook"
   ]
  },
  {
   "cell_type": "markdown",
   "metadata": {},
   "source": [
    "# Industrial Site"
   ]
  },
  {
   "cell_type": "markdown",
   "metadata": {},
   "source": [
    "In this application of the FINE framework, an energy supply system, consisting of two-regions, is modeled and optimized.\n",
    "\n",
    "The workflow is structures as follows:\n",
    "-  Required packages are imported\n",
    "-  An energy system model instance is created\n",
    "-  Commodity sources are added to the energy supply system model\n",
    "-  Commodity conversion components are added to the energy supply system model\n",
    "-  Commodity storages are added to the energy supply system model\n",
    "-  Commodity transmission components are added to the energy supply system model\n",
    "-  Commodity sinks are added to the energy supply system model\n",
    "-  The energy supply system model is optimized\n",
    "-  Selected optimization results are presented"
   ]
  },
  {
   "cell_type": "markdown",
   "metadata": {},
   "source": [
    "# Import required packages\n",
    "\n",
    "The FINE framework is imported which provides the required classes and functions for modeling the energy system."
   ]
  },
  {
   "cell_type": "code",
   "execution_count": 2,
   "metadata": {},
   "outputs": [],
   "source": [
    "import FINE as fn         # Provides objects and functions to model an energy system \n",
    "import pandas as pd       # Used to manage data in tables\n",
    "import geopandas as gpd   # Used to display geo-referenced plots\n",
    "import shapely as shp     # Used to generate geometric objects\n",
    "import numpy as np        # Used to generate random input data\n",
    "\n",
    "%load_ext autoreload\n",
    "%autoreload 2"
   ]
  },
  {
   "cell_type": "markdown",
   "metadata": {},
   "source": [
    "# Model an energy system"
   ]
  },
  {
   "cell_type": "markdown",
   "metadata": {},
   "source": [
    "## Create an energy system model instance \n",
    "\n",
    "The structure of the energy supply system model is given by the considered locations, commodities, the number of time steps as well as the hours per time step.\n",
    "\n",
    "The commodities are specified by a unit (i.e. 'GW_electric', 'GW_naturalGas_lowerHeatingValue', 'Mio. t CO2/h') which can be given as an energy or mass unit per hour. Furthermore, the cost unit and length unit are specified."
   ]
  },
  {
   "cell_type": "code",
   "execution_count": 3,
   "metadata": {},
   "outputs": [],
   "source": [
    "# Input parameters\n",
    "locations = {'industry_0'}\n",
    "commodityUnitDict = {'electricity': r'MW$_{el}$', 'hydrogen': r'MW$_{H_{2},LHV}$'}\n",
    "commodities = {'electricity', 'hydrogen'}\n",
    "numberOfTimeSteps, hoursPerTimeStep = 52560, 1/6 #8760, 1 \n",
    "costUnit, lengthUnit = '1e3 Euro', 'km'\n",
    "\n",
    "# Code\n",
    "esM = fn.EnergySystemModel(locations=locations, commodities=commodities,\n",
    "    numberOfTimeSteps=numberOfTimeSteps, commodityUnitsDict=commodityUnitDict,\n",
    "    hoursPerTimeStep=hoursPerTimeStep, costUnit=costUnit, lengthUnit=lengthUnit, verboseLogLevel=0)"
   ]
  },
  {
   "cell_type": "markdown",
   "metadata": {},
   "source": [
    "## Add source component\n",
    "\n",
    "Source components generate commodities across the energy system's virtual boundaries."
   ]
  },
  {
   "cell_type": "code",
   "execution_count": 4,
   "metadata": {},
   "outputs": [],
   "source": [
    "data = pd.read_excel('generationTimeSeries_e825103.xlsx')\n",
    "operationRateMax = pd.DataFrame(data['e825103_2017_2.3MW_faults9'],index=range(numberOfTimeSteps)) # Dataset with least missing data\n",
    "operationRateMax.columns = ['industry_0']"
   ]
  },
  {
   "cell_type": "code",
   "execution_count": 5,
   "metadata": {},
   "outputs": [],
   "source": [
    "# Input parameters\n",
    "name, commodity ='Wind turbines', 'electricity'\n",
    "hasCapacityVariable = True\n",
    "capacityFix = pd.Series([20], index=['industry_0']) # 10 MW_el = 0.01 GW_el\n",
    "investPerCapacity, opexPerCapacity = 0, 30 # 30 €/kW = 30 1e6€/GW = 30 1e3€/MW\n",
    "interestRate, economicLifetime = 0.08, 20\n",
    "\n",
    "# Code\n",
    "esM.add(fn.Source(esM=esM, name=name, commodity=commodity, hasCapacityVariable=hasCapacityVariable,\n",
    "    operationRateMax=operationRateMax, capacityFix=capacityFix, investPerCapacity=investPerCapacity,\n",
    "    opexPerCapacity=opexPerCapacity, interestRate=interestRate, economicLifetime=economicLifetime))"
   ]
  },
  {
   "cell_type": "code",
   "execution_count": 6,
   "metadata": {},
   "outputs": [
    {
     "data": {
      "text/plain": [
       "industry_0    12107.056522\n",
       "dtype: float64"
      ]
     },
     "execution_count": 6,
     "metadata": {},
     "output_type": "execute_result"
    }
   ],
   "source": [
    "operationRateMax.sum()"
   ]
  },
  {
   "cell_type": "code",
   "execution_count": 7,
   "metadata": {},
   "outputs": [
    {
     "data": {
      "text/plain": [
       "<matplotlib.axes._subplots.AxesSubplot at 0x212843e4cf8>"
      ]
     },
     "execution_count": 7,
     "metadata": {},
     "output_type": "execute_result"
    },
    {
     "data": {
      "image/png": "[encoded data removed]",
      "text/plain": [
       "<Figure size 432x288 with 1 Axes>"
      ]
     },
     "metadata": {
      "needs_background": "light"
     },
     "output_type": "display_data"
    }
   ],
   "source": [
    "(capacityFix*operationRateMax).plot()"
   ]
  },
  {
   "cell_type": "markdown",
   "metadata": {},
   "source": [
    "## Add conversion components"
   ]
  },
  {
   "cell_type": "code",
   "execution_count": 8,
   "metadata": {},
   "outputs": [],
   "source": [
    "esM.add(fn.Conversion(esM=esM, name='PEMEC', physicalUnit=r'MW$_{el}$',\n",
    "                      commodityConversionFactors={'electricity':-1, 'hydrogen':0.67},\n",
    "                      hasCapacityVariable=True, \n",
    "                      investPerCapacity=2300, opexPerCapacity=12.5, interestRate=0.08, # for 2018 CAPEX\n",
    "                      economicLifetime=5))"
   ]
  },
  {
   "cell_type": "code",
   "execution_count": 9,
   "metadata": {},
   "outputs": [],
   "source": [
    "esM.add(fn.Conversion(esM=esM, name='AEC', physicalUnit=r'MW$_{el}$',\n",
    "                      commodityConversionFactors={'electricity':-1, 'hydrogen':0.64},\n",
    "                      hasCapacityVariable=True, \n",
    "                      investPerCapacity=1300, opexPerCapacity=18, interestRate=0.08, # for 2018 CAPEX\n",
    "                      economicLifetime=9))"
   ]
  },
  {
   "cell_type": "markdown",
   "metadata": {},
   "source": [
    "## Add storage components"
   ]
  },
  {
   "cell_type": "code",
   "execution_count": 10,
   "metadata": {},
   "outputs": [],
   "source": [
    "esM.add(fn.Storage(esM=esM, name='Hydrogen tank (gaseous)', commodity='hydrogen',\n",
    "                   hasCapacityVariable=True, capacityVariableDomain='continuous',\n",
    "                   capacityPerPlantUnit=1,\n",
    "                   chargeRate=1, dischargeRate=1, sharedPotentialID=None,\n",
    "                   stateOfChargeMin=0.06, stateOfChargeMax=1,\n",
    "                   investPerCapacity=0.004, opexPerCapacity=0.004*0.02, interestRate=0.08,\n",
    "                   economicLifetime=20))"
   ]
  },
  {
   "cell_type": "markdown",
   "metadata": {},
   "source": [
    "### Industrial hydrogen demand"
   ]
  },
  {
   "cell_type": "code",
   "execution_count": 11,
   "metadata": {},
   "outputs": [],
   "source": [
    "operationRateFix = pd.DataFrame(2*np.ones(52560)*(1/6), columns=['industry_0']) # constant hydrogen demand of 2 MW_GH2: ATTN\n",
    "esM.add(fn.Sink(esM=esM, name='Hydrogen demand', commodity='hydrogen', hasCapacityVariable=False,\n",
    "                operationRateFix=operationRateFix))"
   ]
  },
  {
   "cell_type": "code",
   "execution_count": 12,
   "metadata": {},
   "outputs": [
    {
     "data": {
      "text/plain": [
       "industry_0    17.52\n",
       "dtype: float64"
      ]
     },
     "execution_count": 12,
     "metadata": {},
     "output_type": "execute_result"
    }
   ],
   "source": [
    "operationRateFix.sum()/1e3"
   ]
  },
  {
   "cell_type": "markdown",
   "metadata": {},
   "source": [
    "# Optimize energy system model"
   ]
  },
  {
   "cell_type": "markdown",
   "metadata": {},
   "source": [
    "All components are now added to the model and the model can be optimized. If the computational complexity of the optimization should be reduced, the time series data of the specified components can be clustered before the optimization and the parameter timeSeriesAggregation is set to True in the optimize call."
   ]
  },
  {
   "cell_type": "code",
   "execution_count": 13,
   "metadata": {
    "scrolled": true
   },
   "outputs": [
    {
     "name": "stdout",
     "output_type": "stream",
     "text": [
      "\n",
      "Clustering time series data with 30 typical periods and 144 time steps per period...\n",
      "\t\t(1.2653 sec)\n",
      "\n"
     ]
    }
   ],
   "source": [
    "# Input parameters\n",
    "numberOfTypicalPeriods=30\n",
    "numberOfTimeStepsPerPeriod=24*6\n",
    "\n",
    "# Code\n",
    "esM.cluster(numberOfTypicalPeriods=numberOfTypicalPeriods,numberOfTimeStepsPerPeriod=numberOfTimeStepsPerPeriod)"
   ]
  },
  {
   "cell_type": "code",
   "execution_count": 14,
   "metadata": {},
   "outputs": [
    {
     "name": "stdout",
     "output_type": "stream",
     "text": [
      "Time series aggregation specifications:\n",
      "Number of typical periods:30, number of time steps per periods:144\n",
      "\n",
      "Declaring sets, variables and constraints for SourceSinkModel\n",
      "\tdeclaring sets... \n",
      "\tdeclaring variables... \n",
      "\tdeclaring constraints... \n",
      "\t\t(1.2497 sec)\n",
      "\n",
      "Declaring sets, variables and constraints for ConversionModel\n",
      "\tdeclaring sets... \n",
      "\tdeclaring variables... \n",
      "\tdeclaring constraints... \n",
      "\t\t(0.2187 sec)\n",
      "\n",
      "Declaring sets, variables and constraints for StorageModel\n",
      "\tdeclaring sets... \n",
      "\tdeclaring variables... \n",
      "\tdeclaring constraints... \n",
      "\t\t(0.8279 sec)\n",
      "\n",
      "Declaring shared potential constraint...\n",
      "\t\t(0.0000 sec)\n",
      "\n",
      "Declaring commodity balances...\n",
      "\t\t(0.3906 sec)\n",
      "\n",
      "Declaring objective function...\n",
      "\t\t(0.2030 sec)\n",
      "\n",
      "Using license file C:\\Users\\LaraWelder\\gurobi.lic\n",
      "Academic license - for non-commercial use only\n",
      "Read LP format model from file C:\\Users\\LARAWE~1\\AppData\\Local\\Temp\\tmp5jns_vvf.pyomo.lp\n",
      "Reading time = 0.30 seconds\n",
      "x30705: 48652 rows, 30705 columns, 119917 nonzeros\n",
      "Changed value of parameter QCPDual to 1\n",
      "   Prev: 0  Min: 0  Max: 1  Default: 0\n",
      "Changed value of parameter Threads to 3\n",
      "   Prev: 0  Min: 0  Max: 1024  Default: 0\n",
      "Parameter logfile unchanged\n",
      "   Value:   Default: \n",
      "Gurobi Optimizer version 9.0.0 build v9.0.0rc2 (win64)\n",
      "Optimize a model with 48652 rows, 30705 columns and 119917 nonzeros\n",
      "Model fingerprint: 0xe92ae462\n",
      "Coefficient statistics:\n",
      "  Matrix range     [7e-05, 1e+00]\n",
      "  Objective range  [5e-04, 6e+02]\n",
      "  Bounds range     [0e+00, 0e+00]\n",
      "  RHS range        [3e-01, 2e+01]\n",
      "\n",
      "Concurrent LP optimizer: dual simplex and barrier\n",
      "Showing barrier log only...\n",
      "\n",
      "Presolve removed 14998 rows and 14064 columns\n",
      "Presolve time: 0.14s\n",
      "Presolved: 33654 rows, 16641 columns, 108792 nonzeros\n",
      "\n",
      "Ordering time: 0.02s\n",
      "\n",
      "Barrier statistics:\n",
      " Dense cols : 71\n",
      " Free vars  : 914\n",
      " AA' NZ     : 1.817e+05\n",
      " Factor NZ  : 4.621e+05 (roughly 24 MBytes of memory)\n",
      " Factor Ops : 1.232e+07 (less than 1 second per iteration)\n",
      " Threads    : 2\n",
      "\n",
      "                  Objective                Residual\n",
      "Iter       Primal          Dual         Primal    Dual     Compl     Time\n",
      "   0   5.08957751e+04  6.00000975e+02  9.40e+01 0.00e+00  1.43e+02     0s\n",
      "   1   6.39665634e+04 -1.97253635e+04  1.89e+01 4.76e+00  5.94e+01     0s\n",
      "   2   5.85706966e+04 -2.53854630e+04  5.33e+00 8.36e-01  1.25e+01     0s\n",
      "   3   4.21022123e+04 -1.37114728e+04  2.64e+00 2.73e-01  4.84e+00     0s\n",
      "   4   3.53515983e+04 -4.04199216e+03  2.05e+00 1.41e-01  2.97e+00     0s\n",
      "   5   3.04176324e+04  2.87116740e+03  1.70e+00 9.60e-02  2.23e+00     0s\n",
      "   6   2.34852281e+04  1.25901511e+04  1.26e+00 4.52e-02  1.33e+00     0s\n",
      "   7   1.67882738e+04  1.43601731e+04  8.52e-01 2.93e-02  8.76e-01     1s\n",
      "   8   1.56180442e+04  1.51864490e+04  7.77e-01 2.50e-02  7.82e-01     1s\n",
      "   9   1.44941144e+04  1.55541035e+04  7.05e-01 2.29e-02  7.19e-01     1s\n",
      "  10   1.29358337e+04  1.59963269e+04  6.21e-01 1.85e-02  6.09e-01     1s\n",
      "  11   8.38224737e+03  1.45871292e+04  3.57e-01 1.46e-02  4.43e-01     1s\n",
      "  12   6.28330317e+03  1.10833019e+04  2.20e-01 8.72e-03  2.69e-01     1s\n",
      "  13   6.15004192e+03  1.04363927e+04  2.10e-01 7.96e-03  2.50e-01     1s\n",
      "  14   5.60793883e+03  9.92764049e+03  1.71e-01 7.37e-03  2.27e-01     1s\n",
      "  15   5.06239006e+03  7.64015126e+03  1.40e-01 4.80e-03  1.58e-01     1s\n",
      "  16   4.69922299e+03  7.15858045e+03  1.09e-01 4.28e-03  1.40e-01     1s\n",
      "  17   4.19898590e+03  5.63874318e+03  8.28e-02 2.75e-03  9.59e-02     1s\n",
      "  18   3.81367929e+03  5.25622365e+03  6.67e-02 2.38e-03  8.05e-02     1s\n",
      "  19   3.70033336e+03  4.90921770e+03  6.10e-02 2.03e-03  7.02e-02     1s\n",
      "  20   3.50705187e+03  4.42686191e+03  5.53e-02 1.58e-03  5.70e-02     1s\n",
      "  21   3.22312826e+03  4.17867212e+03  4.66e-02 1.38e-03  4.86e-02     1s\n",
      "  22   3.09016367e+03  3.78113400e+03  4.08e-02 1.05e-03  3.93e-02     1s\n",
      "  23   2.93657231e+03  3.47619111e+03  3.70e-02 8.25e-04  3.24e-02     1s\n",
      "  24   2.74098502e+03  3.37071753e+03  2.93e-02 7.56e-04  2.83e-02     1s\n",
      "  25   2.64510503e+03  3.28407512e+03  2.39e-02 7.03e-04  2.53e-02     1s\n",
      "  26   2.44855534e+03  3.10832295e+03  1.56e-02 5.92e-04  2.01e-02     1s\n",
      "  27   2.28656692e+03  2.93277556e+03  1.12e-02 4.93e-04  1.63e-02     1s\n",
      "  28   2.19928121e+03  2.83583332e+03  9.09e-03 4.31e-04  1.43e-02     1s\n",
      "  29   2.17522876e+03  2.75266406e+03  8.54e-03 3.88e-04  1.30e-02     1s\n",
      "  30   2.11914417e+03  2.68888900e+03  7.23e-03 3.58e-04  1.16e-02     1s\n",
      "  31   2.08021581e+03  2.53972951e+03  6.29e-03 2.88e-04  9.56e-03     1s\n",
      "  32   2.03609060e+03  2.50345265e+03  5.16e-03 2.71e-04  8.45e-03     1s\n",
      "  33   2.01196781e+03  2.22732812e+03  4.22e-03 1.47e-04  5.47e-03     1s\n",
      "  34   1.95371420e+03  2.10124432e+03  2.02e-03 9.22e-05  3.22e-03     2s\n",
      "  35   1.91829543e+03  1.99326071e+03  8.36e-04 4.56e-05  1.55e-03     2s\n",
      "  36   1.90195567e+03  1.94522342e+03  3.29e-04 2.45e-05  7.68e-04     2s\n",
      "  37   1.89470496e+03  1.90255817e+03  1.19e-04 5.72e-06  2.31e-04     2s\n",
      "  38   1.89330269e+03  1.89995875e+03  8.04e-05 4.51e-06  1.72e-04     2s\n",
      "  39   1.89087789e+03  1.89083642e+03  1.59e-05 4.69e-07  2.17e-05     2s\n",
      "  40   1.89038144e+03  1.89029127e+03  3.08e-06 6.96e-08  3.36e-06     2s\n",
      "  41   1.89028336e+03  1.89026252e+03  5.38e-07 1.14e-08  5.78e-07     2s\n",
      "  42   1.89026117e+03  1.89026083e+03  8.94e-08 1.31e-09  1.01e-08     2s\n",
      "  43   1.89026094e+03  1.89026094e+03  2.53e-09 2.50e-12  7.49e-12     2s\n",
      "\n",
      "Barrier solved model in 43 iterations and 1.81 seconds\n",
      "Optimal objective 1.89026094e+03\n",
      "\n",
      "Crossover log...\n",
      "\n",
      "       0 DPushes remaining with DInf 2.0915970e-11                 4s\n",
      "\n",
      "    3567 PPushes remaining with PInf 0.0000000e+00                 4s\n",
      "       0 PPushes remaining with PInf 0.0000000e+00                 4s\n",
      "\n",
      "  Push phase complete: Pinf 0.0000000e+00, Dinf 2.0908003e-11      4s\n",
      "\n",
      "Iteration    Objective       Primal Inf.    Dual Inf.      Time\n",
      "    7842    1.8902609e+03   0.000000e+00   0.000000e+00      4s\n",
      "\n",
      "Solved with barrier\n",
      "Solved in 7842 iterations and 3.84 seconds\n",
      "Optimal objective  1.890260944e+03\n",
      "\n",
      "Status: ok\n",
      "Return code: 0\n",
      "Message: Model was solved to optimality (subject to tolerances), and an optimal solution is available.\n",
      "Termination condition: optimal\n",
      "Termination message: Model was solved to optimality (subject to tolerances), and an optimal solution is available.\n",
      "Wall time: 3.842844009399414\n",
      "Error rc: 0\n",
      "Time: 4.90509295463562\n",
      "\n",
      "\n",
      "Name: x30705_copy\n",
      "Lower bound: 1890.2609444190716\n",
      "Upper bound: 1890.2609444190716\n",
      "Number of objectives: 1\n",
      "Number of constraints: 48652\n",
      "Number of variables: 30705\n",
      "Number of binary variables: 0\n",
      "Number of integer variables: 0\n",
      "Number of continuous variables: 30705\n",
      "Number of nonzeros: 119917\n",
      "Sense: minimize\n",
      "\n",
      "Solve time: 7.404539585113525 sec.\n",
      "\n",
      "Processing optimization output...\n",
      "for SourceSinkModel ...(1.1247sec)\n",
      "for ConversionModel ...(1.1091sec)\n",
      "for StorageModel ...  (3.9209sec)\n",
      "\t\t(6.1548 sec)\n",
      "\n"
     ]
    }
   ],
   "source": [
    "# Input parameters\n",
    "timeSeriesAggregation=True\n",
    "solver='gurobi'\n",
    "\n",
    "# Code\n",
    "esM.optimize(timeSeriesAggregation=timeSeriesAggregation, solver=solver)"
   ]
  },
  {
   "cell_type": "markdown",
   "metadata": {},
   "source": [
    "## Display optimization summaries\n",
    "\n",
    "For each modeling class, an optimization summary can be stored and displayed. "
   ]
  },
  {
   "cell_type": "markdown",
   "metadata": {},
   "source": [
    "#### Source and Sink Component"
   ]
  },
  {
   "cell_type": "code",
   "execution_count": 15,
   "metadata": {},
   "outputs": [
    {
     "data": {
      "text/html": [
       "<div>\n",
       "<style scoped>\n",
       "    .dataframe tbody tr th:only-of-type {\n",
       "        vertical-align: middle;\n",
       "    }\n",
       "\n",
       "    .dataframe tbody tr th {\n",
       "        vertical-align: top;\n",
       "    }\n",
       "\n",
       "    .dataframe thead th {\n",
       "        text-align: right;\n",
       "    }\n",
       "</style>\n",
       "<table border=\"1\" class=\"dataframe\">\n",
       "  <thead>\n",
       "    <tr style=\"text-align: right;\">\n",
       "      <th></th>\n",
       "      <th></th>\n",
       "      <th></th>\n",
       "      <th>industry_0</th>\n",
       "    </tr>\n",
       "    <tr>\n",
       "      <th>Component</th>\n",
       "      <th>Property</th>\n",
       "      <th>Unit</th>\n",
       "      <th></th>\n",
       "    </tr>\n",
       "  </thead>\n",
       "  <tbody>\n",
       "    <tr>\n",
       "      <th>Hydrogen demand</th>\n",
       "      <th>operation</th>\n",
       "      <th>[MW$_{H_{2},LHV}$*h/a]</th>\n",
       "      <td>17520</td>\n",
       "    </tr>\n",
       "    <tr>\n",
       "      <th rowspan=\"4\" valign=\"top\">Wind turbines</th>\n",
       "      <th>TAC</th>\n",
       "      <th>[1e3 Euro/a]</th>\n",
       "      <td>600</td>\n",
       "    </tr>\n",
       "    <tr>\n",
       "      <th>capacity</th>\n",
       "      <th>[MW$_{el}$]</th>\n",
       "      <td>20</td>\n",
       "    </tr>\n",
       "    <tr>\n",
       "      <th>operation</th>\n",
       "      <th>[MW$_{el}$*h/a]</th>\n",
       "      <td>27375</td>\n",
       "    </tr>\n",
       "    <tr>\n",
       "      <th>opexCap</th>\n",
       "      <th>[1e3 Euro/a]</th>\n",
       "      <td>600</td>\n",
       "    </tr>\n",
       "  </tbody>\n",
       "</table>\n",
       "</div>"
      ],
      "text/plain": [
       "                                                 industry_0\n",
       "Component       Property  Unit                             \n",
       "Hydrogen demand operation [MW$_{H_{2},LHV}$*h/a]      17520\n",
       "Wind turbines   TAC       [1e3 Euro/a]                  600\n",
       "                capacity  [MW$_{el}$]                    20\n",
       "                operation [MW$_{el}$*h/a]             27375\n",
       "                opexCap   [1e3 Euro/a]                  600"
      ]
     },
     "metadata": {},
     "output_type": "display_data"
    }
   ],
   "source": [
    "srcSnkSummary = esM.getOptimizationSummary(\"SourceSinkModel\", outputLevel=1)\n",
    "display(esM.getOptimizationSummary(\"SourceSinkModel\", outputLevel=2))"
   ]
  },
  {
   "cell_type": "markdown",
   "metadata": {},
   "source": [
    "#### Conversion Components"
   ]
  },
  {
   "cell_type": "code",
   "execution_count": 16,
   "metadata": {},
   "outputs": [
    {
     "data": {
      "text/html": [
       "<div>\n",
       "<style scoped>\n",
       "    .dataframe tbody tr th:only-of-type {\n",
       "        vertical-align: middle;\n",
       "    }\n",
       "\n",
       "    .dataframe tbody tr th {\n",
       "        vertical-align: top;\n",
       "    }\n",
       "\n",
       "    .dataframe thead th {\n",
       "        text-align: right;\n",
       "    }\n",
       "</style>\n",
       "<table border=\"1\" class=\"dataframe\">\n",
       "  <thead>\n",
       "    <tr style=\"text-align: right;\">\n",
       "      <th></th>\n",
       "      <th></th>\n",
       "      <th></th>\n",
       "      <th>industry_0</th>\n",
       "    </tr>\n",
       "    <tr>\n",
       "      <th>Component</th>\n",
       "      <th>Property</th>\n",
       "      <th>Unit</th>\n",
       "      <th></th>\n",
       "    </tr>\n",
       "  </thead>\n",
       "  <tbody>\n",
       "    <tr>\n",
       "      <th rowspan=\"6\" valign=\"top\">AEC</th>\n",
       "      <th>TAC</th>\n",
       "      <th>[1e3 Euro/a]</th>\n",
       "      <td>1289.45</td>\n",
       "    </tr>\n",
       "    <tr>\n",
       "      <th>capacity</th>\n",
       "      <th>[MW$_{el}$]</th>\n",
       "      <td>5.70293</td>\n",
       "    </tr>\n",
       "    <tr>\n",
       "      <th>capexCap</th>\n",
       "      <th>[1e3 Euro/a]</th>\n",
       "      <td>1186.8</td>\n",
       "    </tr>\n",
       "    <tr>\n",
       "      <th>invest</th>\n",
       "      <th>[1e3 Euro]</th>\n",
       "      <td>7413.81</td>\n",
       "    </tr>\n",
       "    <tr>\n",
       "      <th>operation</th>\n",
       "      <th>[MW$_{el}$*h/a]</th>\n",
       "      <td>27375</td>\n",
       "    </tr>\n",
       "    <tr>\n",
       "      <th>opexCap</th>\n",
       "      <th>[1e3 Euro/a]</th>\n",
       "      <td>102.653</td>\n",
       "    </tr>\n",
       "  </tbody>\n",
       "</table>\n",
       "</div>"
      ],
      "text/plain": [
       "                                    industry_0\n",
       "Component Property  Unit                      \n",
       "AEC       TAC       [1e3 Euro/a]       1289.45\n",
       "          capacity  [MW$_{el}$]        5.70293\n",
       "          capexCap  [1e3 Euro/a]        1186.8\n",
       "          invest    [1e3 Euro]         7413.81\n",
       "          operation [MW$_{el}$*h/a]      27375\n",
       "          opexCap   [1e3 Euro/a]       102.653"
      ]
     },
     "metadata": {},
     "output_type": "display_data"
    }
   ],
   "source": [
    "convSummary = esM.getOptimizationSummary(\"ConversionModel\", outputLevel=1)\n",
    "display(esM.getOptimizationSummary(\"ConversionModel\", outputLevel=2))"
   ]
  },
  {
   "cell_type": "markdown",
   "metadata": {},
   "source": [
    "#### Storage Components"
   ]
  },
  {
   "cell_type": "code",
   "execution_count": 17,
   "metadata": {},
   "outputs": [
    {
     "data": {
      "text/html": [
       "<div>\n",
       "<style scoped>\n",
       "    .dataframe tbody tr th:only-of-type {\n",
       "        vertical-align: middle;\n",
       "    }\n",
       "\n",
       "    .dataframe tbody tr th {\n",
       "        vertical-align: top;\n",
       "    }\n",
       "\n",
       "    .dataframe thead th {\n",
       "        text-align: right;\n",
       "    }\n",
       "</style>\n",
       "<table border=\"1\" class=\"dataframe\">\n",
       "  <thead>\n",
       "    <tr style=\"text-align: right;\">\n",
       "      <th></th>\n",
       "      <th></th>\n",
       "      <th></th>\n",
       "      <th>industry_0</th>\n",
       "    </tr>\n",
       "    <tr>\n",
       "      <th>Component</th>\n",
       "      <th>Property</th>\n",
       "      <th>Unit</th>\n",
       "      <th></th>\n",
       "    </tr>\n",
       "  </thead>\n",
       "  <tbody>\n",
       "    <tr>\n",
       "      <th rowspan=\"7\" valign=\"top\">Hydrogen tank (gaseous)</th>\n",
       "      <th>TAC</th>\n",
       "      <th>[1e3 Euro/a]</th>\n",
       "      <td>0.807064</td>\n",
       "    </tr>\n",
       "    <tr>\n",
       "      <th>capacity</th>\n",
       "      <th>[MW$_{H_{2},LHV}$*h]</th>\n",
       "      <td>1655.83</td>\n",
       "    </tr>\n",
       "    <tr>\n",
       "      <th>capexCap</th>\n",
       "      <th>[1e3 Euro/a]</th>\n",
       "      <td>0.674598</td>\n",
       "    </tr>\n",
       "    <tr>\n",
       "      <th>invest</th>\n",
       "      <th>[1e3 Euro]</th>\n",
       "      <td>6.62331</td>\n",
       "    </tr>\n",
       "    <tr>\n",
       "      <th>operationCharge</th>\n",
       "      <th>[MW$_{H_{2},LHV}$*h/a]</th>\n",
       "      <td>5500.45</td>\n",
       "    </tr>\n",
       "    <tr>\n",
       "      <th>operationDischarge</th>\n",
       "      <th>[MW$_{H_{2},LHV}$*h/a]</th>\n",
       "      <td>5500.45</td>\n",
       "    </tr>\n",
       "    <tr>\n",
       "      <th>opexCap</th>\n",
       "      <th>[1e3 Euro/a]</th>\n",
       "      <td>0.132466</td>\n",
       "    </tr>\n",
       "  </tbody>\n",
       "</table>\n",
       "</div>"
      ],
      "text/plain": [
       "                                                                  industry_0\n",
       "Component               Property           Unit                             \n",
       "Hydrogen tank (gaseous) TAC                [1e3 Euro/a]             0.807064\n",
       "                        capacity           [MW$_{H_{2},LHV}$*h]      1655.83\n",
       "                        capexCap           [1e3 Euro/a]             0.674598\n",
       "                        invest             [1e3 Euro]                6.62331\n",
       "                        operationCharge    [MW$_{H_{2},LHV}$*h/a]    5500.45\n",
       "                        operationDischarge [MW$_{H_{2},LHV}$*h/a]    5500.45\n",
       "                        opexCap            [1e3 Euro/a]             0.132466"
      ]
     },
     "metadata": {},
     "output_type": "display_data"
    }
   ],
   "source": [
    "storSummary = esM.getOptimizationSummary(\"StorageModel\", outputLevel=1)\n",
    "display(esM.getOptimizationSummary(\"StorageModel\", outputLevel=2))"
   ]
  },
  {
   "cell_type": "markdown",
   "metadata": {},
   "source": [
    "## Display regional and operational plots\n",
    "\n",
    "Plots representing time series can be displayed for each component."
   ]
  },
  {
   "cell_type": "markdown",
   "metadata": {},
   "source": [
    "### Wind turbines"
   ]
  },
  {
   "cell_type": "code",
   "execution_count": 18,
   "metadata": {},
   "outputs": [
    {
     "data": {
      "image/png": "[encoded data removed]",
      "text/plain": [
       "<Figure size 252x216 with 2 Axes>"
      ]
     },
     "metadata": {
      "needs_background": "light"
     },
     "output_type": "display_data"
    }
   ],
   "source": [
    "# If wind turbines are built in industry_0, their operation is displayed as heatmap\n",
    "if srcSnkSummary.loc[('Wind turbines','capacity','[MW$_{el}$]'),'industry_0'] > 0:\n",
    "    fig, ax = fn.plotOperationColorMap(esM, 'Wind turbines', 'industry_0', figsize=(3.5,3), monthlabels=True,\n",
    "        xlabel='', ylabel='Hour of the day', yticks=range(0,25*6,4*6), yticklabels=range(0,25,4),\n",
    "        zlabel='', nbTimeStepsPerPeriod=24*6)"
   ]
  },
  {
   "cell_type": "markdown",
   "metadata": {},
   "source": [
    "### Electrolyzers "
   ]
  },
  {
   "cell_type": "code",
   "execution_count": 19,
   "metadata": {},
   "outputs": [],
   "source": [
    "# If PEMECs are built in industry_0 their operation is displayed as heatmap\n",
    "if convSummary.loc[('PEMEC','capacity','[MW$_{el}$]'),'industry_0'] > 0:\n",
    "    fig, ax = fn.plotOperationColorMap(esM, 'PEMEC', 'industry_0', figsize=(4,3), \n",
    "        monthlabels=True, xlabel='', ylabel='Hour of the day', yticks=range(0,25*6,4*6),\n",
    "        yticklabels=range(0,25,4), zlabel='Power [MW]', nbTimeStepsPerPeriod=24*6)"
   ]
  },
  {
   "cell_type": "code",
   "execution_count": 20,
   "metadata": {
    "scrolled": true
   },
   "outputs": [
    {
     "data": {
      "image/png": "[encoded data removed]",
      "text/plain": [
       "<Figure size 288x216 with 2 Axes>"
      ]
     },
     "metadata": {
      "needs_background": "light"
     },
     "output_type": "display_data"
    }
   ],
   "source": [
    "# If AECs are built in industry_0 their operation is displayed as heatmap\n",
    "if convSummary.loc[('AEC','capacity','[MW$_{el}$]'),'industry_0'] > 0:\n",
    "    ts = fn.plotOperationColorMap(esM, 'AEC', 'industry_0', figsize=(4,3), monthlabels=True,\n",
    "        xlabel='', ylabel='Hour of the day', \n",
    "        nbTimeStepsPerPeriod=24*6, yticks=range(0,24*6+1,6*4), yticklabels=range(0,25,4))"
   ]
  },
  {
   "cell_type": "markdown",
   "metadata": {},
   "source": [
    "### Gaseous Hydrogen Tank"
   ]
  },
  {
   "cell_type": "code",
   "execution_count": 21,
   "metadata": {},
   "outputs": [
    {
     "data": {
      "image/png": "[encoded data removed]",
      "text/plain": [
       "<Figure size 288x216 with 2 Axes>"
      ]
     },
     "metadata": {
      "needs_background": "light"
     },
     "output_type": "display_data"
    }
   ],
   "source": [
    "# If Gaseous Hydrogen Tanks are built in industry_0, their storage inventory is displayed as heatmap\n",
    "if storSummary.loc[('Hydrogen tank (gaseous)','capacity','[MW$_{H_{2},LHV}$*h]'),'industry_0'] > 0:\n",
    "    fig, ax = fn.plotOperationColorMap(esM, 'Hydrogen tank (gaseous)', 'industry_0', figsize=(4,3),\n",
    "        variableName='stateOfChargeOperationVariablesOptimum', monthlabels=True,\n",
    "        xlabel='', ylabel='Hour of the day', yticks=range(0,25*6,4*6), yticklabels=range(0,25,4),\n",
    "        nbTimeStepsPerPeriod=24*6)"
   ]
  },
  {
   "cell_type": "markdown",
   "metadata": {},
   "source": [
    "### Hydrogen Demand"
   ]
  },
  {
   "cell_type": "code",
   "execution_count": 22,
   "metadata": {},
   "outputs": [
    {
     "data": {
      "image/png": "[encoded data removed]",
      "text/plain": [
       "<Figure size 288x216 with 2 Axes>"
      ]
     },
     "metadata": {
      "needs_background": "light"
     },
     "output_type": "display_data"
    }
   ],
   "source": [
    "# The hydrogen demand time series in industry_0 is displayed\n",
    "fig, ax = fn.plotOperationColorMap(esM, 'Hydrogen demand', 'industry_0', figsize=(4,3), \n",
    "    yticks=range(0,25*6,4*6), yticklabels=range(0,25,4),\n",
    "    xlabel='', ylabel='Hour of the day', nbTimeStepsPerPeriod=24*6)"
   ]
  },
  {
   "cell_type": "code",
   "execution_count": null,
   "metadata": {},
   "outputs": [],
   "source": []
  }
 ],
 "metadata": {
  "kernelspec": {
   "display_name": "Python 3",
   "language": "python",
   "name": "python3"
  },
  "language_info": {
   "codemirror_mode": {
    "name": "ipython",
    "version": 3
   },
   "file_extension": ".py",
   "mimetype": "text/x-python",
   "name": "python",
   "nbconvert_exporter": "python",
   "pygments_lexer": "ipython3",
   "version": "3.6.9"
  }
 },
 "nbformat": 4,
 "nbformat_minor": 2
}
