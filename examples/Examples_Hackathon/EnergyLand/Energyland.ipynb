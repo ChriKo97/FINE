{
 "cells": [
  {
   "cell_type": "code",
   "execution_count": 1,
   "metadata": {},
   "outputs": [],
   "source": [
    "from IPython.display import Image\n",
    "Image(\"images\\strukturExample.png\");"
   ]
  },
  {
   "cell_type": "markdown",
   "metadata": {},
   "source": [
    "# FINE Webinar Part I: EnergyLand energy system\n",
    "\n",
    "In this application of the FINE framework, a 1-node energy system is modeled and optimized.\n",
    "\n",
    "The workflow is structures as follows:\n",
    "1. Required packages are imported and the input data path is set\n",
    "2. An energy system model instance is created\n",
    "3. Commodity sources are added to the energy system model\n",
    "4. Commodity conversion components are added to the energy system model\n",
    "5. Commodity storages are added to the energy system model\n",
    "6. Commodity sinks are added to the energy system model\n",
    "7. The energy system model is optimized\n",
    "8. Selected optimization results are presented"
   ]
  },
  {
   "cell_type": "markdown",
   "metadata": {},
   "source": [
    "![Structure of EnergyLand](images\\strukturExample.png)"
   ]
  },
  {
   "cell_type": "markdown",
   "metadata": {},
   "source": [
    "# 1. Import packages\n",
    "\n",
    "The FINE framework is imported which provides the required classes and functions for modeling the energy system.\n",
    "The working directory and the underlying excelfile which provides some of the input data is imported."
   ]
  },
  {
   "cell_type": "code",
   "execution_count": 2,
   "metadata": {},
   "outputs": [],
   "source": [
    "import FINE as fn\n",
    "from getData import getData\n",
    "import pandas as pd\n",
    "import os\n",
    "cwd = os.getcwd()\n",
    "data = getData()"
   ]
  },
  {
   "cell_type": "markdown",
   "metadata": {},
   "source": [
    "# 2. Set up energy system model instance\n",
    "\n",
    "The structure of the energy system model is given by the considered locations, in this case we consider only one location (EnergyLand), commodities, the number of time steps as well as the hours per time step.\n",
    "\n",
    "The commodities are specified by a unit, which can be given as an energy or mass unit per hour."
   ]
  },
  {
   "cell_type": "code",
   "execution_count": 3,
   "metadata": {},
   "outputs": [],
   "source": [
    "locations = {'EnergyLand'}\n",
    "commodityUnitDict = {'electricity': r'GW$_{el}$', 'hydrogen': r'GW$_{H_{2},LHV}$', \n",
    "                     'nGas':r'GW$_{CH4}$', 'coal':r'GW$_{coal}$', 'PHeat': r'GW$_{Pheat}$',\n",
    "                     'LTHeat':r'GW$_{LTHeat}$', 'CO2':r'kt$_{CO_{2}}$/h', 'pTransport': 'Mio pkm/h',\n",
    "                     'fTransport': 'Mio tkm/h', 'crudeOil': r'GW$_{Oil}$', 'wood': r'GW$_{wood}$', \n",
    "                     'biowaste': r'GW$_{biowaste}$', 'bioslurry': r'GW$_{bioslurry}$',\n",
    "                     'diesel': r'GW$_{diesel}$', 'biogas': r'GW$_{CH4}$', 'nGasImp': r'GW$_{CH4}$'}\n",
    "commodities = {'electricity', 'hydrogen', 'nGas', 'coal', 'PHeat', 'LTHeat', 'CO2', 'pTransport', \n",
    "               'fTransport', 'crudeOil', 'wood', 'biowaste', 'bioslurry', 'diesel', 'nGasImp', 'biogas'}\n",
    "numberOfTimeSteps=8760\n",
    "hoursPerTimeStep=1"
   ]
  },
  {
   "cell_type": "code",
   "execution_count": 4,
   "metadata": {},
   "outputs": [],
   "source": [
    "esM = fn.EnergySystemModel(locations=locations, commodities=commodities, numberOfTimeSteps=8760,\n",
    "                           commodityUnitsDict=commodityUnitDict,\n",
    "                           hoursPerTimeStep=1, costUnit='1e6 Euro', lengthUnit='km', verboseLogLevel=0)"
   ]
  },
  {
   "cell_type": "markdown",
   "metadata": {},
   "source": [
    "# 3. Sources\n",
    "\n",
    "Source components transfer a commodity from outside the system boundary of EnergyLand into the system."
   ]
  },
  {
   "cell_type": "markdown",
   "metadata": {},
   "source": [
    "## 3.1 Electricity sources"
   ]
  },
  {
   "cell_type": "markdown",
   "metadata": {},
   "source": [
    "### Wind turbines"
   ]
  },
  {
   "cell_type": "markdown",
   "metadata": {},
   "source": [
    "#### Onshore Wind Turbines"
   ]
  },
  {
   "cell_type": "code",
   "execution_count": 5,
   "metadata": {
    "scrolled": true
   },
   "outputs": [],
   "source": [
    "esM.add(fn.Source(esM=esM, name='Wind_Onshore', commodity='electricity', hasCapacityVariable=True,\n",
    "                  operationRateMax=data['Wind_onshore, operationRateMax'],\n",
    "                  capacityMax=data['Wind_onshore, capacityMax'],\n",
    "                  investPerCapacity=1250, opexPerCapacity=1250*0.02, interestRate=0.08,\n",
    "                  economicLifetime=20))"
   ]
  },
  {
   "cell_type": "markdown",
   "metadata": {},
   "source": [
    "#### Offshore Wind Turbines"
   ]
  },
  {
   "cell_type": "code",
   "execution_count": 6,
   "metadata": {},
   "outputs": [],
   "source": [
    "esM.add(fn.Source(esM=esM, name='Wind_Offshore', commodity='electricity', hasCapacityVariable=True,\n",
    "                  operationRateMax=data['Wind_offshore, operationRateMax'],\n",
    "                  capacityMax=data['Wind_offshore, capacityMax'],\n",
    "                  investPerCapacity=2530, opexPerCapacity=2530*0.045, interestRate=0.08,\n",
    "                  economicLifetime=20))"
   ]
  },
  {
   "cell_type": "markdown",
   "metadata": {},
   "source": [
    "### Photovoltaic"
   ]
  },
  {
   "cell_type": "code",
   "execution_count": 7,
   "metadata": {},
   "outputs": [],
   "source": [
    "esM.add(fn.Source(esM=esM, name='PV', commodity='electricity', hasCapacityVariable=True,\n",
    "                  operationRateMax=data['PV, operationRateMax'],\n",
    "                  capacityMax=data['PV, capacityMax'],\n",
    "                  investPerCapacity=800, opexPerCapacity=800*0.019, interestRate=0.08,\n",
    "                  economicLifetime=20))"
   ]
  },
  {
   "cell_type": "markdown",
   "metadata": {},
   "source": [
    "### Electricity import"
   ]
  },
  {
   "cell_type": "code",
   "execution_count": 8,
   "metadata": {},
   "outputs": [],
   "source": [
    "esM.add(fn.Source(esM=esM, name='el_Import', commodity='electricity', hasCapacityVariable=False,\n",
    "                  operationRateMax=data['el_Import, operationRateMax']))"
   ]
  },
  {
   "cell_type": "markdown",
   "metadata": {},
   "source": [
    "## 3.2 Hydrogen source"
   ]
  },
  {
   "cell_type": "code",
   "execution_count": 9,
   "metadata": {},
   "outputs": [],
   "source": [
    "esM.add(fn.Source(esM=esM, name='H2_Import', commodity='hydrogen', hasCapacityVariable=False,\n",
    "                  operationRateMax=data['H2_Import, operationRateMax'],\n",
    "                  commodityCost=0.132))"
   ]
  },
  {
   "cell_type": "markdown",
   "metadata": {},
   "source": [
    "## 3.3 Coal source"
   ]
  },
  {
   "cell_type": "code",
   "execution_count": 10,
   "metadata": {},
   "outputs": [],
   "source": [
    "esM.add(fn.Source(esM=esM, name='CoalSource', commodity='coal', hasCapacityVariable=False,\n",
    "                  commodityCost=0.021))"
   ]
  },
  {
   "cell_type": "markdown",
   "metadata": {},
   "source": [
    "## 3.4 Crude Oil source"
   ]
  },
  {
   "cell_type": "code",
   "execution_count": 11,
   "metadata": {},
   "outputs": [],
   "source": [
    "esM.add(fn.Source(esM=esM, name='CrudeOilSource', commodity='crudeOil', hasCapacityVariable=False,\n",
    "                  commodityCost=0.036))"
   ]
  },
  {
   "cell_type": "markdown",
   "metadata": {},
   "source": [
    "## 3.5 Natural gas source"
   ]
  },
  {
   "cell_type": "code",
   "execution_count": 12,
   "metadata": {},
   "outputs": [],
   "source": [
    "esM.add(fn.Source(esM=esM, name='nGasSource', commodity='nGasImp', hasCapacityVariable=False,\n",
    "                  commodityCost=0.0256))"
   ]
  },
  {
   "cell_type": "markdown",
   "metadata": {},
   "source": [
    "## 3.6 Biomass sources"
   ]
  },
  {
   "cell_type": "markdown",
   "metadata": {},
   "source": [
    "#### Wood Source"
   ]
  },
  {
   "cell_type": "code",
   "execution_count": 13,
   "metadata": {},
   "outputs": [],
   "source": [
    "esM.add(fn.Source(esM=esM, name='WoodSource', commodity='wood', hasCapacityVariable=True,\n",
    "                  capacityMax=data['wood_source, capacityMax'],\n",
    "                  commodityCost=0.028))"
   ]
  },
  {
   "cell_type": "markdown",
   "metadata": {},
   "source": [
    "#### Biowaste Source"
   ]
  },
  {
   "cell_type": "code",
   "execution_count": 14,
   "metadata": {},
   "outputs": [],
   "source": [
    "esM.add(fn.Source(esM=esM, name='BiowasteSource', commodity='biowaste', hasCapacityVariable=True,\n",
    "                  capacityMax=data['biowaste_source, capacityMax'],\n",
    "                  commodityCost=0.07))"
   ]
  },
  {
   "cell_type": "markdown",
   "metadata": {},
   "source": [
    "#### Bioslurry Source"
   ]
  },
  {
   "cell_type": "code",
   "execution_count": 15,
   "metadata": {},
   "outputs": [],
   "source": [
    "esM.add(fn.Source(esM=esM, name='BioslurrySource', commodity='bioslurry', hasCapacityVariable=True,\n",
    "                  capacityMax=data['bioslurry_source, capacityMax'],\n",
    "                  commodityCost=0.07))"
   ]
  },
  {
   "cell_type": "markdown",
   "metadata": {},
   "source": [
    "# 4. Conversion components\n",
    "\n",
    "These are the components which can transfer one commodity into another one."
   ]
  },
  {
   "cell_type": "markdown",
   "metadata": {},
   "source": [
    "## 4.1 Biomas to biogas"
   ]
  },
  {
   "cell_type": "markdown",
   "metadata": {},
   "source": [
    "### Bioslurry to Biogas"
   ]
  },
  {
   "cell_type": "code",
   "execution_count": 16,
   "metadata": {},
   "outputs": [],
   "source": [
    "esM.add(fn.Conversion(esM=esM, name='bioslurry-biogas', physicalUnit= r'GW$_{CH4}$',\n",
    "                      commodityConversionFactors={'bioslurry':-1, 'biogas':1},\n",
    "                      hasCapacityVariable=False))"
   ]
  },
  {
   "cell_type": "markdown",
   "metadata": {},
   "source": [
    "### Biowaste to Biogas"
   ]
  },
  {
   "cell_type": "code",
   "execution_count": 17,
   "metadata": {},
   "outputs": [],
   "source": [
    "esM.add(fn.Conversion(esM=esM, name='biowaste-biogas', physicalUnit= r'GW$_{CH4}$',\n",
    "                      commodityConversionFactors={'biowaste':-1, 'biogas':1},\n",
    "                      hasCapacityVariable=False))"
   ]
  },
  {
   "cell_type": "markdown",
   "metadata": {},
   "source": [
    "## 4.2 Methane Slip (Virtual conversion)"
   ]
  },
  {
   "cell_type": "code",
   "execution_count": 18,
   "metadata": {},
   "outputs": [],
   "source": [
    "methaneSlip=0.1\n",
    "esM.add(fn.Conversion(esM=esM, name='CH4Slip', physicalUnit= r'GW$_{CH4}$',\n",
    "                      commodityConversionFactors={'nGasImp':-1, 'nGas':1, 'CO2':methaneSlip*2.014},\n",
    "                      hasCapacityVariable=False))"
   ]
  },
  {
   "cell_type": "markdown",
   "metadata": {},
   "source": [
    "## 4.3 Biogas to Methane (Virtual conversion)"
   ]
  },
  {
   "cell_type": "code",
   "execution_count": 19,
   "metadata": {},
   "outputs": [],
   "source": [
    "esM.add(fn.Conversion(esM=esM, name='biogas-nGas', physicalUnit= r'GW$_{CH4}$',\n",
    "                      commodityConversionFactors={'biogas':-1, 'nGas':1, 'CO2':-0.2014},\n",
    "                      hasCapacityVariable=True, opexPerOperation=0.0003,\n",
    "                      investPerCapacity=343, opexPerCapacity=343*0.025, interestRate=0.08,\n",
    "                      economicLifetime=15))"
   ]
  },
  {
   "cell_type": "markdown",
   "metadata": {},
   "source": [
    "## 4.4 Transport"
   ]
  },
  {
   "cell_type": "markdown",
   "metadata": {},
   "source": [
    "### Batterie Electric Vehicle"
   ]
  },
  {
   "cell_type": "markdown",
   "metadata": {},
   "source": [
    "#### BEV Car"
   ]
  },
  {
   "cell_type": "code",
   "execution_count": 20,
   "metadata": {},
   "outputs": [],
   "source": [
    "esM.add(fn.Conversion(esM=esM, name='BEV_PCar', physicalUnit= r'Mio pkm/h',\n",
    "                      commodityConversionFactors={'electricity':-1/7.676226, 'pTransport':1},\n",
    "                      hasCapacityVariable=True, \n",
    "                      investPerCapacity=15694, opexPerCapacity=15694*0.009, interestRate=0.08,\n",
    "                      economicLifetime=12))"
   ]
  },
  {
   "cell_type": "markdown",
   "metadata": {},
   "source": [
    "#### BEV Truck"
   ]
  },
  {
   "cell_type": "code",
   "execution_count": 21,
   "metadata": {},
   "outputs": [],
   "source": [
    "esM.add(fn.Conversion(esM=esM, name='BEV_Truck', physicalUnit= r'Mio tkm/h',\n",
    "                      commodityConversionFactors={'electricity':-1/11.401, 'fTransport':1},\n",
    "                      hasCapacityVariable=True, \n",
    "                      investPerCapacity=4304, opexPerCapacity=4304*0.009, interestRate=0.08,\n",
    "                      economicLifetime=15))"
   ]
  },
  {
   "cell_type": "markdown",
   "metadata": {},
   "source": [
    "### Fuel Cell Electric Vehicle"
   ]
  },
  {
   "cell_type": "markdown",
   "metadata": {},
   "source": [
    "#### FCEV Car"
   ]
  },
  {
   "cell_type": "code",
   "execution_count": 22,
   "metadata": {},
   "outputs": [],
   "source": [
    "esM.add(fn.Conversion(esM=esM, name='FCEV_PCar', physicalUnit= r'Mio pkm/h',\n",
    "                      commodityConversionFactors={'hydrogen':-1/4.7472, 'pTransport':1},\n",
    "                      hasCapacityVariable=True, \n",
    "                      investPerCapacity=15694, opexPerCapacity=15694*0.009, interestRate=0.08,\n",
    "                      economicLifetime=12))"
   ]
  },
  {
   "cell_type": "markdown",
   "metadata": {},
   "source": [
    "#### FCEV Truck"
   ]
  },
  {
   "cell_type": "code",
   "execution_count": 23,
   "metadata": {},
   "outputs": [],
   "source": [
    "esM.add(fn.Conversion(esM=esM, name='FCEV_Truck', physicalUnit= r'Mio tkm/h',\n",
    "                      commodityConversionFactors={'hydrogen':-1/8.251, 'fTransport':1},\n",
    "                      hasCapacityVariable=True,\n",
    "                      investPerCapacity=4283, opexPerCapacity=4283*0.009, interestRate=0.08,\n",
    "                      economicLifetime=15))"
   ]
  },
  {
   "cell_type": "markdown",
   "metadata": {},
   "source": [
    "### Fossil Vehicles"
   ]
  },
  {
   "cell_type": "markdown",
   "metadata": {},
   "source": [
    "#### Fossil Car"
   ]
  },
  {
   "cell_type": "code",
   "execution_count": 24,
   "metadata": {},
   "outputs": [],
   "source": [
    "esM.add(fn.Conversion(esM=esM, name='FossilCar', physicalUnit= r'Mio pkm/h',\n",
    "                      commodityConversionFactors={'diesel':-1/3.1308, 'pTransport':1},\n",
    "                      hasCapacityVariable=True, \n",
    "                      investPerCapacity=15694, opexPerCapacity=15694*0.016, interestRate=0.08,\n",
    "                      economicLifetime=12))"
   ]
  },
  {
   "cell_type": "markdown",
   "metadata": {},
   "source": [
    "#### Fossil Truck"
   ]
  },
  {
   "cell_type": "code",
   "execution_count": 25,
   "metadata": {},
   "outputs": [],
   "source": [
    "esM.add(fn.Conversion(esM=esM, name='FossilTruck', physicalUnit= r'Mio tkm/h',\n",
    "                      commodityConversionFactors={'diesel':-1/7.938, 'fTransport':1},\n",
    "                      hasCapacityVariable=True, \n",
    "                      investPerCapacity=3342, opexPerCapacity=3342*0.016, interestRate=0.08,\n",
    "                      economicLifetime=15))"
   ]
  },
  {
   "cell_type": "markdown",
   "metadata": {},
   "source": [
    "## 4.5 Diesel Refinery"
   ]
  },
  {
   "cell_type": "code",
   "execution_count": 26,
   "metadata": {},
   "outputs": [],
   "source": [
    "esM.add(fn.Conversion(esM=esM, name='DieselRef', physicalUnit= r'GW$_{diesel}$',\n",
    "                      commodityConversionFactors={'crudeOil':-1/0.364, 'diesel':1, 'CO2':0.725},\n",
    "                      hasCapacityVariable=True, \n",
    "                      investPerCapacity=1/0.364, opexPerCapacity=(1/0.364)*0.001, interestRate=0.08,\n",
    "                      economicLifetime=20))"
   ]
  },
  {
   "cell_type": "markdown",
   "metadata": {},
   "source": [
    "## 4.6 Power Plants"
   ]
  },
  {
   "cell_type": "markdown",
   "metadata": {},
   "source": [
    "### Combined Cycle Gas Turbine"
   ]
  },
  {
   "cell_type": "markdown",
   "metadata": {},
   "source": [
    "#### Natural Gas CCGT"
   ]
  },
  {
   "cell_type": "code",
   "execution_count": 27,
   "metadata": {},
   "outputs": [],
   "source": [
    "esM.add(fn.Conversion(esM=esM, name='CCGT plants (NGas)', physicalUnit=r'GW$_{el}$',\n",
    "                      commodityConversionFactors={'electricity':1, 'nGas':-1/0.65, 'CO2':0.31},\n",
    "                      hasCapacityVariable=True,investPerCapacity=850, \n",
    "                      opexPerCapacity=850*0.03, opexPerOperation=0.002, interestRate=0.08,\n",
    "                      economicLifetime=30))"
   ]
  },
  {
   "cell_type": "markdown",
   "metadata": {},
   "source": [
    "#### H2 CCGT"
   ]
  },
  {
   "cell_type": "code",
   "execution_count": 28,
   "metadata": {},
   "outputs": [],
   "source": [
    "esM.add(fn.Conversion(esM=esM, name='CCGT plants (hydrogen)', physicalUnit=r'GW$_{el}$',\n",
    "                      commodityConversionFactors={'electricity':1, 'hydrogen':-1/0.6},\n",
    "                      hasCapacityVariable=True, investPerCapacity=760, \n",
    "                      opexPerCapacity=760*0.014, opexPerOperation=0.002, interestRate=0.08,\n",
    "                      economicLifetime=20))"
   ]
  },
  {
   "cell_type": "markdown",
   "metadata": {},
   "source": [
    "### Fuel cell"
   ]
  },
  {
   "cell_type": "code",
   "execution_count": 29,
   "metadata": {},
   "outputs": [],
   "source": [
    "esM.add(fn.Conversion(esM=esM, name='LS-SOFC', physicalUnit=r'GW$_{el}$',\n",
    "                      commodityConversionFactors={'electricity':1, 'hydrogen':-1/0.7, 'LTHeat':0.25/0.7},\n",
    "                      hasCapacityVariable=True, investPerCapacity=1210, \n",
    "                      opexPerCapacity=1210*0.008, interestRate=0.08,\n",
    "                      economicLifetime=20))"
   ]
  },
  {
   "cell_type": "markdown",
   "metadata": {},
   "source": [
    "### Coal power plant"
   ]
  },
  {
   "cell_type": "code",
   "execution_count": 30,
   "metadata": {},
   "outputs": [],
   "source": [
    "esM.add(fn.Conversion(esM=esM, name='CoalPP', physicalUnit=r'GW$_{el}$',\n",
    "                      commodityConversionFactors={'electricity':1, 'coal':-1/0.5, 'CO2':0.674},\n",
    "                      hasCapacityVariable=True, opexPerOperation=0.0015,\n",
    "                      investPerCapacity=1450, opexPerCapacity=1450*0.026, interestRate=0.08,\n",
    "                      economicLifetime=40))"
   ]
  },
  {
   "cell_type": "markdown",
   "metadata": {},
   "source": [
    "### Combined Heat and Power Plants"
   ]
  },
  {
   "cell_type": "markdown",
   "metadata": {},
   "source": [
    "#### Coal CHP"
   ]
  },
  {
   "cell_type": "code",
   "execution_count": 31,
   "metadata": {},
   "outputs": [],
   "source": [
    "esM.add(fn.Conversion(esM=esM, name='CoalCHP', physicalUnit=r'GW$_{el}$',\n",
    "                      commodityConversionFactors={'electricity':1, 'LTHeat':0.51/0.38, 'coal':-1/0.38, 'CO2':0.886},\n",
    "                      hasCapacityVariable=True, opexPerOperation=0.0051,\n",
    "                      investPerCapacity=1847, opexPerCapacity=1847*0.027, interestRate=0.08,\n",
    "                      economicLifetime=35))"
   ]
  },
  {
   "cell_type": "markdown",
   "metadata": {},
   "source": [
    "#### Wood CHP"
   ]
  },
  {
   "cell_type": "code",
   "execution_count": 32,
   "metadata": {},
   "outputs": [],
   "source": [
    "esM.add(fn.Conversion(esM=esM, name='WoodCHP', physicalUnit=r'GW$_{el}$',\n",
    "                      commodityConversionFactors={'electricity':1, 'LTHeat':0.826/0.291, 'wood':-1/0.291},\n",
    "                      hasCapacityVariable=True, opexPerOperation=0.0038,\n",
    "                      investPerCapacity=3000, opexPerCapacity=3000*0.029, interestRate=0.08,\n",
    "                      economicLifetime=25))"
   ]
  },
  {
   "cell_type": "markdown",
   "metadata": {},
   "source": [
    "#### Natural Gas CHP"
   ]
  },
  {
   "cell_type": "code",
   "execution_count": 33,
   "metadata": {},
   "outputs": [],
   "source": [
    "esM.add(fn.Conversion(esM=esM, name='nGasCHP', physicalUnit=r'GW$_{el}$',\n",
    "                      commodityConversionFactors={'electricity':1, 'LTHeat':0.5/0.35, 'nGas':-1/0.35, 'CO2':0.575},\n",
    "                      hasCapacityVariable=True, opexPerOperation=0.0015,\n",
    "                      investPerCapacity=666, opexPerCapacity=666*0.041, interestRate=0.08,\n",
    "                      economicLifetime=30))"
   ]
  },
  {
   "cell_type": "markdown",
   "metadata": {},
   "source": [
    "#### Biogas CHP"
   ]
  },
  {
   "cell_type": "code",
   "execution_count": 34,
   "metadata": {},
   "outputs": [],
   "source": [
    "esM.add(fn.Conversion(esM=esM, name='BioGasCHP', physicalUnit=r'GW$_{el}$',\n",
    "                      commodityConversionFactors={'electricity':1, 'LTHeat':1, 'biogas':-1/0.47},\n",
    "                      hasCapacityVariable=True, opexPerOperation=0.008,\n",
    "                      investPerCapacity=850, opexPerCapacity=850*0.01, interestRate=0.08,\n",
    "                      economicLifetime=25))"
   ]
  },
  {
   "cell_type": "markdown",
   "metadata": {},
   "source": [
    "#### H2 CHP"
   ]
  },
  {
   "cell_type": "code",
   "execution_count": 35,
   "metadata": {},
   "outputs": [],
   "source": [
    "esM.add(fn.Conversion(esM=esM, name='H2CHP', physicalUnit=r'GW$_{el}$',\n",
    "                      commodityConversionFactors={'electricity':1, 'LTHeat':0.41/0.49, 'hydrogen':-1/0.49},\n",
    "                      hasCapacityVariable=True, opexPerOperation=0.0006,\n",
    "                      investPerCapacity=715, opexPerCapacity=715*0.001, interestRate=0.08,\n",
    "                      economicLifetime=20))"
   ]
  },
  {
   "cell_type": "markdown",
   "metadata": {},
   "source": [
    "## 4.7 Thermal power plants"
   ]
  },
  {
   "cell_type": "markdown",
   "metadata": {},
   "source": [
    "#### Oil Boiler"
   ]
  },
  {
   "cell_type": "code",
   "execution_count": 36,
   "metadata": {},
   "outputs": [],
   "source": [
    "esM.add(fn.Conversion(esM=esM, name='oilBoiler', physicalUnit=r'GW$_{LTHeat}$',\n",
    "                      commodityConversionFactors={'crudeOil':-1/0.96, 'LTHeat':1, 'CO2':0.275},\n",
    "                      hasCapacityVariable=True, \n",
    "                      investPerCapacity=330, opexPerCapacity=330*0.041, interestRate=0.08,\n",
    "                      economicLifetime=20))"
   ]
  },
  {
   "cell_type": "markdown",
   "metadata": {},
   "source": [
    "#### Gas Boiler"
   ]
  },
  {
   "cell_type": "code",
   "execution_count": 37,
   "metadata": {},
   "outputs": [],
   "source": [
    "esM.add(fn.Conversion(esM=esM, name='gasBoiler', physicalUnit=r'GW$_{LTHeat}$',\n",
    "                      commodityConversionFactors={'nGas':-1/0.96, 'LTHeat':1, 'CO2':0.21},\n",
    "                      hasCapacityVariable=True, \n",
    "                      investPerCapacity=330, opexPerCapacity=330*0.012, interestRate=0.08,\n",
    "                      economicLifetime=20))"
   ]
  },
  {
   "cell_type": "markdown",
   "metadata": {},
   "source": [
    "#### H2 Boiler"
   ]
  },
  {
   "cell_type": "code",
   "execution_count": 38,
   "metadata": {},
   "outputs": [],
   "source": [
    "esM.add(fn.Conversion(esM=esM, name='H2Boiler', physicalUnit=r'GW$_{LTHeat}$',\n",
    "                      commodityConversionFactors={'hydrogen':-1/0.98, 'LTHeat':1},\n",
    "                      hasCapacityVariable=True, \n",
    "                      investPerCapacity=655, opexPerCapacity=655*0.01, interestRate=0.08,\n",
    "                      economicLifetime=20))"
   ]
  },
  {
   "cell_type": "markdown",
   "metadata": {},
   "source": [
    "### Heat pump"
   ]
  },
  {
   "cell_type": "code",
   "execution_count": 39,
   "metadata": {},
   "outputs": [],
   "source": [
    "esM.add(fn.Conversion(esM=esM, name='Heatpump', physicalUnit=r'GW$_{LTHeat}$',\n",
    "                      commodityConversionFactors={'electricity':-1/0.45, 'LTHeat':1},\n",
    "                      hasCapacityVariable=True, \n",
    "                      investPerCapacity=725, opexPerCapacity=725*0.02, interestRate=0.08,\n",
    "                      economicLifetime=20))"
   ]
  },
  {
   "cell_type": "markdown",
   "metadata": {},
   "source": [
    "### Heating rod"
   ]
  },
  {
   "cell_type": "code",
   "execution_count": 40,
   "metadata": {},
   "outputs": [],
   "source": [
    "esM.add(fn.Conversion(esM=esM, name='Heating rod', physicalUnit=r'GW$_{LTHeat}$',\n",
    "                      commodityConversionFactors={'electricity':-1/0.99, 'LTHeat':1},\n",
    "                      hasCapacityVariable=True, \n",
    "                      investPerCapacity=800, opexPerCapacity=800*0.0125, interestRate=0.08,\n",
    "                      economicLifetime=30))"
   ]
  },
  {
   "cell_type": "markdown",
   "metadata": {},
   "source": [
    "### Electrode boiler"
   ]
  },
  {
   "cell_type": "code",
   "execution_count": 41,
   "metadata": {},
   "outputs": [],
   "source": [
    "esM.add(fn.Conversion(esM=esM, name='electrode boiler', physicalUnit=r'GW$_{Pheat}$',\n",
    "                      commodityConversionFactors={'electricity':-1/0.99, 'PHeat':1},\n",
    "                      hasCapacityVariable=True, \n",
    "                      investPerCapacity=140, opexPerCapacity=140*0.02, interestRate=0.08,\n",
    "                      economicLifetime=20))"
   ]
  },
  {
   "cell_type": "markdown",
   "metadata": {},
   "source": [
    "### Stove"
   ]
  },
  {
   "cell_type": "code",
   "execution_count": 42,
   "metadata": {},
   "outputs": [],
   "source": [
    "esM.add(fn.Conversion(esM=esM, name='woood Stove', physicalUnit=r'GW$_{LTHeat}$',\n",
    "                      commodityConversionFactors={'wood':-1/0.75, 'LTHeat':1},\n",
    "                      hasCapacityVariable=True, \n",
    "                      investPerCapacity=775, opexPerCapacity=775*0.06, interestRate=0.08,\n",
    "                      economicLifetime=20))"
   ]
  },
  {
   "cell_type": "markdown",
   "metadata": {},
   "source": [
    "## 4.8 Electrolyzer"
   ]
  },
  {
   "cell_type": "code",
   "execution_count": 43,
   "metadata": {},
   "outputs": [],
   "source": [
    "esM.add(fn.Conversion(esM=esM, name='electroylzer', physicalUnit=r'GW$_{H_{2},LHV}$',\n",
    "                      commodityConversionFactors={'electricity':-1/0.7, 'hydrogen':1},\n",
    "                      hasCapacityVariable=True, \n",
    "                      investPerCapacity=500, opexPerCapacity=500*0.03, interestRate=0.08,\n",
    "                      economicLifetime=10))"
   ]
  },
  {
   "cell_type": "markdown",
   "metadata": {},
   "source": [
    "# 5. Storages\n",
    "\n",
    "The storages which can be used by the EnergyLand model are constructed."
   ]
  },
  {
   "cell_type": "markdown",
   "metadata": {},
   "source": [
    "## Lithium ion batteries"
   ]
  },
  {
   "cell_type": "code",
   "execution_count": 44,
   "metadata": {},
   "outputs": [],
   "source": [
    "esM.add(fn.Storage(esM=esM, name='Li-ion batteries', commodity='electricity',\n",
    "                   hasCapacityVariable=True, chargeEfficiency=0.99,\n",
    "                   dischargeEfficiency=0.99, selfDischarge=0.004,\n",
    "                   doPreciseTsaModeling=False,investPerCapacity=120, \n",
    "                   opexPerCapacity=120*0.014, opexPerChargeOperation=0.0001, \n",
    "                   interestRate=0.08, economicLifetime=10))"
   ]
  },
  {
   "cell_type": "markdown",
   "metadata": {},
   "source": [
    "## Hydrogen filled salt caverns"
   ]
  },
  {
   "cell_type": "code",
   "execution_count": 45,
   "metadata": {},
   "outputs": [],
   "source": [
    "esM.add(fn.Storage(esM=esM, name='H2Storage', commodity='hydrogen',\n",
    "                   hasCapacityVariable=True, chargeEfficiency=0.98,\n",
    "                   dischargeEfficiency=0.998, doPreciseTsaModeling=False,\n",
    "                   investPerCapacity=362, opexPerCapacity=362*0.02, opexPerChargeOperation=0.0001, \n",
    "                   interestRate=0.08, economicLifetime=40))"
   ]
  },
  {
   "cell_type": "markdown",
   "metadata": {},
   "source": [
    "## Heat storage"
   ]
  },
  {
   "cell_type": "code",
   "execution_count": 46,
   "metadata": {},
   "outputs": [],
   "source": [
    "esM.add(fn.Storage(esM=esM, name='LTHeatstorage', commodity='LTHeat',\n",
    "                   hasCapacityVariable=True, chargeEfficiency=0.95,\n",
    "                   dischargeEfficiency=0.95, selfDischarge=0.0003,\n",
    "                   chargeRate=1, dischargeRate=1, doPreciseTsaModeling=False,\n",
    "                   investPerCapacity=147, opexPerCapacity=147*0.01, opexPerChargeOperation=0.0001,\n",
    "                   interestRate=0.08, economicLifetime=20))"
   ]
  },
  {
   "cell_type": "markdown",
   "metadata": {},
   "source": [
    "# 6. Sinks\n",
    "\n",
    "Electricity, heat and transport demand are set in the following components."
   ]
  },
  {
   "cell_type": "markdown",
   "metadata": {},
   "source": [
    "## Electricity demand"
   ]
  },
  {
   "cell_type": "code",
   "execution_count": 47,
   "metadata": {},
   "outputs": [],
   "source": [
    "eDemand=516\n",
    "esM.add(fn.Sink(esM=esM, name='Electricity demand', commodity='electricity',\n",
    "                hasCapacityVariable=False, operationRateFix=data['Electricity demand, operationRateFix']*eDemand))"
   ]
  },
  {
   "cell_type": "markdown",
   "metadata": {},
   "source": [
    "## Passenger Transportation demand"
   ]
  },
  {
   "cell_type": "code",
   "execution_count": 48,
   "metadata": {},
   "outputs": [],
   "source": [
    "pTdemand=867\n",
    "esM.add(fn.Sink(esM=esM, name='pT_demand', commodity='pTransport',\n",
    "                hasCapacityVariable=False, operationRateFix=data['T_demand, operationRateFix']*pTdemand))"
   ]
  },
  {
   "cell_type": "markdown",
   "metadata": {},
   "source": [
    "## Freight Transportation demand"
   ]
  },
  {
   "cell_type": "code",
   "execution_count": 49,
   "metadata": {},
   "outputs": [],
   "source": [
    "fTdemand=945.5\n",
    "esM.add(fn.Sink(esM=esM, name='fT_demand', commodity='fTransport',\n",
    "                hasCapacityVariable=False, operationRateFix=data['T_demand, operationRateFix']*fTdemand))"
   ]
  },
  {
   "cell_type": "markdown",
   "metadata": {},
   "source": [
    "## Heat demand"
   ]
  },
  {
   "cell_type": "markdown",
   "metadata": {},
   "source": [
    "### Process heat demand"
   ]
  },
  {
   "cell_type": "code",
   "execution_count": 50,
   "metadata": {},
   "outputs": [],
   "source": [
    "pHeatDemand=423.75\n",
    "esM.add(fn.Sink(esM=esM, name='PHeat_demand', commodity='PHeat',\n",
    "                hasCapacityVariable=False, operationRateFix=data['pHeat_demand, operationRateFix']*pHeatDemand))"
   ]
  },
  {
   "cell_type": "markdown",
   "metadata": {},
   "source": [
    "### Low temperature residential heat demand"
   ]
  },
  {
   "cell_type": "code",
   "execution_count": 51,
   "metadata": {},
   "outputs": [],
   "source": [
    "LTHeatDemand=560.8\n",
    "esM.add(fn.Sink(esM=esM, name='LTHeat_demand', commodity='LTHeat',\n",
    "                hasCapacityVariable=False, operationRateFix=data['LtHeat_demand, operationRateFix']*LTHeatDemand))"
   ]
  },
  {
   "cell_type": "markdown",
   "metadata": {},
   "source": [
    "## Environment\n",
    "\n",
    "The CO2 limit is set in this component."
   ]
  },
  {
   "cell_type": "code",
   "execution_count": 52,
   "metadata": {},
   "outputs": [],
   "source": [
    "CO2limit=210000\n",
    "esM.add(fn.Sink(esM=esM, name='environment', commodity='CO2', commodityLimitID='CO2_cap',\n",
    "                hasCapacityVariable=False, yearlyLimit=CO2limit))"
   ]
  },
  {
   "cell_type": "markdown",
   "metadata": {},
   "source": [
    "# 7. Optimization of EnergyLand"
   ]
  },
  {
   "cell_type": "code",
   "execution_count": 53,
   "metadata": {},
   "outputs": [
    {
     "name": "stdout",
     "output_type": "stream",
     "text": [
      "\n",
      "Clustering time series data with 48 typical periods and 24 time steps per period...\n",
      "\t\t(7.9716 sec)\n",
      "\n"
     ]
    }
   ],
   "source": [
    "esM.cluster(numberOfTypicalPeriods=48)"
   ]
  },
  {
   "cell_type": "code",
   "execution_count": 54,
   "metadata": {},
   "outputs": [
    {
     "name": "stdout",
     "output_type": "stream",
     "text": [
      "Time series aggregation specifications:\n",
      "Number of typical periods:48, number of time steps per periods:24\n",
      "\n",
      "Declaring sets, variables and constraints for SourceSinkModel\n",
      "\tdeclaring sets... \n",
      "\tdeclaring variables... \n",
      "\tdeclaring constraints... \n",
      "\t\t(1.6792 sec)\n",
      "\n",
      "Declaring sets, variables and constraints for ConversionModel\n",
      "\tdeclaring sets... \n",
      "\tdeclaring variables... \n",
      "\tdeclaring constraints... \n",
      "\t\t(0.9390 sec)\n",
      "\n",
      "Declaring sets, variables and constraints for StorageModel\n",
      "\tdeclaring sets... \n",
      "\tdeclaring variables... \n",
      "\tdeclaring constraints... \n",
      "\t\t(0.8600 sec)\n",
      "\n",
      "Declaring shared potential constraint...\n",
      "\t\t(0.0000 sec)\n",
      "\n",
      "Declaring commodity balances...\n",
      "\t\t(1.7880 sec)\n",
      "\n",
      "Declaring objective function...\n",
      "\t\t(0.6562 sec)\n",
      "\n",
      "Academic license - for non-commercial use only\n",
      "Changed value of parameter QCPDual to 1\n",
      "   Prev: 0  Min: 0  Max: 1  Default: 0\n",
      "Changed value of parameter logfile to \n",
      "   Prev: gurobi.log  Default: \n",
      "Changed value of parameter Threads to 3\n",
      "   Prev: 0  Min: 0  Max: 1024  Default: 0\n",
      "Optimize a model with 82956 rows, 63807 columns and 238879 nonzeros\n",
      "Coefficient statistics:\n",
      "  Matrix range     [4e-06, 2e+01]\n",
      "  Objective range  [2e-04, 2e+03]\n",
      "  Bounds range     [7e-01, 6e+02]\n",
      "  RHS range        [5e-02, 2e+05]\n",
      "\n",
      "Concurrent LP optimizer: dual simplex and barrier\n",
      "Showing barrier log only...\n",
      "\n",
      "Presolve removed 25384 rows and 19340 columns\n",
      "Presolve time: 0.34s\n",
      "Presolved: 57572 rows, 44467 columns, 210024 nonzeros\n",
      "\n",
      "Ordering time: 0.05s\n",
      "\n",
      "Barrier statistics:\n",
      " Dense cols : 30\n",
      " Free vars  : 720\n",
      " AA' NZ     : 4.569e+05\n",
      " Factor NZ  : 2.403e+06 (roughly 60 MBytes of memory)\n",
      " Factor Ops : 3.859e+08 (less than 1 second per iteration)\n",
      " Threads    : 2\n",
      "\n",
      "                  Objective                Residual\n",
      "Iter       Primal          Dual         Primal    Dual     Compl     Time\n",
      "   0   2.13996556e+07 -4.61094986e+05  4.70e+05 1.01e+00  1.20e+05     1s\n",
      "   1   1.92872650e+07 -3.52067963e+07  3.25e+05 3.22e+01  5.01e+04     1s\n",
      "   2   1.51673159e+07 -4.82238267e+07  1.99e+05 8.70e+00  2.58e+04     1s\n",
      "   3   1.05704919e+07 -4.66690530e+07  6.23e+04 4.22e+00  9.42e+03     2s\n",
      "   4   8.09130670e+06 -3.71357602e+07  2.24e+04 1.15e+00  3.27e+03     2s\n",
      "   5   5.10022759e+06 -2.24517290e+07  6.57e+03 3.44e-01  1.04e+03     3s\n",
      "   6   4.18737468e+06 -1.44446060e+07  4.29e+03 1.51e-01  6.09e+02     3s\n",
      "   7   3.25609378e+06 -1.00364386e+07  2.58e+03 8.87e-02  3.61e+02     3s\n",
      "   8   2.34024961e+06 -6.64238358e+06  1.34e+03 4.16e-02  1.94e+02     3s\n",
      "   9   1.54027297e+06 -3.88355984e+06  5.07e+02 2.00e-02  8.94e+01     3s\n",
      "  10   9.44696897e+05 -7.49802919e+05  1.40e+02 2.10e-03  2.21e+01     3s\n",
      "  11   6.95513344e+05 -1.84110004e+05  5.28e+01 6.01e-04  1.04e+01     3s\n",
      "  12   6.30178227e+05  5.76834933e+04  3.58e+01 5.46e-04  6.57e+00     3s\n",
      "  13   5.70943854e+05  2.14580805e+05  2.18e+01 4.46e-04  3.99e+00     3s\n",
      "  14   5.24059926e+05  3.11490041e+05  1.30e+01 3.81e-04  2.34e+00     3s\n",
      "  15   4.94767876e+05  3.58088048e+05  8.98e+00 3.00e-04  1.49e+00     3s\n",
      "  16   4.64289190e+05  3.75517594e+05  4.93e+00 2.63e-04  9.57e-01     3s\n",
      "  17   4.56359222e+05  3.82052296e+05  3.99e+00 2.39e-04  7.99e-01     3s\n",
      "  18   4.44734038e+05  3.91668755e+05  2.67e+00 1.99e-04  5.69e-01     4s\n",
      "  19   4.35830695e+05  4.00184001e+05  1.74e+00 1.53e-04  3.81e-01     4s\n",
      "  20   4.31811841e+05  4.05616342e+05  1.33e+00 1.18e-04  2.79e-01     4s\n",
      "  21   4.27716041e+05  4.08401463e+05  9.37e-01 1.01e-04  2.06e-01     4s\n",
      "  22   4.24804441e+05  4.09660831e+05  6.76e-01 9.07e-05  1.61e-01     4s\n",
      "  23   4.22304783e+05  4.12052992e+05  4.65e-01 7.03e-05  1.09e-01     4s\n",
      "  24   4.21167975e+05  4.13573684e+05  3.65e-01 6.22e-05  8.07e-02     4s\n",
      "  25   4.20152380e+05  4.14299910e+05  2.75e-01 5.30e-05  6.22e-02     4s\n",
      "  26   4.19208143e+05  4.15129526e+05  1.95e-01 4.35e-05  4.33e-02     4s\n",
      "  27   4.18408570e+05  4.15842675e+05  1.32e-01 3.40e-05  2.72e-02     4s\n",
      "  28   4.17903204e+05  4.16001332e+05  9.10e-02 3.08e-05  2.02e-02     4s\n",
      "  29   4.17665188e+05  4.16151624e+05  7.02e-02 2.96e-05  1.61e-02     5s\n",
      "  30   4.17470303e+05  4.16290748e+05  5.42e-02 2.84e-05  1.25e-02     5s\n",
      "  31   4.17237414e+05  4.16480271e+05  3.54e-02 2.33e-05  8.03e-03     5s\n",
      "  32   4.17086273e+05  4.16596176e+05  2.32e-02 1.73e-05  5.19e-03     5s\n",
      "  33   4.17042933e+05  4.16648717e+05  1.99e-02 1.60e-05  4.18e-03     5s\n",
      "  34   4.16910865e+05  4.16694340e+05  1.04e-02 1.71e-05  2.29e-03     5s\n",
      "  35   4.16850992e+05  4.16720458e+05  6.17e-03 2.06e-05  1.38e-03     6s\n",
      "  36   4.16827566e+05  4.16733566e+05  4.42e-03 2.18e-05  9.96e-04     6s\n",
      "  37   4.16804852e+05  4.16740515e+05  2.74e-03 2.02e-05  6.82e-04     7s\n",
      "  38   4.16789237e+05  4.16751924e+05  1.61e-03 1.39e-05  3.95e-04     8s\n",
      "  39   4.16778294e+05  4.16758604e+05  8.48e-04 7.62e-06  2.08e-04     9s\n",
      "  40   4.16772765e+05  4.16761469e+05  4.74e-04 4.87e-06  1.20e-04    10s\n",
      "  41   4.16770745e+05  4.16762881e+05  3.44e-04 3.78e-06  8.33e-05    10s\n",
      "  42   4.16767295e+05  4.16764109e+05  1.17e-04 3.38e-06  3.37e-05    11s\n",
      "  43   4.16766008e+05  4.16764710e+05  3.73e-05 1.96e-06  1.37e-05    11s\n",
      "  44   4.16765604e+05  4.16765023e+05  1.39e-05 9.96e-07  6.15e-06    11s\n",
      "  45   4.16765501e+05  4.16765109e+05  8.74e-06 7.02e-07  4.15e-06    11s\n",
      "  46   4.16765449e+05  4.16765276e+05  6.02e-06 1.47e-07  1.84e-06    11s\n",
      "  47   4.16765448e+05  4.16765276e+05  5.97e-06 1.47e-07  1.82e-06    12s\n",
      "  48   4.16765440e+05  4.16765278e+05  5.53e-06 1.39e-07  1.71e-06    12s\n",
      "  49   4.16765420e+05  4.16765284e+05  4.59e-06 1.24e-07  1.45e-06    12s\n",
      "  50   4.16765396e+05  4.16765296e+05  5.94e-06 8.55e-08  1.05e-06    12s\n",
      "  51   4.16765393e+05  4.16765297e+05  4.54e-06 8.26e-08  1.01e-06    12s\n",
      "  52   4.16765384e+05  4.16765300e+05  3.93e-06 7.55e-08  8.86e-07    12s\n",
      "  53   4.16765383e+05  4.16765300e+05  3.88e-06 7.45e-08  8.75e-07    13s\n",
      "  54   4.16765363e+05  4.16765309e+05  2.47e-06 4.85e-08  5.65e-07    13s\n",
      "  55   4.16765355e+05  4.16765312e+05  3.46e-06 4.19e-08  4.58e-07    13s\n",
      "  56   4.16765355e+05  4.16765312e+05  3.46e-06 4.19e-08  4.58e-07    13s\n",
      "  57   4.16765355e+05  4.16765309e+05  3.46e-06 3.01e-05  4.58e-07    13s\n",
      "  58   4.16765355e+05  4.16765306e+05  3.46e-06 5.50e-05  4.58e-07    13s\n",
      "  59   4.16765355e+05  4.16765306e+05  3.46e-06 5.50e-05  4.57e-07    13s\n",
      "  60   4.16765355e+05  4.16765306e+05  3.46e-06 5.50e-05  4.57e-07    13s\n",
      "  61   4.16765355e+05  4.16765306e+05  3.46e-06 5.50e-05  4.57e-07    14s\n",
      "  62   4.16765355e+05  4.16765306e+05  3.46e-06 5.50e-05  4.57e-07    14s\n",
      "  63   4.16765355e+05  4.16765306e+05  3.46e-06 5.50e-05  4.57e-07    14s\n",
      "  64   4.16765355e+05  4.16765306e+05  3.46e-06 5.50e-05  4.57e-07    14s\n",
      "  65   4.16765355e+05  4.16765306e+05  3.46e-06 5.50e-05  4.57e-07    14s\n",
      "\n",
      "Barrier performed 65 iterations in 14.18 seconds\n",
      "Sub-optimal termination - objective 4.16765355e+05\n",
      "\n",
      "Crossover log...\n",
      "\n",
      "   27323 DPushes remaining with DInf 0.0000000e+00                14s\n",
      "   23309 DPushes remaining with DInf 0.0000000e+00                15s\n",
      "    7972 DPushes remaining with DInf 0.0000000e+00                20s\n",
      "       0 DPushes remaining with DInf 1.6076106e-11                24s\n",
      "\n",
      "   18815 PPushes remaining with PInf 3.6605660e-03                24s\n",
      "   13221 PPushes remaining with PInf 2.3237540e-02                27s\n",
      "    4581 PPushes remaining with PInf 9.1399798e-02                31s\n",
      "       0 PPushes remaining with PInf 5.8353492e-05                35s\n",
      "\n",
      "  Push phase complete: Pinf 5.8353492e-05, Dinf 3.1195416e+02     35s\n",
      "\n",
      "Iteration    Objective       Primal Inf.    Dual Inf.      Time\n",
      "   46043    4.1676533e+05   0.000000e+00   3.119542e+02     35s\n",
      "   46460    4.1676533e+05   0.000000e+00   6.697567e+00     35s\n",
      "   46630    4.1676533e+05   0.000000e+00   0.000000e+00     35s\n",
      "\n",
      "Solved with barrier\n",
      "Solved in 46630 iterations and 35.34 seconds\n",
      "Optimal objective  4.167653254e+05\n",
      "Freed default Gurobi environment\n",
      "\n",
      "Status: ok\n",
      "Return code: 0\n",
      "Message: Model was solved to optimality (subject to tolerances), and an optimal solution is available.\n",
      "Termination condition: optimal\n",
      "Termination message: Model was solved to optimality (subject to tolerances), and an optimal solution is available.\n",
      "Wall time: 35.3436164856\n",
      "Error rc: 0\n",
      "Time: 36.64620065689087\n",
      "\n",
      "\n",
      "Name: x63807_copy\n",
      "Lower bound: 416765.325449\n",
      "Upper bound: 416765.325449\n",
      "Number of objectives: 1\n",
      "Number of constraints: 82956\n",
      "Number of variables: 63807\n",
      "Number of binary variables: 0\n",
      "Number of integer variables: 0\n",
      "Number of continuous variables: 63807\n",
      "Number of nonzeros: 238879\n",
      "Sense: minimize\n",
      "\n",
      "Solve time: 42.54752707481384 sec.\n",
      "\n",
      "Processing optimization output...\n"
     ]
    },
    {
     "name": "stdout",
     "output_type": "stream",
     "text": [
      "for SourceSinkModel ...(1.9914sec)\n",
      "for ConversionModel ...(2.9260sec)\n",
      "for StorageModel ...  (2.8280sec)\n",
      "\t\t(7.7453 sec)\n",
      "\n"
     ]
    }
   ],
   "source": [
    "esM.optimize(timeSeriesAggregation=True, solver='gurobi')"
   ]
  },
  {
   "cell_type": "markdown",
   "metadata": {},
   "source": [
    "# Output of selected results"
   ]
  },
  {
   "cell_type": "code",
   "execution_count": 55,
   "metadata": {
    "scrolled": true
   },
   "outputs": [
    {
     "data": {
      "text/html": [
       "<div>\n",
       "<style scoped>\n",
       "    .dataframe tbody tr th:only-of-type {\n",
       "        vertical-align: middle;\n",
       "    }\n",
       "\n",
       "    .dataframe tbody tr th {\n",
       "        vertical-align: top;\n",
       "    }\n",
       "\n",
       "    .dataframe thead th {\n",
       "        text-align: right;\n",
       "    }\n",
       "</style>\n",
       "<table border=\"1\" class=\"dataframe\">\n",
       "  <thead>\n",
       "    <tr style=\"text-align: right;\">\n",
       "      <th></th>\n",
       "      <th></th>\n",
       "      <th></th>\n",
       "      <th>EnergyLand</th>\n",
       "    </tr>\n",
       "    <tr>\n",
       "      <th>Component</th>\n",
       "      <th>Property</th>\n",
       "      <th>Unit</th>\n",
       "      <th></th>\n",
       "    </tr>\n",
       "  </thead>\n",
       "  <tbody>\n",
       "    <tr>\n",
       "      <th rowspan=\"6\" valign=\"top\">BEV_PCar</th>\n",
       "      <th>TAC</th>\n",
       "      <th>[1e6 Euro/a]</th>\n",
       "      <td>220091</td>\n",
       "    </tr>\n",
       "    <tr>\n",
       "      <th>capacity</th>\n",
       "      <th>[Mio pkm/h]</th>\n",
       "      <td>98.9726</td>\n",
       "    </tr>\n",
       "    <tr>\n",
       "      <th>capexCap</th>\n",
       "      <th>[1e6 Euro/a]</th>\n",
       "      <td>206112</td>\n",
       "    </tr>\n",
       "    <tr>\n",
       "      <th>invest</th>\n",
       "      <th>[1e6 Euro]</th>\n",
       "      <td>1.55328e+06</td>\n",
       "    </tr>\n",
       "    <tr>\n",
       "      <th>operation</th>\n",
       "      <th>[Mio pkm/h*h/a]</th>\n",
       "      <td>867000</td>\n",
       "    </tr>\n",
       "    <tr>\n",
       "      <th>opexCap</th>\n",
       "      <th>[1e6 Euro/a]</th>\n",
       "      <td>13979.5</td>\n",
       "    </tr>\n",
       "    <tr>\n",
       "      <th rowspan=\"6\" valign=\"top\">BEV_Truck</th>\n",
       "      <th>TAC</th>\n",
       "      <th>[1e6 Euro/a]</th>\n",
       "      <td>58453.7</td>\n",
       "    </tr>\n",
       "    <tr>\n",
       "      <th>capacity</th>\n",
       "      <th>[Mio tkm/h]</th>\n",
       "      <td>107.934</td>\n",
       "    </tr>\n",
       "    <tr>\n",
       "      <th>capexCap</th>\n",
       "      <th>[1e6 Euro/a]</th>\n",
       "      <td>54272.8</td>\n",
       "    </tr>\n",
       "    <tr>\n",
       "      <th>invest</th>\n",
       "      <th>[1e6 Euro]</th>\n",
       "      <td>464547</td>\n",
       "    </tr>\n",
       "    <tr>\n",
       "      <th>operation</th>\n",
       "      <th>[Mio tkm/h*h/a]</th>\n",
       "      <td>945500</td>\n",
       "    </tr>\n",
       "    <tr>\n",
       "      <th>opexCap</th>\n",
       "      <th>[1e6 Euro/a]</th>\n",
       "      <td>4180.92</td>\n",
       "    </tr>\n",
       "    <tr>\n",
       "      <th rowspan=\"7\" valign=\"top\">BioGasCHP</th>\n",
       "      <th>TAC</th>\n",
       "      <th>[1e6 Euro/a]</th>\n",
       "      <td>242.655</td>\n",
       "    </tr>\n",
       "    <tr>\n",
       "      <th>capacity</th>\n",
       "      <th>[GW$_{el}$]</th>\n",
       "      <td>1.692</td>\n",
       "    </tr>\n",
       "    <tr>\n",
       "      <th>capexCap</th>\n",
       "      <th>[1e6 Euro/a]</th>\n",
       "      <td>134.729</td>\n",
       "    </tr>\n",
       "    <tr>\n",
       "      <th>invest</th>\n",
       "      <th>[1e6 Euro]</th>\n",
       "      <td>1438.2</td>\n",
       "    </tr>\n",
       "    <tr>\n",
       "      <th>operation</th>\n",
       "      <th>[GW$_{el}$*h/a]</th>\n",
       "      <td>11693.1</td>\n",
       "    </tr>\n",
       "    <tr>\n",
       "      <th>opexCap</th>\n",
       "      <th>[1e6 Euro/a]</th>\n",
       "      <td>14.382</td>\n",
       "    </tr>\n",
       "    <tr>\n",
       "      <th>opexOp</th>\n",
       "      <th>[1e6 Euro/a]</th>\n",
       "      <td>93.5446</td>\n",
       "    </tr>\n",
       "    <tr>\n",
       "      <th rowspan=\"7\" valign=\"top\">CCGT plants (NGas)</th>\n",
       "      <th>TAC</th>\n",
       "      <th>[1e6 Euro/a]</th>\n",
       "      <td>5739.37</td>\n",
       "    </tr>\n",
       "    <tr>\n",
       "      <th>capacity</th>\n",
       "      <th>[GW$_{el}$]</th>\n",
       "      <td>54.6573</td>\n",
       "    </tr>\n",
       "    <tr>\n",
       "      <th>capexCap</th>\n",
       "      <th>[1e6 Euro/a]</th>\n",
       "      <td>4126.81</td>\n",
       "    </tr>\n",
       "    <tr>\n",
       "      <th>invest</th>\n",
       "      <th>[1e6 Euro]</th>\n",
       "      <td>46458.7</td>\n",
       "    </tr>\n",
       "    <tr>\n",
       "      <th>operation</th>\n",
       "      <th>[GW$_{el}$*h/a]</th>\n",
       "      <td>109402</td>\n",
       "    </tr>\n",
       "    <tr>\n",
       "      <th>opexCap</th>\n",
       "      <th>[1e6 Euro/a]</th>\n",
       "      <td>1393.76</td>\n",
       "    </tr>\n",
       "    <tr>\n",
       "      <th>opexOp</th>\n",
       "      <th>[1e6 Euro/a]</th>\n",
       "      <td>218.805</td>\n",
       "    </tr>\n",
       "    <tr>\n",
       "      <th>CH4Slip</th>\n",
       "      <th>operation</th>\n",
       "      <th>[GW$_{CH4}$*h/a]</th>\n",
       "      <td>189172</td>\n",
       "    </tr>\n",
       "    <tr>\n",
       "      <th rowspan=\"3\" valign=\"top\">CoalCHP</th>\n",
       "      <th>TAC</th>\n",
       "      <th>[1e6 Euro/a]</th>\n",
       "      <td>7317.57</td>\n",
       "    </tr>\n",
       "    <tr>\n",
       "      <th>capacity</th>\n",
       "      <th>[GW$_{el}$]</th>\n",
       "      <td>31.9218</td>\n",
       "    </tr>\n",
       "    <tr>\n",
       "      <th>capexCap</th>\n",
       "      <th>[1e6 Euro/a]</th>\n",
       "      <td>5058.92</td>\n",
       "    </tr>\n",
       "    <tr>\n",
       "      <th>...</th>\n",
       "      <th>...</th>\n",
       "      <th>...</th>\n",
       "      <td>...</td>\n",
       "    </tr>\n",
       "    <tr>\n",
       "      <th rowspan=\"2\" valign=\"top\">LS-SOFC</th>\n",
       "      <th>operation</th>\n",
       "      <th>[GW$_{el}$*h/a]</th>\n",
       "      <td>1088.07</td>\n",
       "    </tr>\n",
       "    <tr>\n",
       "      <th>opexCap</th>\n",
       "      <th>[1e6 Euro/a]</th>\n",
       "      <td>2.86189</td>\n",
       "    </tr>\n",
       "    <tr>\n",
       "      <th rowspan=\"7\" valign=\"top\">WoodCHP</th>\n",
       "      <th>TAC</th>\n",
       "      <th>[1e6 Euro/a]</th>\n",
       "      <td>1880.94</td>\n",
       "    </tr>\n",
       "    <tr>\n",
       "      <th>capacity</th>\n",
       "      <th>[GW$_{el}$]</th>\n",
       "      <td>4.7142</td>\n",
       "    </tr>\n",
       "    <tr>\n",
       "      <th>capexCap</th>\n",
       "      <th>[1e6 Euro/a]</th>\n",
       "      <td>1324.86</td>\n",
       "    </tr>\n",
       "    <tr>\n",
       "      <th>invest</th>\n",
       "      <th>[1e6 Euro]</th>\n",
       "      <td>14142.6</td>\n",
       "    </tr>\n",
       "    <tr>\n",
       "      <th>operation</th>\n",
       "      <th>[GW$_{el}$*h/a]</th>\n",
       "      <td>38406.2</td>\n",
       "    </tr>\n",
       "    <tr>\n",
       "      <th>opexCap</th>\n",
       "      <th>[1e6 Euro/a]</th>\n",
       "      <td>410.135</td>\n",
       "    </tr>\n",
       "    <tr>\n",
       "      <th>opexOp</th>\n",
       "      <th>[1e6 Euro/a]</th>\n",
       "      <td>145.943</td>\n",
       "    </tr>\n",
       "    <tr>\n",
       "      <th>bioslurry-biogas</th>\n",
       "      <th>operation</th>\n",
       "      <th>[GW$_{CH4}$*h/a]</th>\n",
       "      <td>20038.8</td>\n",
       "    </tr>\n",
       "    <tr>\n",
       "      <th>biowaste-biogas</th>\n",
       "      <th>operation</th>\n",
       "      <th>[GW$_{CH4}$*h/a]</th>\n",
       "      <td>4840.03</td>\n",
       "    </tr>\n",
       "    <tr>\n",
       "      <th rowspan=\"6\" valign=\"top\">electrode boiler</th>\n",
       "      <th>TAC</th>\n",
       "      <th>[1e6 Euro/a]</th>\n",
       "      <td>825.215</td>\n",
       "    </tr>\n",
       "    <tr>\n",
       "      <th>capacity</th>\n",
       "      <th>[GW$_{Pheat}$]</th>\n",
       "      <td>48.3733</td>\n",
       "    </tr>\n",
       "    <tr>\n",
       "      <th>capexCap</th>\n",
       "      <th>[1e6 Euro/a]</th>\n",
       "      <td>689.77</td>\n",
       "    </tr>\n",
       "    <tr>\n",
       "      <th>invest</th>\n",
       "      <th>[1e6 Euro]</th>\n",
       "      <td>6772.26</td>\n",
       "    </tr>\n",
       "    <tr>\n",
       "      <th>operation</th>\n",
       "      <th>[GW$_{Pheat}$*h/a]</th>\n",
       "      <td>423750</td>\n",
       "    </tr>\n",
       "    <tr>\n",
       "      <th>opexCap</th>\n",
       "      <th>[1e6 Euro/a]</th>\n",
       "      <td>135.445</td>\n",
       "    </tr>\n",
       "    <tr>\n",
       "      <th rowspan=\"7\" valign=\"top\">nGasCHP</th>\n",
       "      <th>TAC</th>\n",
       "      <th>[1e6 Euro/a]</th>\n",
       "      <td>817.67</td>\n",
       "    </tr>\n",
       "    <tr>\n",
       "      <th>capacity</th>\n",
       "      <th>[GW$_{el}$]</th>\n",
       "      <td>9.33</td>\n",
       "    </tr>\n",
       "    <tr>\n",
       "      <th>capexCap</th>\n",
       "      <th>[1e6 Euro/a]</th>\n",
       "      <td>551.954</td>\n",
       "    </tr>\n",
       "    <tr>\n",
       "      <th>invest</th>\n",
       "      <th>[1e6 Euro]</th>\n",
       "      <td>6213.78</td>\n",
       "    </tr>\n",
       "    <tr>\n",
       "      <th>operation</th>\n",
       "      <th>[GW$_{el}$*h/a]</th>\n",
       "      <td>7301.01</td>\n",
       "    </tr>\n",
       "    <tr>\n",
       "      <th>opexCap</th>\n",
       "      <th>[1e6 Euro/a]</th>\n",
       "      <td>254.765</td>\n",
       "    </tr>\n",
       "    <tr>\n",
       "      <th>opexOp</th>\n",
       "      <th>[1e6 Euro/a]</th>\n",
       "      <td>10.9515</td>\n",
       "    </tr>\n",
       "    <tr>\n",
       "      <th rowspan=\"6\" valign=\"top\">oilBoiler</th>\n",
       "      <th>TAC</th>\n",
       "      <th>[1e6 Euro/a]</th>\n",
       "      <td>980.358</td>\n",
       "    </tr>\n",
       "    <tr>\n",
       "      <th>capacity</th>\n",
       "      <th>[GW$_{LTHeat}$]</th>\n",
       "      <td>20.7962</td>\n",
       "    </tr>\n",
       "    <tr>\n",
       "      <th>capexCap</th>\n",
       "      <th>[1e6 Euro/a]</th>\n",
       "      <td>698.986</td>\n",
       "    </tr>\n",
       "    <tr>\n",
       "      <th>invest</th>\n",
       "      <th>[1e6 Euro]</th>\n",
       "      <td>6862.74</td>\n",
       "    </tr>\n",
       "    <tr>\n",
       "      <th>operation</th>\n",
       "      <th>[GW$_{LTHeat}$*h/a]</th>\n",
       "      <td>65300.7</td>\n",
       "    </tr>\n",
       "    <tr>\n",
       "      <th>opexCap</th>\n",
       "      <th>[1e6 Euro/a]</th>\n",
       "      <td>281.372</td>\n",
       "    </tr>\n",
       "  </tbody>\n",
       "</table>\n",
       "<p>74 rows × 1 columns</p>\n",
       "</div>"
      ],
      "text/plain": [
       "                                                   EnergyLand\n",
       "Component          Property  Unit                            \n",
       "BEV_PCar           TAC       [1e6 Euro/a]              220091\n",
       "                   capacity  [Mio pkm/h]              98.9726\n",
       "                   capexCap  [1e6 Euro/a]              206112\n",
       "                   invest    [1e6 Euro]           1.55328e+06\n",
       "                   operation [Mio pkm/h*h/a]           867000\n",
       "                   opexCap   [1e6 Euro/a]             13979.5\n",
       "BEV_Truck          TAC       [1e6 Euro/a]             58453.7\n",
       "                   capacity  [Mio tkm/h]              107.934\n",
       "                   capexCap  [1e6 Euro/a]             54272.8\n",
       "                   invest    [1e6 Euro]                464547\n",
       "                   operation [Mio tkm/h*h/a]           945500\n",
       "                   opexCap   [1e6 Euro/a]             4180.92\n",
       "BioGasCHP          TAC       [1e6 Euro/a]             242.655\n",
       "                   capacity  [GW$_{el}$]                1.692\n",
       "                   capexCap  [1e6 Euro/a]             134.729\n",
       "                   invest    [1e6 Euro]                1438.2\n",
       "                   operation [GW$_{el}$*h/a]          11693.1\n",
       "                   opexCap   [1e6 Euro/a]              14.382\n",
       "                   opexOp    [1e6 Euro/a]             93.5446\n",
       "CCGT plants (NGas) TAC       [1e6 Euro/a]             5739.37\n",
       "                   capacity  [GW$_{el}$]              54.6573\n",
       "                   capexCap  [1e6 Euro/a]             4126.81\n",
       "                   invest    [1e6 Euro]               46458.7\n",
       "                   operation [GW$_{el}$*h/a]           109402\n",
       "                   opexCap   [1e6 Euro/a]             1393.76\n",
       "                   opexOp    [1e6 Euro/a]             218.805\n",
       "CH4Slip            operation [GW$_{CH4}$*h/a]          189172\n",
       "CoalCHP            TAC       [1e6 Euro/a]             7317.57\n",
       "                   capacity  [GW$_{el}$]              31.9218\n",
       "                   capexCap  [1e6 Euro/a]             5058.92\n",
       "...                                                       ...\n",
       "LS-SOFC            operation [GW$_{el}$*h/a]          1088.07\n",
       "                   opexCap   [1e6 Euro/a]             2.86189\n",
       "WoodCHP            TAC       [1e6 Euro/a]             1880.94\n",
       "                   capacity  [GW$_{el}$]               4.7142\n",
       "                   capexCap  [1e6 Euro/a]             1324.86\n",
       "                   invest    [1e6 Euro]               14142.6\n",
       "                   operation [GW$_{el}$*h/a]          38406.2\n",
       "                   opexCap   [1e6 Euro/a]             410.135\n",
       "                   opexOp    [1e6 Euro/a]             145.943\n",
       "bioslurry-biogas   operation [GW$_{CH4}$*h/a]         20038.8\n",
       "biowaste-biogas    operation [GW$_{CH4}$*h/a]         4840.03\n",
       "electrode boiler   TAC       [1e6 Euro/a]             825.215\n",
       "                   capacity  [GW$_{Pheat}$]           48.3733\n",
       "                   capexCap  [1e6 Euro/a]              689.77\n",
       "                   invest    [1e6 Euro]               6772.26\n",
       "                   operation [GW$_{Pheat}$*h/a]        423750\n",
       "                   opexCap   [1e6 Euro/a]             135.445\n",
       "nGasCHP            TAC       [1e6 Euro/a]              817.67\n",
       "                   capacity  [GW$_{el}$]                 9.33\n",
       "                   capexCap  [1e6 Euro/a]             551.954\n",
       "                   invest    [1e6 Euro]               6213.78\n",
       "                   operation [GW$_{el}$*h/a]          7301.01\n",
       "                   opexCap   [1e6 Euro/a]             254.765\n",
       "                   opexOp    [1e6 Euro/a]             10.9515\n",
       "oilBoiler          TAC       [1e6 Euro/a]             980.358\n",
       "                   capacity  [GW$_{LTHeat}$]          20.7962\n",
       "                   capexCap  [1e6 Euro/a]             698.986\n",
       "                   invest    [1e6 Euro]               6862.74\n",
       "                   operation [GW$_{LTHeat}$*h/a]      65300.7\n",
       "                   opexCap   [1e6 Euro/a]             281.372\n",
       "\n",
       "[74 rows x 1 columns]"
      ]
     },
     "metadata": {},
     "output_type": "display_data"
    }
   ],
   "source": [
    "srcSnkSummary = esM.getOptimizationSummary(\"SourceSinkModel\", outputLevel=2)\n",
    "display(esM.getOptimizationSummary(\"ConversionModel\", outputLevel=2))"
   ]
  },
  {
   "cell_type": "code",
   "execution_count": 56,
   "metadata": {},
   "outputs": [
    {
     "data": {
      "text/html": [
       "<div>\n",
       "<style scoped>\n",
       "    .dataframe tbody tr th:only-of-type {\n",
       "        vertical-align: middle;\n",
       "    }\n",
       "\n",
       "    .dataframe tbody tr th {\n",
       "        vertical-align: top;\n",
       "    }\n",
       "\n",
       "    .dataframe thead th {\n",
       "        text-align: right;\n",
       "    }\n",
       "</style>\n",
       "<table border=\"1\" class=\"dataframe\">\n",
       "  <thead>\n",
       "    <tr style=\"text-align: right;\">\n",
       "      <th></th>\n",
       "      <th></th>\n",
       "      <th></th>\n",
       "      <th>EnergyLand</th>\n",
       "    </tr>\n",
       "    <tr>\n",
       "      <th>Component</th>\n",
       "      <th>Property</th>\n",
       "      <th>Unit</th>\n",
       "      <th></th>\n",
       "    </tr>\n",
       "  </thead>\n",
       "  <tbody>\n",
       "    <tr>\n",
       "      <th rowspan=\"6\" valign=\"top\">BEV_PCar</th>\n",
       "      <th>TAC</th>\n",
       "      <th>[1e6 Euro/a]</th>\n",
       "      <td>220091</td>\n",
       "    </tr>\n",
       "    <tr>\n",
       "      <th>capacity</th>\n",
       "      <th>[Mio pkm/h]</th>\n",
       "      <td>98.9726</td>\n",
       "    </tr>\n",
       "    <tr>\n",
       "      <th>capexCap</th>\n",
       "      <th>[1e6 Euro/a]</th>\n",
       "      <td>206112</td>\n",
       "    </tr>\n",
       "    <tr>\n",
       "      <th>invest</th>\n",
       "      <th>[1e6 Euro]</th>\n",
       "      <td>1.55328e+06</td>\n",
       "    </tr>\n",
       "    <tr>\n",
       "      <th>operation</th>\n",
       "      <th>[Mio pkm/h*h/a]</th>\n",
       "      <td>867000</td>\n",
       "    </tr>\n",
       "    <tr>\n",
       "      <th>opexCap</th>\n",
       "      <th>[1e6 Euro/a]</th>\n",
       "      <td>13979.5</td>\n",
       "    </tr>\n",
       "    <tr>\n",
       "      <th rowspan=\"6\" valign=\"top\">BEV_Truck</th>\n",
       "      <th>TAC</th>\n",
       "      <th>[1e6 Euro/a]</th>\n",
       "      <td>58453.7</td>\n",
       "    </tr>\n",
       "    <tr>\n",
       "      <th>capacity</th>\n",
       "      <th>[Mio tkm/h]</th>\n",
       "      <td>107.934</td>\n",
       "    </tr>\n",
       "    <tr>\n",
       "      <th>capexCap</th>\n",
       "      <th>[1e6 Euro/a]</th>\n",
       "      <td>54272.8</td>\n",
       "    </tr>\n",
       "    <tr>\n",
       "      <th>invest</th>\n",
       "      <th>[1e6 Euro]</th>\n",
       "      <td>464547</td>\n",
       "    </tr>\n",
       "    <tr>\n",
       "      <th>operation</th>\n",
       "      <th>[Mio tkm/h*h/a]</th>\n",
       "      <td>945500</td>\n",
       "    </tr>\n",
       "    <tr>\n",
       "      <th>opexCap</th>\n",
       "      <th>[1e6 Euro/a]</th>\n",
       "      <td>4180.92</td>\n",
       "    </tr>\n",
       "    <tr>\n",
       "      <th rowspan=\"7\" valign=\"top\">BioGasCHP</th>\n",
       "      <th>TAC</th>\n",
       "      <th>[1e6 Euro/a]</th>\n",
       "      <td>242.655</td>\n",
       "    </tr>\n",
       "    <tr>\n",
       "      <th>capacity</th>\n",
       "      <th>[GW$_{el}$]</th>\n",
       "      <td>1.692</td>\n",
       "    </tr>\n",
       "    <tr>\n",
       "      <th>capexCap</th>\n",
       "      <th>[1e6 Euro/a]</th>\n",
       "      <td>134.729</td>\n",
       "    </tr>\n",
       "    <tr>\n",
       "      <th>invest</th>\n",
       "      <th>[1e6 Euro]</th>\n",
       "      <td>1438.2</td>\n",
       "    </tr>\n",
       "    <tr>\n",
       "      <th>operation</th>\n",
       "      <th>[GW$_{el}$*h/a]</th>\n",
       "      <td>11693.1</td>\n",
       "    </tr>\n",
       "    <tr>\n",
       "      <th>opexCap</th>\n",
       "      <th>[1e6 Euro/a]</th>\n",
       "      <td>14.382</td>\n",
       "    </tr>\n",
       "    <tr>\n",
       "      <th>opexOp</th>\n",
       "      <th>[1e6 Euro/a]</th>\n",
       "      <td>93.5446</td>\n",
       "    </tr>\n",
       "    <tr>\n",
       "      <th rowspan=\"7\" valign=\"top\">CCGT plants (NGas)</th>\n",
       "      <th>TAC</th>\n",
       "      <th>[1e6 Euro/a]</th>\n",
       "      <td>5739.37</td>\n",
       "    </tr>\n",
       "    <tr>\n",
       "      <th>capacity</th>\n",
       "      <th>[GW$_{el}$]</th>\n",
       "      <td>54.6573</td>\n",
       "    </tr>\n",
       "    <tr>\n",
       "      <th>capexCap</th>\n",
       "      <th>[1e6 Euro/a]</th>\n",
       "      <td>4126.81</td>\n",
       "    </tr>\n",
       "    <tr>\n",
       "      <th>invest</th>\n",
       "      <th>[1e6 Euro]</th>\n",
       "      <td>46458.7</td>\n",
       "    </tr>\n",
       "    <tr>\n",
       "      <th>operation</th>\n",
       "      <th>[GW$_{el}$*h/a]</th>\n",
       "      <td>109402</td>\n",
       "    </tr>\n",
       "    <tr>\n",
       "      <th>opexCap</th>\n",
       "      <th>[1e6 Euro/a]</th>\n",
       "      <td>1393.76</td>\n",
       "    </tr>\n",
       "    <tr>\n",
       "      <th>opexOp</th>\n",
       "      <th>[1e6 Euro/a]</th>\n",
       "      <td>218.805</td>\n",
       "    </tr>\n",
       "    <tr>\n",
       "      <th>CH4Slip</th>\n",
       "      <th>operation</th>\n",
       "      <th>[GW$_{CH4}$*h/a]</th>\n",
       "      <td>189172</td>\n",
       "    </tr>\n",
       "    <tr>\n",
       "      <th rowspan=\"3\" valign=\"top\">CoalCHP</th>\n",
       "      <th>TAC</th>\n",
       "      <th>[1e6 Euro/a]</th>\n",
       "      <td>7317.57</td>\n",
       "    </tr>\n",
       "    <tr>\n",
       "      <th>capacity</th>\n",
       "      <th>[GW$_{el}$]</th>\n",
       "      <td>31.9218</td>\n",
       "    </tr>\n",
       "    <tr>\n",
       "      <th>capexCap</th>\n",
       "      <th>[1e6 Euro/a]</th>\n",
       "      <td>5058.92</td>\n",
       "    </tr>\n",
       "    <tr>\n",
       "      <th>...</th>\n",
       "      <th>...</th>\n",
       "      <th>...</th>\n",
       "      <td>...</td>\n",
       "    </tr>\n",
       "    <tr>\n",
       "      <th rowspan=\"2\" valign=\"top\">LS-SOFC</th>\n",
       "      <th>operation</th>\n",
       "      <th>[GW$_{el}$*h/a]</th>\n",
       "      <td>1088.07</td>\n",
       "    </tr>\n",
       "    <tr>\n",
       "      <th>opexCap</th>\n",
       "      <th>[1e6 Euro/a]</th>\n",
       "      <td>2.86189</td>\n",
       "    </tr>\n",
       "    <tr>\n",
       "      <th rowspan=\"7\" valign=\"top\">WoodCHP</th>\n",
       "      <th>TAC</th>\n",
       "      <th>[1e6 Euro/a]</th>\n",
       "      <td>1880.94</td>\n",
       "    </tr>\n",
       "    <tr>\n",
       "      <th>capacity</th>\n",
       "      <th>[GW$_{el}$]</th>\n",
       "      <td>4.7142</td>\n",
       "    </tr>\n",
       "    <tr>\n",
       "      <th>capexCap</th>\n",
       "      <th>[1e6 Euro/a]</th>\n",
       "      <td>1324.86</td>\n",
       "    </tr>\n",
       "    <tr>\n",
       "      <th>invest</th>\n",
       "      <th>[1e6 Euro]</th>\n",
       "      <td>14142.6</td>\n",
       "    </tr>\n",
       "    <tr>\n",
       "      <th>operation</th>\n",
       "      <th>[GW$_{el}$*h/a]</th>\n",
       "      <td>38406.2</td>\n",
       "    </tr>\n",
       "    <tr>\n",
       "      <th>opexCap</th>\n",
       "      <th>[1e6 Euro/a]</th>\n",
       "      <td>410.135</td>\n",
       "    </tr>\n",
       "    <tr>\n",
       "      <th>opexOp</th>\n",
       "      <th>[1e6 Euro/a]</th>\n",
       "      <td>145.943</td>\n",
       "    </tr>\n",
       "    <tr>\n",
       "      <th>bioslurry-biogas</th>\n",
       "      <th>operation</th>\n",
       "      <th>[GW$_{CH4}$*h/a]</th>\n",
       "      <td>20038.8</td>\n",
       "    </tr>\n",
       "    <tr>\n",
       "      <th>biowaste-biogas</th>\n",
       "      <th>operation</th>\n",
       "      <th>[GW$_{CH4}$*h/a]</th>\n",
       "      <td>4840.03</td>\n",
       "    </tr>\n",
       "    <tr>\n",
       "      <th rowspan=\"6\" valign=\"top\">electrode boiler</th>\n",
       "      <th>TAC</th>\n",
       "      <th>[1e6 Euro/a]</th>\n",
       "      <td>825.215</td>\n",
       "    </tr>\n",
       "    <tr>\n",
       "      <th>capacity</th>\n",
       "      <th>[GW$_{Pheat}$]</th>\n",
       "      <td>48.3733</td>\n",
       "    </tr>\n",
       "    <tr>\n",
       "      <th>capexCap</th>\n",
       "      <th>[1e6 Euro/a]</th>\n",
       "      <td>689.77</td>\n",
       "    </tr>\n",
       "    <tr>\n",
       "      <th>invest</th>\n",
       "      <th>[1e6 Euro]</th>\n",
       "      <td>6772.26</td>\n",
       "    </tr>\n",
       "    <tr>\n",
       "      <th>operation</th>\n",
       "      <th>[GW$_{Pheat}$*h/a]</th>\n",
       "      <td>423750</td>\n",
       "    </tr>\n",
       "    <tr>\n",
       "      <th>opexCap</th>\n",
       "      <th>[1e6 Euro/a]</th>\n",
       "      <td>135.445</td>\n",
       "    </tr>\n",
       "    <tr>\n",
       "      <th rowspan=\"7\" valign=\"top\">nGasCHP</th>\n",
       "      <th>TAC</th>\n",
       "      <th>[1e6 Euro/a]</th>\n",
       "      <td>817.67</td>\n",
       "    </tr>\n",
       "    <tr>\n",
       "      <th>capacity</th>\n",
       "      <th>[GW$_{el}$]</th>\n",
       "      <td>9.33</td>\n",
       "    </tr>\n",
       "    <tr>\n",
       "      <th>capexCap</th>\n",
       "      <th>[1e6 Euro/a]</th>\n",
       "      <td>551.954</td>\n",
       "    </tr>\n",
       "    <tr>\n",
       "      <th>invest</th>\n",
       "      <th>[1e6 Euro]</th>\n",
       "      <td>6213.78</td>\n",
       "    </tr>\n",
       "    <tr>\n",
       "      <th>operation</th>\n",
       "      <th>[GW$_{el}$*h/a]</th>\n",
       "      <td>7301.01</td>\n",
       "    </tr>\n",
       "    <tr>\n",
       "      <th>opexCap</th>\n",
       "      <th>[1e6 Euro/a]</th>\n",
       "      <td>254.765</td>\n",
       "    </tr>\n",
       "    <tr>\n",
       "      <th>opexOp</th>\n",
       "      <th>[1e6 Euro/a]</th>\n",
       "      <td>10.9515</td>\n",
       "    </tr>\n",
       "    <tr>\n",
       "      <th rowspan=\"6\" valign=\"top\">oilBoiler</th>\n",
       "      <th>TAC</th>\n",
       "      <th>[1e6 Euro/a]</th>\n",
       "      <td>980.358</td>\n",
       "    </tr>\n",
       "    <tr>\n",
       "      <th>capacity</th>\n",
       "      <th>[GW$_{LTHeat}$]</th>\n",
       "      <td>20.7962</td>\n",
       "    </tr>\n",
       "    <tr>\n",
       "      <th>capexCap</th>\n",
       "      <th>[1e6 Euro/a]</th>\n",
       "      <td>698.986</td>\n",
       "    </tr>\n",
       "    <tr>\n",
       "      <th>invest</th>\n",
       "      <th>[1e6 Euro]</th>\n",
       "      <td>6862.74</td>\n",
       "    </tr>\n",
       "    <tr>\n",
       "      <th>operation</th>\n",
       "      <th>[GW$_{LTHeat}$*h/a]</th>\n",
       "      <td>65300.7</td>\n",
       "    </tr>\n",
       "    <tr>\n",
       "      <th>opexCap</th>\n",
       "      <th>[1e6 Euro/a]</th>\n",
       "      <td>281.372</td>\n",
       "    </tr>\n",
       "  </tbody>\n",
       "</table>\n",
       "<p>74 rows × 1 columns</p>\n",
       "</div>"
      ],
      "text/plain": [
       "                                                   EnergyLand\n",
       "Component          Property  Unit                            \n",
       "BEV_PCar           TAC       [1e6 Euro/a]              220091\n",
       "                   capacity  [Mio pkm/h]              98.9726\n",
       "                   capexCap  [1e6 Euro/a]              206112\n",
       "                   invest    [1e6 Euro]           1.55328e+06\n",
       "                   operation [Mio pkm/h*h/a]           867000\n",
       "                   opexCap   [1e6 Euro/a]             13979.5\n",
       "BEV_Truck          TAC       [1e6 Euro/a]             58453.7\n",
       "                   capacity  [Mio tkm/h]              107.934\n",
       "                   capexCap  [1e6 Euro/a]             54272.8\n",
       "                   invest    [1e6 Euro]                464547\n",
       "                   operation [Mio tkm/h*h/a]           945500\n",
       "                   opexCap   [1e6 Euro/a]             4180.92\n",
       "BioGasCHP          TAC       [1e6 Euro/a]             242.655\n",
       "                   capacity  [GW$_{el}$]                1.692\n",
       "                   capexCap  [1e6 Euro/a]             134.729\n",
       "                   invest    [1e6 Euro]                1438.2\n",
       "                   operation [GW$_{el}$*h/a]          11693.1\n",
       "                   opexCap   [1e6 Euro/a]              14.382\n",
       "                   opexOp    [1e6 Euro/a]             93.5446\n",
       "CCGT plants (NGas) TAC       [1e6 Euro/a]             5739.37\n",
       "                   capacity  [GW$_{el}$]              54.6573\n",
       "                   capexCap  [1e6 Euro/a]             4126.81\n",
       "                   invest    [1e6 Euro]               46458.7\n",
       "                   operation [GW$_{el}$*h/a]           109402\n",
       "                   opexCap   [1e6 Euro/a]             1393.76\n",
       "                   opexOp    [1e6 Euro/a]             218.805\n",
       "CH4Slip            operation [GW$_{CH4}$*h/a]          189172\n",
       "CoalCHP            TAC       [1e6 Euro/a]             7317.57\n",
       "                   capacity  [GW$_{el}$]              31.9218\n",
       "                   capexCap  [1e6 Euro/a]             5058.92\n",
       "...                                                       ...\n",
       "LS-SOFC            operation [GW$_{el}$*h/a]          1088.07\n",
       "                   opexCap   [1e6 Euro/a]             2.86189\n",
       "WoodCHP            TAC       [1e6 Euro/a]             1880.94\n",
       "                   capacity  [GW$_{el}$]               4.7142\n",
       "                   capexCap  [1e6 Euro/a]             1324.86\n",
       "                   invest    [1e6 Euro]               14142.6\n",
       "                   operation [GW$_{el}$*h/a]          38406.2\n",
       "                   opexCap   [1e6 Euro/a]             410.135\n",
       "                   opexOp    [1e6 Euro/a]             145.943\n",
       "bioslurry-biogas   operation [GW$_{CH4}$*h/a]         20038.8\n",
       "biowaste-biogas    operation [GW$_{CH4}$*h/a]         4840.03\n",
       "electrode boiler   TAC       [1e6 Euro/a]             825.215\n",
       "                   capacity  [GW$_{Pheat}$]           48.3733\n",
       "                   capexCap  [1e6 Euro/a]              689.77\n",
       "                   invest    [1e6 Euro]               6772.26\n",
       "                   operation [GW$_{Pheat}$*h/a]        423750\n",
       "                   opexCap   [1e6 Euro/a]             135.445\n",
       "nGasCHP            TAC       [1e6 Euro/a]              817.67\n",
       "                   capacity  [GW$_{el}$]                 9.33\n",
       "                   capexCap  [1e6 Euro/a]             551.954\n",
       "                   invest    [1e6 Euro]               6213.78\n",
       "                   operation [GW$_{el}$*h/a]          7301.01\n",
       "                   opexCap   [1e6 Euro/a]             254.765\n",
       "                   opexOp    [1e6 Euro/a]             10.9515\n",
       "oilBoiler          TAC       [1e6 Euro/a]             980.358\n",
       "                   capacity  [GW$_{LTHeat}$]          20.7962\n",
       "                   capexCap  [1e6 Euro/a]             698.986\n",
       "                   invest    [1e6 Euro]               6862.74\n",
       "                   operation [GW$_{LTHeat}$*h/a]      65300.7\n",
       "                   opexCap   [1e6 Euro/a]             281.372\n",
       "\n",
       "[74 rows x 1 columns]"
      ]
     },
     "metadata": {},
     "output_type": "display_data"
    }
   ],
   "source": [
    "convSummary = esM.getOptimizationSummary(\"ConversionModel\", outputLevel=2)\n",
    "display(esM.getOptimizationSummary(\"ConversionModel\", outputLevel=2))"
   ]
  },
  {
   "cell_type": "code",
   "execution_count": 57,
   "metadata": {
    "scrolled": false
   },
   "outputs": [
    {
     "data": {
      "text/html": [
       "<div>\n",
       "<style scoped>\n",
       "    .dataframe tbody tr th:only-of-type {\n",
       "        vertical-align: middle;\n",
       "    }\n",
       "\n",
       "    .dataframe tbody tr th {\n",
       "        vertical-align: top;\n",
       "    }\n",
       "\n",
       "    .dataframe thead th {\n",
       "        text-align: right;\n",
       "    }\n",
       "</style>\n",
       "<table border=\"1\" class=\"dataframe\">\n",
       "  <thead>\n",
       "    <tr style=\"text-align: right;\">\n",
       "      <th></th>\n",
       "      <th></th>\n",
       "      <th></th>\n",
       "      <th>EnergyLand</th>\n",
       "    </tr>\n",
       "    <tr>\n",
       "      <th>Component</th>\n",
       "      <th>Property</th>\n",
       "      <th>Unit</th>\n",
       "      <th></th>\n",
       "    </tr>\n",
       "  </thead>\n",
       "  <tbody>\n",
       "    <tr>\n",
       "      <th rowspan=\"8\" valign=\"top\">LTHeatstorage</th>\n",
       "      <th>TAC</th>\n",
       "      <th>[1e6 Euro/a]</th>\n",
       "      <td>4575.69</td>\n",
       "    </tr>\n",
       "    <tr>\n",
       "      <th>capacity</th>\n",
       "      <th>[GW$_{LTHeat}$*h]</th>\n",
       "      <td>277.568</td>\n",
       "    </tr>\n",
       "    <tr>\n",
       "      <th>capexCap</th>\n",
       "      <th>[1e6 Euro/a]</th>\n",
       "      <td>4155.83</td>\n",
       "    </tr>\n",
       "    <tr>\n",
       "      <th>invest</th>\n",
       "      <th>[1e6 Euro]</th>\n",
       "      <td>40802.5</td>\n",
       "    </tr>\n",
       "    <tr>\n",
       "      <th>operationCharge</th>\n",
       "      <th>[GW$_{LTHeat}$*h/a]</th>\n",
       "      <td>118340</td>\n",
       "    </tr>\n",
       "    <tr>\n",
       "      <th>operationDischarge</th>\n",
       "      <th>[GW$_{LTHeat}$*h/a]</th>\n",
       "      <td>106483</td>\n",
       "    </tr>\n",
       "    <tr>\n",
       "      <th>opexCap</th>\n",
       "      <th>[1e6 Euro/a]</th>\n",
       "      <td>408.025</td>\n",
       "    </tr>\n",
       "    <tr>\n",
       "      <th>opexCharge</th>\n",
       "      <th>[1e6 Euro/a]</th>\n",
       "      <td>11.834</td>\n",
       "    </tr>\n",
       "    <tr>\n",
       "      <th rowspan=\"8\" valign=\"top\">Li-ion batteries</th>\n",
       "      <th>TAC</th>\n",
       "      <th>[1e6 Euro/a]</th>\n",
       "      <td>3168.85</td>\n",
       "    </tr>\n",
       "    <tr>\n",
       "      <th>capacity</th>\n",
       "      <th>[GW$_{el}$*h]</th>\n",
       "      <td>161.737</td>\n",
       "    </tr>\n",
       "    <tr>\n",
       "      <th>capexCap</th>\n",
       "      <th>[1e6 Euro/a]</th>\n",
       "      <td>2892.43</td>\n",
       "    </tr>\n",
       "    <tr>\n",
       "      <th>invest</th>\n",
       "      <th>[1e6 Euro]</th>\n",
       "      <td>19408.5</td>\n",
       "    </tr>\n",
       "    <tr>\n",
       "      <th>operationCharge</th>\n",
       "      <th>[GW$_{el}$*h/a]</th>\n",
       "      <td>46985.7</td>\n",
       "    </tr>\n",
       "    <tr>\n",
       "      <th>operationDischarge</th>\n",
       "      <th>[GW$_{el}$*h/a]</th>\n",
       "      <td>43805.4</td>\n",
       "    </tr>\n",
       "    <tr>\n",
       "      <th>opexCap</th>\n",
       "      <th>[1e6 Euro/a]</th>\n",
       "      <td>271.718</td>\n",
       "    </tr>\n",
       "    <tr>\n",
       "      <th>opexCharge</th>\n",
       "      <th>[1e6 Euro/a]</th>\n",
       "      <td>4.69857</td>\n",
       "    </tr>\n",
       "  </tbody>\n",
       "</table>\n",
       "</div>"
      ],
      "text/plain": [
       "                                                        EnergyLand\n",
       "Component        Property           Unit                          \n",
       "LTHeatstorage    TAC                [1e6 Euro/a]           4575.69\n",
       "                 capacity           [GW$_{LTHeat}$*h]      277.568\n",
       "                 capexCap           [1e6 Euro/a]           4155.83\n",
       "                 invest             [1e6 Euro]             40802.5\n",
       "                 operationCharge    [GW$_{LTHeat}$*h/a]     118340\n",
       "                 operationDischarge [GW$_{LTHeat}$*h/a]     106483\n",
       "                 opexCap            [1e6 Euro/a]           408.025\n",
       "                 opexCharge         [1e6 Euro/a]            11.834\n",
       "Li-ion batteries TAC                [1e6 Euro/a]           3168.85\n",
       "                 capacity           [GW$_{el}$*h]          161.737\n",
       "                 capexCap           [1e6 Euro/a]           2892.43\n",
       "                 invest             [1e6 Euro]             19408.5\n",
       "                 operationCharge    [GW$_{el}$*h/a]        46985.7\n",
       "                 operationDischarge [GW$_{el}$*h/a]        43805.4\n",
       "                 opexCap            [1e6 Euro/a]           271.718\n",
       "                 opexCharge         [1e6 Euro/a]           4.69857"
      ]
     },
     "metadata": {},
     "output_type": "display_data"
    }
   ],
   "source": [
    "storSummary = esM.getOptimizationSummary(\"StorageModel\", outputLevel=2)\n",
    "display(esM.getOptimizationSummary(\"StorageModel\", outputLevel=2))"
   ]
  },
  {
   "cell_type": "code",
   "execution_count": 58,
   "metadata": {
    "scrolled": true
   },
   "outputs": [
    {
     "data": {
      "image/png": "[encoded data removed]",
      "text/plain": [
       "<Figure size 360x216 with 2 Axes>"
      ]
     },
     "metadata": {
      "needs_background": "light"
     },
     "output_type": "display_data"
    }
   ],
   "source": [
    "# If batteries are built in regionS, their storage inventory is displayed as heatmap\n",
    "if storSummary.loc[('Li-ion batteries','capacity','[GW$_{el}$*h]'),'EnergyLand'] > 0:\n",
    "    fig, ax = fn.plotOperationColorMap(esM, 'Li-ion batteries', 'EnergyLand', figsize=(5,3),\n",
    "        xlabel='Day of the year', ylabel='Hour of the day',\n",
    "        zlabel='State of charge\\nin EnergyLand\\n[GW]',\n",
    "        variableName='stateOfChargeOperationVariablesOptimum')"
   ]
  }
 ],
 "metadata": {
  "kernelspec": {
   "display_name": "Python 3",
   "language": "python",
   "name": "python3"
  },
  "language_info": {
   "codemirror_mode": {
    "name": "ipython",
    "version": 3
   },
   "file_extension": ".py",
   "mimetype": "text/x-python",
   "name": "python",
   "nbconvert_exporter": "python",
   "pygments_lexer": "ipython3",
   "version": "3.6.7"
  }
 },
 "nbformat": 4,
 "nbformat_minor": 2
}
