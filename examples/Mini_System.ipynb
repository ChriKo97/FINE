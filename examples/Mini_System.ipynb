{
 "cells": [
  {
   "cell_type": "code",
   "execution_count": 1,
   "metadata": {},
   "outputs": [],
   "source": [
    "import FINE as fn\n",
    "import numpy as np\n",
    "import pandas as pd\n",
    "import warnings\n",
    "warnings.resetwarnings()\n",
    "\n",
    "%matplotlib inline  \n",
    "%load_ext autoreload\n",
    "%autoreload 2"
   ]
  },
  {
   "cell_type": "code",
   "execution_count": 2,
   "metadata": {},
   "outputs": [],
   "source": [
    "numberOfTimeSteps = 4\n",
    "hoursPerTimeStep = 2190"
   ]
  },
  {
   "cell_type": "code",
   "execution_count": 3,
   "metadata": {},
   "outputs": [
    {
     "name": "stdout",
     "output_type": "stream",
     "text": [
      "The distances of a component are set to a normalized value of 1.\n"
     ]
    }
   ],
   "source": [
    "# Create an energy system model instance \n",
    "esM = fn.EnergySystemModel(locations={'ElectrolyzerLocation', 'IndustryLocation'}, \n",
    "                            commodities={'electricity', 'hydrogen'}, \n",
    "                            numberOfTimeSteps=numberOfTimeSteps,\n",
    "                            commodityUnitsDict={'electricity': r'kW$_{el}$', 'hydrogen': r'kW$_{H_{2},LHV}$'},\n",
    "                            hoursPerTimeStep=hoursPerTimeStep, costUnit='1 Euro', \n",
    "                            lengthUnit='km', \n",
    "                            verboseLogLevel=0)\n",
    "\n",
    "# time step length [h]\n",
    "timeStepLength = numberOfTimeSteps * hoursPerTimeStep\n",
    "\n",
    "\n",
    "### Buy electricity at the electricity market\n",
    "costs = pd.DataFrame([np.array([ 0.05, 0., 0.1, 0.051,]),np.array([0., 0., 0., 0.,])],\n",
    "                        index = ['ElectrolyzerLocation', 'IndustryLocation']).T\n",
    "revenues = pd.DataFrame([np.array([ 0., 0.01, 0., 0.,]),np.array([0., 0., 0., 0.,])],\n",
    "                        index = ['ElectrolyzerLocation', 'IndustryLocation']).T\n",
    "maxpurchase = pd.DataFrame([np.array([1e6, 1e6, 1e6, 1e6,]),np.array([0., 0., 0., 0.,])],\n",
    "                        index = ['ElectrolyzerLocation', 'IndustryLocation']).T * hoursPerTimeStep\n",
    "esM.add(fn.Source(esM=esM, name='Electricity market', commodity='electricity', \n",
    "                    hasCapacityVariable=False, operationRateMax = maxpurchase,\n",
    "                    commodityCostTimeSeries = costs,\n",
    "                    commodityRevenueTimeSeries = revenues,  \n",
    "                    )) # eur/kWh\n",
    "\n",
    "### Electrolyzers\n",
    "esM.add(fn.Conversion(esM=esM, name='Electroylzers', physicalUnit=r'kW$_{el}$',\n",
    "                        commodityConversionFactors={'electricity':-1, 'hydrogen':0.7},\n",
    "                        hasCapacityVariable=True, \n",
    "                        investPerCapacity=500, # euro/kW\n",
    "                        opexPerCapacity=500*0.025, \n",
    "                        interestRate=0.08,\n",
    "                        economicLifetime=10))\n",
    "\n",
    "### Hydrogen filled somewhere\n",
    "esM.add(fn.Storage(esM=esM, name='Pressure tank', commodity='hydrogen',\n",
    "                    hasCapacityVariable=True, capacityVariableDomain='continuous',\n",
    "                    stateOfChargeMin=0.33, \n",
    "                    investPerCapacity=0.5, # eur/kWh\n",
    "                    interestRate=0.08,\n",
    "                    economicLifetime=30))\n",
    "\n",
    "### Hydrogen pipelines\n",
    "esM.add(fn.Transmission(esM=esM, name='Pipelines', commodity='hydrogen',\n",
    "                        hasCapacityVariable=True,\n",
    "                        investPerCapacity=0.177, \n",
    "                        interestRate=0.08,\n",
    "                        economicLifetime=40))\n",
    "\n",
    "### Industry site\n",
    "demand = pd.DataFrame([np.array([0., 0., 0., 0.,]), np.array([6e3, 6e3, 6e3, 6e3,]),],\n",
    "                index = ['ElectrolyzerLocation', 'IndustryLocation']).T * hoursPerTimeStep\n",
    "esM.add(fn.Sink(esM=esM, name='Industry site', commodity='hydrogen', hasCapacityVariable=False,\n",
    "                operationRateFix = demand,\n",
    "                ))"
   ]
  },
  {
   "cell_type": "code",
   "execution_count": 4,
   "metadata": {},
   "outputs": [
    {
     "name": "stdout",
     "output_type": "stream",
     "text": [
      "\n",
      "Clustering time series data with 1 typical periods and 4 time steps per period...\n",
      "\t\t(0.1093 sec)\n",
      "\n"
     ]
    }
   ],
   "source": [
    "esM.cluster(numberOfTypicalPeriods=1, numberOfTimeStepsPerPeriod=4, storeTSAinstance=True,\n",
    "            segmentation=True, numberOfSegmentsPerPeriod=1, clusterMethod='hierarchical',\n",
    "            sortValues=False, rescaleClusterPeriods=False)"
   ]
  },
  {
   "cell_type": "code",
   "execution_count": 5,
   "metadata": {},
   "outputs": [
    {
     "data": {
      "text/html": [
       "<div>\n",
       "<style scoped>\n",
       "    .dataframe tbody tr th:only-of-type {\n",
       "        vertical-align: middle;\n",
       "    }\n",
       "\n",
       "    .dataframe tbody tr th {\n",
       "        vertical-align: top;\n",
       "    }\n",
       "\n",
       "    .dataframe thead th {\n",
       "        text-align: right;\n",
       "    }\n",
       "</style>\n",
       "<table border=\"1\" class=\"dataframe\">\n",
       "  <thead>\n",
       "    <tr style=\"text-align: right;\">\n",
       "      <th></th>\n",
       "      <th></th>\n",
       "      <th></th>\n",
       "      <th>Electricity market_commodityCostTimeSeries_ElectrolyzerLocation</th>\n",
       "      <th>Electricity market_commodityCostTimeSeries_IndustryLocation</th>\n",
       "      <th>Electricity market_commodityRevenueTimeSeries_ElectrolyzerLocation</th>\n",
       "      <th>Electricity market_commodityRevenueTimeSeries_IndustryLocation</th>\n",
       "      <th>Electricity market_operationRate_ElectrolyzerLocation</th>\n",
       "      <th>Electricity market_operationRate_IndustryLocation</th>\n",
       "      <th>Industry site_operationRate_ElectrolyzerLocation</th>\n",
       "      <th>Industry site_operationRate_IndustryLocation</th>\n",
       "    </tr>\n",
       "    <tr>\n",
       "      <th></th>\n",
       "      <th>Segment Step</th>\n",
       "      <th>Segment Duration</th>\n",
       "      <th></th>\n",
       "      <th></th>\n",
       "      <th></th>\n",
       "      <th></th>\n",
       "      <th></th>\n",
       "      <th></th>\n",
       "      <th></th>\n",
       "      <th></th>\n",
       "    </tr>\n",
       "  </thead>\n",
       "  <tbody>\n",
       "    <tr>\n",
       "      <th>0</th>\n",
       "      <th>0</th>\n",
       "      <th>4</th>\n",
       "      <td>0.05025</td>\n",
       "      <td>0.0</td>\n",
       "      <td>0.0025</td>\n",
       "      <td>0.0</td>\n",
       "      <td>2.190000e+09</td>\n",
       "      <td>0.0</td>\n",
       "      <td>0.0</td>\n",
       "      <td>13140000.0</td>\n",
       "    </tr>\n",
       "  </tbody>\n",
       "</table>\n",
       "</div>"
      ],
      "text/plain": [
       "                                 Electricity market_commodityCostTimeSeries_ElectrolyzerLocation  \\\n",
       "  Segment Step Segment Duration                                                                    \n",
       "0 0            4                                                           0.05025                 \n",
       "\n",
       "                                 Electricity market_commodityCostTimeSeries_IndustryLocation  \\\n",
       "  Segment Step Segment Duration                                                                \n",
       "0 0            4                                                               0.0             \n",
       "\n",
       "                                 Electricity market_commodityRevenueTimeSeries_ElectrolyzerLocation  \\\n",
       "  Segment Step Segment Duration                                                                       \n",
       "0 0            4                                                            0.0025                    \n",
       "\n",
       "                                 Electricity market_commodityRevenueTimeSeries_IndustryLocation  \\\n",
       "  Segment Step Segment Duration                                                                   \n",
       "0 0            4                                                               0.0                \n",
       "\n",
       "                                 Electricity market_operationRate_ElectrolyzerLocation  \\\n",
       "  Segment Step Segment Duration                                                          \n",
       "0 0            4                                                      2.190000e+09       \n",
       "\n",
       "                                 Electricity market_operationRate_IndustryLocation  \\\n",
       "  Segment Step Segment Duration                                                      \n",
       "0 0            4                                                               0.0   \n",
       "\n",
       "                                 Industry site_operationRate_ElectrolyzerLocation  \\\n",
       "  Segment Step Segment Duration                                                     \n",
       "0 0            4                                                              0.0   \n",
       "\n",
       "                                 Industry site_operationRate_IndustryLocation  \n",
       "  Segment Step Segment Duration                                                \n",
       "0 0            4                                                   13140000.0  "
      ]
     },
     "execution_count": 5,
     "metadata": {},
     "output_type": "execute_result"
    }
   ],
   "source": [
    "esM.tsaInstance.typicalPeriods"
   ]
  },
  {
   "cell_type": "code",
   "execution_count": 6,
   "metadata": {},
   "outputs": [
    {
     "data": {
      "text/plain": [
       "array([0])"
      ]
     },
     "execution_count": 6,
     "metadata": {},
     "output_type": "execute_result"
    }
   ],
   "source": [
    "esM.periodsOrder"
   ]
  },
  {
   "cell_type": "code",
   "execution_count": 7,
   "metadata": {},
   "outputs": [
    {
     "name": "stdout",
     "output_type": "stream",
     "text": [
      "Time series aggregation specifications:\n",
      "Number of typical periods:1, number of time steps per period:4, number of segments per period:1\n",
      "\n",
      "Declaring sets, variables and constraints for SourceSinkModel\n",
      "\tdeclaring sets... \n",
      "\tdeclaring variables... \n",
      "\tdeclaring constraints... \n",
      "\t\t(0.6717 sec)\n",
      "\n",
      "Declaring sets, variables and constraints for ConversionModel\n",
      "\tdeclaring sets... \n",
      "\tdeclaring variables... \n",
      "\tdeclaring constraints... \n",
      "\t\t(0.0000 sec)\n",
      "\n",
      "Declaring sets, variables and constraints for StorageModel\n",
      "\tdeclaring sets... \n",
      "\tdeclaring variables... \n",
      "\tdeclaring constraints... \n",
      "\t\t(0.0156 sec)\n",
      "\n",
      "Declaring sets, variables and constraints for TransmissionModel\n",
      "\tdeclaring sets... \n",
      "\tdeclaring variables... \n",
      "\tdeclaring constraints... \n",
      "\t\t(0.0000 sec)\n",
      "\n",
      "Declaring shared potential constraint...\n",
      "\t\t(0.0000 sec)\n",
      "\n",
      "Declaring commodity balances...\n",
      "\t\t(0.0000 sec)\n",
      "\n",
      "Declaring objective function...\n",
      "\t\t(0.0000 sec)\n",
      "\n",
      "Using license file C:\\Users\\m.hoffmann\\gurobi.lic\n",
      "Academic license - for non-commercial use only\n",
      "Read LP format model from file C:\\Users\\M8A94~1.HOF\\AppData\\Local\\Temp\\tmpvjzhv_4l.pyomo.lp\n",
      "Reading time = 0.02 seconds\n",
      "x35: 39 rows, 35 columns, 91 nonzeros\n",
      "Changed value of parameter QCPDual to 1\n",
      "   Prev: 0  Min: 0  Max: 1  Default: 0\n",
      "Changed value of parameter Threads to 3\n",
      "   Prev: 0  Min: 0  Max: 1024  Default: 0\n",
      "Parameter logfile unchanged\n",
      "   Value:   Default: \n",
      "Gurobi Optimizer version 9.0.0 build v9.0.0rc2 (win64)\n",
      "Optimize a model with 39 rows, 35 columns and 91 nonzeros\n",
      "Model fingerprint: 0x784bba6f\n",
      "Coefficient statistics:\n",
      "  Matrix range     [3e-01, 2e+03]\n",
      "  Objective range  [7e-03, 9e+01]\n",
      "  Bounds range     [0e+00, 0e+00]\n",
      "  RHS range        [1e+00, 2e+09]\n",
      "Warning: Model contains large rhs\n",
      "         Consider reformulating model or setting NumericFocus parameter\n",
      "         to avoid numerical issues.\n",
      "Presolve removed 35 rows and 31 columns\n",
      "Presolve time: 0.00s\n",
      "Presolved: 4 rows, 4 columns, 8 nonzeros\n",
      "\n",
      "Iteration    Objective       Primal Inf.    Dual Inf.      Time\n",
      "       0    1.6422654e+06   0.000000e+00   0.000000e+00      0s\n",
      "       0    1.6422654e+06   0.000000e+00   0.000000e+00      0s\n",
      "\n",
      "Solved in 0 iterations and 0.00 seconds\n",
      "Optimal objective  1.642265440e+06\n",
      "\n",
      "Status: ok\n",
      "Return code: 0\n",
      "Message: Model was solved to optimality (subject to tolerances), and an optimal solution is available.\n",
      "Termination condition: optimal\n",
      "Termination message: Model was solved to optimality (subject to tolerances), and an optimal solution is available.\n",
      "Wall time: 0.0\n",
      "Error rc: 0\n",
      "Time: 0.10931181907653809\n",
      "\n",
      "\n",
      "Name: x35\n",
      "Lower bound: 1642265.4396218362\n",
      "Upper bound: 1642265.4396218362\n",
      "Number of objectives: 1\n",
      "Number of constraints: 39\n",
      "Number of variables: 35\n",
      "Number of binary variables: 0\n",
      "Number of integer variables: 0\n",
      "Number of continuous variables: 35\n",
      "Number of nonzeros: 91\n",
      "Sense: minimize\n",
      "\n",
      "Solve time: 0.14055490493774414 sec.\n",
      "\n",
      "Processing optimization output...\n",
      "for SourceSinkModel ...    (0.0781sec)\n",
      "for ConversionModel ...    (0.0937sec)\n",
      "for StorageModel ...       (0.1093sec)\n",
      "for TransmissionModel ...  (0.1250sec)\n",
      "\t\t(0.4062 sec)\n",
      "\n"
     ]
    }
   ],
   "source": [
    "esM.optimize(timeSeriesAggregation=True, solver = 'gurobi')"
   ]
  },
  {
   "cell_type": "code",
   "execution_count": 8,
   "metadata": {},
   "outputs": [
    {
     "data": {
      "text/plain": [
       "1642265.4396218362"
      ]
     },
     "execution_count": 8,
     "metadata": {},
     "output_type": "execute_result"
    }
   ],
   "source": [
    "esM.pyM.Obj()"
   ]
  },
  {
   "cell_type": "code",
   "execution_count": 9,
   "metadata": {},
   "outputs": [
    {
     "ename": "AssertionError",
     "evalue": "\nArrays are not almost equal to 7 decimals\n ACTUAL: 3883295.265696861\n DESIRED: 1642265.4396218362",
     "output_type": "error",
     "traceback": [
      "\u001b[1;31m---------------------------------------------------------------------------\u001b[0m",
      "\u001b[1;31mAssertionError\u001b[0m                            Traceback (most recent call last)",
      "\u001b[1;32m<ipython-input-9-1f666762bcf2>\u001b[0m in \u001b[0;36m<module>\u001b[1;34m\u001b[0m\n\u001b[1;32m----> 1\u001b[1;33m \u001b[0mnp\u001b[0m\u001b[1;33m.\u001b[0m\u001b[0mtesting\u001b[0m\u001b[1;33m.\u001b[0m\u001b[0massert_almost_equal\u001b[0m\u001b[1;33m(\u001b[0m\u001b[1;36m3883295.265696861\u001b[0m\u001b[1;33m,\u001b[0m \u001b[0mesM\u001b[0m\u001b[1;33m.\u001b[0m\u001b[0mpyM\u001b[0m\u001b[1;33m.\u001b[0m\u001b[0mObj\u001b[0m\u001b[1;33m(\u001b[0m\u001b[1;33m)\u001b[0m\u001b[1;33m)\u001b[0m\u001b[1;33m\u001b[0m\u001b[1;33m\u001b[0m\u001b[0m\n\u001b[0m",
      "\u001b[1;32m~\\AppData\\Local\\Continuum\\anaconda3\\envs\\StandardEnvironment\\lib\\site-packages\\numpy\\testing\\_private\\utils.py\u001b[0m in \u001b[0;36massert_almost_equal\u001b[1;34m(actual, desired, decimal, err_msg, verbose)\u001b[0m\n\u001b[0;32m    598\u001b[0m         \u001b[1;32mpass\u001b[0m\u001b[1;33m\u001b[0m\u001b[1;33m\u001b[0m\u001b[0m\n\u001b[0;32m    599\u001b[0m     \u001b[1;32mif\u001b[0m \u001b[0mabs\u001b[0m\u001b[1;33m(\u001b[0m\u001b[0mdesired\u001b[0m \u001b[1;33m-\u001b[0m \u001b[0mactual\u001b[0m\u001b[1;33m)\u001b[0m \u001b[1;33m>=\u001b[0m \u001b[1;36m1.5\u001b[0m \u001b[1;33m*\u001b[0m \u001b[1;36m10.0\u001b[0m\u001b[1;33m**\u001b[0m\u001b[1;33m(\u001b[0m\u001b[1;33m-\u001b[0m\u001b[0mdecimal\u001b[0m\u001b[1;33m)\u001b[0m\u001b[1;33m:\u001b[0m\u001b[1;33m\u001b[0m\u001b[1;33m\u001b[0m\u001b[0m\n\u001b[1;32m--> 600\u001b[1;33m         \u001b[1;32mraise\u001b[0m \u001b[0mAssertionError\u001b[0m\u001b[1;33m(\u001b[0m\u001b[0m_build_err_msg\u001b[0m\u001b[1;33m(\u001b[0m\u001b[1;33m)\u001b[0m\u001b[1;33m)\u001b[0m\u001b[1;33m\u001b[0m\u001b[1;33m\u001b[0m\u001b[0m\n\u001b[0m\u001b[0;32m    601\u001b[0m \u001b[1;33m\u001b[0m\u001b[0m\n\u001b[0;32m    602\u001b[0m \u001b[1;33m\u001b[0m\u001b[0m\n",
      "\u001b[1;31mAssertionError\u001b[0m: \nArrays are not almost equal to 7 decimals\n ACTUAL: 3883295.265696861\n DESIRED: 1642265.4396218362"
     ]
    }
   ],
   "source": [
    "np.testing.assert_almost_equal(3883295.265696861, esM.pyM.Obj())"
   ]
  },
  {
   "cell_type": "code",
   "execution_count": null,
   "metadata": {},
   "outputs": [],
   "source": [
    "esM.pyM.timeSet.pprint()"
   ]
  },
  {
   "cell_type": "code",
   "execution_count": null,
   "metadata": {},
   "outputs": [],
   "source": [
    "esM.pyM.interTimeStepsSet.pprint()"
   ]
  },
  {
   "cell_type": "code",
   "execution_count": null,
   "metadata": {},
   "outputs": [],
   "source": []
  }
 ],
 "metadata": {
  "kernelspec": {
   "display_name": "Python 3",
   "language": "python",
   "name": "python3"
  },
  "language_info": {
   "codemirror_mode": {
    "name": "ipython",
    "version": 3
   },
   "file_extension": ".py",
   "mimetype": "text/x-python",
   "name": "python",
   "nbconvert_exporter": "python",
   "pygments_lexer": "ipython3",
   "version": "3.6.10"
  }
 },
 "nbformat": 4,
 "nbformat_minor": 4
}
