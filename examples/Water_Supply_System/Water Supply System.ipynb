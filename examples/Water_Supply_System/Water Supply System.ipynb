{
 "cells": [
  {
   "cell_type": "code",
   "execution_count": null,
   "metadata": {},
   "outputs": [],
   "source": [
    "import FINE as fn\n",
    "import numpy as np\n",
    "import matplotlib.pyplot as plt\n",
    "import pandas as pd\n",
    "\n",
    "%load_ext autoreload\n",
    "%autoreload 2"
   ]
  },
  {
   "cell_type": "markdown",
   "metadata": {},
   "source": [
    "# Water supply of a small mountain village\n",
    "\n",
    "Two new houses (house 5 and 6) were built in a small mountain village in Utopia which requires an update of the existing clean water supply system of the village which now consists of 6 houses:\n",
    "\n",
    "<img src=\"MountainVillage.png\" style=\"width: 500px;\"/>\n",
    "\n",
    "\n",
    "### Water demand\n",
    "The demand for clean water occurs in spring between 5 am and 11 pm, in summer between 4 am and 12 pm, in autumn between 5 am and 11 pm and in winter between 6 am and 11 pm. The demand for one house assumes random values between 0 to 1 Uh (Unit*hour) during the demand hours. These values are uniformly distributed and are 0 outside the demand hours.\n",
    "\n",
    "### Water supply \n",
    "The water supply comes from a small tributary of a glacier river, which provides more water in summer and less in winter: the profile is given for each hour of the year as\n",
    "\n",
    "f(t) = 8 \\* sin(π*t/8760) + g(t)    \n",
    "    \n",
    "where g(t) is a uniformly distributed random value between 0 and 4.\n",
    "\n",
    "### Water storage\n",
    "Clean water can be stored in a water tank (newly purchased). The invest per capacity is 100€/Uh, the economic lifetime is 20 years.\n",
    "\n",
    "### Water treatment\n",
    "The river water is converted to clean water in a water treatment plant (newly purchased). The invest per capacity is 7000€/U, the economic lifetime is 20 years. Further, it needs some electricity wherefore it has operational cost of 0.05 €/U.\n",
    "\n",
    "### Water transmission\n",
    "The clean water can be transported via water pipes, where some already exist between the houses 1-4, the water treatment plant and the\n",
    "water tank, however new ones might need to\n",
    "be built to connect the newly built houses or reinforce the transmission along the old pipes. The invest for new pipes per capacity is 100 €/(m\\*U), the invest if a new pipe route is built is 500 €/(m\\*U), the economic lifetime is 20 years.\n"
   ]
  },
  {
   "cell_type": "code",
   "execution_count": null,
   "metadata": {},
   "outputs": [],
   "source": [
    "locations = ['House 1', 'House 2', 'House 3', 'House 4', 'House 5', 'House 6',\n",
    "             'Node 1', 'Node 2', 'Node 3', 'Node 4', 'Water treatment', 'Water tank']\n",
    "commodityUnitDict = {'clean water': 'U', 'river water': 'U'}\n",
    "commodities = {'clean water', 'river water'}\n",
    "numberOfTimeSteps=8760\n",
    "hoursPerTimeStep=1"
   ]
  },
  {
   "cell_type": "code",
   "execution_count": null,
   "metadata": {},
   "outputs": [],
   "source": [
    "esM = fn.EnergySystemModel(locations=set(locations), commodities=commodities, numberOfTimeSteps=8760,\n",
    "                           commodityUnitsDict=commodityUnitDict,\n",
    "                           hoursPerTimeStep=1, costUnit='1e3 Euro', lengthUnit='m')"
   ]
  },
  {
   "cell_type": "markdown",
   "metadata": {},
   "source": [
    "# Source"
   ]
  },
  {
   "cell_type": "code",
   "execution_count": null,
   "metadata": {},
   "outputs": [],
   "source": [
    "riverFlow = pd.DataFrame(np.zeros((8760,12)), columns=locations)\n",
    "np.random.seed(42)\n",
    "riverFlow.loc[:,'Water treatment'] = np.random.uniform(0,4,(8760))+8*np.sin(np.pi*np.arange(8760)/8760)"
   ]
  },
  {
   "cell_type": "code",
   "execution_count": null,
   "metadata": {},
   "outputs": [],
   "source": [
    "esM.add(fn.Source(esM=esM, name='River', commodity='river water', hasCapacityVariable=False,\n",
    "                  operationRateMax=riverFlow, opexPerOperation = 0.05))"
   ]
  },
  {
   "cell_type": "markdown",
   "metadata": {},
   "source": [
    "# Conversion"
   ]
  },
  {
   "cell_type": "code",
   "execution_count": null,
   "metadata": {},
   "outputs": [],
   "source": [
    "eligibility = pd.Series([0, 0, 0, 0, 0, 0, 0, 0, 0, 0, 1, 0], index=locations)\n",
    "esM.add(fn.Conversion(esM=esM, name='Water treatment plant', physicalUnit='U',\n",
    "                      commodityConversionFactors={'river water':-1, 'clean water':1}, \n",
    "                      hasCapacityVariable=True, locationalEligibility=eligibility,\n",
    "                      investPerCapacity=7, opexPerCapacity=0.02*7, interestRate=0.08, economicLifetime=20))"
   ]
  },
  {
   "cell_type": "markdown",
   "metadata": {},
   "source": [
    "# Storage"
   ]
  },
  {
   "cell_type": "code",
   "execution_count": null,
   "metadata": {},
   "outputs": [],
   "source": [
    "eligibility = pd.Series([0, 0, 0, 0, 0, 0, 0, 0, 0, 0, 0, 1], index=locations)\n",
    "esM.add(fn.Storage(esM=esM, name='Water tank', commodity='clean water', hasCapacityVariable=True, \n",
    "                   chargeRate=1/24, dischargeRate=1/24, locationalEligibility=eligibility,\n",
    "                   investPerCapacity=0.10, opexPerCapacity=0.02*0.1, interestRate=0.08, economicLifetime=20))"
   ]
  },
  {
   "cell_type": "markdown",
   "metadata": {},
   "source": [
    "# Transmission"
   ]
  },
  {
   "cell_type": "markdown",
   "metadata": {},
   "source": [
    "### Distances between eligible regions"
   ]
  },
  {
   "cell_type": "code",
   "execution_count": null,
   "metadata": {
    "scrolled": true,
    "tags": [
     "nbval-check-output"
    ]
   },
   "outputs": [],
   "source": [
    "distances = np.array([[0, 0, 0, 0, 0, 0, 0, 0, 38, 0, 0, 0],\n",
    "                      [0, 0, 0, 0, 0, 0, 0, 0, 40, 0, 0, 0],\n",
    "                      [0, 0, 0, 0, 0, 0, 0, 38, 0, 0, 0, 0],\n",
    "                      [0, 0, 0, 0, 0, 0, 0, 40, 0, 0, 0, 0],\n",
    "                      [0, 0, 0, 0, 0, 0, 38, 0, 0, 0, 0, 0],\n",
    "                      [0, 0, 0, 0, 0, 0, 40, 0, 0, 0, 0, 0],\n",
    "                      [0, 0, 0, 0, 38, 40, 0, 105, 0, 0, 0, 0],\n",
    "                      [0, 0, 38, 40, 0, 0, 105, 0, 100, 0, 0, 0],\n",
    "                      [38, 40, 0, 0, 0, 0, 0, 100, 0, 30, 0, 0],\n",
    "                      [0, 0, 0, 0, 0, 0, 0, 0, 30, 0, 20, 50],\n",
    "                      [0, 0, 0, 0, 0, 0, 0, 0, 0, 20, 0, 0],\n",
    "                      [0, 0, 0, 0, 0, 0, 0, 0, 0, 50, 0, 0]])\n",
    "\n",
    "distances = pd.DataFrame(distances, index=locations, columns=locations)\n",
    "distances"
   ]
  },
  {
   "cell_type": "markdown",
   "metadata": {},
   "source": [
    "## Old water pipes"
   ]
  },
  {
   "cell_type": "code",
   "execution_count": null,
   "metadata": {
    "scrolled": true,
    "tags": [
     "nbval-check-output"
    ]
   },
   "outputs": [],
   "source": [
    "capacityFix = np.array([[0, 0, 0, 0, 0, 0, 0, 0, 1, 0, 0, 0],\n",
    "                        [0, 0, 0, 0, 0, 0, 0, 0, 1, 0, 0, 0],\n",
    "                        [0, 0, 0, 0, 0, 0, 0, 1, 0, 0, 0, 0],\n",
    "                        [0, 0, 0, 0, 0, 0, 0, 1, 0, 0, 0, 0],\n",
    "                        [0, 0, 0, 0, 0, 0, 0, 0, 0, 0, 0, 0],\n",
    "                        [0, 0, 0, 0, 0, 0, 0, 0, 0, 0, 0, 0],\n",
    "                        [0, 0, 0, 0, 0, 0, 0, 0, 0, 0, 0, 0],\n",
    "                        [0, 0, 1, 1, 0, 0, 0, 0, 2, 0, 0, 0],\n",
    "                        [1, 1, 0, 0, 0, 0, 0, 2, 0, 4, 0, 0],\n",
    "                        [0, 0, 0, 0, 0, 0, 0, 0, 4, 0, 4, 4],\n",
    "                        [0, 0, 0, 0, 0, 0, 0, 0, 0, 4, 0, 0],\n",
    "                        [0, 0, 0, 0, 0, 0, 0, 0, 0, 4, 0, 0]])\n",
    "\n",
    "capacityFix = pd.DataFrame(capacityFix, index=locations, columns=locations)\n",
    "capacityFix"
   ]
  },
  {
   "cell_type": "markdown",
   "metadata": {},
   "source": [
    "The old pipes have many leckages wherefore they lose 0.1%/m of the water they transport."
   ]
  },
  {
   "cell_type": "code",
   "execution_count": null,
   "metadata": {},
   "outputs": [],
   "source": [
    "isBuiltFix = capacityFix.copy()\n",
    "isBuiltFix[isBuiltFix>0]=1\n",
    "\n",
    "esM.add(fn.Transmission(esM=esM, name='Old water pipes', commodity='clean water',\n",
    "                        losses = 0.1e-2,\n",
    "                        distances=distances, hasCapacityVariable=True, hasIsBuiltBinaryVariable=True, bigM=100,\n",
    "                        capacityFix=capacityFix, isBuiltFix=isBuiltFix))"
   ]
  },
  {
   "cell_type": "markdown",
   "metadata": {},
   "source": [
    "## New water pipes"
   ]
  },
  {
   "cell_type": "code",
   "execution_count": null,
   "metadata": {
    "tags": [
     "nbval-check-output"
    ]
   },
   "outputs": [],
   "source": [
    "incidence = np.array([[0, 0, 0, 0, 0, 0, 0, 0, 1, 0, 0, 0],\n",
    "                      [0, 0, 0, 0, 0, 0, 0, 0, 1, 0, 0, 0],\n",
    "                      [0, 0, 0, 0, 0, 0, 0, 1, 0, 0, 0, 0],\n",
    "                      [0, 0, 0, 0, 0, 0, 0, 1, 0, 0, 0, 0],\n",
    "                      [0, 0, 0, 0, 0, 0, 1, 0, 0, 0, 0, 0],\n",
    "                      [0, 0, 0, 0, 0, 0, 1, 0, 0, 0, 0, 0],\n",
    "                      [0, 0, 0, 0, 1, 1, 0, 1, 0, 0, 0, 0],\n",
    "                      [0, 0, 1, 1, 0, 0, 1, 0, 1, 0, 0, 0],\n",
    "                      [1, 1, 0, 0, 0, 0, 0, 1, 0, 1, 0, 0],\n",
    "                      [0, 0, 0, 0, 0, 0, 0, 0, 1, 0, 1, 1],\n",
    "                      [0, 0, 0, 0, 0, 0, 0, 0, 0, 1, 0, 0],\n",
    "                      [0, 0, 0, 0, 0, 0, 0, 0, 0, 1, 0, 0]])\n",
    "\n",
    "eligibility = pd.DataFrame(incidence, index=locations, columns=locations)\n",
    "eligibility"
   ]
  },
  {
   "cell_type": "markdown",
   "metadata": {},
   "source": [
    "The new are pipes are better but still lose 0.05%/m of the water they transport."
   ]
  },
  {
   "cell_type": "code",
   "execution_count": null,
   "metadata": {},
   "outputs": [],
   "source": [
    "esM.add(fn.Transmission(esM=esM, name='New water pipes', commodity='clean water',\n",
    "                        losses = 0.05e-2,\n",
    "                        distances=distances, hasCapacityVariable=True, hasIsBuiltBinaryVariable=True, bigM=100,\n",
    "                        locationalEligibility=eligibility,\n",
    "                        investPerCapacity=0.1, investIfBuilt=0.5, interestRate=0.08, economicLifetime=50))"
   ]
  },
  {
   "cell_type": "markdown",
   "metadata": {},
   "source": [
    "# Sink"
   ]
  },
  {
   "cell_type": "code",
   "execution_count": null,
   "metadata": {
    "scrolled": true
   },
   "outputs": [],
   "source": [
    "winterHours=np.append(range(8520,8760),range(1920))\n",
    "springHours, summerHours, autumnHours = np.arange(1920,4128), np.arange(4128,6384), np.arange(6384,8520)\n",
    "\n",
    "demand = pd.DataFrame(np.zeros((8760,12)), columns=list(locations))\n",
    "np.random.seed(42)\n",
    "demand[locations[0:6]] = np.random.uniform(0,1,(8760,6))\n",
    "\n",
    "demand.loc[winterHours[(winterHours%24 < 5) | (winterHours%24 >= 23)]] = 0\n",
    "demand.loc[springHours[(springHours%24 < 4)]] = 0\n",
    "demand.loc[summerHours[(summerHours%24 < 5) | (summerHours%24 >= 23)]] = 0\n",
    "demand.loc[autumnHours[(autumnHours%24 < 6) | (autumnHours%24 >= 23)]] = 0"
   ]
  },
  {
   "cell_type": "code",
   "execution_count": null,
   "metadata": {},
   "outputs": [],
   "source": [
    "demand.sum().sum()"
   ]
  },
  {
   "cell_type": "code",
   "execution_count": null,
   "metadata": {},
   "outputs": [],
   "source": [
    "esM.add(fn.Sink(esM=esM, name='Water demand', commodity='clean water', hasCapacityVariable=False,\n",
    "                  operationRateFix=demand))"
   ]
  },
  {
   "cell_type": "markdown",
   "metadata": {},
   "source": [
    "# Optimize the system"
   ]
  },
  {
   "cell_type": "code",
   "execution_count": null,
   "metadata": {
    "scrolled": true
   },
   "outputs": [],
   "source": [
    "esM.aggregateTemporally(numberOfTypicalPeriods=7)"
   ]
  },
  {
   "cell_type": "code",
   "execution_count": null,
   "metadata": {
    "scrolled": true
   },
   "outputs": [],
   "source": [
    "# esM.optimize(timeSeriesAggregation=True, optimizationSpecs='LogToConsole=1 OptimalityTol=1e-6 crossover=1')\n",
    "esM.optimize(timeSeriesAggregation=True, solver=\"glpk\")"
   ]
  },
  {
   "cell_type": "markdown",
   "metadata": {},
   "source": [
    "# Selected results output"
   ]
  },
  {
   "cell_type": "markdown",
   "metadata": {},
   "source": [
    "### Sources and Sinks"
   ]
  },
  {
   "cell_type": "code",
   "execution_count": null,
   "metadata": {
    "tags": [
     "nbval-check-output"
    ]
   },
   "outputs": [],
   "source": [
    "esM.getOptimizationSummary(\"SourceSinkModel\", outputLevel=2)"
   ]
  },
  {
   "cell_type": "markdown",
   "metadata": {},
   "source": [
    "### Storage"
   ]
  },
  {
   "cell_type": "code",
   "execution_count": null,
   "metadata": {},
   "outputs": [],
   "source": [
    "esM.getOptimizationSummary(\"StorageModel\", outputLevel=2)"
   ]
  },
  {
   "cell_type": "markdown",
   "metadata": {},
   "source": [
    "### Conversion"
   ]
  },
  {
   "cell_type": "code",
   "execution_count": null,
   "metadata": {
    "tags": [
     "nbval-check-output"
    ]
   },
   "outputs": [],
   "source": [
    "esM.getOptimizationSummary(\"ConversionModel\", outputLevel=2)"
   ]
  },
  {
   "cell_type": "markdown",
   "metadata": {},
   "source": [
    "### Transmission"
   ]
  },
  {
   "cell_type": "code",
   "execution_count": null,
   "metadata": {
    "tags": [
     "nbval-check-output"
    ]
   },
   "outputs": [],
   "source": [
    "esM.getOptimizationSummary(\"TransmissionModel\", outputLevel=2)"
   ]
  },
  {
   "cell_type": "code",
   "execution_count": null,
   "metadata": {
    "scrolled": true,
    "tags": [
     "nbval-check-output"
    ]
   },
   "outputs": [],
   "source": [
    "esM.componentModelingDict[\"TransmissionModel\"].operationVariablesOptimum.sum(axis=1)"
   ]
  }
 ],
 "metadata": {
  "anaconda-cloud": {},
  "jupytext": {
   "encoding": "# -*- coding: utf-8 -*-",
   "formats": "ipynb,py:percent"
  },
  "kernelspec": {
   "display_name": "Python 3",
   "language": "python",
   "name": "python3"
  },
  "language_info": {
   "codemirror_mode": {
    "name": "ipython",
    "version": 3
   },
   "file_extension": ".py",
   "mimetype": "text/x-python",
   "name": "python",
   "nbconvert_exporter": "python",
   "pygments_lexer": "ipython3",
   "version": "3.7.8"
  }
 },
 "nbformat": 4,
 "nbformat_minor": 4
}
