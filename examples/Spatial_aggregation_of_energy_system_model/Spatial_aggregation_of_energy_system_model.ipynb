{
 "cells": [
  {
   "cell_type": "code",
   "execution_count": null,
   "metadata": {},
   "outputs": [],
   "source": [
    "import os \n",
    "import sys\n",
    "\n",
    "import pandas as pd\n",
    "import xarray as xr\n",
    "\n",
    "import FINE as fn\n",
    "from FINE.spagat.RE_representation import represent_RE_technology\n",
    "\n",
    "cwd = os.getcwd()\n",
    "\n",
    "%load_ext autoreload\n",
    "%autoreload 2"
   ]
  },
  {
   "cell_type": "markdown",
   "metadata": {},
   "source": [
    "# Workflow for spatial aggregation of an energy system model\n",
    "\n",
    "This example notebook shows how model regions can be merged to obtain fewer regions and also how the number of VRES technologies within each region can be reduced to fewer technology types. \n",
    "\n",
    "<img src=\"spagat_basic_depiction.png\" style=\"width: 1000px;\"/>\n",
    "\n",
    "The figure above dipicts the basic idea behind spatial aggregation. The term spatial grouping refers to grouping (and subsequently merging) of regions that are similar in some sense (NOTE: Please look into the documentation for different methods to group regions). \n",
    "\n",
    "Additionally, it is also possible to reduced VRES technologies within each region to a desired number. This process is called spatial representation of VRES technologies. To give you an example, if the results of your PV simulation are spatially detailed or spatially highly resolved, then you could reduce these to a few types within each region. The time series profiles are matched during grouping of these technologies. \n"
   ]
  },
  {
   "cell_type": "markdown",
   "metadata": {},
   "source": [
    "## STEP 1. Set up your ESM instance "
   ]
  },
  {
   "cell_type": "code",
   "execution_count": null,
   "metadata": {},
   "outputs": [],
   "source": [
    "sys.path.append(os.path.join(cwd, '..', 'Multi-regional_Energy_System_Workflow'))\n",
    "from getData import getData\n",
    "\n",
    "data = getData()\n",
    "\n",
    "# 1. Create an energy system model instance\n",
    "locations = {'cluster_0', 'cluster_1', 'cluster_2', 'cluster_3', 'cluster_4', 'cluster_5', 'cluster_6', 'cluster_7'}\n",
    "commodityUnitDict = {'electricity': r'GW$_{el}$', 'methane': r'GW$_{CH_{4},LHV}$', 'biogas': r'GW$_{biogas,LHV}$',\n",
    "                     'CO2': r'Mio. t$_{CO_2}$/h', 'hydrogen': r'GW$_{H_{2},LHV}$'}\n",
    "commodities = {'electricity', 'hydrogen', 'methane', 'biogas', 'CO2'}\n",
    "\n",
    "esM = fn.EnergySystemModel(locations=locations, commodities=commodities, numberOfTimeSteps=8760,\n",
    "                           commodityUnitsDict=commodityUnitDict,\n",
    "                           hoursPerTimeStep=1, costUnit='1e9 Euro', lengthUnit='km', verboseLogLevel=0)\n",
    "\n",
    "CO2_reductionTarget = 1\n",
    "\n",
    "\n",
    "# 2. Add commodity sources to the energy system model\n",
    "\n",
    "### Wind onshore\n",
    "esM.add(fn.Source(esM=esM, name='Wind (onshore)', commodity='electricity', hasCapacityVariable=True,\n",
    "                  operationRateMax=data['Wind (onshore), operationRateMax'],\n",
    "                  capacityMax=data['Wind (onshore), capacityMax'],\n",
    "                  investPerCapacity=1.1, opexPerCapacity=1.1*0.02, interestRate=0.08,\n",
    "                  economicLifetime=20))\n",
    "\n",
    "### PV\n",
    "esM.add(fn.Source(esM=esM, name='PV', commodity='electricity', hasCapacityVariable=True,\n",
    "                  operationRateMax=data['PV, operationRateMax'], capacityMax=data['PV, capacityMax'],\n",
    "                  investPerCapacity=0.65, opexPerCapacity=0.65*0.02, interestRate=0.08,\n",
    "                  economicLifetime=25))\n",
    "\n",
    "\n",
    "# 3. Add conversion components to the energy system model\n",
    "\n",
    "### New combined cycly gas turbines for hydrogen\n",
    "esM.add(fn.Conversion(esM=esM, name='New CCGT plants (hydrogen)', physicalUnit=r'GW$_{el}$',\n",
    "                      commodityConversionFactors={'electricity':1, 'hydrogen':-1/0.6},\n",
    "                      hasCapacityVariable=True,\n",
    "                      investPerCapacity=0.7, opexPerCapacity=0.021, interestRate=0.08,\n",
    "                      economicLifetime=33))\n",
    "\n",
    "### Electrolyzers\n",
    "esM.add(fn.Conversion(esM=esM, name='Electroylzers', physicalUnit=r'GW$_{el}$',\n",
    "                      commodityConversionFactors={'electricity':-1, 'hydrogen':0.7},\n",
    "                      hasCapacityVariable=True,\n",
    "                      investPerCapacity=0.5, opexPerCapacity=0.5*0.025, interestRate=0.08,\n",
    "                      economicLifetime=10))\n",
    "\n",
    "\n",
    "# 4. Add commodity storages to the energy system model\n",
    "\n",
    "### Lithium ion batteries\n",
    "esM.add(fn.Storage(esM=esM, name='Li-ion batteries', commodity='electricity',\n",
    "                   hasCapacityVariable=True, chargeEfficiency=0.95,\n",
    "                   cyclicLifetime=10000, dischargeEfficiency=0.95, selfDischarge=1-(1-0.03)**(1/(30*24)),\n",
    "                   chargeRate=1, dischargeRate=1, doPreciseTsaModeling=False,\n",
    "                   investPerCapacity=0.151, opexPerCapacity=0.002, interestRate=0.08,\n",
    "                   economicLifetime=22))\n",
    "\n",
    "### Hydrogen filled salt caverns\n",
    "esM.add(fn.Storage(esM=esM, name='Salt caverns (hydrogen)', commodity='hydrogen',\n",
    "                   hasCapacityVariable=True, capacityVariableDomain='continuous',\n",
    "                   capacityPerPlantUnit=133,\n",
    "                   chargeRate=1/470.37, dischargeRate=1/470.37, sharedPotentialID='Existing salt caverns',\n",
    "                   stateOfChargeMin=0.33, stateOfChargeMax=1, capacityMax=data['Salt caverns (hydrogen), capacityMax'],\n",
    "                   investPerCapacity=0.00011, opexPerCapacity=0.00057, interestRate=0.08,\n",
    "                   economicLifetime=30))\n",
    "\n",
    "\n",
    "# 5. Add commodity transmission components to the energy system model\n",
    "\n",
    "### AC cables\n",
    "esM.add(fn.LinearOptimalPowerFlow(esM=esM, name='AC cables', commodity='electricity',\n",
    "                                  hasCapacityVariable=True, capacityFix=data['AC cables, capacityFix'],\n",
    "                                  reactances=data['AC cables, reactances']))\n",
    "\n",
    "### DC cables\n",
    "esM.add(fn.Transmission(esM=esM, name='DC cables', commodity='electricity', losses=data['DC cables, losses'],\n",
    "                        distances=data['DC cables, distances'],\n",
    "                        hasCapacityVariable=True, capacityFix=data['DC cables, capacityFix']))\n",
    "\n",
    "\n",
    "### Hydrogen pipelines\n",
    "esM.add(fn.Transmission(esM=esM, name='Pipelines (hydrogen)', commodity='hydrogen',\n",
    "                        distances=data['Pipelines, distances'],\n",
    "                        hasCapacityVariable=True, hasIsBuiltBinaryVariable=False, bigM=300,\n",
    "                        locationalEligibility=data['Pipelines, eligibility'],\n",
    "                        capacityMax=data['Pipelines, eligibility']*15, sharedPotentialID='pipelines',\n",
    "                        investPerCapacity=0.000177, investIfBuilt=0.00033,\n",
    "                        interestRate=0.08, economicLifetime=40))\n",
    "\n",
    "# 6. Add commodity sinks to the energy system model\n",
    "\n",
    "### Electricity demand\n",
    "esM.add(fn.Sink(esM=esM, name='Electricity demand', commodity='electricity',\n",
    "                hasCapacityVariable=False, operationRateFix=data['Electricity demand, operationRateFix']))\n",
    "\n",
    "## 7.2. Hydrogen sinks\n",
    "FCEV_penetration=0.5\n",
    "esM.add(fn.Sink(esM=esM, name='Hydrogen demand', commodity='hydrogen', hasCapacityVariable=False,\n",
    "                operationRateFix=data['Hydrogen demand, operationRateFix']*FCEV_penetration))\n"
   ]
  },
  {
   "cell_type": "markdown",
   "metadata": {},
   "source": [
    "## STEP 2. Spatial grouping of regions"
   ]
  },
  {
   "cell_type": "code",
   "execution_count": null,
   "metadata": {},
   "outputs": [],
   "source": [
    "# The input data to spatial grouping are esM instance and the shapefile containing model regions' geometries\n",
    "SHAPEFILE_PATH = os.path.join(cwd, '..', 'Multi-regional_Energy_System_Workflow/InputData/SpatialData/ShapeFiles/clusteredRegions.shp')"
   ]
  },
  {
   "cell_type": "code",
   "execution_count": null,
   "metadata": {},
   "outputs": [],
   "source": [
    "# Once the regions are grouped, the data witin each region group needs to be aggregated. Through the aggregation_function_dict\n",
    "# parameter, it is possible to define how each variable show be aggregated. Please refer to the documentation for more \n",
    "# information. \n",
    "\n",
    "aggregation_function_dict = {'operationRateMax': ('mean', None),\n",
    "                             'operationRateFix': ('sum', None),\n",
    "                             'locationalEligibility': ('bool', None),\n",
    "                             'capacityMax': ('sum', None),\n",
    "                             'investPerCapacity': ('sum', None),\n",
    "                             'investIfBuilt': ('sum', None),\n",
    "                             'opexPerOperation': ('sum', None),\n",
    "                             'opexPerCapacity': ('sum', None),\n",
    "                             'opexIfBuilt': ('sum', None),\n",
    "                             'interestRate': ('mean', None),\n",
    "                             'economicLifetime': ('mean', None),\n",
    "                             'capacityFix': ('sum', None),\n",
    "                             'losses': ('mean', None),\n",
    "                             'distances': ('mean', None),\n",
    "                             'commodityCost': ('mean', None),\n",
    "                             'commodityRevenue': ('mean', None),\n",
    "                             'opexPerChargeOperation': ('mean', None),\n",
    "                             'opexPerDischargeOperation': ('mean', None),\n",
    "                             'QPcostScale': ('sum', None), \n",
    "                              'technicalLifetime': ('sum', None)}"
   ]
  },
  {
   "cell_type": "code",
   "execution_count": null,
   "metadata": {},
   "outputs": [],
   "source": [
    "# You can provide a path to save the grouping results with desired file names. Two files are saved - a shapefile containing\n",
    "# the merged region geometries and a netcdf file containing the aggregated esM instance data. \n",
    "sds_region_filename='aggregated_regions'\n",
    "sds_xr_dataset_filename='aggregated_xr_ds.nc4'"
   ]
  },
  {
   "cell_type": "code",
   "execution_count": null,
   "metadata": {},
   "outputs": [],
   "source": [
    "# Spatial grouping \n",
    "aggregated_esM = esM.aggregateSpatially(shapefilePath=SHAPEFILE_PATH, \n",
    "                                       grouping_mode='parameter_based', \n",
    "                                       nRegionsForRepresentation=6,\n",
    "                                       aggregatedResultsPath='output_data', \n",
    "                                       aggregation_function_dict=aggregation_function_dict,\n",
    "                                       sds_region_filename=sds_region_filename,\n",
    "                                       sds_xr_dataset_filename=sds_xr_dataset_filename)\n",
    "\n",
    "# NOTE: The UserWarnings basically say that constant variables (variables that remain the same across all regions) and \n",
    "# geometry related varialbes are not considered for spatial grouping. "
   ]
  },
  {
   "cell_type": "code",
   "execution_count": null,
   "metadata": {},
   "outputs": [],
   "source": [
    "# Original spatial resolution\n",
    "fig, ax = fn.plotLocations(SHAPEFILE_PATH, plotLocNames=True, indexColumn='index')"
   ]
  },
  {
   "cell_type": "code",
   "execution_count": null,
   "metadata": {},
   "outputs": [],
   "source": [
    "# Spatial resolution after aggregation\n",
    "\n",
    "AGGREGATED_SHP_PATH = f'output_data/{sds_region_filename}.shp' \n",
    "\n",
    "fig, ax = fn.plotLocations(AGGREGATED_SHP_PATH, plotLocNames=True, indexColumn='space')"
   ]
  },
  {
   "cell_type": "code",
   "execution_count": null,
   "metadata": {},
   "outputs": [],
   "source": [
    "# The locations in the resulting esM instance are now 6.\n",
    "new_locations = list(aggregated_esM.locations)\n",
    "new_locations"
   ]
  },
  {
   "cell_type": "code",
   "execution_count": null,
   "metadata": {},
   "outputs": [],
   "source": [
    "#  And corresponding data has also been aggregated\n",
    "aggregated_esM.getComponentAttribute('Wind (onshore)', 'operationRateMax')"
   ]
  },
  {
   "cell_type": "markdown",
   "metadata": {},
   "source": [
    "# STEP 3. Spatial Representation of VRES (Optional)"
   ]
  },
  {
   "cell_type": "markdown",
   "metadata": {},
   "source": [
    "### STEP 3a. Spatial representation"
   ]
  },
  {
   "cell_type": "code",
   "execution_count": null,
   "metadata": {},
   "outputs": [],
   "source": [
    "# The input data to spatial representation are a netcdf file containing highly resolved VRES data \n",
    "# and the shapefile containing model regions' geometries\n",
    "\n",
    "# Here, both PV and wind turbines are represented \n",
    "\n",
    "ONSHORE_WIND_DATA_PATH = 'input_RE_representation_data/DEU_wind.nc4'\n",
    "PV_DATA_PATH = 'input_RE_representation_data/DEU_PV.nc4'"
   ]
  },
  {
   "cell_type": "code",
   "execution_count": null,
   "metadata": {},
   "outputs": [],
   "source": [
    "# Let us first take a look at one of these datasets \n",
    "\n",
    "xr.open_dataset(ONSHORE_WIND_DATA_PATH)"
   ]
  },
  {
   "cell_type": "code",
   "execution_count": null,
   "metadata": {},
   "outputs": [],
   "source": [
    "## Representation \n",
    "represented_wind_ds = represent_RE_technology(ONSHORE_WIND_DATA_PATH, \n",
    "                                            'xy_reference_system',\n",
    "                                            AGGREGATED_SHP_PATH,\n",
    "                                            n_timeSeries_perRegion=5,\n",
    "                                            capacity_var_name='capacity',\n",
    "                                            capfac_var_name='capfac',\n",
    "                                            index_col = 'space')\n",
    "\n",
    "represented_pv_ds = represent_RE_technology(PV_DATA_PATH, \n",
    "                                            'xy_reference_system',\n",
    "                                            AGGREGATED_SHP_PATH,\n",
    "                                            n_timeSeries_perRegion=5,\n",
    "                                            capacity_var_name='capacity',\n",
    "                                            capfac_var_name='capfac',\n",
    "                                            index_col = 'space')"
   ]
  },
  {
   "cell_type": "code",
   "execution_count": null,
   "metadata": {},
   "outputs": [],
   "source": [
    "represented_wind_ds"
   ]
  },
  {
   "cell_type": "markdown",
   "metadata": {},
   "source": [
    "### STEP 3a. Adding the results to esM instance "
   ]
  },
  {
   "cell_type": "code",
   "execution_count": null,
   "metadata": {},
   "outputs": [],
   "source": [
    "# Now we need to delete 'Wind (onshore)' and 'PV' compoents from aggregated_esM \n",
    "# and add the represented results "
   ]
  },
  {
   "cell_type": "code",
   "execution_count": null,
   "metadata": {},
   "outputs": [],
   "source": [
    "## But first we need certain info corresponding to these techs as they remain the same:\n",
    "wind_investPerCapacity = aggregated_esM.getComponentAttribute('Wind (onshore)', 'investPerCapacity').mean()\n",
    "wind_opexPerCapacity = aggregated_esM.getComponentAttribute('Wind (onshore)', 'opexPerCapacity').mean()\n",
    "wind_interestRate = aggregated_esM.getComponentAttribute('Wind (onshore)', 'interestRate').mean()\n",
    "wind_economicLifetime = aggregated_esM.getComponentAttribute('Wind (onshore)', 'economicLifetime').mean()\n",
    "\n",
    "pv_investPerCapacity = aggregated_esM.getComponentAttribute('PV', 'investPerCapacity').mean()\n",
    "pv_opexPerCapacity = aggregated_esM.getComponentAttribute('PV', 'opexPerCapacity').mean()\n",
    "pv_interestRate = aggregated_esM.getComponentAttribute('PV', 'interestRate').mean()\n",
    "pv_economicLifetime = aggregated_esM.getComponentAttribute('PV', 'economicLifetime').mean()"
   ]
  },
  {
   "cell_type": "code",
   "execution_count": null,
   "metadata": {},
   "outputs": [],
   "source": [
    "## And now we delete them\n",
    "aggregated_esM.removeComponent('Wind (onshore)')\n",
    "aggregated_esM.removeComponent('PV')"
   ]
  },
  {
   "cell_type": "code",
   "execution_count": null,
   "metadata": {},
   "outputs": [],
   "source": [
    "aggregated_esM.componentModelingDict['SourceSinkModel'].componentsDict"
   ]
  },
  {
   "cell_type": "code",
   "execution_count": null,
   "metadata": {},
   "outputs": [],
   "source": [
    "## Prepare the representation results and add them to aggregated_esM\n",
    "data = {}   \n",
    "\n",
    "time_steps = aggregated_esM.totalTimeSteps\n",
    "regions = represented_wind_ds['region_ids'].values\n",
    "clusters = represented_wind_ds['TS_ids'].values # technology types per region\n",
    "\n",
    "\n",
    "for i, cluster in enumerate(clusters):\n",
    "    # Add a wind turbine\n",
    "    data.update({f'Wind (onshore), capacityMax {i}': pd.Series(represented_wind_ds.capacity.loc[:,cluster], index=regions)})\n",
    "\n",
    "    data.update({f'Wind (onshore), operationRateMax {i}': pd.DataFrame(represented_wind_ds.capfac.loc[:,:,cluster].values,\n",
    "                                                                       index=time_steps, columns=regions)})\n",
    "    \n",
    "\n",
    "    # Add a pv\n",
    "    data.update({f'PV, capacityMax {i}': pd.Series(represented_pv_ds.capacity.loc[:,cluster], index=regions)})\n",
    "\n",
    "    data.update({f'PV, operationRateMax {i}': pd.DataFrame(represented_pv_ds.capfac.loc[:,:,cluster].values,\n",
    "                                                                       index=time_steps, columns=regions)})"
   ]
  },
  {
   "cell_type": "code",
   "execution_count": null,
   "metadata": {},
   "outputs": [],
   "source": [
    "## add the data \n",
    "for i, cluster in enumerate(clusters):\n",
    "    aggregated_esM.add(fn.Source(esM=aggregated_esM, \n",
    "                      name=f'Wind (onshore) {i}',\n",
    "                      commodity='electricity', \n",
    "                      hasCapacityVariable=True,\n",
    "                      operationRateMax=data[f'Wind (onshore), operationRateMax {i}'],\n",
    "                      capacityMax=data[f'Wind (onshore), capacityMax {i}'],\n",
    "                      investPerCapacity=wind_investPerCapacity, \n",
    "                      opexPerCapacity=wind_opexPerCapacity,\n",
    "                      interestRate=pv_interestRate,\n",
    "                      economicLifetime=wind_economicLifetime\n",
    "                      ))\n",
    "    \n",
    "    aggregated_esM.add(fn.Source(esM=aggregated_esM, \n",
    "                      name=f'PV {i}', \n",
    "                      commodity='electricity',\n",
    "                      hasCapacityVariable=True,\n",
    "                      operationRateMax=data[f'PV, operationRateMax {i}'], \n",
    "                      capacityMax=data[f'PV, capacityMax {i}'],\n",
    "                      investPerCapacity=pv_investPerCapacity, \n",
    "                      opexPerCapacity=pv_opexPerCapacity, \n",
    "                      interestRate=pv_interestRate,\n",
    "                      economicLifetime=pv_economicLifetime))"
   ]
  },
  {
   "cell_type": "code",
   "execution_count": null,
   "metadata": {},
   "outputs": [],
   "source": [
    "aggregated_esM.componentModelingDict['SourceSinkModel'].componentsDict"
   ]
  },
  {
   "cell_type": "markdown",
   "metadata": {},
   "source": [
    "# Step 4. Temporal Aggregation\n",
    "\n",
    "Although spatial aggregation aids in reducing the computational complexity of optimization, temporal aggregation is still necessary. \n",
    "\n",
    "Spatial aggregation is not here is replace temporal aggregation. They both go hand-in-hand. \n",
    "\n",
    "Imagine performing temporal aggregation on a model with too many regions and too many VRES technologies per region. You have to reduce the temporal resolution to a large extent. Or you can take too few regions and 1 time series per VRES technology, per region and reduce the temporal resolution to a smaller extent. \n",
    "\n",
    "With spatial and temporal aggregation, you need not compromise on either the temporal or spatial resolution of your model. "
   ]
  },
  {
   "cell_type": "code",
   "execution_count": null,
   "metadata": {},
   "outputs": [],
   "source": [
    "aggregated_esM.aggregateTemporally(numberOfTypicalPeriods=7)"
   ]
  },
  {
   "cell_type": "markdown",
   "metadata": {},
   "source": [
    "# Step 5. Optimization"
   ]
  },
  {
   "cell_type": "code",
   "execution_count": null,
   "metadata": {},
   "outputs": [],
   "source": [
    "aggregated_esM.optimize(timeSeriesAggregation=True, \n",
    "                        optimizationSpecs='OptimalityTol=1e-3 method=2 cuts=0')"
   ]
  }
 ],
 "metadata": {
  "kernelspec": {
   "display_name": "Python 3",
   "language": "python",
   "name": "python3"
  },
  "language_info": {
   "codemirror_mode": {
    "name": "ipython",
    "version": 3
   },
   "file_extension": ".py",
   "mimetype": "text/x-python",
   "name": "python",
   "nbconvert_exporter": "python",
   "pygments_lexer": "ipython3",
   "version": "3.7.8"
  }
 },
 "nbformat": 4,
 "nbformat_minor": 4
}
