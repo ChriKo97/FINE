{
 "cells": [
  {
   "cell_type": "code",
   "execution_count": 1,
   "metadata": {},
   "outputs": [],
   "source": [
    "import os \n",
    "import sys\n",
    "\n",
    "import FINE as fn\n",
    "\n",
    "cwd = os.getcwd()\n",
    "\n",
    "%load_ext autoreload\n",
    "%autoreload 2"
   ]
  },
  {
   "cell_type": "markdown",
   "metadata": {},
   "source": [
    "# Workflow for spatial aggregation of an energy system model\n",
    "\n",
    "The data contained within an Energy System Model (ESM) instance is vast and complex. Saving it directly is not possible. It can, however, be saved as a NetCDF file which supports complex data structures. \n",
    "\n",
    "#### What exactly is NetCDF? \n",
    "NetCDF (Network Common Data Format) is a set of software libraries and machine-independent data formats that support the creation, access, and sharing of array-oriented scientific data. It is also a community standard for sharing scientific data. \n",
    "\n",
    "#### Python modules that support working with NetCDF files:\n",
    "1. netcdf4-python: Official Python interface to netCDF files\n",
    "2. PyNIO: To access different file formats such as netCDF, HDF, and GRIB\n",
    "3. xarray: Based on NumPy and pandas\n",
    "\n",
    "Note: xarray module is used here. \n",
    "\n",
    "For our use case, the following functionalities are provided: \n",
    "* Conversion of ESM instance to xarray dataset. Additionally, possible to save this dataset as NetCDF file in a desired folder, with a desired file name. \n",
    "* Conversion of xarray dataset/saved NetCDF file back to ESM instance.\n",
    "\n",
    "#### Structure of the xarray dataset: \n",
    "\n",
    "<img src=\"xarray_fine.png\" style=\"width: 1000px;\"/>\n"
   ]
  },
  {
   "cell_type": "markdown",
   "metadata": {},
   "source": [
    "## STEP 1. Set up your ESM instance "
   ]
  },
  {
   "cell_type": "code",
   "execution_count": 2,
   "metadata": {},
   "outputs": [
    {
     "name": "stdout",
     "output_type": "stream",
     "text": [
      "The distances of a component are set to a normalized value of 1.\n"
     ]
    },
    {
     "name": "stderr",
     "output_type": "stream",
     "text": [
      " c:\\users\\s.patil\\documents\\code\\fine\\FINE\\utils.py:673: UserWarning:A declaration of bigM is not necessary if hasIsBuiltBinaryVariable is set to false. The value of bigM will be ignored in the optimization.\n"
     ]
    }
   ],
   "source": [
    "sys.path.append(os.path.join(cwd, '..', 'Multi-regional_Energy_System_Workflow'))\n",
    "from getData import getData\n",
    "\n",
    "data = getData()\n",
    "\n",
    "# 1. Create an energy system model instance\n",
    "locations = {'cluster_0', 'cluster_1', 'cluster_2', 'cluster_3', 'cluster_4', 'cluster_5', 'cluster_6', 'cluster_7'}\n",
    "commodityUnitDict = {'electricity': r'GW$_{el}$', 'methane': r'GW$_{CH_{4},LHV}$', 'biogas': r'GW$_{biogas,LHV}$',\n",
    "                     'CO2': r'Mio. t$_{CO_2}$/h', 'hydrogen': r'GW$_{H_{2},LHV}$'}\n",
    "commodities = {'electricity', 'hydrogen', 'methane', 'biogas', 'CO2'}\n",
    "\n",
    "esM = fn.EnergySystemModel(locations=locations, commodities=commodities, numberOfTimeSteps=8760,\n",
    "                           commodityUnitsDict=commodityUnitDict,\n",
    "                           hoursPerTimeStep=1, costUnit='1e9 Euro', lengthUnit='km', verboseLogLevel=0)\n",
    "\n",
    "CO2_reductionTarget = 1\n",
    "\n",
    "\n",
    "# 2. Add commodity sources to the energy system model\n",
    "### Wind onshore\n",
    "\n",
    "esM.add(fn.Source(esM=esM, name='Wind (onshore)', commodity='electricity', hasCapacityVariable=True,\n",
    "                  operationRateMax=data['Wind (onshore), operationRateMax'],\n",
    "                  capacityMax=data['Wind (onshore), capacityMax'],\n",
    "                  investPerCapacity=1.1, opexPerCapacity=1.1*0.02, interestRate=0.08,\n",
    "                  economicLifetime=20))\n",
    "\n",
    "### PV\n",
    "\n",
    "esM.add(fn.Source(esM=esM, name='PV', commodity='electricity', hasCapacityVariable=True,\n",
    "                  operationRateMax=data['PV, operationRateMax'], capacityMax=data['PV, capacityMax'],\n",
    "                  investPerCapacity=0.65, opexPerCapacity=0.65*0.02, interestRate=0.08,\n",
    "                  economicLifetime=25))\n",
    "\n",
    "\n",
    "# 3. Add conversion components to the energy system model\n",
    "\n",
    "### New combined cycly gas turbines for hydrogen\n",
    "esM.add(fn.Conversion(esM=esM, name='New CCGT plants (hydrogen)', physicalUnit=r'GW$_{el}$',\n",
    "                      commodityConversionFactors={'electricity':1, 'hydrogen':-1/0.6},\n",
    "                      hasCapacityVariable=True,\n",
    "                      investPerCapacity=0.7, opexPerCapacity=0.021, interestRate=0.08,\n",
    "                      economicLifetime=33))\n",
    "\n",
    "### Electrolyzers\n",
    "esM.add(fn.Conversion(esM=esM, name='Electroylzers', physicalUnit=r'GW$_{el}$',\n",
    "                      commodityConversionFactors={'electricity':-1, 'hydrogen':0.7},\n",
    "                      hasCapacityVariable=True,\n",
    "                      investPerCapacity=0.5, opexPerCapacity=0.5*0.025, interestRate=0.08,\n",
    "                      economicLifetime=10))\n",
    "\n",
    "\n",
    "# 4. Add commodity storages to the energy system model\n",
    "\n",
    "### Lithium ion batteries\n",
    "esM.add(fn.Storage(esM=esM, name='Li-ion batteries', commodity='electricity',\n",
    "                   hasCapacityVariable=True, chargeEfficiency=0.95,\n",
    "                   cyclicLifetime=10000, dischargeEfficiency=0.95, selfDischarge=1-(1-0.03)**(1/(30*24)),\n",
    "                   chargeRate=1, dischargeRate=1, doPreciseTsaModeling=False,\n",
    "                   investPerCapacity=0.151, opexPerCapacity=0.002, interestRate=0.08,\n",
    "                   economicLifetime=22))\n",
    "\n",
    "### Hydrogen filled salt caverns\n",
    "esM.add(fn.Storage(esM=esM, name='Salt caverns (hydrogen)', commodity='hydrogen',\n",
    "                   hasCapacityVariable=True, capacityVariableDomain='continuous',\n",
    "                   capacityPerPlantUnit=133,\n",
    "                   chargeRate=1/470.37, dischargeRate=1/470.37, sharedPotentialID='Existing salt caverns',\n",
    "                   stateOfChargeMin=0.33, stateOfChargeMax=1, capacityMax=data['Salt caverns (hydrogen), capacityMax'],\n",
    "                   investPerCapacity=0.00011, opexPerCapacity=0.00057, interestRate=0.08,\n",
    "                   economicLifetime=30))\n",
    "\n",
    "\n",
    "# 5. Add commodity transmission components to the energy system model\n",
    "\n",
    "### AC cables\n",
    "esM.add(fn.LinearOptimalPowerFlow(esM=esM, name='AC cables', commodity='electricity',\n",
    "                                  hasCapacityVariable=True, capacityFix=data['AC cables, capacityFix'],\n",
    "                                  reactances=data['AC cables, reactances']))\n",
    "\n",
    "### DC cables\n",
    "esM.add(fn.Transmission(esM=esM, name='DC cables', commodity='electricity', losses=data['DC cables, losses'],\n",
    "                        distances=data['DC cables, distances'],\n",
    "                        hasCapacityVariable=True, capacityFix=data['DC cables, capacityFix']))\n",
    "\n",
    "\n",
    "### Hydrogen pipelines\n",
    "esM.add(fn.Transmission(esM=esM, name='Pipelines (hydrogen)', commodity='hydrogen',\n",
    "                        distances=data['Pipelines, distances'],\n",
    "                        hasCapacityVariable=True, hasIsBuiltBinaryVariable=False, bigM=300,\n",
    "                        locationalEligibility=data['Pipelines, eligibility'],\n",
    "                        capacityMax=data['Pipelines, eligibility']*15, sharedPotentialID='pipelines',\n",
    "                        investPerCapacity=0.000177, investIfBuilt=0.00033,\n",
    "                        interestRate=0.08, economicLifetime=40))\n",
    "\n",
    "# 6. Add commodity sinks to the energy system model\n",
    "\n",
    "### Electricity demand\n",
    "esM.add(fn.Sink(esM=esM, name='Electricity demand', commodity='electricity',\n",
    "                hasCapacityVariable=False, operationRateFix=data['Electricity demand, operationRateFix']))\n",
    "\n",
    "## 7.2. Hydrogen sinks\n",
    "FCEV_penetration=0.5\n",
    "esM.add(fn.Sink(esM=esM, name='Hydrogen demand', commodity='hydrogen', hasCapacityVariable=False,\n",
    "                operationRateFix=data['Hydrogen demand, operationRateFix']*FCEV_penetration))\n"
   ]
  },
  {
   "cell_type": "markdown",
   "metadata": {},
   "source": [
    "## STEP 2. Spatial grouping of regions"
   ]
  },
  {
   "cell_type": "code",
   "execution_count": 7,
   "metadata": {},
   "outputs": [],
   "source": [
    "SHAPEFILE_PATH = os.path.join(cwd, '..', 'Multi-regional_Energy_System_Workflow/InputData/SpatialData/ShapeFiles/clusteredRegions.shp')"
   ]
  },
  {
   "cell_type": "code",
   "execution_count": 4,
   "metadata": {},
   "outputs": [],
   "source": [
    "sds_region_filename='aggregated_regions.shp'\n",
    "sds_xr_dataset_filename='aggregated_xr_ds.nc4'"
   ]
  },
  {
   "cell_type": "code",
   "execution_count": 5,
   "metadata": {},
   "outputs": [],
   "source": [
    "aggregation_function_dict = {'operationRateMax': ('mean', None),\n",
    "                             'operationRateFix': ('sum', None),\n",
    "                             'locationalEligibility': ('bool', None),\n",
    "                             'capacityMax': ('sum', None),\n",
    "                             'investPerCapacity': ('sum', None),\n",
    "                             'investIfBuilt': ('sum', None),\n",
    "                             'opexPerOperation': ('sum', None),\n",
    "                             'opexPerCapacity': ('sum', None),\n",
    "                             'opexIfBuilt': ('sum', None),\n",
    "                             'interestRate': ('mean', None),\n",
    "                             'economicLifetime': ('mean', None),\n",
    "                             'capacityFix': ('sum', None),\n",
    "                             'losses': ('mean', None),\n",
    "                             'distances': ('mean', None),\n",
    "                             'commodityCost': ('mean', None),\n",
    "                             'commodityRevenue': ('mean', None),\n",
    "                             'opexPerChargeOperation': ('mean', None),\n",
    "                             'opexPerDischargeOperation': ('mean', None),\n",
    "                             'QPcostScale': ('sum', None), \n",
    "                              'technicalLifetime': ('sum', None)}"
   ]
  },
  {
   "cell_type": "code",
   "execution_count": 8,
   "metadata": {},
   "outputs": [
    {
     "name": "stderr",
     "output_type": "stream",
     "text": [
      " c:\\users\\s.patil\\documents\\code\\fine\\FINE\\utils.py:1099: UserWarning:Pandas doesn't allow columns to be created via a new attribute name - see https://pandas.pydata.org/pandas-docs/stable/indexing.html#attribute-access\n",
      " c:\\users\\s.patil\\documents\\code\\fine\\FINE\\utils.py:1099: UserWarning:Pandas doesn't allow columns to be created via a new attribute name - see https://pandas.pydata.org/pandas-docs/stable/indexing.html#attribute-access\n",
      " c:\\users\\s.patil\\documents\\code\\fine\\FINE\\utils.py:1099: UserWarning:Pandas doesn't allow columns to be created via a new attribute name - see https://pandas.pydata.org/pandas-docs/stable/indexing.html#attribute-access\n",
      " c:\\users\\s.patil\\documents\\code\\fine\\FINE\\utils.py:1099: UserWarning:Pandas doesn't allow columns to be created via a new attribute name - see https://pandas.pydata.org/pandas-docs/stable/indexing.html#attribute-access\n"
     ]
    },
    {
     "name": "stdout",
     "output_type": "stream",
     "text": [
      "Performing parameter-based grouping on the regions.\n"
     ]
    },
    {
     "name": "stderr",
     "output_type": "stream",
     "text": [
      " c:\\users\\s.patil\\documents\\code\\fine\\FINE\\spagat\\grouping_utils.py:211: UserWarning:Variable 0d_name has dimensions ('component',) which are not considered for spatial aggregation.\n",
      " c:\\users\\s.patil\\documents\\code\\fine\\FINE\\spagat\\grouping_utils.py:211: UserWarning:Variable 0d_commodity has dimensions ('component',) which are not considered for spatial aggregation.\n",
      " c:\\users\\s.patil\\documents\\code\\fine\\FINE\\spagat\\grouping_utils.py:211: UserWarning:Variable 0d_hasCapacityVariable has dimensions ('component',) which are not considered for spatial aggregation.\n",
      " c:\\users\\s.patil\\documents\\code\\fine\\FINE\\spagat\\grouping_utils.py:211: UserWarning:Variable 0d_capacityVariableDomain has dimensions ('component',) which are not considered for spatial aggregation.\n",
      " c:\\users\\s.patil\\documents\\code\\fine\\FINE\\spagat\\grouping_utils.py:211: UserWarning:Variable 0d_capacityPerPlantUnit has dimensions ('component',) which are not considered for spatial aggregation.\n",
      " c:\\users\\s.patil\\documents\\code\\fine\\FINE\\spagat\\grouping_utils.py:211: UserWarning:Variable 0d_hasIsBuiltBinaryVariable has dimensions ('component',) which are not considered for spatial aggregation.\n",
      " c:\\users\\s.patil\\documents\\code\\fine\\FINE\\spagat\\grouping_utils.py:211: UserWarning:Variable 0d_bigM has dimensions ('component',) which are not considered for spatial aggregation.\n",
      " c:\\users\\s.patil\\documents\\code\\fine\\FINE\\spagat\\grouping_utils.py:211: UserWarning:Variable 0d_operationRateFix has dimensions ('component',) which are not considered for spatial aggregation.\n",
      " c:\\users\\s.patil\\documents\\code\\fine\\FINE\\spagat\\grouping_utils.py:211: UserWarning:Variable 0d_tsaWeight has dimensions ('component',) which are not considered for spatial aggregation.\n",
      " c:\\users\\s.patil\\documents\\code\\fine\\FINE\\spagat\\grouping_utils.py:211: UserWarning:Variable 0d_commodityLimitID has dimensions ('component',) which are not considered for spatial aggregation.\n",
      " c:\\users\\s.patil\\documents\\code\\fine\\FINE\\spagat\\grouping_utils.py:211: UserWarning:Variable 0d_yearlyLimit has dimensions ('component',) which are not considered for spatial aggregation.\n",
      " c:\\users\\s.patil\\documents\\code\\fine\\FINE\\spagat\\grouping_utils.py:211: UserWarning:Variable 0d_capacityMin has dimensions ('component',) which are not considered for spatial aggregation.\n",
      " c:\\users\\s.patil\\documents\\code\\fine\\FINE\\spagat\\grouping_utils.py:211: UserWarning:Variable 0d_partLoadMin has dimensions ('component',) which are not considered for spatial aggregation.\n",
      " c:\\users\\s.patil\\documents\\code\\fine\\FINE\\spagat\\grouping_utils.py:211: UserWarning:Variable 0d_sharedPotentialID has dimensions ('component',) which are not considered for spatial aggregation.\n",
      " c:\\users\\s.patil\\documents\\code\\fine\\FINE\\spagat\\grouping_utils.py:211: UserWarning:Variable 0d_linkedQuantityID has dimensions ('component',) which are not considered for spatial aggregation.\n",
      " c:\\users\\s.patil\\documents\\code\\fine\\FINE\\spagat\\grouping_utils.py:211: UserWarning:Variable 0d_capacityFix has dimensions ('component',) which are not considered for spatial aggregation.\n",
      " c:\\users\\s.patil\\documents\\code\\fine\\FINE\\spagat\\grouping_utils.py:211: UserWarning:Variable 0d_isBuiltFix has dimensions ('component',) which are not considered for spatial aggregation.\n",
      " c:\\users\\s.patil\\documents\\code\\fine\\FINE\\spagat\\grouping_utils.py:211: UserWarning:Variable 0d_commodityCostTimeSeries has dimensions ('component',) which are not considered for spatial aggregation.\n",
      " c:\\users\\s.patil\\documents\\code\\fine\\FINE\\spagat\\grouping_utils.py:211: UserWarning:Variable 0d_commodityRevenueTimeSeries has dimensions ('component',) which are not considered for spatial aggregation.\n",
      " c:\\users\\s.patil\\documents\\code\\fine\\FINE\\spagat\\grouping_utils.py:211: UserWarning:Variable 0d_yearlyFullLoadHoursMin has dimensions ('component',) which are not considered for spatial aggregation.\n",
      " c:\\users\\s.patil\\documents\\code\\fine\\FINE\\spagat\\grouping_utils.py:211: UserWarning:Variable 0d_yearlyFullLoadHoursMax has dimensions ('component',) which are not considered for spatial aggregation.\n",
      " c:\\users\\s.patil\\documents\\code\\fine\\FINE\\spagat\\grouping_utils.py:211: UserWarning:Variable 0d_balanceLimitID has dimensions ('component',) which are not considered for spatial aggregation.\n",
      " c:\\users\\s.patil\\documents\\code\\fine\\FINE\\spagat\\grouping_utils.py:211: UserWarning:Variable 0d_operationRateMax has dimensions ('component',) which are not considered for spatial aggregation.\n",
      " c:\\users\\s.patil\\documents\\code\\fine\\FINE\\spagat\\grouping_utils.py:211: UserWarning:Variable 0d_capacityMax has dimensions ('component',) which are not considered for spatial aggregation.\n",
      " c:\\users\\s.patil\\documents\\code\\fine\\FINE\\spagat\\grouping_utils.py:211: UserWarning:Variable 0d_physicalUnit has dimensions ('component',) which are not considered for spatial aggregation.\n",
      " c:\\users\\s.patil\\documents\\code\\fine\\FINE\\spagat\\grouping_utils.py:211: UserWarning:Variable 0d_commodityConversionFactors.electricity has dimensions ('component',) which are not considered for spatial aggregation.\n",
      " c:\\users\\s.patil\\documents\\code\\fine\\FINE\\spagat\\grouping_utils.py:211: UserWarning:Variable 0d_commodityConversionFactors.hydrogen has dimensions ('component',) which are not considered for spatial aggregation.\n",
      " c:\\users\\s.patil\\documents\\code\\fine\\FINE\\spagat\\grouping_utils.py:211: UserWarning:Variable 0d_linkedConversionCapacityID has dimensions ('component',) which are not considered for spatial aggregation.\n",
      " c:\\users\\s.patil\\documents\\code\\fine\\FINE\\spagat\\grouping_utils.py:211: UserWarning:Variable 0d_chargeRate has dimensions ('component',) which are not considered for spatial aggregation.\n",
      " c:\\users\\s.patil\\documents\\code\\fine\\FINE\\spagat\\grouping_utils.py:211: UserWarning:Variable 0d_dischargeRate has dimensions ('component',) which are not considered for spatial aggregation.\n",
      " c:\\users\\s.patil\\documents\\code\\fine\\FINE\\spagat\\grouping_utils.py:211: UserWarning:Variable 0d_chargeEfficiency has dimensions ('component',) which are not considered for spatial aggregation.\n",
      " c:\\users\\s.patil\\documents\\code\\fine\\FINE\\spagat\\grouping_utils.py:211: UserWarning:Variable 0d_dischargeEfficiency has dimensions ('component',) which are not considered for spatial aggregation.\n",
      " c:\\users\\s.patil\\documents\\code\\fine\\FINE\\spagat\\grouping_utils.py:211: UserWarning:Variable 0d_selfDischarge has dimensions ('component',) which are not considered for spatial aggregation.\n",
      " c:\\users\\s.patil\\documents\\code\\fine\\FINE\\spagat\\grouping_utils.py:211: UserWarning:Variable 0d_cyclicLifetime has dimensions ('component',) which are not considered for spatial aggregation.\n",
      " c:\\users\\s.patil\\documents\\code\\fine\\FINE\\spagat\\grouping_utils.py:211: UserWarning:Variable 0d_stateOfChargeMin has dimensions ('component',) which are not considered for spatial aggregation.\n",
      " c:\\users\\s.patil\\documents\\code\\fine\\FINE\\spagat\\grouping_utils.py:211: UserWarning:Variable 0d_stateOfChargeMax has dimensions ('component',) which are not considered for spatial aggregation.\n",
      " c:\\users\\s.patil\\documents\\code\\fine\\FINE\\spagat\\grouping_utils.py:211: UserWarning:Variable 0d_doPreciseTsaModeling has dimensions ('component',) which are not considered for spatial aggregation.\n",
      " c:\\users\\s.patil\\documents\\code\\fine\\FINE\\spagat\\grouping_utils.py:211: UserWarning:Variable 0d_chargeOpRateMax has dimensions ('component',) which are not considered for spatial aggregation.\n",
      " c:\\users\\s.patil\\documents\\code\\fine\\FINE\\spagat\\grouping_utils.py:211: UserWarning:Variable 0d_chargeOpRateFix has dimensions ('component',) which are not considered for spatial aggregation.\n",
      " c:\\users\\s.patil\\documents\\code\\fine\\FINE\\spagat\\grouping_utils.py:211: UserWarning:Variable 0d_chargeTsaWeight has dimensions ('component',) which are not considered for spatial aggregation.\n",
      " c:\\users\\s.patil\\documents\\code\\fine\\FINE\\spagat\\grouping_utils.py:211: UserWarning:Variable 0d_dischargeOpRateMax has dimensions ('component',) which are not considered for spatial aggregation.\n",
      " c:\\users\\s.patil\\documents\\code\\fine\\FINE\\spagat\\grouping_utils.py:211: UserWarning:Variable 0d_dischargeOpRateFix has dimensions ('component',) which are not considered for spatial aggregation.\n",
      " c:\\users\\s.patil\\documents\\code\\fine\\FINE\\spagat\\grouping_utils.py:211: UserWarning:Variable 0d_dischargeTsaWeight has dimensions ('component',) which are not considered for spatial aggregation.\n",
      " c:\\users\\s.patil\\documents\\code\\fine\\FINE\\spagat\\grouping_utils.py:211: UserWarning:Variable 0d_isPeriodicalStorage has dimensions ('component',) which are not considered for spatial aggregation.\n",
      " c:\\users\\s.patil\\documents\\code\\fine\\FINE\\spagat\\grouping_utils.py:211: UserWarning:Variable 0d_socOffsetDown has dimensions ('component',) which are not considered for spatial aggregation.\n",
      " c:\\users\\s.patil\\documents\\code\\fine\\FINE\\spagat\\grouping_utils.py:211: UserWarning:Variable 0d_socOffsetUp has dimensions ('component',) which are not considered for spatial aggregation.\n",
      " c:\\users\\s.patil\\documents\\code\\fine\\FINE\\spagat\\grouping_utils.py:211: UserWarning:Variable gpd_geometries has dimensions ('space',) which are not considered for spatial aggregation.\n",
      " c:\\users\\s.patil\\documents\\code\\fine\\FINE\\spagat\\grouping_utils.py:211: UserWarning:Variable gpd_centroids has dimensions ('space',) which are not considered for spatial aggregation.\n",
      " c:\\users\\s.patil\\documents\\code\\fine\\FINE\\spagat\\grouping_utils.py:211: UserWarning:Variable centroid_distances has dimensions ('space', 'space_2') which are not considered for spatial aggregation.\n"
     ]
    },
    {
     "name": "stdout",
     "output_type": "stream",
     "text": [
      "The cophenetic correlation coefficient of the hiearchical clustering is  0.5610418835904831\n",
      "Inconsistencies: [0.0, 0.7071067811865475, 0.0, 0.7071067811865472, 0.7071067811865474, 1.1272308730184022, 0.7071067811865452]\n",
      "Silhouette scores:  [0.054270202828483674, 0.30351294763901604, 0.1678556280347441, 0.3996558757034347, 0.2155832157551782, 0.15188589319266743]\n",
      "elapsed time for perform_parameter_based_grouping: 0.04 minutes\n",
      "aggregation_function_dict found in kwargs\n"
     ]
    },
    {
     "name": "stderr",
     "output_type": "stream",
     "text": [
      " c:\\users\\s.patil\\documents\\code\\fine\\FINE\\spagat\\representation.py:120: VisibleDeprecationWarning:Creating an ndarray from ragged nested sequences (which is a list-or-tuple of lists-or-tuples-or ndarrays with different lengths or shapes) is deprecated. If you meant to do this, you must specify 'dtype=object' when creating the ndarray\n",
      " c:\\users\\s.patil\\documents\\code\\fine\\FINE\\utils.py:1099: UserWarning:Pandas doesn't allow columns to be created via a new attribute name - see https://pandas.pydata.org/pandas-docs/stable/indexing.html#attribute-access\n",
      " c:\\users\\s.patil\\documents\\code\\fine\\FINE\\utils.py:1099: UserWarning:Pandas doesn't allow columns to be created via a new attribute name - see https://pandas.pydata.org/pandas-docs/stable/indexing.html#attribute-access\n",
      " c:\\users\\s.patil\\documents\\code\\fine\\FINE\\utils.py:1099: UserWarning:Pandas doesn't allow columns to be created via a new attribute name - see https://pandas.pydata.org/pandas-docs/stable/indexing.html#attribute-access\n",
      " c:\\users\\s.patil\\documents\\code\\fine\\FINE\\utils.py:1099: UserWarning:Pandas doesn't allow columns to be created via a new attribute name - see https://pandas.pydata.org/pandas-docs/stable/indexing.html#attribute-access\n",
      " c:\\users\\s.patil\\documents\\code\\fine\\FINE\\utils.py:673: UserWarning:A declaration of bigM is not necessary if hasIsBuiltBinaryVariable is set to false. The value of bigM will be ignored in the optimization.\n"
     ]
    },
    {
     "ename": "TypeError",
     "evalue": "Invalid value for attr: {'cluster_0_cluster_2', 'cluster_7', 'cluster_1_cluster_3_cluster_4_cluster_5_cluster_6'} must be a number, a string, an ndarray or a list/tuple of numbers/strings for serialization to netCDF files",
     "output_type": "error",
     "traceback": [
      "\u001b[1;31m---------------------------------------------------------------------------\u001b[0m",
      "\u001b[1;31mTypeError\u001b[0m                                 Traceback (most recent call last)",
      "\u001b[1;32m<ipython-input-8-170cc0f3f652>\u001b[0m in \u001b[0;36m<module>\u001b[1;34m\u001b[0m\n\u001b[0;32m      5\u001b[0m                                        \u001b[0maggregation_function_dict\u001b[0m\u001b[1;33m=\u001b[0m\u001b[0maggregation_function_dict\u001b[0m\u001b[1;33m,\u001b[0m\u001b[1;33m\u001b[0m\u001b[1;33m\u001b[0m\u001b[0m\n\u001b[0;32m      6\u001b[0m                                        \u001b[0msds_region_filename\u001b[0m\u001b[1;33m=\u001b[0m\u001b[0msds_region_filename\u001b[0m\u001b[1;33m,\u001b[0m\u001b[1;33m\u001b[0m\u001b[1;33m\u001b[0m\u001b[0m\n\u001b[1;32m----> 7\u001b[1;33m                                        sds_xr_dataset_filename=sds_xr_dataset_filename)\n\u001b[0m",
      "\u001b[1;32mc:\\users\\s.patil\\documents\\code\\fine\\FINE\\energySystemModel.py\u001b[0m in \u001b[0;36maggregateSpatially\u001b[1;34m(self, shapefilePath, grouping_mode, nRegionsForRepresentation, aggregatedResultsPath, **kwargs)\u001b[0m\n\u001b[0;32m    526\u001b[0m             aggregated_sds.save_sds(aggregatedResultsPath,\n\u001b[0;32m    527\u001b[0m                         \u001b[0msds_region_filename\u001b[0m\u001b[1;33m,\u001b[0m\u001b[1;33m\u001b[0m\u001b[1;33m\u001b[0m\u001b[0m\n\u001b[1;32m--> 528\u001b[1;33m                         sds_xr_dataset_filename)\n\u001b[0m\u001b[0;32m    529\u001b[0m \u001b[1;33m\u001b[0m\u001b[0m\n\u001b[0;32m    530\u001b[0m \u001b[1;33m\u001b[0m\u001b[0m\n",
      "\u001b[1;32mc:\\users\\s.patil\\documents\\code\\fine\\FINE\\spagat\\utils.py\u001b[0m in \u001b[0;36mf\u001b[1;34m(*args, **kwargs)\u001b[0m\n\u001b[0;32m     41\u001b[0m     \u001b[1;32mdef\u001b[0m \u001b[0mf\u001b[0m\u001b[1;33m(\u001b[0m\u001b[1;33m*\u001b[0m\u001b[0margs\u001b[0m\u001b[1;33m,\u001b[0m \u001b[1;33m**\u001b[0m\u001b[0mkwargs\u001b[0m\u001b[1;33m)\u001b[0m\u001b[1;33m:\u001b[0m\u001b[1;33m\u001b[0m\u001b[1;33m\u001b[0m\u001b[0m\n\u001b[0;32m     42\u001b[0m         \u001b[0mbefore\u001b[0m \u001b[1;33m=\u001b[0m \u001b[0mtime\u001b[0m\u001b[1;33m.\u001b[0m\u001b[0mperf_counter\u001b[0m\u001b[1;33m(\u001b[0m\u001b[1;33m)\u001b[0m  \u001b[1;31m# maybe exchange with time.process_time()\u001b[0m\u001b[1;33m\u001b[0m\u001b[1;33m\u001b[0m\u001b[0m\n\u001b[1;32m---> 43\u001b[1;33m         \u001b[0mrv\u001b[0m \u001b[1;33m=\u001b[0m \u001b[0mfunc\u001b[0m\u001b[1;33m(\u001b[0m\u001b[1;33m*\u001b[0m\u001b[0margs\u001b[0m\u001b[1;33m,\u001b[0m \u001b[1;33m**\u001b[0m\u001b[0mkwargs\u001b[0m\u001b[1;33m)\u001b[0m\u001b[1;33m\u001b[0m\u001b[1;33m\u001b[0m\u001b[0m\n\u001b[0m\u001b[0;32m     44\u001b[0m         \u001b[0mafter\u001b[0m \u001b[1;33m=\u001b[0m \u001b[0mtime\u001b[0m\u001b[1;33m.\u001b[0m\u001b[0mperf_counter\u001b[0m\u001b[1;33m(\u001b[0m\u001b[1;33m)\u001b[0m\u001b[1;33m\u001b[0m\u001b[1;33m\u001b[0m\u001b[0m\n\u001b[0;32m     45\u001b[0m         print(\n",
      "\u001b[1;32mc:\\users\\s.patil\\documents\\code\\fine\\FINE\\spagat\\dataset.py\u001b[0m in \u001b[0;36msave_sds\u001b[1;34m(self, sds_folder_path, sds_region_filename, sds_xr_dataset_filename)\u001b[0m\n\u001b[0;32m    163\u001b[0m         \u001b[1;31m# save data\u001b[0m\u001b[1;33m\u001b[0m\u001b[1;33m\u001b[0m\u001b[1;33m\u001b[0m\u001b[0m\n\u001b[0;32m    164\u001b[0m         \u001b[0msds_output_path\u001b[0m \u001b[1;33m=\u001b[0m \u001b[0mos\u001b[0m\u001b[1;33m.\u001b[0m\u001b[0mpath\u001b[0m\u001b[1;33m.\u001b[0m\u001b[0mjoin\u001b[0m\u001b[1;33m(\u001b[0m\u001b[0msds_folder_path\u001b[0m\u001b[1;33m,\u001b[0m \u001b[0msds_xr_dataset_filename\u001b[0m\u001b[1;33m)\u001b[0m\u001b[1;33m\u001b[0m\u001b[1;33m\u001b[0m\u001b[0m\n\u001b[1;32m--> 165\u001b[1;33m         \u001b[0mself\u001b[0m\u001b[1;33m.\u001b[0m\u001b[0msave_data\u001b[0m\u001b[1;33m(\u001b[0m\u001b[0msds_output_path\u001b[0m\u001b[1;33m)\u001b[0m\u001b[1;33m\u001b[0m\u001b[1;33m\u001b[0m\u001b[0m\n\u001b[0m",
      "\u001b[1;32mc:\\users\\s.patil\\documents\\code\\fine\\FINE\\spagat\\dataset.py\u001b[0m in \u001b[0;36msave_data\u001b[1;34m(self, sds_output_path)\u001b[0m\n\u001b[0;32m    132\u001b[0m \u001b[1;33m\u001b[0m\u001b[0m\n\u001b[0;32m    133\u001b[0m         \u001b[1;32mif\u001b[0m \u001b[0mlen\u001b[0m\u001b[1;33m(\u001b[0m\u001b[0mdrop_list\u001b[0m\u001b[1;33m)\u001b[0m \u001b[1;33m>\u001b[0m \u001b[1;36m0\u001b[0m\u001b[1;33m:\u001b[0m\u001b[1;33m\u001b[0m\u001b[1;33m\u001b[0m\u001b[0m\n\u001b[1;32m--> 134\u001b[1;33m             \u001b[0mself\u001b[0m\u001b[1;33m.\u001b[0m\u001b[0mxr_dataset\u001b[0m\u001b[1;33m.\u001b[0m\u001b[0mdrop\u001b[0m\u001b[1;33m(\u001b[0m\u001b[0mdrop_list\u001b[0m\u001b[1;33m)\u001b[0m\u001b[1;33m.\u001b[0m\u001b[0mto_netcdf\u001b[0m\u001b[1;33m(\u001b[0m\u001b[0msds_output_path\u001b[0m\u001b[1;33m)\u001b[0m\u001b[1;33m\u001b[0m\u001b[1;33m\u001b[0m\u001b[0m\n\u001b[0m\u001b[0;32m    135\u001b[0m         \u001b[1;32melse\u001b[0m\u001b[1;33m:\u001b[0m\u001b[1;33m\u001b[0m\u001b[1;33m\u001b[0m\u001b[0m\n\u001b[0;32m    136\u001b[0m             \u001b[0mself\u001b[0m\u001b[1;33m.\u001b[0m\u001b[0mxr_dataset\u001b[0m\u001b[1;33m.\u001b[0m\u001b[0mto_netcdf\u001b[0m\u001b[1;33m(\u001b[0m\u001b[0msds_output_path\u001b[0m\u001b[1;33m)\u001b[0m\u001b[1;33m\u001b[0m\u001b[1;33m\u001b[0m\u001b[0m\n",
      "\u001b[1;32m~\\Anaconda3\\envs\\europeanmodel\\lib\\site-packages\\xarray\\core\\dataset.py\u001b[0m in \u001b[0;36mto_netcdf\u001b[1;34m(self, path, mode, format, group, engine, encoding, unlimited_dims, compute, invalid_netcdf)\u001b[0m\n\u001b[0;32m   1565\u001b[0m             \u001b[0munlimited_dims\u001b[0m\u001b[1;33m=\u001b[0m\u001b[0munlimited_dims\u001b[0m\u001b[1;33m,\u001b[0m\u001b[1;33m\u001b[0m\u001b[1;33m\u001b[0m\u001b[0m\n\u001b[0;32m   1566\u001b[0m             \u001b[0mcompute\u001b[0m\u001b[1;33m=\u001b[0m\u001b[0mcompute\u001b[0m\u001b[1;33m,\u001b[0m\u001b[1;33m\u001b[0m\u001b[1;33m\u001b[0m\u001b[0m\n\u001b[1;32m-> 1567\u001b[1;33m             \u001b[0minvalid_netcdf\u001b[0m\u001b[1;33m=\u001b[0m\u001b[0minvalid_netcdf\u001b[0m\u001b[1;33m,\u001b[0m\u001b[1;33m\u001b[0m\u001b[1;33m\u001b[0m\u001b[0m\n\u001b[0m\u001b[0;32m   1568\u001b[0m         )\n\u001b[0;32m   1569\u001b[0m \u001b[1;33m\u001b[0m\u001b[0m\n",
      "\u001b[1;32m~\\Anaconda3\\envs\\europeanmodel\\lib\\site-packages\\xarray\\backends\\api.py\u001b[0m in \u001b[0;36mto_netcdf\u001b[1;34m(dataset, path_or_file, mode, format, group, engine, encoding, unlimited_dims, compute, multifile, invalid_netcdf)\u001b[0m\n\u001b[0;32m   1031\u001b[0m     \u001b[1;31m# validate Dataset keys, DataArray names, and attr keys/values\u001b[0m\u001b[1;33m\u001b[0m\u001b[1;33m\u001b[0m\u001b[1;33m\u001b[0m\u001b[0m\n\u001b[0;32m   1032\u001b[0m     \u001b[0m_validate_dataset_names\u001b[0m\u001b[1;33m(\u001b[0m\u001b[0mdataset\u001b[0m\u001b[1;33m)\u001b[0m\u001b[1;33m\u001b[0m\u001b[1;33m\u001b[0m\u001b[0m\n\u001b[1;32m-> 1033\u001b[1;33m     \u001b[0m_validate_attrs\u001b[0m\u001b[1;33m(\u001b[0m\u001b[0mdataset\u001b[0m\u001b[1;33m)\u001b[0m\u001b[1;33m\u001b[0m\u001b[1;33m\u001b[0m\u001b[0m\n\u001b[0m\u001b[0;32m   1034\u001b[0m \u001b[1;33m\u001b[0m\u001b[0m\n\u001b[0;32m   1035\u001b[0m     \u001b[1;32mtry\u001b[0m\u001b[1;33m:\u001b[0m\u001b[1;33m\u001b[0m\u001b[1;33m\u001b[0m\u001b[0m\n",
      "\u001b[1;32m~\\Anaconda3\\envs\\europeanmodel\\lib\\site-packages\\xarray\\backends\\api.py\u001b[0m in \u001b[0;36m_validate_attrs\u001b[1;34m(dataset)\u001b[0m\n\u001b[0;32m    210\u001b[0m     \u001b[1;31m# Check attrs on the dataset itself\u001b[0m\u001b[1;33m\u001b[0m\u001b[1;33m\u001b[0m\u001b[1;33m\u001b[0m\u001b[0m\n\u001b[0;32m    211\u001b[0m     \u001b[1;32mfor\u001b[0m \u001b[0mk\u001b[0m\u001b[1;33m,\u001b[0m \u001b[0mv\u001b[0m \u001b[1;32min\u001b[0m \u001b[0mdataset\u001b[0m\u001b[1;33m.\u001b[0m\u001b[0mattrs\u001b[0m\u001b[1;33m.\u001b[0m\u001b[0mitems\u001b[0m\u001b[1;33m(\u001b[0m\u001b[1;33m)\u001b[0m\u001b[1;33m:\u001b[0m\u001b[1;33m\u001b[0m\u001b[1;33m\u001b[0m\u001b[0m\n\u001b[1;32m--> 212\u001b[1;33m         \u001b[0mcheck_attr\u001b[0m\u001b[1;33m(\u001b[0m\u001b[0mk\u001b[0m\u001b[1;33m,\u001b[0m \u001b[0mv\u001b[0m\u001b[1;33m)\u001b[0m\u001b[1;33m\u001b[0m\u001b[1;33m\u001b[0m\u001b[0m\n\u001b[0m\u001b[0;32m    213\u001b[0m \u001b[1;33m\u001b[0m\u001b[0m\n\u001b[0;32m    214\u001b[0m     \u001b[1;31m# Check attrs on each variable within the dataset\u001b[0m\u001b[1;33m\u001b[0m\u001b[1;33m\u001b[0m\u001b[1;33m\u001b[0m\u001b[0m\n",
      "\u001b[1;32m~\\Anaconda3\\envs\\europeanmodel\\lib\\site-packages\\xarray\\backends\\api.py\u001b[0m in \u001b[0;36mcheck_attr\u001b[1;34m(name, value)\u001b[0m\n\u001b[0;32m    205\u001b[0m                 \u001b[1;34m\"a string, an ndarray or a list/tuple of \"\u001b[0m\u001b[1;33m\u001b[0m\u001b[1;33m\u001b[0m\u001b[0m\n\u001b[0;32m    206\u001b[0m                 \u001b[1;34m\"numbers/strings for serialization to netCDF \"\u001b[0m\u001b[1;33m\u001b[0m\u001b[1;33m\u001b[0m\u001b[0m\n\u001b[1;32m--> 207\u001b[1;33m                 \u001b[1;34m\"files\"\u001b[0m\u001b[1;33m.\u001b[0m\u001b[0mformat\u001b[0m\u001b[1;33m(\u001b[0m\u001b[0mvalue\u001b[0m\u001b[1;33m)\u001b[0m\u001b[1;33m\u001b[0m\u001b[1;33m\u001b[0m\u001b[0m\n\u001b[0m\u001b[0;32m    208\u001b[0m             )\n\u001b[0;32m    209\u001b[0m \u001b[1;33m\u001b[0m\u001b[0m\n",
      "\u001b[1;31mTypeError\u001b[0m: Invalid value for attr: {'cluster_0_cluster_2', 'cluster_7', 'cluster_1_cluster_3_cluster_4_cluster_5_cluster_6'} must be a number, a string, an ndarray or a list/tuple of numbers/strings for serialization to netCDF files"
     ]
    }
   ],
   "source": [
    "aggregated_esM = esM.aggregateSpatially(shapefilePath=SHAPEFILE_PATH, \n",
    "                                       grouping_mode='parameter_based', \n",
    "                                       nRegionsForRepresentation=3,\n",
    "                                       aggregatedResultsPath='output_data', \n",
    "                                       aggregation_function_dict=aggregation_function_dict,\n",
    "                                       sds_region_filename=sds_region_filename,\n",
    "                                       sds_xr_dataset_filename=sds_xr_dataset_filename)"
   ]
  },
  {
   "cell_type": "code",
   "execution_count": null,
   "metadata": {},
   "outputs": [],
   "source": [
    "new_locations = list(aggregated_esM.locations)\n",
    "new_locations"
   ]
  },
  {
   "cell_type": "code",
   "execution_count": null,
   "metadata": {},
   "outputs": [],
   "source": [
    "aggregated_esM.componentModelingDict['TransmissionModel'].componentsDict"
   ]
  },
  {
   "cell_type": "markdown",
   "metadata": {},
   "source": [
    "# STEP 3. VRES Representation (Optional)"
   ]
  },
  {
   "cell_type": "code",
   "execution_count": null,
   "metadata": {},
   "outputs": [],
   "source": [
    "## DATA \n",
    "ONSHORE_WIND_DATA_PATH = 'InputData/RERepresentationData/DEU_wind.nc4'\n",
    "PV_DATA_PATH = 'InputData/RERepresentationData/DEU_PV.nc4'\n",
    "\n",
    "#SHAPEFILE WITH MERGED REGIONS \n",
    "SHP_PATH = f'OutputData/{sds_region_filename}'"
   ]
  },
  {
   "cell_type": "code",
   "execution_count": null,
   "metadata": {},
   "outputs": [],
   "source": [
    "## Representation \n",
    "represented_wind_ds = represent_RE_technology(ONSHORE_WIND_DATA_PATH,\n",
    "                                              SHP_PATH, \n",
    "                                              n_timeSeries_perRegion=5,\n",
    "                                              index_col='space', \n",
    "                                              geometry_col='geometry',\n",
    "                                              longitude='x', \n",
    "                                              latitude='y') \n",
    "\n",
    "represented_pv_ds = represent_RE_technology(PV_DATA_PATH, \n",
    "                                            SHP_PATH, \n",
    "                                            n_timeSeries_perRegion=5,\n",
    "                                            index_col='space', \n",
    "                                            geometry_col='geometry',\n",
    "                                            longitude='x', \n",
    "                                            latitude='y')"
   ]
  },
  {
   "cell_type": "code",
   "execution_count": null,
   "metadata": {},
   "outputs": [],
   "source": [
    "represented_wind_ds"
   ]
  },
  {
   "cell_type": "code",
   "execution_count": null,
   "metadata": {},
   "outputs": [],
   "source": [
    "## Now we need to delete 'Wind (onshore)' and 'PV'in aggregated_esM and add the represented results \n",
    "aggregated_esM.componentModelingDict['SourceSinkModel'].componentsDict"
   ]
  },
  {
   "cell_type": "code",
   "execution_count": null,
   "metadata": {},
   "outputs": [],
   "source": [
    "## But first we need certain info corresponding to these techs as they remain the same:\n",
    "wind_investPerCapacity = aggregated_esM.getComponentAttribute('Wind (onshore)', 'investPerCapacity').mean()\n",
    "wind_opexPerCapacity = aggregated_esM.getComponentAttribute('Wind (onshore)', 'opexPerCapacity').mean()\n",
    "wind_interestRate = aggregated_esM.getComponentAttribute('Wind (onshore)', 'interestRate').mean()\n",
    "wind_economicLifetime = aggregated_esM.getComponentAttribute('Wind (onshore)', 'economicLifetime').mean()\n",
    "\n",
    "pv_investPerCapacity = aggregated_esM.getComponentAttribute('PV', 'investPerCapacity').mean()\n",
    "pv_opexPerCapacity = aggregated_esM.getComponentAttribute('PV', 'opexPerCapacity').mean()\n",
    "pv_interestRate = aggregated_esM.getComponentAttribute('PV', 'interestRate').mean()\n",
    "pv_economicLifetime = aggregated_esM.getComponentAttribute('PV', 'economicLifetime').mean()"
   ]
  },
  {
   "cell_type": "code",
   "execution_count": null,
   "metadata": {},
   "outputs": [],
   "source": [
    "## And now we delete them\n",
    "aggregated_esM.removeComponent('Wind (onshore)')\n",
    "aggregated_esM.removeComponent('PV')"
   ]
  },
  {
   "cell_type": "code",
   "execution_count": null,
   "metadata": {},
   "outputs": [],
   "source": [
    "aggregated_esM.componentModelingDict['SourceSinkModel'].componentsDict"
   ]
  },
  {
   "cell_type": "code",
   "execution_count": null,
   "metadata": {},
   "outputs": [],
   "source": [
    "## Prepare the representation results and add them to aggregated_esM\n",
    "data = {}   \n",
    "\n",
    "time_steps = aggregated_esM.totalTimeSteps\n",
    "regions = represented_wind_ds['region_ids'].values\n",
    "clusters = represented_wind_ds['TS_ids'].values  #clusters per region (also the locations for optimization)\n",
    "\n",
    "\n",
    "for i, cluster in enumerate(clusters):\n",
    "    # Add a wind turbine\n",
    "    data.update({f'Wind (onshore), capacityMax {i}': pd.Series(represented_wind_ds.capacity.loc[:,cluster], index=regions)})\n",
    "\n",
    "    data.update({f'Wind (onshore), operationRateMax {i}': pd.DataFrame(represented_wind_ds.capfac.loc[:,:,cluster].values,\n",
    "                                                                       index=time_steps, columns=regions)})\n",
    "    \n",
    "\n",
    "    # Add a pv\n",
    "    data.update({f'PV, capacityMax {i}': pd.Series(represented_pv_ds.capacity.loc[:,cluster], index=regions)})\n",
    "\n",
    "    data.update({f'PV, operationRateMax {i}': pd.DataFrame(represented_pv_ds.capfac.loc[:,:,cluster].values,\n",
    "                                                                       index=time_steps, columns=regions)})"
   ]
  },
  {
   "cell_type": "code",
   "execution_count": null,
   "metadata": {},
   "outputs": [],
   "source": [
    "for i, cluster in enumerate(clusters):\n",
    "    aggregated_esM.add(fn.Source(esM=aggregated_esM, \n",
    "                      name=f'Wind (onshore) {i}',\n",
    "                      commodity='electricity', \n",
    "                      hasCapacityVariable=True,\n",
    "                      operationRateMax=data[f'Wind (onshore), operationRateMax {i}'],\n",
    "                      capacityMax=data[f'Wind (onshore), capacityMax {i}'],\n",
    "                      investPerCapacity=wind_investPerCapacity, \n",
    "                      opexPerCapacity=wind_opexPerCapacity,\n",
    "                      interestRate=pv_interestRate,\n",
    "                      economicLifetime=wind_economicLifetime\n",
    "                      ))\n",
    "    \n",
    "    aggregated_esM.add(fn.Source(esM=aggregated_esM, \n",
    "                      name=f'PV {i}', \n",
    "                      commodity='electricity',\n",
    "                      hasCapacityVariable=True,\n",
    "                      operationRateMax=data[f'PV, operationRateMax {i}'], \n",
    "                      capacityMax=data[f'PV, capacityMax {i}'],\n",
    "                      investPerCapacity=pv_investPerCapacity, \n",
    "                      opexPerCapacity=pv_opexPerCapacity, \n",
    "                      interestRate=pv_interestRate,\n",
    "                      economicLifetime=pv_economicLifetime))"
   ]
  },
  {
   "cell_type": "code",
   "execution_count": null,
   "metadata": {},
   "outputs": [],
   "source": [
    "aggregated_esM.componentModelingDict['SourceSinkModel'].componentsDict"
   ]
  },
  {
   "cell_type": "markdown",
   "metadata": {},
   "source": [
    "# 8.2 Temporal Aggregation\n",
    "\n",
    "All components are now added to the model and the model can be optimized. If the computational complexity of the optimization should be reduced, the time series data of the specified components can be clustered before the optimization and the parameter timeSeriesAggregation is set to True in the optimize call."
   ]
  },
  {
   "cell_type": "code",
   "execution_count": null,
   "metadata": {},
   "outputs": [],
   "source": [
    "aggregated_esM.cluster(numberOfTypicalPeriods=7)"
   ]
  },
  {
   "cell_type": "markdown",
   "metadata": {},
   "source": [
    "# 9 Optimization"
   ]
  },
  {
   "cell_type": "code",
   "execution_count": null,
   "metadata": {},
   "outputs": [],
   "source": [
    "aggregated_esM.optimize(timeSeriesAggregation=True, solver='gurobi')"
   ]
  },
  {
   "cell_type": "code",
   "execution_count": null,
   "metadata": {},
   "outputs": [],
   "source": [
    "# 10. Selected Results Output"
   ]
  },
  {
   "cell_type": "code",
   "execution_count": null,
   "metadata": {},
   "outputs": [],
   "source": [
    "## 10.1. Plots for Spatial Aggregation Results "
   ]
  },
  {
   "cell_type": "code",
   "execution_count": null,
   "metadata": {},
   "outputs": [],
   "source": [
    "#### Original spatial resolution"
   ]
  },
  {
   "cell_type": "code",
   "execution_count": null,
   "metadata": {},
   "outputs": [],
   "source": [
    "locFilePath = os.path.join(cwd, 'InputData', 'SpatialData','ShapeFiles', 'clusteredRegions.shp')\n",
    "fig, ax = fn.plotLocations(locFilePath, plotLocNames=True, indexColumn='index')"
   ]
  },
  {
   "cell_type": "code",
   "execution_count": null,
   "metadata": {},
   "outputs": [],
   "source": [
    "#### Spatial resolution after aggregation"
   ]
  },
  {
   "cell_type": "code",
   "execution_count": null,
   "metadata": {},
   "outputs": [],
   "source": [
    "aggregated_regions_FilePath = os.path.join(cwd, 'OutputData', 'aggregated_regions.shp')\n",
    "fig, ax = fn.plotLocations(aggregated_regions_FilePath, plotLocNames=True, indexColumn='space')"
   ]
  },
  {
   "cell_type": "code",
   "execution_count": null,
   "metadata": {},
   "outputs": [],
   "source": [
    "## 10.2. Sources and Sink Optimization Summary"
   ]
  },
  {
   "cell_type": "code",
   "execution_count": null,
   "metadata": {},
   "outputs": [],
   "source": []
  },
  {
   "cell_type": "code",
   "execution_count": null,
   "metadata": {},
   "outputs": [],
   "source": []
  }
 ],
 "metadata": {
  "kernelspec": {
   "display_name": "Python 3",
   "language": "python",
   "name": "python3"
  },
  "language_info": {
   "codemirror_mode": {
    "name": "ipython",
    "version": 3
   },
   "file_extension": ".py",
   "mimetype": "text/x-python",
   "name": "python",
   "nbconvert_exporter": "python",
   "pygments_lexer": "ipython3",
   "version": "3.7.8"
  }
 },
 "nbformat": 4,
 "nbformat_minor": 4
}
