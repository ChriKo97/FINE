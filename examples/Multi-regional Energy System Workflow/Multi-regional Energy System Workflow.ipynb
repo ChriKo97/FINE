{
 "cells": [
  {
   "cell_type": "markdown",
   "metadata": {},
   "source": [
    "# Workflow for a multi-regional energy system\n",
    "\n",
    "In this application of the FINE framework, a multi-regional energy system is modeled and optimized.\n",
    "\n",
    "All classes which are available to the user are utilized and examples of the selection of different parameters within these classes are given.\n",
    "\n",
    "The workflow is structures as follows:\n",
    "1. Required packages are imported and the input data path is set\n",
    "2. An energy system model instance is created\n",
    "3. Commodity sources are added to the energy system model\n",
    "4. Commodity conversion components are added to the energy system model\n",
    "5. Commodity storages are added to the energy system model\n",
    "6. Commodity transmission components are added to the energy system model\n",
    "7. Commodity sinks are added to the energy system model\n",
    "8. The energy system model is optimized\n",
    "9. Selected optimization results are presented\n"
   ]
  },
  {
   "cell_type": "markdown",
   "metadata": {},
   "source": [
    "# 1. Import required packages and set input data path\n",
    "\n",
    "The FINE framework is imported which provides the required classes and functions for modeling the energy system."
   ]
  },
  {
   "cell_type": "code",
   "execution_count": 59,
   "metadata": {},
   "outputs": [
    {
     "name": "stdout",
     "output_type": "stream",
     "text": [
      "The autoreload extension is already loaded. To reload it, use:\n",
      "  %reload_ext autoreload\n"
     ]
    }
   ],
   "source": [
    "import FINE as fn\n",
    "from getData import getData\n",
    "import os\n",
    "cwd = os.getcwd()\n",
    "data = getData()\n",
    "\n",
    "%matplotlib inline  \n",
    "%load_ext autoreload\n",
    "%autoreload 2"
   ]
  },
  {
   "cell_type": "markdown",
   "metadata": {},
   "source": [
    "# 2. Create an energy system model instance \n",
    "\n",
    "The structure of the energy system model is given by the considered locations, commodities, the number of time steps as well as the hours per time step.\n",
    "\n",
    "The commodities are specified by a unit (i.e. 'GW_electric', 'GW_H2lowerHeatingValue', 'Mio. t CO2/h') which can be given as an energy or mass unit per hour. Furthermore, the cost unit and length unit are specified."
   ]
  },
  {
   "cell_type": "code",
   "execution_count": 60,
   "metadata": {},
   "outputs": [],
   "source": [
    "locations = {'cluster_0', 'cluster_1', 'cluster_2', 'cluster_3', 'cluster_4', 'cluster_5', 'cluster_6', 'cluster_7'}\n",
    "commodityUnitDict = {'electricity': r'GW$_{el}$', 'methane': r'GW$_{CH_{4},LHV}$', 'biogas': r'GW$_{biogas,LHV}$',\n",
    "                     'CO2': r'Mio. t$_{CO_2}$/h', 'hydrogen': r'GW$_{H_{2},LHV}$'}\n",
    "commodities = {'electricity', 'hydrogen', 'methane', 'biogas', 'CO2'}\n",
    "numberOfTimeSteps=8760\n",
    "hoursPerTimeStep=1"
   ]
  },
  {
   "cell_type": "code",
   "execution_count": 61,
   "metadata": {},
   "outputs": [],
   "source": [
    "esM = fn.EnergySystemModel(locations=locations, commodities=commodities, numberOfTimeSteps=8760,\n",
    "                           commodityUnitsDict=commodityUnitDict,\n",
    "                           hoursPerTimeStep=1, costUnit='1e9 Euro', lengthUnit='km', verboseLogLevel=0)"
   ]
  },
  {
   "cell_type": "code",
   "execution_count": 62,
   "metadata": {},
   "outputs": [],
   "source": [
    "CO2_reductionTarget = 1"
   ]
  },
  {
   "cell_type": "markdown",
   "metadata": {},
   "source": [
    "# 3. Add commodity sources to the energy system model"
   ]
  },
  {
   "cell_type": "markdown",
   "metadata": {},
   "source": [
    "## 3.1. Electricity sources"
   ]
  },
  {
   "cell_type": "markdown",
   "metadata": {},
   "source": [
    "### Wind onshore"
   ]
  },
  {
   "cell_type": "code",
   "execution_count": 63,
   "metadata": {},
   "outputs": [],
   "source": [
    "esM.add(fn.Source(esM=esM, name='Wind (onshore)', commodity='electricity', hasCapacityVariable=True,\n",
    "                  operationRateMax=data['Wind (onshore), operationRateMax'],\n",
    "                  capacityMax=data['Wind (onshore), capacityMax'],\n",
    "                  investPerCapacity=1.1, opexPerCapacity=1.1*0.02, interestRate=0.08,\n",
    "                  economicLifetime=20))"
   ]
  },
  {
   "cell_type": "markdown",
   "metadata": {},
   "source": [
    "Full load hours:"
   ]
  },
  {
   "cell_type": "code",
   "execution_count": 64,
   "metadata": {},
   "outputs": [
    {
     "data": {
      "text/plain": [
       "cluster_0    2300.406907\n",
       "cluster_1    1082.032187\n",
       "cluster_2    1447.812026\n",
       "cluster_3    1448.827987\n",
       "cluster_4    1935.618218\n",
       "cluster_5    1757.696047\n",
       "cluster_6    1286.944636\n",
       "cluster_7    1199.380071\n",
       "dtype: float64"
      ]
     },
     "execution_count": 64,
     "metadata": {},
     "output_type": "execute_result"
    }
   ],
   "source": [
    "data['Wind (onshore), operationRateMax'].sum()"
   ]
  },
  {
   "cell_type": "markdown",
   "metadata": {},
   "source": [
    "### Wind offshore"
   ]
  },
  {
   "cell_type": "code",
   "execution_count": 65,
   "metadata": {},
   "outputs": [],
   "source": [
    "esM.add(fn.Source(esM=esM, name='Wind (offshore)', commodity='electricity', hasCapacityVariable=True,\n",
    "                  operationRateMax=data['Wind (offshore), operationRateMax'],\n",
    "                  capacityMax=data['Wind (offshore), capacityMax'],\n",
    "                  investPerCapacity=2.3, opexPerCapacity=2.3*0.02, interestRate=0.08,\n",
    "                  economicLifetime=20))"
   ]
  },
  {
   "cell_type": "markdown",
   "metadata": {},
   "source": [
    "Full load hours:"
   ]
  },
  {
   "cell_type": "code",
   "execution_count": 66,
   "metadata": {},
   "outputs": [
    {
     "data": {
      "text/plain": [
       "cluster_0    4332.977326\n",
       "cluster_1       0.000000\n",
       "cluster_2       0.000000\n",
       "cluster_3       0.000000\n",
       "cluster_4    3963.044612\n",
       "cluster_5    3459.283279\n",
       "cluster_6       0.000000\n",
       "cluster_7       0.000000\n",
       "dtype: float64"
      ]
     },
     "execution_count": 66,
     "metadata": {},
     "output_type": "execute_result"
    }
   ],
   "source": [
    "data['Wind (offshore), operationRateMax'].sum()"
   ]
  },
  {
   "cell_type": "markdown",
   "metadata": {},
   "source": [
    "### PV"
   ]
  },
  {
   "cell_type": "code",
   "execution_count": 67,
   "metadata": {},
   "outputs": [],
   "source": [
    "esM.add(fn.Source(esM=esM, name='PV', commodity='electricity', hasCapacityVariable=True,\n",
    "                  operationRateMax=data['PV, operationRateMax'], capacityMax=data['PV, capacityMax'],\n",
    "                  investPerCapacity=0.65, opexPerCapacity=0.65*0.02, interestRate=0.08,\n",
    "                  economicLifetime=25))"
   ]
  },
  {
   "cell_type": "markdown",
   "metadata": {},
   "source": [
    "Full load hours:"
   ]
  },
  {
   "cell_type": "code",
   "execution_count": 68,
   "metadata": {},
   "outputs": [
    {
     "data": {
      "text/plain": [
       "cluster_0    859.175855\n",
       "cluster_1    970.535848\n",
       "cluster_2    913.049274\n",
       "cluster_3    917.880212\n",
       "cluster_4    875.448945\n",
       "cluster_5    904.590003\n",
       "cluster_6    984.223517\n",
       "cluster_7    992.311727\n",
       "dtype: float64"
      ]
     },
     "execution_count": 68,
     "metadata": {},
     "output_type": "execute_result"
    }
   ],
   "source": [
    "data['PV, operationRateMax'].sum()"
   ]
  },
  {
   "cell_type": "markdown",
   "metadata": {},
   "source": [
    "### Exisisting run-of-river hydroelectricity plants"
   ]
  },
  {
   "cell_type": "code",
   "execution_count": 69,
   "metadata": {},
   "outputs": [],
   "source": [
    "esM.add(fn.Source(esM=esM, name='Existing run-of-river plants', commodity='electricity',\n",
    "                  hasCapacityVariable=True,\n",
    "                  operationRateFix=data['Existing run-of-river plants, operationRateFix'], tsaWeight=0.01,\n",
    "                  capacityFix=data['Existing run-of-river plants, capacityFix'],\n",
    "                  investPerCapacity=0, opexPerCapacity=0.208))"
   ]
  },
  {
   "cell_type": "markdown",
   "metadata": {},
   "source": [
    "## 3.2. Methane (natural gas and biogas)"
   ]
  },
  {
   "cell_type": "markdown",
   "metadata": {},
   "source": [
    "### Natural gas"
   ]
  },
  {
   "cell_type": "code",
   "execution_count": 70,
   "metadata": {},
   "outputs": [],
   "source": [
    "esM.add(fn.Source(esM=esM, name='Natural gas purchase', commodity='methane',\n",
    "                  hasCapacityVariable=False, commodityCost=0.0331*1e-3))"
   ]
  },
  {
   "cell_type": "markdown",
   "metadata": {},
   "source": [
    "### Biogas"
   ]
  },
  {
   "cell_type": "code",
   "execution_count": 71,
   "metadata": {},
   "outputs": [],
   "source": [
    "esM.add(fn.Source(esM=esM, name='Biogas purchase', commodity='biogas',\n",
    "                  operationRateMax=data['Biogas, operationRateMax'], hasCapacityVariable=False,\n",
    "                  commodityCost=0.05409*1e-3))"
   ]
  },
  {
   "cell_type": "markdown",
   "metadata": {},
   "source": [
    "## 3.3 CO2"
   ]
  },
  {
   "cell_type": "markdown",
   "metadata": {},
   "source": [
    "### CO2\n",
    "\n",
    "The CO2 source is required for the case in which it can be mixed with conventional natural gas."
   ]
  },
  {
   "cell_type": "code",
   "execution_count": 72,
   "metadata": {},
   "outputs": [],
   "source": [
    "esM.add(fn.Source(esM=esM, name='CO2 from enviroment', commodity='CO2',\n",
    "                  hasCapacityVariable=False, commodityLimitID='CO2 limit', yearlyLimit=366*(1-CO2_reductionTarget)))"
   ]
  },
  {
   "cell_type": "markdown",
   "metadata": {},
   "source": [
    "# 4. Add conversion components to the energy system model"
   ]
  },
  {
   "cell_type": "markdown",
   "metadata": {},
   "source": [
    "### Combined cycle gas turbine plants"
   ]
  },
  {
   "cell_type": "code",
   "execution_count": 73,
   "metadata": {},
   "outputs": [],
   "source": [
    "esM.add(fn.Conversion(esM=esM, name='CCGT plants (methane)', physicalUnit=r'GW$_{el}$',\n",
    "                      commodityConversionFactors={'electricity':1, 'methane':-1/0.625, 'CO2':201*1e-6/0.625},\n",
    "                      hasCapacityVariable=True,\n",
    "                      investPerCapacity=0.65, opexPerCapacity=0.021, interestRate=0.08,\n",
    "                      economicLifetime=33))"
   ]
  },
  {
   "cell_type": "markdown",
   "metadata": {},
   "source": [
    "### New combined cycle gas turbine plants for biogas"
   ]
  },
  {
   "cell_type": "code",
   "execution_count": 74,
   "metadata": {},
   "outputs": [],
   "source": [
    "esM.add(fn.Conversion(esM=esM, name='New CCGT plants (biogas)', physicalUnit=r'GW$_{el}$',\n",
    "                      commodityConversionFactors={'electricity':1, 'biogas':-1/0.635},\n",
    "                      hasCapacityVariable=True, \n",
    "                      investPerCapacity=0.7, opexPerCapacity=0.021, interestRate=0.08,\n",
    "                      economicLifetime=33))"
   ]
  },
  {
   "cell_type": "markdown",
   "metadata": {},
   "source": [
    "### New combined cycly gas turbines for hydrogen"
   ]
  },
  {
   "cell_type": "code",
   "execution_count": 75,
   "metadata": {},
   "outputs": [],
   "source": [
    "esM.add(fn.Conversion(esM=esM, name='New CCGT plants (hydrogen)', physicalUnit=r'GW$_{el}$',\n",
    "                      commodityConversionFactors={'electricity':1, 'hydrogen':-1/0.6},\n",
    "                      hasCapacityVariable=True, \n",
    "                      investPerCapacity=0.7, opexPerCapacity=0.021, interestRate=0.08,\n",
    "                      economicLifetime=33))"
   ]
  },
  {
   "cell_type": "markdown",
   "metadata": {},
   "source": [
    "### Electrolyzers"
   ]
  },
  {
   "cell_type": "code",
   "execution_count": 76,
   "metadata": {},
   "outputs": [],
   "source": [
    "esM.add(fn.Conversion(esM=esM, name='Electroylzers', physicalUnit=r'GW$_{el}$',\n",
    "                      commodityConversionFactors={'electricity':-1, 'hydrogen':0.7},\n",
    "                      hasCapacityVariable=True, \n",
    "                      investPerCapacity=0.5, opexPerCapacity=0.5*0.025, interestRate=0.08,\n",
    "                      economicLifetime=10))"
   ]
  },
  {
   "cell_type": "markdown",
   "metadata": {},
   "source": [
    "### rSOC"
   ]
  },
  {
   "cell_type": "code",
   "execution_count": 77,
   "metadata": {},
   "outputs": [],
   "source": [
    "capexRSOC=1.5\n",
    "\n",
    "esM.add(fn.Conversion(esM=esM, name='rSOEC', physicalUnit=r'GW$_{el}$', linkedConversionCapacityID='rSOC',\n",
    "                      commodityConversionFactors={'electricity':-1, 'hydrogen':0.6},\n",
    "                      hasCapacityVariable=True, \n",
    "                      investPerCapacity=capexRSOC/2, opexPerCapacity=capexRSOC*0.02/2, interestRate=0.08,\n",
    "                      economicLifetime=10))\n",
    "\n",
    "esM.add(fn.Conversion(esM=esM, name='rSOFC', physicalUnit=r'GW$_{el}$', linkedConversionCapacityID='rSOC',\n",
    "                      commodityConversionFactors={'electricity':1, 'hydrogen':-1/0.6},\n",
    "                      hasCapacityVariable=True, \n",
    "                      investPerCapacity=capexRSOC/2, opexPerCapacity=capexRSOC*0.02/2, interestRate=0.08,\n",
    "                      economicLifetime=10))"
   ]
  },
  {
   "cell_type": "markdown",
   "metadata": {},
   "source": [
    "# 5. Add commodity storages to the energy system model"
   ]
  },
  {
   "cell_type": "markdown",
   "metadata": {},
   "source": [
    "## 5.1. Electricity storage"
   ]
  },
  {
   "cell_type": "markdown",
   "metadata": {},
   "source": [
    "### Lithium ion batteries\n",
    "\n",
    "The self discharge of a lithium ion battery is here described as 3% per month. The self discharge per hours is obtained using the equation (1-$\\text{selfDischarge}_\\text{hour})^{30*24\\text{h}} = 1-\\text{selfDischarge}_\\text{month}$."
   ]
  },
  {
   "cell_type": "code",
   "execution_count": 78,
   "metadata": {},
   "outputs": [],
   "source": [
    "esM.add(fn.Storage(esM=esM, name='Li-ion batteries', commodity='electricity',\n",
    "                   hasCapacityVariable=True, chargeEfficiency=0.95,\n",
    "                   cyclicLifetime=10000, dischargeEfficiency=0.95, selfDischarge=1-(1-0.03)**(1/(30*24)),\n",
    "                   chargeRate=1, dischargeRate=1, doPreciseTsaModeling=False,\n",
    "                   investPerCapacity=0.151, opexPerCapacity=0.002, interestRate=0.08,\n",
    "                   economicLifetime=22))"
   ]
  },
  {
   "cell_type": "markdown",
   "metadata": {},
   "source": [
    "## 5.2. Hydrogen storage"
   ]
  },
  {
   "cell_type": "markdown",
   "metadata": {},
   "source": [
    "### Hydrogen filled salt caverns\n",
    "The maximum capacity is here obtained by: dividing the given capacity (which is given for methane) by the lower heating value of methane and then multiplying it with the lower heating value of hydrogen."
   ]
  },
  {
   "cell_type": "code",
   "execution_count": 79,
   "metadata": {},
   "outputs": [],
   "source": [
    "esM.add(fn.Storage(esM=esM, name='Salt caverns (hydrogen)', commodity='hydrogen',\n",
    "                   hasCapacityVariable=True, capacityVariableDomain='continuous',\n",
    "                   capacityPerPlantUnit=133,\n",
    "                   chargeRate=1/470.37, dischargeRate=1/470.37, sharedPotentialID='Existing salt caverns',\n",
    "                   stateOfChargeMin=0.33, stateOfChargeMax=1, capacityMax=data['Salt caverns (hydrogen), capacityMax'],\n",
    "                   investPerCapacity=0.00011, opexPerCapacity=0.00057, interestRate=0.08,\n",
    "                   economicLifetime=30))"
   ]
  },
  {
   "cell_type": "markdown",
   "metadata": {},
   "source": [
    "## 5.3. Methane storage"
   ]
  },
  {
   "cell_type": "markdown",
   "metadata": {},
   "source": [
    "### Methane filled salt caverns"
   ]
  },
  {
   "cell_type": "code",
   "execution_count": 80,
   "metadata": {},
   "outputs": [],
   "source": [
    "esM.add(fn.Storage(esM=esM, name='Salt caverns (biogas)', commodity='biogas',\n",
    "                   hasCapacityVariable=True, capacityVariableDomain='continuous',\n",
    "                   capacityPerPlantUnit=443,\n",
    "                   chargeRate=1/470.37, dischargeRate=1/470.37, sharedPotentialID='Existing salt caverns',\n",
    "                   stateOfChargeMin=0.33, stateOfChargeMax=1, capacityMax=data['Salt caverns (methane), capacityMax'],\n",
    "                   investPerCapacity=0.00004, opexPerCapacity=0.00001, interestRate=0.08,\n",
    "                   economicLifetime=30))"
   ]
  },
  {
   "cell_type": "markdown",
   "metadata": {},
   "source": [
    "## 5.4 Pumped hydro storage"
   ]
  },
  {
   "cell_type": "markdown",
   "metadata": {},
   "source": [
    "### Pumped hydro storage"
   ]
  },
  {
   "cell_type": "code",
   "execution_count": 81,
   "metadata": {},
   "outputs": [],
   "source": [
    "esM.add(fn.Storage(esM=esM, name='Pumped hydro storage', commodity='electricity',\n",
    "                   chargeEfficiency=0.88, dischargeEfficiency=0.88,\n",
    "                   hasCapacityVariable=True, selfDischarge=1-(1-0.00375)**(1/(30*24)),\n",
    "                   chargeRate=0.16, dischargeRate=0.12, capacityFix=data['Pumped hydro storage, capacityFix'],\n",
    "                   investPerCapacity=0, opexPerCapacity=0.000153))"
   ]
  },
  {
   "cell_type": "markdown",
   "metadata": {},
   "source": [
    "# 6. Add commodity transmission components to the energy system model"
   ]
  },
  {
   "cell_type": "markdown",
   "metadata": {},
   "source": [
    "## 6.1. Electricity transmission"
   ]
  },
  {
   "cell_type": "markdown",
   "metadata": {},
   "source": [
    "### AC cables"
   ]
  },
  {
   "cell_type": "markdown",
   "metadata": {},
   "source": [
    "esM.add(fn.LinearOptimalPowerFlow(esM=esM, name='AC cables', commodity='electricity',\n",
    "                                  hasCapacityVariable=True, capacityFix=data['AC cables, capacityFix'],\n",
    "                                  reactances=data['AC cables, reactances']))"
   ]
  },
  {
   "cell_type": "code",
   "execution_count": 82,
   "metadata": {},
   "outputs": [
    {
     "name": "stdout",
     "output_type": "stream",
     "text": [
      "The distances of a component are set to a normalized value of 1.\n"
     ]
    }
   ],
   "source": [
    "esM.add(fn.Transmission(esM=esM, name='AC cables', commodity='electricity',\n",
    "                                  hasCapacityVariable=True, capacityFix=data['AC cables, capacityFix']))"
   ]
  },
  {
   "cell_type": "markdown",
   "metadata": {},
   "source": [
    "### DC cables"
   ]
  },
  {
   "cell_type": "code",
   "execution_count": 83,
   "metadata": {},
   "outputs": [],
   "source": [
    "esM.add(fn.Transmission(esM=esM, name='DC cables', commodity='electricity', losses=data['DC cables, losses'],\n",
    "                        distances=data['DC cables, distances'],\n",
    "                        hasCapacityVariable=True, capacityFix=data['DC cables, capacityFix']))"
   ]
  },
  {
   "cell_type": "markdown",
   "metadata": {},
   "source": [
    "## 6.2 Methane transmission"
   ]
  },
  {
   "cell_type": "markdown",
   "metadata": {},
   "source": [
    "### Methane pipeline"
   ]
  },
  {
   "cell_type": "code",
   "execution_count": 84,
   "metadata": {
    "scrolled": true
   },
   "outputs": [],
   "source": [
    "esM.add(fn.Transmission(esM=esM, name='Pipelines (biogas)', commodity='biogas', \n",
    "                        distances=data['Pipelines, distances'],\n",
    "                        hasCapacityVariable=True, hasIsBuiltBinaryVariable=True, bigM=300,\n",
    "                        locationalEligibility=data['Pipelines, eligibility'],\n",
    "                        capacityMax=data['Pipelines, eligibility']*15, sharedPotentialID='pipelines',\n",
    "                        investPerCapacity=0.000037, investIfBuilt=0.000314,\n",
    "                        interestRate=0.08, economicLifetime=40))"
   ]
  },
  {
   "cell_type": "markdown",
   "metadata": {},
   "source": [
    "esM.getComponent('Pipelines (methane)')._mapC['cluster_0_cluster_4'][1]"
   ]
  },
  {
   "cell_type": "markdown",
   "metadata": {},
   "source": [
    "## 6.3 Hydrogen transmission"
   ]
  },
  {
   "cell_type": "markdown",
   "metadata": {},
   "source": [
    "### Hydrogen pipelines"
   ]
  },
  {
   "cell_type": "code",
   "execution_count": 85,
   "metadata": {
    "scrolled": true
   },
   "outputs": [],
   "source": [
    "esM.add(fn.Transmission(esM=esM, name='Pipelines (hydrogen)', commodity='hydrogen',\n",
    "                        distances=data['Pipelines, distances'],\n",
    "                        hasCapacityVariable=True, hasIsBuiltBinaryVariable=True, bigM=300,\n",
    "                        locationalEligibility=data['Pipelines, eligibility'],\n",
    "                        capacityMax=data['Pipelines, eligibility']*15, sharedPotentialID='pipelines',\n",
    "                        investPerCapacity=0.000177, investIfBuilt=0.00033,\n",
    "                        interestRate=0.08, economicLifetime=40))"
   ]
  },
  {
   "cell_type": "markdown",
   "metadata": {},
   "source": [
    "esM.getComponent('Pipeline (hydrogen)')._mapC"
   ]
  },
  {
   "cell_type": "markdown",
   "metadata": {},
   "source": [
    "# 7. Add commodity sinks to the energy system model"
   ]
  },
  {
   "cell_type": "markdown",
   "metadata": {},
   "source": [
    "## 7.1. Electricity sinks"
   ]
  },
  {
   "cell_type": "markdown",
   "metadata": {},
   "source": [
    "### Electricity demand"
   ]
  },
  {
   "cell_type": "code",
   "execution_count": 86,
   "metadata": {},
   "outputs": [],
   "source": [
    "esM.add(fn.Sink(esM=esM, name='Electricity demand', commodity='electricity',\n",
    "                hasCapacityVariable=False, operationRateFix=data['Electricity demand, operationRateFix']))"
   ]
  },
  {
   "cell_type": "markdown",
   "metadata": {},
   "source": [
    "## 7.2. Hydrogen sinks"
   ]
  },
  {
   "cell_type": "markdown",
   "metadata": {},
   "source": [
    "### Fuel cell electric vehicle (FCEV) demand"
   ]
  },
  {
   "cell_type": "code",
   "execution_count": 87,
   "metadata": {},
   "outputs": [],
   "source": [
    "FCEV_penetration=0.5\n",
    "esM.add(fn.Sink(esM=esM, name='Hydrogen demand', commodity='hydrogen', hasCapacityVariable=False,\n",
    "                operationRateFix=data['Hydrogen demand, operationRateFix']*FCEV_penetration))"
   ]
  },
  {
   "cell_type": "markdown",
   "metadata": {},
   "source": [
    "## 7.3. CO2 sinks"
   ]
  },
  {
   "cell_type": "markdown",
   "metadata": {},
   "source": [
    "### CO2 exiting the system's boundary"
   ]
  },
  {
   "cell_type": "code",
   "execution_count": 88,
   "metadata": {},
   "outputs": [],
   "source": [
    "esM.add(fn.Sink(esM=esM, name='CO2 to enviroment', commodity='CO2',\n",
    "                hasCapacityVariable=False, commodityLimitID='CO2 limit', yearlyLimit=366*(1-CO2_reductionTarget)))"
   ]
  },
  {
   "cell_type": "markdown",
   "metadata": {},
   "source": [
    "# 8. Optimize energy system model"
   ]
  },
  {
   "cell_type": "markdown",
   "metadata": {},
   "source": [
    "### Spatial Aggregation"
   ]
  },
  {
   "cell_type": "markdown",
   "metadata": {},
   "source": [
    "### Read data from esM instance to xarray dataset"
   ]
  },
  {
   "cell_type": "code",
   "execution_count": 89,
   "metadata": {},
   "outputs": [],
   "source": [
    "import FINE.IOManagement.xarray_io as xrio"
   ]
  },
  {
   "cell_type": "code",
   "execution_count": 90,
   "metadata": {},
   "outputs": [
    {
     "name": "stderr",
     "output_type": "stream",
     "text": [
      "/home/r-beer/code/FINE/FINE/utils.py:792: UserWarning: Pandas doesn't allow columns to be created via a new attribute name - see https://pandas.pydata.org/pandas-docs/stable/indexing.html#attribute-access\n",
      "  val.parent = self\n"
     ]
    }
   ],
   "source": [
    "ds = xrio.dimensional_data_to_xarray(esM)"
   ]
  },
  {
   "cell_type": "code",
   "execution_count": 91,
   "metadata": {},
   "outputs": [
    {
     "data": {
      "text/plain": [
       "<xarray.Dataset>\n",
       "Dimensions:                    (Period: 1, TimeStep: 8760, component: 4, space: 8, space_2: 8)\n",
       "Coordinates:\n",
       "  * component                  (component) object 'Source, Biogas purchase' ... 'Source, Wind (onshore)'\n",
       "  * space                      (space) object 'cluster_0' ... 'cluster_7'\n",
       "  * Period                     (Period) int64 0\n",
       "  * TimeStep                   (TimeStep) int64 0 1 2 3 ... 8756 8757 8758 8759\n",
       "  * space_2                    (space_2) object 'cluster_0' ... 'cluster_7'\n",
       "Data variables:\n",
       "    operationRateMax           (component, Period, TimeStep, space) float64 0.951 ... 0.001161\n",
       "    operationRateFix           (component, Period, TimeStep, space) float64 nan ... nan\n",
       "    locationalEligibility      (component, space) float64 1.0 1.0 ... 1.0 1.0\n",
       "    capacityMax                (component, space) float64 nan nan ... 71.8 62.9\n",
       "    investPerCapacity          (component, space) float64 0.0 0.0 ... 1.1 1.1\n",
       "    investIfBuilt              (component, space) float64 0.0 0.0 ... 0.0 0.0\n",
       "    opexPerOperation           (component, space) float64 0.0 0.0 ... 0.0 0.0\n",
       "    opexPerCapacity            (component, space) float64 0.0 0.0 ... 0.022\n",
       "    opexIfBuilt                (component, space) float64 0.0 0.0 ... 0.0 0.0\n",
       "    interestRate               (component, space) float64 0.08 0.08 ... 0.08\n",
       "    economicLifetime           (component, space) float64 10.0 10.0 ... 20.0\n",
       "    capacityFix                (component, space) float64 nan nan ... nan nan\n",
       "    losses                     (component, space, space_2) float64 nan ... nan\n",
       "    distances                  (component, space, space_2) float64 nan ... nan\n",
       "    commodityCost              (component, space) float64 5.409e-05 ... 0.0\n",
       "    commodityRevenue           (component, space) float64 0.0 0.0 ... 0.0 0.0\n",
       "    opexPerChargeOperation     (component, space) float64 nan nan ... nan nan\n",
       "    opexPerDischargeOperation  (component, space) float64 nan nan ... nan nan"
      ]
     },
     "execution_count": 91,
     "metadata": {},
     "output_type": "execute_result"
    }
   ],
   "source": [
    "ds"
   ]
  },
  {
   "cell_type": "markdown",
   "metadata": {},
   "source": [
    "### Initialize SPAGAT"
   ]
  },
  {
   "cell_type": "code",
   "execution_count": 92,
   "metadata": {},
   "outputs": [],
   "source": [
    "import spagat.manager as spm\n",
    "import spagat.representation as spr\n",
    "import metis_utils.io_tools as ito\n",
    "import geopandas as gpd"
   ]
  },
  {
   "cell_type": "code",
   "execution_count": 93,
   "metadata": {},
   "outputs": [],
   "source": [
    "sds_folder_path_out = ito.Path('tests/data/output/aggregated/33')\n",
    "ito.create_dir(sds_folder_path_out)\n",
    "\n",
    "n_regions = 3\n",
    "\n",
    "spagat_manager = spm.SpagatManager()\n",
    "\n",
    "spagat_manager.analysis_path = sds_folder_path_out"
   ]
  },
  {
   "cell_type": "code",
   "execution_count": 94,
   "metadata": {},
   "outputs": [],
   "source": [
    "spagat_manager.sds.xr_dataset = ds\n",
    "locFilePath = os.path.join(cwd, 'InputData', 'SpatialData','ShapeFiles', 'clusteredRegions.shp')\n",
    "\n",
    "gdf_regions = gpd.read_file(locFilePath)\n",
    "spagat_manager.sds.add_objects(description='gpd_geometries',\n",
    "                 dimension_list=['space'],\n",
    "                 object_list=gdf_regions.geometry)\n",
    "spr.add_region_centroids(spagat_manager.sds, spatial_dim='space')\n"
   ]
  },
  {
   "cell_type": "code",
   "execution_count": 95,
   "metadata": {},
   "outputs": [
    {
     "name": "stdout",
     "output_type": "stream",
     "text": [
      "xarray.Dataset {\n",
      "dimensions:\n",
      "\tPeriod = 1 ;\n",
      "\tTimeStep = 8760 ;\n",
      "\tcomponent = 4 ;\n",
      "\tspace = 8 ;\n",
      "\tspace_2 = 8 ;\n",
      "\n",
      "variables:\n",
      "\tobject component(component) ;\n",
      "\tobject space(space) ;\n",
      "\tint64 Period(Period) ;\n",
      "\tint64 TimeStep(TimeStep) ;\n",
      "\tfloat64 operationRateMax(component, Period, TimeStep, space) ;\n",
      "\tfloat64 operationRateFix(component, Period, TimeStep, space) ;\n",
      "\tobject space_2(space_2) ;\n",
      "\tfloat64 locationalEligibility(component, space) ;\n",
      "\tfloat64 capacityMax(component, space) ;\n",
      "\tfloat64 investPerCapacity(component, space) ;\n",
      "\tfloat64 investIfBuilt(component, space) ;\n",
      "\tfloat64 opexPerOperation(component, space) ;\n",
      "\tfloat64 opexPerCapacity(component, space) ;\n",
      "\tfloat64 opexIfBuilt(component, space) ;\n",
      "\tfloat64 interestRate(component, space) ;\n",
      "\tfloat64 economicLifetime(component, space) ;\n",
      "\tfloat64 capacityFix(component, space) ;\n",
      "\tfloat64 losses(component, space, space_2) ;\n",
      "\tfloat64 distances(component, space, space_2) ;\n",
      "\tfloat64 commodityCost(component, space) ;\n",
      "\tfloat64 commodityRevenue(component, space) ;\n",
      "\tfloat64 opexPerChargeOperation(component, space) ;\n",
      "\tfloat64 opexPerDischargeOperation(component, space) ;\n",
      "\tobject gpd_geometries(space) ;\n",
      "\tobject gpd_centroids(space) ;\n",
      "\n",
      "// global attributes:\n",
      "}"
     ]
    }
   ],
   "source": [
    "spagat_manager.sds.xr_dataset.info()"
   ]
  },
  {
   "cell_type": "markdown",
   "metadata": {},
   "source": [
    "### Spatial Clustering (Grouping)"
   ]
  },
  {
   "cell_type": "code",
   "execution_count": 96,
   "metadata": {},
   "outputs": [
    {
     "name": "stdout",
     "output_type": "stream",
     "text": [
      "elapsed time for distance_based_clustering: 0.01 minutes\n"
     ]
    },
    {
     "data": {
      "image/png": "[encoded data removed]",
      "text/plain": [
       "<Figure size 1800x864 with 1 Axes>"
      ]
     },
     "metadata": {
      "needs_background": "light"
     },
     "output_type": "display_data"
    }
   ],
   "source": [
    "spagat_manager.grouping(dimension_description='space')"
   ]
  },
  {
   "cell_type": "markdown",
   "metadata": {},
   "source": [
    "### Spatial Aggregation (Representation)"
   ]
  },
  {
   "cell_type": "code",
   "execution_count": 97,
   "metadata": {},
   "outputs": [],
   "source": [
    "spagat_manager.aggregation_function_dict = {'operationRateMax': ('mean', None), # ('weighted mean', 'capacityMax')\n",
    "                                            'operationRateFix': ('sum', None),\n",
    "                                            'locationalEligibility': ('bool', None),\n",
    "                                            'capacityMax': ('sum', None),\n",
    "                                            'investPerCapacity': ('sum', None), # ?\n",
    "                                            'investIfBuilt': ('sum', None), # ? \n",
    "                                            'opexPerOperation': ('sum', None), # ?\n",
    "                                            'opexPerCapacity': ('sum', None), # ?\n",
    "                                            'opexIfBuilt': ('sum', None), # ?\n",
    "                                            'interestRate': ('mean', None), # ?\n",
    "                                            'economicLifetime': ('mean', None), # ?\n",
    "                                            'capacityFix': ('sum', None),\n",
    "                                            'losses': ('mean', None), # ?\n",
    "                                            'distances': ('mean', None), # weighted mean ?\n",
    "                                            'commodityCost': ('mean', None), # ?\n",
    "                                            'commodityRevenue': ('mean', None), # ?\n",
    "                                            'opexPerChargeOperation': ('mean', None),\n",
    "                                            'opexPerDischargeOperation': ('mean', None),\n",
    "                                           }"
   ]
  },
  {
   "cell_type": "code",
   "execution_count": 98,
   "metadata": {},
   "outputs": [
    {
     "name": "stderr",
     "output_type": "stream",
     "text": [
      "/home/r-beer/.conda/envs/spagat_py36/lib/python3.6/site-packages/xarray/core/nanops.py:140: RuntimeWarning: Mean of empty slice\n",
      "  return np.nanmean(a, axis=axis, dtype=dtype)\n"
     ]
    }
   ],
   "source": [
    "spagat_manager.representation(number_of_regions=n_regions)"
   ]
  },
  {
   "cell_type": "code",
   "execution_count": 99,
   "metadata": {},
   "outputs": [
    {
     "data": {
      "text/plain": [
       "<xarray.DataArray 'operationRateMax' ()>\n",
       "array(35998.10341015)"
      ]
     },
     "execution_count": 99,
     "metadata": {},
     "output_type": "execute_result"
    }
   ],
   "source": [
    "spagat_manager.sds_out.xr_dataset.operationRateMax.sum()"
   ]
  },
  {
   "cell_type": "code",
   "execution_count": 100,
   "metadata": {},
   "outputs": [
    {
     "data": {
      "text/plain": [
       "<xarray.DataArray 'operationRateMax' ()>\n",
       "array(103864.23867713)"
      ]
     },
     "execution_count": 100,
     "metadata": {},
     "output_type": "execute_result"
    }
   ],
   "source": [
    "spagat_manager.sds.xr_dataset.operationRateMax.sum()"
   ]
  },
  {
   "cell_type": "markdown",
   "metadata": {},
   "source": [
    "### Export data back to esM instance"
   ]
  },
  {
   "cell_type": "code",
   "execution_count": 101,
   "metadata": {},
   "outputs": [],
   "source": [
    "# TODO: hand aggregated data back to eSM"
   ]
  },
  {
   "cell_type": "code",
   "execution_count": 102,
   "metadata": {},
   "outputs": [],
   "source": [
    "import FINE.IOManagement.dictIO as dictio"
   ]
  },
  {
   "cell_type": "code",
   "execution_count": 184,
   "metadata": {},
   "outputs": [],
   "source": [
    "esmDict, compDict = dictio.exportToDict(esM)"
   ]
  },
  {
   "cell_type": "code",
   "execution_count": 185,
   "metadata": {},
   "outputs": [
    {
     "name": "stdout",
     "output_type": "stream",
     "text": [
      "'operationRateFix' for 'Source, Existing run-of-river plants' not in xarray_dataset\n",
      "'operationRateFix' for 'Sink, Electricity demand' not in xarray_dataset\n",
      "'operationRateFix' for 'Sink, Hydrogen demand' not in xarray_dataset\n"
     ]
    }
   ],
   "source": [
    "esmDict, compDict = xrio.update_dicts_based_on_xarray_dataset(esmDict, compDict, xarray_dataset=spagat_manager.sds_out.xr_dataset)"
   ]
  },
  {
   "cell_type": "code",
   "execution_count": 186,
   "metadata": {},
   "outputs": [
    {
     "ename": "ValueError",
     "evalue": "Location indices do not match the one of the specified energy system model.\nData indices: {'cluster_6', 'cluster_2', 'cluster_7', 'cluster_5', 'cluster_3', 'cluster_0', 'cluster_4', 'cluster_1'}\nEnergy system model regions: {'cluster_6_cluster_7', 'cluster_1_cluster_2', 'cluster_0_cluster_4_cluster_3_cluster_5'}",
     "output_type": "error",
     "traceback": [
      "\u001b[0;31m---------------------------------------------------------------------------\u001b[0m",
      "\u001b[0;31mValueError\u001b[0m                                Traceback (most recent call last)",
      "\u001b[0;32m<ipython-input-186-69fea50347d7>\u001b[0m in \u001b[0;36m<module>\u001b[0;34m\u001b[0m\n\u001b[0;32m----> 1\u001b[0;31m \u001b[0mesM_aggregated\u001b[0m \u001b[0;34m=\u001b[0m \u001b[0mdictio\u001b[0m\u001b[0;34m.\u001b[0m\u001b[0mimportFromDict\u001b[0m\u001b[0;34m(\u001b[0m\u001b[0mesmDict\u001b[0m\u001b[0;34m,\u001b[0m \u001b[0mcompDict\u001b[0m\u001b[0;34m)\u001b[0m\u001b[0;34m\u001b[0m\u001b[0;34m\u001b[0m\u001b[0m\n\u001b[0m",
      "\u001b[0;32m~/code/FINE/FINE/IOManagement/dictIO.py\u001b[0m in \u001b[0;36mimportFromDict\u001b[0;34m(esmDict, compDict, esM)\u001b[0m\n\u001b[1;32m     74\u001b[0m \u001b[0;34m\u001b[0m\u001b[0m\n\u001b[1;32m     75\u001b[0m         \u001b[0;32mfor\u001b[0m \u001b[0mcomp\u001b[0m \u001b[0;32min\u001b[0m \u001b[0mcompDict\u001b[0m\u001b[0;34m[\u001b[0m\u001b[0mclassname\u001b[0m\u001b[0;34m]\u001b[0m\u001b[0;34m:\u001b[0m\u001b[0;34m\u001b[0m\u001b[0;34m\u001b[0m\u001b[0m\n\u001b[0;32m---> 76\u001b[0;31m             \u001b[0mesM\u001b[0m\u001b[0;34m.\u001b[0m\u001b[0madd\u001b[0m\u001b[0;34m(\u001b[0m\u001b[0mclass_\u001b[0m\u001b[0;34m(\u001b[0m\u001b[0mesM\u001b[0m\u001b[0;34m,\u001b[0m \u001b[0;34m**\u001b[0m\u001b[0mcompDict\u001b[0m\u001b[0;34m[\u001b[0m\u001b[0mclassname\u001b[0m\u001b[0;34m]\u001b[0m\u001b[0;34m[\u001b[0m\u001b[0mcomp\u001b[0m\u001b[0;34m]\u001b[0m\u001b[0;34m)\u001b[0m\u001b[0;34m)\u001b[0m\u001b[0;34m\u001b[0m\u001b[0;34m\u001b[0m\u001b[0m\n\u001b[0m\u001b[1;32m     77\u001b[0m \u001b[0;34m\u001b[0m\u001b[0m\n\u001b[1;32m     78\u001b[0m     \u001b[0;32mreturn\u001b[0m \u001b[0mesM\u001b[0m\u001b[0;34m\u001b[0m\u001b[0;34m\u001b[0m\u001b[0m\n",
      "\u001b[0;32m~/code/FINE/FINE/sourceSink.py\u001b[0m in \u001b[0;36m__init__\u001b[0;34m(self, esM, name, commodity, hasCapacityVariable, capacityVariableDomain, capacityPerPlantUnit, hasIsBuiltBinaryVariable, bigM, operationRateMax, operationRateFix, tsaWeight, commodityLimitID, yearlyLimit, locationalEligibility, capacityMin, capacityMax, sharedPotentialID, capacityFix, isBuiltFix, investPerCapacity, investIfBuilt, opexPerOperation, commodityCost, commodityRevenue, commodityCostTimeSeries, commodityRevenueTimeSeries, opexPerCapacity, opexIfBuilt, interestRate, economicLifetime, yearlyFullLoadHoursMin, yearlyFullLoadHoursMax)\u001b[0m\n\u001b[1;32m    152\u001b[0m                             \u001b[0mopexPerCapacity\u001b[0m\u001b[0;34m=\u001b[0m\u001b[0mopexPerCapacity\u001b[0m\u001b[0;34m,\u001b[0m \u001b[0mopexIfBuilt\u001b[0m\u001b[0;34m=\u001b[0m\u001b[0mopexIfBuilt\u001b[0m\u001b[0;34m,\u001b[0m \u001b[0minterestRate\u001b[0m\u001b[0;34m=\u001b[0m\u001b[0minterestRate\u001b[0m\u001b[0;34m,\u001b[0m\u001b[0;34m\u001b[0m\u001b[0;34m\u001b[0m\u001b[0m\n\u001b[1;32m    153\u001b[0m                             \u001b[0meconomicLifetime\u001b[0m\u001b[0;34m=\u001b[0m\u001b[0meconomicLifetime\u001b[0m\u001b[0;34m,\u001b[0m \u001b[0myearlyFullLoadHoursMin\u001b[0m\u001b[0;34m=\u001b[0m\u001b[0myearlyFullLoadHoursMin\u001b[0m\u001b[0;34m,\u001b[0m\u001b[0;34m\u001b[0m\u001b[0;34m\u001b[0m\u001b[0m\n\u001b[0;32m--> 154\u001b[0;31m                             yearlyFullLoadHoursMax=yearlyFullLoadHoursMax)\n\u001b[0m\u001b[1;32m    155\u001b[0m \u001b[0;34m\u001b[0m\u001b[0m\n\u001b[1;32m    156\u001b[0m         \u001b[0;31m# Set general source/sink data: ID and yearly limit\u001b[0m\u001b[0;34m\u001b[0m\u001b[0;34m\u001b[0m\u001b[0;34m\u001b[0m\u001b[0m\n",
      "\u001b[0;32m~/code/FINE/FINE/component.py\u001b[0m in \u001b[0;36m__init__\u001b[0;34m(self, esM, name, dimension, hasCapacityVariable, capacityVariableDomain, capacityPerPlantUnit, hasIsBuiltBinaryVariable, bigM, locationalEligibility, capacityMin, capacityMax, sharedPotentialID, capacityFix, isBuiltFix, investPerCapacity, investIfBuilt, opexPerCapacity, opexIfBuilt, interestRate, economicLifetime, yearlyFullLoadHoursMin, yearlyFullLoadHoursMax)\u001b[0m\n\u001b[1;32m    291\u001b[0m         \u001b[0;31m# Set economic data\u001b[0m\u001b[0;34m\u001b[0m\u001b[0;34m\u001b[0m\u001b[0;34m\u001b[0m\u001b[0m\n\u001b[1;32m    292\u001b[0m         \u001b[0melig\u001b[0m \u001b[0;34m=\u001b[0m \u001b[0mlocationalEligibility\u001b[0m\u001b[0;34m\u001b[0m\u001b[0;34m\u001b[0m\u001b[0m\n\u001b[0;32m--> 293\u001b[0;31m         \u001b[0mself\u001b[0m\u001b[0;34m.\u001b[0m\u001b[0minvestPerCapacity\u001b[0m \u001b[0;34m=\u001b[0m \u001b[0mutils\u001b[0m\u001b[0;34m.\u001b[0m\u001b[0mcheckAndSetCostParameter\u001b[0m\u001b[0;34m(\u001b[0m\u001b[0mesM\u001b[0m\u001b[0;34m,\u001b[0m \u001b[0mname\u001b[0m\u001b[0;34m,\u001b[0m \u001b[0minvestPerCapacity\u001b[0m\u001b[0;34m,\u001b[0m \u001b[0mdimension\u001b[0m\u001b[0;34m,\u001b[0m \u001b[0melig\u001b[0m\u001b[0;34m)\u001b[0m\u001b[0;34m\u001b[0m\u001b[0;34m\u001b[0m\u001b[0m\n\u001b[0m\u001b[1;32m    294\u001b[0m         \u001b[0mself\u001b[0m\u001b[0;34m.\u001b[0m\u001b[0minvestIfBuilt\u001b[0m \u001b[0;34m=\u001b[0m \u001b[0mutils\u001b[0m\u001b[0;34m.\u001b[0m\u001b[0mcheckAndSetCostParameter\u001b[0m\u001b[0;34m(\u001b[0m\u001b[0mesM\u001b[0m\u001b[0;34m,\u001b[0m \u001b[0mname\u001b[0m\u001b[0;34m,\u001b[0m \u001b[0minvestIfBuilt\u001b[0m\u001b[0;34m,\u001b[0m \u001b[0mdimension\u001b[0m\u001b[0;34m,\u001b[0m \u001b[0melig\u001b[0m\u001b[0;34m)\u001b[0m\u001b[0;34m\u001b[0m\u001b[0;34m\u001b[0m\u001b[0m\n\u001b[1;32m    295\u001b[0m         \u001b[0mself\u001b[0m\u001b[0;34m.\u001b[0m\u001b[0mopexPerCapacity\u001b[0m \u001b[0;34m=\u001b[0m \u001b[0mutils\u001b[0m\u001b[0;34m.\u001b[0m\u001b[0mcheckAndSetCostParameter\u001b[0m\u001b[0;34m(\u001b[0m\u001b[0mesM\u001b[0m\u001b[0;34m,\u001b[0m \u001b[0mname\u001b[0m\u001b[0;34m,\u001b[0m \u001b[0mopexPerCapacity\u001b[0m\u001b[0;34m,\u001b[0m \u001b[0mdimension\u001b[0m\u001b[0;34m,\u001b[0m \u001b[0melig\u001b[0m\u001b[0;34m)\u001b[0m\u001b[0;34m\u001b[0m\u001b[0;34m\u001b[0m\u001b[0m\n",
      "\u001b[0;32m~/code/FINE/FINE/utils.py\u001b[0m in \u001b[0;36mcheckAndSetCostParameter\u001b[0;34m(esM, name, data, dimension, locationalEligibility)\u001b[0m\n\u001b[1;32m    457\u001b[0m                 \u001b[0;32mraise\u001b[0m \u001b[0mValueError\u001b[0m\u001b[0;34m(\u001b[0m\u001b[0;34m'Value error in '\u001b[0m \u001b[0;34m+\u001b[0m \u001b[0mname\u001b[0m \u001b[0;34m+\u001b[0m \u001b[0;34m' detected.\\n Economic parameters have to be positive.'\u001b[0m\u001b[0;34m)\u001b[0m\u001b[0;34m\u001b[0m\u001b[0;34m\u001b[0m\u001b[0m\n\u001b[1;32m    458\u001b[0m             \u001b[0;32mreturn\u001b[0m \u001b[0mpd\u001b[0m\u001b[0;34m.\u001b[0m\u001b[0mSeries\u001b[0m\u001b[0;34m(\u001b[0m\u001b[0;34m[\u001b[0m\u001b[0mfloat\u001b[0m\u001b[0;34m(\u001b[0m\u001b[0mdata\u001b[0m\u001b[0;34m)\u001b[0m \u001b[0;32mfor\u001b[0m \u001b[0mloc\u001b[0m \u001b[0;32min\u001b[0m \u001b[0mesM\u001b[0m\u001b[0;34m.\u001b[0m\u001b[0mlocations\u001b[0m\u001b[0;34m]\u001b[0m\u001b[0;34m,\u001b[0m \u001b[0mindex\u001b[0m\u001b[0;34m=\u001b[0m\u001b[0mesM\u001b[0m\u001b[0;34m.\u001b[0m\u001b[0mlocations\u001b[0m\u001b[0;34m)\u001b[0m\u001b[0;34m\u001b[0m\u001b[0;34m\u001b[0m\u001b[0m\n\u001b[0;32m--> 459\u001b[0;31m         \u001b[0mcheckRegionalIndex\u001b[0m\u001b[0;34m(\u001b[0m\u001b[0mesM\u001b[0m\u001b[0;34m,\u001b[0m \u001b[0mdata\u001b[0m\u001b[0;34m)\u001b[0m\u001b[0;34m\u001b[0m\u001b[0;34m\u001b[0m\u001b[0m\n\u001b[0m\u001b[1;32m    460\u001b[0m     \u001b[0;32melse\u001b[0m\u001b[0;34m:\u001b[0m\u001b[0;34m\u001b[0m\u001b[0;34m\u001b[0m\u001b[0m\n\u001b[1;32m    461\u001b[0m         \u001b[0;32mif\u001b[0m \u001b[0misinstance\u001b[0m\u001b[0;34m(\u001b[0m\u001b[0mdata\u001b[0m\u001b[0;34m,\u001b[0m \u001b[0mint\u001b[0m\u001b[0;34m)\u001b[0m \u001b[0;32mor\u001b[0m \u001b[0misinstance\u001b[0m\u001b[0;34m(\u001b[0m\u001b[0mdata\u001b[0m\u001b[0;34m,\u001b[0m \u001b[0mfloat\u001b[0m\u001b[0;34m)\u001b[0m\u001b[0;34m:\u001b[0m\u001b[0;34m\u001b[0m\u001b[0;34m\u001b[0m\u001b[0m\n",
      "\u001b[0;32m~/code/FINE/FINE/utils.py\u001b[0m in \u001b[0;36mcheckRegionalIndex\u001b[0;34m(esM, data)\u001b[0m\n\u001b[1;32m    127\u001b[0m         raise ValueError('Location indices do not match the one of the specified energy system model.\\n' +\n\u001b[1;32m    128\u001b[0m                          \u001b[0;34m'Data indices: '\u001b[0m \u001b[0;34m+\u001b[0m \u001b[0mstr\u001b[0m\u001b[0;34m(\u001b[0m\u001b[0mset\u001b[0m\u001b[0;34m(\u001b[0m\u001b[0mdata\u001b[0m\u001b[0;34m.\u001b[0m\u001b[0mindex\u001b[0m\u001b[0;34m)\u001b[0m\u001b[0;34m)\u001b[0m \u001b[0;34m+\u001b[0m \u001b[0;34m'\\n'\u001b[0m \u001b[0;34m+\u001b[0m\u001b[0;34m\u001b[0m\u001b[0;34m\u001b[0m\u001b[0m\n\u001b[0;32m--> 129\u001b[0;31m                          'Energy system model regions: ' + str(esM.locations))\n\u001b[0m\u001b[1;32m    130\u001b[0m \u001b[0;34m\u001b[0m\u001b[0m\n\u001b[1;32m    131\u001b[0m \u001b[0;34m\u001b[0m\u001b[0m\n",
      "\u001b[0;31mValueError\u001b[0m: Location indices do not match the one of the specified energy system model.\nData indices: {'cluster_6', 'cluster_2', 'cluster_7', 'cluster_5', 'cluster_3', 'cluster_0', 'cluster_4', 'cluster_1'}\nEnergy system model regions: {'cluster_6_cluster_7', 'cluster_1_cluster_2', 'cluster_0_cluster_4_cluster_3_cluster_5'}"
     ]
    }
   ],
   "source": [
    "esM_aggregated = dictio.importFromDict(esmDict, compDict)"
   ]
  },
  {
   "cell_type": "code",
   "execution_count": null,
   "metadata": {},
   "outputs": [],
   "source": [
    "# TODO: save shapefiles"
   ]
  },
  {
   "cell_type": "markdown",
   "metadata": {},
   "source": [
    "All components are now added to the model and the model can be optimized. If the computational complexity of the optimization should be reduced, the time series data of the specified components can be clustered before the optimization and the parameter timeSeriesAggregation is set to True in the optimize call."
   ]
  },
  {
   "cell_type": "markdown",
   "metadata": {},
   "source": [
    "### Temporal aggregation"
   ]
  },
  {
   "cell_type": "code",
   "execution_count": 50,
   "metadata": {},
   "outputs": [
    {
     "name": "stdout",
     "output_type": "stream",
     "text": [
      "\n",
      "Clustering time series data with 7 typical periods and 24 time steps per period...\n",
      "\t\t(4.4242 sec)\n",
      "\n"
     ]
    },
    {
     "name": "stderr",
     "output_type": "stream",
     "text": [
      "/home/r-beer/.conda/envs/spagat_py36/lib/python3.6/site-packages/tsam/timeseriesaggregation.py:960: UserWarning: Something went wrong: At least one maximal value of the aggregated time series exceeds the maximal value the input time series\n",
      "  \"Something went wrong: At least one maximal value of the aggregated time series exceeds the maximal value the input time series\")\n"
     ]
    }
   ],
   "source": [
    "esM.cluster(numberOfTypicalPeriods=7)"
   ]
  },
  {
   "cell_type": "markdown",
   "metadata": {},
   "source": [
    "### Optimization"
   ]
  },
  {
   "cell_type": "code",
   "execution_count": 51,
   "metadata": {
    "scrolled": true
   },
   "outputs": [
    {
     "name": "stdout",
     "output_type": "stream",
     "text": [
      "Time series aggregation specifications:\n",
      "Number of typical periods:7, number of time steps per periods:24\n",
      "\n",
      "Declaring sets, variables and constraints for SourceSinkModel\n",
      "\tdeclaring sets... \n",
      "\tdeclaring variables... \n",
      "\tdeclaring constraints... \n",
      "\t\t(0.3894 sec)\n",
      "\n",
      "Declaring sets, variables and constraints for ConversionModel\n",
      "\tdeclaring sets... \n",
      "\tdeclaring variables... \n",
      "\tdeclaring constraints... \n",
      "\t\t(0.3488 sec)\n",
      "\n",
      "Declaring sets, variables and constraints for StorageModel\n",
      "\tdeclaring sets... \n",
      "\tdeclaring variables... \n",
      "\tdeclaring constraints... \n",
      "\t\t(1.9745 sec)\n",
      "\n",
      "Declaring sets, variables and constraints for TransmissionModel\n",
      "\tdeclaring sets... \n",
      "\tdeclaring variables... \n",
      "\tdeclaring constraints... \n",
      "\t\t(0.2610 sec)\n",
      "\n",
      "Declaring shared potential constraint...\n",
      "\t\t(0.0017 sec)\n",
      "\n",
      "Declaring commodity balances...\n",
      "\t\t(0.9012 sec)\n",
      "\n",
      "Declaring objective function...\n",
      "\t\t(0.2830 sec)\n",
      "\n",
      "Read LP format model from file /tmp/tmpxsd5ovj9.pyomo.lp\n",
      "Reading time = 0.16 seconds\n",
      "x53708: 82683 rows, 53708 columns, 251700 nonzeros\n",
      "Changed value of parameter QCPDual to 1\n",
      "   Prev: 0  Min: 0  Max: 1  Default: 0\n",
      "Changed value of parameter logfile to \n",
      "   Prev: gurobi.log  Default: \n",
      "Changed value of parameter Threads to 3\n",
      "   Prev: 0  Min: 0  Max: 1024  Default: 0\n",
      "Changed value of parameter method to 2\n",
      "   Prev: -1  Min: -1  Max: 5  Default: -1\n",
      "Changed value of parameter OptimalityTol to 0.001\n",
      "   Prev: 1e-06  Min: 1e-09  Max: 0.01  Default: 1e-06\n",
      "Changed value of parameter cuts to 0\n",
      "   Prev: -1  Min: -1  Max: 3  Default: -1\n",
      "Optimize a model with 82683 rows, 53708 columns and 251700 nonzeros\n",
      "Variable types: 53680 continuous, 28 integer (28 binary)\n",
      "Coefficient statistics:\n",
      "  Matrix range     [8e-07, 5e+02]\n",
      "  Objective range  [2e-06, 3e-01]\n",
      "  Bounds range     [1e+00, 6e+04]\n",
      "  RHS range        [4e-02, 2e+01]\n",
      "Presolve removed 24589 rows and 16461 columns\n",
      "Presolve time: 0.35s\n",
      "Presolved: 58094 rows, 37247 columns, 196204 nonzeros\n",
      "Variable types: 37233 continuous, 14 integer (14 binary)\n",
      "Presolve removed 14 rows and 14 columns\n",
      "Presolved: 58080 rows, 37233 columns, 196176 nonzeros\n",
      "\n",
      "Root barrier log...\n",
      "\n",
      "Ordering time: 0.00s\n",
      "\n",
      "Barrier statistics:\n",
      " Dense cols : 150\n",
      " Free vars  : 1288\n",
      " AA' NZ     : 1.417e+06\n",
      " Factor NZ  : 6.403e+06 (roughly 90 MBytes of memory)\n",
      " Factor Ops : 2.276e+09 (less than 1 second per iteration)\n",
      " Threads    : 3\n",
      "\n",
      "                  Objective                Residual\n",
      "Iter       Primal          Dual         Primal    Dual     Compl     Time\n",
      "   0   1.74422556e+05 -1.07528060e+06  2.06e+05 3.47e-03  1.04e+03     2s\n",
      "   1   1.64194515e+05 -1.03964413e+06  1.43e+05 1.49e-01  6.79e+02     2s\n",
      "   2   9.95268736e+04 -9.41653095e+05  8.86e+04 7.88e-02  4.24e+02     2s\n",
      "   3   3.98362735e+04 -5.99417458e+05  2.03e+04 1.08e-02  1.08e+02     2s\n",
      "   4   1.80791266e+04 -2.80216734e+05  1.11e+03 1.29e-03  1.85e+01     3s\n",
      "   5   1.05985464e+04 -1.07922297e+05  5.33e+01 6.79e-04  4.19e+00     3s\n",
      "   6   6.94017454e+03 -8.33227968e+04  2.56e+01 7.60e-04  2.33e+00     3s\n",
      "   7   3.84938145e+03 -4.47487797e+04  9.23e+00 2.38e-04  9.29e-01     3s\n",
      "   8   1.88682391e+03 -1.38138372e+04  2.35e+00 5.27e-04  2.23e-01     3s\n",
      "   9   7.54244894e+02 -3.78644151e+03  4.28e-01 2.45e-04  4.85e-02     3s\n",
      "  10   3.27041077e+02 -1.00991413e+03  1.02e-01 1.72e-04  1.28e-02     3s\n",
      "  11   1.80670655e+02 -3.12544018e+02  2.40e-02 8.28e-05  4.56e-03     4s\n",
      "  12   1.39291439e+02 -4.24868106e+01  1.28e-02 3.21e-05  1.67e-03     4s\n",
      "  13   1.10040088e+02  8.43318936e+00  6.73e-03 1.81e-05  9.32e-04     4s\n",
      "  14   9.89808044e+01  2.69031391e+01  4.64e-03 1.31e-05  6.61e-04     4s\n",
      "  15   9.16800250e+01  4.62126964e+01  3.29e-03 7.91e-06  4.17e-04     4s\n",
      "  16   8.37684738e+01  5.37440237e+01  1.88e-03 5.82e-06  2.75e-04     4s\n",
      "  17   7.76605692e+01  6.19019727e+01  7.49e-04 3.43e-06  1.44e-04     5s\n",
      "  18   7.65217196e+01  6.61104076e+01  5.56e-04 2.23e-06  9.53e-05     5s\n",
      "  19   7.56125199e+01  6.81421235e+01  4.06e-04 1.63e-06  6.84e-05     5s\n",
      "  20   7.47616321e+01  6.98012898e+01  2.60e-04 1.12e-06  4.54e-05     5s\n",
      "  21   7.40758803e+01  7.12371299e+01  1.40e-04 6.72e-07  2.60e-05     5s\n",
      "  22   7.36944972e+01  7.23115969e+01  7.02e-05 3.47e-07  1.27e-05     5s\n",
      "  23   7.35232559e+01  7.28173658e+01  4.02e-05 1.73e-07  6.46e-06     5s\n",
      "  24   7.34653930e+01  7.29659026e+01  2.75e-05 1.20e-07  4.57e-06     6s\n",
      "  25   7.34389192e+01  7.30148454e+01  2.29e-05 1.04e-07  3.88e-06     6s\n",
      "  26   7.33873936e+01  7.30957687e+01  1.42e-05 7.44e-08  2.67e-06     6s\n",
      "  27   7.33479662e+01  7.32194898e+01  7.20e-06 3.22e-08  1.18e-06     6s\n",
      "  28   7.33301534e+01  7.32463534e+01  4.04e-06 2.20e-08  7.67e-07     6s\n",
      "  29   7.33262110e+01  7.32709075e+01  3.38e-06 1.31e-08  5.07e-07     6s\n",
      "  30   7.33186469e+01  7.32810522e+01  2.06e-06 9.05e-09  3.44e-07     7s\n",
      "  31   7.33155975e+01  7.32923657e+01  1.57e-06 5.51e-09  2.13e-07     7s\n",
      "  32   7.33120931e+01  7.32961404e+01  1.03e-06 4.08e-09  1.46e-07     7s\n",
      "  33   7.33101894e+01  7.33011448e+01  7.30e-07 1.80e-09  8.30e-08     7s\n",
      "  34   7.33077823e+01  7.33022026e+01  3.88e-07 1.39e-09  5.12e-08     7s\n",
      "  35   7.33070349e+01  7.33038431e+01  2.71e-07 6.60e-10  2.93e-08     7s\n",
      "  36   7.33066985e+01  7.33040075e+01  2.18e-07 5.96e-10  2.47e-08     8s\n",
      "  37   7.33065236e+01  7.33043014e+01  1.89e-07 4.57e-10  2.04e-08     8s\n",
      "  38   7.33060126e+01  7.33046595e+01  1.10e-07 2.87e-10  1.25e-08     8s\n",
      "  39   7.33057044e+01  7.33051221e+01  6.32e-08 9.46e-11  5.41e-09     8s\n",
      "  40   7.33056015e+01  7.33052163e+01  4.74e-08 4.87e-11  3.60e-09     8s\n",
      "  41   7.33055496e+01  7.33052549e+01  3.97e-08 3.80e-11  2.77e-09     8s\n",
      "  42   7.33053405e+01  7.33052825e+01  1.39e-08 3.77e-11  5.88e-10     8s\n",
      "  43   7.33053203e+01  7.33052827e+01  9.25e-09 1.16e-11  3.57e-10     9s\n",
      "  44   7.33052919e+01  7.33052845e+01  9.22e-09 1.32e-11  7.69e-11     9s\n",
      "  45   7.33052899e+01  7.33052852e+01  2.35e-08 1.01e-11  5.10e-11     9s\n",
      "  46   7.33052895e+01  7.33052853e+01  2.76e-07 9.28e-12  4.61e-11     9s\n",
      "  47   7.33052894e+01  7.33052853e+01  3.81e-07 8.89e-12  4.41e-11    10s\n",
      "  48   7.33052870e+01  7.33052895e+01  1.28e-07 6.21e-08  1.56e-11    10s\n",
      "  49   7.33052863e+01  7.33052874e+01  8.69e-08 2.70e-08  6.88e-12    10s\n",
      "  50   7.33052861e+01  7.33052866e+01  8.51e-08 1.29e-08  4.10e-12    10s\n",
      "\n",
      "Barrier solved model in 50 iterations and 10.49 seconds\n",
      "Optimal objective 7.33052861e+01\n",
      "\n",
      "\n",
      "Root crossover log...\n",
      "\n",
      "    2353 DPushes remaining with DInf 0.0000000e+00                11s\n",
      "       0 DPushes remaining with DInf 1.6481340e+00                11s\n",
      "\n",
      "   13149 PPushes remaining with PInf 3.0449474e-02                11s\n",
      "       0 PPushes remaining with PInf 9.9479943e-01                11s\n",
      "\n",
      "  Push phase complete: Pinf 9.9479943e-01, Dinf 2.3528717e+00     11s\n",
      "\n",
      "\n",
      "Root simplex log...\n",
      "\n",
      "Iteration    Objective       Primal Inf.    Dual Inf.      Time\n",
      "   14356    7.3305331e+01   0.000000e+00   2.315203e+00     11s\n",
      "   14446    7.3305341e+01   0.000000e+00   0.000000e+00     11s\n",
      "   14446    7.3305341e+01   0.000000e+00   0.000000e+00     11s\n",
      "\n",
      "Root relaxation: objective 7.330534e+01, 14446 iterations, 10.91 seconds\n",
      "\n",
      "    Nodes    |    Current Node    |     Objective Bounds      |     Work\n",
      " Expl Unexpl |  Obj  Depth IntInf | Incumbent    BestBd   Gap | It/Node Time\n",
      "\n",
      "     0     0   73.30534    0   12          -   73.30534      -     -   11s\n",
      "H    0     0                      73.3055695   73.30534  0.00%     -   11s\n",
      "\n",
      "Explored 1 nodes (14446 simplex iterations) in 11.73 seconds\n",
      "Thread count was 3 (of 72 available processors)\n",
      "\n",
      "Solution count 1: 73.3056 \n",
      "\n",
      "Optimal solution found (tolerance 1.00e-04)\n",
      "Warning: max constraint violation (3.2958e-06) exceeds tolerance\n",
      "Best objective 7.330556945802e+01, best bound 7.330534058615e+01, gap 0.0003%\n",
      "\n",
      "Status: ok\n",
      "Return code: 0\n",
      "Message: Model was solved to optimality (subject to tolerances), and an optimal solution is available.\n",
      "Termination condition: optimal\n",
      "Termination message: Model was solved to optimality (subject to tolerances), and an optimal solution is available.\n",
      "Wall time: 11.7283041477\n",
      "Error rc: 0\n",
      "Time: 12.402112007141113\n",
      "\n",
      "\n",
      "Name: x53708\n",
      "Lower bound: 73.3053405862\n",
      "Upper bound: 73.305569458\n",
      "Number of objectives: 1\n",
      "Number of constraints: 82683\n",
      "Number of variables: 53708\n",
      "Number of binary variables: 28\n",
      "Number of integer variables: 28\n",
      "Number of continuous variables: 53680\n",
      "Number of nonzeros: 251700\n",
      "Sense: minimize\n",
      "\n",
      "Solve time: 16.08696484565735 sec.\n",
      "\n",
      "Processing optimization output...\n"
     ]
    },
    {
     "name": "stdout",
     "output_type": "stream",
     "text": [
      "for SourceSinkModel ...    (0.9614sec)\n",
      "for ConversionModel ...    (0.6913sec)\n",
      "for StorageModel ...       (2.0991sec)\n",
      "for TransmissionModel ...  (1.9107sec)\n",
      "\t\t(5.6630 sec)\n",
      "\n"
     ]
    }
   ],
   "source": [
    "esM.optimize(timeSeriesAggregation=True, optimizationSpecs='OptimalityTol=1e-3 method=2 cuts=0')"
   ]
  },
  {
   "cell_type": "markdown",
   "metadata": {},
   "source": [
    "# 9. Selected results output\n",
    "\n",
    "Plot locations (GeoPandas required)"
   ]
  },
  {
   "cell_type": "code",
   "execution_count": 52,
   "metadata": {},
   "outputs": [
    {
     "data": {
      "image/png": "[encoded data removed]",
      "text/plain": [
       "<Figure size 432x432 with 1 Axes>"
      ]
     },
     "metadata": {
      "needs_background": "light"
     },
     "output_type": "display_data"
    }
   ],
   "source": [
    "locFilePath = os.path.join(cwd, 'InputData', 'SpatialData','ShapeFiles', 'clusteredRegions.shp')\n",
    "fig, ax = fn.plotLocations(locFilePath, plotLocNames=True, indexColumn='index')"
   ]
  },
  {
   "cell_type": "markdown",
   "metadata": {},
   "source": [
    "### Sources and Sink\n",
    "\n",
    "Show optimization summary"
   ]
  },
  {
   "cell_type": "code",
   "execution_count": 53,
   "metadata": {
    "scrolled": false
   },
   "outputs": [
    {
     "data": {
      "text/html": [
       "<div>\n",
       "<style scoped>\n",
       "    .dataframe tbody tr th:only-of-type {\n",
       "        vertical-align: middle;\n",
       "    }\n",
       "\n",
       "    .dataframe tbody tr th {\n",
       "        vertical-align: top;\n",
       "    }\n",
       "\n",
       "    .dataframe thead th {\n",
       "        text-align: right;\n",
       "    }\n",
       "</style>\n",
       "<table border=\"1\" class=\"dataframe\">\n",
       "  <thead>\n",
       "    <tr style=\"text-align: right;\">\n",
       "      <th></th>\n",
       "      <th></th>\n",
       "      <th></th>\n",
       "      <th>cluster_0</th>\n",
       "      <th>cluster_1</th>\n",
       "      <th>cluster_2</th>\n",
       "      <th>cluster_3</th>\n",
       "      <th>cluster_4</th>\n",
       "      <th>cluster_5</th>\n",
       "      <th>cluster_6</th>\n",
       "      <th>cluster_7</th>\n",
       "    </tr>\n",
       "    <tr>\n",
       "      <th>Component</th>\n",
       "      <th>Property</th>\n",
       "      <th>Unit</th>\n",
       "      <th></th>\n",
       "      <th></th>\n",
       "      <th></th>\n",
       "      <th></th>\n",
       "      <th></th>\n",
       "      <th></th>\n",
       "      <th></th>\n",
       "      <th></th>\n",
       "    </tr>\n",
       "  </thead>\n",
       "  <tbody>\n",
       "    <tr>\n",
       "      <th rowspan=\"3\" valign=\"top\">Biogas purchase</th>\n",
       "      <th>TAC</th>\n",
       "      <th>[1e9 Euro/a]</th>\n",
       "      <td>0.450598</td>\n",
       "      <td>0.407035</td>\n",
       "      <td>0.395307</td>\n",
       "      <td>0.622453</td>\n",
       "      <td>0.54807</td>\n",
       "      <td>0.595548</td>\n",
       "      <td>0.468735</td>\n",
       "      <td>0.419338</td>\n",
       "    </tr>\n",
       "    <tr>\n",
       "      <th>commodCosts</th>\n",
       "      <th>[1e9 Euro/a]</th>\n",
       "      <td>0.450598</td>\n",
       "      <td>0.407035</td>\n",
       "      <td>0.395307</td>\n",
       "      <td>0.622453</td>\n",
       "      <td>0.54807</td>\n",
       "      <td>0.595548</td>\n",
       "      <td>0.468735</td>\n",
       "      <td>0.419338</td>\n",
       "    </tr>\n",
       "    <tr>\n",
       "      <th>operation</th>\n",
       "      <th>[GW$_{biogas,LHV}$*h/a]</th>\n",
       "      <td>8330.51</td>\n",
       "      <td>7525.14</td>\n",
       "      <td>7308.32</td>\n",
       "      <td>11507.7</td>\n",
       "      <td>10132.6</td>\n",
       "      <td>11010.3</td>\n",
       "      <td>8665.83</td>\n",
       "      <td>7752.6</td>\n",
       "    </tr>\n",
       "    <tr>\n",
       "      <th>Electricity demand</th>\n",
       "      <th>operation</th>\n",
       "      <th>[GW$_{el}$*h/a]</th>\n",
       "      <td>30957.9</td>\n",
       "      <td>111621</td>\n",
       "      <td>121994</td>\n",
       "      <td>51762.2</td>\n",
       "      <td>50885.9</td>\n",
       "      <td>49594.9</td>\n",
       "      <td>45641.6</td>\n",
       "      <td>50194.2</td>\n",
       "    </tr>\n",
       "    <tr>\n",
       "      <th rowspan=\"4\" valign=\"top\">Existing run-of-river plants</th>\n",
       "      <th>TAC</th>\n",
       "      <th>[1e9 Euro/a]</th>\n",
       "      <td>0</td>\n",
       "      <td>0.113235</td>\n",
       "      <td>0.0946411</td>\n",
       "      <td>0.0077909</td>\n",
       "      <td>0</td>\n",
       "      <td>0.00906289</td>\n",
       "      <td>0.431712</td>\n",
       "      <td>0.136247</td>\n",
       "    </tr>\n",
       "    <tr>\n",
       "      <th>capacity</th>\n",
       "      <th>[GW$_{el}$]</th>\n",
       "      <td>NaN</td>\n",
       "      <td>0.544397</td>\n",
       "      <td>0.455005</td>\n",
       "      <td>0.0374563</td>\n",
       "      <td>NaN</td>\n",
       "      <td>0.0435716</td>\n",
       "      <td>2.07554</td>\n",
       "      <td>0.655032</td>\n",
       "    </tr>\n",
       "    <tr>\n",
       "      <th>operation</th>\n",
       "      <th>[GW$_{el}$*h/a]</th>\n",
       "      <td>NaN</td>\n",
       "      <td>2668.85</td>\n",
       "      <td>2230.61</td>\n",
       "      <td>183.625</td>\n",
       "      <td>NaN</td>\n",
       "      <td>213.605</td>\n",
       "      <td>10175.1</td>\n",
       "      <td>3211.22</td>\n",
       "    </tr>\n",
       "    <tr>\n",
       "      <th>opexCap</th>\n",
       "      <th>[1e9 Euro/a]</th>\n",
       "      <td>NaN</td>\n",
       "      <td>0.113235</td>\n",
       "      <td>0.0946411</td>\n",
       "      <td>0.0077909</td>\n",
       "      <td>NaN</td>\n",
       "      <td>0.00906289</td>\n",
       "      <td>0.431712</td>\n",
       "      <td>0.136247</td>\n",
       "    </tr>\n",
       "    <tr>\n",
       "      <th>Hydrogen demand</th>\n",
       "      <th>operation</th>\n",
       "      <th>[GW$_{H_{2},LHV}$*h/a]</th>\n",
       "      <td>4765.07</td>\n",
       "      <td>13481.3</td>\n",
       "      <td>12886.8</td>\n",
       "      <td>7774.66</td>\n",
       "      <td>6718.41</td>\n",
       "      <td>7888.07</td>\n",
       "      <td>6344.49</td>\n",
       "      <td>6867.81</td>\n",
       "    </tr>\n",
       "    <tr>\n",
       "      <th rowspan=\"6\" valign=\"top\">PV</th>\n",
       "      <th>TAC</th>\n",
       "      <th>[1e9 Euro/a]</th>\n",
       "      <td>1.32784</td>\n",
       "      <td>1.90692</td>\n",
       "      <td>1.38166</td>\n",
       "      <td>2.438</td>\n",
       "      <td>1.54313</td>\n",
       "      <td>2.89121</td>\n",
       "      <td>1.6719</td>\n",
       "      <td>1.61757</td>\n",
       "    </tr>\n",
       "    <tr>\n",
       "      <th>capacity</th>\n",
       "      <th>[GW$_{el}$]</th>\n",
       "      <td>17.9701</td>\n",
       "      <td>25.8072</td>\n",
       "      <td>18.6986</td>\n",
       "      <td>32.9945</td>\n",
       "      <td>20.8839</td>\n",
       "      <td>39.1279</td>\n",
       "      <td>22.6265</td>\n",
       "      <td>21.8913</td>\n",
       "    </tr>\n",
       "    <tr>\n",
       "      <th>capexCap</th>\n",
       "      <th>[1e9 Euro/a]</th>\n",
       "      <td>1.09422</td>\n",
       "      <td>1.57143</td>\n",
       "      <td>1.13858</td>\n",
       "      <td>2.00907</td>\n",
       "      <td>1.27164</td>\n",
       "      <td>2.38255</td>\n",
       "      <td>1.37776</td>\n",
       "      <td>1.33298</td>\n",
       "    </tr>\n",
       "    <tr>\n",
       "      <th>invest</th>\n",
       "      <th>[1e9 Euro]</th>\n",
       "      <td>11.6806</td>\n",
       "      <td>16.7747</td>\n",
       "      <td>12.1541</td>\n",
       "      <td>21.4464</td>\n",
       "      <td>13.5745</td>\n",
       "      <td>25.4331</td>\n",
       "      <td>14.7072</td>\n",
       "      <td>14.2293</td>\n",
       "    </tr>\n",
       "    <tr>\n",
       "      <th>operation</th>\n",
       "      <th>[GW$_{el}$*h/a]</th>\n",
       "      <td>11106.9</td>\n",
       "      <td>24050.7</td>\n",
       "      <td>15436.5</td>\n",
       "      <td>26423.1</td>\n",
       "      <td>15685.6</td>\n",
       "      <td>29241.8</td>\n",
       "      <td>21371.2</td>\n",
       "      <td>20233.8</td>\n",
       "    </tr>\n",
       "    <tr>\n",
       "      <th>opexCap</th>\n",
       "      <th>[1e9 Euro/a]</th>\n",
       "      <td>0.233612</td>\n",
       "      <td>0.335494</td>\n",
       "      <td>0.243082</td>\n",
       "      <td>0.428928</td>\n",
       "      <td>0.27149</td>\n",
       "      <td>0.508663</td>\n",
       "      <td>0.294145</td>\n",
       "      <td>0.284586</td>\n",
       "    </tr>\n",
       "    <tr>\n",
       "      <th rowspan=\"6\" valign=\"top\">Wind (offshore)</th>\n",
       "      <th>TAC</th>\n",
       "      <th>[1e9 Euro/a]</th>\n",
       "      <td>4.51415</td>\n",
       "      <td>0</td>\n",
       "      <td>0</td>\n",
       "      <td>0</td>\n",
       "      <td>8.01999</td>\n",
       "      <td>4.28146</td>\n",
       "      <td>0</td>\n",
       "      <td>0</td>\n",
       "    </tr>\n",
       "    <tr>\n",
       "      <th>capacity</th>\n",
       "      <th>[GW$_{el}$]</th>\n",
       "      <td>16.107</td>\n",
       "      <td>NaN</td>\n",
       "      <td>NaN</td>\n",
       "      <td>NaN</td>\n",
       "      <td>28.6162</td>\n",
       "      <td>15.2768</td>\n",
       "      <td>NaN</td>\n",
       "      <td>NaN</td>\n",
       "    </tr>\n",
       "    <tr>\n",
       "      <th>capexCap</th>\n",
       "      <th>[1e9 Euro/a]</th>\n",
       "      <td>3.77323</td>\n",
       "      <td>NaN</td>\n",
       "      <td>NaN</td>\n",
       "      <td>NaN</td>\n",
       "      <td>6.70364</td>\n",
       "      <td>3.57873</td>\n",
       "      <td>NaN</td>\n",
       "      <td>NaN</td>\n",
       "    </tr>\n",
       "    <tr>\n",
       "      <th>invest</th>\n",
       "      <th>[1e9 Euro]</th>\n",
       "      <td>37.0461</td>\n",
       "      <td>NaN</td>\n",
       "      <td>NaN</td>\n",
       "      <td>NaN</td>\n",
       "      <td>65.8173</td>\n",
       "      <td>35.1365</td>\n",
       "      <td>NaN</td>\n",
       "      <td>NaN</td>\n",
       "    </tr>\n",
       "    <tr>\n",
       "      <th>operation</th>\n",
       "      <th>[GW$_{el}$*h/a]</th>\n",
       "      <td>52073</td>\n",
       "      <td>NaN</td>\n",
       "      <td>NaN</td>\n",
       "      <td>NaN</td>\n",
       "      <td>99180.6</td>\n",
       "      <td>38994.1</td>\n",
       "      <td>NaN</td>\n",
       "      <td>NaN</td>\n",
       "    </tr>\n",
       "    <tr>\n",
       "      <th>opexCap</th>\n",
       "      <th>[1e9 Euro/a]</th>\n",
       "      <td>0.740923</td>\n",
       "      <td>NaN</td>\n",
       "      <td>NaN</td>\n",
       "      <td>NaN</td>\n",
       "      <td>1.31635</td>\n",
       "      <td>0.702731</td>\n",
       "      <td>NaN</td>\n",
       "      <td>NaN</td>\n",
       "    </tr>\n",
       "    <tr>\n",
       "      <th rowspan=\"6\" valign=\"top\">Wind (onshore)</th>\n",
       "      <th>TAC</th>\n",
       "      <th>[1e9 Euro/a]</th>\n",
       "      <td>7.79686</td>\n",
       "      <td>0</td>\n",
       "      <td>0</td>\n",
       "      <td>0</td>\n",
       "      <td>1.31714</td>\n",
       "      <td>11.5334</td>\n",
       "      <td>0</td>\n",
       "      <td>0</td>\n",
       "    </tr>\n",
       "    <tr>\n",
       "      <th>capacity</th>\n",
       "      <th>[GW$_{el}$]</th>\n",
       "      <td>58.1693</td>\n",
       "      <td>0</td>\n",
       "      <td>0</td>\n",
       "      <td>0</td>\n",
       "      <td>9.82666</td>\n",
       "      <td>86.0461</td>\n",
       "      <td>0</td>\n",
       "      <td>0</td>\n",
       "    </tr>\n",
       "    <tr>\n",
       "      <th>capexCap</th>\n",
       "      <th>[1e9 Euro/a]</th>\n",
       "      <td>6.51714</td>\n",
       "      <td>0</td>\n",
       "      <td>0</td>\n",
       "      <td>0</td>\n",
       "      <td>1.10095</td>\n",
       "      <td>9.64038</td>\n",
       "      <td>0</td>\n",
       "      <td>0</td>\n",
       "    </tr>\n",
       "    <tr>\n",
       "      <th>invest</th>\n",
       "      <th>[1e9 Euro]</th>\n",
       "      <td>63.9862</td>\n",
       "      <td>0</td>\n",
       "      <td>0</td>\n",
       "      <td>0</td>\n",
       "      <td>10.8093</td>\n",
       "      <td>94.6507</td>\n",
       "      <td>0</td>\n",
       "      <td>0</td>\n",
       "    </tr>\n",
       "    <tr>\n",
       "      <th>operation</th>\n",
       "      <th>[GW$_{el}$*h/a]</th>\n",
       "      <td>107522</td>\n",
       "      <td>0</td>\n",
       "      <td>0</td>\n",
       "      <td>0</td>\n",
       "      <td>14942.6</td>\n",
       "      <td>112518</td>\n",
       "      <td>0</td>\n",
       "      <td>0</td>\n",
       "    </tr>\n",
       "    <tr>\n",
       "      <th>opexCap</th>\n",
       "      <th>[1e9 Euro/a]</th>\n",
       "      <td>1.27972</td>\n",
       "      <td>0</td>\n",
       "      <td>0</td>\n",
       "      <td>0</td>\n",
       "      <td>0.216186</td>\n",
       "      <td>1.89301</td>\n",
       "      <td>0</td>\n",
       "      <td>0</td>\n",
       "    </tr>\n",
       "  </tbody>\n",
       "</table>\n",
       "</div>"
      ],
      "text/plain": [
       "                                                                 cluster_0  \\\n",
       "Component                    Property    Unit                                \n",
       "Biogas purchase              TAC         [1e9 Euro/a]             0.450598   \n",
       "                             commodCosts [1e9 Euro/a]             0.450598   \n",
       "                             operation   [GW$_{biogas,LHV}$*h/a]   8330.51   \n",
       "Electricity demand           operation   [GW$_{el}$*h/a]           30957.9   \n",
       "Existing run-of-river plants TAC         [1e9 Euro/a]                    0   \n",
       "                             capacity    [GW$_{el}$]                   NaN   \n",
       "                             operation   [GW$_{el}$*h/a]               NaN   \n",
       "                             opexCap     [1e9 Euro/a]                  NaN   \n",
       "Hydrogen demand              operation   [GW$_{H_{2},LHV}$*h/a]    4765.07   \n",
       "PV                           TAC         [1e9 Euro/a]              1.32784   \n",
       "                             capacity    [GW$_{el}$]               17.9701   \n",
       "                             capexCap    [1e9 Euro/a]              1.09422   \n",
       "                             invest      [1e9 Euro]                11.6806   \n",
       "                             operation   [GW$_{el}$*h/a]           11106.9   \n",
       "                             opexCap     [1e9 Euro/a]             0.233612   \n",
       "Wind (offshore)              TAC         [1e9 Euro/a]              4.51415   \n",
       "                             capacity    [GW$_{el}$]                16.107   \n",
       "                             capexCap    [1e9 Euro/a]              3.77323   \n",
       "                             invest      [1e9 Euro]                37.0461   \n",
       "                             operation   [GW$_{el}$*h/a]             52073   \n",
       "                             opexCap     [1e9 Euro/a]             0.740923   \n",
       "Wind (onshore)               TAC         [1e9 Euro/a]              7.79686   \n",
       "                             capacity    [GW$_{el}$]               58.1693   \n",
       "                             capexCap    [1e9 Euro/a]              6.51714   \n",
       "                             invest      [1e9 Euro]                63.9862   \n",
       "                             operation   [GW$_{el}$*h/a]            107522   \n",
       "                             opexCap     [1e9 Euro/a]              1.27972   \n",
       "\n",
       "                                                                 cluster_1  \\\n",
       "Component                    Property    Unit                                \n",
       "Biogas purchase              TAC         [1e9 Euro/a]             0.407035   \n",
       "                             commodCosts [1e9 Euro/a]             0.407035   \n",
       "                             operation   [GW$_{biogas,LHV}$*h/a]   7525.14   \n",
       "Electricity demand           operation   [GW$_{el}$*h/a]            111621   \n",
       "Existing run-of-river plants TAC         [1e9 Euro/a]             0.113235   \n",
       "                             capacity    [GW$_{el}$]              0.544397   \n",
       "                             operation   [GW$_{el}$*h/a]           2668.85   \n",
       "                             opexCap     [1e9 Euro/a]             0.113235   \n",
       "Hydrogen demand              operation   [GW$_{H_{2},LHV}$*h/a]    13481.3   \n",
       "PV                           TAC         [1e9 Euro/a]              1.90692   \n",
       "                             capacity    [GW$_{el}$]               25.8072   \n",
       "                             capexCap    [1e9 Euro/a]              1.57143   \n",
       "                             invest      [1e9 Euro]                16.7747   \n",
       "                             operation   [GW$_{el}$*h/a]           24050.7   \n",
       "                             opexCap     [1e9 Euro/a]             0.335494   \n",
       "Wind (offshore)              TAC         [1e9 Euro/a]                    0   \n",
       "                             capacity    [GW$_{el}$]                   NaN   \n",
       "                             capexCap    [1e9 Euro/a]                  NaN   \n",
       "                             invest      [1e9 Euro]                    NaN   \n",
       "                             operation   [GW$_{el}$*h/a]               NaN   \n",
       "                             opexCap     [1e9 Euro/a]                  NaN   \n",
       "Wind (onshore)               TAC         [1e9 Euro/a]                    0   \n",
       "                             capacity    [GW$_{el}$]                     0   \n",
       "                             capexCap    [1e9 Euro/a]                    0   \n",
       "                             invest      [1e9 Euro]                      0   \n",
       "                             operation   [GW$_{el}$*h/a]                 0   \n",
       "                             opexCap     [1e9 Euro/a]                    0   \n",
       "\n",
       "                                                                  cluster_2  \\\n",
       "Component                    Property    Unit                                 \n",
       "Biogas purchase              TAC         [1e9 Euro/a]              0.395307   \n",
       "                             commodCosts [1e9 Euro/a]              0.395307   \n",
       "                             operation   [GW$_{biogas,LHV}$*h/a]    7308.32   \n",
       "Electricity demand           operation   [GW$_{el}$*h/a]             121994   \n",
       "Existing run-of-river plants TAC         [1e9 Euro/a]             0.0946411   \n",
       "                             capacity    [GW$_{el}$]               0.455005   \n",
       "                             operation   [GW$_{el}$*h/a]            2230.61   \n",
       "                             opexCap     [1e9 Euro/a]             0.0946411   \n",
       "Hydrogen demand              operation   [GW$_{H_{2},LHV}$*h/a]     12886.8   \n",
       "PV                           TAC         [1e9 Euro/a]               1.38166   \n",
       "                             capacity    [GW$_{el}$]                18.6986   \n",
       "                             capexCap    [1e9 Euro/a]               1.13858   \n",
       "                             invest      [1e9 Euro]                 12.1541   \n",
       "                             operation   [GW$_{el}$*h/a]            15436.5   \n",
       "                             opexCap     [1e9 Euro/a]              0.243082   \n",
       "Wind (offshore)              TAC         [1e9 Euro/a]                     0   \n",
       "                             capacity    [GW$_{el}$]                    NaN   \n",
       "                             capexCap    [1e9 Euro/a]                   NaN   \n",
       "                             invest      [1e9 Euro]                     NaN   \n",
       "                             operation   [GW$_{el}$*h/a]                NaN   \n",
       "                             opexCap     [1e9 Euro/a]                   NaN   \n",
       "Wind (onshore)               TAC         [1e9 Euro/a]                     0   \n",
       "                             capacity    [GW$_{el}$]                      0   \n",
       "                             capexCap    [1e9 Euro/a]                     0   \n",
       "                             invest      [1e9 Euro]                       0   \n",
       "                             operation   [GW$_{el}$*h/a]                  0   \n",
       "                             opexCap     [1e9 Euro/a]                     0   \n",
       "\n",
       "                                                                  cluster_3  \\\n",
       "Component                    Property    Unit                                 \n",
       "Biogas purchase              TAC         [1e9 Euro/a]              0.622453   \n",
       "                             commodCosts [1e9 Euro/a]              0.622453   \n",
       "                             operation   [GW$_{biogas,LHV}$*h/a]    11507.7   \n",
       "Electricity demand           operation   [GW$_{el}$*h/a]            51762.2   \n",
       "Existing run-of-river plants TAC         [1e9 Euro/a]             0.0077909   \n",
       "                             capacity    [GW$_{el}$]              0.0374563   \n",
       "                             operation   [GW$_{el}$*h/a]            183.625   \n",
       "                             opexCap     [1e9 Euro/a]             0.0077909   \n",
       "Hydrogen demand              operation   [GW$_{H_{2},LHV}$*h/a]     7774.66   \n",
       "PV                           TAC         [1e9 Euro/a]                 2.438   \n",
       "                             capacity    [GW$_{el}$]                32.9945   \n",
       "                             capexCap    [1e9 Euro/a]               2.00907   \n",
       "                             invest      [1e9 Euro]                 21.4464   \n",
       "                             operation   [GW$_{el}$*h/a]            26423.1   \n",
       "                             opexCap     [1e9 Euro/a]              0.428928   \n",
       "Wind (offshore)              TAC         [1e9 Euro/a]                     0   \n",
       "                             capacity    [GW$_{el}$]                    NaN   \n",
       "                             capexCap    [1e9 Euro/a]                   NaN   \n",
       "                             invest      [1e9 Euro]                     NaN   \n",
       "                             operation   [GW$_{el}$*h/a]                NaN   \n",
       "                             opexCap     [1e9 Euro/a]                   NaN   \n",
       "Wind (onshore)               TAC         [1e9 Euro/a]                     0   \n",
       "                             capacity    [GW$_{el}$]                      0   \n",
       "                             capexCap    [1e9 Euro/a]                     0   \n",
       "                             invest      [1e9 Euro]                       0   \n",
       "                             operation   [GW$_{el}$*h/a]                  0   \n",
       "                             opexCap     [1e9 Euro/a]                     0   \n",
       "\n",
       "                                                                 cluster_4  \\\n",
       "Component                    Property    Unit                                \n",
       "Biogas purchase              TAC         [1e9 Euro/a]              0.54807   \n",
       "                             commodCosts [1e9 Euro/a]              0.54807   \n",
       "                             operation   [GW$_{biogas,LHV}$*h/a]   10132.6   \n",
       "Electricity demand           operation   [GW$_{el}$*h/a]           50885.9   \n",
       "Existing run-of-river plants TAC         [1e9 Euro/a]                    0   \n",
       "                             capacity    [GW$_{el}$]                   NaN   \n",
       "                             operation   [GW$_{el}$*h/a]               NaN   \n",
       "                             opexCap     [1e9 Euro/a]                  NaN   \n",
       "Hydrogen demand              operation   [GW$_{H_{2},LHV}$*h/a]    6718.41   \n",
       "PV                           TAC         [1e9 Euro/a]              1.54313   \n",
       "                             capacity    [GW$_{el}$]               20.8839   \n",
       "                             capexCap    [1e9 Euro/a]              1.27164   \n",
       "                             invest      [1e9 Euro]                13.5745   \n",
       "                             operation   [GW$_{el}$*h/a]           15685.6   \n",
       "                             opexCap     [1e9 Euro/a]              0.27149   \n",
       "Wind (offshore)              TAC         [1e9 Euro/a]              8.01999   \n",
       "                             capacity    [GW$_{el}$]               28.6162   \n",
       "                             capexCap    [1e9 Euro/a]              6.70364   \n",
       "                             invest      [1e9 Euro]                65.8173   \n",
       "                             operation   [GW$_{el}$*h/a]           99180.6   \n",
       "                             opexCap     [1e9 Euro/a]              1.31635   \n",
       "Wind (onshore)               TAC         [1e9 Euro/a]              1.31714   \n",
       "                             capacity    [GW$_{el}$]               9.82666   \n",
       "                             capexCap    [1e9 Euro/a]              1.10095   \n",
       "                             invest      [1e9 Euro]                10.8093   \n",
       "                             operation   [GW$_{el}$*h/a]           14942.6   \n",
       "                             opexCap     [1e9 Euro/a]             0.216186   \n",
       "\n",
       "                                                                   cluster_5  \\\n",
       "Component                    Property    Unit                                  \n",
       "Biogas purchase              TAC         [1e9 Euro/a]               0.595548   \n",
       "                             commodCosts [1e9 Euro/a]               0.595548   \n",
       "                             operation   [GW$_{biogas,LHV}$*h/a]     11010.3   \n",
       "Electricity demand           operation   [GW$_{el}$*h/a]             49594.9   \n",
       "Existing run-of-river plants TAC         [1e9 Euro/a]             0.00906289   \n",
       "                             capacity    [GW$_{el}$]               0.0435716   \n",
       "                             operation   [GW$_{el}$*h/a]             213.605   \n",
       "                             opexCap     [1e9 Euro/a]             0.00906289   \n",
       "Hydrogen demand              operation   [GW$_{H_{2},LHV}$*h/a]      7888.07   \n",
       "PV                           TAC         [1e9 Euro/a]                2.89121   \n",
       "                             capacity    [GW$_{el}$]                 39.1279   \n",
       "                             capexCap    [1e9 Euro/a]                2.38255   \n",
       "                             invest      [1e9 Euro]                  25.4331   \n",
       "                             operation   [GW$_{el}$*h/a]             29241.8   \n",
       "                             opexCap     [1e9 Euro/a]               0.508663   \n",
       "Wind (offshore)              TAC         [1e9 Euro/a]                4.28146   \n",
       "                             capacity    [GW$_{el}$]                 15.2768   \n",
       "                             capexCap    [1e9 Euro/a]                3.57873   \n",
       "                             invest      [1e9 Euro]                  35.1365   \n",
       "                             operation   [GW$_{el}$*h/a]             38994.1   \n",
       "                             opexCap     [1e9 Euro/a]               0.702731   \n",
       "Wind (onshore)               TAC         [1e9 Euro/a]                11.5334   \n",
       "                             capacity    [GW$_{el}$]                 86.0461   \n",
       "                             capexCap    [1e9 Euro/a]                9.64038   \n",
       "                             invest      [1e9 Euro]                  94.6507   \n",
       "                             operation   [GW$_{el}$*h/a]              112518   \n",
       "                             opexCap     [1e9 Euro/a]                1.89301   \n",
       "\n",
       "                                                                 cluster_6  \\\n",
       "Component                    Property    Unit                                \n",
       "Biogas purchase              TAC         [1e9 Euro/a]             0.468735   \n",
       "                             commodCosts [1e9 Euro/a]             0.468735   \n",
       "                             operation   [GW$_{biogas,LHV}$*h/a]   8665.83   \n",
       "Electricity demand           operation   [GW$_{el}$*h/a]           45641.6   \n",
       "Existing run-of-river plants TAC         [1e9 Euro/a]             0.431712   \n",
       "                             capacity    [GW$_{el}$]               2.07554   \n",
       "                             operation   [GW$_{el}$*h/a]           10175.1   \n",
       "                             opexCap     [1e9 Euro/a]             0.431712   \n",
       "Hydrogen demand              operation   [GW$_{H_{2},LHV}$*h/a]    6344.49   \n",
       "PV                           TAC         [1e9 Euro/a]               1.6719   \n",
       "                             capacity    [GW$_{el}$]               22.6265   \n",
       "                             capexCap    [1e9 Euro/a]              1.37776   \n",
       "                             invest      [1e9 Euro]                14.7072   \n",
       "                             operation   [GW$_{el}$*h/a]           21371.2   \n",
       "                             opexCap     [1e9 Euro/a]             0.294145   \n",
       "Wind (offshore)              TAC         [1e9 Euro/a]                    0   \n",
       "                             capacity    [GW$_{el}$]                   NaN   \n",
       "                             capexCap    [1e9 Euro/a]                  NaN   \n",
       "                             invest      [1e9 Euro]                    NaN   \n",
       "                             operation   [GW$_{el}$*h/a]               NaN   \n",
       "                             opexCap     [1e9 Euro/a]                  NaN   \n",
       "Wind (onshore)               TAC         [1e9 Euro/a]                    0   \n",
       "                             capacity    [GW$_{el}$]                     0   \n",
       "                             capexCap    [1e9 Euro/a]                    0   \n",
       "                             invest      [1e9 Euro]                      0   \n",
       "                             operation   [GW$_{el}$*h/a]                 0   \n",
       "                             opexCap     [1e9 Euro/a]                    0   \n",
       "\n",
       "                                                                 cluster_7  \n",
       "Component                    Property    Unit                               \n",
       "Biogas purchase              TAC         [1e9 Euro/a]             0.419338  \n",
       "                             commodCosts [1e9 Euro/a]             0.419338  \n",
       "                             operation   [GW$_{biogas,LHV}$*h/a]    7752.6  \n",
       "Electricity demand           operation   [GW$_{el}$*h/a]           50194.2  \n",
       "Existing run-of-river plants TAC         [1e9 Euro/a]             0.136247  \n",
       "                             capacity    [GW$_{el}$]              0.655032  \n",
       "                             operation   [GW$_{el}$*h/a]           3211.22  \n",
       "                             opexCap     [1e9 Euro/a]             0.136247  \n",
       "Hydrogen demand              operation   [GW$_{H_{2},LHV}$*h/a]    6867.81  \n",
       "PV                           TAC         [1e9 Euro/a]              1.61757  \n",
       "                             capacity    [GW$_{el}$]               21.8913  \n",
       "                             capexCap    [1e9 Euro/a]              1.33298  \n",
       "                             invest      [1e9 Euro]                14.2293  \n",
       "                             operation   [GW$_{el}$*h/a]           20233.8  \n",
       "                             opexCap     [1e9 Euro/a]             0.284586  \n",
       "Wind (offshore)              TAC         [1e9 Euro/a]                    0  \n",
       "                             capacity    [GW$_{el}$]                   NaN  \n",
       "                             capexCap    [1e9 Euro/a]                  NaN  \n",
       "                             invest      [1e9 Euro]                    NaN  \n",
       "                             operation   [GW$_{el}$*h/a]               NaN  \n",
       "                             opexCap     [1e9 Euro/a]                  NaN  \n",
       "Wind (onshore)               TAC         [1e9 Euro/a]                    0  \n",
       "                             capacity    [GW$_{el}$]                     0  \n",
       "                             capexCap    [1e9 Euro/a]                    0  \n",
       "                             invest      [1e9 Euro]                      0  \n",
       "                             operation   [GW$_{el}$*h/a]                 0  \n",
       "                             opexCap     [1e9 Euro/a]                    0  "
      ]
     },
     "execution_count": 53,
     "metadata": {},
     "output_type": "execute_result"
    }
   ],
   "source": [
    "esM.getOptimizationSummary(\"SourceSinkModel\", outputLevel=2)"
   ]
  },
  {
   "cell_type": "markdown",
   "metadata": {},
   "source": [
    "Plot installed capacities"
   ]
  },
  {
   "cell_type": "code",
   "execution_count": 59,
   "metadata": {
    "scrolled": false
   },
   "outputs": [
    {
     "data": {
      "image/png": "[encoded data removed]",
      "text/plain": [
       "<Figure size 432x432 with 2 Axes>"
      ]
     },
     "metadata": {
      "needs_background": "light"
     },
     "output_type": "display_data"
    }
   ],
   "source": [
    "fig, ax = fn.plotLocationalColorMap(esM, 'Wind (onshore)', locFilePath, 'index', perArea=True)"
   ]
  },
  {
   "cell_type": "markdown",
   "metadata": {},
   "source": [
    "Plot operation time series (either one or two dimensional)"
   ]
  },
  {
   "cell_type": "code",
   "execution_count": 56,
   "metadata": {},
   "outputs": [
    {
     "data": {
      "image/png": "[encoded data removed]",
      "text/plain": [
       "<Figure size 864x288 with 1 Axes>"
      ]
     },
     "metadata": {
      "needs_background": "light"
     },
     "output_type": "display_data"
    }
   ],
   "source": [
    "fig, ax = fn.plotOperation(esM, 'Electricity demand', 'cluster_0')"
   ]
  },
  {
   "cell_type": "code",
   "execution_count": null,
   "metadata": {},
   "outputs": [],
   "source": [
    "fig, ax = fn.plotOperationColorMap(esM, 'Electricity demand', 'cluster_0')"
   ]
  },
  {
   "cell_type": "markdown",
   "metadata": {},
   "source": [
    "### Conversion\n",
    "\n",
    "Show optimization summary"
   ]
  },
  {
   "cell_type": "code",
   "execution_count": null,
   "metadata": {},
   "outputs": [],
   "source": [
    "esM.getOptimizationSummary(\"ConversionModel\", outputLevel=2)"
   ]
  },
  {
   "cell_type": "code",
   "execution_count": null,
   "metadata": {},
   "outputs": [],
   "source": [
    "fig, ax = fn.plotOperationColorMap(esM, 'New CCGT plants (biogas)', 'cluster_2')"
   ]
  },
  {
   "cell_type": "markdown",
   "metadata": {},
   "source": [
    "### Storage\n",
    "\n",
    "Show optimization summary"
   ]
  },
  {
   "cell_type": "code",
   "execution_count": null,
   "metadata": {},
   "outputs": [],
   "source": [
    "esM.getOptimizationSummary(\"StorageModel\", outputLevel=2)"
   ]
  },
  {
   "cell_type": "code",
   "execution_count": null,
   "metadata": {},
   "outputs": [],
   "source": [
    "fig, ax = fn.plotOperationColorMap(esM, 'Li-ion batteries', 'cluster_2', \n",
    "                                   variableName='stateOfChargeOperationVariablesOptimum')"
   ]
  },
  {
   "cell_type": "code",
   "execution_count": null,
   "metadata": {},
   "outputs": [],
   "source": [
    "fig, ax = fn.plotOperationColorMap(esM, 'Pumped hydro storage', 'cluster_2',\n",
    "                                  variableName='stateOfChargeOperationVariablesOptimum')"
   ]
  },
  {
   "cell_type": "code",
   "execution_count": null,
   "metadata": {},
   "outputs": [],
   "source": [
    "fig, ax = fn.plotOperationColorMap(esM, 'Salt caverns (biogas)', 'cluster_2',\n",
    "                                  variableName='stateOfChargeOperationVariablesOptimum')"
   ]
  },
  {
   "cell_type": "code",
   "execution_count": null,
   "metadata": {},
   "outputs": [],
   "source": [
    "fig, ax = fn.plotOperationColorMap(esM, 'Salt caverns (hydrogen)', 'cluster_2',\n",
    "                                  variableName='stateOfChargeOperationVariablesOptimum')"
   ]
  },
  {
   "cell_type": "markdown",
   "metadata": {},
   "source": [
    "## Transmission\n",
    "\n",
    "Show optimization summary"
   ]
  },
  {
   "cell_type": "code",
   "execution_count": 47,
   "metadata": {
    "scrolled": false
   },
   "outputs": [
    {
     "ename": "AttributeError",
     "evalue": "'NoneType' object has no attribute 'dropna'",
     "output_type": "error",
     "traceback": [
      "\u001b[0;31m---------------------------------------------------------------------------\u001b[0m",
      "\u001b[0;31mAttributeError\u001b[0m                            Traceback (most recent call last)",
      "\u001b[0;32m<ipython-input-47-6698efd96606>\u001b[0m in \u001b[0;36m<module>\u001b[0;34m\u001b[0m\n\u001b[0;32m----> 1\u001b[0;31m \u001b[0mesM\u001b[0m\u001b[0;34m.\u001b[0m\u001b[0mgetOptimizationSummary\u001b[0m\u001b[0;34m(\u001b[0m\u001b[0;34m\"TransmissionModel\"\u001b[0m\u001b[0;34m,\u001b[0m \u001b[0moutputLevel\u001b[0m\u001b[0;34m=\u001b[0m\u001b[0;36m2\u001b[0m\u001b[0;34m)\u001b[0m\u001b[0;34m.\u001b[0m\u001b[0mloc\u001b[0m\u001b[0;34m[\u001b[0m\u001b[0;34m'Pipelines (hydrogen)'\u001b[0m\u001b[0;34m]\u001b[0m\u001b[0;34m\u001b[0m\u001b[0;34m\u001b[0m\u001b[0m\n\u001b[0m",
      "\u001b[0;32m~/code/FINE/FINE/energySystemModel.py\u001b[0m in \u001b[0;36mgetOptimizationSummary\u001b[0;34m(self, modelingClass, outputLevel)\u001b[0m\n\u001b[1;32m    301\u001b[0m             \u001b[0;32mif\u001b[0m \u001b[0moutputLevel\u001b[0m \u001b[0;34m!=\u001b[0m \u001b[0;36m2\u001b[0m \u001b[0;32mand\u001b[0m \u001b[0mself\u001b[0m\u001b[0;34m.\u001b[0m\u001b[0mverbose\u001b[0m \u001b[0;34m<\u001b[0m \u001b[0;36m2\u001b[0m\u001b[0;34m:\u001b[0m\u001b[0;34m\u001b[0m\u001b[0;34m\u001b[0m\u001b[0m\n\u001b[1;32m    302\u001b[0m                 \u001b[0mwarnings\u001b[0m\u001b[0;34m.\u001b[0m\u001b[0mwarn\u001b[0m\u001b[0;34m(\u001b[0m\u001b[0;34m'Invalid input. An outputLevel parameter of 2 is assumed.'\u001b[0m\u001b[0;34m)\u001b[0m\u001b[0;34m\u001b[0m\u001b[0;34m\u001b[0m\u001b[0m\n\u001b[0;32m--> 303\u001b[0;31m             \u001b[0mdf\u001b[0m \u001b[0;34m=\u001b[0m \u001b[0mself\u001b[0m\u001b[0;34m.\u001b[0m\u001b[0mcomponentModelingDict\u001b[0m\u001b[0;34m[\u001b[0m\u001b[0mmodelingClass\u001b[0m\u001b[0;34m]\u001b[0m\u001b[0;34m.\u001b[0m\u001b[0moptSummary\u001b[0m\u001b[0;34m.\u001b[0m\u001b[0mdropna\u001b[0m\u001b[0;34m(\u001b[0m\u001b[0mhow\u001b[0m\u001b[0;34m=\u001b[0m\u001b[0;34m'all'\u001b[0m\u001b[0;34m)\u001b[0m\u001b[0;34m\u001b[0m\u001b[0;34m\u001b[0m\u001b[0m\n\u001b[0m\u001b[1;32m    304\u001b[0m             \u001b[0;32mreturn\u001b[0m \u001b[0mdf\u001b[0m\u001b[0;34m.\u001b[0m\u001b[0mloc\u001b[0m\u001b[0;34m[\u001b[0m\u001b[0;34m(\u001b[0m\u001b[0;34m(\u001b[0m\u001b[0mdf\u001b[0m \u001b[0;34m!=\u001b[0m \u001b[0;36m0\u001b[0m\u001b[0;34m)\u001b[0m \u001b[0;34m&\u001b[0m \u001b[0;34m(\u001b[0m\u001b[0;34m~\u001b[0m\u001b[0mdf\u001b[0m\u001b[0;34m.\u001b[0m\u001b[0misnull\u001b[0m\u001b[0;34m(\u001b[0m\u001b[0;34m)\u001b[0m\u001b[0;34m)\u001b[0m\u001b[0;34m)\u001b[0m\u001b[0;34m.\u001b[0m\u001b[0many\u001b[0m\u001b[0;34m(\u001b[0m\u001b[0maxis\u001b[0m\u001b[0;34m=\u001b[0m\u001b[0;36m1\u001b[0m\u001b[0;34m)\u001b[0m\u001b[0;34m]\u001b[0m\u001b[0;34m\u001b[0m\u001b[0;34m\u001b[0m\u001b[0m\n\u001b[1;32m    305\u001b[0m \u001b[0;34m\u001b[0m\u001b[0m\n",
      "\u001b[0;31mAttributeError\u001b[0m: 'NoneType' object has no attribute 'dropna'"
     ]
    }
   ],
   "source": [
    "esM.getOptimizationSummary(\"TransmissionModel\", outputLevel=2).loc['Pipelines (hydrogen)']"
   ]
  },
  {
   "cell_type": "markdown",
   "metadata": {},
   "source": [
    "Check that the shared capacity of the pipelines are not exceeded"
   ]
  },
  {
   "cell_type": "code",
   "execution_count": 48,
   "metadata": {},
   "outputs": [
    {
     "ename": "AttributeError",
     "evalue": "'NoneType' object has no attribute 'loc'",
     "output_type": "error",
     "traceback": [
      "\u001b[0;31m---------------------------------------------------------------------------\u001b[0m",
      "\u001b[0;31mAttributeError\u001b[0m                            Traceback (most recent call last)",
      "\u001b[0;32m<ipython-input-48-0d5b87fc3b5c>\u001b[0m in \u001b[0;36m<module>\u001b[0;34m\u001b[0m\n\u001b[1;32m      1\u001b[0m \u001b[0mdf\u001b[0m\u001b[0;34m=\u001b[0m\u001b[0mesM\u001b[0m\u001b[0;34m.\u001b[0m\u001b[0mcomponentModelingDict\u001b[0m\u001b[0;34m[\u001b[0m\u001b[0;34m\"TransmissionModel\"\u001b[0m\u001b[0;34m]\u001b[0m\u001b[0;34m.\u001b[0m\u001b[0mcapacityVariablesOptimum\u001b[0m\u001b[0;34m\u001b[0m\u001b[0;34m\u001b[0m\u001b[0m\n\u001b[0;32m----> 2\u001b[0;31m \u001b[0mdf\u001b[0m\u001b[0;34m.\u001b[0m\u001b[0mloc\u001b[0m\u001b[0;34m[\u001b[0m\u001b[0;34m'Pipelines (biogas)'\u001b[0m\u001b[0;34m]\u001b[0m\u001b[0;34m+\u001b[0m\u001b[0mdf\u001b[0m\u001b[0;34m.\u001b[0m\u001b[0mloc\u001b[0m\u001b[0;34m[\u001b[0m\u001b[0;34m'Pipelines (hydrogen)'\u001b[0m\u001b[0;34m]\u001b[0m\u001b[0;34m\u001b[0m\u001b[0;34m\u001b[0m\u001b[0m\n\u001b[0m",
      "\u001b[0;31mAttributeError\u001b[0m: 'NoneType' object has no attribute 'loc'"
     ]
    }
   ],
   "source": [
    "df=esM.componentModelingDict[\"TransmissionModel\"].capacityVariablesOptimum\n",
    "df.loc['Pipelines (biogas)']+df.loc['Pipelines (hydrogen)']"
   ]
  },
  {
   "cell_type": "markdown",
   "metadata": {},
   "source": [
    "Plot installed transmission capacities"
   ]
  },
  {
   "cell_type": "code",
   "execution_count": 60,
   "metadata": {},
   "outputs": [
    {
     "data": {
      "image/png": "[encoded data removed]",
      "text/plain": [
       "<Figure size 432x432 with 1 Axes>"
      ]
     },
     "metadata": {
      "needs_background": "light"
     },
     "output_type": "display_data"
    }
   ],
   "source": [
    "transFilePath = os.path.join(cwd, 'InputData', 'SpatialData','ShapeFiles', 'AClines.shp')\n",
    "\n",
    "fig, ax = fn.plotLocations(locFilePath, indexColumn='index')                                 \n",
    "fig, ax = fn.plotTransmission(esM, 'AC cables', transFilePath, loc0='bus0', loc1='bus1', fig=fig, ax=ax)"
   ]
  },
  {
   "cell_type": "code",
   "execution_count": 61,
   "metadata": {},
   "outputs": [
    {
     "data": {
      "image/png": "[encoded data removed]",
      "text/plain": [
       "<Figure size 432x432 with 1 Axes>"
      ]
     },
     "metadata": {
      "needs_background": "light"
     },
     "output_type": "display_data"
    }
   ],
   "source": [
    "transFilePath = os.path.join(cwd, 'InputData', 'SpatialData','ShapeFiles', 'DClines.shp')\n",
    "\n",
    "fig, ax = fn.plotLocations(locFilePath, indexColumn='index')                                 \n",
    "fig, ax = fn.plotTransmission(esM, 'DC cables', transFilePath, loc0='cluster0', loc1='cluster1', fig=fig, ax=ax)"
   ]
  },
  {
   "cell_type": "code",
   "execution_count": 62,
   "metadata": {},
   "outputs": [
    {
     "data": {
      "image/png": "[encoded data removed]",
      "text/plain": [
       "<Figure size 432x432 with 1 Axes>"
      ]
     },
     "metadata": {
      "needs_background": "light"
     },
     "output_type": "display_data"
    }
   ],
   "source": [
    "transFilePath = os.path.join(cwd, 'InputData', 'SpatialData','ShapeFiles', 'transmissionPipeline.shp')\n",
    "\n",
    "fig, ax = fn.plotLocations(locFilePath, indexColumn='index')                                 \n",
    "fig, ax = fn.plotTransmission(esM, 'Pipelines (hydrogen)', transFilePath, loc0='cluster0', loc1='cluster1',\n",
    "                              fig=fig, ax=ax)"
   ]
  },
  {
   "cell_type": "code",
   "execution_count": 50,
   "metadata": {},
   "outputs": [
    {
     "data": {
      "image/png": "[encoded data removed]",
      "text/plain": [
       "<Figure size 432x432 with 1 Axes>"
      ]
     },
     "metadata": {
      "needs_background": "light"
     },
     "output_type": "display_data"
    }
   ],
   "source": [
    "transFilePath = os.path.join(cwd, 'InputData', 'SpatialData','ShapeFiles', 'transmissionPipeline.shp')\n",
    "\n",
    "fig, ax = fn.plotLocations(locFilePath, indexColumn='index')                                 \n",
    "fig, ax = fn.plotTransmission(esM, 'Pipelines (biogas)', transFilePath, loc0='cluster0', loc1='cluster1',\n",
    "                              fig=fig, ax=ax)"
   ]
  }
 ],
 "metadata": {
  "anaconda-cloud": {},
  "kernelspec": {
   "display_name": "Python 3",
   "language": "python",
   "name": "python3"
  },
  "language_info": {
   "codemirror_mode": {
    "name": "ipython",
    "version": 3
   },
   "file_extension": ".py",
   "mimetype": "text/x-python",
   "name": "python",
   "nbconvert_exporter": "python",
   "pygments_lexer": "ipython3",
   "version": "3.6.7"
  }
 },
 "nbformat": 4,
 "nbformat_minor": 1
}
