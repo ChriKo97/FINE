{
 "cells": [
  {
   "cell_type": "markdown",
   "metadata": {},
   "source": [
    "# Workflow for a 1node energy system\n",
    "\n",
    "In this application of the FINE framework, a multi-regional energy system is modeled and optimized.\n",
    "\n",
    "All classes which are available to the user are utilized and examples of the selection of different parameters within these classes are given.\n",
    "\n",
    "The workflow is structures as follows:\n",
    "1. Required packages are imported and the input data path is set\n",
    "2. An energy system model instance is created\n",
    "3. Commodity sources are added to the energy system model\n",
    "4. Commodity conversion components are added to the energy system model\n",
    "5. Commodity storages are added to the energy system model\n",
    "7. Commodity sinks are added to the energy system model\n",
    "8. The energy system model is optimized\n",
    "9. Selected optimization results are presented\n"
   ]
  },
  {
   "cell_type": "markdown",
   "metadata": {},
   "source": [
    "# 1. Import required packages and set input data path\n",
    "\n",
    "The FINE framework is imported which provides the required classes and functions for modeling the energy system."
   ]
  },
  {
   "cell_type": "code",
   "execution_count": 1,
   "metadata": {
    "scrolled": true
   },
   "outputs": [],
   "source": [
    "import FINE as fn\n",
    "from getData import getData\n",
    "\n",
    "# import pandas as pd\n",
    "import os\n",
    "\n",
    "cwd = os.getcwd()\n",
    "data = getData()\n",
    "\n",
    "%matplotlib inline\n",
    "%load_ext autoreload\n",
    "%autoreload 2"
   ]
  },
  {
   "cell_type": "markdown",
   "metadata": {},
   "source": [
    "# 2. Create an energy system model instance \n",
    "\n",
    "The structure of the energy system model is given by the considered locations, commodities, the number of time steps as well as the hours per time step.\n",
    "\n",
    "The commodities are specified by a unit (i.e. 'GW_electric', 'GW_H2lowerHeatingValue', 'Mio. t CO2/h') which can be given as an energy or mass unit per hour. Furthermore, the cost unit and length unit are specified."
   ]
  },
  {
   "cell_type": "code",
   "execution_count": 2,
   "metadata": {},
   "outputs": [],
   "source": [
    "locations = {\"GermanyRegion\"}\n",
    "commodityUnitDict = {\"electricity\": r\"GW$_{el}$\", \"hydrogen\": r\"GW$_{H_{2},LHV}$\"}\n",
    "commodities = {\"electricity\", \"hydrogen\"}\n",
    "numberOfTimeSteps = 8760\n",
    "hoursPerTimeStep = 1"
   ]
  },
  {
   "cell_type": "code",
   "execution_count": 3,
   "metadata": {},
   "outputs": [],
   "source": [
    "esM = fn.EnergySystemModel(\n",
    "    locations=locations,\n",
    "    commodities=commodities,\n",
    "    numberOfTimeSteps=8760,\n",
    "    commodityUnitsDict=commodityUnitDict,\n",
    "    hoursPerTimeStep=1,\n",
    "    costUnit=\"1e9 Euro\",\n",
    "    lengthUnit=\"km\",\n",
    "    verboseLogLevel=0,\n",
    ")"
   ]
  },
  {
   "cell_type": "markdown",
   "metadata": {},
   "source": [
    "# 3. Add commodity sources to the energy system model"
   ]
  },
  {
   "cell_type": "markdown",
   "metadata": {},
   "source": [
    "## 3.1. Electricity sources"
   ]
  },
  {
   "cell_type": "markdown",
   "metadata": {},
   "source": [
    "### Wind onshore"
   ]
  },
  {
   "cell_type": "code",
   "execution_count": 4,
   "metadata": {
    "scrolled": true
   },
   "outputs": [],
   "source": [
    "esM.add(\n",
    "    fn.Source(\n",
    "        esM=esM,\n",
    "        name=\"Wind (onshore)\",\n",
    "        commodity=\"electricity\",\n",
    "        hasCapacityVariable=True,\n",
    "        operationRateMax=data[\"Wind (onshore), operationRateMax\"],\n",
    "        capacityMax=data[\"Wind (onshore), capacityMax\"],\n",
    "        investPerCapacity=1.1,\n",
    "        opexPerCapacity=1.1 * 0.02,\n",
    "        interestRate=0.08,\n",
    "        economicLifetime=20,\n",
    "    )\n",
    ")"
   ]
  },
  {
   "cell_type": "markdown",
   "metadata": {},
   "source": [
    "Full load hours:"
   ]
  },
  {
   "cell_type": "code",
   "execution_count": 5,
   "metadata": {
    "tags": [
     "nbval-check-output"
    ]
   },
   "outputs": [
    {
     "data": {
      "text/plain": [
       "2300.4069071646272"
      ]
     },
     "execution_count": 5,
     "metadata": {},
     "output_type": "execute_result"
    }
   ],
   "source": [
    "data[\"Wind (onshore), operationRateMax\"].sum()"
   ]
  },
  {
   "cell_type": "markdown",
   "metadata": {},
   "source": [
    "# 4. Add conversion components to the energy system model"
   ]
  },
  {
   "cell_type": "markdown",
   "metadata": {},
   "source": [
    "### New combined cycly gas turbines for hydrogen"
   ]
  },
  {
   "cell_type": "code",
   "execution_count": 6,
   "metadata": {},
   "outputs": [],
   "source": [
    "esM.add(\n",
    "    fn.Conversion(\n",
    "        esM=esM,\n",
    "        name=\"New CCGT plants (hydrogen)\",\n",
    "        physicalUnit=r\"GW$_{el}$\",\n",
    "        commodityConversionFactors={\"electricity\": 1, \"hydrogen\": -1 / 0.6},\n",
    "        hasCapacityVariable=True,\n",
    "        investPerCapacity=0.7,\n",
    "        opexPerCapacity=0.021,\n",
    "        interestRate=0.08,\n",
    "        economicLifetime=33,\n",
    "    )\n",
    ")"
   ]
  },
  {
   "cell_type": "markdown",
   "metadata": {},
   "source": [
    "### Electrolyzers"
   ]
  },
  {
   "cell_type": "code",
   "execution_count": 7,
   "metadata": {},
   "outputs": [],
   "source": [
    "esM.add(\n",
    "    fn.Conversion(\n",
    "        esM=esM,\n",
    "        name=\"Electroylzers\",\n",
    "        physicalUnit=r\"GW$_{el}$\",\n",
    "        commodityConversionFactors={\"electricity\": -1, \"hydrogen\": 0.7},\n",
    "        hasCapacityVariable=True,\n",
    "        investPerCapacity=0.5,\n",
    "        opexPerCapacity=0.5 * 0.025,\n",
    "        interestRate=0.08,\n",
    "        economicLifetime=10,\n",
    "    )\n",
    ")"
   ]
  },
  {
   "cell_type": "markdown",
   "metadata": {},
   "source": [
    "# 5. Add commodity storages to the energy system model"
   ]
  },
  {
   "cell_type": "markdown",
   "metadata": {},
   "source": [
    "## 5.1. Electricity storage"
   ]
  },
  {
   "cell_type": "markdown",
   "metadata": {},
   "source": [
    "### Lithium ion batteries\n",
    "\n",
    "The self discharge of a lithium ion battery is here described as 3% per month. The self discharge per hours is obtained using the equation (1-$\\text{selfDischarge}_\\text{hour})^{30*24\\text{h}} = 1-\\text{selfDischarge}_\\text{month}$."
   ]
  },
  {
   "cell_type": "code",
   "execution_count": 8,
   "metadata": {},
   "outputs": [],
   "source": [
    "esM.add(\n",
    "    fn.Storage(\n",
    "        esM=esM,\n",
    "        name=\"Li-ion batteries\",\n",
    "        commodity=\"electricity\",\n",
    "        hasCapacityVariable=True,\n",
    "        chargeEfficiency=0.95,\n",
    "        cyclicLifetime=10000,\n",
    "        dischargeEfficiency=0.95,\n",
    "        selfDischarge=1 - (1 - 0.03) ** (1 / (30 * 24)),\n",
    "        chargeRate=1,\n",
    "        dischargeRate=1,\n",
    "        doPreciseTsaModeling=False,\n",
    "        investPerCapacity=0.151,\n",
    "        opexPerCapacity=0.002,\n",
    "        interestRate=0.08,\n",
    "        economicLifetime=22,\n",
    "    )\n",
    ")"
   ]
  },
  {
   "cell_type": "markdown",
   "metadata": {},
   "source": [
    "## 5.2. Hydrogen storage"
   ]
  },
  {
   "cell_type": "markdown",
   "metadata": {},
   "source": [
    "### Hydrogen filled salt caverns\n",
    "The maximum capacity is here obtained by: dividing the given capacity (which is given for methane) by the lower heating value of methane and then multiplying it with the lower heating value of hydrogen."
   ]
  },
  {
   "cell_type": "code",
   "execution_count": 9,
   "metadata": {},
   "outputs": [],
   "source": [
    "esM.add(\n",
    "    fn.Storage(\n",
    "        esM=esM,\n",
    "        name=\"Salt caverns (hydrogen)\",\n",
    "        commodity=\"hydrogen\",\n",
    "        hasCapacityVariable=True,\n",
    "        capacityVariableDomain=\"continuous\",\n",
    "        capacityPerPlantUnit=133,\n",
    "        chargeRate=1 / 470.37,\n",
    "        dischargeRate=1 / 470.37,\n",
    "        sharedPotentialID=\"Existing salt caverns\",\n",
    "        stateOfChargeMin=0.33,\n",
    "        stateOfChargeMax=1,\n",
    "        capacityMax=data[\"Salt caverns (hydrogen), capacityMax\"],\n",
    "        investPerCapacity=0.00011,\n",
    "        opexPerCapacity=0.00057,\n",
    "        interestRate=0.08,\n",
    "        economicLifetime=30,\n",
    "    )\n",
    ")"
   ]
  },
  {
   "cell_type": "markdown",
   "metadata": {},
   "source": [
    "# 7. Add commodity sinks to the energy system model"
   ]
  },
  {
   "cell_type": "markdown",
   "metadata": {},
   "source": [
    "## 7.1. Electricity sinks"
   ]
  },
  {
   "cell_type": "markdown",
   "metadata": {},
   "source": [
    "### Electricity demand"
   ]
  },
  {
   "cell_type": "code",
   "execution_count": 10,
   "metadata": {},
   "outputs": [],
   "source": [
    "esM.add(\n",
    "    fn.Sink(\n",
    "        esM=esM,\n",
    "        name=\"Electricity demand\",\n",
    "        commodity=\"electricity\",\n",
    "        hasCapacityVariable=False,\n",
    "        operationRateFix=data[\"Electricity demand, operationRateFix\"],\n",
    "    )\n",
    ")"
   ]
  },
  {
   "cell_type": "markdown",
   "metadata": {},
   "source": [
    "## 7.2. Hydrogen sinks"
   ]
  },
  {
   "cell_type": "markdown",
   "metadata": {},
   "source": [
    "### Fuel cell electric vehicle (FCEV) demand"
   ]
  },
  {
   "cell_type": "code",
   "execution_count": 11,
   "metadata": {},
   "outputs": [],
   "source": [
    "FCEV_penetration = 0.5\n",
    "esM.add(\n",
    "    fn.Sink(\n",
    "        esM=esM,\n",
    "        name=\"Hydrogen demand\",\n",
    "        commodity=\"hydrogen\",\n",
    "        hasCapacityVariable=False,\n",
    "        operationRateFix=data[\"Hydrogen demand, operationRateFix\"] * FCEV_penetration,\n",
    "    )\n",
    ")"
   ]
  },
  {
   "cell_type": "markdown",
   "metadata": {},
   "source": [
    "# 8. Optimize energy system model"
   ]
  },
  {
   "cell_type": "markdown",
   "metadata": {},
   "source": [
    "All components are now added to the model and the model can be optimized. If the computational complexity of the optimization should be reduced, the time series data of the specified components can be clustered before the optimization and the parameter timeSeriesAggregation is set to True in the optimize call."
   ]
  },
  {
   "cell_type": "code",
   "execution_count": 12,
   "metadata": {},
   "outputs": [
    {
     "name": "stdout",
     "output_type": "stream",
     "text": [
      "\n",
      "Clustering time series data with 30 typical periods and 24 time steps per period...\n",
      "\t\t(0.3436 sec)\n",
      "\n"
     ]
    }
   ],
   "source": [
    "esM.cluster(numberOfTypicalPeriods=30)"
   ]
  },
  {
   "cell_type": "code",
   "execution_count": 13,
   "metadata": {
    "scrolled": true
   },
   "outputs": [
    {
     "name": "stdout",
     "output_type": "stream",
     "text": [
      "Time series aggregation specifications:\n",
      "Number of typical periods:30, number of time steps per period:24\n",
      "\n",
      "Declaring sets, variables and constraints for SourceSinkModel\n",
      "\tdeclaring sets... \n",
      "\tdeclaring variables... \n",
      "\tdeclaring constraints... \n",
      "\t\t(0.1426 sec)\n",
      "\n",
      "Declaring sets, variables and constraints for ConversionModel\n",
      "\tdeclaring sets... \n",
      "\tdeclaring variables... \n",
      "\tdeclaring constraints... \n",
      "\t\t(0.0373 sec)\n",
      "\n",
      "Declaring sets, variables and constraints for StorageModel\n",
      "\tdeclaring sets... \n",
      "\tdeclaring variables... \n",
      "\tdeclaring constraints... \n",
      "\t\t(0.3334 sec)\n",
      "\n",
      "Declaring shared potential constraint...\n",
      "\t\t(0.0000 sec)\n",
      "\n",
      "Declaring linked component quantity constraint...\n",
      "\t\t(0.0000 sec)\n",
      "\n",
      "Declaring commodity balances...\n",
      "\t\t(0.0760 sec)\n",
      "\n",
      "Declaring objective function...\n",
      "\t\t(0.1103 sec)\n",
      "\n",
      "GLPSOL: GLPK LP/MIP Solver, v4.65\n",
      "Parameter(s) specified in the command line:\n",
      " --write C:\\Users\\K7BCD~1.KNO\\AppData\\Local\\Temp\\tmp20hqs_jf.glpk.raw --wglp\n",
      " C:\\Users\\K7BCD~1.KNO\\AppData\\Local\\Temp\\tmpouv12hbt.glpk.glp --cpxlp C:\\Users\\K7BCD~1.KNO\\AppData\\Local\\Temp\\tmp3rygsb7g.pyomo.lp\n",
      "Reading problem data from 'C:\\Users\\K7BCD~1.KNO\\AppData\\Local\\Temp\\tmp3rygsb7g.pyomo.lp'...\n",
      "14500 rows, 8843 columns, 37962 non-zeros\n",
      "90317 lines were read\n",
      "Writing problem data to 'C:\\Users\\K7BCD~1.KNO\\AppData\\Local\\Temp\\tmpouv12hbt.glpk.glp'...\n",
      "73758 lines were written\n",
      "GLPK Simplex Optimizer, v4.65\n",
      "14500 rows, 8843 columns, 37962 non-zeros\n",
      "Preprocessing...\n",
      "12873 rows, 7337 columns, 34710 non-zeros\n",
      "Scaling...\n",
      " A: min|aij| =  2.126e-03  max|aij| =  4.545e+02  ratio =  2.138e+05\n",
      "GM: min|aij| =  2.576e-01  max|aij| =  3.883e+00  ratio =  1.508e+01\n",
      "EQ: min|aij| =  6.633e-02  max|aij| =  1.000e+00  ratio =  1.508e+01\n",
      "Constructing initial basis...\n",
      "Size of triangular part is 12238\n",
      "      0: obj =   0.000000000e+00 inf =   3.769e+03 (1531)\n",
      "   2816: obj =   1.740537213e+01 inf =   0.000e+00 (0) 23\n",
      "*  4928: obj =   9.659039992e+00 inf =   3.991e-13 (0) 19\n",
      "OPTIMAL LP SOLUTION FOUND\n",
      "Time used:   2.0 secs\n",
      "Memory used: 16.7 Mb (17513481 bytes)\n",
      "Writing basic solution to 'C:\\Users\\K7BCD~1.KNO\\AppData\\Local\\Temp\\tmp20hqs_jf.glpk.raw'...\n",
      "23352 lines were written\n",
      "\n",
      "Status: ok\n",
      "Termination condition: optimal\n",
      "Statistics: \n",
      "  Branch and bound: \n",
      "    Number of bounded subproblems: 0\n",
      "    Number of created subproblems: 0\n",
      "Error rc: 0\n",
      "Time: 2.3684935569763184\n",
      "\n",
      "\n",
      "Name: unknown\n",
      "Lower bound: 9.65903999183687\n",
      "Upper bound: 9.65903999183687\n",
      "Number of objectives: 1\n",
      "Number of constraints: 14500\n",
      "Number of variables: 8843\n",
      "Number of nonzeros: 37962\n",
      "Sense: minimize\n",
      "\n",
      "Solve time: 3.508617639541626 sec.\n",
      "\n",
      "Processing optimization output...\n",
      "for SourceSinkModel ...(0.4904sec)\n",
      "for ConversionModel ...(0.4674sec)\n"
     ]
    },
    {
     "name": "stderr",
     "output_type": "stream",
     "text": [
      " c:\\users\\k.knosala\\tools\\fine\\FINE\\storage.py:1087: UserWarning:Charge and discharge at the same time for component Salt caverns (hydrogen)\n"
     ]
    },
    {
     "name": "stdout",
     "output_type": "stream",
     "text": [
      "for StorageModel ...  (1.5430sec)\n",
      "\t\t(2.5008 sec)\n",
      "\n"
     ]
    }
   ],
   "source": [
    "esM.optimize(timeSeriesAggregation=True, solver=\"glpk\")"
   ]
  },
  {
   "cell_type": "markdown",
   "metadata": {},
   "source": [
    "# 9. Selected results output"
   ]
  },
  {
   "cell_type": "markdown",
   "metadata": {},
   "source": [
    "### Sources and Sink\n",
    "\n",
    "Show optimization summary"
   ]
  },
  {
   "cell_type": "code",
   "execution_count": 14,
   "metadata": {
    "tags": [
     "nbval-check-output"
    ]
   },
   "outputs": [
    {
     "data": {
      "text/html": [
       "<div>\n",
       "<style scoped>\n",
       "    .dataframe tbody tr th:only-of-type {\n",
       "        vertical-align: middle;\n",
       "    }\n",
       "\n",
       "    .dataframe tbody tr th {\n",
       "        vertical-align: top;\n",
       "    }\n",
       "\n",
       "    .dataframe thead th {\n",
       "        text-align: right;\n",
       "    }\n",
       "</style>\n",
       "<table border=\"1\" class=\"dataframe\">\n",
       "  <thead>\n",
       "    <tr style=\"text-align: right;\">\n",
       "      <th></th>\n",
       "      <th></th>\n",
       "      <th></th>\n",
       "      <th>GermanyRegion</th>\n",
       "    </tr>\n",
       "    <tr>\n",
       "      <th>Component</th>\n",
       "      <th>Property</th>\n",
       "      <th>Unit</th>\n",
       "      <th></th>\n",
       "    </tr>\n",
       "  </thead>\n",
       "  <tbody>\n",
       "    <tr>\n",
       "      <th rowspan=\"2\" valign=\"top\">Electricity demand</th>\n",
       "      <th rowspan=\"2\" valign=\"top\">operation</th>\n",
       "      <th>[GW$_{el}$*h/a]</th>\n",
       "      <td>30957.9</td>\n",
       "    </tr>\n",
       "    <tr>\n",
       "      <th>[GW$_{el}$*h]</th>\n",
       "      <td>30957.9</td>\n",
       "    </tr>\n",
       "    <tr>\n",
       "      <th rowspan=\"2\" valign=\"top\">Hydrogen demand</th>\n",
       "      <th rowspan=\"2\" valign=\"top\">operation</th>\n",
       "      <th>[GW$_{H_{2},LHV}$*h/a]</th>\n",
       "      <td>4765.07</td>\n",
       "    </tr>\n",
       "    <tr>\n",
       "      <th>[GW$_{H_{2},LHV}$*h]</th>\n",
       "      <td>4765.07</td>\n",
       "    </tr>\n",
       "    <tr>\n",
       "      <th rowspan=\"7\" valign=\"top\">Wind (onshore)</th>\n",
       "      <th>TAC</th>\n",
       "      <th>[1e9 Euro/a]</th>\n",
       "      <td>5.77465</td>\n",
       "    </tr>\n",
       "    <tr>\n",
       "      <th>capacity</th>\n",
       "      <th>[GW$_{el}$]</th>\n",
       "      <td>43.0824</td>\n",
       "    </tr>\n",
       "    <tr>\n",
       "      <th>capexCap</th>\n",
       "      <th>[1e9 Euro/a]</th>\n",
       "      <td>4.82684</td>\n",
       "    </tr>\n",
       "    <tr>\n",
       "      <th>invest</th>\n",
       "      <th>[1e9 Euro]</th>\n",
       "      <td>47.3906</td>\n",
       "    </tr>\n",
       "    <tr>\n",
       "      <th rowspan=\"2\" valign=\"top\">operation</th>\n",
       "      <th>[GW$_{el}$*h/a]</th>\n",
       "      <td>43583</td>\n",
       "    </tr>\n",
       "    <tr>\n",
       "      <th>[GW$_{el}$*h]</th>\n",
       "      <td>43583</td>\n",
       "    </tr>\n",
       "    <tr>\n",
       "      <th>opexCap</th>\n",
       "      <th>[1e9 Euro/a]</th>\n",
       "      <td>0.947813</td>\n",
       "    </tr>\n",
       "  </tbody>\n",
       "</table>\n",
       "</div>"
      ],
      "text/plain": [
       "                                                    GermanyRegion\n",
       "Component          Property  Unit                                \n",
       "Electricity demand operation [GW$_{el}$*h/a]              30957.9\n",
       "                             [GW$_{el}$*h]                30957.9\n",
       "Hydrogen demand    operation [GW$_{H_{2},LHV}$*h/a]       4765.07\n",
       "                             [GW$_{H_{2},LHV}$*h]         4765.07\n",
       "Wind (onshore)     TAC       [1e9 Euro/a]                 5.77465\n",
       "                   capacity  [GW$_{el}$]                  43.0824\n",
       "                   capexCap  [1e9 Euro/a]                 4.82684\n",
       "                   invest    [1e9 Euro]                   47.3906\n",
       "                   operation [GW$_{el}$*h/a]                43583\n",
       "                             [GW$_{el}$*h]                  43583\n",
       "                   opexCap   [1e9 Euro/a]                0.947813"
      ]
     },
     "execution_count": 14,
     "metadata": {},
     "output_type": "execute_result"
    }
   ],
   "source": [
    "esM.getOptimizationSummary(\"SourceSinkModel\", outputLevel=2)"
   ]
  },
  {
   "cell_type": "markdown",
   "metadata": {},
   "source": [
    "Plot operation time series (either one or two dimensional)"
   ]
  },
  {
   "cell_type": "code",
   "execution_count": 15,
   "metadata": {
    "tags": [
     "nbval-check-output"
    ]
   },
   "outputs": [
    {
     "data": {
      "image/png": "[encoded data removed]",
      "text/plain": [
       "<Figure size 864x288 with 1 Axes>"
      ]
     },
     "metadata": {
      "needs_background": "light"
     },
     "output_type": "display_data"
    }
   ],
   "source": [
    "fig, ax = fn.plotOperation(esM, \"Electricity demand\", \"GermanyRegion\")"
   ]
  },
  {
   "cell_type": "code",
   "execution_count": 16,
   "metadata": {
    "tags": [
     "nbval-check-output"
    ]
   },
   "outputs": [
    {
     "data": {
      "image/png": "[encoded data removed]",
      "text/plain": [
       "<Figure size 864x288 with 2 Axes>"
      ]
     },
     "metadata": {
      "needs_background": "light"
     },
     "output_type": "display_data"
    }
   ],
   "source": [
    "fig, ax = fn.plotOperationColorMap(esM, \"Electricity demand\", \"GermanyRegion\")"
   ]
  },
  {
   "cell_type": "markdown",
   "metadata": {},
   "source": [
    "### Conversion\n",
    "\n",
    "Show optimization summary"
   ]
  },
  {
   "cell_type": "code",
   "execution_count": 17,
   "metadata": {
    "tags": [
     "nbval-check-output"
    ]
   },
   "outputs": [
    {
     "data": {
      "text/html": [
       "<div>\n",
       "<style scoped>\n",
       "    .dataframe tbody tr th:only-of-type {\n",
       "        vertical-align: middle;\n",
       "    }\n",
       "\n",
       "    .dataframe tbody tr th {\n",
       "        vertical-align: top;\n",
       "    }\n",
       "\n",
       "    .dataframe thead th {\n",
       "        text-align: right;\n",
       "    }\n",
       "</style>\n",
       "<table border=\"1\" class=\"dataframe\">\n",
       "  <thead>\n",
       "    <tr style=\"text-align: right;\">\n",
       "      <th></th>\n",
       "      <th></th>\n",
       "      <th></th>\n",
       "      <th>GermanyRegion</th>\n",
       "    </tr>\n",
       "    <tr>\n",
       "      <th>Component</th>\n",
       "      <th>Property</th>\n",
       "      <th>Unit</th>\n",
       "      <th></th>\n",
       "    </tr>\n",
       "  </thead>\n",
       "  <tbody>\n",
       "    <tr>\n",
       "      <th rowspan=\"7\" valign=\"top\">Electroylzers</th>\n",
       "      <th>TAC</th>\n",
       "      <th>[1e9 Euro/a]</th>\n",
       "      <td>0.3547</td>\n",
       "    </tr>\n",
       "    <tr>\n",
       "      <th>capacity</th>\n",
       "      <th>[GW$_{el}$]</th>\n",
       "      <td>4.07632</td>\n",
       "    </tr>\n",
       "    <tr>\n",
       "      <th>capexCap</th>\n",
       "      <th>[1e9 Euro/a]</th>\n",
       "      <td>0.303746</td>\n",
       "    </tr>\n",
       "    <tr>\n",
       "      <th>invest</th>\n",
       "      <th>[1e9 Euro]</th>\n",
       "      <td>2.03816</td>\n",
       "    </tr>\n",
       "    <tr>\n",
       "      <th rowspan=\"2\" valign=\"top\">operation</th>\n",
       "      <th>[GW$_{el}$*h/a]</th>\n",
       "      <td>15573.7</td>\n",
       "    </tr>\n",
       "    <tr>\n",
       "      <th>[GW$_{el}$*h]</th>\n",
       "      <td>15573.7</td>\n",
       "    </tr>\n",
       "    <tr>\n",
       "      <th>opexCap</th>\n",
       "      <th>[1e9 Euro/a]</th>\n",
       "      <td>0.050954</td>\n",
       "    </tr>\n",
       "    <tr>\n",
       "      <th rowspan=\"7\" valign=\"top\">New CCGT plants (hydrogen)</th>\n",
       "      <th>TAC</th>\n",
       "      <th>[1e9 Euro/a]</th>\n",
       "      <td>0.126157</td>\n",
       "    </tr>\n",
       "    <tr>\n",
       "      <th>capacity</th>\n",
       "      <th>[GW$_{el}$]</th>\n",
       "      <td>1.54233</td>\n",
       "    </tr>\n",
       "    <tr>\n",
       "      <th>capexCap</th>\n",
       "      <th>[1e9 Euro/a]</th>\n",
       "      <td>0.0937679</td>\n",
       "    </tr>\n",
       "    <tr>\n",
       "      <th>invest</th>\n",
       "      <th>[1e9 Euro]</th>\n",
       "      <td>1.07963</td>\n",
       "    </tr>\n",
       "    <tr>\n",
       "      <th rowspan=\"2\" valign=\"top\">operation</th>\n",
       "      <th>[GW$_{el}$*h/a]</th>\n",
       "      <td>3681.93</td>\n",
       "    </tr>\n",
       "    <tr>\n",
       "      <th>[GW$_{el}$*h]</th>\n",
       "      <td>3681.93</td>\n",
       "    </tr>\n",
       "    <tr>\n",
       "      <th>opexCap</th>\n",
       "      <th>[1e9 Euro/a]</th>\n",
       "      <td>0.032389</td>\n",
       "    </tr>\n",
       "  </tbody>\n",
       "</table>\n",
       "</div>"
      ],
      "text/plain": [
       "                                                     GermanyRegion\n",
       "Component                  Property  Unit                         \n",
       "Electroylzers              TAC       [1e9 Euro/a]           0.3547\n",
       "                           capacity  [GW$_{el}$]           4.07632\n",
       "                           capexCap  [1e9 Euro/a]         0.303746\n",
       "                           invest    [1e9 Euro]            2.03816\n",
       "                           operation [GW$_{el}$*h/a]       15573.7\n",
       "                                     [GW$_{el}$*h]         15573.7\n",
       "                           opexCap   [1e9 Euro/a]         0.050954\n",
       "New CCGT plants (hydrogen) TAC       [1e9 Euro/a]         0.126157\n",
       "                           capacity  [GW$_{el}$]           1.54233\n",
       "                           capexCap  [1e9 Euro/a]        0.0937679\n",
       "                           invest    [1e9 Euro]            1.07963\n",
       "                           operation [GW$_{el}$*h/a]       3681.93\n",
       "                                     [GW$_{el}$*h]         3681.93\n",
       "                           opexCap   [1e9 Euro/a]         0.032389"
      ]
     },
     "execution_count": 17,
     "metadata": {},
     "output_type": "execute_result"
    }
   ],
   "source": [
    "esM.getOptimizationSummary(\"ConversionModel\", outputLevel=2)"
   ]
  },
  {
   "cell_type": "code",
   "execution_count": 18,
   "metadata": {
    "tags": [
     "nbval-check-output"
    ]
   },
   "outputs": [
    {
     "data": {
      "image/png": "[encoded data removed]",
      "text/plain": [
       "<Figure size 864x288 with 2 Axes>"
      ]
     },
     "metadata": {
      "needs_background": "light"
     },
     "output_type": "display_data"
    }
   ],
   "source": [
    "fig, ax = fn.plotOperationColorMap(esM, \"New CCGT plants (hydrogen)\", \"GermanyRegion\")"
   ]
  },
  {
   "cell_type": "markdown",
   "metadata": {},
   "source": [
    "### Storage\n",
    "\n",
    "Show optimization summary"
   ]
  },
  {
   "cell_type": "code",
   "execution_count": 19,
   "metadata": {
    "tags": [
     "nbval-check-output"
    ]
   },
   "outputs": [
    {
     "data": {
      "text/html": [
       "<div>\n",
       "<style scoped>\n",
       "    .dataframe tbody tr th:only-of-type {\n",
       "        vertical-align: middle;\n",
       "    }\n",
       "\n",
       "    .dataframe tbody tr th {\n",
       "        vertical-align: top;\n",
       "    }\n",
       "\n",
       "    .dataframe thead th {\n",
       "        text-align: right;\n",
       "    }\n",
       "</style>\n",
       "<table border=\"1\" class=\"dataframe\">\n",
       "  <thead>\n",
       "    <tr style=\"text-align: right;\">\n",
       "      <th></th>\n",
       "      <th></th>\n",
       "      <th></th>\n",
       "      <th>GermanyRegion</th>\n",
       "    </tr>\n",
       "    <tr>\n",
       "      <th>Component</th>\n",
       "      <th>Property</th>\n",
       "      <th>Unit</th>\n",
       "      <th></th>\n",
       "    </tr>\n",
       "  </thead>\n",
       "  <tbody>\n",
       "    <tr>\n",
       "      <th rowspan=\"9\" valign=\"top\">Li-ion batteries</th>\n",
       "      <th>TAC</th>\n",
       "      <th>[1e9 Euro/a]</th>\n",
       "      <td>2.68739</td>\n",
       "    </tr>\n",
       "    <tr>\n",
       "      <th>capacity</th>\n",
       "      <th>[GW$_{el}$*h]</th>\n",
       "      <td>159.936</td>\n",
       "    </tr>\n",
       "    <tr>\n",
       "      <th>capexCap</th>\n",
       "      <th>[1e9 Euro/a]</th>\n",
       "      <td>2.36751</td>\n",
       "    </tr>\n",
       "    <tr>\n",
       "      <th>invest</th>\n",
       "      <th>[1e9 Euro]</th>\n",
       "      <td>24.1504</td>\n",
       "    </tr>\n",
       "    <tr>\n",
       "      <th rowspan=\"2\" valign=\"top\">operationCharge</th>\n",
       "      <th>[GW$_{el}$*h/a]</th>\n",
       "      <td>7221.99</td>\n",
       "    </tr>\n",
       "    <tr>\n",
       "      <th>[GW$_{el}$*h]</th>\n",
       "      <td>7221.99</td>\n",
       "    </tr>\n",
       "    <tr>\n",
       "      <th rowspan=\"2\" valign=\"top\">operationDischarge</th>\n",
       "      <th>[GW$_{el}$*h/a]</th>\n",
       "      <td>6488.74</td>\n",
       "    </tr>\n",
       "    <tr>\n",
       "      <th>[GW$_{el}$*h]</th>\n",
       "      <td>6488.74</td>\n",
       "    </tr>\n",
       "    <tr>\n",
       "      <th>opexCap</th>\n",
       "      <th>[1e9 Euro/a]</th>\n",
       "      <td>0.319873</td>\n",
       "    </tr>\n",
       "    <tr>\n",
       "      <th rowspan=\"9\" valign=\"top\">Salt caverns (hydrogen)</th>\n",
       "      <th>TAC</th>\n",
       "      <th>[1e9 Euro/a]</th>\n",
       "      <td>0.716143</td>\n",
       "    </tr>\n",
       "    <tr>\n",
       "      <th>capacity</th>\n",
       "      <th>[GW$_{H_{2},LHV}$*h]</th>\n",
       "      <td>1235.22</td>\n",
       "    </tr>\n",
       "    <tr>\n",
       "      <th>capexCap</th>\n",
       "      <th>[1e9 Euro/a]</th>\n",
       "      <td>0.0120693</td>\n",
       "    </tr>\n",
       "    <tr>\n",
       "      <th>invest</th>\n",
       "      <th>[1e9 Euro]</th>\n",
       "      <td>0.135874</td>\n",
       "    </tr>\n",
       "    <tr>\n",
       "      <th rowspan=\"2\" valign=\"top\">operationCharge</th>\n",
       "      <th>[GW$_{H_{2},LHV}$*h/a]</th>\n",
       "      <td>9049</td>\n",
       "    </tr>\n",
       "    <tr>\n",
       "      <th>[GW$_{H_{2},LHV}$*h]</th>\n",
       "      <td>9049</td>\n",
       "    </tr>\n",
       "    <tr>\n",
       "      <th rowspan=\"2\" valign=\"top\">operationDischarge</th>\n",
       "      <th>[GW$_{H_{2},LHV}$*h/a]</th>\n",
       "      <td>9049</td>\n",
       "    </tr>\n",
       "    <tr>\n",
       "      <th>[GW$_{H_{2},LHV}$*h]</th>\n",
       "      <td>9049</td>\n",
       "    </tr>\n",
       "    <tr>\n",
       "      <th>opexCap</th>\n",
       "      <th>[1e9 Euro/a]</th>\n",
       "      <td>0.704073</td>\n",
       "    </tr>\n",
       "  </tbody>\n",
       "</table>\n",
       "</div>"
      ],
      "text/plain": [
       "                                                                  GermanyRegion\n",
       "Component               Property           Unit                                \n",
       "Li-ion batteries        TAC                [1e9 Euro/a]                 2.68739\n",
       "                        capacity           [GW$_{el}$*h]                159.936\n",
       "                        capexCap           [1e9 Euro/a]                 2.36751\n",
       "                        invest             [1e9 Euro]                   24.1504\n",
       "                        operationCharge    [GW$_{el}$*h/a]              7221.99\n",
       "                                           [GW$_{el}$*h]                7221.99\n",
       "                        operationDischarge [GW$_{el}$*h/a]              6488.74\n",
       "                                           [GW$_{el}$*h]                6488.74\n",
       "                        opexCap            [1e9 Euro/a]                0.319873\n",
       "Salt caverns (hydrogen) TAC                [1e9 Euro/a]                0.716143\n",
       "                        capacity           [GW$_{H_{2},LHV}$*h]         1235.22\n",
       "                        capexCap           [1e9 Euro/a]               0.0120693\n",
       "                        invest             [1e9 Euro]                  0.135874\n",
       "                        operationCharge    [GW$_{H_{2},LHV}$*h/a]          9049\n",
       "                                           [GW$_{H_{2},LHV}$*h]            9049\n",
       "                        operationDischarge [GW$_{H_{2},LHV}$*h/a]          9049\n",
       "                                           [GW$_{H_{2},LHV}$*h]            9049\n",
       "                        opexCap            [1e9 Euro/a]                0.704073"
      ]
     },
     "execution_count": 19,
     "metadata": {},
     "output_type": "execute_result"
    }
   ],
   "source": [
    "esM.getOptimizationSummary(\"StorageModel\", outputLevel=2)"
   ]
  },
  {
   "cell_type": "code",
   "execution_count": 20,
   "metadata": {
    "tags": [
     "nbval-check-output"
    ]
   },
   "outputs": [
    {
     "data": {
      "image/png": "[encoded data removed]",
      "text/plain": [
       "<Figure size 864x288 with 2 Axes>"
      ]
     },
     "metadata": {
      "needs_background": "light"
     },
     "output_type": "display_data"
    }
   ],
   "source": [
    "fig, ax = fn.plotOperationColorMap(\n",
    "    esM,\n",
    "    \"Li-ion batteries\",\n",
    "    \"GermanyRegion\",\n",
    "    variableName=\"stateOfChargeOperationVariablesOptimum\",\n",
    ")"
   ]
  },
  {
   "cell_type": "code",
   "execution_count": 21,
   "metadata": {
    "tags": [
     "nbval-check-output"
    ]
   },
   "outputs": [
    {
     "data": {
      "image/png": "[encoded data removed]",
      "text/plain": [
       "<Figure size 864x288 with 2 Axes>"
      ]
     },
     "metadata": {
      "needs_background": "light"
     },
     "output_type": "display_data"
    }
   ],
   "source": [
    "fig, ax = fn.plotOperationColorMap(\n",
    "    esM,\n",
    "    \"Salt caverns (hydrogen)\",\n",
    "    \"GermanyRegion\",\n",
    "    variableName=\"stateOfChargeOperationVariablesOptimum\",\n",
    ")"
   ]
  },
  {
   "cell_type": "code",
   "execution_count": null,
   "metadata": {},
   "outputs": [],
   "source": []
  }
 ],
 "metadata": {
  "anaconda-cloud": {},
  "jupytext": {
   "formats": "ipynb,py:percent"
  },
  "kernelspec": {
   "display_name": "Python [conda env:fine-dev-py36]",
   "language": "python",
   "name": "conda-env-fine-dev-py36-py"
  },
  "language_info": {
   "codemirror_mode": {
    "name": "ipython",
    "version": 3
   },
   "file_extension": ".py",
   "mimetype": "text/x-python",
   "name": "python",
   "nbconvert_exporter": "python",
   "pygments_lexer": "ipython3",
   "version": "3.6.12"
  }
 },
 "nbformat": 4,
 "nbformat_minor": 4
}
