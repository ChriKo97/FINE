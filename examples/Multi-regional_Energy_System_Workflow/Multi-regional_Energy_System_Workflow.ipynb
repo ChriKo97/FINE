{
 "cells": [
  {
   "cell_type": "markdown",
   "metadata": {},
   "source": [
    "# Workflow for a multi-regional energy system\n",
    "\n",
    "In this application of the FINE framework, a multi-regional energy system is modeled and optimized.\n",
    "\n",
    "All classes which are available to the user are utilized and examples of the selection of different parameters within these classes are given.\n",
    "\n",
    "The workflow is structures as follows:\n",
    "1. Required packages are imported and the input data path is set\n",
    "2. An energy system model instance is created\n",
    "3. Commodity sources are added to the energy system model\n",
    "4. Commodity conversion components are added to the energy system model\n",
    "5. Commodity storages are added to the energy system model\n",
    "6. Commodity transmission components are added to the energy system model\n",
    "7. Commodity sinks are added to the energy system model\n",
    "8. The energy system model is optimized\n",
    "9. Selected optimization results are presented\n"
   ]
  },
  {
   "cell_type": "markdown",
   "metadata": {},
   "source": [
    "# 1. Import required packages and set input data path\n",
    "\n",
    "The FINE framework is imported which provides the required classes and functions for modeling the energy system."
   ]
  },
  {
   "cell_type": "code",
   "execution_count": 1,
   "metadata": {},
   "outputs": [],
   "source": [
    "import FINE as fn\n",
    "import matplotlib.pyplot as plt\n",
    "from getData import getData\n",
    "import pandas as pd\n",
    "import os\n",
    "\n",
    "cwd = os.getcwd()\n",
    "data = getData()\n",
    "\n",
    "%matplotlib inline  \n",
    "%load_ext autoreload\n",
    "%autoreload 2"
   ]
  },
  {
   "cell_type": "markdown",
   "metadata": {},
   "source": [
    "# 2. Create an energy system model instance \n",
    "\n",
    "The structure of the energy system model is given by the considered locations, commodities, the number of time steps as well as the hours per time step.\n",
    "\n",
    "The commodities are specified by a unit (i.e. 'GW_electric', 'GW_H2lowerHeatingValue', 'Mio. t CO2/h') which can be given as an energy or mass unit per hour. Furthermore, the cost unit and length unit are specified."
   ]
  },
  {
   "cell_type": "code",
   "execution_count": 2,
   "metadata": {},
   "outputs": [],
   "source": [
    "locations = {'cluster_0', 'cluster_1', 'cluster_2', 'cluster_3', 'cluster_4', 'cluster_5', 'cluster_6', 'cluster_7'}\n",
    "commodityUnitDict = {'electricity': r'GW$_{el}$', 'methane': r'GW$_{CH_{4},LHV}$', 'biogas': r'GW$_{biogas,LHV}$',\n",
    "                     'CO2': r'Mio. t$_{CO_2}$/h', 'hydrogen': r'GW$_{H_{2},LHV}$'}\n",
    "commodities = {'electricity', 'hydrogen', 'methane', 'biogas', 'CO2'}\n",
    "numberOfTimeSteps=8760\n",
    "hoursPerTimeStep=1"
   ]
  },
  {
   "cell_type": "code",
   "execution_count": 3,
   "metadata": {},
   "outputs": [],
   "source": [
    "esM = fn.EnergySystemModel(locations=locations, commodities=commodities, numberOfTimeSteps=8760,\n",
    "                           commodityUnitsDict=commodityUnitDict,\n",
    "                           hoursPerTimeStep=1, costUnit='1e9 Euro', lengthUnit='km', verboseLogLevel=0)"
   ]
  },
  {
   "cell_type": "code",
   "execution_count": 4,
   "metadata": {},
   "outputs": [],
   "source": [
    "CO2_reductionTarget = 1"
   ]
  },
  {
   "cell_type": "markdown",
   "metadata": {},
   "source": [
    "# 3. Add commodity sources to the energy system model"
   ]
  },
  {
   "cell_type": "markdown",
   "metadata": {},
   "source": [
    "## 3.1. Electricity sources"
   ]
  },
  {
   "cell_type": "markdown",
   "metadata": {},
   "source": [
    "### Wind onshore"
   ]
  },
  {
   "cell_type": "code",
   "execution_count": 5,
   "metadata": {},
   "outputs": [],
   "source": [
    "esM.add(fn.Source(esM=esM, name='Wind (onshore)', commodity='electricity', hasCapacityVariable=True,\n",
    "                  operationRateMax=data['Wind (onshore), operationRateMax'],\n",
    "                  capacityMax=data['Wind (onshore), capacityMax'],\n",
    "                  investPerCapacity=1.1, opexPerCapacity=1.1*0.02, interestRate=0.08,\n",
    "                  economicLifetime=20))"
   ]
  },
  {
   "cell_type": "markdown",
   "metadata": {},
   "source": [
    "Full load hours:"
   ]
  },
  {
   "cell_type": "code",
   "execution_count": 6,
   "metadata": {},
   "outputs": [
    {
     "data": {
      "text/plain": [
       "cluster_0    1572.003960\n",
       "cluster_1    2350.292663\n",
       "cluster_2    2374.507270\n",
       "cluster_3    2186.572278\n",
       "cluster_4    1572.650655\n",
       "cluster_5    1767.840650\n",
       "cluster_6    2719.564564\n",
       "cluster_7    1553.045964\n",
       "dtype: float64"
      ]
     },
     "execution_count": 6,
     "metadata": {},
     "output_type": "execute_result"
    }
   ],
   "source": [
    "data['Wind (onshore), operationRateMax'].sum()"
   ]
  },
  {
   "cell_type": "markdown",
   "metadata": {},
   "source": [
    "### Wind offshore"
   ]
  },
  {
   "cell_type": "code",
   "execution_count": 7,
   "metadata": {},
   "outputs": [],
   "source": [
    "esM.add(fn.Source(esM=esM, name='Wind (offshore)', commodity='electricity', hasCapacityVariable=True,\n",
    "                  operationRateMax=data['Wind (offshore), operationRateMax'],\n",
    "                  capacityMax=data['Wind (offshore), capacityMax'],\n",
    "                  investPerCapacity=2.3, opexPerCapacity=2.3*0.02, interestRate=0.08,\n",
    "                  economicLifetime=20))"
   ]
  },
  {
   "cell_type": "markdown",
   "metadata": {},
   "source": [
    "Full load hours:"
   ]
  },
  {
   "cell_type": "code",
   "execution_count": 8,
   "metadata": {},
   "outputs": [
    {
     "data": {
      "text/plain": [
       "cluster_0       0.000000\n",
       "cluster_1    4435.420314\n",
       "cluster_2    4301.655834\n",
       "cluster_3    3902.391858\n",
       "cluster_4       0.000000\n",
       "cluster_5       0.000000\n",
       "cluster_6    4609.508396\n",
       "cluster_7       0.000000\n",
       "dtype: float64"
      ]
     },
     "execution_count": 8,
     "metadata": {},
     "output_type": "execute_result"
    }
   ],
   "source": [
    "data['Wind (offshore), operationRateMax'].sum()"
   ]
  },
  {
   "cell_type": "markdown",
   "metadata": {},
   "source": [
    "### PV"
   ]
  },
  {
   "cell_type": "code",
   "execution_count": 9,
   "metadata": {},
   "outputs": [],
   "source": [
    "esM.add(fn.Source(esM=esM, name='PV', commodity='electricity', hasCapacityVariable=True,\n",
    "                  operationRateMax=data['PV, operationRateMax'], capacityMax=data['PV, capacityMax'],\n",
    "                  investPerCapacity=0.65, opexPerCapacity=0.65*0.02, interestRate=0.08,\n",
    "                  economicLifetime=25))"
   ]
  },
  {
   "cell_type": "markdown",
   "metadata": {},
   "source": [
    "Full load hours:"
   ]
  },
  {
   "cell_type": "code",
   "execution_count": 10,
   "metadata": {},
   "outputs": [
    {
     "data": {
      "text/plain": [
       "cluster_0    1113.216464\n",
       "cluster_1    1053.579422\n",
       "cluster_2    1058.005181\n",
       "cluster_3    1079.872237\n",
       "cluster_4    1140.407380\n",
       "cluster_5    1051.848141\n",
       "cluster_6    1069.843344\n",
       "cluster_7    1085.697466\n",
       "dtype: float64"
      ]
     },
     "execution_count": 10,
     "metadata": {},
     "output_type": "execute_result"
    }
   ],
   "source": [
    "data['PV, operationRateMax'].sum()"
   ]
  },
  {
   "cell_type": "markdown",
   "metadata": {},
   "source": [
    "### Exisisting run-of-river hydroelectricity plants"
   ]
  },
  {
   "cell_type": "code",
   "execution_count": 11,
   "metadata": {},
   "outputs": [],
   "source": [
    "esM.add(fn.Source(esM=esM, name='Existing run-of-river plants', commodity='electricity',\n",
    "                  hasCapacityVariable=True,\n",
    "                  operationRateFix=data['Existing run-of-river plants, operationRateFix'], tsaWeight=0.01,\n",
    "                  capacityFix=data['Existing run-of-river plants, capacityFix'],\n",
    "                  investPerCapacity=0, opexPerCapacity=0.208))"
   ]
  },
  {
   "cell_type": "markdown",
   "metadata": {},
   "source": [
    "## 3.2. Methane (natural gas and biogas)"
   ]
  },
  {
   "cell_type": "markdown",
   "metadata": {},
   "source": [
    "### Natural gas"
   ]
  },
  {
   "cell_type": "code",
   "execution_count": 12,
   "metadata": {},
   "outputs": [],
   "source": [
    "esM.add(fn.Source(esM=esM, name='Natural gas purchase', commodity='methane',\n",
    "                  hasCapacityVariable=False, commodityCost=0.0331*1e-3))"
   ]
  },
  {
   "cell_type": "markdown",
   "metadata": {},
   "source": [
    "### Biogas"
   ]
  },
  {
   "cell_type": "code",
   "execution_count": 13,
   "metadata": {},
   "outputs": [],
   "source": [
    "esM.add(fn.Source(esM=esM, name='Biogas purchase', commodity='biogas',\n",
    "                  operationRateMax=data['Biogas, operationRateMax'], hasCapacityVariable=False,\n",
    "                  commodityCost=0.05409*1e-3))"
   ]
  },
  {
   "cell_type": "markdown",
   "metadata": {},
   "source": [
    "# 4. Add conversion components to the energy system model"
   ]
  },
  {
   "cell_type": "markdown",
   "metadata": {},
   "source": [
    "### Combined cycle gas turbine plants"
   ]
  },
  {
   "cell_type": "code",
   "execution_count": 14,
   "metadata": {},
   "outputs": [],
   "source": [
    "esM.add(fn.Conversion(esM=esM, name='CCGT plants (methane)', physicalUnit=r'GW$_{el}$',\n",
    "                      commodityConversionFactors={'electricity':1, 'methane':-1/0.6, 'CO2':201*1e-6/0.6},\n",
    "                      hasCapacityVariable=True,\n",
    "                      investPerCapacity=0.65, opexPerCapacity=0.021, interestRate=0.08,\n",
    "                      economicLifetime=33))"
   ]
  },
  {
   "cell_type": "markdown",
   "metadata": {},
   "source": [
    "### New combined cycle gas turbine plants for biogas"
   ]
  },
  {
   "cell_type": "code",
   "execution_count": 15,
   "metadata": {},
   "outputs": [],
   "source": [
    "esM.add(fn.Conversion(esM=esM, name='New CCGT plants (biogas)', physicalUnit=r'GW$_{el}$',\n",
    "                      commodityConversionFactors={'electricity':1, 'biogas':-1/0.63},\n",
    "                      hasCapacityVariable=True, \n",
    "                      investPerCapacity=0.7, opexPerCapacity=0.021, interestRate=0.08,\n",
    "                      economicLifetime=33))"
   ]
  },
  {
   "cell_type": "markdown",
   "metadata": {},
   "source": [
    "### New combined cycly gas turbines for hydrogen"
   ]
  },
  {
   "cell_type": "code",
   "execution_count": 16,
   "metadata": {},
   "outputs": [],
   "source": [
    "esM.add(fn.Conversion(esM=esM, name='New CCGT plants (hydrogen)', physicalUnit=r'GW$_{el}$',\n",
    "                      commodityConversionFactors={'electricity':1, 'hydrogen':-1/0.63},\n",
    "                      hasCapacityVariable=True, \n",
    "                      investPerCapacity=0.7, opexPerCapacity=0.021, interestRate=0.08,\n",
    "                      economicLifetime=33))"
   ]
  },
  {
   "cell_type": "markdown",
   "metadata": {},
   "source": [
    "### Electrolyzers"
   ]
  },
  {
   "cell_type": "code",
   "execution_count": 17,
   "metadata": {},
   "outputs": [],
   "source": [
    "esM.add(fn.Conversion(esM=esM, name='Electrolyzer', physicalUnit=r'GW$_{el}$',\n",
    "                      commodityConversionFactors={'electricity':-1, 'hydrogen':0.7},\n",
    "                      hasCapacityVariable=True, \n",
    "                      investPerCapacity=0.5, opexPerCapacity=0.5*0.025, interestRate=0.08,\n",
    "                      economicLifetime=10))"
   ]
  },
  {
   "cell_type": "markdown",
   "metadata": {},
   "source": [
    "### rSOC"
   ]
  },
  {
   "cell_type": "code",
   "execution_count": 18,
   "metadata": {},
   "outputs": [],
   "source": [
    "capexRSOC=1.5\n",
    "\n",
    "esM.add(fn.Conversion(esM=esM, name='rSOEC', physicalUnit=r'GW$_{el}$', linkedConversionCapacityID='rSOC',\n",
    "                      commodityConversionFactors={'electricity':-1, 'hydrogen':0.6},\n",
    "                      hasCapacityVariable=True, \n",
    "                      investPerCapacity=capexRSOC/2, opexPerCapacity=capexRSOC*0.02/2, interestRate=0.08,\n",
    "                      economicLifetime=10))\n",
    "\n",
    "esM.add(fn.Conversion(esM=esM, name='rSOFC', physicalUnit=r'GW$_{el}$', linkedConversionCapacityID='rSOC',\n",
    "                      commodityConversionFactors={'electricity':1, 'hydrogen':-1/0.6},\n",
    "                      hasCapacityVariable=True, \n",
    "                      investPerCapacity=capexRSOC/2, opexPerCapacity=capexRSOC*0.02/2, interestRate=0.08,\n",
    "                      economicLifetime=10))"
   ]
  },
  {
   "cell_type": "markdown",
   "metadata": {},
   "source": [
    "# 5. Add commodity storages to the energy system model"
   ]
  },
  {
   "cell_type": "markdown",
   "metadata": {},
   "source": [
    "## 5.1. Electricity storage"
   ]
  },
  {
   "cell_type": "markdown",
   "metadata": {},
   "source": [
    "### Lithium ion batteries\n",
    "\n",
    "The self discharge of a lithium ion battery is here described as 3% per month. The self discharge per hours is obtained using the equation (1-$\\text{selfDischarge}_\\text{hour})^{30*24\\text{h}} = 1-\\text{selfDischarge}_\\text{month}$."
   ]
  },
  {
   "cell_type": "code",
   "execution_count": 19,
   "metadata": {},
   "outputs": [],
   "source": [
    "esM.add(fn.Storage(esM=esM, name='Li-ion batteries', commodity='electricity',\n",
    "                   hasCapacityVariable=True, chargeEfficiency=0.95,\n",
    "                   cyclicLifetime=10000, dischargeEfficiency=0.95, selfDischarge=1-(1-0.03)**(1/(30*24)),\n",
    "                   chargeRate=1, dischargeRate=1, doPreciseTsaModeling=False,\n",
    "                   investPerCapacity=0.151, opexPerCapacity=0.002, interestRate=0.08,\n",
    "                   economicLifetime=22))"
   ]
  },
  {
   "cell_type": "markdown",
   "metadata": {},
   "source": [
    "## 5.2. Hydrogen storage"
   ]
  },
  {
   "cell_type": "markdown",
   "metadata": {},
   "source": [
    "### Hydrogen filled salt caverns\n",
    "The maximum capacity is here obtained by: dividing the given capacity (which is given for methane) by the lower heating value of methane and then multiplying it with the lower heating value of hydrogen."
   ]
  },
  {
   "cell_type": "code",
   "execution_count": 20,
   "metadata": {},
   "outputs": [],
   "source": [
    "esM.add(fn.Storage(esM=esM, name='Salt caverns (hydrogen)', commodity='hydrogen',\n",
    "                   hasCapacityVariable=True, capacityVariableDomain='continuous',\n",
    "                   capacityPerPlantUnit=133,\n",
    "                   chargeRate=1/470.37, dischargeRate=1/470.37, sharedPotentialID='Existing salt caverns',\n",
    "                   stateOfChargeMin=0.33, stateOfChargeMax=1, capacityMax=data['Salt caverns (hydrogen), capacityMax'],\n",
    "                   investPerCapacity=0.00011, opexPerCapacity=0.00057, interestRate=0.08,\n",
    "                   economicLifetime=30))"
   ]
  },
  {
   "cell_type": "markdown",
   "metadata": {},
   "source": [
    "## 5.3. Methane storage"
   ]
  },
  {
   "cell_type": "markdown",
   "metadata": {},
   "source": [
    "### Methane filled salt caverns"
   ]
  },
  {
   "cell_type": "code",
   "execution_count": 21,
   "metadata": {},
   "outputs": [],
   "source": [
    "esM.add(fn.Storage(esM=esM, name='Salt caverns (biogas)', commodity='biogas',\n",
    "                   hasCapacityVariable=True, capacityVariableDomain='continuous',\n",
    "                   capacityPerPlantUnit=443,\n",
    "                   chargeRate=1/470.37, dischargeRate=1/470.37, sharedPotentialID='Existing salt caverns',\n",
    "                   stateOfChargeMin=0.33, stateOfChargeMax=1, capacityMax=data['Salt caverns (methane), capacityMax'],\n",
    "                   investPerCapacity=0.00004, opexPerCapacity=0.00001, interestRate=0.08,\n",
    "                   economicLifetime=30))"
   ]
  },
  {
   "cell_type": "markdown",
   "metadata": {},
   "source": [
    "## 5.4 Pumped hydro storage"
   ]
  },
  {
   "cell_type": "markdown",
   "metadata": {},
   "source": [
    "### Pumped hydro storage"
   ]
  },
  {
   "cell_type": "code",
   "execution_count": 22,
   "metadata": {},
   "outputs": [],
   "source": [
    "esM.add(fn.Storage(esM=esM, name='Pumped hydro storage', commodity='electricity',\n",
    "                   chargeEfficiency=0.88, dischargeEfficiency=0.88,\n",
    "                   hasCapacityVariable=True, selfDischarge=1-(1-0.00375)**(1/(30*24)),\n",
    "                   chargeRate=0.16, dischargeRate=0.12, capacityFix=data['Pumped hydro storage, capacityFix'],\n",
    "                   investPerCapacity=0, opexPerCapacity=0.000153))"
   ]
  },
  {
   "cell_type": "markdown",
   "metadata": {},
   "source": [
    "# 6. Add commodity transmission components to the energy system model"
   ]
  },
  {
   "cell_type": "markdown",
   "metadata": {},
   "source": [
    "## 6.1. Electricity transmission"
   ]
  },
  {
   "cell_type": "markdown",
   "metadata": {},
   "source": [
    "### AC cables"
   ]
  },
  {
   "cell_type": "markdown",
   "metadata": {},
   "source": [
    "esM.add(fn.LinearOptimalPowerFlow(esM=esM, name='AC cables', commodity='electricity',\n",
    "                                  hasCapacityVariable=True, capacityFix=data['AC cables, capacityFix'],\n",
    "                                  reactances=data['AC cables, reactances']))"
   ]
  },
  {
   "cell_type": "code",
   "execution_count": 23,
   "metadata": {},
   "outputs": [
    {
     "name": "stdout",
     "output_type": "stream",
     "text": [
      "The distances of a component are set to a normalized value of 1.\n"
     ]
    }
   ],
   "source": [
    "esM.add(fn.Transmission(esM=esM, name='AC cables', commodity='electricity',\n",
    "                                  hasCapacityVariable=True, capacityFix=data['AC cables, capacityFix']))"
   ]
  },
  {
   "cell_type": "markdown",
   "metadata": {},
   "source": [
    "### DC cables"
   ]
  },
  {
   "cell_type": "code",
   "execution_count": 24,
   "metadata": {},
   "outputs": [],
   "source": [
    "esM.add(fn.Transmission(esM=esM, name='DC cables', commodity='electricity', losses=data['DC cables, losses'],\n",
    "                        distances=data['DC cables, distances'],\n",
    "                        hasCapacityVariable=True, capacityFix=data['DC cables, capacityFix']))"
   ]
  },
  {
   "cell_type": "markdown",
   "metadata": {},
   "source": [
    "## 6.2 Methane transmission"
   ]
  },
  {
   "cell_type": "markdown",
   "metadata": {},
   "source": [
    "### Methane pipeline"
   ]
  },
  {
   "cell_type": "code",
   "execution_count": 25,
   "metadata": {
    "scrolled": true
   },
   "outputs": [],
   "source": [
    "esM.add(fn.Transmission(esM=esM, name='Pipelines (biogas)', commodity='biogas', \n",
    "                        distances=data['Pipelines, distances'],\n",
    "                        hasCapacityVariable=True, hasIsBuiltBinaryVariable=True, bigM=300,\n",
    "                        locationalEligibility=data['Pipelines, eligibility'],\n",
    "                        capacityMax=data['Pipelines, eligibility']*15, sharedPotentialID='pipelines',\n",
    "                        investPerCapacity=0.000037, investIfBuilt=0.000314,\n",
    "                        interestRate=0.08, economicLifetime=40))"
   ]
  },
  {
   "cell_type": "markdown",
   "metadata": {},
   "source": [
    "## 6.3 Hydrogen transmission"
   ]
  },
  {
   "cell_type": "markdown",
   "metadata": {},
   "source": [
    "### Hydrogen pipelines"
   ]
  },
  {
   "cell_type": "code",
   "execution_count": 26,
   "metadata": {
    "scrolled": true
   },
   "outputs": [],
   "source": [
    "esM.add(fn.Transmission(esM=esM, name='Pipelines (hydrogen)', commodity='hydrogen',\n",
    "                        distances=data['Pipelines, distances'],\n",
    "                        hasCapacityVariable=True, hasIsBuiltBinaryVariable=True, bigM=300,\n",
    "                        locationalEligibility=data['Pipelines, eligibility'],\n",
    "                        capacityMax=data['Pipelines, eligibility']*15, sharedPotentialID='pipelines',\n",
    "                        investPerCapacity=0.000177, investIfBuilt=0.00033,\n",
    "                        interestRate=0.08, economicLifetime=40))"
   ]
  },
  {
   "cell_type": "markdown",
   "metadata": {},
   "source": [
    "# 7. Add commodity sinks to the energy system model"
   ]
  },
  {
   "cell_type": "markdown",
   "metadata": {},
   "source": [
    "## 7.1. Electricity sinks"
   ]
  },
  {
   "cell_type": "markdown",
   "metadata": {},
   "source": [
    "### Electricity demand"
   ]
  },
  {
   "cell_type": "code",
   "execution_count": 27,
   "metadata": {},
   "outputs": [],
   "source": [
    "esM.add(fn.Sink(esM=esM, name='Electricity demand', commodity='electricity',\n",
    "                hasCapacityVariable=False, operationRateFix=data['Electricity demand, operationRateFix']))"
   ]
  },
  {
   "cell_type": "markdown",
   "metadata": {},
   "source": [
    "## 7.2. Hydrogen sinks"
   ]
  },
  {
   "cell_type": "markdown",
   "metadata": {},
   "source": [
    "### Fuel cell electric vehicle (FCEV) demand"
   ]
  },
  {
   "cell_type": "code",
   "execution_count": 28,
   "metadata": {},
   "outputs": [],
   "source": [
    "FCEV_penetration=0.5\n",
    "esM.add(fn.Sink(esM=esM, name='Hydrogen demand', commodity='hydrogen', hasCapacityVariable=False,\n",
    "                operationRateFix=data['Hydrogen demand, operationRateFix']*FCEV_penetration))"
   ]
  },
  {
   "cell_type": "markdown",
   "metadata": {},
   "source": [
    "## 7.3. CO2 sinks"
   ]
  },
  {
   "cell_type": "markdown",
   "metadata": {},
   "source": [
    "### CO2 exiting the system's boundary"
   ]
  },
  {
   "cell_type": "code",
   "execution_count": 29,
   "metadata": {},
   "outputs": [],
   "source": [
    "esM.add(fn.Sink(esM=esM, name='CO2 to enviroment', commodity='CO2',\n",
    "                hasCapacityVariable=False, commodityLimitID='CO2 limit', yearlyLimit=366*(1-CO2_reductionTarget)))"
   ]
  },
  {
   "cell_type": "markdown",
   "metadata": {},
   "source": [
    "All components are now added to the model and the model can be optimized. If the computational complexity of the optimization should be reduced, the time series data of the specified components can be clustered before the optimization and the parameter timeSeriesAggregation is set to True in the optimize call."
   ]
  },
  {
   "cell_type": "markdown",
   "metadata": {},
   "source": [
    "# 8 Temporal Aggregation"
   ]
  },
  {
   "cell_type": "code",
   "execution_count": 30,
   "metadata": {},
   "outputs": [
    {
     "name": "stdout",
     "output_type": "stream",
     "text": [
      "\n",
      "Clustering time series data with 7 typical periods and 24 time steps per period...\n",
      "\t\t(1.5251 sec)\n",
      "\n"
     ]
    },
    {
     "name": "stderr",
     "output_type": "stream",
     "text": [
      " C:\\Users\\s.patil\\Anaconda3\\envs\\europeanmodel\\lib\\site-packages\\tsam\\timeseriesaggregation.py:982: UserWarning:Something went wrong: At least one maximal value of the aggregated time series exceeds the maximal value the input time series\n"
     ]
    }
   ],
   "source": [
    "esM.aggregateTemporally(numberOfTypicalPeriods=7)"
   ]
  },
  {
   "cell_type": "markdown",
   "metadata": {},
   "source": [
    "### Optimization"
   ]
  },
  {
   "cell_type": "code",
   "execution_count": 31,
   "metadata": {
    "scrolled": true
   },
   "outputs": [
    {
     "name": "stdout",
     "output_type": "stream",
     "text": [
      "Time series aggregation specifications:\n",
      "Number of typical periods:7, number of time steps per period:24\n",
      "\n",
      "Declaring sets, variables and constraints for SourceSinkModel\n",
      "\tdeclaring sets... \n",
      "\tdeclaring variables... \n",
      "\tdeclaring constraints... \n",
      "\t\t(0.8874 sec)\n",
      "\n",
      "Declaring sets, variables and constraints for ConversionModel\n",
      "\tdeclaring sets... \n",
      "\tdeclaring variables... \n",
      "\tdeclaring constraints... \n",
      "\t\t(0.4447 sec)\n",
      "\n",
      "Declaring sets, variables and constraints for StorageModel\n",
      "\tdeclaring sets... \n",
      "\tdeclaring variables... \n",
      "\tdeclaring constraints... \n",
      "\t\t(2.7482 sec)\n",
      "\n",
      "Declaring sets, variables and constraints for TransmissionModel\n",
      "\tdeclaring sets... \n",
      "\tdeclaring variables... \n",
      "\tdeclaring constraints... \n",
      "\t\t(0.5919 sec)\n",
      "\n",
      "Declaring shared potential constraint...\n",
      "\t\t(0.0035 sec)\n",
      "\n",
      "Declaring linked component quantity constraint...\n",
      "\t\t(0.0000 sec)\n",
      "\n",
      "Declaring commodity balances...\n",
      "\t\t(1.2291 sec)\n",
      "\n",
      "Declaring objective function...\n",
      "\t\t(0.4563 sec)\n",
      "\n",
      "Either solver not selected or specified solver not available.gurobi is set as solver.\n",
      "Using license file C:\\Users\\s.patil\\gurobi.lic\n",
      "Academic license - for non-commercial use only\n",
      "Read LP format model from file C:\\Users\\S9CFE~1.PAT\\AppData\\Local\\Temp\\tmp1huz_oq6.pyomo.lp\n",
      "Reading time = 0.58 seconds\n",
      "x96946: 85942 rows, 55618 columns, 264787 nonzeros\n",
      "Changed value of parameter QCPDual to 1\n",
      "   Prev: 0  Min: 0  Max: 1  Default: 0\n",
      "Changed value of parameter Threads to 3\n",
      "   Prev: 0  Min: 0  Max: 1024  Default: 0\n",
      "Parameter logfile unchanged\n",
      "   Value:   Default: \n",
      "Changed value of parameter OptimalityTol to 0.001\n",
      "   Prev: 1e-06  Min: 1e-09  Max: 0.01  Default: 1e-06\n",
      "Changed value of parameter method to 2\n",
      "   Prev: -1  Min: -1  Max: 5  Default: -1\n",
      "Changed value of parameter cuts to 0\n",
      "   Prev: -1  Min: -1  Max: 3  Default: -1\n",
      "Gurobi Optimizer version 9.0.1 build v9.0.1rc0 (win64)\n",
      "Optimize a model with 85942 rows, 55618 columns and 264787 nonzeros\n",
      "Model fingerprint: 0x6be83201\n",
      "Variable types: 55566 continuous, 52 integer (52 binary)\n",
      "Coefficient statistics:\n",
      "  Matrix range     [2e-06, 5e+02]\n",
      "  Objective range  [1e-05, 3e-01]\n",
      "  Bounds range     [1e+00, 1e+05]\n",
      "  RHS range        [4e-02, 3e+01]\n",
      "Presolve removed 26139 rows and 15143 columns\n",
      "Presolve time: 0.63s\n",
      "Presolved: 59803 rows, 40475 columns, 207390 nonzeros\n",
      "Variable types: 40449 continuous, 26 integer (26 binary)\n",
      "Root barrier log...\n",
      "\n",
      "Ordering time: 1.17s\n",
      "\n",
      "Barrier statistics:\n",
      " Dense cols : 188\n",
      " Free vars  : 1288\n",
      " AA' NZ     : 1.230e+06\n",
      " Factor NZ  : 6.586e+06 (roughly 100 MBytes of memory)\n",
      " Factor Ops : 3.173e+09 (less than 1 second per iteration)\n",
      " Threads    : 3\n",
      "\n",
      "                  Objective                Residual\n",
      "Iter       Primal          Dual         Primal    Dual     Compl     Time\n",
      "   0   2.78674159e+05 -2.24194221e+06  3.17e+05 3.87e-03  2.17e+03     3s\n",
      "   1   2.59570369e+05 -2.15614669e+06  2.20e+05 2.00e-01  1.41e+03     3s\n",
      "   2   1.86684134e+05 -1.96135838e+06  1.51e+05 1.07e-01  9.48e+02     3s\n",
      "   3   8.46423238e+04 -1.50686486e+06  4.76e+04 3.79e-02  3.31e+02     3s\n",
      "   4   2.80234249e+04 -6.85922647e+05  2.79e+03 1.83e-03  3.64e+01     3s\n",
      "   5   1.91653046e+04 -2.13723619e+05  9.66e+01 6.54e-04  1.06e+01     4s\n",
      "   6   6.99044164e+03 -1.63349490e+05  1.83e+01 3.27e-04  3.13e+00     4s\n",
      "   7   4.11506465e+03 -6.79879556e+04  7.45e+00 1.22e-04  1.16e+00     4s\n",
      "   8   1.51308517e+03 -1.59889366e+04  1.22e+00 5.55e-04  2.00e-01     4s\n",
      "   9   5.57271886e+02 -2.99965692e+03  1.98e-01 2.16e-04  3.33e-02     4s\n",
      "  10   2.69643491e+02 -6.17100408e+02  4.71e-02 1.88e-04  7.79e-03     5s\n",
      "  11   1.57440697e+02 -2.89568051e+02  1.58e-02 9.04e-05  3.84e-03     5s\n",
      "  12   9.08052671e+01 -1.03357712e+02  3.99e-03 4.11e-05  1.65e-03     5s\n",
      "  13   7.81974606e+01 -3.59076717e+01  2.39e-03 2.34e-05  9.71e-04     5s\n",
      "  14   6.99934488e+01 -3.06365807e+00  1.43e-03 1.49e-05  6.21e-04     5s\n",
      "  15   6.54405007e+01  2.14959387e+01  1.01e-03 8.14e-06  3.74e-04     6s\n",
      "  16   6.24298144e+01  3.58210054e+01  7.40e-04 4.40e-06  2.26e-04     6s\n",
      "  17   5.66996402e+01  4.27718670e+01  2.13e-04 2.47e-06  1.18e-04     6s\n",
      "  18   5.46325910e+01  4.67867510e+01  8.00e-05 1.49e-06  6.66e-05     6s\n",
      "  19   5.39589168e+01  4.91055773e+01  4.89e-05 9.24e-07  4.12e-05     6s\n",
      "  20   5.35018917e+01  5.02664664e+01  3.13e-05 6.15e-07  2.75e-05     7s\n",
      "  21   5.32079971e+01  5.09186394e+01  2.06e-05 4.40e-07  1.94e-05     7s\n",
      "  22   5.29013263e+01  5.14687105e+01  1.03e-05 2.94e-07  1.22e-05     7s\n",
      "  23   5.27459168e+01  5.20878831e+01  4.88e-06 1.23e-07  5.59e-06     7s\n",
      "  24   5.26427343e+01  5.24377278e+01  1.58e-06 6.97e-08  1.74e-06     7s\n",
      "  25   5.26144584e+01  5.24933594e+01  8.20e-07 4.80e-08  1.03e-06     8s\n",
      "  26   5.26021250e+01  5.25436472e+01  4.93e-07 2.24e-08  4.97e-07     8s\n",
      "  27   5.25962500e+01  5.25524232e+01  3.48e-07 1.72e-08  3.72e-07     8s\n",
      "  28   5.25931992e+01  5.25595348e+01  2.74e-07 1.29e-08  2.86e-07     8s\n",
      "  29   5.25892013e+01  5.25660007e+01  1.82e-07 9.17e-09  1.97e-07     9s\n",
      "  30   5.25868835e+01  5.25730227e+01  1.27e-07 5.46e-09  1.18e-07     9s\n",
      "  31   5.25843152e+01  5.25773016e+01  6.69e-08 2.82e-09  5.96e-08     9s\n",
      "  32   5.25822789e+01  5.25803694e+01  2.01e-08 6.72e-10  1.63e-08     9s\n",
      "  33   5.25818461e+01  5.25809595e+01  1.07e-08 2.94e-10  7.56e-09     9s\n",
      "  34   5.25816871e+01  5.25811994e+01  6.60e-09 1.41e-10  4.16e-09    10s\n",
      "  35   5.25815419e+01  5.25813356e+01  4.30e-09 6.12e-11  1.76e-09    10s\n",
      "  36   5.25815027e+01  5.25813877e+01  3.00e-09 1.94e-11  9.80e-10    10s\n",
      "  37   5.25814528e+01  5.25814066e+01  1.12e-09 4.49e-12  3.93e-10    10s\n",
      "  38   5.25814203e+01  5.25814125e+01  7.72e-10 1.17e-12  6.71e-11    10s\n",
      "  39   5.25814185e+01  5.25814138e+01  2.20e-08 2.45e-10  3.99e-11    11s\n",
      "  40   5.25814185e+01  5.25814137e+01  6.48e-08 4.41e-08  3.98e-11    11s\n",
      "  41   5.25814185e+01  5.25814137e+01  1.30e-07 4.41e-08  3.98e-11    11s\n",
      "  42   5.25814185e+01  5.25814137e+01  1.30e-07 4.41e-08  3.99e-11    11s\n",
      "\n",
      "Barrier solved model in 42 iterations and 11.40 seconds\n",
      "Optimal objective 5.25814185e+01\n",
      "\n",
      "\n",
      "Root crossover log...\n",
      "\n",
      "   16210 DPushes remaining with DInf 1.4109036e-02                11s\n",
      "       0 DPushes remaining with DInf 2.1063811e+09                14s\n",
      "\n",
      "Restart crossover...\n",
      "\n",
      "   16227 DPushes remaining with DInf 0.0000000e+00                14s\n",
      "    5283 DPushes remaining with DInf 0.0000000e+00                15s\n",
      "       0 DPushes remaining with DInf 2.9545781e+01                17s\n",
      "\n",
      "   14204 PPushes remaining with PInf 1.5510727e-01                17s\n",
      "       0 PPushes remaining with PInf 9.8639908e-05                19s\n",
      "\n",
      "  Push phase complete: Pinf 9.8639908e-05, Dinf 2.2132113e+01     19s\n",
      "\n",
      "\n",
      "Root simplex log...\n",
      "\n",
      "Iteration    Objective       Primal Inf.    Dual Inf.      Time\n",
      "   22166    5.2581448e+01   0.000000e+00   2.167126e+01     19s\n",
      "   22486    5.2581430e+01   0.000000e+00   0.000000e+00     19s\n",
      "   22486    5.2581430e+01   0.000000e+00   0.000000e+00     19s\n",
      "\n",
      "Root relaxation: objective 5.258143e+01, 22486 iterations, 18.47 seconds\n",
      "\n",
      "    Nodes    |    Current Node    |     Objective Bounds      |     Work\n",
      " Expl Unexpl |  Obj  Depth IntInf | Incumbent    BestBd   Gap | It/Node Time\n",
      "\n",
      "     0     0   52.58143    0    9          -   52.58143      -     -   19s\n",
      "H    0     0                      52.6586131   52.58143  0.15%     -   21s\n",
      "H    0     0                      52.6584492   52.58143  0.15%     -   21s\n",
      "     0     0     cutoff    0        52.65845   52.65845  0.00%     -  388s\n",
      "\n",
      "Explored 1 nodes (168800 simplex iterations) in 388.12 seconds\n",
      "Thread count was 3 (of 8 available processors)\n",
      "\n",
      "Solution count 1: 52.6584 \n",
      "\n",
      "Optimal solution found (tolerance 1.00e-04)\n",
      "Warning: max constraint violation (5.9330e-06) exceeds tolerance\n",
      "Best objective 5.265844918359e+01, best bound 5.265844918359e+01, gap 0.0000%\n",
      "\n",
      "Status: ok\n",
      "Return code: 0\n",
      "Message: Model was solved to optimality (subject to tolerances), and an optimal solution is available.\n",
      "Termination condition: optimal\n",
      "Termination message: Model was solved to optimality (subject to tolerances), and an optimal solution is available.\n",
      "Wall time: 388.1161003112793\n",
      "Error rc: 0\n",
      "Time: 389.45979142189026\n",
      "\n",
      "\n",
      "Name: x96946\n",
      "Lower bound: 52.65844918358857\n",
      "Upper bound: 52.65844918358857\n",
      "Number of objectives: 1\n",
      "Number of constraints: 85942\n",
      "Number of variables: 55618\n",
      "Number of binary variables: 52\n",
      "Number of integer variables: 52\n",
      "Number of continuous variables: 55566\n",
      "Number of nonzeros: 264787\n",
      "Sense: minimize\n",
      "\n",
      "Solve time: 397.3214726448059 sec.\n",
      "\n",
      "Processing optimization output...\n"
     ]
    },
    {
     "name": "stdout",
     "output_type": "stream",
     "text": [
      "for SourceSinkModel ...    (1.5166sec)\n",
      "for ConversionModel ...    (1.3688sec)\n"
     ]
    },
    {
     "name": "stderr",
     "output_type": "stream",
     "text": [
      " c:\\users\\s.patil\\documents\\code\\fine\\FINE\\storage.py:1087: UserWarning:Charge and discharge at the same time for component Li-ion batteries\n",
      " c:\\users\\s.patil\\documents\\code\\fine\\FINE\\storage.py:1087: UserWarning:Charge and discharge at the same time for component Salt caverns (hydrogen)\n",
      " c:\\users\\s.patil\\documents\\code\\fine\\FINE\\storage.py:1087: UserWarning:Charge and discharge at the same time for component Salt caverns (biogas)\n",
      " c:\\users\\s.patil\\documents\\code\\fine\\FINE\\storage.py:1087: UserWarning:Charge and discharge at the same time for component Pumped hydro storage\n"
     ]
    },
    {
     "name": "stdout",
     "output_type": "stream",
     "text": [
      "for StorageModel ...       (3.7550sec)\n",
      "for TransmissionModel ...  (3.7442sec)\n",
      "\t\t(10.3861 sec)\n",
      "\n"
     ]
    }
   ],
   "source": [
    "esM.optimize(timeSeriesAggregation=True, optimizationSpecs='OptimalityTol=1e-3 method=2 cuts=0')"
   ]
  },
  {
   "cell_type": "markdown",
   "metadata": {},
   "source": [
    "# 9. Selected results output\n",
    "\n",
    "Plot locations (GeoPandas required)"
   ]
  },
  {
   "cell_type": "code",
   "execution_count": 32,
   "metadata": {},
   "outputs": [],
   "source": [
    "# Import the geopandas package for plotting the locations\n",
    "import geopandas as gpd"
   ]
  },
  {
   "cell_type": "code",
   "execution_count": 33,
   "metadata": {},
   "outputs": [
    {
     "name": "stderr",
     "output_type": "stream",
     "text": [
      " c:\\users\\s.patil\\documents\\code\\fine\\FINE\\IOManagement\\standardIO.py:659: MatplotlibDeprecationWarning:The 's' parameter of annotate() has been renamed 'text' since Matplotlib 3.3; support for the old name will be dropped two minor releases later.\n",
      " c:\\users\\s.patil\\documents\\code\\fine\\FINE\\IOManagement\\standardIO.py:659: MatplotlibDeprecationWarning:The 's' parameter of annotate() has been renamed 'text' since Matplotlib 3.3; support for the old name will be dropped two minor releases later.\n",
      " c:\\users\\s.patil\\documents\\code\\fine\\FINE\\IOManagement\\standardIO.py:659: MatplotlibDeprecationWarning:The 's' parameter of annotate() has been renamed 'text' since Matplotlib 3.3; support for the old name will be dropped two minor releases later.\n",
      " c:\\users\\s.patil\\documents\\code\\fine\\FINE\\IOManagement\\standardIO.py:659: MatplotlibDeprecationWarning:The 's' parameter of annotate() has been renamed 'text' since Matplotlib 3.3; support for the old name will be dropped two minor releases later.\n",
      " c:\\users\\s.patil\\documents\\code\\fine\\FINE\\IOManagement\\standardIO.py:659: MatplotlibDeprecationWarning:The 's' parameter of annotate() has been renamed 'text' since Matplotlib 3.3; support for the old name will be dropped two minor releases later.\n",
      " c:\\users\\s.patil\\documents\\code\\fine\\FINE\\IOManagement\\standardIO.py:659: MatplotlibDeprecationWarning:The 's' parameter of annotate() has been renamed 'text' since Matplotlib 3.3; support for the old name will be dropped two minor releases later.\n",
      " c:\\users\\s.patil\\documents\\code\\fine\\FINE\\IOManagement\\standardIO.py:659: MatplotlibDeprecationWarning:The 's' parameter of annotate() has been renamed 'text' since Matplotlib 3.3; support for the old name will be dropped two minor releases later.\n",
      " c:\\users\\s.patil\\documents\\code\\fine\\FINE\\IOManagement\\standardIO.py:659: MatplotlibDeprecationWarning:The 's' parameter of annotate() has been renamed 'text' since Matplotlib 3.3; support for the old name will be dropped two minor releases later.\n"
     ]
    },
    {
     "data": {
      "image/png": "[encoded data removed]",
      "text/plain": [
       "<Figure size 432x432 with 1 Axes>"
      ]
     },
     "metadata": {
      "needs_background": "light"
     },
     "output_type": "display_data"
    }
   ],
   "source": [
    "locFilePath = os.path.join(cwd, 'InputData', 'SpatialData','ShapeFiles', 'clusteredRegions.shp')\n",
    "fig, ax = fn.plotLocations(locFilePath, plotLocNames=True, indexColumn='index')"
   ]
  },
  {
   "cell_type": "markdown",
   "metadata": {},
   "source": [
    "### Sources and Sink\n",
    "\n",
    "Show optimization summary"
   ]
  },
  {
   "cell_type": "code",
   "execution_count": 34,
   "metadata": {
    "scrolled": false
   },
   "outputs": [
    {
     "data": {
      "text/html": [
       "<div>\n",
       "<style scoped>\n",
       "    .dataframe tbody tr th:only-of-type {\n",
       "        vertical-align: middle;\n",
       "    }\n",
       "\n",
       "    .dataframe tbody tr th {\n",
       "        vertical-align: top;\n",
       "    }\n",
       "\n",
       "    .dataframe thead th {\n",
       "        text-align: right;\n",
       "    }\n",
       "</style>\n",
       "<table border=\"1\" class=\"dataframe\">\n",
       "  <thead>\n",
       "    <tr style=\"text-align: right;\">\n",
       "      <th></th>\n",
       "      <th></th>\n",
       "      <th></th>\n",
       "      <th>cluster_0</th>\n",
       "      <th>cluster_1</th>\n",
       "      <th>cluster_2</th>\n",
       "      <th>cluster_3</th>\n",
       "      <th>cluster_4</th>\n",
       "      <th>cluster_5</th>\n",
       "      <th>cluster_6</th>\n",
       "      <th>cluster_7</th>\n",
       "    </tr>\n",
       "    <tr>\n",
       "      <th>Component</th>\n",
       "      <th>Property</th>\n",
       "      <th>Unit</th>\n",
       "      <th></th>\n",
       "      <th></th>\n",
       "      <th></th>\n",
       "      <th></th>\n",
       "      <th></th>\n",
       "      <th></th>\n",
       "      <th></th>\n",
       "      <th></th>\n",
       "    </tr>\n",
       "  </thead>\n",
       "  <tbody>\n",
       "    <tr>\n",
       "      <th rowspan=\"4\" valign=\"top\">Biogas purchase</th>\n",
       "      <th>TAC</th>\n",
       "      <th>[1e9 Euro/a]</th>\n",
       "      <td>0.264223</td>\n",
       "      <td>0.253751</td>\n",
       "      <td>0.176749</td>\n",
       "      <td>0.244162</td>\n",
       "      <td>0.351453</td>\n",
       "      <td>0.155594</td>\n",
       "      <td>0.164873</td>\n",
       "      <td>0.0659848</td>\n",
       "    </tr>\n",
       "    <tr>\n",
       "      <th>commodCosts</th>\n",
       "      <th>[1e9 Euro/a]</th>\n",
       "      <td>0.264223</td>\n",
       "      <td>0.253751</td>\n",
       "      <td>0.176749</td>\n",
       "      <td>0.244162</td>\n",
       "      <td>0.351453</td>\n",
       "      <td>0.155594</td>\n",
       "      <td>0.164873</td>\n",
       "      <td>0.0659848</td>\n",
       "    </tr>\n",
       "    <tr>\n",
       "      <th rowspan=\"2\" valign=\"top\">operation</th>\n",
       "      <th>[GW$_{biogas,LHV}$*h/a]</th>\n",
       "      <td>4884.88</td>\n",
       "      <td>4691.28</td>\n",
       "      <td>3267.67</td>\n",
       "      <td>4514</td>\n",
       "      <td>6497.55</td>\n",
       "      <td>2876.58</td>\n",
       "      <td>3048.13</td>\n",
       "      <td>1219.91</td>\n",
       "    </tr>\n",
       "    <tr>\n",
       "      <th>[GW$_{biogas,LHV}$*h]</th>\n",
       "      <td>4884.88</td>\n",
       "      <td>4691.28</td>\n",
       "      <td>3267.67</td>\n",
       "      <td>4514</td>\n",
       "      <td>6497.55</td>\n",
       "      <td>2876.58</td>\n",
       "      <td>3048.13</td>\n",
       "      <td>1219.91</td>\n",
       "    </tr>\n",
       "    <tr>\n",
       "      <th rowspan=\"2\" valign=\"top\">Electricity demand</th>\n",
       "      <th rowspan=\"2\" valign=\"top\">operation</th>\n",
       "      <th>[GW$_{el}$*h/a]</th>\n",
       "      <td>133963</td>\n",
       "      <td>66116</td>\n",
       "      <td>124797</td>\n",
       "      <td>40441.2</td>\n",
       "      <td>77229.3</td>\n",
       "      <td>41413.4</td>\n",
       "      <td>28088.8</td>\n",
       "      <td>15851.1</td>\n",
       "    </tr>\n",
       "    <tr>\n",
       "      <th>[GW$_{el}$*h]</th>\n",
       "      <td>133963</td>\n",
       "      <td>66116</td>\n",
       "      <td>124797</td>\n",
       "      <td>40441.2</td>\n",
       "      <td>77229.3</td>\n",
       "      <td>41413.4</td>\n",
       "      <td>28088.8</td>\n",
       "      <td>15851.1</td>\n",
       "    </tr>\n",
       "    <tr>\n",
       "      <th rowspan=\"5\" valign=\"top\">Existing run-of-river plants</th>\n",
       "      <th>TAC</th>\n",
       "      <th>[1e9 Euro/a]</th>\n",
       "      <td>0.144316</td>\n",
       "      <td>0.0077909</td>\n",
       "      <td>0.0079499</td>\n",
       "      <td>0.00906289</td>\n",
       "      <td>0.556096</td>\n",
       "      <td>0</td>\n",
       "      <td>0</td>\n",
       "      <td>0.0674723</td>\n",
       "    </tr>\n",
       "    <tr>\n",
       "      <th>capacity</th>\n",
       "      <th>[GW$_{el}$]</th>\n",
       "      <td>0.693828</td>\n",
       "      <td>0.0374563</td>\n",
       "      <td>0.0382207</td>\n",
       "      <td>0.0435716</td>\n",
       "      <td>2.67354</td>\n",
       "      <td>NaN</td>\n",
       "      <td>NaN</td>\n",
       "      <td>0.324386</td>\n",
       "    </tr>\n",
       "    <tr>\n",
       "      <th rowspan=\"2\" valign=\"top\">operation</th>\n",
       "      <th>[GW$_{el}$*h/a]</th>\n",
       "      <td>3167.33</td>\n",
       "      <td>170.988</td>\n",
       "      <td>174.478</td>\n",
       "      <td>198.904</td>\n",
       "      <td>12204.7</td>\n",
       "      <td>NaN</td>\n",
       "      <td>NaN</td>\n",
       "      <td>1480.82</td>\n",
       "    </tr>\n",
       "    <tr>\n",
       "      <th>[GW$_{el}$*h]</th>\n",
       "      <td>3167.33</td>\n",
       "      <td>170.988</td>\n",
       "      <td>174.478</td>\n",
       "      <td>198.904</td>\n",
       "      <td>12204.7</td>\n",
       "      <td>NaN</td>\n",
       "      <td>NaN</td>\n",
       "      <td>1480.82</td>\n",
       "    </tr>\n",
       "    <tr>\n",
       "      <th>opexCap</th>\n",
       "      <th>[1e9 Euro/a]</th>\n",
       "      <td>0.144316</td>\n",
       "      <td>0.0077909</td>\n",
       "      <td>0.0079499</td>\n",
       "      <td>0.00906289</td>\n",
       "      <td>0.556096</td>\n",
       "      <td>NaN</td>\n",
       "      <td>NaN</td>\n",
       "      <td>0.0674723</td>\n",
       "    </tr>\n",
       "    <tr>\n",
       "      <th rowspan=\"2\" valign=\"top\">Hydrogen demand</th>\n",
       "      <th rowspan=\"2\" valign=\"top\">operation</th>\n",
       "      <th>[GW$_{H_{2},LHV}$*h/a]</th>\n",
       "      <td>15855.2</td>\n",
       "      <td>11007.1</td>\n",
       "      <td>16452.6</td>\n",
       "      <td>5264.13</td>\n",
       "      <td>10078.3</td>\n",
       "      <td>5747.42</td>\n",
       "      <td>3710.05</td>\n",
       "      <td>1453.12</td>\n",
       "    </tr>\n",
       "    <tr>\n",
       "      <th>[GW$_{H_{2},LHV}$*h]</th>\n",
       "      <td>15855.2</td>\n",
       "      <td>11007.1</td>\n",
       "      <td>16452.6</td>\n",
       "      <td>5264.13</td>\n",
       "      <td>10078.3</td>\n",
       "      <td>5747.42</td>\n",
       "      <td>3710.05</td>\n",
       "      <td>1453.12</td>\n",
       "    </tr>\n",
       "    <tr>\n",
       "      <th rowspan=\"7\" valign=\"top\">PV</th>\n",
       "      <th>TAC</th>\n",
       "      <th>[1e9 Euro/a]</th>\n",
       "      <td>3.09316</td>\n",
       "      <td>1.90997</td>\n",
       "      <td>2.49109</td>\n",
       "      <td>1.4497</td>\n",
       "      <td>2.19401</td>\n",
       "      <td>1.46977</td>\n",
       "      <td>0.933703</td>\n",
       "      <td>0.366282</td>\n",
       "    </tr>\n",
       "    <tr>\n",
       "      <th>capacity</th>\n",
       "      <th>[GW$_{el}$]</th>\n",
       "      <td>41.8611</td>\n",
       "      <td>25.8484</td>\n",
       "      <td>33.7129</td>\n",
       "      <td>19.6194</td>\n",
       "      <td>29.6925</td>\n",
       "      <td>19.891</td>\n",
       "      <td>12.6362</td>\n",
       "      <td>4.95704</td>\n",
       "    </tr>\n",
       "    <tr>\n",
       "      <th>capexCap</th>\n",
       "      <th>[1e9 Euro/a]</th>\n",
       "      <td>2.54897</td>\n",
       "      <td>1.57394</td>\n",
       "      <td>2.05282</td>\n",
       "      <td>1.19465</td>\n",
       "      <td>1.80801</td>\n",
       "      <td>1.21118</td>\n",
       "      <td>0.769433</td>\n",
       "      <td>0.30184</td>\n",
       "    </tr>\n",
       "    <tr>\n",
       "      <th>invest</th>\n",
       "      <th>[1e9 Euro]</th>\n",
       "      <td>27.2097</td>\n",
       "      <td>16.8014</td>\n",
       "      <td>21.9134</td>\n",
       "      <td>12.7526</td>\n",
       "      <td>19.3001</td>\n",
       "      <td>12.9291</td>\n",
       "      <td>8.21352</td>\n",
       "      <td>3.22208</td>\n",
       "    </tr>\n",
       "    <tr>\n",
       "      <th rowspan=\"2\" valign=\"top\">operation</th>\n",
       "      <th>[GW$_{el}$*h/a]</th>\n",
       "      <td>38289.5</td>\n",
       "      <td>26556.2</td>\n",
       "      <td>27269.8</td>\n",
       "      <td>19638.2</td>\n",
       "      <td>29839.7</td>\n",
       "      <td>20922.3</td>\n",
       "      <td>9413.69</td>\n",
       "      <td>5178.23</td>\n",
       "    </tr>\n",
       "    <tr>\n",
       "      <th>[GW$_{el}$*h]</th>\n",
       "      <td>38289.5</td>\n",
       "      <td>26556.2</td>\n",
       "      <td>27269.8</td>\n",
       "      <td>19638.2</td>\n",
       "      <td>29839.7</td>\n",
       "      <td>20922.3</td>\n",
       "      <td>9413.69</td>\n",
       "      <td>5178.23</td>\n",
       "    </tr>\n",
       "    <tr>\n",
       "      <th>opexCap</th>\n",
       "      <th>[1e9 Euro/a]</th>\n",
       "      <td>0.544194</td>\n",
       "      <td>0.336029</td>\n",
       "      <td>0.438268</td>\n",
       "      <td>0.255052</td>\n",
       "      <td>0.386002</td>\n",
       "      <td>0.258582</td>\n",
       "      <td>0.16427</td>\n",
       "      <td>0.0644416</td>\n",
       "    </tr>\n",
       "    <tr>\n",
       "      <th rowspan=\"7\" valign=\"top\">Wind (offshore)</th>\n",
       "      <th>TAC</th>\n",
       "      <th>[1e9 Euro/a]</th>\n",
       "      <td>0</td>\n",
       "      <td>1.12104</td>\n",
       "      <td>14.8538</td>\n",
       "      <td>1.68156</td>\n",
       "      <td>0</td>\n",
       "      <td>0</td>\n",
       "      <td>5.04468</td>\n",
       "      <td>0</td>\n",
       "    </tr>\n",
       "    <tr>\n",
       "      <th>capacity</th>\n",
       "      <th>[GW$_{el}$]</th>\n",
       "      <td>NaN</td>\n",
       "      <td>4</td>\n",
       "      <td>53</td>\n",
       "      <td>6</td>\n",
       "      <td>NaN</td>\n",
       "      <td>NaN</td>\n",
       "      <td>18</td>\n",
       "      <td>NaN</td>\n",
       "    </tr>\n",
       "    <tr>\n",
       "      <th>capexCap</th>\n",
       "      <th>[1e9 Euro/a]</th>\n",
       "      <td>NaN</td>\n",
       "      <td>0.93704</td>\n",
       "      <td>12.4158</td>\n",
       "      <td>1.40556</td>\n",
       "      <td>NaN</td>\n",
       "      <td>NaN</td>\n",
       "      <td>4.21668</td>\n",
       "      <td>NaN</td>\n",
       "    </tr>\n",
       "    <tr>\n",
       "      <th>invest</th>\n",
       "      <th>[1e9 Euro]</th>\n",
       "      <td>NaN</td>\n",
       "      <td>9.2</td>\n",
       "      <td>121.9</td>\n",
       "      <td>13.8</td>\n",
       "      <td>NaN</td>\n",
       "      <td>NaN</td>\n",
       "      <td>41.4</td>\n",
       "      <td>NaN</td>\n",
       "    </tr>\n",
       "    <tr>\n",
       "      <th rowspan=\"2\" valign=\"top\">operation</th>\n",
       "      <th>[GW$_{el}$*h/a]</th>\n",
       "      <td>NaN</td>\n",
       "      <td>12622.8</td>\n",
       "      <td>213919</td>\n",
       "      <td>21072.4</td>\n",
       "      <td>NaN</td>\n",
       "      <td>NaN</td>\n",
       "      <td>70694.7</td>\n",
       "      <td>NaN</td>\n",
       "    </tr>\n",
       "    <tr>\n",
       "      <th>[GW$_{el}$*h]</th>\n",
       "      <td>NaN</td>\n",
       "      <td>12622.8</td>\n",
       "      <td>213919</td>\n",
       "      <td>21072.4</td>\n",
       "      <td>NaN</td>\n",
       "      <td>NaN</td>\n",
       "      <td>70694.7</td>\n",
       "      <td>NaN</td>\n",
       "    </tr>\n",
       "    <tr>\n",
       "      <th>opexCap</th>\n",
       "      <th>[1e9 Euro/a]</th>\n",
       "      <td>NaN</td>\n",
       "      <td>0.184</td>\n",
       "      <td>2.438</td>\n",
       "      <td>0.276</td>\n",
       "      <td>NaN</td>\n",
       "      <td>NaN</td>\n",
       "      <td>0.828</td>\n",
       "      <td>NaN</td>\n",
       "    </tr>\n",
       "    <tr>\n",
       "      <th rowspan=\"7\" valign=\"top\">Wind (onshore)</th>\n",
       "      <th>TAC</th>\n",
       "      <th>[1e9 Euro/a]</th>\n",
       "      <td>0</td>\n",
       "      <td>0</td>\n",
       "      <td>1.98679</td>\n",
       "      <td>0</td>\n",
       "      <td>0.255038</td>\n",
       "      <td>0</td>\n",
       "      <td>3.68199</td>\n",
       "      <td>0</td>\n",
       "    </tr>\n",
       "    <tr>\n",
       "      <th>capacity</th>\n",
       "      <th>[GW$_{el}$]</th>\n",
       "      <td>0</td>\n",
       "      <td>0</td>\n",
       "      <td>14.8226</td>\n",
       "      <td>0</td>\n",
       "      <td>1.90274</td>\n",
       "      <td>0</td>\n",
       "      <td>27.4699</td>\n",
       "      <td>0</td>\n",
       "    </tr>\n",
       "    <tr>\n",
       "      <th>capexCap</th>\n",
       "      <th>[1e9 Euro/a]</th>\n",
       "      <td>0</td>\n",
       "      <td>0</td>\n",
       "      <td>1.66069</td>\n",
       "      <td>0</td>\n",
       "      <td>0.213178</td>\n",
       "      <td>0</td>\n",
       "      <td>3.07765</td>\n",
       "      <td>0</td>\n",
       "    </tr>\n",
       "    <tr>\n",
       "      <th>invest</th>\n",
       "      <th>[1e9 Euro]</th>\n",
       "      <td>0</td>\n",
       "      <td>0</td>\n",
       "      <td>16.3049</td>\n",
       "      <td>0</td>\n",
       "      <td>2.09301</td>\n",
       "      <td>0</td>\n",
       "      <td>30.2168</td>\n",
       "      <td>0</td>\n",
       "    </tr>\n",
       "    <tr>\n",
       "      <th rowspan=\"2\" valign=\"top\">operation</th>\n",
       "      <th>[GW$_{el}$*h/a]</th>\n",
       "      <td>0</td>\n",
       "      <td>0</td>\n",
       "      <td>34138.2</td>\n",
       "      <td>0</td>\n",
       "      <td>2283.02</td>\n",
       "      <td>0</td>\n",
       "      <td>70706.1</td>\n",
       "      <td>0</td>\n",
       "    </tr>\n",
       "    <tr>\n",
       "      <th>[GW$_{el}$*h]</th>\n",
       "      <td>0</td>\n",
       "      <td>0</td>\n",
       "      <td>34138.2</td>\n",
       "      <td>0</td>\n",
       "      <td>2283.02</td>\n",
       "      <td>0</td>\n",
       "      <td>70706.1</td>\n",
       "      <td>0</td>\n",
       "    </tr>\n",
       "    <tr>\n",
       "      <th>opexCap</th>\n",
       "      <th>[1e9 Euro/a]</th>\n",
       "      <td>0</td>\n",
       "      <td>0</td>\n",
       "      <td>0.326098</td>\n",
       "      <td>0</td>\n",
       "      <td>0.0418602</td>\n",
       "      <td>0</td>\n",
       "      <td>0.604337</td>\n",
       "      <td>0</td>\n",
       "    </tr>\n",
       "  </tbody>\n",
       "</table>\n",
       "</div>"
      ],
      "text/plain": [
       "                                                                 cluster_0  \\\n",
       "Component                    Property    Unit                                \n",
       "Biogas purchase              TAC         [1e9 Euro/a]             0.264223   \n",
       "                             commodCosts [1e9 Euro/a]             0.264223   \n",
       "                             operation   [GW$_{biogas,LHV}$*h/a]   4884.88   \n",
       "                                         [GW$_{biogas,LHV}$*h]     4884.88   \n",
       "Electricity demand           operation   [GW$_{el}$*h/a]            133963   \n",
       "                                         [GW$_{el}$*h]              133963   \n",
       "Existing run-of-river plants TAC         [1e9 Euro/a]             0.144316   \n",
       "                             capacity    [GW$_{el}$]              0.693828   \n",
       "                             operation   [GW$_{el}$*h/a]           3167.33   \n",
       "                                         [GW$_{el}$*h]             3167.33   \n",
       "                             opexCap     [1e9 Euro/a]             0.144316   \n",
       "Hydrogen demand              operation   [GW$_{H_{2},LHV}$*h/a]    15855.2   \n",
       "                                         [GW$_{H_{2},LHV}$*h]      15855.2   \n",
       "PV                           TAC         [1e9 Euro/a]              3.09316   \n",
       "                             capacity    [GW$_{el}$]               41.8611   \n",
       "                             capexCap    [1e9 Euro/a]              2.54897   \n",
       "                             invest      [1e9 Euro]                27.2097   \n",
       "                             operation   [GW$_{el}$*h/a]           38289.5   \n",
       "                                         [GW$_{el}$*h]             38289.5   \n",
       "                             opexCap     [1e9 Euro/a]             0.544194   \n",
       "Wind (offshore)              TAC         [1e9 Euro/a]                    0   \n",
       "                             capacity    [GW$_{el}$]                   NaN   \n",
       "                             capexCap    [1e9 Euro/a]                  NaN   \n",
       "                             invest      [1e9 Euro]                    NaN   \n",
       "                             operation   [GW$_{el}$*h/a]               NaN   \n",
       "                                         [GW$_{el}$*h]                 NaN   \n",
       "                             opexCap     [1e9 Euro/a]                  NaN   \n",
       "Wind (onshore)               TAC         [1e9 Euro/a]                    0   \n",
       "                             capacity    [GW$_{el}$]                     0   \n",
       "                             capexCap    [1e9 Euro/a]                    0   \n",
       "                             invest      [1e9 Euro]                      0   \n",
       "                             operation   [GW$_{el}$*h/a]                 0   \n",
       "                                         [GW$_{el}$*h]                   0   \n",
       "                             opexCap     [1e9 Euro/a]                    0   \n",
       "\n",
       "                                                                  cluster_1  \\\n",
       "Component                    Property    Unit                                 \n",
       "Biogas purchase              TAC         [1e9 Euro/a]              0.253751   \n",
       "                             commodCosts [1e9 Euro/a]              0.253751   \n",
       "                             operation   [GW$_{biogas,LHV}$*h/a]    4691.28   \n",
       "                                         [GW$_{biogas,LHV}$*h]      4691.28   \n",
       "Electricity demand           operation   [GW$_{el}$*h/a]              66116   \n",
       "                                         [GW$_{el}$*h]                66116   \n",
       "Existing run-of-river plants TAC         [1e9 Euro/a]             0.0077909   \n",
       "                             capacity    [GW$_{el}$]              0.0374563   \n",
       "                             operation   [GW$_{el}$*h/a]            170.988   \n",
       "                                         [GW$_{el}$*h]              170.988   \n",
       "                             opexCap     [1e9 Euro/a]             0.0077909   \n",
       "Hydrogen demand              operation   [GW$_{H_{2},LHV}$*h/a]     11007.1   \n",
       "                                         [GW$_{H_{2},LHV}$*h]       11007.1   \n",
       "PV                           TAC         [1e9 Euro/a]               1.90997   \n",
       "                             capacity    [GW$_{el}$]                25.8484   \n",
       "                             capexCap    [1e9 Euro/a]               1.57394   \n",
       "                             invest      [1e9 Euro]                 16.8014   \n",
       "                             operation   [GW$_{el}$*h/a]            26556.2   \n",
       "                                         [GW$_{el}$*h]              26556.2   \n",
       "                             opexCap     [1e9 Euro/a]              0.336029   \n",
       "Wind (offshore)              TAC         [1e9 Euro/a]               1.12104   \n",
       "                             capacity    [GW$_{el}$]                      4   \n",
       "                             capexCap    [1e9 Euro/a]               0.93704   \n",
       "                             invest      [1e9 Euro]                     9.2   \n",
       "                             operation   [GW$_{el}$*h/a]            12622.8   \n",
       "                                         [GW$_{el}$*h]              12622.8   \n",
       "                             opexCap     [1e9 Euro/a]                 0.184   \n",
       "Wind (onshore)               TAC         [1e9 Euro/a]                     0   \n",
       "                             capacity    [GW$_{el}$]                      0   \n",
       "                             capexCap    [1e9 Euro/a]                     0   \n",
       "                             invest      [1e9 Euro]                       0   \n",
       "                             operation   [GW$_{el}$*h/a]                  0   \n",
       "                                         [GW$_{el}$*h]                    0   \n",
       "                             opexCap     [1e9 Euro/a]                     0   \n",
       "\n",
       "                                                                  cluster_2  \\\n",
       "Component                    Property    Unit                                 \n",
       "Biogas purchase              TAC         [1e9 Euro/a]              0.176749   \n",
       "                             commodCosts [1e9 Euro/a]              0.176749   \n",
       "                             operation   [GW$_{biogas,LHV}$*h/a]    3267.67   \n",
       "                                         [GW$_{biogas,LHV}$*h]      3267.67   \n",
       "Electricity demand           operation   [GW$_{el}$*h/a]             124797   \n",
       "                                         [GW$_{el}$*h]               124797   \n",
       "Existing run-of-river plants TAC         [1e9 Euro/a]             0.0079499   \n",
       "                             capacity    [GW$_{el}$]              0.0382207   \n",
       "                             operation   [GW$_{el}$*h/a]            174.478   \n",
       "                                         [GW$_{el}$*h]              174.478   \n",
       "                             opexCap     [1e9 Euro/a]             0.0079499   \n",
       "Hydrogen demand              operation   [GW$_{H_{2},LHV}$*h/a]     16452.6   \n",
       "                                         [GW$_{H_{2},LHV}$*h]       16452.6   \n",
       "PV                           TAC         [1e9 Euro/a]               2.49109   \n",
       "                             capacity    [GW$_{el}$]                33.7129   \n",
       "                             capexCap    [1e9 Euro/a]               2.05282   \n",
       "                             invest      [1e9 Euro]                 21.9134   \n",
       "                             operation   [GW$_{el}$*h/a]            27269.8   \n",
       "                                         [GW$_{el}$*h]              27269.8   \n",
       "                             opexCap     [1e9 Euro/a]              0.438268   \n",
       "Wind (offshore)              TAC         [1e9 Euro/a]               14.8538   \n",
       "                             capacity    [GW$_{el}$]                     53   \n",
       "                             capexCap    [1e9 Euro/a]               12.4158   \n",
       "                             invest      [1e9 Euro]                   121.9   \n",
       "                             operation   [GW$_{el}$*h/a]             213919   \n",
       "                                         [GW$_{el}$*h]               213919   \n",
       "                             opexCap     [1e9 Euro/a]                 2.438   \n",
       "Wind (onshore)               TAC         [1e9 Euro/a]               1.98679   \n",
       "                             capacity    [GW$_{el}$]                14.8226   \n",
       "                             capexCap    [1e9 Euro/a]               1.66069   \n",
       "                             invest      [1e9 Euro]                 16.3049   \n",
       "                             operation   [GW$_{el}$*h/a]            34138.2   \n",
       "                                         [GW$_{el}$*h]              34138.2   \n",
       "                             opexCap     [1e9 Euro/a]              0.326098   \n",
       "\n",
       "                                                                   cluster_3  \\\n",
       "Component                    Property    Unit                                  \n",
       "Biogas purchase              TAC         [1e9 Euro/a]               0.244162   \n",
       "                             commodCosts [1e9 Euro/a]               0.244162   \n",
       "                             operation   [GW$_{biogas,LHV}$*h/a]        4514   \n",
       "                                         [GW$_{biogas,LHV}$*h]          4514   \n",
       "Electricity demand           operation   [GW$_{el}$*h/a]             40441.2   \n",
       "                                         [GW$_{el}$*h]               40441.2   \n",
       "Existing run-of-river plants TAC         [1e9 Euro/a]             0.00906289   \n",
       "                             capacity    [GW$_{el}$]               0.0435716   \n",
       "                             operation   [GW$_{el}$*h/a]             198.904   \n",
       "                                         [GW$_{el}$*h]               198.904   \n",
       "                             opexCap     [1e9 Euro/a]             0.00906289   \n",
       "Hydrogen demand              operation   [GW$_{H_{2},LHV}$*h/a]      5264.13   \n",
       "                                         [GW$_{H_{2},LHV}$*h]        5264.13   \n",
       "PV                           TAC         [1e9 Euro/a]                 1.4497   \n",
       "                             capacity    [GW$_{el}$]                 19.6194   \n",
       "                             capexCap    [1e9 Euro/a]                1.19465   \n",
       "                             invest      [1e9 Euro]                  12.7526   \n",
       "                             operation   [GW$_{el}$*h/a]             19638.2   \n",
       "                                         [GW$_{el}$*h]               19638.2   \n",
       "                             opexCap     [1e9 Euro/a]               0.255052   \n",
       "Wind (offshore)              TAC         [1e9 Euro/a]                1.68156   \n",
       "                             capacity    [GW$_{el}$]                       6   \n",
       "                             capexCap    [1e9 Euro/a]                1.40556   \n",
       "                             invest      [1e9 Euro]                     13.8   \n",
       "                             operation   [GW$_{el}$*h/a]             21072.4   \n",
       "                                         [GW$_{el}$*h]               21072.4   \n",
       "                             opexCap     [1e9 Euro/a]                  0.276   \n",
       "Wind (onshore)               TAC         [1e9 Euro/a]                      0   \n",
       "                             capacity    [GW$_{el}$]                       0   \n",
       "                             capexCap    [1e9 Euro/a]                      0   \n",
       "                             invest      [1e9 Euro]                        0   \n",
       "                             operation   [GW$_{el}$*h/a]                   0   \n",
       "                                         [GW$_{el}$*h]                     0   \n",
       "                             opexCap     [1e9 Euro/a]                      0   \n",
       "\n",
       "                                                                  cluster_4  \\\n",
       "Component                    Property    Unit                                 \n",
       "Biogas purchase              TAC         [1e9 Euro/a]              0.351453   \n",
       "                             commodCosts [1e9 Euro/a]              0.351453   \n",
       "                             operation   [GW$_{biogas,LHV}$*h/a]    6497.55   \n",
       "                                         [GW$_{biogas,LHV}$*h]      6497.55   \n",
       "Electricity demand           operation   [GW$_{el}$*h/a]            77229.3   \n",
       "                                         [GW$_{el}$*h]              77229.3   \n",
       "Existing run-of-river plants TAC         [1e9 Euro/a]              0.556096   \n",
       "                             capacity    [GW$_{el}$]                2.67354   \n",
       "                             operation   [GW$_{el}$*h/a]            12204.7   \n",
       "                                         [GW$_{el}$*h]              12204.7   \n",
       "                             opexCap     [1e9 Euro/a]              0.556096   \n",
       "Hydrogen demand              operation   [GW$_{H_{2},LHV}$*h/a]     10078.3   \n",
       "                                         [GW$_{H_{2},LHV}$*h]       10078.3   \n",
       "PV                           TAC         [1e9 Euro/a]               2.19401   \n",
       "                             capacity    [GW$_{el}$]                29.6925   \n",
       "                             capexCap    [1e9 Euro/a]               1.80801   \n",
       "                             invest      [1e9 Euro]                 19.3001   \n",
       "                             operation   [GW$_{el}$*h/a]            29839.7   \n",
       "                                         [GW$_{el}$*h]              29839.7   \n",
       "                             opexCap     [1e9 Euro/a]              0.386002   \n",
       "Wind (offshore)              TAC         [1e9 Euro/a]                     0   \n",
       "                             capacity    [GW$_{el}$]                    NaN   \n",
       "                             capexCap    [1e9 Euro/a]                   NaN   \n",
       "                             invest      [1e9 Euro]                     NaN   \n",
       "                             operation   [GW$_{el}$*h/a]                NaN   \n",
       "                                         [GW$_{el}$*h]                  NaN   \n",
       "                             opexCap     [1e9 Euro/a]                   NaN   \n",
       "Wind (onshore)               TAC         [1e9 Euro/a]              0.255038   \n",
       "                             capacity    [GW$_{el}$]                1.90274   \n",
       "                             capexCap    [1e9 Euro/a]              0.213178   \n",
       "                             invest      [1e9 Euro]                 2.09301   \n",
       "                             operation   [GW$_{el}$*h/a]            2283.02   \n",
       "                                         [GW$_{el}$*h]              2283.02   \n",
       "                             opexCap     [1e9 Euro/a]             0.0418602   \n",
       "\n",
       "                                                                 cluster_5  \\\n",
       "Component                    Property    Unit                                \n",
       "Biogas purchase              TAC         [1e9 Euro/a]             0.155594   \n",
       "                             commodCosts [1e9 Euro/a]             0.155594   \n",
       "                             operation   [GW$_{biogas,LHV}$*h/a]   2876.58   \n",
       "                                         [GW$_{biogas,LHV}$*h]     2876.58   \n",
       "Electricity demand           operation   [GW$_{el}$*h/a]           41413.4   \n",
       "                                         [GW$_{el}$*h]             41413.4   \n",
       "Existing run-of-river plants TAC         [1e9 Euro/a]                    0   \n",
       "                             capacity    [GW$_{el}$]                   NaN   \n",
       "                             operation   [GW$_{el}$*h/a]               NaN   \n",
       "                                         [GW$_{el}$*h]                 NaN   \n",
       "                             opexCap     [1e9 Euro/a]                  NaN   \n",
       "Hydrogen demand              operation   [GW$_{H_{2},LHV}$*h/a]    5747.42   \n",
       "                                         [GW$_{H_{2},LHV}$*h]      5747.42   \n",
       "PV                           TAC         [1e9 Euro/a]              1.46977   \n",
       "                             capacity    [GW$_{el}$]                19.891   \n",
       "                             capexCap    [1e9 Euro/a]              1.21118   \n",
       "                             invest      [1e9 Euro]                12.9291   \n",
       "                             operation   [GW$_{el}$*h/a]           20922.3   \n",
       "                                         [GW$_{el}$*h]             20922.3   \n",
       "                             opexCap     [1e9 Euro/a]             0.258582   \n",
       "Wind (offshore)              TAC         [1e9 Euro/a]                    0   \n",
       "                             capacity    [GW$_{el}$]                   NaN   \n",
       "                             capexCap    [1e9 Euro/a]                  NaN   \n",
       "                             invest      [1e9 Euro]                    NaN   \n",
       "                             operation   [GW$_{el}$*h/a]               NaN   \n",
       "                                         [GW$_{el}$*h]                 NaN   \n",
       "                             opexCap     [1e9 Euro/a]                  NaN   \n",
       "Wind (onshore)               TAC         [1e9 Euro/a]                    0   \n",
       "                             capacity    [GW$_{el}$]                     0   \n",
       "                             capexCap    [1e9 Euro/a]                    0   \n",
       "                             invest      [1e9 Euro]                      0   \n",
       "                             operation   [GW$_{el}$*h/a]                 0   \n",
       "                                         [GW$_{el}$*h]                   0   \n",
       "                             opexCap     [1e9 Euro/a]                    0   \n",
       "\n",
       "                                                                 cluster_6  \\\n",
       "Component                    Property    Unit                                \n",
       "Biogas purchase              TAC         [1e9 Euro/a]             0.164873   \n",
       "                             commodCosts [1e9 Euro/a]             0.164873   \n",
       "                             operation   [GW$_{biogas,LHV}$*h/a]   3048.13   \n",
       "                                         [GW$_{biogas,LHV}$*h]     3048.13   \n",
       "Electricity demand           operation   [GW$_{el}$*h/a]           28088.8   \n",
       "                                         [GW$_{el}$*h]             28088.8   \n",
       "Existing run-of-river plants TAC         [1e9 Euro/a]                    0   \n",
       "                             capacity    [GW$_{el}$]                   NaN   \n",
       "                             operation   [GW$_{el}$*h/a]               NaN   \n",
       "                                         [GW$_{el}$*h]                 NaN   \n",
       "                             opexCap     [1e9 Euro/a]                  NaN   \n",
       "Hydrogen demand              operation   [GW$_{H_{2},LHV}$*h/a]    3710.05   \n",
       "                                         [GW$_{H_{2},LHV}$*h]      3710.05   \n",
       "PV                           TAC         [1e9 Euro/a]             0.933703   \n",
       "                             capacity    [GW$_{el}$]               12.6362   \n",
       "                             capexCap    [1e9 Euro/a]             0.769433   \n",
       "                             invest      [1e9 Euro]                8.21352   \n",
       "                             operation   [GW$_{el}$*h/a]           9413.69   \n",
       "                                         [GW$_{el}$*h]             9413.69   \n",
       "                             opexCap     [1e9 Euro/a]              0.16427   \n",
       "Wind (offshore)              TAC         [1e9 Euro/a]              5.04468   \n",
       "                             capacity    [GW$_{el}$]                    18   \n",
       "                             capexCap    [1e9 Euro/a]              4.21668   \n",
       "                             invest      [1e9 Euro]                   41.4   \n",
       "                             operation   [GW$_{el}$*h/a]           70694.7   \n",
       "                                         [GW$_{el}$*h]             70694.7   \n",
       "                             opexCap     [1e9 Euro/a]                0.828   \n",
       "Wind (onshore)               TAC         [1e9 Euro/a]              3.68199   \n",
       "                             capacity    [GW$_{el}$]               27.4699   \n",
       "                             capexCap    [1e9 Euro/a]              3.07765   \n",
       "                             invest      [1e9 Euro]                30.2168   \n",
       "                             operation   [GW$_{el}$*h/a]           70706.1   \n",
       "                                         [GW$_{el}$*h]             70706.1   \n",
       "                             opexCap     [1e9 Euro/a]             0.604337   \n",
       "\n",
       "                                                                  cluster_7  \n",
       "Component                    Property    Unit                                \n",
       "Biogas purchase              TAC         [1e9 Euro/a]             0.0659848  \n",
       "                             commodCosts [1e9 Euro/a]             0.0659848  \n",
       "                             operation   [GW$_{biogas,LHV}$*h/a]    1219.91  \n",
       "                                         [GW$_{biogas,LHV}$*h]      1219.91  \n",
       "Electricity demand           operation   [GW$_{el}$*h/a]            15851.1  \n",
       "                                         [GW$_{el}$*h]              15851.1  \n",
       "Existing run-of-river plants TAC         [1e9 Euro/a]             0.0674723  \n",
       "                             capacity    [GW$_{el}$]               0.324386  \n",
       "                             operation   [GW$_{el}$*h/a]            1480.82  \n",
       "                                         [GW$_{el}$*h]              1480.82  \n",
       "                             opexCap     [1e9 Euro/a]             0.0674723  \n",
       "Hydrogen demand              operation   [GW$_{H_{2},LHV}$*h/a]     1453.12  \n",
       "                                         [GW$_{H_{2},LHV}$*h]       1453.12  \n",
       "PV                           TAC         [1e9 Euro/a]              0.366282  \n",
       "                             capacity    [GW$_{el}$]                4.95704  \n",
       "                             capexCap    [1e9 Euro/a]               0.30184  \n",
       "                             invest      [1e9 Euro]                 3.22208  \n",
       "                             operation   [GW$_{el}$*h/a]            5178.23  \n",
       "                                         [GW$_{el}$*h]              5178.23  \n",
       "                             opexCap     [1e9 Euro/a]             0.0644416  \n",
       "Wind (offshore)              TAC         [1e9 Euro/a]                     0  \n",
       "                             capacity    [GW$_{el}$]                    NaN  \n",
       "                             capexCap    [1e9 Euro/a]                   NaN  \n",
       "                             invest      [1e9 Euro]                     NaN  \n",
       "                             operation   [GW$_{el}$*h/a]                NaN  \n",
       "                                         [GW$_{el}$*h]                  NaN  \n",
       "                             opexCap     [1e9 Euro/a]                   NaN  \n",
       "Wind (onshore)               TAC         [1e9 Euro/a]                     0  \n",
       "                             capacity    [GW$_{el}$]                      0  \n",
       "                             capexCap    [1e9 Euro/a]                     0  \n",
       "                             invest      [1e9 Euro]                       0  \n",
       "                             operation   [GW$_{el}$*h/a]                  0  \n",
       "                                         [GW$_{el}$*h]                    0  \n",
       "                             opexCap     [1e9 Euro/a]                     0  "
      ]
     },
     "execution_count": 34,
     "metadata": {},
     "output_type": "execute_result"
    }
   ],
   "source": [
    "esM.getOptimizationSummary(\"SourceSinkModel\", outputLevel=2)"
   ]
  },
  {
   "cell_type": "markdown",
   "metadata": {},
   "source": [
    "Plot installed capacities"
   ]
  },
  {
   "cell_type": "code",
   "execution_count": 35,
   "metadata": {
    "scrolled": false
   },
   "outputs": [
    {
     "data": {
      "image/png": "[encoded data removed]",
      "text/plain": [
       "<Figure size 432x432 with 2 Axes>"
      ]
     },
     "metadata": {
      "needs_background": "light"
     },
     "output_type": "display_data"
    }
   ],
   "source": [
    "fig, ax = fn.plotLocationalColorMap(esM, 'Wind (offshore)', locFilePath, 'index', perArea=False)"
   ]
  },
  {
   "cell_type": "code",
   "execution_count": null,
   "metadata": {},
   "outputs": [],
   "source": [
    "fig, ax = fn.plotLocationalColorMap(esM, 'Wind (onshore)', locFilePath, 'index', perArea=False)"
   ]
  },
  {
   "cell_type": "code",
   "execution_count": null,
   "metadata": {},
   "outputs": [],
   "source": [
    "fig, ax = fn.plotLocationalColorMap(esM, 'PV', locFilePath, 'index', perArea=False)"
   ]
  },
  {
   "cell_type": "markdown",
   "metadata": {},
   "source": [
    "Plot operation time series (either one or two dimensional)"
   ]
  },
  {
   "cell_type": "code",
   "execution_count": null,
   "metadata": {},
   "outputs": [],
   "source": [
    "fig, ax = fn.plotOperation(esM, 'Electricity demand', 'cluster_0')"
   ]
  },
  {
   "cell_type": "code",
   "execution_count": null,
   "metadata": {},
   "outputs": [],
   "source": [
    "fig, ax = fn.plotOperationColorMap(esM, 'Electricity demand', 'cluster_0')"
   ]
  },
  {
   "cell_type": "markdown",
   "metadata": {},
   "source": [
    "### Conversion\n",
    "\n",
    "Show optimization summary"
   ]
  },
  {
   "cell_type": "code",
   "execution_count": null,
   "metadata": {},
   "outputs": [],
   "source": [
    "esM.getOptimizationSummary(\"ConversionModel\", outputLevel=2)"
   ]
  },
  {
   "cell_type": "code",
   "execution_count": null,
   "metadata": {},
   "outputs": [],
   "source": [
    "fig, ax = fn.plotLocationalColorMap(esM, 'Electrolyzer', locFilePath, 'index', perArea=False)"
   ]
  },
  {
   "cell_type": "code",
   "execution_count": null,
   "metadata": {},
   "outputs": [],
   "source": [
    "fig, ax = fn.plotOperationColorMap(esM, 'New CCGT plants (biogas)', 'cluster_2')"
   ]
  },
  {
   "cell_type": "markdown",
   "metadata": {},
   "source": [
    "### Storage\n",
    "\n",
    "Show optimization summary"
   ]
  },
  {
   "cell_type": "code",
   "execution_count": null,
   "metadata": {},
   "outputs": [],
   "source": [
    "esM.getOptimizationSummary(\"StorageModel\", outputLevel=2)"
   ]
  },
  {
   "cell_type": "code",
   "execution_count": null,
   "metadata": {},
   "outputs": [],
   "source": [
    "fig, ax = fn.plotOperationColorMap(esM, 'Li-ion batteries', 'cluster_2', \n",
    "                                   variableName='stateOfChargeOperationVariablesOptimum')"
   ]
  },
  {
   "cell_type": "code",
   "execution_count": null,
   "metadata": {},
   "outputs": [],
   "source": [
    "fig, ax = fn.plotOperationColorMap(esM, 'Pumped hydro storage', 'cluster_2',\n",
    "                                  variableName='stateOfChargeOperationVariablesOptimum')"
   ]
  },
  {
   "cell_type": "code",
   "execution_count": null,
   "metadata": {},
   "outputs": [],
   "source": [
    "fig, ax = fn.plotOperationColorMap(esM, 'Salt caverns (biogas)', 'cluster_2',\n",
    "                                  variableName='stateOfChargeOperationVariablesOptimum')"
   ]
  },
  {
   "cell_type": "code",
   "execution_count": null,
   "metadata": {},
   "outputs": [],
   "source": [
    "fig, ax = fn.plotOperationColorMap(esM, 'Salt caverns (hydrogen)', 'cluster_2',\n",
    "                                  variableName='stateOfChargeOperationVariablesOptimum')"
   ]
  },
  {
   "cell_type": "markdown",
   "metadata": {},
   "source": [
    "## Transmission\n",
    "\n",
    "Show optimization summary"
   ]
  },
  {
   "cell_type": "code",
   "execution_count": null,
   "metadata": {},
   "outputs": [],
   "source": [
    "esM.getOptimizationSummary(\"TransmissionModel\", outputLevel=2)"
   ]
  },
  {
   "cell_type": "code",
   "execution_count": null,
   "metadata": {
    "scrolled": true
   },
   "outputs": [],
   "source": [
    "esM.getOptimizationSummary(\"TransmissionModel\", outputLevel=2).loc['Pipelines (hydrogen)']"
   ]
  },
  {
   "cell_type": "markdown",
   "metadata": {},
   "source": [
    "Check that the shared capacity of the pipelines are not exceeded"
   ]
  },
  {
   "cell_type": "code",
   "execution_count": null,
   "metadata": {},
   "outputs": [],
   "source": [
    "df=esM.componentModelingDict[\"TransmissionModel\"].capacityVariablesOptimum\n",
    "df.loc['Pipelines (biogas)']+df.loc['Pipelines (hydrogen)']"
   ]
  },
  {
   "cell_type": "markdown",
   "metadata": {},
   "source": [
    "Plot installed transmission capacities"
   ]
  },
  {
   "cell_type": "code",
   "execution_count": null,
   "metadata": {},
   "outputs": [],
   "source": [
    "transFilePath = os.path.join(cwd, 'InputData', 'SpatialData','ShapeFiles', 'AClines.shp')\n",
    "\n",
    "fig, ax = fn.plotLocations(locFilePath, indexColumn='index')                                 \n",
    "fig, ax = fn.plotTransmission(esM, 'AC cables', transFilePath, loc0='bus0', loc1='bus1', fig=fig, ax=ax)"
   ]
  },
  {
   "cell_type": "code",
   "execution_count": null,
   "metadata": {},
   "outputs": [],
   "source": [
    "transFilePath = os.path.join(cwd, 'InputData', 'SpatialData','ShapeFiles', 'DClines.shp')\n",
    "\n",
    "fig, ax = fn.plotLocations(locFilePath, indexColumn='index')                                 \n",
    "fig, ax = fn.plotTransmission(esM, 'DC cables', transFilePath, loc0='cluster0', loc1='cluster1', fig=fig, ax=ax)"
   ]
  },
  {
   "cell_type": "code",
   "execution_count": null,
   "metadata": {
    "scrolled": false
   },
   "outputs": [],
   "source": [
    "transFilePath = os.path.join(cwd, 'InputData', 'SpatialData','ShapeFiles', 'transmissionPipeline.shp')\n",
    "\n",
    "fig, ax = fn.plotLocations(locFilePath, indexColumn='index')                                 \n",
    "fig, ax = fn.plotTransmission(esM, 'Pipelines (hydrogen)', transFilePath, loc0='loc1', loc1='loc2',\n",
    "                              fig=fig, ax=ax)"
   ]
  },
  {
   "cell_type": "code",
   "execution_count": null,
   "metadata": {},
   "outputs": [],
   "source": [
    "transFilePath = os.path.join(cwd, 'InputData', 'SpatialData','ShapeFiles', 'transmissionPipeline.shp')\n",
    "\n",
    "fig, ax = fn.plotLocations(locFilePath, indexColumn='index')                                 \n",
    "fig, ax = fn.plotTransmission(esM, 'Pipelines (biogas)', transFilePath, loc0='loc1', loc1='loc2',\n",
    "                              fig=fig, ax=ax)"
   ]
  },
  {
   "cell_type": "markdown",
   "metadata": {},
   "source": [
    "# Postprocessing: Determine robust pipeline design"
   ]
  },
  {
   "cell_type": "code",
   "execution_count": null,
   "metadata": {},
   "outputs": [],
   "source": [
    "# Import module expansion \"robustPipelineSizing\"\n",
    "from FINE.expansionModules import robustPipelineSizing"
   ]
  },
  {
   "cell_type": "code",
   "execution_count": null,
   "metadata": {},
   "outputs": [],
   "source": [
    "# 1. Option to get the injection and withdrawal rates for the pipeline sizing (in kg/s)\n",
    "rates = robustPipelineSizing.getInjectionWithdrawalRates(componentName='Pipelines (hydrogen)',esM=esM) # in GWh\n",
    "# Convert GWh to kg/s: GWh * (kWh/GWh) * (kg/kWh) * (1/ timestepLengthInSeconds) with timestepLengthInSeconds\n",
    "# being 3600 seconds for the present example\n",
    "rates = rates * (10 ** 6) * (1/33.32) * (1/3600) \n",
    "rates.head()"
   ]
  },
  {
   "cell_type": "code",
   "execution_count": null,
   "metadata": {},
   "outputs": [],
   "source": [
    "# 2. Option to get the injection and withdrawal rates for the pipeline sizing (in kg/s)\n",
    "op = esM.componentModelingDict[esM.componentNames['Pipelines (hydrogen)']].\\\n",
    "    getOptimalValues('operationVariablesOptimum')['values'].loc['Pipelines (hydrogen)']\n",
    "rates = robustPipelineSizing.getInjectionWithdrawalRates(operationVariablesOptimumData=op) # in GWh\n",
    "# Convert GWh to kg/s: GWh * (kWh/GWh) * (kg/kWh) * (1/ timestepLengthInSeconds) with timestepLengthInSeconds\n",
    "# being 3600 seconds for the present example\n",
    "rates = rates * (10 ** 6) * (1/33.32) * (1/3600) \n",
    "rates.head()"
   ]
  },
  {
   "cell_type": "code",
   "execution_count": null,
   "metadata": {},
   "outputs": [],
   "source": [
    "# Determine unique withdrawal and injection scenarios to save computation time\n",
    "rates = rates.drop_duplicates()\n",
    "rates.head()"
   ]
  },
  {
   "cell_type": "code",
   "execution_count": null,
   "metadata": {},
   "outputs": [],
   "source": [
    "# Get the lengths of the pipeline (in m)\n",
    "lengths = robustPipelineSizing.getNetworkLengthsFromESM('Pipelines (hydrogen)', esM)\n",
    "lengths = lengths * 1e3\n",
    "lengths.head()"
   ]
  },
  {
   "cell_type": "code",
   "execution_count": null,
   "metadata": {},
   "outputs": [],
   "source": [
    "# Specify minimum and maximum pressure levels for all injection and withdrawal nodes (in bar)\n",
    "p_min_nodes = {'cluster_5': 60, 'cluster_3': 50, 'cluster_7': 50, 'cluster_1': 60, 'cluster_6': 50,\n",
    "               'cluster_4': 50, 'cluster_0': 50, 'cluster_2': 50}\n",
    "\n",
    "p_max_nodes = {'cluster_5': 100, 'cluster_3': 100, 'cluster_7': 100, 'cluster_1': 90, 'cluster_6': 100,\n",
    "               'cluster_4': 100, 'cluster_0': 100, 'cluster_2': 100}"
   ]
  },
  {
   "cell_type": "code",
   "execution_count": null,
   "metadata": {},
   "outputs": [],
   "source": [
    "# Specify the investment cost of the available diameter classes in €/m\n",
    "\n",
    "# For single pipes\n",
    "dic_diameter_costs = {0.1063: 37.51, 0.1307: 38.45, 0.1593: 39.64, 0.2065: 42.12,\n",
    "                      0.2588: 45.26, 0.3063: 48.69, 0.3356: 51.07, 0.3844: 55.24,\n",
    "                      0.432: 59.86, 0.4796: 64.98, 0.527: 70.56, 0.578: 76.61,\n",
    "                      0.625: 82.99, 0.671: 89.95, 0.722: 97.38, 0.7686: 105.28,\n",
    "                      0.814: 113.63, 0.864: 122.28, 0.915: 131.56, 0.96: 141.3,\n",
    "                      1.011: 151.5, 1.058: 162.17, 1.104: 173.08, 1.155: 184.67,\n",
    "                      1.249: 209.24, 1.342: 235.4, 1.444: 263.66, 1.536: 293.78}\n",
    "\n",
    "# For parallel pipes\n",
    "dic_candidateMergedDiam_costs={1.342: 235.4, 1.444: 263.66, 1.536: 293.78}"
   ]
  },
  {
   "cell_type": "code",
   "execution_count": null,
   "metadata": {},
   "outputs": [],
   "source": [
    "# Choose if a robust pipeline desin should be determined or the design should be optimized based on the\n",
    "# given injection and withdrawal rates only\n",
    "robust = True"
   ]
  },
  {
   "cell_type": "markdown",
   "metadata": {},
   "source": [
    "### Determine design for simple network structure"
   ]
  },
  {
   "cell_type": "code",
   "execution_count": null,
   "metadata": {
    "scrolled": true
   },
   "outputs": [],
   "source": [
    "# Compute with 7 threads and simple network structure\n",
    "\n",
    "dic_arc_optimalDiameters, dic_scen_PressLevels, dic_scen_MaxViolPress, dic_timeStep_PressLevels, \\\n",
    "    dic_timeStep_MaxViolPress, _ = robustPipelineSizing.determineDiscretePipelineDesign(\n",
    "        robust=robust, injectionWithdrawalRates=rates,\n",
    "        distances=lengths, dic_node_minPress=p_min_nodes, dic_node_maxPress=p_max_nodes, \n",
    "        dic_diameter_costs=dic_diameter_costs, dic_candidateMergedDiam_costs=dic_candidateMergedDiam_costs,\n",
    "        threads=7)"
   ]
  },
  {
   "cell_type": "code",
   "execution_count": null,
   "metadata": {},
   "outputs": [],
   "source": [
    "# Compute with 2 threads and simple network structure\n",
    "\n",
    "dic_arc_optimalDiameters, dic_scen_PressLevels, dic_scen_MaxViolPress, dic_timeStep_PressLevels, \\\n",
    "    dic_timeStep_MaxViolPress, _ = robustPipelineSizing.determineDiscretePipelineDesign(\n",
    "        robust=robust, injectionWithdrawalRates=rates,\n",
    "        distances=lengths, dic_node_minPress=p_min_nodes, dic_node_maxPress=p_max_nodes, \n",
    "        dic_diameter_costs=dic_diameter_costs, dic_candidateMergedDiam_costs=dic_candidateMergedDiam_costs,\n",
    "        threads=2)\n",
    "\n",
    "print(\"Finished Discrete Pipeline Optimization\")"
   ]
  },
  {
   "cell_type": "markdown",
   "metadata": {},
   "source": [
    "### Determine design for more complex network structure"
   ]
  },
  {
   "cell_type": "code",
   "execution_count": null,
   "metadata": {},
   "outputs": [],
   "source": [
    "# Redfine minimum and maximum pressure levels to reduce robust scenario computation time\n",
    "p_min_nodes = {'cluster_5': 50, 'cluster_3': 50, 'cluster_7': 50, 'cluster_1': 50, 'cluster_6': 50,\n",
    "               'cluster_4': 50, 'cluster_0': 50, 'cluster_2': 50}\n",
    "\n",
    "p_max_nodes = {'cluster_5': 100, 'cluster_3': 100, 'cluster_7': 100, 'cluster_1': 100, 'cluster_6': 100,\n",
    "               'cluster_4': 100, 'cluster_0': 100, 'cluster_2': 100}"
   ]
  },
  {
   "cell_type": "code",
   "execution_count": null,
   "metadata": {
    "scrolled": false
   },
   "outputs": [],
   "source": [
    "# Get more complex network structure\n",
    "regColumn1 = 'loc1'\n",
    "regColumn2 = 'loc2'\n",
    "\n",
    "dic_node_minPress=p_min_nodes\n",
    "dic_node_maxPress=p_max_nodes\n",
    "\n",
    "maxPipeLength= 35 * 1e3\n",
    "minPipeLength= 1 * 1e3\n",
    "\n",
    "distances_new, dic_node_minPress_new, dic_node_maxPress_new, gdfNodes, gdfEdges = \\\n",
    "    robustPipelineSizing.getRefinedShapeFile(transFilePath, regColumn1, regColumn2, dic_node_minPress,\n",
    "                                             dic_node_maxPress, minPipeLength, maxPipeLength)\n",
    "\n",
    "fig, ax = fn.plotLocations(locFilePath, indexColumn='index') \n",
    "\n",
    "gdfEdges.plot(ax=ax, color='grey')\n",
    "gdfNodes.plot(ax=ax, color='red', markersize=2)\n",
    "ax.axis('off')\n",
    "\n",
    "plt.show()"
   ]
  },
  {
   "cell_type": "code",
   "execution_count": null,
   "metadata": {
    "scrolled": true
   },
   "outputs": [],
   "source": [
    "# Determine optimal pipeline design with seven threads\n",
    "dic_arc_optimalDiameters, dic_scen_PressLevels, dic_scen_MaxViolPress, dic_timeStep_PressLevels, \\\n",
    "           dic_timeStep_MaxViolPress, gdfEdges = robustPipelineSizing.determineDiscretePipelineDesign(\n",
    "        robust=robust, injectionWithdrawalRates=rates,\n",
    "        distances=distances_new, dic_node_minPress=dic_node_minPress_new, dic_node_maxPress=dic_node_maxPress_new,\n",
    "        dic_diameter_costs=dic_diameter_costs, dic_candidateMergedDiam_costs=dic_candidateMergedDiam_costs,\n",
    "        gdfEdges=gdfEdges, regColumn1='nodeIn', regColumn2='nodeOut', threads=7, solver='gurobi')"
   ]
  },
  {
   "cell_type": "markdown",
   "metadata": {},
   "source": [
    "### Plot scenario output"
   ]
  },
  {
   "cell_type": "code",
   "execution_count": null,
   "metadata": {},
   "outputs": [],
   "source": [
    "# Get regions shapefile as geopandas GeoDataFrame\n",
    "gdf_regions = gpd.read_file(locFilePath)"
   ]
  },
  {
   "cell_type": "code",
   "execution_count": null,
   "metadata": {},
   "outputs": [],
   "source": [
    "# Visualize pipeline diameters\n",
    "fig, ax =robustPipelineSizing.plotOptimizedNetwork(gdfEdges, gdf_regions=gdf_regions, figsize=(5,5),\n",
    "    line_scaling=0.8)"
   ]
  },
  {
   "cell_type": "code",
   "execution_count": null,
   "metadata": {},
   "outputs": [],
   "source": [
    "# Get a minimum and maximum pressure scenario\n",
    "dic_timeStep_PressLevels = pd.DataFrame.from_dict(dic_scen_PressLevels)\n",
    "\n",
    "scen_min = dic_timeStep_PressLevels.mean().min()\n",
    "scen_min = dic_timeStep_PressLevels.loc[:,dic_timeStep_PressLevels.mean() == scen_min].iloc[:,0]\n",
    "scen_max = dic_timeStep_PressLevels.mean().max()\n",
    "scen_max = dic_timeStep_PressLevels.loc[:,dic_timeStep_PressLevels.mean() == scen_max].iloc[:,0]"
   ]
  },
  {
   "cell_type": "code",
   "execution_count": null,
   "metadata": {
    "scrolled": false
   },
   "outputs": [],
   "source": [
    "fig, ax =robustPipelineSizing.plotOptimizedNetwork(gdfEdges, gdf_regions=gdf_regions, figsize=(5,5),\n",
    "    line_scaling=0.9, pressureLevels=scen_min)"
   ]
  },
  {
   "cell_type": "code",
   "execution_count": null,
   "metadata": {},
   "outputs": [],
   "source": [
    "fig, ax =robustPipelineSizing.plotOptimizedNetwork(gdfEdges, gdf_regions=gdf_regions, figsize=(5,5),\n",
    "    line_scaling=0.9, pressureLevels=scen_max)"
   ]
  },
  {
   "cell_type": "code",
   "execution_count": null,
   "metadata": {},
   "outputs": [],
   "source": []
  }
 ],
 "metadata": {
  "anaconda-cloud": {},
  "kernelspec": {
   "display_name": "Python 3",
   "language": "python",
   "name": "python3"
  },
  "language_info": {
   "codemirror_mode": {
    "name": "ipython",
    "version": 3
   },
   "file_extension": ".py",
   "mimetype": "text/x-python",
   "name": "python",
   "nbconvert_exporter": "python",
   "pygments_lexer": "ipython3",
   "version": "3.7.8"
  }
 },
 "nbformat": 4,
 "nbformat_minor": 1
}
