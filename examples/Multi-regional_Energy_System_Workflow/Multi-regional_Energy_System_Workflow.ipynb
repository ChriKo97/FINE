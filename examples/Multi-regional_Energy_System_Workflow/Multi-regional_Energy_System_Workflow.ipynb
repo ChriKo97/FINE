{
 "cells": [
  {
   "cell_type": "markdown",
   "metadata": {},
   "source": [
    "# Workflow for a multi-regional energy system\n",
    "\n",
    "In this application of the FINE framework, a multi-regional energy system is modeled and optimized.\n",
    "\n",
    "All classes which are available to the user are utilized and examples of the selection of different parameters within these classes are given.\n",
    "\n",
    "The workflow is structures as follows:\n",
    "1. Required packages are imported and the input data path is set\n",
    "2. An energy system model instance is created\n",
    "3. Commodity sources are added to the energy system model\n",
    "4. Commodity conversion components are added to the energy system model\n",
    "5. Commodity storages are added to the energy system model\n",
    "6. Commodity transmission components are added to the energy system model\n",
    "7. Commodity sinks are added to the energy system model\n",
    "8. The energy system model is optimized\n",
    "9. Selected optimization results are presented\n"
   ]
  },
  {
   "cell_type": "markdown",
   "metadata": {},
   "source": [
    "# 1. Import required packages and set input data path\n",
    "\n",
    "The FINE framework is imported which provides the required classes and functions for modeling the energy system."
   ]
  },
  {
   "cell_type": "code",
   "execution_count": 1,
   "metadata": {},
   "outputs": [],
   "source": [
    "import FINE as fn\n",
    "import matplotlib.pyplot as plt\n",
    "from getData import getData\n",
    "import pandas as pd\n",
    "import os\n",
    "\n",
    "cwd = os.getcwd()\n",
    "data = getData()\n",
    "\n",
    "%matplotlib inline  \n",
    "%load_ext autoreload\n",
    "%autoreload 2"
   ]
  },
  {
   "cell_type": "markdown",
   "metadata": {},
   "source": [
    "# 2. Create an energy system model instance \n",
    "\n",
    "The structure of the energy system model is given by the considered locations, commodities, the number of time steps as well as the hours per time step.\n",
    "\n",
    "The commodities are specified by a unit (i.e. 'GW_electric', 'GW_H2lowerHeatingValue', 'Mio. t CO2/h') which can be given as an energy or mass unit per hour. Furthermore, the cost unit and length unit are specified."
   ]
  },
  {
   "cell_type": "code",
   "execution_count": 2,
   "metadata": {},
   "outputs": [],
   "source": [
    "locations = {'cluster_0', 'cluster_1', 'cluster_2', 'cluster_3', 'cluster_4', 'cluster_5', 'cluster_6', 'cluster_7'}\n",
    "commodityUnitDict = {'electricity': r'GW$_{el}$', 'methane': r'GW$_{CH_{4},LHV}$', 'biogas': r'GW$_{biogas,LHV}$',\n",
    "                     'CO2': r'Mio. t$_{CO_2}$/h', 'hydrogen': r'GW$_{H_{2},LHV}$'}\n",
    "commodities = {'electricity', 'hydrogen', 'methane', 'biogas', 'CO2'}\n",
    "numberOfTimeSteps=8760\n",
    "hoursPerTimeStep=1"
   ]
  },
  {
   "cell_type": "code",
   "execution_count": 3,
   "metadata": {},
   "outputs": [],
   "source": [
    "esM = fn.EnergySystemModel(locations=locations, commodities=commodities, numberOfTimeSteps=8760,\n",
    "                           commodityUnitsDict=commodityUnitDict,\n",
    "                           hoursPerTimeStep=1, costUnit='1e9 Euro', lengthUnit='km', verboseLogLevel=0)"
   ]
  },
  {
   "cell_type": "code",
   "execution_count": 4,
   "metadata": {},
   "outputs": [],
   "source": [
    "CO2_reductionTarget = 1"
   ]
  },
  {
   "cell_type": "markdown",
   "metadata": {},
   "source": [
    "# 3. Add commodity sources to the energy system model"
   ]
  },
  {
   "cell_type": "markdown",
   "metadata": {},
   "source": [
    "## 3.1. Electricity sources"
   ]
  },
  {
   "cell_type": "markdown",
   "metadata": {},
   "source": [
    "### Wind onshore"
   ]
  },
  {
   "cell_type": "code",
   "execution_count": 5,
   "metadata": {},
   "outputs": [],
   "source": [
    "esM.add(fn.Source(esM=esM, name='Wind (onshore)', commodity='electricity', hasCapacityVariable=True,\n",
    "                  operationRateMax=data['Wind (onshore), operationRateMax'],\n",
    "                  capacityMax=data['Wind (onshore), capacityMax'],\n",
    "                  investPerCapacity=1.1, opexPerCapacity=1.1*0.02, interestRate=0.08,\n",
    "                  economicLifetime=20))"
   ]
  },
  {
   "cell_type": "markdown",
   "metadata": {},
   "source": [
    "Full load hours:"
   ]
  },
  {
   "cell_type": "code",
   "execution_count": 6,
   "metadata": {},
   "outputs": [
    {
     "data": {
      "text/plain": [
       "cluster_0    1572.003960\n",
       "cluster_1    2350.292663\n",
       "cluster_2    2374.507270\n",
       "cluster_3    2186.572278\n",
       "cluster_4    1572.650655\n",
       "cluster_5    1767.840650\n",
       "cluster_6    2719.564564\n",
       "cluster_7    1553.045964\n",
       "dtype: float64"
      ]
     },
     "execution_count": 6,
     "metadata": {},
     "output_type": "execute_result"
    }
   ],
   "source": [
    "data['Wind (onshore), operationRateMax'].sum()"
   ]
  },
  {
   "cell_type": "markdown",
   "metadata": {},
   "source": [
    "### Wind offshore"
   ]
  },
  {
   "cell_type": "code",
   "execution_count": 7,
   "metadata": {},
   "outputs": [],
   "source": [
    "esM.add(fn.Source(esM=esM, name='Wind (offshore)', commodity='electricity', hasCapacityVariable=True,\n",
    "                  operationRateMax=data['Wind (offshore), operationRateMax'],\n",
    "                  capacityMax=data['Wind (offshore), capacityMax'],\n",
    "                  investPerCapacity=2.3, opexPerCapacity=2.3*0.02, interestRate=0.08,\n",
    "                  economicLifetime=20))"
   ]
  },
  {
   "cell_type": "markdown",
   "metadata": {},
   "source": [
    "Full load hours:"
   ]
  },
  {
   "cell_type": "code",
   "execution_count": 8,
   "metadata": {},
   "outputs": [
    {
     "data": {
      "text/plain": [
       "cluster_0       0.000000\n",
       "cluster_1    4435.420314\n",
       "cluster_2    4301.655834\n",
       "cluster_3    3902.391858\n",
       "cluster_4       0.000000\n",
       "cluster_5       0.000000\n",
       "cluster_6    4609.508396\n",
       "cluster_7       0.000000\n",
       "dtype: float64"
      ]
     },
     "execution_count": 8,
     "metadata": {},
     "output_type": "execute_result"
    }
   ],
   "source": [
    "data['Wind (offshore), operationRateMax'].sum()"
   ]
  },
  {
   "cell_type": "markdown",
   "metadata": {},
   "source": [
    "### PV"
   ]
  },
  {
   "cell_type": "code",
   "execution_count": 9,
   "metadata": {},
   "outputs": [],
   "source": [
    "esM.add(fn.Source(esM=esM, name='PV', commodity='electricity', hasCapacityVariable=True,\n",
    "                  operationRateMax=data['PV, operationRateMax'], capacityMax=data['PV, capacityMax'],\n",
    "                  investPerCapacity=0.65, opexPerCapacity=0.65*0.02, interestRate=0.08,\n",
    "                  economicLifetime=25))"
   ]
  },
  {
   "cell_type": "markdown",
   "metadata": {},
   "source": [
    "Full load hours:"
   ]
  },
  {
   "cell_type": "code",
   "execution_count": 10,
   "metadata": {},
   "outputs": [
    {
     "data": {
      "text/plain": [
       "cluster_0    1113.216464\n",
       "cluster_1    1053.579422\n",
       "cluster_2    1058.005181\n",
       "cluster_3    1079.872237\n",
       "cluster_4    1140.407380\n",
       "cluster_5    1051.848141\n",
       "cluster_6    1069.843344\n",
       "cluster_7    1085.697466\n",
       "dtype: float64"
      ]
     },
     "execution_count": 10,
     "metadata": {},
     "output_type": "execute_result"
    }
   ],
   "source": [
    "data['PV, operationRateMax'].sum()"
   ]
  },
  {
   "cell_type": "markdown",
   "metadata": {},
   "source": [
    "### Exisisting run-of-river hydroelectricity plants"
   ]
  },
  {
   "cell_type": "code",
   "execution_count": 11,
   "metadata": {},
   "outputs": [],
   "source": [
    "esM.add(fn.Source(esM=esM, name='Existing run-of-river plants', commodity='electricity',\n",
    "                  hasCapacityVariable=True,\n",
    "                  operationRateFix=data['Existing run-of-river plants, operationRateFix'], tsaWeight=0.01,\n",
    "                  capacityFix=data['Existing run-of-river plants, capacityFix'],\n",
    "                  investPerCapacity=0, opexPerCapacity=0.208))"
   ]
  },
  {
   "cell_type": "markdown",
   "metadata": {},
   "source": [
    "## 3.2. Methane (natural gas and biogas)"
   ]
  },
  {
   "cell_type": "markdown",
   "metadata": {},
   "source": [
    "### Natural gas"
   ]
  },
  {
   "cell_type": "code",
   "execution_count": 12,
   "metadata": {},
   "outputs": [],
   "source": [
    "esM.add(fn.Source(esM=esM, name='Natural gas purchase', commodity='methane',\n",
    "                  hasCapacityVariable=False, commodityCost=0.0331*1e-3))"
   ]
  },
  {
   "cell_type": "markdown",
   "metadata": {},
   "source": [
    "### Biogas"
   ]
  },
  {
   "cell_type": "code",
   "execution_count": 13,
   "metadata": {},
   "outputs": [],
   "source": [
    "esM.add(fn.Source(esM=esM, name='Biogas purchase', commodity='biogas',\n",
    "                  operationRateMax=data['Biogas, operationRateMax'], hasCapacityVariable=False,\n",
    "                  commodityCost=0.05409*1e-3))"
   ]
  },
  {
   "cell_type": "markdown",
   "metadata": {},
   "source": [
    "# 4. Add conversion components to the energy system model"
   ]
  },
  {
   "cell_type": "markdown",
   "metadata": {},
   "source": [
    "### Combined cycle gas turbine plants"
   ]
  },
  {
   "cell_type": "code",
   "execution_count": 14,
   "metadata": {},
   "outputs": [],
   "source": [
    "esM.add(fn.Conversion(esM=esM, name='CCGT plants (methane)', physicalUnit=r'GW$_{el}$',\n",
    "                      commodityConversionFactors={'electricity':1, 'methane':-1/0.6, 'CO2':201*1e-6/0.6},\n",
    "                      hasCapacityVariable=True,\n",
    "                      investPerCapacity=0.65, opexPerCapacity=0.021, interestRate=0.08,\n",
    "                      economicLifetime=33))"
   ]
  },
  {
   "cell_type": "markdown",
   "metadata": {},
   "source": [
    "### New combined cycle gas turbine plants for biogas"
   ]
  },
  {
   "cell_type": "code",
   "execution_count": 15,
   "metadata": {},
   "outputs": [],
   "source": [
    "esM.add(fn.Conversion(esM=esM, name='New CCGT plants (biogas)', physicalUnit=r'GW$_{el}$',\n",
    "                      commodityConversionFactors={'electricity':1, 'biogas':-1/0.63},\n",
    "                      hasCapacityVariable=True, \n",
    "                      investPerCapacity=0.7, opexPerCapacity=0.021, interestRate=0.08,\n",
    "                      economicLifetime=33))"
   ]
  },
  {
   "cell_type": "markdown",
   "metadata": {},
   "source": [
    "### New combined cycly gas turbines for hydrogen"
   ]
  },
  {
   "cell_type": "code",
   "execution_count": 16,
   "metadata": {},
   "outputs": [],
   "source": [
    "esM.add(fn.Conversion(esM=esM, name='New CCGT plants (hydrogen)', physicalUnit=r'GW$_{el}$',\n",
    "                      commodityConversionFactors={'electricity':1, 'hydrogen':-1/0.63},\n",
    "                      hasCapacityVariable=True, \n",
    "                      investPerCapacity=0.7, opexPerCapacity=0.021, interestRate=0.08,\n",
    "                      economicLifetime=33))"
   ]
  },
  {
   "cell_type": "markdown",
   "metadata": {},
   "source": [
    "### Electrolyzers"
   ]
  },
  {
   "cell_type": "code",
   "execution_count": 17,
   "metadata": {},
   "outputs": [],
   "source": [
    "esM.add(fn.Conversion(esM=esM, name='Electrolyzer', physicalUnit=r'GW$_{el}$',\n",
    "                      commodityConversionFactors={'electricity':-1, 'hydrogen':0.7},\n",
    "                      hasCapacityVariable=True, \n",
    "                      investPerCapacity=0.5, opexPerCapacity=0.5*0.025, interestRate=0.08,\n",
    "                      economicLifetime=10))"
   ]
  },
  {
   "cell_type": "markdown",
   "metadata": {},
   "source": [
    "### rSOC"
   ]
  },
  {
   "cell_type": "code",
   "execution_count": 18,
   "metadata": {},
   "outputs": [],
   "source": [
    "capexRSOC=1.5\n",
    "\n",
    "esM.add(fn.Conversion(esM=esM, name='rSOEC', physicalUnit=r'GW$_{el}$', linkedConversionCapacityID='rSOC',\n",
    "                      commodityConversionFactors={'electricity':-1, 'hydrogen':0.6},\n",
    "                      hasCapacityVariable=True, \n",
    "                      investPerCapacity=capexRSOC/2, opexPerCapacity=capexRSOC*0.02/2, interestRate=0.08,\n",
    "                      economicLifetime=10))\n",
    "\n",
    "esM.add(fn.Conversion(esM=esM, name='rSOFC', physicalUnit=r'GW$_{el}$', linkedConversionCapacityID='rSOC',\n",
    "                      commodityConversionFactors={'electricity':1, 'hydrogen':-1/0.6},\n",
    "                      hasCapacityVariable=True, \n",
    "                      investPerCapacity=capexRSOC/2, opexPerCapacity=capexRSOC*0.02/2, interestRate=0.08,\n",
    "                      economicLifetime=10))"
   ]
  },
  {
   "cell_type": "markdown",
   "metadata": {},
   "source": [
    "# 5. Add commodity storages to the energy system model"
   ]
  },
  {
   "cell_type": "markdown",
   "metadata": {},
   "source": [
    "## 5.1. Electricity storage"
   ]
  },
  {
   "cell_type": "markdown",
   "metadata": {},
   "source": [
    "### Lithium ion batteries\n",
    "\n",
    "The self discharge of a lithium ion battery is here described as 3% per month. The self discharge per hours is obtained using the equation (1-$\\text{selfDischarge}_\\text{hour})^{30*24\\text{h}} = 1-\\text{selfDischarge}_\\text{month}$."
   ]
  },
  {
   "cell_type": "code",
   "execution_count": 19,
   "metadata": {},
   "outputs": [],
   "source": [
    "esM.add(fn.Storage(esM=esM, name='Li-ion batteries', commodity='electricity',\n",
    "                   hasCapacityVariable=True, chargeEfficiency=0.95,\n",
    "                   cyclicLifetime=10000, dischargeEfficiency=0.95, selfDischarge=1-(1-0.03)**(1/(30*24)),\n",
    "                   chargeRate=1, dischargeRate=1, doPreciseTsaModeling=False,\n",
    "                   investPerCapacity=0.151, opexPerCapacity=0.002, interestRate=0.08,\n",
    "                   economicLifetime=22))"
   ]
  },
  {
   "cell_type": "markdown",
   "metadata": {},
   "source": [
    "## 5.2. Hydrogen storage"
   ]
  },
  {
   "cell_type": "markdown",
   "metadata": {},
   "source": [
    "### Hydrogen filled salt caverns\n",
    "The maximum capacity is here obtained by: dividing the given capacity (which is given for methane) by the lower heating value of methane and then multiplying it with the lower heating value of hydrogen."
   ]
  },
  {
   "cell_type": "code",
   "execution_count": 20,
   "metadata": {},
   "outputs": [],
   "source": [
    "esM.add(fn.Storage(esM=esM, name='Salt caverns (hydrogen)', commodity='hydrogen',\n",
    "                   hasCapacityVariable=True, capacityVariableDomain='continuous',\n",
    "                   capacityPerPlantUnit=133,\n",
    "                   chargeRate=1/470.37, dischargeRate=1/470.37, sharedPotentialID='Existing salt caverns',\n",
    "                   stateOfChargeMin=0.33, stateOfChargeMax=1, capacityMax=data['Salt caverns (hydrogen), capacityMax'],\n",
    "                   investPerCapacity=0.00011, opexPerCapacity=0.00057, interestRate=0.08,\n",
    "                   economicLifetime=30))"
   ]
  },
  {
   "cell_type": "markdown",
   "metadata": {},
   "source": [
    "## 5.3. Methane storage"
   ]
  },
  {
   "cell_type": "markdown",
   "metadata": {},
   "source": [
    "### Methane filled salt caverns"
   ]
  },
  {
   "cell_type": "code",
   "execution_count": 21,
   "metadata": {},
   "outputs": [],
   "source": [
    "esM.add(fn.Storage(esM=esM, name='Salt caverns (biogas)', commodity='biogas',\n",
    "                   hasCapacityVariable=True, capacityVariableDomain='continuous',\n",
    "                   capacityPerPlantUnit=443,\n",
    "                   chargeRate=1/470.37, dischargeRate=1/470.37, sharedPotentialID='Existing salt caverns',\n",
    "                   stateOfChargeMin=0.33, stateOfChargeMax=1, capacityMax=data['Salt caverns (methane), capacityMax'],\n",
    "                   investPerCapacity=0.00004, opexPerCapacity=0.00001, interestRate=0.08,\n",
    "                   economicLifetime=30))"
   ]
  },
  {
   "cell_type": "markdown",
   "metadata": {},
   "source": [
    "## 5.4 Pumped hydro storage"
   ]
  },
  {
   "cell_type": "markdown",
   "metadata": {},
   "source": [
    "### Pumped hydro storage"
   ]
  },
  {
   "cell_type": "code",
   "execution_count": 22,
   "metadata": {},
   "outputs": [],
   "source": [
    "esM.add(fn.Storage(esM=esM, name='Pumped hydro storage', commodity='electricity',\n",
    "                   chargeEfficiency=0.88, dischargeEfficiency=0.88,\n",
    "                   hasCapacityVariable=True, selfDischarge=1-(1-0.00375)**(1/(30*24)),\n",
    "                   chargeRate=0.16, dischargeRate=0.12, capacityFix=data['Pumped hydro storage, capacityFix'],\n",
    "                   investPerCapacity=0, opexPerCapacity=0.000153))"
   ]
  },
  {
   "cell_type": "markdown",
   "metadata": {},
   "source": [
    "# 6. Add commodity transmission components to the energy system model"
   ]
  },
  {
   "cell_type": "markdown",
   "metadata": {},
   "source": [
    "## 6.1. Electricity transmission"
   ]
  },
  {
   "cell_type": "markdown",
   "metadata": {},
   "source": [
    "### AC cables"
   ]
  },
  {
   "cell_type": "markdown",
   "metadata": {},
   "source": [
    "esM.add(fn.LinearOptimalPowerFlow(esM=esM, name='AC cables', commodity='electricity',\n",
    "                                  hasCapacityVariable=True, capacityFix=data['AC cables, capacityFix'],\n",
    "                                  reactances=data['AC cables, reactances']))"
   ]
  },
  {
   "cell_type": "code",
   "execution_count": 23,
   "metadata": {},
   "outputs": [
    {
     "name": "stdout",
     "output_type": "stream",
     "text": [
      "The distances of a component are set to a normalized value of 1.\n"
     ]
    }
   ],
   "source": [
    "esM.add(fn.Transmission(esM=esM, name='AC cables', commodity='electricity',\n",
    "                                  hasCapacityVariable=True, capacityFix=data['AC cables, capacityFix']))"
   ]
  },
  {
   "cell_type": "markdown",
   "metadata": {},
   "source": [
    "### DC cables"
   ]
  },
  {
   "cell_type": "code",
   "execution_count": 24,
   "metadata": {},
   "outputs": [],
   "source": [
    "esM.add(fn.Transmission(esM=esM, name='DC cables', commodity='electricity', losses=data['DC cables, losses'],\n",
    "                        distances=data['DC cables, distances'],\n",
    "                        hasCapacityVariable=True, capacityFix=data['DC cables, capacityFix']))"
   ]
  },
  {
   "cell_type": "markdown",
   "metadata": {},
   "source": [
    "## 6.2 Methane transmission"
   ]
  },
  {
   "cell_type": "markdown",
   "metadata": {},
   "source": [
    "### Methane pipeline"
   ]
  },
  {
   "cell_type": "code",
   "execution_count": 25,
   "metadata": {
    "scrolled": true
   },
   "outputs": [],
   "source": [
    "esM.add(fn.Transmission(esM=esM, name='Pipelines (biogas)', commodity='biogas', \n",
    "                        distances=data['Pipelines, distances'],\n",
    "                        hasCapacityVariable=True, hasIsBuiltBinaryVariable=True, bigM=300,\n",
    "                        locationalEligibility=data['Pipelines, eligibility'],\n",
    "                        capacityMax=data['Pipelines, eligibility']*15, sharedPotentialID='pipelines',\n",
    "                        investPerCapacity=0.000037, investIfBuilt=0.000314,\n",
    "                        interestRate=0.08, economicLifetime=40))"
   ]
  },
  {
   "cell_type": "markdown",
   "metadata": {},
   "source": [
    "## 6.3 Hydrogen transmission"
   ]
  },
  {
   "cell_type": "markdown",
   "metadata": {},
   "source": [
    "### Hydrogen pipelines"
   ]
  },
  {
   "cell_type": "code",
   "execution_count": 26,
   "metadata": {
    "scrolled": true
   },
   "outputs": [],
   "source": [
    "esM.add(fn.Transmission(esM=esM, name='Pipelines (hydrogen)', commodity='hydrogen',\n",
    "                        distances=data['Pipelines, distances'],\n",
    "                        hasCapacityVariable=True, hasIsBuiltBinaryVariable=True, bigM=300,\n",
    "                        locationalEligibility=data['Pipelines, eligibility'],\n",
    "                        capacityMax=data['Pipelines, eligibility']*15, sharedPotentialID='pipelines',\n",
    "                        investPerCapacity=0.000177, investIfBuilt=0.00033,\n",
    "                        interestRate=0.08, economicLifetime=40))"
   ]
  },
  {
   "cell_type": "markdown",
   "metadata": {},
   "source": [
    "# 7. Add commodity sinks to the energy system model"
   ]
  },
  {
   "cell_type": "markdown",
   "metadata": {},
   "source": [
    "## 7.1. Electricity sinks"
   ]
  },
  {
   "cell_type": "markdown",
   "metadata": {},
   "source": [
    "### Electricity demand"
   ]
  },
  {
   "cell_type": "code",
   "execution_count": 27,
   "metadata": {},
   "outputs": [],
   "source": [
    "esM.add(fn.Sink(esM=esM, name='Electricity demand', commodity='electricity',\n",
    "                hasCapacityVariable=False, operationRateFix=data['Electricity demand, operationRateFix']))"
   ]
  },
  {
   "cell_type": "markdown",
   "metadata": {},
   "source": [
    "## 7.2. Hydrogen sinks"
   ]
  },
  {
   "cell_type": "markdown",
   "metadata": {},
   "source": [
    "### Fuel cell electric vehicle (FCEV) demand"
   ]
  },
  {
   "cell_type": "code",
   "execution_count": 28,
   "metadata": {},
   "outputs": [],
   "source": [
    "FCEV_penetration=0.5\n",
    "esM.add(fn.Sink(esM=esM, name='Hydrogen demand', commodity='hydrogen', hasCapacityVariable=False,\n",
    "                operationRateFix=data['Hydrogen demand, operationRateFix']*FCEV_penetration))"
   ]
  },
  {
   "cell_type": "markdown",
   "metadata": {},
   "source": [
    "## 7.3. CO2 sinks"
   ]
  },
  {
   "cell_type": "markdown",
   "metadata": {},
   "source": [
    "### CO2 exiting the system's boundary"
   ]
  },
  {
   "cell_type": "code",
   "execution_count": 29,
   "metadata": {},
   "outputs": [],
   "source": [
    "esM.add(fn.Sink(esM=esM, name='CO2 to enviroment', commodity='CO2',\n",
    "                hasCapacityVariable=False, commodityLimitID='CO2 limit', yearlyLimit=366*(1-CO2_reductionTarget)))"
   ]
  },
  {
   "cell_type": "markdown",
   "metadata": {},
   "source": [
    "# 8. Optimize energy system model"
   ]
  },
  {
   "cell_type": "markdown",
   "metadata": {},
   "source": [
    "All components are now added to the model and the model can be optimized. If the computational complexity of the optimization should be reduced, the time series data of the specified components can be clustered before the optimization and the parameter timeSeriesAggregation is set to True in the optimize call."
   ]
  },
  {
   "cell_type": "code",
   "execution_count": 30,
   "metadata": {},
   "outputs": [
    {
     "name": "stdout",
     "output_type": "stream",
     "text": [
      "\n",
      "Clustering time series data with 7 typical periods and 24 time steps per period...\n",
<<<<<<< HEAD
      "\t\t(2.4910 sec)\n",
||||||| 6847507
      "\t\t(4.4210 sec)\n",
=======
      "\t\t(14.3407 sec)\n",
>>>>>>> ecf2071fb0c6000d9b2371c009a0d243b4f4d1b1
      "\n"
     ]
    },
    {
     "name": "stderr",
     "output_type": "stream",
     "text": [
      " C:\\Users\\s.patil\\Anaconda3\\envs\\fine_hack\\lib\\site-packages\\tsam\\timeseriesaggregation.py:982: UserWarning:Something went wrong: At least one maximal value of the aggregated time series exceeds the maximal value the input time series\n"
     ]
    }
   ],
   "source": [
    "esM.cluster(numberOfTypicalPeriods=7)"
   ]
  },
  {
   "cell_type": "code",
   "execution_count": 31,
   "metadata": {
    "scrolled": true
   },
   "outputs": [
    {
     "name": "stdout",
     "output_type": "stream",
     "text": [
      "Time series aggregation specifications:\n",
      "Number of typical periods:7, number of time steps per period:24\n",
      "\n",
      "Declaring sets, variables and constraints for SourceSinkModel\n",
      "\tdeclaring sets... \n",
      "\tdeclaring variables... \n",
      "\tdeclaring constraints... \n",
<<<<<<< HEAD
      "\t\t(0.8603 sec)\n",
||||||| 6847507
      "\t\t(1.2341 sec)\n",
=======
      "\t\t(1.6538 sec)\n",
>>>>>>> ecf2071fb0c6000d9b2371c009a0d243b4f4d1b1
      "\n",
      "Declaring sets, variables and constraints for ConversionModel\n",
      "\tdeclaring sets... \n",
      "\tdeclaring variables... \n",
      "\tdeclaring constraints... \n",
<<<<<<< HEAD
      "\t\t(0.3040 sec)\n",
||||||| 6847507
      "\t\t(0.1875 sec)\n",
=======
      "\t\t(0.7664 sec)\n",
>>>>>>> ecf2071fb0c6000d9b2371c009a0d243b4f4d1b1
      "\n",
      "Declaring sets, variables and constraints for StorageModel\n",
      "\tdeclaring sets... \n",
      "\tdeclaring variables... \n",
      "\tdeclaring constraints... \n",
<<<<<<< HEAD
      "\t\t(2.8572 sec)\n",
||||||| 6847507
      "\t\t(1.8277 sec)\n",
=======
      "\t\t(6.0230 sec)\n",
>>>>>>> ecf2071fb0c6000d9b2371c009a0d243b4f4d1b1
      "\n",
      "Declaring sets, variables and constraints for TransmissionModel\n",
      "\tdeclaring sets... \n",
      "\tdeclaring variables... \n",
      "\tdeclaring constraints... \n",
<<<<<<< HEAD
      "\t\t(0.6010 sec)\n",
||||||| 6847507
      "\t\t(0.3437 sec)\n",
=======
      "\t\t(1.4895 sec)\n",
>>>>>>> ecf2071fb0c6000d9b2371c009a0d243b4f4d1b1
      "\n",
      "Declaring shared potential constraint...\n",
<<<<<<< HEAD
      "\t\t(0.0057 sec)\n",
      "\n",
      "Declaring linked component quantity constraint...\n",
      "\t\t(0.0005 sec)\n",
||||||| 6847507
      "\t\t(0.0000 sec)\n",
=======
      "\t\t(0.0090 sec)\n",
      "\n",
      "Declaring linked component quantity constraint...\n",
      "\t\t(0.0005 sec)\n",
>>>>>>> ecf2071fb0c6000d9b2371c009a0d243b4f4d1b1
      "\n",
      "Declaring commodity balances...\n",
<<<<<<< HEAD
      "\t\t(1.2080 sec)\n",
||||||| 6847507
      "\t\t(1.0310 sec)\n",
=======
      "\t\t(2.1804 sec)\n",
>>>>>>> ecf2071fb0c6000d9b2371c009a0d243b4f4d1b1
      "\n",
      "Declaring objective function...\n",
<<<<<<< HEAD
      "\t\t(0.4261 sec)\n",
      "\n",
      "Either solver not selected or specified solver not available.gurobi is set as solver.\n",
||||||| 6847507
      "\t\t(0.3281 sec)\n",
=======
      "\t\t(0.9070 sec)\n",
>>>>>>> ecf2071fb0c6000d9b2371c009a0d243b4f4d1b1
      "\n",
<<<<<<< HEAD
      "--------------------------------------------\n",
      "Warning: your license will expire in 4 days\n",
      "--------------------------------------------\n",
      "\n",
      "Using license file C:\\Users\\s.patil\\gurobi.lic\n",
||||||| 6847507
      "Using license file C:\\Users\\there\\gurobi.lic\n",
=======
      "Using license file C:\\Users\\s.patil\\gurobi.lic\n",
>>>>>>> ecf2071fb0c6000d9b2371c009a0d243b4f4d1b1
      "Academic license - for non-commercial use only\n",
<<<<<<< HEAD
      "Read LP format model from file C:\\Users\\S9CFE~1.PAT\\AppData\\Local\\Temp\\tmp0sh95gj7.pyomo.lp\n",
      "Reading time = 0.72 seconds\n",
      "x96946: 85942 rows, 55618 columns, 264787 nonzeros\n",
||||||| 6847507
      "Read LP format model from file C:\\Users\\there\\AppData\\Local\\Temp\\tmpohypen6h.pyomo.lp\n",
      "Reading time = 0.31 seconds\n",
      "x55618: 85942 rows, 55618 columns, 264787 nonzeros\n",
=======
      "Read LP format model from file C:\\Users\\S9CFE~1.PAT\\AppData\\Local\\Temp\\tmpdi9tfftw.pyomo.lp\n",
      "Reading time = 0.87 seconds\n",
      "x96946: 85942 rows, 55618 columns, 264787 nonzeros\n",
>>>>>>> ecf2071fb0c6000d9b2371c009a0d243b4f4d1b1
      "Changed value of parameter QCPDual to 1\n",
      "   Prev: 0  Min: 0  Max: 1  Default: 0\n",
      "Changed value of parameter Threads to 3\n",
      "   Prev: 0  Min: 0  Max: 1024  Default: 0\n",
      "Parameter logfile unchanged\n",
      "   Value:   Default: \n",
      "Changed value of parameter OptimalityTol to 0.001\n",
      "   Prev: 1e-06  Min: 1e-09  Max: 0.01  Default: 1e-06\n",
      "Changed value of parameter method to 2\n",
      "   Prev: -1  Min: -1  Max: 5  Default: -1\n",
      "Changed value of parameter cuts to 0\n",
      "   Prev: -1  Min: -1  Max: 3  Default: -1\n",
      "Gurobi Optimizer version 9.0.1 build v9.0.1rc0 (win64)\n",
      "Optimize a model with 85942 rows, 55618 columns and 264787 nonzeros\n",
      "Model fingerprint: 0x6be83201\n",
      "Variable types: 55566 continuous, 52 integer (52 binary)\n",
      "Coefficient statistics:\n",
      "  Matrix range     [2e-06, 5e+02]\n",
      "  Objective range  [1e-05, 3e-01]\n",
      "  Bounds range     [1e+00, 1e+05]\n",
      "  RHS range        [4e-02, 3e+01]\n",
      "Presolve removed 26139 rows and 15143 columns\n",
<<<<<<< HEAD
      "Presolve time: 0.84s\n",
||||||| 6847507
      "Presolve time: 0.37s\n",
=======
      "Presolve time: 1.08s\n",
>>>>>>> ecf2071fb0c6000d9b2371c009a0d243b4f4d1b1
      "Presolved: 59803 rows, 40475 columns, 207390 nonzeros\n",
      "Variable types: 40449 continuous, 26 integer (26 binary)\n",
      "Root barrier log...\n",
      "\n",
<<<<<<< HEAD
      "Ordering time: 1.51s\n",
||||||| 6847507
      "Ordering time: 0.86s\n",
=======
      "Ordering time: 1.67s\n",
>>>>>>> ecf2071fb0c6000d9b2371c009a0d243b4f4d1b1
      "\n",
      "Barrier statistics:\n",
      " Dense cols : 188\n",
      " Free vars  : 1288\n",
      " AA' NZ     : 1.230e+06\n",
      " Factor NZ  : 6.586e+06 (roughly 100 MBytes of memory)\n",
      " Factor Ops : 3.173e+09 (less than 1 second per iteration)\n",
      " Threads    : 3\n",
      "\n",
      "                  Objective                Residual\n",
      "Iter       Primal          Dual         Primal    Dual     Compl     Time\n",
<<<<<<< HEAD
      "   0   2.78674159e+05 -2.24194221e+06  3.17e+05 3.87e-03  2.17e+03     3s\n",
      "   1   2.59570369e+05 -2.15614669e+06  2.20e+05 2.00e-01  1.41e+03     3s\n",
      "   2   1.86684134e+05 -1.96135838e+06  1.51e+05 1.07e-01  9.48e+02     4s\n",
      "   3   8.46423238e+04 -1.50686486e+06  4.76e+04 3.79e-02  3.31e+02     4s\n",
      "   4   2.80234249e+04 -6.85922647e+05  2.79e+03 1.83e-03  3.64e+01     4s\n",
      "   5   1.91653046e+04 -2.13723619e+05  9.66e+01 6.54e-04  1.06e+01     5s\n",
      "   6   6.99044164e+03 -1.63349490e+05  1.83e+01 3.27e-04  3.13e+00     5s\n",
      "   7   4.11506465e+03 -6.79879556e+04  7.45e+00 1.22e-04  1.16e+00     5s\n",
      "   8   1.51308517e+03 -1.59889366e+04  1.22e+00 5.55e-04  2.00e-01     5s\n",
      "   9   5.57271886e+02 -2.99965692e+03  1.98e-01 2.16e-04  3.33e-02     6s\n",
      "  10   2.69643491e+02 -6.17100408e+02  4.71e-02 1.88e-04  7.79e-03     6s\n",
      "  11   1.57440697e+02 -2.89568051e+02  1.58e-02 9.04e-05  3.84e-03     6s\n",
      "  12   9.08052671e+01 -1.03357712e+02  3.99e-03 4.11e-05  1.65e-03     7s\n",
      "  13   7.81974606e+01 -3.59076717e+01  2.39e-03 2.34e-05  9.71e-04     7s\n",
      "  14   6.99934488e+01 -3.06365807e+00  1.43e-03 1.49e-05  6.21e-04     7s\n",
      "  15   6.54405007e+01  2.14959387e+01  1.01e-03 8.14e-06  3.74e-04     7s\n",
      "  16   6.24298144e+01  3.58210054e+01  7.40e-04 4.40e-06  2.26e-04     8s\n",
      "  17   5.66996402e+01  4.27718670e+01  2.13e-04 2.47e-06  1.18e-04     8s\n",
      "  18   5.46325910e+01  4.67867510e+01  8.00e-05 1.49e-06  6.66e-05     8s\n",
      "  19   5.39589168e+01  4.91055773e+01  4.89e-05 9.24e-07  4.12e-05     9s\n",
      "  20   5.35018917e+01  5.02664664e+01  3.13e-05 6.15e-07  2.75e-05     9s\n",
      "  21   5.32079971e+01  5.09186394e+01  2.06e-05 4.40e-07  1.94e-05     9s\n",
      "  22   5.29013263e+01  5.14687105e+01  1.03e-05 2.94e-07  1.22e-05     9s\n",
      "  23   5.27459168e+01  5.20878831e+01  4.88e-06 1.23e-07  5.59e-06    10s\n",
      "  24   5.26427343e+01  5.24377278e+01  1.58e-06 6.97e-08  1.74e-06    10s\n",
      "  25   5.26144584e+01  5.24933594e+01  8.20e-07 4.80e-08  1.03e-06    10s\n",
      "  26   5.26021250e+01  5.25436472e+01  4.93e-07 2.24e-08  4.97e-07    10s\n",
      "  27   5.25962500e+01  5.25524232e+01  3.48e-07 1.72e-08  3.72e-07    11s\n",
      "  28   5.25931992e+01  5.25595348e+01  2.74e-07 1.29e-08  2.86e-07    11s\n",
      "  29   5.25892013e+01  5.25660007e+01  1.82e-07 9.17e-09  1.97e-07    11s\n",
      "  30   5.25868835e+01  5.25730227e+01  1.27e-07 5.46e-09  1.18e-07    11s\n",
      "  31   5.25843152e+01  5.25773016e+01  6.69e-08 2.82e-09  5.96e-08    12s\n",
      "  32   5.25822789e+01  5.25803694e+01  2.01e-08 6.72e-10  1.63e-08    12s\n",
      "  33   5.25818461e+01  5.25809595e+01  1.07e-08 2.94e-10  7.56e-09    12s\n",
      "  34   5.25816871e+01  5.25811994e+01  6.60e-09 1.41e-10  4.16e-09    13s\n",
      "  35   5.25815419e+01  5.25813356e+01  4.30e-09 6.12e-11  1.76e-09    13s\n",
      "  36   5.25815027e+01  5.25813877e+01  3.00e-09 1.94e-11  9.80e-10    13s\n",
      "  37   5.25814528e+01  5.25814066e+01  1.12e-09 4.49e-12  3.93e-10    13s\n",
      "  38   5.25814203e+01  5.25814125e+01  7.72e-10 1.17e-12  6.71e-11    14s\n",
      "  39   5.25814185e+01  5.25814138e+01  2.20e-08 2.45e-10  3.99e-11    14s\n",
      "  40   5.25814185e+01  5.25814137e+01  6.48e-08 4.41e-08  3.98e-11    14s\n",
      "  41   5.25814185e+01  5.25814137e+01  1.30e-07 4.41e-08  3.98e-11    15s\n",
      "  42   5.25814185e+01  5.25814137e+01  1.30e-07 4.41e-08  3.99e-11    15s\n",
||||||| 6847507
      "   0   2.78674159e+05 -2.24194221e+06  3.17e+05 3.87e-03  2.17e+03     2s\n",
      "   1   2.59570369e+05 -2.15614669e+06  2.20e+05 2.00e-01  1.41e+03     2s\n",
      "   2   1.86684134e+05 -1.96135838e+06  1.51e+05 1.07e-01  9.48e+02     2s\n",
      "   3   8.46423238e+04 -1.50686486e+06  4.76e+04 3.79e-02  3.31e+02     2s\n",
      "   4   2.80234249e+04 -6.85922647e+05  2.79e+03 1.83e-03  3.64e+01     2s\n",
      "   5   1.91653046e+04 -2.13723619e+05  9.66e+01 6.54e-04  1.06e+01     2s\n",
      "   6   6.99044164e+03 -1.63349490e+05  1.83e+01 3.27e-04  3.13e+00     3s\n",
      "   7   4.11506465e+03 -6.79879556e+04  7.45e+00 1.22e-04  1.16e+00     3s\n",
      "   8   1.51308517e+03 -1.59889366e+04  1.22e+00 5.55e-04  2.00e-01     3s\n",
      "   9   5.57271886e+02 -2.99965692e+03  1.98e-01 2.16e-04  3.33e-02     3s\n",
      "  10   2.69643491e+02 -6.17100408e+02  4.71e-02 1.88e-04  7.79e-03     3s\n",
      "  11   1.57440697e+02 -2.89568051e+02  1.58e-02 9.04e-05  3.84e-03     3s\n",
      "  12   9.08052671e+01 -1.03357712e+02  3.99e-03 4.11e-05  1.65e-03     3s\n",
      "  13   7.81974606e+01 -3.59076715e+01  2.39e-03 2.34e-05  9.71e-04     3s\n",
      "  14   6.99934488e+01 -3.06365786e+00  1.43e-03 1.49e-05  6.21e-04     4s\n",
      "  15   6.54405007e+01  2.14959387e+01  1.01e-03 8.14e-06  3.74e-04     4s\n",
      "  16   6.24298144e+01  3.58210055e+01  7.40e-04 4.40e-06  2.26e-04     4s\n",
      "  17   5.66996402e+01  4.27718670e+01  2.13e-04 2.47e-06  1.18e-04     4s\n",
      "  18   5.46325910e+01  4.67867510e+01  8.00e-05 1.49e-06  6.66e-05     4s\n",
      "  19   5.39589169e+01  4.91055773e+01  4.89e-05 9.24e-07  4.12e-05     4s\n",
      "  20   5.35018917e+01  5.02664664e+01  3.13e-05 6.15e-07  2.75e-05     4s\n",
      "  21   5.32079971e+01  5.09186397e+01  2.06e-05 4.40e-07  1.94e-05     5s\n",
      "  22   5.29013263e+01  5.14687109e+01  1.03e-05 2.94e-07  1.22e-05     5s\n",
      "  23   5.27459167e+01  5.20878826e+01  4.88e-06 1.23e-07  5.59e-06     5s\n",
      "  24   5.26427343e+01  5.24377276e+01  1.58e-06 6.97e-08  1.74e-06     5s\n",
      "  25   5.26144584e+01  5.24933594e+01  8.20e-07 4.80e-08  1.03e-06     5s\n",
      "  26   5.26021250e+01  5.25436472e+01  4.93e-07 2.24e-08  4.97e-07     5s\n",
      "  27   5.25962501e+01  5.25524232e+01  3.48e-07 1.72e-08  3.72e-07     5s\n",
      "  28   5.25931992e+01  5.25595348e+01  2.74e-07 1.29e-08  2.86e-07     5s\n",
      "  29   5.25892013e+01  5.25660007e+01  1.82e-07 9.17e-09  1.97e-07     6s\n",
      "  30   5.25868839e+01  5.25730227e+01  1.27e-07 5.46e-09  1.18e-07     6s\n",
      "  31   5.25843152e+01  5.25773012e+01  6.69e-08 2.82e-09  5.96e-08     6s\n",
      "  32   5.25822789e+01  5.25803691e+01  1.85e-08 6.72e-10  1.63e-08     6s\n",
      "  33   5.25818462e+01  5.25809594e+01  9.99e-09 2.94e-10  7.56e-09     6s\n",
      "  34   5.25816872e+01  5.25811992e+01  8.71e-09 1.41e-10  4.16e-09     6s\n",
      "  35   5.25815418e+01  5.25813356e+01  4.11e-09 6.12e-11  1.76e-09     6s\n",
      "  36   5.25815027e+01  5.25813878e+01  2.83e-09 1.88e-11  9.79e-10     7s\n",
      "  37   5.25814527e+01  5.25814072e+01  1.34e-09 4.27e-12  3.87e-10     7s\n",
      "  38   5.25814324e+01  5.25814123e+01  6.13e-10 1.44e-12  1.71e-10     7s\n",
      "  39   5.25814204e+01  5.25814142e+01  9.80e-08 1.21e-12  5.27e-11     7s\n",
      "  40   5.25814194e+01  5.25814145e+01  7.86e-08 1.40e-10  4.14e-11     7s\n",
      "  41   5.25814193e+01  5.25814145e+01  2.17e-07 1.39e-10  4.10e-11     7s\n",
      "  42   5.25814193e+01  5.25814144e+01  2.97e-07 5.85e-10  4.10e-11     8s\n",
      "  43   5.25814193e+01  5.25814144e+01  2.97e-07 5.74e-10  4.11e-11     8s\n",
=======
      "   0   2.78674159e+05 -2.24194221e+06  3.17e+05 3.87e-03  2.17e+03     4s\n",
      "   1   2.59570369e+05 -2.15614669e+06  2.20e+05 2.00e-01  1.41e+03     4s\n",
      "   2   1.86684134e+05 -1.96135838e+06  1.51e+05 1.07e-01  9.48e+02     4s\n",
      "   3   8.46423238e+04 -1.50686486e+06  4.76e+04 3.79e-02  3.31e+02     5s\n",
      "   4   2.80234249e+04 -6.85922647e+05  2.79e+03 1.83e-03  3.64e+01     5s\n",
      "   5   1.91653046e+04 -2.13723619e+05  9.66e+01 6.54e-04  1.06e+01     6s\n",
      "   6   6.99044164e+03 -1.63349490e+05  1.83e+01 3.27e-04  3.13e+00     6s\n",
      "   7   4.11506465e+03 -6.79879556e+04  7.45e+00 1.22e-04  1.16e+00     6s\n",
      "   8   1.51308517e+03 -1.59889366e+04  1.22e+00 5.55e-04  2.00e-01     6s\n",
      "   9   5.57271886e+02 -2.99965692e+03  1.98e-01 2.16e-04  3.33e-02     7s\n",
      "  10   2.69643491e+02 -6.17100408e+02  4.71e-02 1.88e-04  7.79e-03     7s\n",
      "  11   1.57440697e+02 -2.89568051e+02  1.58e-02 9.04e-05  3.84e-03     7s\n",
      "  12   9.08052671e+01 -1.03357712e+02  3.99e-03 4.11e-05  1.65e-03     8s\n",
      "  13   7.81974606e+01 -3.59076717e+01  2.39e-03 2.34e-05  9.71e-04     8s\n",
      "  14   6.99934488e+01 -3.06365807e+00  1.43e-03 1.49e-05  6.21e-04     8s\n",
      "  15   6.54405007e+01  2.14959387e+01  1.01e-03 8.14e-06  3.74e-04     9s\n",
      "  16   6.24298144e+01  3.58210054e+01  7.40e-04 4.40e-06  2.26e-04     9s\n",
      "  17   5.66996402e+01  4.27718670e+01  2.13e-04 2.47e-06  1.18e-04     9s\n",
      "  18   5.46325910e+01  4.67867510e+01  8.00e-05 1.49e-06  6.66e-05    10s\n",
      "  19   5.39589168e+01  4.91055773e+01  4.89e-05 9.24e-07  4.12e-05    10s\n",
      "  20   5.35018917e+01  5.02664664e+01  3.13e-05 6.15e-07  2.75e-05    10s\n",
      "  21   5.32079971e+01  5.09186394e+01  2.06e-05 4.40e-07  1.94e-05    10s\n",
      "  22   5.29013263e+01  5.14687105e+01  1.03e-05 2.94e-07  1.22e-05    11s\n",
      "  23   5.27459168e+01  5.20878831e+01  4.88e-06 1.23e-07  5.59e-06    11s\n",
      "  24   5.26427343e+01  5.24377278e+01  1.58e-06 6.97e-08  1.74e-06    11s\n",
      "  25   5.26144584e+01  5.24933594e+01  8.20e-07 4.80e-08  1.03e-06    12s\n",
      "  26   5.26021250e+01  5.25436472e+01  4.93e-07 2.24e-08  4.97e-07    12s\n",
      "  27   5.25962500e+01  5.25524232e+01  3.48e-07 1.72e-08  3.72e-07    12s\n",
      "  28   5.25931992e+01  5.25595348e+01  2.74e-07 1.29e-08  2.86e-07    12s\n",
      "  29   5.25892013e+01  5.25660007e+01  1.82e-07 9.17e-09  1.97e-07    13s\n",
      "  30   5.25868835e+01  5.25730227e+01  1.27e-07 5.46e-09  1.18e-07    13s\n",
      "  31   5.25843152e+01  5.25773016e+01  6.69e-08 2.82e-09  5.96e-08    13s\n",
      "  32   5.25822789e+01  5.25803694e+01  2.01e-08 6.72e-10  1.63e-08    14s\n",
      "  33   5.25818461e+01  5.25809595e+01  1.07e-08 2.94e-10  7.56e-09    14s\n",
      "  34   5.25816871e+01  5.25811994e+01  6.60e-09 1.41e-10  4.16e-09    14s\n",
      "  35   5.25815419e+01  5.25813356e+01  4.30e-09 6.12e-11  1.76e-09    14s\n",
      "  36   5.25815027e+01  5.25813877e+01  3.00e-09 1.94e-11  9.80e-10    15s\n",
      "  37   5.25814528e+01  5.25814066e+01  1.12e-09 4.49e-12  3.93e-10    15s\n",
      "  38   5.25814203e+01  5.25814125e+01  7.72e-10 1.17e-12  6.71e-11    16s\n",
      "  39   5.25814185e+01  5.25814138e+01  2.20e-08 2.45e-10  3.99e-11    16s\n",
      "  40   5.25814185e+01  5.25814137e+01  6.48e-08 4.41e-08  3.98e-11    16s\n",
      "  41   5.25814185e+01  5.25814137e+01  1.30e-07 4.41e-08  3.98e-11    17s\n",
      "  42   5.25814185e+01  5.25814137e+01  1.30e-07 4.41e-08  3.99e-11    17s\n",
>>>>>>> ecf2071fb0c6000d9b2371c009a0d243b4f4d1b1
      "\n",
<<<<<<< HEAD
      "Barrier solved model in 42 iterations and 15.05 seconds\n",
      "Optimal objective 5.25814185e+01\n",
||||||| 6847507
      "Barrier solved model in 43 iterations and 7.78 seconds\n",
      "Optimal objective 5.25814193e+01\n",
=======
      "Barrier solved model in 42 iterations and 17.13 seconds\n",
      "Optimal objective 5.25814185e+01\n",
>>>>>>> ecf2071fb0c6000d9b2371c009a0d243b4f4d1b1
      "\n",
      "\n",
      "Root crossover log...\n",
      "\n",
<<<<<<< HEAD
      "   16210 DPushes remaining with DInf 1.4109036e-02                15s\n",
      "       0 DPushes remaining with DInf 2.1063811e+09                18s\n",
      "\n",
      "Restart crossover...\n",
||||||| 6847507
      "    2171 DPushes remaining with DInf 2.9359415e+01                 8s\n",
      "       0 DPushes remaining with DInf 2.0579242e+01                 8s\n",
=======
      "   16210 DPushes remaining with DInf 1.4109036e-02                17s\n",
      "     572 DPushes remaining with DInf 1.8484420e+05                20s\n",
      "       0 DPushes remaining with DInf 2.1063811e+09                21s\n",
      "\n",
      "Restart crossover...\n",
      "\n",
      "   16227 DPushes remaining with DInf 0.0000000e+00                21s\n",
      "       0 DPushes remaining with DInf 2.9545781e+01                24s\n",
>>>>>>> ecf2071fb0c6000d9b2371c009a0d243b4f4d1b1
      "\n",
<<<<<<< HEAD
      "   16227 DPushes remaining with DInf 0.0000000e+00                18s\n",
      "    3422 DPushes remaining with DInf 2.0860432e-03                20s\n",
      "       0 DPushes remaining with DInf 2.9545781e+01                21s\n",
||||||| 6847507
      "   16102 PPushes remaining with PInf 4.5041677e-02                 8s\n",
      "       0 PPushes remaining with PInf 1.3965669e-03                 9s\n",
=======
      "   14204 PPushes remaining with PInf 1.5510727e-01                24s\n",
      "    8083 PPushes remaining with PInf 4.2210401e-01                25s\n",
      "       0 PPushes remaining with PInf 9.8639908e-05                27s\n",
>>>>>>> ecf2071fb0c6000d9b2371c009a0d243b4f4d1b1
      "\n",
<<<<<<< HEAD
      "   14204 PPushes remaining with PInf 1.5510727e-01                21s\n",
      "       0 PPushes remaining with PInf 9.8639908e-05                25s\n",
      "\n",
      "  Push phase complete: Pinf 9.8639908e-05, Dinf 2.2132113e+01     25s\n",
||||||| 6847507
      "  Push phase complete: Pinf 1.3965669e-03, Dinf 2.3044711e+01      9s\n",
=======
      "  Push phase complete: Pinf 9.8639908e-05, Dinf 2.2132113e+01     27s\n",
>>>>>>> ecf2071fb0c6000d9b2371c009a0d243b4f4d1b1
      "\n",
      "\n",
      "Root simplex log...\n",
      "\n",
      "Iteration    Objective       Primal Inf.    Dual Inf.      Time\n",
<<<<<<< HEAD
      "   22166    5.2581448e+01   0.000000e+00   2.167126e+01     25s\n",
      "   22308    5.2581430e+01   0.000000e+00   3.810265e-01     25s\n",
      "   22486    5.2581430e+01   0.000000e+00   0.000000e+00     26s\n",
      "   22486    5.2581430e+01   0.000000e+00   0.000000e+00     26s\n",
||||||| 6847507
      "   17018    5.2581557e+01   0.000000e+00   2.284844e+01      9s\n",
      "   18240    5.2581418e+01   0.000000e+00   4.049149e-01     10s\n",
      "   19435    5.2581426e+01   0.000000e+00   0.000000e+00     12s\n",
      "   19435    5.2581426e+01   0.000000e+00   0.000000e+00     12s\n",
=======
      "   22166    5.2581448e+01   0.000000e+00   2.167126e+01     27s\n",
      "   22486    5.2581430e+01   0.000000e+00   0.000000e+00     28s\n",
      "   22486    5.2581430e+01   0.000000e+00   0.000000e+00     28s\n",
>>>>>>> ecf2071fb0c6000d9b2371c009a0d243b4f4d1b1
      "\n",
<<<<<<< HEAD
      "Root relaxation: objective 5.258143e+01, 22486 iterations, 24.75 seconds\n",
||||||| 6847507
      "Root relaxation: objective 5.258143e+01, 19435 iterations, 11.25 seconds\n",
=======
      "Root relaxation: objective 5.258143e+01, 22486 iterations, 26.46 seconds\n",
>>>>>>> ecf2071fb0c6000d9b2371c009a0d243b4f4d1b1
      "\n",
      "    Nodes    |    Current Node    |     Objective Bounds      |     Work\n",
      " Expl Unexpl |  Obj  Depth IntInf | Incumbent    BestBd   Gap | It/Node Time\n",
      "\n",
<<<<<<< HEAD
      "     0     0   52.58143    0    9          -   52.58143      -     -   25s\n",
      "H    0     0                      52.6586131   52.58143  0.15%     -   28s\n",
      "H    0     0                      52.6584492   52.58143  0.15%     -   28s\n",
      "     0     0     cutoff    0        52.65845   52.65845  0.00%     -  542s\n",
||||||| 6847507
      "     0     0   52.58143    0   11          -   52.58143      -     -   12s\n",
      "H    0     0                      52.6732720   52.58143  0.17%     -   12s\n",
      "     0     0     cutoff    0        52.67327   52.67327  0.00%     -   20s\n",
=======
      "     0     0   52.58143    0    9          -   52.58143      -     -   27s\n",
      "H    0     0                      52.6586131   52.58143  0.15%     -   30s\n",
      "H    0     0                      52.6584492   52.58143  0.15%     -   30s\n",
      "     0     0     cutoff    0        52.65845   52.65845  0.00%     -  701s\n",
>>>>>>> ecf2071fb0c6000d9b2371c009a0d243b4f4d1b1
      "\n",
<<<<<<< HEAD
      "Explored 1 nodes (168800 simplex iterations) in 542.35 seconds\n",
||||||| 6847507
      "Explored 1 nodes (19435 simplex iterations) in 20.81 seconds\n",
=======
      "Explored 1 nodes (168800 simplex iterations) in 701.22 seconds\n",
>>>>>>> ecf2071fb0c6000d9b2371c009a0d243b4f4d1b1
      "Thread count was 3 (of 8 available processors)\n",
      "\n",
      "Solution count 1: 52.6584 \n",
      "\n",
      "Optimal solution found (tolerance 1.00e-04)\n",
      "Warning: max constraint violation (5.9330e-06) exceeds tolerance\n",
      "Best objective 5.265844918359e+01, best bound 5.265844918359e+01, gap 0.0000%\n",
      "\n",
      "Status: ok\n",
      "Return code: 0\n",
      "Message: Model was solved to optimality (subject to tolerances), and an optimal solution is available.\n",
      "Termination condition: optimal\n",
      "Termination message: Model was solved to optimality (subject to tolerances), and an optimal solution is available.\n",
<<<<<<< HEAD
      "Wall time: 542.3510112762451\n",
||||||| 6847507
      "Wall time: 20.807594299316406\n",
=======
      "Wall time: 701.2208728790283\n",
>>>>>>> ecf2071fb0c6000d9b2371c009a0d243b4f4d1b1
      "Error rc: 0\n",
<<<<<<< HEAD
      "Time: 543.9544966220856\n",
||||||| 6847507
      "Time: 21.65115451812744\n",
=======
      "Time: 703.7600469589233\n",
>>>>>>> ecf2071fb0c6000d9b2371c009a0d243b4f4d1b1
      "\n",
      "\n",
      "Name: x96946\n",
      "Lower bound: 52.65844918358857\n",
      "Upper bound: 52.65844918358857\n",
      "Number of objectives: 1\n",
      "Number of constraints: 85942\n",
      "Number of variables: 55618\n",
      "Number of binary variables: 52\n",
      "Number of integer variables: 52\n",
      "Number of continuous variables: 55566\n",
      "Number of nonzeros: 264787\n",
      "Sense: minimize\n",
      "\n",
<<<<<<< HEAD
      "Solve time: 551.6176633834839 sec.\n",
||||||| 6847507
      "Solve time: 25.290913581848145 sec.\n",
=======
      "Solve time: 720.4243552684784 sec.\n",
>>>>>>> ecf2071fb0c6000d9b2371c009a0d243b4f4d1b1
      "\n",
<<<<<<< HEAD
      "Processing optimization output...\n"
     ]
    },
    {
     "name": "stdout",
     "output_type": "stream",
     "text": [
      "for SourceSinkModel ...    (1.6060sec)\n",
      "for ConversionModel ...    (1.2764sec)\n"
     ]
    },
    {
     "name": "stderr",
     "output_type": "stream",
     "text": [
      " c:\\users\\s.patil\\documents\\code\\hackthon\\fine\\FINE\\storage.py:1087: UserWarning:Charge and discharge at the same time for component Li-ion batteries\n",
      " c:\\users\\s.patil\\documents\\code\\hackthon\\fine\\FINE\\storage.py:1087: UserWarning:Charge and discharge at the same time for component Salt caverns (hydrogen)\n",
      " c:\\users\\s.patil\\documents\\code\\hackthon\\fine\\FINE\\storage.py:1087: UserWarning:Charge and discharge at the same time for component Salt caverns (biogas)\n",
      " c:\\users\\s.patil\\documents\\code\\hackthon\\fine\\FINE\\storage.py:1087: UserWarning:Charge and discharge at the same time for component Pumped hydro storage\n"
||||||| 6847507
      "Processing optimization output...\n",
      "for SourceSinkModel ...    (1.1872sec)\n",
      "for ConversionModel ...    (0.9060sec)\n"
=======
      "Processing optimization output...\n"
>>>>>>> ecf2071fb0c6000d9b2371c009a0d243b4f4d1b1
     ]
    },
    {
     "name": "stdout",
     "output_type": "stream",
     "text": [
<<<<<<< HEAD
      "for StorageModel ...       (3.8477sec)\n",
      "for TransmissionModel ...  (4.1215sec)\n",
      "\t\t(10.8525 sec)\n",
||||||| 6847507
      "for StorageModel ...       (4.9676sec)\n",
      "for TransmissionModel ...  (2.8431sec)\n",
      "\t\t(9.9039 sec)\n",
=======
      "for SourceSinkModel ...    (3.6522sec)\n",
      "for ConversionModel ...    (2.2512sec)\n",
      "for StorageModel ...       (6.5873sec)\n",
      "for TransmissionModel ...  (7.6938sec)\n",
      "\t\t(20.1885 sec)\n",
>>>>>>> ecf2071fb0c6000d9b2371c009a0d243b4f4d1b1
      "\n"
     ]
    }
   ],
   "source": [
    "esM.optimize(timeSeriesAggregation=True, optimizationSpecs='OptimalityTol=1e-3 method=2 cuts=0')"
   ]
  },
  {
   "cell_type": "markdown",
   "metadata": {},
   "source": [
    "# 9. Selected results output\n",
    "\n",
    "Plot locations (GeoPandas required)"
   ]
  },
  {
   "cell_type": "code",
   "execution_count": 32,
   "metadata": {},
   "outputs": [],
   "source": [
    "# Import the geopandas package for plotting the locations\n",
    "import geopandas as gpd"
   ]
  },
  {
   "cell_type": "code",
   "execution_count": 33,
   "metadata": {},
   "outputs": [
    {
     "name": "stderr",
     "output_type": "stream",
     "text": [
      " c:\\users\\s.patil\\documents\\code\\hackthon\\fine\\FINE\\IOManagement\\standardIO.py:658: MatplotlibDeprecationWarning:The 's' parameter of annotate() has been renamed 'text' since Matplotlib 3.3; support for the old name will be dropped two minor releases later.\n",
      " c:\\users\\s.patil\\documents\\code\\hackthon\\fine\\FINE\\IOManagement\\standardIO.py:658: MatplotlibDeprecationWarning:The 's' parameter of annotate() has been renamed 'text' since Matplotlib 3.3; support for the old name will be dropped two minor releases later.\n",
      " c:\\users\\s.patil\\documents\\code\\hackthon\\fine\\FINE\\IOManagement\\standardIO.py:658: MatplotlibDeprecationWarning:The 's' parameter of annotate() has been renamed 'text' since Matplotlib 3.3; support for the old name will be dropped two minor releases later.\n",
      " c:\\users\\s.patil\\documents\\code\\hackthon\\fine\\FINE\\IOManagement\\standardIO.py:658: MatplotlibDeprecationWarning:The 's' parameter of annotate() has been renamed 'text' since Matplotlib 3.3; support for the old name will be dropped two minor releases later.\n",
      " c:\\users\\s.patil\\documents\\code\\hackthon\\fine\\FINE\\IOManagement\\standardIO.py:658: MatplotlibDeprecationWarning:The 's' parameter of annotate() has been renamed 'text' since Matplotlib 3.3; support for the old name will be dropped two minor releases later.\n",
      " c:\\users\\s.patil\\documents\\code\\hackthon\\fine\\FINE\\IOManagement\\standardIO.py:658: MatplotlibDeprecationWarning:The 's' parameter of annotate() has been renamed 'text' since Matplotlib 3.3; support for the old name will be dropped two minor releases later.\n",
      " c:\\users\\s.patil\\documents\\code\\hackthon\\fine\\FINE\\IOManagement\\standardIO.py:658: MatplotlibDeprecationWarning:The 's' parameter of annotate() has been renamed 'text' since Matplotlib 3.3; support for the old name will be dropped two minor releases later.\n",
      " c:\\users\\s.patil\\documents\\code\\hackthon\\fine\\FINE\\IOManagement\\standardIO.py:658: MatplotlibDeprecationWarning:The 's' parameter of annotate() has been renamed 'text' since Matplotlib 3.3; support for the old name will be dropped two minor releases later.\n"
     ]
    },
    {
     "data": {
<<<<<<< HEAD
      "image/png": "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\n",
||||||| 6847507
      "image/png": "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\n",
=======
      "image/png": "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\n",
>>>>>>> ecf2071fb0c6000d9b2371c009a0d243b4f4d1b1
      "text/plain": [
       "<Figure size 432x432 with 1 Axes>"
      ]
     },
     "metadata": {
      "needs_background": "light"
     },
     "output_type": "display_data"
    }
   ],
   "source": [
    "locFilePath = os.path.join(cwd, 'InputData', 'SpatialData','ShapeFiles', 'clusteredRegions.shp')\n",
    "fig, ax = fn.plotLocations(locFilePath, plotLocNames=True, indexColumn='index')"
   ]
  },
  {
   "cell_type": "markdown",
   "metadata": {},
   "source": [
    "### Sources and Sink\n",
    "\n",
    "Show optimization summary"
   ]
  },
  {
   "cell_type": "code",
   "execution_count": 35,
   "metadata": {
    "scrolled": false
   },
   "outputs": [
    {
     "data": {
      "text/html": [
       "<div>\n",
       "<style scoped>\n",
       "    .dataframe tbody tr th:only-of-type {\n",
       "        vertical-align: middle;\n",
       "    }\n",
       "\n",
       "    .dataframe tbody tr th {\n",
       "        vertical-align: top;\n",
       "    }\n",
       "\n",
       "    .dataframe thead th {\n",
       "        text-align: right;\n",
       "    }\n",
       "</style>\n",
       "<table border=\"1\" class=\"dataframe\">\n",
       "  <thead>\n",
       "    <tr style=\"text-align: right;\">\n",
       "      <th></th>\n",
       "      <th></th>\n",
       "      <th></th>\n",
       "      <th>cluster_0</th>\n",
       "      <th>cluster_1</th>\n",
       "      <th>cluster_2</th>\n",
       "      <th>cluster_3</th>\n",
       "      <th>cluster_4</th>\n",
       "      <th>cluster_5</th>\n",
       "      <th>cluster_6</th>\n",
       "      <th>cluster_7</th>\n",
       "    </tr>\n",
       "    <tr>\n",
       "      <th>Component</th>\n",
       "      <th>Property</th>\n",
       "      <th>Unit</th>\n",
       "      <th></th>\n",
       "      <th></th>\n",
       "      <th></th>\n",
       "      <th></th>\n",
       "      <th></th>\n",
       "      <th></th>\n",
       "      <th></th>\n",
       "      <th></th>\n",
       "    </tr>\n",
       "  </thead>\n",
       "  <tbody>\n",
       "    <tr>\n",
       "      <th rowspan=\"4\" valign=\"top\">Biogas purchase</th>\n",
       "      <th>TAC</th>\n",
       "      <th>[1e9 Euro/a]</th>\n",
       "      <td>0.264223</td>\n",
       "      <td>0.253751</td>\n",
       "      <td>0.176749</td>\n",
       "      <td>0.244162</td>\n",
       "      <td>0.351453</td>\n",
       "      <td>0.155594</td>\n",
       "      <td>0.164873</td>\n",
       "      <td>0.0659848</td>\n",
       "    </tr>\n",
       "    <tr>\n",
       "      <th>commodCosts</th>\n",
       "      <th>[1e9 Euro/a]</th>\n",
       "      <td>0.264223</td>\n",
       "      <td>0.253751</td>\n",
       "      <td>0.176749</td>\n",
       "      <td>0.244162</td>\n",
       "      <td>0.351453</td>\n",
       "      <td>0.155594</td>\n",
       "      <td>0.164873</td>\n",
       "      <td>0.0659848</td>\n",
       "    </tr>\n",
       "    <tr>\n",
       "      <th rowspan=\"2\" valign=\"top\">operation</th>\n",
       "      <th>[GW$_{biogas,LHV}$*h/a]</th>\n",
       "      <td>4884.88</td>\n",
       "      <td>4691.28</td>\n",
       "      <td>3267.67</td>\n",
       "      <td>4514</td>\n",
       "      <td>6497.55</td>\n",
       "      <td>2876.58</td>\n",
       "      <td>3048.13</td>\n",
       "      <td>1219.91</td>\n",
       "    </tr>\n",
       "    <tr>\n",
       "      <th>[GW$_{biogas,LHV}$*h]</th>\n",
       "      <td>4884.88</td>\n",
       "      <td>4691.28</td>\n",
       "      <td>3267.67</td>\n",
       "      <td>4514</td>\n",
       "      <td>6497.55</td>\n",
       "      <td>2876.58</td>\n",
       "      <td>3048.13</td>\n",
       "      <td>1219.91</td>\n",
       "    </tr>\n",
       "    <tr>\n",
       "      <th rowspan=\"2\" valign=\"top\">Electricity demand</th>\n",
       "      <th rowspan=\"2\" valign=\"top\">operation</th>\n",
       "      <th>[GW$_{el}$*h/a]</th>\n",
       "      <td>133963</td>\n",
       "      <td>66116</td>\n",
       "      <td>124797</td>\n",
       "      <td>40441.2</td>\n",
       "      <td>77229.3</td>\n",
       "      <td>41413.4</td>\n",
       "      <td>28088.8</td>\n",
       "      <td>15851.1</td>\n",
       "    </tr>\n",
       "    <tr>\n",
       "      <th>[GW$_{el}$*h]</th>\n",
       "      <td>133963</td>\n",
       "      <td>66116</td>\n",
       "      <td>124797</td>\n",
       "      <td>40441.2</td>\n",
       "      <td>77229.3</td>\n",
       "      <td>41413.4</td>\n",
       "      <td>28088.8</td>\n",
       "      <td>15851.1</td>\n",
       "    </tr>\n",
       "    <tr>\n",
       "      <th rowspan=\"5\" valign=\"top\">Existing run-of-river plants</th>\n",
       "      <th>TAC</th>\n",
       "      <th>[1e9 Euro/a]</th>\n",
       "      <td>0.144316</td>\n",
       "      <td>0.0077909</td>\n",
       "      <td>0.0079499</td>\n",
       "      <td>0.00906289</td>\n",
       "      <td>0.556096</td>\n",
       "      <td>0</td>\n",
       "      <td>0</td>\n",
       "      <td>0.0674723</td>\n",
       "    </tr>\n",
       "    <tr>\n",
       "      <th>capacity</th>\n",
       "      <th>[GW$_{el}$]</th>\n",
       "      <td>0.693828</td>\n",
       "      <td>0.0374563</td>\n",
       "      <td>0.0382207</td>\n",
       "      <td>0.0435716</td>\n",
       "      <td>2.67354</td>\n",
       "      <td>NaN</td>\n",
       "      <td>NaN</td>\n",
       "      <td>0.324386</td>\n",
       "    </tr>\n",
       "    <tr>\n",
       "      <th rowspan=\"2\" valign=\"top\">operation</th>\n",
       "      <th>[GW$_{el}$*h/a]</th>\n",
       "      <td>3167.33</td>\n",
       "      <td>170.988</td>\n",
       "      <td>174.478</td>\n",
       "      <td>198.904</td>\n",
       "      <td>12204.7</td>\n",
       "      <td>NaN</td>\n",
       "      <td>NaN</td>\n",
       "      <td>1480.82</td>\n",
       "    </tr>\n",
       "    <tr>\n",
       "      <th>[GW$_{el}$*h]</th>\n",
       "      <td>3167.33</td>\n",
       "      <td>170.988</td>\n",
       "      <td>174.478</td>\n",
       "      <td>198.904</td>\n",
       "      <td>12204.7</td>\n",
       "      <td>NaN</td>\n",
       "      <td>NaN</td>\n",
       "      <td>1480.82</td>\n",
       "    </tr>\n",
       "    <tr>\n",
       "      <th>opexCap</th>\n",
       "      <th>[1e9 Euro/a]</th>\n",
       "      <td>0.144316</td>\n",
       "      <td>0.0077909</td>\n",
       "      <td>0.0079499</td>\n",
       "      <td>0.00906289</td>\n",
       "      <td>0.556096</td>\n",
       "      <td>NaN</td>\n",
       "      <td>NaN</td>\n",
       "      <td>0.0674723</td>\n",
       "    </tr>\n",
       "    <tr>\n",
       "      <th rowspan=\"2\" valign=\"top\">Hydrogen demand</th>\n",
       "      <th rowspan=\"2\" valign=\"top\">operation</th>\n",
       "      <th>[GW$_{H_{2},LHV}$*h/a]</th>\n",
       "      <td>15855.2</td>\n",
       "      <td>11007.1</td>\n",
       "      <td>16452.6</td>\n",
       "      <td>5264.13</td>\n",
       "      <td>10078.3</td>\n",
       "      <td>5747.42</td>\n",
       "      <td>3710.05</td>\n",
       "      <td>1453.12</td>\n",
       "    </tr>\n",
       "    <tr>\n",
       "      <th>[GW$_{H_{2},LHV}$*h]</th>\n",
       "      <td>15855.2</td>\n",
       "      <td>11007.1</td>\n",
       "      <td>16452.6</td>\n",
       "      <td>5264.13</td>\n",
       "      <td>10078.3</td>\n",
       "      <td>5747.42</td>\n",
       "      <td>3710.05</td>\n",
       "      <td>1453.12</td>\n",
       "    </tr>\n",
       "    <tr>\n",
       "      <th rowspan=\"7\" valign=\"top\">PV</th>\n",
       "      <th>TAC</th>\n",
       "      <th>[1e9 Euro/a]</th>\n",
       "      <td>3.09316</td>\n",
       "      <td>1.90997</td>\n",
       "      <td>2.49109</td>\n",
       "      <td>1.4497</td>\n",
       "      <td>2.19401</td>\n",
       "      <td>1.46977</td>\n",
       "      <td>0.933703</td>\n",
       "      <td>0.366282</td>\n",
       "    </tr>\n",
       "    <tr>\n",
       "      <th>capacity</th>\n",
       "      <th>[GW$_{el}$]</th>\n",
       "      <td>41.8611</td>\n",
       "      <td>25.8484</td>\n",
       "      <td>33.7129</td>\n",
       "      <td>19.6194</td>\n",
       "      <td>29.6925</td>\n",
       "      <td>19.891</td>\n",
       "      <td>12.6362</td>\n",
       "      <td>4.95704</td>\n",
       "    </tr>\n",
       "    <tr>\n",
       "      <th>capexCap</th>\n",
       "      <th>[1e9 Euro/a]</th>\n",
       "      <td>2.54897</td>\n",
       "      <td>1.57394</td>\n",
       "      <td>2.05282</td>\n",
       "      <td>1.19465</td>\n",
       "      <td>1.80801</td>\n",
       "      <td>1.21118</td>\n",
       "      <td>0.769433</td>\n",
       "      <td>0.30184</td>\n",
       "    </tr>\n",
       "    <tr>\n",
       "      <th>invest</th>\n",
       "      <th>[1e9 Euro]</th>\n",
       "      <td>27.2097</td>\n",
       "      <td>16.8014</td>\n",
       "      <td>21.9134</td>\n",
       "      <td>12.7526</td>\n",
       "      <td>19.3001</td>\n",
       "      <td>12.9291</td>\n",
       "      <td>8.21352</td>\n",
       "      <td>3.22208</td>\n",
       "    </tr>\n",
       "    <tr>\n",
       "      <th rowspan=\"2\" valign=\"top\">operation</th>\n",
       "      <th>[GW$_{el}$*h/a]</th>\n",
<<<<<<< HEAD
       "      <td>38289.5</td>\n",
       "      <td>26556.2</td>\n",
       "      <td>27269.8</td>\n",
       "      <td>19638.2</td>\n",
       "      <td>29839.7</td>\n",
       "      <td>20922.3</td>\n",
       "      <td>9413.69</td>\n",
       "      <td>5178.23</td>\n",
       "    </tr>\n",
       "    <tr>\n",
       "      <th>[GW$_{el}$*h]</th>\n",
       "      <td>38289.5</td>\n",
       "      <td>26556.2</td>\n",
       "      <td>27269.8</td>\n",
       "      <td>19638.2</td>\n",
       "      <td>29839.7</td>\n",
||||||| 6847507
       "      <td>38192.5</td>\n",
       "      <td>26972.9</td>\n",
       "      <td>27184.8</td>\n",
       "      <td>20632.6</td>\n",
       "      <td>29162.1</td>\n",
=======
       "      <td>38289.5</td>\n",
       "      <td>26556.2</td>\n",
       "      <td>27269.8</td>\n",
       "      <td>19638.2</td>\n",
       "      <td>29839.7</td>\n",
>>>>>>> ecf2071fb0c6000d9b2371c009a0d243b4f4d1b1
       "      <td>20922.3</td>\n",
       "      <td>9413.69</td>\n",
       "      <td>5178.23</td>\n",
       "    </tr>\n",
       "    <tr>\n",
       "      <th>opexCap</th>\n",
       "      <th>[1e9 Euro/a]</th>\n",
       "      <td>0.544194</td>\n",
       "      <td>0.336029</td>\n",
       "      <td>0.438268</td>\n",
       "      <td>0.255052</td>\n",
       "      <td>0.386002</td>\n",
       "      <td>0.258582</td>\n",
       "      <td>0.16427</td>\n",
       "      <td>0.0644416</td>\n",
       "    </tr>\n",
       "    <tr>\n",
       "      <th rowspan=\"7\" valign=\"top\">Wind (offshore)</th>\n",
       "      <th>TAC</th>\n",
       "      <th>[1e9 Euro/a]</th>\n",
       "      <td>0</td>\n",
       "      <td>1.12104</td>\n",
       "      <td>14.8538</td>\n",
       "      <td>1.68156</td>\n",
       "      <td>0</td>\n",
       "      <td>0</td>\n",
       "      <td>5.04468</td>\n",
       "      <td>0</td>\n",
       "    </tr>\n",
       "    <tr>\n",
       "      <th>capacity</th>\n",
       "      <th>[GW$_{el}$]</th>\n",
       "      <td>NaN</td>\n",
       "      <td>4</td>\n",
       "      <td>53</td>\n",
       "      <td>6</td>\n",
       "      <td>NaN</td>\n",
       "      <td>NaN</td>\n",
       "      <td>18</td>\n",
       "      <td>NaN</td>\n",
       "    </tr>\n",
       "    <tr>\n",
       "      <th>capexCap</th>\n",
       "      <th>[1e9 Euro/a]</th>\n",
       "      <td>NaN</td>\n",
       "      <td>0.93704</td>\n",
       "      <td>12.4158</td>\n",
       "      <td>1.40556</td>\n",
       "      <td>NaN</td>\n",
       "      <td>NaN</td>\n",
       "      <td>4.21668</td>\n",
       "      <td>NaN</td>\n",
       "    </tr>\n",
       "    <tr>\n",
       "      <th>invest</th>\n",
       "      <th>[1e9 Euro]</th>\n",
       "      <td>NaN</td>\n",
       "      <td>9.2</td>\n",
       "      <td>121.9</td>\n",
       "      <td>13.8</td>\n",
       "      <td>NaN</td>\n",
       "      <td>NaN</td>\n",
       "      <td>41.4</td>\n",
       "      <td>NaN</td>\n",
       "    </tr>\n",
       "    <tr>\n",
       "      <th rowspan=\"2\" valign=\"top\">operation</th>\n",
       "      <th>[GW$_{el}$*h/a]</th>\n",
       "      <td>NaN</td>\n",
<<<<<<< HEAD
       "      <td>12622.8</td>\n",
       "      <td>213919</td>\n",
       "      <td>21072.4</td>\n",
       "      <td>NaN</td>\n",
||||||| 6847507
       "      <td>12696.8</td>\n",
       "      <td>213979</td>\n",
       "      <td>20685.6</td>\n",
=======
       "      <td>12622.8</td>\n",
       "      <td>213919</td>\n",
       "      <td>21072.4</td>\n",
>>>>>>> ecf2071fb0c6000d9b2371c009a0d243b4f4d1b1
       "      <td>NaN</td>\n",
       "      <td>70694.7</td>\n",
       "      <td>NaN</td>\n",
<<<<<<< HEAD
       "    </tr>\n",
       "    <tr>\n",
       "      <th>[GW$_{el}$*h]</th>\n",
       "      <td>NaN</td>\n",
       "      <td>12622.8</td>\n",
       "      <td>213919</td>\n",
       "      <td>21072.4</td>\n",
       "      <td>NaN</td>\n",
       "      <td>NaN</td>\n",
       "      <td>70694.7</td>\n",
||||||| 6847507
       "      <td>70588.4</td>\n",
=======
       "      <td>70694.7</td>\n",
>>>>>>> ecf2071fb0c6000d9b2371c009a0d243b4f4d1b1
       "      <td>NaN</td>\n",
       "    </tr>\n",
       "    <tr>\n",
       "      <th>opexCap</th>\n",
       "      <th>[1e9 Euro/a]</th>\n",
       "      <td>NaN</td>\n",
       "      <td>0.184</td>\n",
       "      <td>2.438</td>\n",
       "      <td>0.276</td>\n",
       "      <td>NaN</td>\n",
       "      <td>NaN</td>\n",
       "      <td>0.828</td>\n",
       "      <td>NaN</td>\n",
       "    </tr>\n",
       "    <tr>\n",
       "      <th rowspan=\"7\" valign=\"top\">Wind (onshore)</th>\n",
       "      <th>TAC</th>\n",
       "      <th>[1e9 Euro/a]</th>\n",
       "      <td>0</td>\n",
       "      <td>0</td>\n",
       "      <td>1.98679</td>\n",
       "      <td>0</td>\n",
       "      <td>0.255038</td>\n",
       "      <td>0</td>\n",
       "      <td>3.68199</td>\n",
       "      <td>0</td>\n",
       "    </tr>\n",
       "    <tr>\n",
       "      <th>capacity</th>\n",
       "      <th>[GW$_{el}$]</th>\n",
       "      <td>0</td>\n",
       "      <td>0</td>\n",
       "      <td>14.8226</td>\n",
       "      <td>0</td>\n",
       "      <td>1.90274</td>\n",
       "      <td>0</td>\n",
       "      <td>27.4699</td>\n",
       "      <td>0</td>\n",
       "    </tr>\n",
       "    <tr>\n",
       "      <th>capexCap</th>\n",
       "      <th>[1e9 Euro/a]</th>\n",
       "      <td>0</td>\n",
       "      <td>0</td>\n",
       "      <td>1.66069</td>\n",
       "      <td>0</td>\n",
       "      <td>0.213178</td>\n",
       "      <td>0</td>\n",
       "      <td>3.07765</td>\n",
       "      <td>0</td>\n",
       "    </tr>\n",
       "    <tr>\n",
       "      <th>invest</th>\n",
       "      <th>[1e9 Euro]</th>\n",
       "      <td>0</td>\n",
       "      <td>0</td>\n",
       "      <td>16.3049</td>\n",
       "      <td>0</td>\n",
       "      <td>2.09301</td>\n",
       "      <td>0</td>\n",
       "      <td>30.2168</td>\n",
       "      <td>0</td>\n",
       "    </tr>\n",
       "    <tr>\n",
       "      <th rowspan=\"2\" valign=\"top\">operation</th>\n",
       "      <th>[GW$_{el}$*h/a]</th>\n",
       "      <td>0</td>\n",
       "      <td>0</td>\n",
<<<<<<< HEAD
       "      <td>34138.2</td>\n",
       "      <td>0</td>\n",
       "      <td>2283.02</td>\n",
       "      <td>0</td>\n",
       "      <td>70706.1</td>\n",
       "      <td>0</td>\n",
       "    </tr>\n",
       "    <tr>\n",
       "      <th>[GW$_{el}$*h]</th>\n",
||||||| 6847507
       "      <td>33850.5</td>\n",
=======
       "      <td>34138.2</td>\n",
>>>>>>> ecf2071fb0c6000d9b2371c009a0d243b4f4d1b1
       "      <td>0</td>\n",
<<<<<<< HEAD
||||||| 6847507
       "      <td>2322.17</td>\n",
=======
       "      <td>2283.02</td>\n",
>>>>>>> ecf2071fb0c6000d9b2371c009a0d243b4f4d1b1
       "      <td>0</td>\n",
<<<<<<< HEAD
       "      <td>34138.2</td>\n",
       "      <td>0</td>\n",
       "      <td>2283.02</td>\n",
       "      <td>0</td>\n",
       "      <td>70706.1</td>\n",
||||||| 6847507
       "      <td>70813.4</td>\n",
=======
       "      <td>70706.1</td>\n",
>>>>>>> ecf2071fb0c6000d9b2371c009a0d243b4f4d1b1
       "      <td>0</td>\n",
       "    </tr>\n",
       "    <tr>\n",
       "      <th>opexCap</th>\n",
       "      <th>[1e9 Euro/a]</th>\n",
       "      <td>0</td>\n",
       "      <td>0</td>\n",
       "      <td>0.326098</td>\n",
       "      <td>0</td>\n",
       "      <td>0.0418602</td>\n",
       "      <td>0</td>\n",
       "      <td>0.604337</td>\n",
       "      <td>0</td>\n",
       "    </tr>\n",
       "  </tbody>\n",
       "</table>\n",
       "</div>"
      ],
      "text/plain": [
       "                                                                 cluster_0  \\\n",
       "Component                    Property    Unit                                \n",
       "Biogas purchase              TAC         [1e9 Euro/a]             0.264223   \n",
       "                             commodCosts [1e9 Euro/a]             0.264223   \n",
       "                             operation   [GW$_{biogas,LHV}$*h/a]   4884.88   \n",
       "                                         [GW$_{biogas,LHV}$*h]     4884.88   \n",
       "Electricity demand           operation   [GW$_{el}$*h/a]            133963   \n",
       "                                         [GW$_{el}$*h]              133963   \n",
       "Existing run-of-river plants TAC         [1e9 Euro/a]             0.144316   \n",
       "                             capacity    [GW$_{el}$]              0.693828   \n",
       "                             operation   [GW$_{el}$*h/a]           3167.33   \n",
       "                                         [GW$_{el}$*h]             3167.33   \n",
       "                             opexCap     [1e9 Euro/a]             0.144316   \n",
       "Hydrogen demand              operation   [GW$_{H_{2},LHV}$*h/a]    15855.2   \n",
<<<<<<< HEAD
       "                                         [GW$_{H_{2},LHV}$*h]      15855.2   \n",
       "PV                           TAC         [1e9 Euro/a]              3.09316   \n",
       "                             capacity    [GW$_{el}$]               41.8611   \n",
       "                             capexCap    [1e9 Euro/a]              2.54897   \n",
       "                             invest      [1e9 Euro]                27.2097   \n",
       "                             operation   [GW$_{el}$*h/a]           38289.5   \n",
       "                                         [GW$_{el}$*h]             38289.5   \n",
       "                             opexCap     [1e9 Euro/a]             0.544194   \n",
||||||| 6847507
       "PV                           TAC         [1e9 Euro/a]              3.09317   \n",
       "                             capacity    [GW$_{el}$]               41.8612   \n",
       "                             capexCap    [1e9 Euro/a]              2.54898   \n",
       "                             invest      [1e9 Euro]                27.2098   \n",
       "                             operation   [GW$_{el}$*h/a]           38192.5   \n",
       "                             opexCap     [1e9 Euro/a]             0.544195   \n",
=======
       "PV                           TAC         [1e9 Euro/a]              3.09316   \n",
       "                             capacity    [GW$_{el}$]               41.8611   \n",
       "                             capexCap    [1e9 Euro/a]              2.54897   \n",
       "                             invest      [1e9 Euro]                27.2097   \n",
       "                             operation   [GW$_{el}$*h/a]           38289.5   \n",
       "                             opexCap     [1e9 Euro/a]             0.544194   \n",
>>>>>>> ecf2071fb0c6000d9b2371c009a0d243b4f4d1b1
       "Wind (offshore)              TAC         [1e9 Euro/a]                    0   \n",
       "                             capacity    [GW$_{el}$]                   NaN   \n",
       "                             capexCap    [1e9 Euro/a]                  NaN   \n",
       "                             invest      [1e9 Euro]                    NaN   \n",
       "                             operation   [GW$_{el}$*h/a]               NaN   \n",
       "                                         [GW$_{el}$*h]                 NaN   \n",
       "                             opexCap     [1e9 Euro/a]                  NaN   \n",
       "Wind (onshore)               TAC         [1e9 Euro/a]                    0   \n",
       "                             capacity    [GW$_{el}$]                     0   \n",
       "                             capexCap    [1e9 Euro/a]                    0   \n",
       "                             invest      [1e9 Euro]                      0   \n",
       "                             operation   [GW$_{el}$*h/a]                 0   \n",
       "                                         [GW$_{el}$*h]                   0   \n",
       "                             opexCap     [1e9 Euro/a]                    0   \n",
       "\n",
       "                                                                  cluster_1  \\\n",
       "Component                    Property    Unit                                 \n",
       "Biogas purchase              TAC         [1e9 Euro/a]              0.253751   \n",
       "                             commodCosts [1e9 Euro/a]              0.253751   \n",
       "                             operation   [GW$_{biogas,LHV}$*h/a]    4691.28   \n",
       "                                         [GW$_{biogas,LHV}$*h]      4691.28   \n",
       "Electricity demand           operation   [GW$_{el}$*h/a]              66116   \n",
       "                                         [GW$_{el}$*h]                66116   \n",
       "Existing run-of-river plants TAC         [1e9 Euro/a]             0.0077909   \n",
       "                             capacity    [GW$_{el}$]              0.0374563   \n",
       "                             operation   [GW$_{el}$*h/a]            170.988   \n",
       "                                         [GW$_{el}$*h]              170.988   \n",
       "                             opexCap     [1e9 Euro/a]             0.0077909   \n",
       "Hydrogen demand              operation   [GW$_{H_{2},LHV}$*h/a]     11007.1   \n",
       "                                         [GW$_{H_{2},LHV}$*h]       11007.1   \n",
       "PV                           TAC         [1e9 Euro/a]               1.90997   \n",
       "                             capacity    [GW$_{el}$]                25.8484   \n",
       "                             capexCap    [1e9 Euro/a]               1.57394   \n",
       "                             invest      [1e9 Euro]                 16.8014   \n",
<<<<<<< HEAD
       "                             operation   [GW$_{el}$*h/a]            26556.2   \n",
       "                                         [GW$_{el}$*h]              26556.2   \n",
||||||| 6847507
       "                             operation   [GW$_{el}$*h/a]            26972.9   \n",
=======
       "                             operation   [GW$_{el}$*h/a]            26556.2   \n",
>>>>>>> ecf2071fb0c6000d9b2371c009a0d243b4f4d1b1
       "                             opexCap     [1e9 Euro/a]              0.336029   \n",
       "Wind (offshore)              TAC         [1e9 Euro/a]               1.12104   \n",
       "                             capacity    [GW$_{el}$]                      4   \n",
       "                             capexCap    [1e9 Euro/a]               0.93704   \n",
       "                             invest      [1e9 Euro]                     9.2   \n",
<<<<<<< HEAD
       "                             operation   [GW$_{el}$*h/a]            12622.8   \n",
       "                                         [GW$_{el}$*h]              12622.8   \n",
||||||| 6847507
       "                             operation   [GW$_{el}$*h/a]            12696.8   \n",
=======
       "                             operation   [GW$_{el}$*h/a]            12622.8   \n",
>>>>>>> ecf2071fb0c6000d9b2371c009a0d243b4f4d1b1
       "                             opexCap     [1e9 Euro/a]                 0.184   \n",
       "Wind (onshore)               TAC         [1e9 Euro/a]                     0   \n",
       "                             capacity    [GW$_{el}$]                      0   \n",
       "                             capexCap    [1e9 Euro/a]                     0   \n",
       "                             invest      [1e9 Euro]                       0   \n",
       "                             operation   [GW$_{el}$*h/a]                  0   \n",
       "                                         [GW$_{el}$*h]                    0   \n",
       "                             opexCap     [1e9 Euro/a]                     0   \n",
       "\n",
       "                                                                  cluster_2  \\\n",
       "Component                    Property    Unit                                 \n",
       "Biogas purchase              TAC         [1e9 Euro/a]              0.176749   \n",
       "                             commodCosts [1e9 Euro/a]              0.176749   \n",
       "                             operation   [GW$_{biogas,LHV}$*h/a]    3267.67   \n",
       "                                         [GW$_{biogas,LHV}$*h]      3267.67   \n",
       "Electricity demand           operation   [GW$_{el}$*h/a]             124797   \n",
       "                                         [GW$_{el}$*h]               124797   \n",
       "Existing run-of-river plants TAC         [1e9 Euro/a]             0.0079499   \n",
       "                             capacity    [GW$_{el}$]              0.0382207   \n",
       "                             operation   [GW$_{el}$*h/a]            174.478   \n",
       "                                         [GW$_{el}$*h]              174.478   \n",
       "                             opexCap     [1e9 Euro/a]             0.0079499   \n",
       "Hydrogen demand              operation   [GW$_{H_{2},LHV}$*h/a]     16452.6   \n",
       "                                         [GW$_{H_{2},LHV}$*h]       16452.6   \n",
       "PV                           TAC         [1e9 Euro/a]               2.49109   \n",
       "                             capacity    [GW$_{el}$]                33.7129   \n",
       "                             capexCap    [1e9 Euro/a]               2.05282   \n",
       "                             invest      [1e9 Euro]                 21.9134   \n",
<<<<<<< HEAD
       "                             operation   [GW$_{el}$*h/a]            27269.8   \n",
       "                                         [GW$_{el}$*h]              27269.8   \n",
||||||| 6847507
       "                             operation   [GW$_{el}$*h/a]            27184.8   \n",
=======
       "                             operation   [GW$_{el}$*h/a]            27269.8   \n",
>>>>>>> ecf2071fb0c6000d9b2371c009a0d243b4f4d1b1
       "                             opexCap     [1e9 Euro/a]              0.438268   \n",
       "Wind (offshore)              TAC         [1e9 Euro/a]               14.8538   \n",
       "                             capacity    [GW$_{el}$]                     53   \n",
       "                             capexCap    [1e9 Euro/a]               12.4158   \n",
       "                             invest      [1e9 Euro]                   121.9   \n",
<<<<<<< HEAD
       "                             operation   [GW$_{el}$*h/a]             213919   \n",
       "                                         [GW$_{el}$*h]               213919   \n",
||||||| 6847507
       "                             operation   [GW$_{el}$*h/a]             213979   \n",
=======
       "                             operation   [GW$_{el}$*h/a]             213919   \n",
>>>>>>> ecf2071fb0c6000d9b2371c009a0d243b4f4d1b1
       "                             opexCap     [1e9 Euro/a]                 2.438   \n",
<<<<<<< HEAD
       "Wind (onshore)               TAC         [1e9 Euro/a]               1.98679   \n",
       "                             capacity    [GW$_{el}$]                14.8226   \n",
       "                             capexCap    [1e9 Euro/a]               1.66069   \n",
       "                             invest      [1e9 Euro]                 16.3049   \n",
       "                             operation   [GW$_{el}$*h/a]            34138.2   \n",
       "                                         [GW$_{el}$*h]              34138.2   \n",
       "                             opexCap     [1e9 Euro/a]              0.326098   \n",
||||||| 6847507
       "Wind (onshore)               TAC         [1e9 Euro/a]               1.98632   \n",
       "                             capacity    [GW$_{el}$]                14.8191   \n",
       "                             capexCap    [1e9 Euro/a]                1.6603   \n",
       "                             invest      [1e9 Euro]                  16.301   \n",
       "                             operation   [GW$_{el}$*h/a]            33850.5   \n",
       "                             opexCap     [1e9 Euro/a]              0.326021   \n",
=======
       "Wind (onshore)               TAC         [1e9 Euro/a]               1.98679   \n",
       "                             capacity    [GW$_{el}$]                14.8226   \n",
       "                             capexCap    [1e9 Euro/a]               1.66069   \n",
       "                             invest      [1e9 Euro]                 16.3049   \n",
       "                             operation   [GW$_{el}$*h/a]            34138.2   \n",
       "                             opexCap     [1e9 Euro/a]              0.326098   \n",
>>>>>>> ecf2071fb0c6000d9b2371c009a0d243b4f4d1b1
       "\n",
       "                                                                   cluster_3  \\\n",
       "Component                    Property    Unit                                  \n",
       "Biogas purchase              TAC         [1e9 Euro/a]               0.244162   \n",
       "                             commodCosts [1e9 Euro/a]               0.244162   \n",
       "                             operation   [GW$_{biogas,LHV}$*h/a]        4514   \n",
       "                                         [GW$_{biogas,LHV}$*h]          4514   \n",
       "Electricity demand           operation   [GW$_{el}$*h/a]             40441.2   \n",
       "                                         [GW$_{el}$*h]               40441.2   \n",
       "Existing run-of-river plants TAC         [1e9 Euro/a]             0.00906289   \n",
       "                             capacity    [GW$_{el}$]               0.0435716   \n",
       "                             operation   [GW$_{el}$*h/a]             198.904   \n",
       "                                         [GW$_{el}$*h]               198.904   \n",
       "                             opexCap     [1e9 Euro/a]             0.00906289   \n",
       "Hydrogen demand              operation   [GW$_{H_{2},LHV}$*h/a]      5264.13   \n",
       "                                         [GW$_{H_{2},LHV}$*h]        5264.13   \n",
       "PV                           TAC         [1e9 Euro/a]                 1.4497   \n",
       "                             capacity    [GW$_{el}$]                 19.6194   \n",
       "                             capexCap    [1e9 Euro/a]                1.19465   \n",
       "                             invest      [1e9 Euro]                  12.7526   \n",
<<<<<<< HEAD
       "                             operation   [GW$_{el}$*h/a]             19638.2   \n",
       "                                         [GW$_{el}$*h]               19638.2   \n",
||||||| 6847507
       "                             operation   [GW$_{el}$*h/a]             20632.6   \n",
=======
       "                             operation   [GW$_{el}$*h/a]             19638.2   \n",
>>>>>>> ecf2071fb0c6000d9b2371c009a0d243b4f4d1b1
       "                             opexCap     [1e9 Euro/a]               0.255052   \n",
       "Wind (offshore)              TAC         [1e9 Euro/a]                1.68156   \n",
       "                             capacity    [GW$_{el}$]                       6   \n",
       "                             capexCap    [1e9 Euro/a]                1.40556   \n",
       "                             invest      [1e9 Euro]                     13.8   \n",
<<<<<<< HEAD
       "                             operation   [GW$_{el}$*h/a]             21072.4   \n",
       "                                         [GW$_{el}$*h]               21072.4   \n",
||||||| 6847507
       "                             operation   [GW$_{el}$*h/a]             20685.6   \n",
=======
       "                             operation   [GW$_{el}$*h/a]             21072.4   \n",
>>>>>>> ecf2071fb0c6000d9b2371c009a0d243b4f4d1b1
       "                             opexCap     [1e9 Euro/a]                  0.276   \n",
       "Wind (onshore)               TAC         [1e9 Euro/a]                      0   \n",
       "                             capacity    [GW$_{el}$]                       0   \n",
       "                             capexCap    [1e9 Euro/a]                      0   \n",
       "                             invest      [1e9 Euro]                        0   \n",
       "                             operation   [GW$_{el}$*h/a]                   0   \n",
       "                                         [GW$_{el}$*h]                     0   \n",
       "                             opexCap     [1e9 Euro/a]                      0   \n",
       "\n",
       "                                                                  cluster_4  \\\n",
       "Component                    Property    Unit                                 \n",
       "Biogas purchase              TAC         [1e9 Euro/a]              0.351453   \n",
       "                             commodCosts [1e9 Euro/a]              0.351453   \n",
       "                             operation   [GW$_{biogas,LHV}$*h/a]    6497.55   \n",
       "                                         [GW$_{biogas,LHV}$*h]      6497.55   \n",
       "Electricity demand           operation   [GW$_{el}$*h/a]            77229.3   \n",
       "                                         [GW$_{el}$*h]              77229.3   \n",
       "Existing run-of-river plants TAC         [1e9 Euro/a]              0.556096   \n",
       "                             capacity    [GW$_{el}$]                2.67354   \n",
       "                             operation   [GW$_{el}$*h/a]            12204.7   \n",
       "                                         [GW$_{el}$*h]              12204.7   \n",
       "                             opexCap     [1e9 Euro/a]              0.556096   \n",
       "Hydrogen demand              operation   [GW$_{H_{2},LHV}$*h/a]     10078.3   \n",
       "                                         [GW$_{H_{2},LHV}$*h]       10078.3   \n",
       "PV                           TAC         [1e9 Euro/a]               2.19401   \n",
       "                             capacity    [GW$_{el}$]                29.6925   \n",
       "                             capexCap    [1e9 Euro/a]               1.80801   \n",
       "                             invest      [1e9 Euro]                 19.3001   \n",
<<<<<<< HEAD
       "                             operation   [GW$_{el}$*h/a]            29839.7   \n",
       "                                         [GW$_{el}$*h]              29839.7   \n",
||||||| 6847507
       "                             operation   [GW$_{el}$*h/a]            29162.1   \n",
=======
       "                             operation   [GW$_{el}$*h/a]            29839.7   \n",
>>>>>>> ecf2071fb0c6000d9b2371c009a0d243b4f4d1b1
       "                             opexCap     [1e9 Euro/a]              0.386002   \n",
       "Wind (offshore)              TAC         [1e9 Euro/a]                     0   \n",
       "                             capacity    [GW$_{el}$]                    NaN   \n",
       "                             capexCap    [1e9 Euro/a]                   NaN   \n",
       "                             invest      [1e9 Euro]                     NaN   \n",
       "                             operation   [GW$_{el}$*h/a]                NaN   \n",
       "                                         [GW$_{el}$*h]                  NaN   \n",
       "                             opexCap     [1e9 Euro/a]                   NaN   \n",
<<<<<<< HEAD
       "Wind (onshore)               TAC         [1e9 Euro/a]              0.255038   \n",
       "                             capacity    [GW$_{el}$]                1.90274   \n",
       "                             capexCap    [1e9 Euro/a]              0.213178   \n",
       "                             invest      [1e9 Euro]                 2.09301   \n",
       "                             operation   [GW$_{el}$*h/a]            2283.02   \n",
       "                                         [GW$_{el}$*h]              2283.02   \n",
       "                             opexCap     [1e9 Euro/a]             0.0418602   \n",
||||||| 6847507
       "Wind (onshore)               TAC         [1e9 Euro/a]              0.255394   \n",
       "                             capacity    [GW$_{el}$]                1.90539   \n",
       "                             capexCap    [1e9 Euro/a]              0.213476   \n",
       "                             invest      [1e9 Euro]                 2.09593   \n",
       "                             operation   [GW$_{el}$*h/a]            2322.17   \n",
       "                             opexCap     [1e9 Euro/a]             0.0419187   \n",
=======
       "Wind (onshore)               TAC         [1e9 Euro/a]              0.255038   \n",
       "                             capacity    [GW$_{el}$]                1.90274   \n",
       "                             capexCap    [1e9 Euro/a]              0.213178   \n",
       "                             invest      [1e9 Euro]                 2.09301   \n",
       "                             operation   [GW$_{el}$*h/a]            2283.02   \n",
       "                             opexCap     [1e9 Euro/a]             0.0418602   \n",
>>>>>>> ecf2071fb0c6000d9b2371c009a0d243b4f4d1b1
       "\n",
       "                                                                 cluster_5  \\\n",
       "Component                    Property    Unit                                \n",
       "Biogas purchase              TAC         [1e9 Euro/a]             0.155594   \n",
       "                             commodCosts [1e9 Euro/a]             0.155594   \n",
       "                             operation   [GW$_{biogas,LHV}$*h/a]   2876.58   \n",
       "                                         [GW$_{biogas,LHV}$*h]     2876.58   \n",
       "Electricity demand           operation   [GW$_{el}$*h/a]           41413.4   \n",
       "                                         [GW$_{el}$*h]             41413.4   \n",
       "Existing run-of-river plants TAC         [1e9 Euro/a]                    0   \n",
       "                             capacity    [GW$_{el}$]                   NaN   \n",
       "                             operation   [GW$_{el}$*h/a]               NaN   \n",
       "                                         [GW$_{el}$*h]                 NaN   \n",
       "                             opexCap     [1e9 Euro/a]                  NaN   \n",
       "Hydrogen demand              operation   [GW$_{H_{2},LHV}$*h/a]    5747.42   \n",
       "                                         [GW$_{H_{2},LHV}$*h]      5747.42   \n",
       "PV                           TAC         [1e9 Euro/a]              1.46977   \n",
       "                             capacity    [GW$_{el}$]                19.891   \n",
       "                             capexCap    [1e9 Euro/a]              1.21118   \n",
       "                             invest      [1e9 Euro]                12.9291   \n",
       "                             operation   [GW$_{el}$*h/a]           20922.3   \n",
       "                                         [GW$_{el}$*h]             20922.3   \n",
       "                             opexCap     [1e9 Euro/a]             0.258582   \n",
       "Wind (offshore)              TAC         [1e9 Euro/a]                    0   \n",
       "                             capacity    [GW$_{el}$]                   NaN   \n",
       "                             capexCap    [1e9 Euro/a]                  NaN   \n",
       "                             invest      [1e9 Euro]                    NaN   \n",
       "                             operation   [GW$_{el}$*h/a]               NaN   \n",
       "                                         [GW$_{el}$*h]                 NaN   \n",
       "                             opexCap     [1e9 Euro/a]                  NaN   \n",
       "Wind (onshore)               TAC         [1e9 Euro/a]                    0   \n",
       "                             capacity    [GW$_{el}$]                     0   \n",
       "                             capexCap    [1e9 Euro/a]                    0   \n",
       "                             invest      [1e9 Euro]                      0   \n",
       "                             operation   [GW$_{el}$*h/a]                 0   \n",
       "                                         [GW$_{el}$*h]                   0   \n",
       "                             opexCap     [1e9 Euro/a]                    0   \n",
       "\n",
       "                                                                 cluster_6  \\\n",
       "Component                    Property    Unit                                \n",
       "Biogas purchase              TAC         [1e9 Euro/a]             0.164873   \n",
       "                             commodCosts [1e9 Euro/a]             0.164873   \n",
       "                             operation   [GW$_{biogas,LHV}$*h/a]   3048.13   \n",
       "                                         [GW$_{biogas,LHV}$*h]     3048.13   \n",
       "Electricity demand           operation   [GW$_{el}$*h/a]           28088.8   \n",
       "                                         [GW$_{el}$*h]             28088.8   \n",
       "Existing run-of-river plants TAC         [1e9 Euro/a]                    0   \n",
       "                             capacity    [GW$_{el}$]                   NaN   \n",
       "                             operation   [GW$_{el}$*h/a]               NaN   \n",
       "                                         [GW$_{el}$*h]                 NaN   \n",
       "                             opexCap     [1e9 Euro/a]                  NaN   \n",
       "Hydrogen demand              operation   [GW$_{H_{2},LHV}$*h/a]    3710.05   \n",
       "                                         [GW$_{H_{2},LHV}$*h]      3710.05   \n",
       "PV                           TAC         [1e9 Euro/a]             0.933703   \n",
       "                             capacity    [GW$_{el}$]               12.6362   \n",
       "                             capexCap    [1e9 Euro/a]             0.769433   \n",
       "                             invest      [1e9 Euro]                8.21352   \n",
       "                             operation   [GW$_{el}$*h/a]           9413.69   \n",
       "                                         [GW$_{el}$*h]             9413.69   \n",
       "                             opexCap     [1e9 Euro/a]              0.16427   \n",
       "Wind (offshore)              TAC         [1e9 Euro/a]              5.04468   \n",
       "                             capacity    [GW$_{el}$]                    18   \n",
       "                             capexCap    [1e9 Euro/a]              4.21668   \n",
       "                             invest      [1e9 Euro]                   41.4   \n",
<<<<<<< HEAD
       "                             operation   [GW$_{el}$*h/a]           70694.7   \n",
       "                                         [GW$_{el}$*h]             70694.7   \n",
||||||| 6847507
       "                             operation   [GW$_{el}$*h/a]           70588.4   \n",
=======
       "                             operation   [GW$_{el}$*h/a]           70694.7   \n",
>>>>>>> ecf2071fb0c6000d9b2371c009a0d243b4f4d1b1
       "                             opexCap     [1e9 Euro/a]                0.828   \n",
<<<<<<< HEAD
       "Wind (onshore)               TAC         [1e9 Euro/a]              3.68199   \n",
       "                             capacity    [GW$_{el}$]               27.4699   \n",
       "                             capexCap    [1e9 Euro/a]              3.07765   \n",
       "                             invest      [1e9 Euro]                30.2168   \n",
       "                             operation   [GW$_{el}$*h/a]           70706.1   \n",
       "                                         [GW$_{el}$*h]             70706.1   \n",
       "                             opexCap     [1e9 Euro/a]             0.604337   \n",
||||||| 6847507
       "Wind (onshore)               TAC         [1e9 Euro/a]              3.68206   \n",
       "                             capacity    [GW$_{el}$]               27.4704   \n",
       "                             capexCap    [1e9 Euro/a]              3.07771   \n",
       "                             invest      [1e9 Euro]                30.2174   \n",
       "                             operation   [GW$_{el}$*h/a]           70813.4   \n",
       "                             opexCap     [1e9 Euro/a]             0.604348   \n",
=======
       "Wind (onshore)               TAC         [1e9 Euro/a]              3.68199   \n",
       "                             capacity    [GW$_{el}$]               27.4699   \n",
       "                             capexCap    [1e9 Euro/a]              3.07765   \n",
       "                             invest      [1e9 Euro]                30.2168   \n",
       "                             operation   [GW$_{el}$*h/a]           70706.1   \n",
       "                             opexCap     [1e9 Euro/a]             0.604337   \n",
>>>>>>> ecf2071fb0c6000d9b2371c009a0d243b4f4d1b1
       "\n",
       "                                                                  cluster_7  \n",
       "Component                    Property    Unit                                \n",
       "Biogas purchase              TAC         [1e9 Euro/a]             0.0659848  \n",
       "                             commodCosts [1e9 Euro/a]             0.0659848  \n",
       "                             operation   [GW$_{biogas,LHV}$*h/a]    1219.91  \n",
       "                                         [GW$_{biogas,LHV}$*h]      1219.91  \n",
       "Electricity demand           operation   [GW$_{el}$*h/a]            15851.1  \n",
       "                                         [GW$_{el}$*h]              15851.1  \n",
       "Existing run-of-river plants TAC         [1e9 Euro/a]             0.0674723  \n",
       "                             capacity    [GW$_{el}$]               0.324386  \n",
       "                             operation   [GW$_{el}$*h/a]            1480.82  \n",
       "                                         [GW$_{el}$*h]              1480.82  \n",
       "                             opexCap     [1e9 Euro/a]             0.0674723  \n",
       "Hydrogen demand              operation   [GW$_{H_{2},LHV}$*h/a]     1453.12  \n",
       "                                         [GW$_{H_{2},LHV}$*h]       1453.12  \n",
       "PV                           TAC         [1e9 Euro/a]              0.366282  \n",
       "                             capacity    [GW$_{el}$]                4.95704  \n",
       "                             capexCap    [1e9 Euro/a]               0.30184  \n",
       "                             invest      [1e9 Euro]                 3.22208  \n",
<<<<<<< HEAD
       "                             operation   [GW$_{el}$*h/a]            5178.23  \n",
       "                                         [GW$_{el}$*h]              5178.23  \n",
||||||| 6847507
       "                             operation   [GW$_{el}$*h/a]            5001.83  \n",
=======
       "                             operation   [GW$_{el}$*h/a]            5178.23  \n",
>>>>>>> ecf2071fb0c6000d9b2371c009a0d243b4f4d1b1
       "                             opexCap     [1e9 Euro/a]             0.0644416  \n",
       "Wind (offshore)              TAC         [1e9 Euro/a]                     0  \n",
       "                             capacity    [GW$_{el}$]                    NaN  \n",
       "                             capexCap    [1e9 Euro/a]                   NaN  \n",
       "                             invest      [1e9 Euro]                     NaN  \n",
       "                             operation   [GW$_{el}$*h/a]                NaN  \n",
       "                                         [GW$_{el}$*h]                  NaN  \n",
       "                             opexCap     [1e9 Euro/a]                   NaN  \n",
       "Wind (onshore)               TAC         [1e9 Euro/a]                     0  \n",
       "                             capacity    [GW$_{el}$]                      0  \n",
       "                             capexCap    [1e9 Euro/a]                     0  \n",
       "                             invest      [1e9 Euro]                       0  \n",
       "                             operation   [GW$_{el}$*h/a]                  0  \n",
       "                                         [GW$_{el}$*h]                    0  \n",
       "                             opexCap     [1e9 Euro/a]                     0  "
      ]
     },
     "execution_count": 35,
     "metadata": {},
     "output_type": "execute_result"
    }
   ],
   "source": [
    "esM.getOptimizationSummary(\"SourceSinkModel\", outputLevel=2)"
   ]
  },
  {
   "cell_type": "markdown",
   "metadata": {},
   "source": [
    "Plot installed capacities"
   ]
  },
  {
   "cell_type": "code",
   "execution_count": null,
   "metadata": {
    "scrolled": false
   },
<<<<<<< HEAD
   "outputs": [],
||||||| 6847507
   "outputs": [
    {
     "data": {
      "image/png": "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\n",
      "text/plain": [
       "<Figure size 432x432 with 2 Axes>"
      ]
     },
     "metadata": {
      "needs_background": "light"
     },
     "output_type": "display_data"
    }
   ],
=======
   "outputs": [
    {
     "data": {
      "image/png": "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\n",
      "text/plain": [
       "<Figure size 432x432 with 2 Axes>"
      ]
     },
     "metadata": {
      "needs_background": "light"
     },
     "output_type": "display_data"
    }
   ],
>>>>>>> ecf2071fb0c6000d9b2371c009a0d243b4f4d1b1
   "source": [
    "fig, ax = fn.plotLocationalColorMap(esM, 'Wind (offshore)', locFilePath, 'index', perArea=False)"
   ]
  },
  {
   "cell_type": "code",
   "execution_count": null,
   "metadata": {},
<<<<<<< HEAD
   "outputs": [],
||||||| 6847507
   "outputs": [
    {
     "data": {
      "image/png": "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\n",
      "text/plain": [
       "<Figure size 432x432 with 2 Axes>"
      ]
     },
     "metadata": {
      "needs_background": "light"
     },
     "output_type": "display_data"
    }
   ],
=======
   "outputs": [
    {
     "data": {
      "image/png": "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\n",
      "text/plain": [
       "<Figure size 432x432 with 2 Axes>"
      ]
     },
     "metadata": {
      "needs_background": "light"
     },
     "output_type": "display_data"
    }
   ],
>>>>>>> ecf2071fb0c6000d9b2371c009a0d243b4f4d1b1
   "source": [
    "fig, ax = fn.plotLocationalColorMap(esM, 'Wind (onshore)', locFilePath, 'index', perArea=False)"
   ]
  },
  {
   "cell_type": "code",
   "execution_count": null,
   "metadata": {},
   "outputs": [],
   "source": [
    "fig, ax = fn.plotLocationalColorMap(esM, 'PV', locFilePath, 'index', perArea=False)"
   ]
  },
  {
   "cell_type": "markdown",
   "metadata": {},
   "source": [
    "Plot operation time series (either one or two dimensional)"
   ]
  },
  {
   "cell_type": "code",
   "execution_count": null,
   "metadata": {},
   "outputs": [],
   "source": [
    "fig, ax = fn.plotOperation(esM, 'Electricity demand', 'cluster_0')"
   ]
  },
  {
   "cell_type": "code",
   "execution_count": null,
   "metadata": {},
   "outputs": [],
   "source": [
    "fig, ax = fn.plotOperationColorMap(esM, 'Electricity demand', 'cluster_0')"
   ]
  },
  {
   "cell_type": "markdown",
   "metadata": {},
   "source": [
    "### Conversion\n",
    "\n",
    "Show optimization summary"
   ]
  },
  {
   "cell_type": "code",
   "execution_count": null,
   "metadata": {},
   "outputs": [],
   "source": [
    "esM.getOptimizationSummary(\"ConversionModel\", outputLevel=2)"
   ]
  },
  {
   "cell_type": "code",
   "execution_count": null,
   "metadata": {},
   "outputs": [],
   "source": [
    "fig, ax = fn.plotLocationalColorMap(esM, 'Electrolyzer', locFilePath, 'index', perArea=False)"
   ]
  },
  {
   "cell_type": "code",
   "execution_count": null,
   "metadata": {},
   "outputs": [],
   "source": [
    "fig, ax = fn.plotOperationColorMap(esM, 'New CCGT plants (biogas)', 'cluster_2')"
   ]
  },
  {
   "cell_type": "markdown",
   "metadata": {},
   "source": [
    "### Storage\n",
    "\n",
    "Show optimization summary"
   ]
  },
  {
   "cell_type": "code",
   "execution_count": null,
   "metadata": {},
   "outputs": [],
   "source": [
    "esM.getOptimizationSummary(\"StorageModel\", outputLevel=2)"
   ]
  },
  {
   "cell_type": "code",
   "execution_count": null,
   "metadata": {},
   "outputs": [],
   "source": [
    "fig, ax = fn.plotOperationColorMap(esM, 'Li-ion batteries', 'cluster_2', \n",
    "                                   variableName='stateOfChargeOperationVariablesOptimum')"
   ]
  },
  {
   "cell_type": "code",
   "execution_count": null,
   "metadata": {},
   "outputs": [],
   "source": [
    "fig, ax = fn.plotOperationColorMap(esM, 'Pumped hydro storage', 'cluster_2',\n",
    "                                  variableName='stateOfChargeOperationVariablesOptimum')"
   ]
  },
  {
   "cell_type": "code",
   "execution_count": null,
   "metadata": {},
   "outputs": [],
   "source": [
    "fig, ax = fn.plotOperationColorMap(esM, 'Salt caverns (biogas)', 'cluster_2',\n",
    "                                  variableName='stateOfChargeOperationVariablesOptimum')"
   ]
  },
  {
   "cell_type": "code",
   "execution_count": null,
   "metadata": {},
   "outputs": [],
   "source": [
    "fig, ax = fn.plotOperationColorMap(esM, 'Salt caverns (hydrogen)', 'cluster_2',\n",
    "                                  variableName='stateOfChargeOperationVariablesOptimum')"
   ]
  },
  {
   "cell_type": "markdown",
   "metadata": {},
   "source": [
    "## Transmission\n",
    "\n",
    "Show optimization summary"
   ]
  },
  {
   "cell_type": "code",
   "execution_count": null,
   "metadata": {
    "scrolled": true
   },
   "outputs": [],
   "source": [
    "esM.getOptimizationSummary(\"TransmissionModel\", outputLevel=2).loc['Pipelines (hydrogen)']"
   ]
  },
  {
   "cell_type": "markdown",
   "metadata": {},
   "source": [
    "Check that the shared capacity of the pipelines are not exceeded"
   ]
  },
  {
   "cell_type": "code",
   "execution_count": null,
   "metadata": {},
   "outputs": [],
   "source": [
    "df=esM.componentModelingDict[\"TransmissionModel\"].capacityVariablesOptimum\n",
    "df.loc['Pipelines (biogas)']+df.loc['Pipelines (hydrogen)']"
   ]
  },
  {
   "cell_type": "markdown",
   "metadata": {},
   "source": [
    "Plot installed transmission capacities"
   ]
  },
  {
   "cell_type": "code",
   "execution_count": null,
   "metadata": {},
   "outputs": [],
   "source": [
    "transFilePath = os.path.join(cwd, 'InputData', 'SpatialData','ShapeFiles', 'AClines.shp')\n",
    "\n",
    "fig, ax = fn.plotLocations(locFilePath, indexColumn='index')                                 \n",
    "fig, ax = fn.plotTransmission(esM, 'AC cables', transFilePath, loc0='bus0', loc1='bus1', fig=fig, ax=ax)"
   ]
  },
  {
   "cell_type": "code",
   "execution_count": null,
   "metadata": {},
   "outputs": [],
   "source": [
    "transFilePath = os.path.join(cwd, 'InputData', 'SpatialData','ShapeFiles', 'DClines.shp')\n",
    "\n",
    "fig, ax = fn.plotLocations(locFilePath, indexColumn='index')                                 \n",
    "fig, ax = fn.plotTransmission(esM, 'DC cables', transFilePath, loc0='cluster0', loc1='cluster1', fig=fig, ax=ax)"
   ]
  },
  {
   "cell_type": "code",
   "execution_count": null,
   "metadata": {
    "scrolled": false
   },
   "outputs": [],
   "source": [
    "transFilePath = os.path.join(cwd, 'InputData', 'SpatialData','ShapeFiles', 'transmissionPipeline.shp')\n",
    "\n",
    "fig, ax = fn.plotLocations(locFilePath, indexColumn='index')                                 \n",
    "fig, ax = fn.plotTransmission(esM, 'Pipelines (hydrogen)', transFilePath, loc0='loc1', loc1='loc2',\n",
    "                              fig=fig, ax=ax)"
   ]
  },
  {
   "cell_type": "code",
   "execution_count": null,
   "metadata": {},
   "outputs": [],
   "source": [
    "transFilePath = os.path.join(cwd, 'InputData', 'SpatialData','ShapeFiles', 'transmissionPipeline.shp')\n",
    "\n",
    "fig, ax = fn.plotLocations(locFilePath, indexColumn='index')                                 \n",
    "fig, ax = fn.plotTransmission(esM, 'Pipelines (biogas)', transFilePath, loc0='loc1', loc1='loc2',\n",
    "                              fig=fig, ax=ax)"
   ]
  },
  {
   "cell_type": "markdown",
   "metadata": {},
   "source": [
    "# Postprocessing: Determine robust pipeline design"
   ]
  },
  {
   "cell_type": "code",
   "execution_count": null,
   "metadata": {},
   "outputs": [],
   "source": [
    "# Import module expansion \"robustPipelineSizing\"\n",
    "from FINE.expansionModules import robustPipelineSizing"
   ]
  },
  {
   "cell_type": "code",
   "execution_count": null,
   "metadata": {},
   "outputs": [],
   "source": [
    "# 1. Option to get the injection and withdrawal rates for the pipeline sizing (in kg/s)\n",
    "rates = robustPipelineSizing.getInjectionWithdrawalRates(componentName='Pipelines (hydrogen)',esM=esM) # in GWh\n",
    "# Convert GWh to kg/s: GWh * (kWh/GWh) * (kg/kWh) * (1/ timestepLengthInSeconds) with timestepLengthInSeconds\n",
    "# being 3600 seconds for the present example\n",
    "rates = rates * (10 ** 6) * (1/33.32) * (1/3600) \n",
    "rates.head()"
   ]
  },
  {
   "cell_type": "code",
   "execution_count": null,
   "metadata": {},
   "outputs": [],
   "source": [
    "# 2. Option to get the injection and withdrawal rates for the pipeline sizing (in kg/s)\n",
    "op = esM.componentModelingDict[esM.componentNames['Pipelines (hydrogen)']].\\\n",
    "    getOptimalValues('operationVariablesOptimum')['values'].loc['Pipelines (hydrogen)']\n",
    "rates = robustPipelineSizing.getInjectionWithdrawalRates(operationVariablesOptimumData=op) # in GWh\n",
    "# Convert GWh to kg/s: GWh * (kWh/GWh) * (kg/kWh) * (1/ timestepLengthInSeconds) with timestepLengthInSeconds\n",
    "# being 3600 seconds for the present example\n",
    "rates = rates * (10 ** 6) * (1/33.32) * (1/3600) \n",
    "rates.head()"
   ]
  },
  {
   "cell_type": "code",
   "execution_count": null,
   "metadata": {},
   "outputs": [],
   "source": [
    "# Determine unique withdrawal and injection scenarios to save computation time\n",
    "rates = rates.drop_duplicates()\n",
    "rates.head()"
   ]
  },
  {
   "cell_type": "code",
   "execution_count": null,
   "metadata": {},
   "outputs": [],
   "source": [
    "# Get the lengths of the pipeline (in m)\n",
    "lengths = robustPipelineSizing.getNetworkLengthsFromESM('Pipelines (hydrogen)', esM)\n",
    "lengths = lengths * 1e3\n",
    "lengths.head()"
   ]
  },
  {
   "cell_type": "code",
   "execution_count": null,
   "metadata": {},
   "outputs": [],
   "source": [
    "# Specify minimum and maximum pressure levels for all injection and withdrawal nodes (in bar)\n",
    "p_min_nodes = {'cluster_5': 60, 'cluster_3': 50, 'cluster_7': 50, 'cluster_1': 60, 'cluster_6': 50,\n",
    "               'cluster_4': 50, 'cluster_0': 50, 'cluster_2': 50}\n",
    "\n",
    "p_max_nodes = {'cluster_5': 100, 'cluster_3': 100, 'cluster_7': 100, 'cluster_1': 90, 'cluster_6': 100,\n",
    "               'cluster_4': 100, 'cluster_0': 100, 'cluster_2': 100}"
   ]
  },
  {
   "cell_type": "code",
   "execution_count": null,
   "metadata": {},
   "outputs": [],
   "source": [
    "# Specify the investment cost of the available diameter classes in €/m\n",
    "\n",
    "# For single pipes\n",
    "dic_diameter_costs = {0.1063: 37.51, 0.1307: 38.45, 0.1593: 39.64, 0.2065: 42.12,\n",
    "                      0.2588: 45.26, 0.3063: 48.69, 0.3356: 51.07, 0.3844: 55.24,\n",
    "                      0.432: 59.86, 0.4796: 64.98, 0.527: 70.56, 0.578: 76.61,\n",
    "                      0.625: 82.99, 0.671: 89.95, 0.722: 97.38, 0.7686: 105.28,\n",
    "                      0.814: 113.63, 0.864: 122.28, 0.915: 131.56, 0.96: 141.3,\n",
    "                      1.011: 151.5, 1.058: 162.17, 1.104: 173.08, 1.155: 184.67,\n",
    "                      1.249: 209.24, 1.342: 235.4, 1.444: 263.66, 1.536: 293.78}\n",
    "\n",
    "# For parallel pipes\n",
    "dic_candidateMergedDiam_costs={1.342: 235.4, 1.444: 263.66, 1.536: 293.78}"
   ]
  },
  {
   "cell_type": "code",
   "execution_count": null,
   "metadata": {},
   "outputs": [],
   "source": [
    "# Choose if a robust pipeline desin should be determined or the design should be optimized based on the\n",
    "# given injection and withdrawal rates only\n",
    "robust = True"
   ]
  },
  {
   "cell_type": "markdown",
   "metadata": {},
   "source": [
    "### Determine design for simple network structure"
   ]
  },
  {
   "cell_type": "code",
   "execution_count": null,
   "metadata": {
    "scrolled": true
   },
   "outputs": [],
   "source": [
    "# Compute with 7 threads and simple network structure\n",
    "\n",
    "dic_arc_optimalDiameters, dic_scen_PressLevels, dic_scen_MaxViolPress, dic_timeStep_PressLevels, \\\n",
    "    dic_timeStep_MaxViolPress, _ = robustPipelineSizing.determineDiscretePipelineDesign(\n",
    "        robust=robust, injectionWithdrawalRates=rates,\n",
    "        distances=lengths, dic_node_minPress=p_min_nodes, dic_node_maxPress=p_max_nodes, \n",
    "        dic_diameter_costs=dic_diameter_costs, dic_candidateMergedDiam_costs=dic_candidateMergedDiam_costs,\n",
    "        threads=7)"
   ]
  },
  {
   "cell_type": "code",
   "execution_count": null,
   "metadata": {},
   "outputs": [],
   "source": [
    "# Compute with 2 threads and simple network structure\n",
    "\n",
    "dic_arc_optimalDiameters, dic_scen_PressLevels, dic_scen_MaxViolPress, dic_timeStep_PressLevels, \\\n",
    "    dic_timeStep_MaxViolPress, _ = robustPipelineSizing.determineDiscretePipelineDesign(\n",
    "        robust=robust, injectionWithdrawalRates=rates,\n",
    "        distances=lengths, dic_node_minPress=p_min_nodes, dic_node_maxPress=p_max_nodes, \n",
    "        dic_diameter_costs=dic_diameter_costs, dic_candidateMergedDiam_costs=dic_candidateMergedDiam_costs,\n",
    "        threads=2)\n",
    "\n",
    "print(\"Finished Discrete Pipeline Optimization\")"
   ]
  },
  {
   "cell_type": "markdown",
   "metadata": {},
   "source": [
    "### Determine design for more complex network structure"
   ]
  },
  {
   "cell_type": "code",
   "execution_count": null,
   "metadata": {},
   "outputs": [],
   "source": [
    "# Redfine minimum and maximum pressure levels to reduce robust scenario computation time\n",
    "p_min_nodes = {'cluster_5': 50, 'cluster_3': 50, 'cluster_7': 50, 'cluster_1': 50, 'cluster_6': 50,\n",
    "               'cluster_4': 50, 'cluster_0': 50, 'cluster_2': 50}\n",
    "\n",
    "p_max_nodes = {'cluster_5': 100, 'cluster_3': 100, 'cluster_7': 100, 'cluster_1': 100, 'cluster_6': 100,\n",
    "               'cluster_4': 100, 'cluster_0': 100, 'cluster_2': 100}"
   ]
  },
  {
   "cell_type": "code",
   "execution_count": null,
   "metadata": {
    "scrolled": false
   },
   "outputs": [],
   "source": [
    "# Get more complex network structure\n",
    "regColumn1 = 'loc1'\n",
    "regColumn2 = 'loc2'\n",
    "\n",
    "dic_node_minPress=p_min_nodes\n",
    "dic_node_maxPress=p_max_nodes\n",
    "\n",
    "maxPipeLength= 35 * 1e3\n",
    "minPipeLength= 1 * 1e3\n",
    "\n",
    "distances_new, dic_node_minPress_new, dic_node_maxPress_new, gdfNodes, gdfEdges = \\\n",
    "    robustPipelineSizing.getRefinedShapeFile(transFilePath, regColumn1, regColumn2, dic_node_minPress,\n",
    "                                             dic_node_maxPress, minPipeLength, maxPipeLength)\n",
    "\n",
    "fig, ax = fn.plotLocations(locFilePath, indexColumn='index') \n",
    "\n",
    "gdfEdges.plot(ax=ax, color='grey')\n",
    "gdfNodes.plot(ax=ax, color='red', markersize=2)\n",
    "ax.axis('off')\n",
    "\n",
    "plt.show()"
   ]
  },
  {
   "cell_type": "code",
   "execution_count": null,
   "metadata": {
    "scrolled": true
   },
   "outputs": [],
   "source": [
    "# Determine optimal pipeline design with seven threads\n",
    "dic_arc_optimalDiameters, dic_scen_PressLevels, dic_scen_MaxViolPress, dic_timeStep_PressLevels, \\\n",
    "           dic_timeStep_MaxViolPress, gdfEdges = robustPipelineSizing.determineDiscretePipelineDesign(\n",
    "        robust=robust, injectionWithdrawalRates=rates,\n",
    "        distances=distances_new, dic_node_minPress=dic_node_minPress_new, dic_node_maxPress=dic_node_maxPress_new,\n",
    "        dic_diameter_costs=dic_diameter_costs, dic_candidateMergedDiam_costs=dic_candidateMergedDiam_costs,\n",
    "        gdfEdges=gdfEdges, regColumn1='nodeIn', regColumn2='nodeOut', threads=7, solver='gurobi')"
   ]
  },
  {
   "cell_type": "markdown",
   "metadata": {},
   "source": [
    "### Plot scenario output"
   ]
  },
  {
   "cell_type": "code",
   "execution_count": null,
   "metadata": {},
   "outputs": [],
   "source": [
    "# Get regions shapefile as geopandas GeoDataFrame\n",
    "gdf_regions = gpd.read_file(locFilePath)"
   ]
  },
  {
   "cell_type": "code",
   "execution_count": null,
   "metadata": {},
   "outputs": [],
   "source": [
    "# Visualize pipeline diameters\n",
    "fig, ax =robustPipelineSizing.plotOptimizedNetwork(gdfEdges, gdf_regions=gdf_regions, figsize=(5,5),\n",
    "    line_scaling=0.8)"
   ]
  },
  {
   "cell_type": "code",
   "execution_count": null,
   "metadata": {},
   "outputs": [],
   "source": [
    "# Get a minimum and maximum pressure scenario\n",
    "dic_timeStep_PressLevels = pd.DataFrame.from_dict(dic_scen_PressLevels)\n",
    "\n",
    "scen_min = dic_timeStep_PressLevels.mean().min()\n",
    "scen_min = dic_timeStep_PressLevels.loc[:,dic_timeStep_PressLevels.mean() == scen_min].iloc[:,0]\n",
    "scen_max = dic_timeStep_PressLevels.mean().max()\n",
    "scen_max = dic_timeStep_PressLevels.loc[:,dic_timeStep_PressLevels.mean() == scen_max].iloc[:,0]"
   ]
  },
  {
   "cell_type": "code",
   "execution_count": null,
   "metadata": {
    "scrolled": false
   },
   "outputs": [],
   "source": [
    "fig, ax =robustPipelineSizing.plotOptimizedNetwork(gdfEdges, gdf_regions=gdf_regions, figsize=(5,5),\n",
    "    line_scaling=0.9, pressureLevels=scen_min)"
   ]
  },
  {
   "cell_type": "code",
   "execution_count": null,
   "metadata": {},
   "outputs": [],
   "source": [
    "fig, ax =robustPipelineSizing.plotOptimizedNetwork(gdfEdges, gdf_regions=gdf_regions, figsize=(5,5),\n",
    "    line_scaling=0.9, pressureLevels=scen_max)"
   ]
  },
  {
   "cell_type": "markdown",
   "metadata": {},
   "source": [
    "### Pie Chart Plot"
   ]
  },
  {
   "cell_type": "code",
   "execution_count": 36,
   "metadata": {},
   "outputs": [],
   "source": [
    "from matplotlib.patches import Wedge\n",
    "from matplotlib.collections import PatchCollection"
   ]
  },
  {
   "cell_type": "code",
   "execution_count": 37,
   "metadata": {},
   "outputs": [],
   "source": [
    "results_df = esM.getOptimizationSummary(\"SourceSinkModel\", outputLevel=2)"
   ]
  },
  {
   "cell_type": "code",
   "execution_count": 38,
   "metadata": {},
   "outputs": [
    {
     "data": {
      "text/html": [
       "<div>\n",
       "<style scoped>\n",
       "    .dataframe tbody tr th:only-of-type {\n",
       "        vertical-align: middle;\n",
       "    }\n",
       "\n",
       "    .dataframe tbody tr th {\n",
       "        vertical-align: top;\n",
       "    }\n",
       "\n",
       "    .dataframe thead th {\n",
       "        text-align: right;\n",
       "    }\n",
       "</style>\n",
       "<table border=\"1\" class=\"dataframe\">\n",
       "  <thead>\n",
       "    <tr style=\"text-align: right;\">\n",
       "      <th></th>\n",
       "      <th></th>\n",
       "      <th></th>\n",
       "      <th>cluster_0</th>\n",
       "      <th>cluster_1</th>\n",
       "      <th>cluster_2</th>\n",
       "      <th>cluster_3</th>\n",
       "      <th>cluster_4</th>\n",
       "      <th>cluster_5</th>\n",
       "      <th>cluster_6</th>\n",
       "      <th>cluster_7</th>\n",
       "    </tr>\n",
       "    <tr>\n",
       "      <th>Component</th>\n",
       "      <th>Property</th>\n",
       "      <th>Unit</th>\n",
       "      <th></th>\n",
       "      <th></th>\n",
       "      <th></th>\n",
       "      <th></th>\n",
       "      <th></th>\n",
       "      <th></th>\n",
       "      <th></th>\n",
       "      <th></th>\n",
       "    </tr>\n",
       "  </thead>\n",
       "  <tbody>\n",
       "    <tr>\n",
       "      <th rowspan=\"4\" valign=\"top\">Biogas purchase</th>\n",
       "      <th>TAC</th>\n",
       "      <th>[1e9 Euro/a]</th>\n",
       "      <td>0.264223</td>\n",
       "      <td>0.253751</td>\n",
       "      <td>0.176749</td>\n",
       "      <td>0.244162</td>\n",
       "      <td>0.351453</td>\n",
       "      <td>0.155594</td>\n",
       "      <td>0.164873</td>\n",
       "      <td>0.0659848</td>\n",
       "    </tr>\n",
       "    <tr>\n",
       "      <th>commodCosts</th>\n",
       "      <th>[1e9 Euro/a]</th>\n",
       "      <td>0.264223</td>\n",
       "      <td>0.253751</td>\n",
       "      <td>0.176749</td>\n",
       "      <td>0.244162</td>\n",
       "      <td>0.351453</td>\n",
       "      <td>0.155594</td>\n",
       "      <td>0.164873</td>\n",
       "      <td>0.0659848</td>\n",
       "    </tr>\n",
       "    <tr>\n",
       "      <th rowspan=\"2\" valign=\"top\">operation</th>\n",
       "      <th>[GW$_{biogas,LHV}$*h/a]</th>\n",
       "      <td>4884.88</td>\n",
       "      <td>4691.28</td>\n",
       "      <td>3267.67</td>\n",
       "      <td>4514</td>\n",
       "      <td>6497.55</td>\n",
       "      <td>2876.58</td>\n",
       "      <td>3048.13</td>\n",
       "      <td>1219.91</td>\n",
       "    </tr>\n",
       "    <tr>\n",
       "      <th>[GW$_{biogas,LHV}$*h]</th>\n",
       "      <td>4884.88</td>\n",
       "      <td>4691.28</td>\n",
       "      <td>3267.67</td>\n",
       "      <td>4514</td>\n",
       "      <td>6497.55</td>\n",
       "      <td>2876.58</td>\n",
       "      <td>3048.13</td>\n",
       "      <td>1219.91</td>\n",
       "    </tr>\n",
       "    <tr>\n",
       "      <th rowspan=\"2\" valign=\"top\">Electricity demand</th>\n",
       "      <th rowspan=\"2\" valign=\"top\">operation</th>\n",
       "      <th>[GW$_{el}$*h/a]</th>\n",
       "      <td>133963</td>\n",
       "      <td>66116</td>\n",
       "      <td>124797</td>\n",
       "      <td>40441.2</td>\n",
       "      <td>77229.3</td>\n",
       "      <td>41413.4</td>\n",
       "      <td>28088.8</td>\n",
       "      <td>15851.1</td>\n",
       "    </tr>\n",
       "    <tr>\n",
       "      <th>[GW$_{el}$*h]</th>\n",
       "      <td>133963</td>\n",
       "      <td>66116</td>\n",
       "      <td>124797</td>\n",
       "      <td>40441.2</td>\n",
       "      <td>77229.3</td>\n",
       "      <td>41413.4</td>\n",
       "      <td>28088.8</td>\n",
       "      <td>15851.1</td>\n",
       "    </tr>\n",
       "    <tr>\n",
       "      <th rowspan=\"5\" valign=\"top\">Existing run-of-river plants</th>\n",
       "      <th>TAC</th>\n",
       "      <th>[1e9 Euro/a]</th>\n",
       "      <td>0.144316</td>\n",
       "      <td>0.0077909</td>\n",
       "      <td>0.0079499</td>\n",
       "      <td>0.00906289</td>\n",
       "      <td>0.556096</td>\n",
       "      <td>0</td>\n",
       "      <td>0</td>\n",
       "      <td>0.0674723</td>\n",
       "    </tr>\n",
       "    <tr>\n",
       "      <th>capacity</th>\n",
       "      <th>[GW$_{el}$]</th>\n",
       "      <td>0.693828</td>\n",
       "      <td>0.0374563</td>\n",
       "      <td>0.0382207</td>\n",
       "      <td>0.0435716</td>\n",
       "      <td>2.67354</td>\n",
       "      <td>NaN</td>\n",
       "      <td>NaN</td>\n",
       "      <td>0.324386</td>\n",
       "    </tr>\n",
       "    <tr>\n",
       "      <th rowspan=\"2\" valign=\"top\">operation</th>\n",
       "      <th>[GW$_{el}$*h/a]</th>\n",
       "      <td>3167.33</td>\n",
       "      <td>170.988</td>\n",
       "      <td>174.478</td>\n",
       "      <td>198.904</td>\n",
       "      <td>12204.7</td>\n",
       "      <td>NaN</td>\n",
       "      <td>NaN</td>\n",
       "      <td>1480.82</td>\n",
       "    </tr>\n",
       "    <tr>\n",
       "      <th>[GW$_{el}$*h]</th>\n",
       "      <td>3167.33</td>\n",
       "      <td>170.988</td>\n",
       "      <td>174.478</td>\n",
       "      <td>198.904</td>\n",
       "      <td>12204.7</td>\n",
       "      <td>NaN</td>\n",
       "      <td>NaN</td>\n",
       "      <td>1480.82</td>\n",
       "    </tr>\n",
       "    <tr>\n",
       "      <th>opexCap</th>\n",
       "      <th>[1e9 Euro/a]</th>\n",
       "      <td>0.144316</td>\n",
       "      <td>0.0077909</td>\n",
       "      <td>0.0079499</td>\n",
       "      <td>0.00906289</td>\n",
       "      <td>0.556096</td>\n",
       "      <td>NaN</td>\n",
       "      <td>NaN</td>\n",
       "      <td>0.0674723</td>\n",
       "    </tr>\n",
       "    <tr>\n",
       "      <th rowspan=\"2\" valign=\"top\">Hydrogen demand</th>\n",
       "      <th rowspan=\"2\" valign=\"top\">operation</th>\n",
       "      <th>[GW$_{H_{2},LHV}$*h/a]</th>\n",
       "      <td>15855.2</td>\n",
       "      <td>11007.1</td>\n",
       "      <td>16452.6</td>\n",
       "      <td>5264.13</td>\n",
       "      <td>10078.3</td>\n",
       "      <td>5747.42</td>\n",
       "      <td>3710.05</td>\n",
       "      <td>1453.12</td>\n",
       "    </tr>\n",
       "    <tr>\n",
       "      <th>[GW$_{H_{2},LHV}$*h]</th>\n",
       "      <td>15855.2</td>\n",
       "      <td>11007.1</td>\n",
       "      <td>16452.6</td>\n",
       "      <td>5264.13</td>\n",
       "      <td>10078.3</td>\n",
       "      <td>5747.42</td>\n",
       "      <td>3710.05</td>\n",
       "      <td>1453.12</td>\n",
       "    </tr>\n",
       "    <tr>\n",
       "      <th rowspan=\"7\" valign=\"top\">PV</th>\n",
       "      <th>TAC</th>\n",
       "      <th>[1e9 Euro/a]</th>\n",
       "      <td>3.09316</td>\n",
       "      <td>1.90997</td>\n",
       "      <td>2.49109</td>\n",
       "      <td>1.4497</td>\n",
       "      <td>2.19401</td>\n",
       "      <td>1.46977</td>\n",
       "      <td>0.933703</td>\n",
       "      <td>0.366282</td>\n",
       "    </tr>\n",
       "    <tr>\n",
       "      <th>capacity</th>\n",
       "      <th>[GW$_{el}$]</th>\n",
       "      <td>41.8611</td>\n",
       "      <td>25.8484</td>\n",
       "      <td>33.7129</td>\n",
       "      <td>19.6194</td>\n",
       "      <td>29.6925</td>\n",
       "      <td>19.891</td>\n",
       "      <td>12.6362</td>\n",
       "      <td>4.95704</td>\n",
       "    </tr>\n",
       "    <tr>\n",
       "      <th>capexCap</th>\n",
       "      <th>[1e9 Euro/a]</th>\n",
       "      <td>2.54897</td>\n",
       "      <td>1.57394</td>\n",
       "      <td>2.05282</td>\n",
       "      <td>1.19465</td>\n",
       "      <td>1.80801</td>\n",
       "      <td>1.21118</td>\n",
       "      <td>0.769433</td>\n",
       "      <td>0.30184</td>\n",
       "    </tr>\n",
       "    <tr>\n",
       "      <th>invest</th>\n",
       "      <th>[1e9 Euro]</th>\n",
       "      <td>27.2097</td>\n",
       "      <td>16.8014</td>\n",
       "      <td>21.9134</td>\n",
       "      <td>12.7526</td>\n",
       "      <td>19.3001</td>\n",
       "      <td>12.9291</td>\n",
       "      <td>8.21352</td>\n",
       "      <td>3.22208</td>\n",
       "    </tr>\n",
       "    <tr>\n",
       "      <th rowspan=\"2\" valign=\"top\">operation</th>\n",
       "      <th>[GW$_{el}$*h/a]</th>\n",
       "      <td>38289.5</td>\n",
       "      <td>26556.2</td>\n",
       "      <td>27269.8</td>\n",
       "      <td>19638.2</td>\n",
       "      <td>29839.7</td>\n",
       "      <td>20922.3</td>\n",
       "      <td>9413.69</td>\n",
       "      <td>5178.23</td>\n",
       "    </tr>\n",
       "    <tr>\n",
       "      <th>[GW$_{el}$*h]</th>\n",
       "      <td>38289.5</td>\n",
       "      <td>26556.2</td>\n",
       "      <td>27269.8</td>\n",
       "      <td>19638.2</td>\n",
       "      <td>29839.7</td>\n",
       "      <td>20922.3</td>\n",
       "      <td>9413.69</td>\n",
       "      <td>5178.23</td>\n",
       "    </tr>\n",
       "    <tr>\n",
       "      <th>opexCap</th>\n",
       "      <th>[1e9 Euro/a]</th>\n",
       "      <td>0.544194</td>\n",
       "      <td>0.336029</td>\n",
       "      <td>0.438268</td>\n",
       "      <td>0.255052</td>\n",
       "      <td>0.386002</td>\n",
       "      <td>0.258582</td>\n",
       "      <td>0.16427</td>\n",
       "      <td>0.0644416</td>\n",
       "    </tr>\n",
       "    <tr>\n",
       "      <th rowspan=\"7\" valign=\"top\">Wind (offshore)</th>\n",
       "      <th>TAC</th>\n",
       "      <th>[1e9 Euro/a]</th>\n",
       "      <td>0</td>\n",
       "      <td>1.12104</td>\n",
       "      <td>14.8538</td>\n",
       "      <td>1.68156</td>\n",
       "      <td>0</td>\n",
       "      <td>0</td>\n",
       "      <td>5.04468</td>\n",
       "      <td>0</td>\n",
       "    </tr>\n",
       "    <tr>\n",
       "      <th>capacity</th>\n",
       "      <th>[GW$_{el}$]</th>\n",
       "      <td>NaN</td>\n",
       "      <td>4</td>\n",
       "      <td>53</td>\n",
       "      <td>6</td>\n",
       "      <td>NaN</td>\n",
       "      <td>NaN</td>\n",
       "      <td>18</td>\n",
       "      <td>NaN</td>\n",
       "    </tr>\n",
       "    <tr>\n",
       "      <th>capexCap</th>\n",
       "      <th>[1e9 Euro/a]</th>\n",
       "      <td>NaN</td>\n",
       "      <td>0.93704</td>\n",
       "      <td>12.4158</td>\n",
       "      <td>1.40556</td>\n",
       "      <td>NaN</td>\n",
       "      <td>NaN</td>\n",
       "      <td>4.21668</td>\n",
       "      <td>NaN</td>\n",
       "    </tr>\n",
       "    <tr>\n",
       "      <th>invest</th>\n",
       "      <th>[1e9 Euro]</th>\n",
       "      <td>NaN</td>\n",
       "      <td>9.2</td>\n",
       "      <td>121.9</td>\n",
       "      <td>13.8</td>\n",
       "      <td>NaN</td>\n",
       "      <td>NaN</td>\n",
       "      <td>41.4</td>\n",
       "      <td>NaN</td>\n",
       "    </tr>\n",
       "    <tr>\n",
       "      <th rowspan=\"2\" valign=\"top\">operation</th>\n",
       "      <th>[GW$_{el}$*h/a]</th>\n",
       "      <td>NaN</td>\n",
       "      <td>12622.8</td>\n",
       "      <td>213919</td>\n",
       "      <td>21072.4</td>\n",
       "      <td>NaN</td>\n",
       "      <td>NaN</td>\n",
       "      <td>70694.7</td>\n",
       "      <td>NaN</td>\n",
       "    </tr>\n",
       "    <tr>\n",
       "      <th>[GW$_{el}$*h]</th>\n",
       "      <td>NaN</td>\n",
       "      <td>12622.8</td>\n",
       "      <td>213919</td>\n",
       "      <td>21072.4</td>\n",
       "      <td>NaN</td>\n",
       "      <td>NaN</td>\n",
       "      <td>70694.7</td>\n",
       "      <td>NaN</td>\n",
       "    </tr>\n",
       "    <tr>\n",
       "      <th>opexCap</th>\n",
       "      <th>[1e9 Euro/a]</th>\n",
       "      <td>NaN</td>\n",
       "      <td>0.184</td>\n",
       "      <td>2.438</td>\n",
       "      <td>0.276</td>\n",
       "      <td>NaN</td>\n",
       "      <td>NaN</td>\n",
       "      <td>0.828</td>\n",
       "      <td>NaN</td>\n",
       "    </tr>\n",
       "    <tr>\n",
       "      <th rowspan=\"7\" valign=\"top\">Wind (onshore)</th>\n",
       "      <th>TAC</th>\n",
       "      <th>[1e9 Euro/a]</th>\n",
       "      <td>0</td>\n",
       "      <td>0</td>\n",
       "      <td>1.98679</td>\n",
       "      <td>0</td>\n",
       "      <td>0.255038</td>\n",
       "      <td>0</td>\n",
       "      <td>3.68199</td>\n",
       "      <td>0</td>\n",
       "    </tr>\n",
       "    <tr>\n",
       "      <th>capacity</th>\n",
       "      <th>[GW$_{el}$]</th>\n",
       "      <td>0</td>\n",
       "      <td>0</td>\n",
       "      <td>14.8226</td>\n",
       "      <td>0</td>\n",
       "      <td>1.90274</td>\n",
       "      <td>0</td>\n",
       "      <td>27.4699</td>\n",
       "      <td>0</td>\n",
       "    </tr>\n",
       "    <tr>\n",
       "      <th>capexCap</th>\n",
       "      <th>[1e9 Euro/a]</th>\n",
       "      <td>0</td>\n",
       "      <td>0</td>\n",
       "      <td>1.66069</td>\n",
       "      <td>0</td>\n",
       "      <td>0.213178</td>\n",
       "      <td>0</td>\n",
       "      <td>3.07765</td>\n",
       "      <td>0</td>\n",
       "    </tr>\n",
       "    <tr>\n",
       "      <th>invest</th>\n",
       "      <th>[1e9 Euro]</th>\n",
       "      <td>0</td>\n",
       "      <td>0</td>\n",
       "      <td>16.3049</td>\n",
       "      <td>0</td>\n",
       "      <td>2.09301</td>\n",
       "      <td>0</td>\n",
       "      <td>30.2168</td>\n",
       "      <td>0</td>\n",
       "    </tr>\n",
       "    <tr>\n",
       "      <th rowspan=\"2\" valign=\"top\">operation</th>\n",
       "      <th>[GW$_{el}$*h/a]</th>\n",
       "      <td>0</td>\n",
       "      <td>0</td>\n",
       "      <td>34138.2</td>\n",
       "      <td>0</td>\n",
       "      <td>2283.02</td>\n",
       "      <td>0</td>\n",
       "      <td>70706.1</td>\n",
       "      <td>0</td>\n",
       "    </tr>\n",
       "    <tr>\n",
       "      <th>[GW$_{el}$*h]</th>\n",
       "      <td>0</td>\n",
       "      <td>0</td>\n",
       "      <td>34138.2</td>\n",
       "      <td>0</td>\n",
       "      <td>2283.02</td>\n",
       "      <td>0</td>\n",
       "      <td>70706.1</td>\n",
       "      <td>0</td>\n",
       "    </tr>\n",
       "    <tr>\n",
       "      <th>opexCap</th>\n",
       "      <th>[1e9 Euro/a]</th>\n",
       "      <td>0</td>\n",
       "      <td>0</td>\n",
       "      <td>0.326098</td>\n",
       "      <td>0</td>\n",
       "      <td>0.0418602</td>\n",
       "      <td>0</td>\n",
       "      <td>0.604337</td>\n",
       "      <td>0</td>\n",
       "    </tr>\n",
       "  </tbody>\n",
       "</table>\n",
       "</div>"
      ],
      "text/plain": [
       "                                                                 cluster_0  \\\n",
       "Component                    Property    Unit                                \n",
       "Biogas purchase              TAC         [1e9 Euro/a]             0.264223   \n",
       "                             commodCosts [1e9 Euro/a]             0.264223   \n",
       "                             operation   [GW$_{biogas,LHV}$*h/a]   4884.88   \n",
       "                                         [GW$_{biogas,LHV}$*h]     4884.88   \n",
       "Electricity demand           operation   [GW$_{el}$*h/a]            133963   \n",
       "                                         [GW$_{el}$*h]              133963   \n",
       "Existing run-of-river plants TAC         [1e9 Euro/a]             0.144316   \n",
       "                             capacity    [GW$_{el}$]              0.693828   \n",
       "                             operation   [GW$_{el}$*h/a]           3167.33   \n",
       "                                         [GW$_{el}$*h]             3167.33   \n",
       "                             opexCap     [1e9 Euro/a]             0.144316   \n",
       "Hydrogen demand              operation   [GW$_{H_{2},LHV}$*h/a]    15855.2   \n",
       "                                         [GW$_{H_{2},LHV}$*h]      15855.2   \n",
       "PV                           TAC         [1e9 Euro/a]              3.09316   \n",
       "                             capacity    [GW$_{el}$]               41.8611   \n",
       "                             capexCap    [1e9 Euro/a]              2.54897   \n",
       "                             invest      [1e9 Euro]                27.2097   \n",
       "                             operation   [GW$_{el}$*h/a]           38289.5   \n",
       "                                         [GW$_{el}$*h]             38289.5   \n",
       "                             opexCap     [1e9 Euro/a]             0.544194   \n",
       "Wind (offshore)              TAC         [1e9 Euro/a]                    0   \n",
       "                             capacity    [GW$_{el}$]                   NaN   \n",
       "                             capexCap    [1e9 Euro/a]                  NaN   \n",
       "                             invest      [1e9 Euro]                    NaN   \n",
       "                             operation   [GW$_{el}$*h/a]               NaN   \n",
       "                                         [GW$_{el}$*h]                 NaN   \n",
       "                             opexCap     [1e9 Euro/a]                  NaN   \n",
       "Wind (onshore)               TAC         [1e9 Euro/a]                    0   \n",
       "                             capacity    [GW$_{el}$]                     0   \n",
       "                             capexCap    [1e9 Euro/a]                    0   \n",
       "                             invest      [1e9 Euro]                      0   \n",
       "                             operation   [GW$_{el}$*h/a]                 0   \n",
       "                                         [GW$_{el}$*h]                   0   \n",
       "                             opexCap     [1e9 Euro/a]                    0   \n",
       "\n",
       "                                                                  cluster_1  \\\n",
       "Component                    Property    Unit                                 \n",
       "Biogas purchase              TAC         [1e9 Euro/a]              0.253751   \n",
       "                             commodCosts [1e9 Euro/a]              0.253751   \n",
       "                             operation   [GW$_{biogas,LHV}$*h/a]    4691.28   \n",
       "                                         [GW$_{biogas,LHV}$*h]      4691.28   \n",
       "Electricity demand           operation   [GW$_{el}$*h/a]              66116   \n",
       "                                         [GW$_{el}$*h]                66116   \n",
       "Existing run-of-river plants TAC         [1e9 Euro/a]             0.0077909   \n",
       "                             capacity    [GW$_{el}$]              0.0374563   \n",
       "                             operation   [GW$_{el}$*h/a]            170.988   \n",
       "                                         [GW$_{el}$*h]              170.988   \n",
       "                             opexCap     [1e9 Euro/a]             0.0077909   \n",
       "Hydrogen demand              operation   [GW$_{H_{2},LHV}$*h/a]     11007.1   \n",
       "                                         [GW$_{H_{2},LHV}$*h]       11007.1   \n",
       "PV                           TAC         [1e9 Euro/a]               1.90997   \n",
       "                             capacity    [GW$_{el}$]                25.8484   \n",
       "                             capexCap    [1e9 Euro/a]               1.57394   \n",
       "                             invest      [1e9 Euro]                 16.8014   \n",
       "                             operation   [GW$_{el}$*h/a]            26556.2   \n",
       "                                         [GW$_{el}$*h]              26556.2   \n",
       "                             opexCap     [1e9 Euro/a]              0.336029   \n",
       "Wind (offshore)              TAC         [1e9 Euro/a]               1.12104   \n",
       "                             capacity    [GW$_{el}$]                      4   \n",
       "                             capexCap    [1e9 Euro/a]               0.93704   \n",
       "                             invest      [1e9 Euro]                     9.2   \n",
       "                             operation   [GW$_{el}$*h/a]            12622.8   \n",
       "                                         [GW$_{el}$*h]              12622.8   \n",
       "                             opexCap     [1e9 Euro/a]                 0.184   \n",
       "Wind (onshore)               TAC         [1e9 Euro/a]                     0   \n",
       "                             capacity    [GW$_{el}$]                      0   \n",
       "                             capexCap    [1e9 Euro/a]                     0   \n",
       "                             invest      [1e9 Euro]                       0   \n",
       "                             operation   [GW$_{el}$*h/a]                  0   \n",
       "                                         [GW$_{el}$*h]                    0   \n",
       "                             opexCap     [1e9 Euro/a]                     0   \n",
       "\n",
       "                                                                  cluster_2  \\\n",
       "Component                    Property    Unit                                 \n",
       "Biogas purchase              TAC         [1e9 Euro/a]              0.176749   \n",
       "                             commodCosts [1e9 Euro/a]              0.176749   \n",
       "                             operation   [GW$_{biogas,LHV}$*h/a]    3267.67   \n",
       "                                         [GW$_{biogas,LHV}$*h]      3267.67   \n",
       "Electricity demand           operation   [GW$_{el}$*h/a]             124797   \n",
       "                                         [GW$_{el}$*h]               124797   \n",
       "Existing run-of-river plants TAC         [1e9 Euro/a]             0.0079499   \n",
       "                             capacity    [GW$_{el}$]              0.0382207   \n",
       "                             operation   [GW$_{el}$*h/a]            174.478   \n",
       "                                         [GW$_{el}$*h]              174.478   \n",
       "                             opexCap     [1e9 Euro/a]             0.0079499   \n",
       "Hydrogen demand              operation   [GW$_{H_{2},LHV}$*h/a]     16452.6   \n",
       "                                         [GW$_{H_{2},LHV}$*h]       16452.6   \n",
       "PV                           TAC         [1e9 Euro/a]               2.49109   \n",
       "                             capacity    [GW$_{el}$]                33.7129   \n",
       "                             capexCap    [1e9 Euro/a]               2.05282   \n",
       "                             invest      [1e9 Euro]                 21.9134   \n",
       "                             operation   [GW$_{el}$*h/a]            27269.8   \n",
       "                                         [GW$_{el}$*h]              27269.8   \n",
       "                             opexCap     [1e9 Euro/a]              0.438268   \n",
       "Wind (offshore)              TAC         [1e9 Euro/a]               14.8538   \n",
       "                             capacity    [GW$_{el}$]                     53   \n",
       "                             capexCap    [1e9 Euro/a]               12.4158   \n",
       "                             invest      [1e9 Euro]                   121.9   \n",
       "                             operation   [GW$_{el}$*h/a]             213919   \n",
       "                                         [GW$_{el}$*h]               213919   \n",
       "                             opexCap     [1e9 Euro/a]                 2.438   \n",
       "Wind (onshore)               TAC         [1e9 Euro/a]               1.98679   \n",
       "                             capacity    [GW$_{el}$]                14.8226   \n",
       "                             capexCap    [1e9 Euro/a]               1.66069   \n",
       "                             invest      [1e9 Euro]                 16.3049   \n",
       "                             operation   [GW$_{el}$*h/a]            34138.2   \n",
       "                                         [GW$_{el}$*h]              34138.2   \n",
       "                             opexCap     [1e9 Euro/a]              0.326098   \n",
       "\n",
       "                                                                   cluster_3  \\\n",
       "Component                    Property    Unit                                  \n",
       "Biogas purchase              TAC         [1e9 Euro/a]               0.244162   \n",
       "                             commodCosts [1e9 Euro/a]               0.244162   \n",
       "                             operation   [GW$_{biogas,LHV}$*h/a]        4514   \n",
       "                                         [GW$_{biogas,LHV}$*h]          4514   \n",
       "Electricity demand           operation   [GW$_{el}$*h/a]             40441.2   \n",
       "                                         [GW$_{el}$*h]               40441.2   \n",
       "Existing run-of-river plants TAC         [1e9 Euro/a]             0.00906289   \n",
       "                             capacity    [GW$_{el}$]               0.0435716   \n",
       "                             operation   [GW$_{el}$*h/a]             198.904   \n",
       "                                         [GW$_{el}$*h]               198.904   \n",
       "                             opexCap     [1e9 Euro/a]             0.00906289   \n",
       "Hydrogen demand              operation   [GW$_{H_{2},LHV}$*h/a]      5264.13   \n",
       "                                         [GW$_{H_{2},LHV}$*h]        5264.13   \n",
       "PV                           TAC         [1e9 Euro/a]                 1.4497   \n",
       "                             capacity    [GW$_{el}$]                 19.6194   \n",
       "                             capexCap    [1e9 Euro/a]                1.19465   \n",
       "                             invest      [1e9 Euro]                  12.7526   \n",
       "                             operation   [GW$_{el}$*h/a]             19638.2   \n",
       "                                         [GW$_{el}$*h]               19638.2   \n",
       "                             opexCap     [1e9 Euro/a]               0.255052   \n",
       "Wind (offshore)              TAC         [1e9 Euro/a]                1.68156   \n",
       "                             capacity    [GW$_{el}$]                       6   \n",
       "                             capexCap    [1e9 Euro/a]                1.40556   \n",
       "                             invest      [1e9 Euro]                     13.8   \n",
       "                             operation   [GW$_{el}$*h/a]             21072.4   \n",
       "                                         [GW$_{el}$*h]               21072.4   \n",
       "                             opexCap     [1e9 Euro/a]                  0.276   \n",
       "Wind (onshore)               TAC         [1e9 Euro/a]                      0   \n",
       "                             capacity    [GW$_{el}$]                       0   \n",
       "                             capexCap    [1e9 Euro/a]                      0   \n",
       "                             invest      [1e9 Euro]                        0   \n",
       "                             operation   [GW$_{el}$*h/a]                   0   \n",
       "                                         [GW$_{el}$*h]                     0   \n",
       "                             opexCap     [1e9 Euro/a]                      0   \n",
       "\n",
       "                                                                  cluster_4  \\\n",
       "Component                    Property    Unit                                 \n",
       "Biogas purchase              TAC         [1e9 Euro/a]              0.351453   \n",
       "                             commodCosts [1e9 Euro/a]              0.351453   \n",
       "                             operation   [GW$_{biogas,LHV}$*h/a]    6497.55   \n",
       "                                         [GW$_{biogas,LHV}$*h]      6497.55   \n",
       "Electricity demand           operation   [GW$_{el}$*h/a]            77229.3   \n",
       "                                         [GW$_{el}$*h]              77229.3   \n",
       "Existing run-of-river plants TAC         [1e9 Euro/a]              0.556096   \n",
       "                             capacity    [GW$_{el}$]                2.67354   \n",
       "                             operation   [GW$_{el}$*h/a]            12204.7   \n",
       "                                         [GW$_{el}$*h]              12204.7   \n",
       "                             opexCap     [1e9 Euro/a]              0.556096   \n",
       "Hydrogen demand              operation   [GW$_{H_{2},LHV}$*h/a]     10078.3   \n",
       "                                         [GW$_{H_{2},LHV}$*h]       10078.3   \n",
       "PV                           TAC         [1e9 Euro/a]               2.19401   \n",
       "                             capacity    [GW$_{el}$]                29.6925   \n",
       "                             capexCap    [1e9 Euro/a]               1.80801   \n",
       "                             invest      [1e9 Euro]                 19.3001   \n",
       "                             operation   [GW$_{el}$*h/a]            29839.7   \n",
       "                                         [GW$_{el}$*h]              29839.7   \n",
       "                             opexCap     [1e9 Euro/a]              0.386002   \n",
       "Wind (offshore)              TAC         [1e9 Euro/a]                     0   \n",
       "                             capacity    [GW$_{el}$]                    NaN   \n",
       "                             capexCap    [1e9 Euro/a]                   NaN   \n",
       "                             invest      [1e9 Euro]                     NaN   \n",
       "                             operation   [GW$_{el}$*h/a]                NaN   \n",
       "                                         [GW$_{el}$*h]                  NaN   \n",
       "                             opexCap     [1e9 Euro/a]                   NaN   \n",
       "Wind (onshore)               TAC         [1e9 Euro/a]              0.255038   \n",
       "                             capacity    [GW$_{el}$]                1.90274   \n",
       "                             capexCap    [1e9 Euro/a]              0.213178   \n",
       "                             invest      [1e9 Euro]                 2.09301   \n",
       "                             operation   [GW$_{el}$*h/a]            2283.02   \n",
       "                                         [GW$_{el}$*h]              2283.02   \n",
       "                             opexCap     [1e9 Euro/a]             0.0418602   \n",
       "\n",
       "                                                                 cluster_5  \\\n",
       "Component                    Property    Unit                                \n",
       "Biogas purchase              TAC         [1e9 Euro/a]             0.155594   \n",
       "                             commodCosts [1e9 Euro/a]             0.155594   \n",
       "                             operation   [GW$_{biogas,LHV}$*h/a]   2876.58   \n",
       "                                         [GW$_{biogas,LHV}$*h]     2876.58   \n",
       "Electricity demand           operation   [GW$_{el}$*h/a]           41413.4   \n",
       "                                         [GW$_{el}$*h]             41413.4   \n",
       "Existing run-of-river plants TAC         [1e9 Euro/a]                    0   \n",
       "                             capacity    [GW$_{el}$]                   NaN   \n",
       "                             operation   [GW$_{el}$*h/a]               NaN   \n",
       "                                         [GW$_{el}$*h]                 NaN   \n",
       "                             opexCap     [1e9 Euro/a]                  NaN   \n",
       "Hydrogen demand              operation   [GW$_{H_{2},LHV}$*h/a]    5747.42   \n",
       "                                         [GW$_{H_{2},LHV}$*h]      5747.42   \n",
       "PV                           TAC         [1e9 Euro/a]              1.46977   \n",
       "                             capacity    [GW$_{el}$]                19.891   \n",
       "                             capexCap    [1e9 Euro/a]              1.21118   \n",
       "                             invest      [1e9 Euro]                12.9291   \n",
       "                             operation   [GW$_{el}$*h/a]           20922.3   \n",
       "                                         [GW$_{el}$*h]             20922.3   \n",
       "                             opexCap     [1e9 Euro/a]             0.258582   \n",
       "Wind (offshore)              TAC         [1e9 Euro/a]                    0   \n",
       "                             capacity    [GW$_{el}$]                   NaN   \n",
       "                             capexCap    [1e9 Euro/a]                  NaN   \n",
       "                             invest      [1e9 Euro]                    NaN   \n",
       "                             operation   [GW$_{el}$*h/a]               NaN   \n",
       "                                         [GW$_{el}$*h]                 NaN   \n",
       "                             opexCap     [1e9 Euro/a]                  NaN   \n",
       "Wind (onshore)               TAC         [1e9 Euro/a]                    0   \n",
       "                             capacity    [GW$_{el}$]                     0   \n",
       "                             capexCap    [1e9 Euro/a]                    0   \n",
       "                             invest      [1e9 Euro]                      0   \n",
       "                             operation   [GW$_{el}$*h/a]                 0   \n",
       "                                         [GW$_{el}$*h]                   0   \n",
       "                             opexCap     [1e9 Euro/a]                    0   \n",
       "\n",
       "                                                                 cluster_6  \\\n",
       "Component                    Property    Unit                                \n",
       "Biogas purchase              TAC         [1e9 Euro/a]             0.164873   \n",
       "                             commodCosts [1e9 Euro/a]             0.164873   \n",
       "                             operation   [GW$_{biogas,LHV}$*h/a]   3048.13   \n",
       "                                         [GW$_{biogas,LHV}$*h]     3048.13   \n",
       "Electricity demand           operation   [GW$_{el}$*h/a]           28088.8   \n",
       "                                         [GW$_{el}$*h]             28088.8   \n",
       "Existing run-of-river plants TAC         [1e9 Euro/a]                    0   \n",
       "                             capacity    [GW$_{el}$]                   NaN   \n",
       "                             operation   [GW$_{el}$*h/a]               NaN   \n",
       "                                         [GW$_{el}$*h]                 NaN   \n",
       "                             opexCap     [1e9 Euro/a]                  NaN   \n",
       "Hydrogen demand              operation   [GW$_{H_{2},LHV}$*h/a]    3710.05   \n",
       "                                         [GW$_{H_{2},LHV}$*h]      3710.05   \n",
       "PV                           TAC         [1e9 Euro/a]             0.933703   \n",
       "                             capacity    [GW$_{el}$]               12.6362   \n",
       "                             capexCap    [1e9 Euro/a]             0.769433   \n",
       "                             invest      [1e9 Euro]                8.21352   \n",
       "                             operation   [GW$_{el}$*h/a]           9413.69   \n",
       "                                         [GW$_{el}$*h]             9413.69   \n",
       "                             opexCap     [1e9 Euro/a]              0.16427   \n",
       "Wind (offshore)              TAC         [1e9 Euro/a]              5.04468   \n",
       "                             capacity    [GW$_{el}$]                    18   \n",
       "                             capexCap    [1e9 Euro/a]              4.21668   \n",
       "                             invest      [1e9 Euro]                   41.4   \n",
       "                             operation   [GW$_{el}$*h/a]           70694.7   \n",
       "                                         [GW$_{el}$*h]             70694.7   \n",
       "                             opexCap     [1e9 Euro/a]                0.828   \n",
       "Wind (onshore)               TAC         [1e9 Euro/a]              3.68199   \n",
       "                             capacity    [GW$_{el}$]               27.4699   \n",
       "                             capexCap    [1e9 Euro/a]              3.07765   \n",
       "                             invest      [1e9 Euro]                30.2168   \n",
       "                             operation   [GW$_{el}$*h/a]           70706.1   \n",
       "                                         [GW$_{el}$*h]             70706.1   \n",
       "                             opexCap     [1e9 Euro/a]             0.604337   \n",
       "\n",
       "                                                                  cluster_7  \n",
       "Component                    Property    Unit                                \n",
       "Biogas purchase              TAC         [1e9 Euro/a]             0.0659848  \n",
       "                             commodCosts [1e9 Euro/a]             0.0659848  \n",
       "                             operation   [GW$_{biogas,LHV}$*h/a]    1219.91  \n",
       "                                         [GW$_{biogas,LHV}$*h]      1219.91  \n",
       "Electricity demand           operation   [GW$_{el}$*h/a]            15851.1  \n",
       "                                         [GW$_{el}$*h]              15851.1  \n",
       "Existing run-of-river plants TAC         [1e9 Euro/a]             0.0674723  \n",
       "                             capacity    [GW$_{el}$]               0.324386  \n",
       "                             operation   [GW$_{el}$*h/a]            1480.82  \n",
       "                                         [GW$_{el}$*h]              1480.82  \n",
       "                             opexCap     [1e9 Euro/a]             0.0674723  \n",
       "Hydrogen demand              operation   [GW$_{H_{2},LHV}$*h/a]     1453.12  \n",
       "                                         [GW$_{H_{2},LHV}$*h]       1453.12  \n",
       "PV                           TAC         [1e9 Euro/a]              0.366282  \n",
       "                             capacity    [GW$_{el}$]                4.95704  \n",
       "                             capexCap    [1e9 Euro/a]               0.30184  \n",
       "                             invest      [1e9 Euro]                 3.22208  \n",
       "                             operation   [GW$_{el}$*h/a]            5178.23  \n",
       "                                         [GW$_{el}$*h]              5178.23  \n",
       "                             opexCap     [1e9 Euro/a]             0.0644416  \n",
       "Wind (offshore)              TAC         [1e9 Euro/a]                     0  \n",
       "                             capacity    [GW$_{el}$]                    NaN  \n",
       "                             capexCap    [1e9 Euro/a]                   NaN  \n",
       "                             invest      [1e9 Euro]                     NaN  \n",
       "                             operation   [GW$_{el}$*h/a]                NaN  \n",
       "                                         [GW$_{el}$*h]                  NaN  \n",
       "                             opexCap     [1e9 Euro/a]                   NaN  \n",
       "Wind (onshore)               TAC         [1e9 Euro/a]                     0  \n",
       "                             capacity    [GW$_{el}$]                      0  \n",
       "                             capexCap    [1e9 Euro/a]                     0  \n",
       "                             invest      [1e9 Euro]                       0  \n",
       "                             operation   [GW$_{el}$*h/a]                  0  \n",
       "                                         [GW$_{el}$*h]                    0  \n",
       "                             opexCap     [1e9 Euro/a]                     0  "
      ]
     },
     "execution_count": 38,
     "metadata": {},
     "output_type": "execute_result"
    }
   ],
   "source": [
    "results_df"
   ]
  },
  {
   "cell_type": "code",
   "execution_count": 39,
   "metadata": {},
   "outputs": [
    {
     "data": {
      "text/html": [
       "<div>\n",
       "<style scoped>\n",
       "    .dataframe tbody tr th:only-of-type {\n",
       "        vertical-align: middle;\n",
       "    }\n",
       "\n",
       "    .dataframe tbody tr th {\n",
       "        vertical-align: top;\n",
       "    }\n",
       "\n",
       "    .dataframe thead th {\n",
       "        text-align: right;\n",
       "    }\n",
       "</style>\n",
       "<table border=\"1\" class=\"dataframe\">\n",
       "  <thead>\n",
       "    <tr style=\"text-align: right;\">\n",
       "      <th></th>\n",
       "      <th>index</th>\n",
       "      <th>geometry</th>\n",
       "    </tr>\n",
       "  </thead>\n",
       "  <tbody>\n",
       "    <tr>\n",
       "      <th>0</th>\n",
       "      <td>cluster_0</td>\n",
       "      <td>MULTIPOLYGON (((4223496.092 2734368.143, 42236...</td>\n",
       "    </tr>\n",
       "    <tr>\n",
       "      <th>1</th>\n",
       "      <td>cluster_1</td>\n",
       "      <td>MULTIPOLYGON (((4199685.633 3404002.686, 41996...</td>\n",
       "    </tr>\n",
       "    <tr>\n",
       "      <th>2</th>\n",
       "      <td>cluster_2</td>\n",
       "      <td>MULTIPOLYGON (((4106781.295 3394915.767, 41067...</td>\n",
       "    </tr>\n",
       "    <tr>\n",
       "      <th>3</th>\n",
       "      <td>cluster_3</td>\n",
       "      <td>MULTIPOLYGON (((4602449.935 3408647.034, 46024...</td>\n",
       "    </tr>\n",
       "    <tr>\n",
       "      <th>4</th>\n",
       "      <td>cluster_4</td>\n",
       "      <td>POLYGON ((4553700.750 2730225.831, 4553786.048...</td>\n",
       "    </tr>\n",
       "    <tr>\n",
       "      <th>5</th>\n",
       "      <td>cluster_5</td>\n",
       "      <td>POLYGON ((4571189.891 3067926.848, 4571184.381...</td>\n",
       "    </tr>\n",
       "    <tr>\n",
       "      <th>6</th>\n",
       "      <td>cluster_6</td>\n",
       "      <td>MULTIPOLYGON (((4235203.262 3440768.058, 42352...</td>\n",
       "    </tr>\n",
       "    <tr>\n",
       "      <th>7</th>\n",
       "      <td>cluster_7</td>\n",
       "      <td>MULTIPOLYGON (((4039023.418 2970178.496, 40390...</td>\n",
       "    </tr>\n",
       "  </tbody>\n",
       "</table>\n",
       "</div>"
      ],
      "text/plain": [
       "       index                                           geometry\n",
       "0  cluster_0  MULTIPOLYGON (((4223496.092 2734368.143, 42236...\n",
       "1  cluster_1  MULTIPOLYGON (((4199685.633 3404002.686, 41996...\n",
       "2  cluster_2  MULTIPOLYGON (((4106781.295 3394915.767, 41067...\n",
       "3  cluster_3  MULTIPOLYGON (((4602449.935 3408647.034, 46024...\n",
       "4  cluster_4  POLYGON ((4553700.750 2730225.831, 4553786.048...\n",
       "5  cluster_5  POLYGON ((4571189.891 3067926.848, 4571184.381...\n",
       "6  cluster_6  MULTIPOLYGON (((4235203.262 3440768.058, 42352...\n",
       "7  cluster_7  MULTIPOLYGON (((4039023.418 2970178.496, 40390..."
      ]
     },
     "execution_count": 39,
     "metadata": {},
     "output_type": "execute_result"
    }
   ],
   "source": [
    "shapefile = gpd.read_file(locFilePath)\n",
    "shapefile\n"
   ]
  },
  {
   "cell_type": "code",
   "execution_count": 40,
   "metadata": {},
   "outputs": [],
   "source": [
    "indexColumn = 'index'"
   ]
  },
  {
   "cell_type": "code",
   "execution_count": 41,
   "metadata": {},
   "outputs": [],
   "source": [
    "Property_to_plot = \"capacity\""
   ]
  },
  {
   "cell_type": "code",
   "execution_count": 42,
   "metadata": {},
   "outputs": [
    {
     "data": {
      "text/html": [
       "<div>\n",
       "<style scoped>\n",
       "    .dataframe tbody tr th:only-of-type {\n",
       "        vertical-align: middle;\n",
       "    }\n",
       "\n",
       "    .dataframe tbody tr th {\n",
       "        vertical-align: top;\n",
       "    }\n",
       "\n",
       "    .dataframe thead th {\n",
       "        text-align: right;\n",
       "    }\n",
       "</style>\n",
       "<table border=\"1\" class=\"dataframe\">\n",
       "  <thead>\n",
       "    <tr style=\"text-align: right;\">\n",
       "      <th></th>\n",
       "      <th></th>\n",
       "      <th></th>\n",
       "      <th>cluster_0</th>\n",
       "      <th>cluster_1</th>\n",
       "      <th>cluster_2</th>\n",
       "      <th>cluster_3</th>\n",
       "      <th>cluster_4</th>\n",
       "      <th>cluster_5</th>\n",
       "      <th>cluster_6</th>\n",
       "      <th>cluster_7</th>\n",
       "    </tr>\n",
       "    <tr>\n",
       "      <th>Component</th>\n",
       "      <th>Property</th>\n",
       "      <th>Unit</th>\n",
       "      <th></th>\n",
       "      <th></th>\n",
       "      <th></th>\n",
       "      <th></th>\n",
       "      <th></th>\n",
       "      <th></th>\n",
       "      <th></th>\n",
       "      <th></th>\n",
       "    </tr>\n",
       "  </thead>\n",
       "  <tbody>\n",
       "    <tr>\n",
       "      <th>Existing run-of-river plants</th>\n",
       "      <th>capacity</th>\n",
       "      <th>[GW$_{el}$]</th>\n",
       "      <td>0.693828</td>\n",
       "      <td>0.0374563</td>\n",
       "      <td>0.0382207</td>\n",
       "      <td>0.0435716</td>\n",
       "      <td>2.67354</td>\n",
       "      <td>NaN</td>\n",
       "      <td>NaN</td>\n",
       "      <td>0.324386</td>\n",
       "    </tr>\n",
       "    <tr>\n",
       "      <th>PV</th>\n",
       "      <th>capacity</th>\n",
       "      <th>[GW$_{el}$]</th>\n",
       "      <td>41.8611</td>\n",
       "      <td>25.8484</td>\n",
       "      <td>33.7129</td>\n",
       "      <td>19.6194</td>\n",
       "      <td>29.6925</td>\n",
       "      <td>19.891</td>\n",
       "      <td>12.6362</td>\n",
       "      <td>4.95704</td>\n",
       "    </tr>\n",
       "    <tr>\n",
       "      <th>Wind (offshore)</th>\n",
       "      <th>capacity</th>\n",
       "      <th>[GW$_{el}$]</th>\n",
       "      <td>NaN</td>\n",
       "      <td>4</td>\n",
       "      <td>53</td>\n",
       "      <td>6</td>\n",
       "      <td>NaN</td>\n",
       "      <td>NaN</td>\n",
       "      <td>18</td>\n",
       "      <td>NaN</td>\n",
       "    </tr>\n",
       "    <tr>\n",
       "      <th>Wind (onshore)</th>\n",
       "      <th>capacity</th>\n",
       "      <th>[GW$_{el}$]</th>\n",
       "      <td>0</td>\n",
       "      <td>0</td>\n",
       "      <td>14.8226</td>\n",
       "      <td>0</td>\n",
       "      <td>1.90274</td>\n",
       "      <td>0</td>\n",
       "      <td>27.4699</td>\n",
       "      <td>0</td>\n",
       "    </tr>\n",
       "  </tbody>\n",
       "</table>\n",
       "</div>"
      ],
      "text/plain": [
       "                                                  cluster_0  cluster_1  \\\n",
       "Component                    Property Unit                               \n",
       "Existing run-of-river plants capacity [GW$_{el}$]  0.693828  0.0374563   \n",
       "PV                           capacity [GW$_{el}$]   41.8611    25.8484   \n",
       "Wind (offshore)              capacity [GW$_{el}$]       NaN          4   \n",
       "Wind (onshore)               capacity [GW$_{el}$]         0          0   \n",
       "\n",
       "                                                   cluster_2  cluster_3  \\\n",
       "Component                    Property Unit                                \n",
       "Existing run-of-river plants capacity [GW$_{el}$]  0.0382207  0.0435716   \n",
       "PV                           capacity [GW$_{el}$]    33.7129    19.6194   \n",
       "Wind (offshore)              capacity [GW$_{el}$]         53          6   \n",
       "Wind (onshore)               capacity [GW$_{el}$]    14.8226          0   \n",
       "\n",
       "                                                  cluster_4 cluster_5  \\\n",
       "Component                    Property Unit                              \n",
       "Existing run-of-river plants capacity [GW$_{el}$]   2.67354       NaN   \n",
       "PV                           capacity [GW$_{el}$]   29.6925    19.891   \n",
       "Wind (offshore)              capacity [GW$_{el}$]       NaN       NaN   \n",
       "Wind (onshore)               capacity [GW$_{el}$]   1.90274         0   \n",
       "\n",
       "                                                  cluster_6 cluster_7  \n",
       "Component                    Property Unit                             \n",
       "Existing run-of-river plants capacity [GW$_{el}$]       NaN  0.324386  \n",
       "PV                           capacity [GW$_{el}$]   12.6362   4.95704  \n",
       "Wind (offshore)              capacity [GW$_{el}$]        18       NaN  \n",
       "Wind (onshore)               capacity [GW$_{el}$]   27.4699         0  "
      ]
     },
     "execution_count": 42,
     "metadata": {},
     "output_type": "execute_result"
    }
   ],
   "source": [
    "property_subset = results_df.iloc[results_df.index.get_level_values('Property') == Property_to_plot]\n",
    "property_subset"
   ]
  },
  {
   "cell_type": "code",
   "execution_count": 43,
   "metadata": {},
   "outputs": [
    {
     "data": {
      "text/html": [
       "<div>\n",
       "<style scoped>\n",
       "    .dataframe tbody tr th:only-of-type {\n",
       "        vertical-align: middle;\n",
       "    }\n",
       "\n",
       "    .dataframe tbody tr th {\n",
       "        vertical-align: top;\n",
       "    }\n",
       "\n",
       "    .dataframe thead th {\n",
       "        text-align: right;\n",
       "    }\n",
       "</style>\n",
       "<table border=\"1\" class=\"dataframe\">\n",
       "  <thead>\n",
       "    <tr style=\"text-align: right;\">\n",
       "      <th>Component</th>\n",
       "      <th>Existing run-of-river plants</th>\n",
       "      <th>PV</th>\n",
       "      <th>Wind (offshore)</th>\n",
       "      <th>Wind (onshore)</th>\n",
       "    </tr>\n",
       "  </thead>\n",
       "  <tbody>\n",
       "    <tr>\n",
       "      <th>cluster_0</th>\n",
       "      <td>0.693828</td>\n",
       "      <td>41.861055</td>\n",
       "      <td>0.0</td>\n",
       "      <td>0.000000</td>\n",
       "    </tr>\n",
       "    <tr>\n",
       "      <th>cluster_1</th>\n",
       "      <td>0.037456</td>\n",
       "      <td>25.848365</td>\n",
       "      <td>4.0</td>\n",
       "      <td>0.000000</td>\n",
       "    </tr>\n",
       "    <tr>\n",
       "      <th>cluster_2</th>\n",
       "      <td>0.038221</td>\n",
       "      <td>33.712925</td>\n",
       "      <td>53.0</td>\n",
       "      <td>14.822643</td>\n",
       "    </tr>\n",
       "    <tr>\n",
       "      <th>cluster_3</th>\n",
       "      <td>0.043572</td>\n",
       "      <td>19.619408</td>\n",
       "      <td>6.0</td>\n",
       "      <td>0.000000</td>\n",
       "    </tr>\n",
       "    <tr>\n",
       "      <th>cluster_4</th>\n",
       "      <td>2.673537</td>\n",
       "      <td>29.692475</td>\n",
       "      <td>0.0</td>\n",
       "      <td>1.902736</td>\n",
       "    </tr>\n",
       "    <tr>\n",
       "      <th>cluster_5</th>\n",
       "      <td>0.000000</td>\n",
       "      <td>19.890954</td>\n",
       "      <td>0.0</td>\n",
       "      <td>0.000000</td>\n",
       "    </tr>\n",
       "    <tr>\n",
       "      <th>cluster_6</th>\n",
       "      <td>0.000000</td>\n",
       "      <td>12.636188</td>\n",
       "      <td>18.0</td>\n",
       "      <td>27.469857</td>\n",
       "    </tr>\n",
       "    <tr>\n",
       "      <th>cluster_7</th>\n",
       "      <td>0.324386</td>\n",
       "      <td>4.957044</td>\n",
       "      <td>0.0</td>\n",
       "      <td>0.000000</td>\n",
       "    </tr>\n",
       "  </tbody>\n",
       "</table>\n",
       "</div>"
      ],
      "text/plain": [
       "Component  Existing run-of-river plants         PV  Wind (offshore)  \\\n",
       "cluster_0                      0.693828  41.861055              0.0   \n",
       "cluster_1                      0.037456  25.848365              4.0   \n",
       "cluster_2                      0.038221  33.712925             53.0   \n",
       "cluster_3                      0.043572  19.619408              6.0   \n",
       "cluster_4                      2.673537  29.692475              0.0   \n",
       "cluster_5                      0.000000  19.890954              0.0   \n",
       "cluster_6                      0.000000  12.636188             18.0   \n",
       "cluster_7                      0.324386   4.957044              0.0   \n",
       "\n",
       "Component  Wind (onshore)  \n",
       "cluster_0        0.000000  \n",
       "cluster_1        0.000000  \n",
       "cluster_2       14.822643  \n",
       "cluster_3        0.000000  \n",
       "cluster_4        1.902736  \n",
       "cluster_5        0.000000  \n",
       "cluster_6       27.469857  \n",
       "cluster_7        0.000000  "
      ]
     },
     "execution_count": 43,
     "metadata": {},
     "output_type": "execute_result"
    }
   ],
   "source": [
    "property_subset = property_subset.droplevel(['Property', 'Unit']).fillna(0)\n",
    "property_subset = property_subset.transpose()\n",
    "property_subset"
   ]
  },
  {
   "cell_type": "code",
   "execution_count": 44,
   "metadata": {},
   "outputs": [
    {
     "data": {
      "text/html": [
       "<div>\n",
       "<style scoped>\n",
       "    .dataframe tbody tr th:only-of-type {\n",
       "        vertical-align: middle;\n",
       "    }\n",
       "\n",
       "    .dataframe tbody tr th {\n",
       "        vertical-align: top;\n",
       "    }\n",
       "\n",
       "    .dataframe thead th {\n",
       "        text-align: right;\n",
       "    }\n",
       "</style>\n",
       "<table border=\"1\" class=\"dataframe\">\n",
       "  <thead>\n",
       "    <tr style=\"text-align: right;\">\n",
       "      <th>Component</th>\n",
       "      <th>Existing run-of-river plants</th>\n",
       "      <th>PV</th>\n",
       "      <th>Wind (offshore)</th>\n",
       "      <th>Wind (onshore)</th>\n",
       "    </tr>\n",
       "    <tr>\n",
       "      <th>index</th>\n",
       "      <th></th>\n",
       "      <th></th>\n",
       "      <th></th>\n",
       "      <th></th>\n",
       "    </tr>\n",
       "  </thead>\n",
       "  <tbody>\n",
       "    <tr>\n",
       "      <th>cluster_0</th>\n",
       "      <td>0.693828</td>\n",
       "      <td>41.861055</td>\n",
       "      <td>0.0</td>\n",
       "      <td>0.000000</td>\n",
       "    </tr>\n",
       "    <tr>\n",
       "      <th>cluster_1</th>\n",
       "      <td>0.037456</td>\n",
       "      <td>25.848365</td>\n",
       "      <td>4.0</td>\n",
       "      <td>0.000000</td>\n",
       "    </tr>\n",
       "    <tr>\n",
       "      <th>cluster_2</th>\n",
       "      <td>0.038221</td>\n",
       "      <td>33.712925</td>\n",
       "      <td>53.0</td>\n",
       "      <td>14.822643</td>\n",
       "    </tr>\n",
       "    <tr>\n",
       "      <th>cluster_3</th>\n",
       "      <td>0.043572</td>\n",
       "      <td>19.619408</td>\n",
       "      <td>6.0</td>\n",
       "      <td>0.000000</td>\n",
       "    </tr>\n",
       "    <tr>\n",
       "      <th>cluster_4</th>\n",
       "      <td>2.673537</td>\n",
       "      <td>29.692475</td>\n",
       "      <td>0.0</td>\n",
       "      <td>1.902736</td>\n",
       "    </tr>\n",
       "    <tr>\n",
       "      <th>cluster_5</th>\n",
       "      <td>0.000000</td>\n",
       "      <td>19.890954</td>\n",
       "      <td>0.0</td>\n",
       "      <td>0.000000</td>\n",
       "    </tr>\n",
       "    <tr>\n",
       "      <th>cluster_6</th>\n",
       "      <td>0.000000</td>\n",
       "      <td>12.636188</td>\n",
       "      <td>18.0</td>\n",
       "      <td>27.469857</td>\n",
       "    </tr>\n",
       "    <tr>\n",
       "      <th>cluster_7</th>\n",
       "      <td>0.324386</td>\n",
       "      <td>4.957044</td>\n",
       "      <td>0.0</td>\n",
       "      <td>0.000000</td>\n",
       "    </tr>\n",
       "  </tbody>\n",
       "</table>\n",
       "</div>"
      ],
      "text/plain": [
       "Component  Existing run-of-river plants         PV  Wind (offshore)  \\\n",
       "index                                                                 \n",
       "cluster_0                      0.693828  41.861055              0.0   \n",
       "cluster_1                      0.037456  25.848365              4.0   \n",
       "cluster_2                      0.038221  33.712925             53.0   \n",
       "cluster_3                      0.043572  19.619408              6.0   \n",
       "cluster_4                      2.673537  29.692475              0.0   \n",
       "cluster_5                      0.000000  19.890954              0.0   \n",
       "cluster_6                      0.000000  12.636188             18.0   \n",
       "cluster_7                      0.324386   4.957044              0.0   \n",
       "\n",
       "Component  Wind (onshore)  \n",
       "index                      \n",
       "cluster_0        0.000000  \n",
       "cluster_1        0.000000  \n",
       "cluster_2       14.822643  \n",
       "cluster_3        0.000000  \n",
       "cluster_4        1.902736  \n",
       "cluster_5        0.000000  \n",
       "cluster_6       27.469857  \n",
       "cluster_7        0.000000  "
      ]
     },
     "execution_count": 44,
     "metadata": {},
     "output_type": "execute_result"
    }
   ],
   "source": [
    "property_subset.index.name = indexColumn\n",
    "property_subset"
   ]
  },
  {
   "cell_type": "code",
   "execution_count": 45,
   "metadata": {},
   "outputs": [
    {
     "data": {
      "text/plain": [
       "index\n",
       "cluster_0     42.554883\n",
       "cluster_1     29.885821\n",
       "cluster_2    101.573789\n",
       "cluster_3     25.662980\n",
       "cluster_4     34.268748\n",
       "cluster_5     19.890954\n",
       "cluster_6     58.106045\n",
       "cluster_7      5.281430\n",
       "dtype: float64"
      ]
     },
     "execution_count": 45,
     "metadata": {},
     "output_type": "execute_result"
    }
   ],
   "source": [
    "regional_property_sum = property_subset.sum(axis=1)\n",
    "regional_property_sum"
   ]
  },
  {
   "cell_type": "code",
   "execution_count": 46,
   "metadata": {},
   "outputs": [
    {
     "data": {
      "text/html": [
       "<div>\n",
       "<style scoped>\n",
       "    .dataframe tbody tr th:only-of-type {\n",
       "        vertical-align: middle;\n",
       "    }\n",
       "\n",
       "    .dataframe tbody tr th {\n",
       "        vertical-align: top;\n",
       "    }\n",
       "\n",
       "    .dataframe thead th {\n",
       "        text-align: right;\n",
       "    }\n",
       "</style>\n",
       "<table border=\"1\" class=\"dataframe\">\n",
       "  <thead>\n",
       "    <tr style=\"text-align: right;\">\n",
       "      <th></th>\n",
       "      <th>index</th>\n",
       "      <th>geometry</th>\n",
       "      <th>centroid</th>\n",
       "    </tr>\n",
       "  </thead>\n",
       "  <tbody>\n",
       "    <tr>\n",
       "      <th>0</th>\n",
       "      <td>cluster_0</td>\n",
       "      <td>MULTIPOLYGON (((4223496.092 2734368.143, 42236...</td>\n",
       "      <td>POINT (4225219.490 2927972.367)</td>\n",
       "    </tr>\n",
       "    <tr>\n",
       "      <th>1</th>\n",
       "      <td>cluster_1</td>\n",
       "      <td>MULTIPOLYGON (((4199685.633 3404002.686, 41996...</td>\n",
       "      <td>POINT (4276093.215 3221806.796)</td>\n",
       "    </tr>\n",
       "    <tr>\n",
       "      <th>2</th>\n",
       "      <td>cluster_2</td>\n",
       "      <td>MULTIPOLYGON (((4106781.295 3394915.767, 41067...</td>\n",
       "      <td>POINT (4124891.399 3186071.121)</td>\n",
       "    </tr>\n",
       "    <tr>\n",
       "      <th>3</th>\n",
       "      <td>cluster_3</td>\n",
       "      <td>MULTIPOLYGON (((4602449.935 3408647.034, 46024...</td>\n",
       "      <td>POINT (4528585.148 3303366.747)</td>\n",
       "    </tr>\n",
       "    <tr>\n",
       "      <th>4</th>\n",
       "      <td>cluster_4</td>\n",
       "      <td>POLYGON ((4553700.750 2730225.831, 4553786.048...</td>\n",
       "      <td>POINT (4424644.188 2830395.336)</td>\n",
       "    </tr>\n",
       "    <tr>\n",
       "      <th>5</th>\n",
       "      <td>cluster_5</td>\n",
       "      <td>POLYGON ((4571189.891 3067926.848, 4571184.381...</td>\n",
       "      <td>POINT (4443153.477 3102920.544)</td>\n",
       "    </tr>\n",
       "    <tr>\n",
       "      <th>6</th>\n",
       "      <td>cluster_6</td>\n",
       "      <td>MULTIPOLYGON (((4235203.262 3440768.058, 42352...</td>\n",
       "      <td>POINT (4314274.490 3412684.350)</td>\n",
       "    </tr>\n",
       "    <tr>\n",
       "      <th>7</th>\n",
       "      <td>cluster_7</td>\n",
       "      <td>MULTIPOLYGON (((4039023.418 2970178.496, 40390...</td>\n",
       "      <td>POINT (4093911.571 2972847.630)</td>\n",
       "    </tr>\n",
       "  </tbody>\n",
       "</table>\n",
       "</div>"
      ],
      "text/plain": [
       "       index                                           geometry  \\\n",
       "0  cluster_0  MULTIPOLYGON (((4223496.092 2734368.143, 42236...   \n",
       "1  cluster_1  MULTIPOLYGON (((4199685.633 3404002.686, 41996...   \n",
       "2  cluster_2  MULTIPOLYGON (((4106781.295 3394915.767, 41067...   \n",
       "3  cluster_3  MULTIPOLYGON (((4602449.935 3408647.034, 46024...   \n",
       "4  cluster_4  POLYGON ((4553700.750 2730225.831, 4553786.048...   \n",
       "5  cluster_5  POLYGON ((4571189.891 3067926.848, 4571184.381...   \n",
       "6  cluster_6  MULTIPOLYGON (((4235203.262 3440768.058, 42352...   \n",
       "7  cluster_7  MULTIPOLYGON (((4039023.418 2970178.496, 40390...   \n",
       "\n",
       "                          centroid  \n",
       "0  POINT (4225219.490 2927972.367)  \n",
       "1  POINT (4276093.215 3221806.796)  \n",
       "2  POINT (4124891.399 3186071.121)  \n",
       "3  POINT (4528585.148 3303366.747)  \n",
       "4  POINT (4424644.188 2830395.336)  \n",
       "5  POINT (4443153.477 3102920.544)  \n",
       "6  POINT (4314274.490 3412684.350)  \n",
       "7  POINT (4093911.571 2972847.630)  "
      ]
     },
     "execution_count": 46,
     "metadata": {},
     "output_type": "execute_result"
    }
   ],
   "source": [
    "shapefile['centroid'] = shapefile.geometry.centroid\n",
    "shapefile"
   ]
  },
  {
   "cell_type": "code",
   "execution_count": 70,
   "metadata": {},
   "outputs": [
    {
     "data": {
      "text/plain": [
       "4225219.489523984"
      ]
     },
     "execution_count": 70,
     "metadata": {},
     "output_type": "execute_result"
    }
   ],
   "source": [
    "float(shapefile.loc[shapefile['index'] == 'cluster_0'].centroid.x.values)"
   ]
  },
  {
   "cell_type": "code",
   "execution_count": 55,
   "metadata": {},
   "outputs": [
    {
     "ename": "KeyError",
     "evalue": "'cluster_0'",
     "output_type": "error",
     "traceback": [
      "\u001b[1;31m---------------------------------------------------------------------------\u001b[0m",
      "\u001b[1;31mKeyError\u001b[0m                                  Traceback (most recent call last)",
      "\u001b[1;32m<ipython-input-55-ac62e9a7bea0>\u001b[0m in \u001b[0;36m<module>\u001b[1;34m\u001b[0m\n\u001b[0;32m      1\u001b[0m \u001b[0mregion\u001b[0m \u001b[1;33m=\u001b[0m \u001b[1;34m'cluster_0'\u001b[0m\u001b[1;33m\u001b[0m\u001b[1;33m\u001b[0m\u001b[0m\n\u001b[1;32m----> 2\u001b[1;33m \u001b[0mshapefile\u001b[0m\u001b[1;33m.\u001b[0m\u001b[0mcentroid\u001b[0m\u001b[1;33m[\u001b[0m\u001b[0mregion\u001b[0m\u001b[1;33m]\u001b[0m\u001b[1;33m\u001b[0m\u001b[1;33m\u001b[0m\u001b[0m\n\u001b[0m",
      "\u001b[1;32m~\\Anaconda3\\envs\\fine_hack\\lib\\site-packages\\geopandas\\geoseries.py\u001b[0m in \u001b[0;36m__getitem__\u001b[1;34m(self, key)\u001b[0m\n\u001b[0;32m    231\u001b[0m \u001b[1;33m\u001b[0m\u001b[0m\n\u001b[0;32m    232\u001b[0m     \u001b[1;32mdef\u001b[0m \u001b[0m__getitem__\u001b[0m\u001b[1;33m(\u001b[0m\u001b[0mself\u001b[0m\u001b[1;33m,\u001b[0m \u001b[0mkey\u001b[0m\u001b[1;33m)\u001b[0m\u001b[1;33m:\u001b[0m\u001b[1;33m\u001b[0m\u001b[1;33m\u001b[0m\u001b[0m\n\u001b[1;32m--> 233\u001b[1;33m         \u001b[1;32mreturn\u001b[0m \u001b[0mself\u001b[0m\u001b[1;33m.\u001b[0m\u001b[0m_wrapped_pandas_method\u001b[0m\u001b[1;33m(\u001b[0m\u001b[1;34m\"__getitem__\"\u001b[0m\u001b[1;33m,\u001b[0m \u001b[0mkey\u001b[0m\u001b[1;33m)\u001b[0m\u001b[1;33m\u001b[0m\u001b[1;33m\u001b[0m\u001b[0m\n\u001b[0m\u001b[0;32m    234\u001b[0m \u001b[1;33m\u001b[0m\u001b[0m\n\u001b[0;32m    235\u001b[0m     \u001b[1;32mdef\u001b[0m \u001b[0msort_index\u001b[0m\u001b[1;33m(\u001b[0m\u001b[0mself\u001b[0m\u001b[1;33m,\u001b[0m \u001b[1;33m*\u001b[0m\u001b[0margs\u001b[0m\u001b[1;33m,\u001b[0m \u001b[1;33m**\u001b[0m\u001b[0mkwargs\u001b[0m\u001b[1;33m)\u001b[0m\u001b[1;33m:\u001b[0m\u001b[1;33m\u001b[0m\u001b[1;33m\u001b[0m\u001b[0m\n",
      "\u001b[1;32m~\\Anaconda3\\envs\\fine_hack\\lib\\site-packages\\geopandas\\geoseries.py\u001b[0m in \u001b[0;36m_wrapped_pandas_method\u001b[1;34m(self, mtd, *args, **kwargs)\u001b[0m\n\u001b[0;32m    223\u001b[0m     \u001b[1;32mdef\u001b[0m \u001b[0m_wrapped_pandas_method\u001b[0m\u001b[1;33m(\u001b[0m\u001b[0mself\u001b[0m\u001b[1;33m,\u001b[0m \u001b[0mmtd\u001b[0m\u001b[1;33m,\u001b[0m \u001b[1;33m*\u001b[0m\u001b[0margs\u001b[0m\u001b[1;33m,\u001b[0m \u001b[1;33m**\u001b[0m\u001b[0mkwargs\u001b[0m\u001b[1;33m)\u001b[0m\u001b[1;33m:\u001b[0m\u001b[1;33m\u001b[0m\u001b[1;33m\u001b[0m\u001b[0m\n\u001b[0;32m    224\u001b[0m         \u001b[1;34m\"\"\"Wrap a generic pandas method to ensure it returns a GeoSeries\"\"\"\u001b[0m\u001b[1;33m\u001b[0m\u001b[1;33m\u001b[0m\u001b[0m\n\u001b[1;32m--> 225\u001b[1;33m         \u001b[0mval\u001b[0m \u001b[1;33m=\u001b[0m \u001b[0mgetattr\u001b[0m\u001b[1;33m(\u001b[0m\u001b[0msuper\u001b[0m\u001b[1;33m(\u001b[0m\u001b[0mGeoSeries\u001b[0m\u001b[1;33m,\u001b[0m \u001b[0mself\u001b[0m\u001b[1;33m)\u001b[0m\u001b[1;33m,\u001b[0m \u001b[0mmtd\u001b[0m\u001b[1;33m)\u001b[0m\u001b[1;33m(\u001b[0m\u001b[1;33m*\u001b[0m\u001b[0margs\u001b[0m\u001b[1;33m,\u001b[0m \u001b[1;33m**\u001b[0m\u001b[0mkwargs\u001b[0m\u001b[1;33m)\u001b[0m\u001b[1;33m\u001b[0m\u001b[1;33m\u001b[0m\u001b[0m\n\u001b[0m\u001b[0;32m    226\u001b[0m         \u001b[1;32mif\u001b[0m \u001b[0mtype\u001b[0m\u001b[1;33m(\u001b[0m\u001b[0mval\u001b[0m\u001b[1;33m)\u001b[0m \u001b[1;33m==\u001b[0m \u001b[0mSeries\u001b[0m\u001b[1;33m:\u001b[0m\u001b[1;33m\u001b[0m\u001b[1;33m\u001b[0m\u001b[0m\n\u001b[0;32m    227\u001b[0m             \u001b[0mval\u001b[0m\u001b[1;33m.\u001b[0m\u001b[0m__class__\u001b[0m \u001b[1;33m=\u001b[0m \u001b[0mGeoSeries\u001b[0m\u001b[1;33m\u001b[0m\u001b[1;33m\u001b[0m\u001b[0m\n",
      "\u001b[1;32m~\\Anaconda3\\envs\\fine_hack\\lib\\site-packages\\pandas\\core\\series.py\u001b[0m in \u001b[0;36m__getitem__\u001b[1;34m(self, key)\u001b[0m\n\u001b[0;32m    880\u001b[0m \u001b[1;33m\u001b[0m\u001b[0m\n\u001b[0;32m    881\u001b[0m         \u001b[1;32melif\u001b[0m \u001b[0mkey_is_scalar\u001b[0m\u001b[1;33m:\u001b[0m\u001b[1;33m\u001b[0m\u001b[1;33m\u001b[0m\u001b[0m\n\u001b[1;32m--> 882\u001b[1;33m             \u001b[1;32mreturn\u001b[0m \u001b[0mself\u001b[0m\u001b[1;33m.\u001b[0m\u001b[0m_get_value\u001b[0m\u001b[1;33m(\u001b[0m\u001b[0mkey\u001b[0m\u001b[1;33m)\u001b[0m\u001b[1;33m\u001b[0m\u001b[1;33m\u001b[0m\u001b[0m\n\u001b[0m\u001b[0;32m    883\u001b[0m \u001b[1;33m\u001b[0m\u001b[0m\n\u001b[0;32m    884\u001b[0m         \u001b[1;32mif\u001b[0m \u001b[0mis_hashable\u001b[0m\u001b[1;33m(\u001b[0m\u001b[0mkey\u001b[0m\u001b[1;33m)\u001b[0m\u001b[1;33m:\u001b[0m\u001b[1;33m\u001b[0m\u001b[1;33m\u001b[0m\u001b[0m\n",
      "\u001b[1;32m~\\Anaconda3\\envs\\fine_hack\\lib\\site-packages\\pandas\\core\\series.py\u001b[0m in \u001b[0;36m_get_value\u001b[1;34m(self, label, takeable)\u001b[0m\n\u001b[0;32m    988\u001b[0m \u001b[1;33m\u001b[0m\u001b[0m\n\u001b[0;32m    989\u001b[0m         \u001b[1;31m# Similar to Index.get_value, but we do not fall back to positional\u001b[0m\u001b[1;33m\u001b[0m\u001b[1;33m\u001b[0m\u001b[1;33m\u001b[0m\u001b[0m\n\u001b[1;32m--> 990\u001b[1;33m         \u001b[0mloc\u001b[0m \u001b[1;33m=\u001b[0m \u001b[0mself\u001b[0m\u001b[1;33m.\u001b[0m\u001b[0mindex\u001b[0m\u001b[1;33m.\u001b[0m\u001b[0mget_loc\u001b[0m\u001b[1;33m(\u001b[0m\u001b[0mlabel\u001b[0m\u001b[1;33m)\u001b[0m\u001b[1;33m\u001b[0m\u001b[1;33m\u001b[0m\u001b[0m\n\u001b[0m\u001b[0;32m    991\u001b[0m         \u001b[1;32mreturn\u001b[0m \u001b[0mself\u001b[0m\u001b[1;33m.\u001b[0m\u001b[0mindex\u001b[0m\u001b[1;33m.\u001b[0m\u001b[0m_get_values_for_loc\u001b[0m\u001b[1;33m(\u001b[0m\u001b[0mself\u001b[0m\u001b[1;33m,\u001b[0m \u001b[0mloc\u001b[0m\u001b[1;33m,\u001b[0m \u001b[0mlabel\u001b[0m\u001b[1;33m)\u001b[0m\u001b[1;33m\u001b[0m\u001b[1;33m\u001b[0m\u001b[0m\n\u001b[0;32m    992\u001b[0m \u001b[1;33m\u001b[0m\u001b[0m\n",
      "\u001b[1;32m~\\Anaconda3\\envs\\fine_hack\\lib\\site-packages\\pandas\\core\\indexes\\range.py\u001b[0m in \u001b[0;36mget_loc\u001b[1;34m(self, key, method, tolerance)\u001b[0m\n\u001b[0;32m    356\u001b[0m                 \u001b[1;32mexcept\u001b[0m \u001b[0mValueError\u001b[0m \u001b[1;32mas\u001b[0m \u001b[0merr\u001b[0m\u001b[1;33m:\u001b[0m\u001b[1;33m\u001b[0m\u001b[1;33m\u001b[0m\u001b[0m\n\u001b[0;32m    357\u001b[0m                     \u001b[1;32mraise\u001b[0m \u001b[0mKeyError\u001b[0m\u001b[1;33m(\u001b[0m\u001b[0mkey\u001b[0m\u001b[1;33m)\u001b[0m \u001b[1;32mfrom\u001b[0m \u001b[0merr\u001b[0m\u001b[1;33m\u001b[0m\u001b[1;33m\u001b[0m\u001b[0m\n\u001b[1;32m--> 358\u001b[1;33m             \u001b[1;32mraise\u001b[0m \u001b[0mKeyError\u001b[0m\u001b[1;33m(\u001b[0m\u001b[0mkey\u001b[0m\u001b[1;33m)\u001b[0m\u001b[1;33m\u001b[0m\u001b[1;33m\u001b[0m\u001b[0m\n\u001b[0m\u001b[0;32m    359\u001b[0m         \u001b[1;32mreturn\u001b[0m \u001b[0msuper\u001b[0m\u001b[1;33m(\u001b[0m\u001b[1;33m)\u001b[0m\u001b[1;33m.\u001b[0m\u001b[0mget_loc\u001b[0m\u001b[1;33m(\u001b[0m\u001b[0mkey\u001b[0m\u001b[1;33m,\u001b[0m \u001b[0mmethod\u001b[0m\u001b[1;33m=\u001b[0m\u001b[0mmethod\u001b[0m\u001b[1;33m,\u001b[0m \u001b[0mtolerance\u001b[0m\u001b[1;33m=\u001b[0m\u001b[0mtolerance\u001b[0m\u001b[1;33m)\u001b[0m\u001b[1;33m\u001b[0m\u001b[1;33m\u001b[0m\u001b[0m\n\u001b[0;32m    360\u001b[0m \u001b[1;33m\u001b[0m\u001b[0m\n",
      "\u001b[1;31mKeyError\u001b[0m: 'cluster_0'"
     ]
    }
   ],
   "source": [
    "region = 'cluster_0'\n",
    "shapefile.centroid[region]"
   ]
  },
  {
   "cell_type": "code",
   "execution_count": 93,
   "metadata": {},
   "outputs": [
    {
     "data": {
      "image/png": "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\n",
      "text/plain": [
       "<Figure size 432x432 with 1 Axes>"
      ]
     },
     "metadata": {
      "needs_background": "light"
     },
     "output_type": "display_data"
    }
   ],
   "source": [
    "color_list = ['blue', 'green', 'yellow', 'pink']\n",
    "fig, ax = fn.plotLocations(locFilePath, plotLocNames=False, indexColumn='index') \n",
    "ax.set_aspect('equal')\n",
    "\n",
    "Total_degree = 360\n",
    "\n",
    "for region in shapefile[indexColumn]: #LOOP OVER REGIONS \n",
    "    \n",
    "    xValue = float(shapefile.loc[shapefile[indexColumn] == region].centroid.x.values) \n",
    "    yValue = float(shapefile.loc[shapefile[indexColumn] == region].centroid.y.values)\n",
    "    \n",
    "    total_property_value = regional_property_sum[region]\n",
    "    \n",
    "    theta1 = 0\n",
    "    for i, component in enumerate(property_subset.columns):  #LOOP OVER TECHNOLOGIES\n",
    "        \n",
    "        component_property_value = property_subset.loc[region, component]\n",
    "    \n",
    "        share = (component_property_value / total_property_value) * Total_degree\n",
    "        \n",
    "        theta2 = theta1 + share\n",
    "        \n",
    "        wedge = Wedge((xValue, yValue), \n",
    "                      total_property_value * 600, # radius #TODO: add scaling factor   \n",
    "                      theta1, # theta1\n",
    "                      theta2, #theta2\n",
    "                      fc= color_list[i], #color \n",
    "                      lw=0.6, \n",
    "                      zorder=2, \n",
    "                      edgecolor='black')\n",
    "        theta1= theta2\n",
    "        \n",
    "        ax.add_artist(wedge)\n",
    "    \n"
   ]
  },
  {
   "cell_type": "code",
   "execution_count": 88,
   "metadata": {},
   "outputs": [
    {
     "data": {
      "text/html": [
       "<div>\n",
       "<style scoped>\n",
       "    .dataframe tbody tr th:only-of-type {\n",
       "        vertical-align: middle;\n",
       "    }\n",
       "\n",
       "    .dataframe tbody tr th {\n",
       "        vertical-align: top;\n",
       "    }\n",
       "\n",
       "    .dataframe thead th {\n",
       "        text-align: right;\n",
       "    }\n",
       "</style>\n",
       "<table border=\"1\" class=\"dataframe\">\n",
       "  <thead>\n",
       "    <tr style=\"text-align: right;\">\n",
       "      <th>Component</th>\n",
       "      <th>Existing run-of-river plants</th>\n",
       "      <th>PV</th>\n",
       "      <th>Wind (offshore)</th>\n",
       "      <th>Wind (onshore)</th>\n",
       "    </tr>\n",
       "    <tr>\n",
       "      <th>index</th>\n",
       "      <th></th>\n",
       "      <th></th>\n",
       "      <th></th>\n",
       "      <th></th>\n",
       "    </tr>\n",
       "  </thead>\n",
       "  <tbody>\n",
       "    <tr>\n",
       "      <th>cluster_0</th>\n",
       "      <td>0.693828</td>\n",
       "      <td>41.861055</td>\n",
       "      <td>0.0</td>\n",
       "      <td>0.000000</td>\n",
       "    </tr>\n",
       "    <tr>\n",
       "      <th>cluster_1</th>\n",
       "      <td>0.037456</td>\n",
       "      <td>25.848365</td>\n",
       "      <td>4.0</td>\n",
       "      <td>0.000000</td>\n",
       "    </tr>\n",
       "    <tr>\n",
       "      <th>cluster_2</th>\n",
       "      <td>0.038221</td>\n",
       "      <td>33.712925</td>\n",
       "      <td>53.0</td>\n",
       "      <td>14.822643</td>\n",
       "    </tr>\n",
       "    <tr>\n",
       "      <th>cluster_3</th>\n",
       "      <td>0.043572</td>\n",
       "      <td>19.619408</td>\n",
       "      <td>6.0</td>\n",
       "      <td>0.000000</td>\n",
       "    </tr>\n",
       "    <tr>\n",
       "      <th>cluster_4</th>\n",
       "      <td>2.673537</td>\n",
       "      <td>29.692475</td>\n",
       "      <td>0.0</td>\n",
       "      <td>1.902736</td>\n",
       "    </tr>\n",
       "    <tr>\n",
       "      <th>cluster_5</th>\n",
       "      <td>0.000000</td>\n",
       "      <td>19.890954</td>\n",
       "      <td>0.0</td>\n",
       "      <td>0.000000</td>\n",
       "    </tr>\n",
       "    <tr>\n",
       "      <th>cluster_6</th>\n",
       "      <td>0.000000</td>\n",
       "      <td>12.636188</td>\n",
       "      <td>18.0</td>\n",
       "      <td>27.469857</td>\n",
       "    </tr>\n",
       "    <tr>\n",
       "      <th>cluster_7</th>\n",
       "      <td>0.324386</td>\n",
       "      <td>4.957044</td>\n",
       "      <td>0.0</td>\n",
       "      <td>0.000000</td>\n",
       "    </tr>\n",
       "  </tbody>\n",
       "</table>\n",
       "</div>"
      ],
      "text/plain": [
       "Component  Existing run-of-river plants         PV  Wind (offshore)  \\\n",
       "index                                                                 \n",
       "cluster_0                      0.693828  41.861055              0.0   \n",
       "cluster_1                      0.037456  25.848365              4.0   \n",
       "cluster_2                      0.038221  33.712925             53.0   \n",
       "cluster_3                      0.043572  19.619408              6.0   \n",
       "cluster_4                      2.673537  29.692475              0.0   \n",
       "cluster_5                      0.000000  19.890954              0.0   \n",
       "cluster_6                      0.000000  12.636188             18.0   \n",
       "cluster_7                      0.324386   4.957044              0.0   \n",
       "\n",
       "Component  Wind (onshore)  \n",
       "index                      \n",
       "cluster_0        0.000000  \n",
       "cluster_1        0.000000  \n",
       "cluster_2       14.822643  \n",
       "cluster_3        0.000000  \n",
       "cluster_4        1.902736  \n",
       "cluster_5        0.000000  \n",
       "cluster_6       27.469857  \n",
       "cluster_7        0.000000  "
      ]
     },
     "execution_count": 88,
     "metadata": {},
     "output_type": "execute_result"
    }
   ],
   "source": [
    "property_subset"
   ]
  },
  {
   "cell_type": "code",
   "execution_count": null,
   "metadata": {},
   "outputs": [],
   "source": [
    "def plotPieChart(locFilePath, result_df, Property_in_df=\"capacity\", indexColumn_in_shp='index'):\n",
    "    shapefile = gpd.read_file(locFilePath)\n",
    "    \n",
    "    "
   ]
  }
 ],
 "metadata": {
  "anaconda-cloud": {},
  "kernelspec": {
   "display_name": "Python 3",
   "language": "python",
   "name": "python3"
  },
  "language_info": {
   "codemirror_mode": {
    "name": "ipython",
    "version": 3
   },
   "file_extension": ".py",
   "mimetype": "text/x-python",
   "name": "python",
   "nbconvert_exporter": "python",
   "pygments_lexer": "ipython3",
<<<<<<< HEAD
   "version": "3.6.12"
||||||| 6847507
   "version": "3.6.9"
=======
   "version": "3.7.8"
>>>>>>> ecf2071fb0c6000d9b2371c009a0d243b4f4d1b1
  }
 },
 "nbformat": 4,
 "nbformat_minor": 1
}
