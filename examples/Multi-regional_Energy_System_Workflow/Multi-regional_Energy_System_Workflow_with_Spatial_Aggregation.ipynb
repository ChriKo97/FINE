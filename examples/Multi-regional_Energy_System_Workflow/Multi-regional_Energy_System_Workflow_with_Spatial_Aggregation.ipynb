{
 "cells": [
  {
   "cell_type": "markdown",
   "metadata": {},
   "source": [
    "# Workflow for a multi-regional energy system\n",
    "\n",
    "In this application of the FINE framework, a multi-regional energy system is modeled and optimized.\n",
    "\n",
    "All classes which are available to the user are utilized and examples of the selection of different parameters within these classes are given.\n",
    "\n",
    "The workflow is structures as follows:\n",
    "1. Required packages are imported and the input data path is set\n",
    "2. An energy system model instance is created\n",
    "3. Commodity sources are added to the energy system model\n",
    "4. Commodity conversion components are added to the energy system model\n",
    "5. Commodity storages are added to the energy system model\n",
    "6. Commodity transmission components are added to the energy system model\n",
    "7. Commodity sinks are added to the energy system model\n",
    "8. The energy system model is optimized\n",
    "9. Selected optimization results are presented\n"
   ]
  },
  {
   "cell_type": "markdown",
   "metadata": {},
   "source": [
    "# 1. Import required packages and set input data path\n",
    "\n",
    "The FINE framework is imported which provides the required classes and functions for modeling the energy system."
   ]
  },
  {
   "cell_type": "code",
   "execution_count": 45,
   "metadata": {},
   "outputs": [
    {
     "name": "stdout",
     "output_type": "stream",
     "text": [
      "The autoreload extension is already loaded. To reload it, use:\n",
      "  %reload_ext autoreload\n"
     ]
    }
   ],
   "source": [
    "import FINE as fn\n",
    "from getData import getData\n",
    "import os\n",
    "import geopandas as gpd\n",
    "cwd = os.getcwd()\n",
    "data = getData()\n",
    "\n",
    "%matplotlib inline  \n",
    "%load_ext autoreload\n",
    "%autoreload 2"
   ]
  },
  {
   "cell_type": "markdown",
   "metadata": {},
   "source": [
    "# 2. Create an energy system model instance \n",
    "\n",
    "The structure of the energy system model is given by the considered locations, commodities, the number of time steps as well as the hours per time step.\n",
    "\n",
    "The commodities are specified by a unit (i.e. 'GW_electric', 'GW_H2lowerHeatingValue', 'Mio. t CO2/h') which can be given as an energy or mass unit per hour. Furthermore, the cost unit and length unit are specified."
   ]
  },
  {
   "cell_type": "code",
   "execution_count": 2,
   "metadata": {},
   "outputs": [],
   "source": [
    "locations = {'cluster_0', 'cluster_1', 'cluster_2', 'cluster_3', 'cluster_4', 'cluster_5', 'cluster_6', 'cluster_7'}\n",
    "commodityUnitDict = {'electricity': r'GW$_{el}$', 'methane': r'GW$_{CH_{4},LHV}$', 'biogas': r'GW$_{biogas,LHV}$',\n",
    "                     'CO2': r'Mio. t$_{CO_2}$/h', 'hydrogen': r'GW$_{H_{2},LHV}$'}\n",
    "commodities = {'electricity', 'hydrogen', 'methane', 'biogas', 'CO2'}\n",
    "numberOfTimeSteps=8760\n",
    "hoursPerTimeStep=1"
   ]
  },
  {
   "cell_type": "code",
   "execution_count": 3,
   "metadata": {},
   "outputs": [],
   "source": [
    "esM = fn.EnergySystemModel(locations=locations, commodities=commodities, numberOfTimeSteps=8760,\n",
    "                           commodityUnitsDict=commodityUnitDict,\n",
    "                           hoursPerTimeStep=1, costUnit='1e9 Euro', lengthUnit='km', verboseLogLevel=0)"
   ]
  },
  {
   "cell_type": "code",
   "execution_count": 4,
   "metadata": {},
   "outputs": [],
   "source": [
    "CO2_reductionTarget = 1"
   ]
  },
  {
   "cell_type": "markdown",
   "metadata": {},
   "source": [
    "# 3. Add commodity sources to the energy system model"
   ]
  },
  {
   "cell_type": "markdown",
   "metadata": {},
   "source": [
    "## 3.1. Electricity sources"
   ]
  },
  {
   "cell_type": "markdown",
   "metadata": {},
   "source": [
    "### Wind onshore"
   ]
  },
  {
   "cell_type": "code",
   "execution_count": 5,
   "metadata": {},
   "outputs": [],
   "source": [
    "esM.add(fn.Source(esM=esM, name='Wind (onshore)', commodity='electricity', hasCapacityVariable=True,\n",
    "                  operationRateMax=data['Wind (onshore), operationRateMax'],\n",
    "                  capacityMax=data['Wind (onshore), capacityMax'],\n",
    "                  investPerCapacity=1.1, opexPerCapacity=1.1*0.02, interestRate=0.08,\n",
    "                  economicLifetime=20))"
   ]
  },
  {
   "cell_type": "markdown",
   "metadata": {},
   "source": [
    "Full load hours:"
   ]
  },
  {
   "cell_type": "code",
   "execution_count": 6,
   "metadata": {},
   "outputs": [
    {
     "data": {
      "text/plain": [
       "cluster_0    1572.003960\n",
       "cluster_1    2350.292663\n",
       "cluster_2    2374.507270\n",
       "cluster_3    2186.572278\n",
       "cluster_4    1572.650655\n",
       "cluster_5    1767.840650\n",
       "cluster_6    2719.564564\n",
       "cluster_7    1553.045964\n",
       "dtype: float64"
      ]
     },
     "execution_count": 6,
     "metadata": {},
     "output_type": "execute_result"
    }
   ],
   "source": [
    "data['Wind (onshore), operationRateMax'].sum()"
   ]
  },
  {
   "cell_type": "markdown",
   "metadata": {},
   "source": [
    "### Wind offshore"
   ]
  },
  {
   "cell_type": "code",
   "execution_count": 7,
   "metadata": {},
   "outputs": [],
   "source": [
    "esM.add(fn.Source(esM=esM, name='Wind (offshore)', commodity='electricity', hasCapacityVariable=True,\n",
    "                  operationRateMax=data['Wind (offshore), operationRateMax'],\n",
    "                  capacityMax=data['Wind (offshore), capacityMax'],\n",
    "                  investPerCapacity=2.3, opexPerCapacity=2.3*0.02, interestRate=0.08,\n",
    "                  economicLifetime=20))"
   ]
  },
  {
   "cell_type": "markdown",
   "metadata": {},
   "source": [
    "Full load hours:"
   ]
  },
  {
   "cell_type": "code",
   "execution_count": 8,
   "metadata": {},
   "outputs": [
    {
     "data": {
      "text/plain": [
       "cluster_0       0.000000\n",
       "cluster_1    4435.420314\n",
       "cluster_2    4301.655834\n",
       "cluster_3    3902.391858\n",
       "cluster_4       0.000000\n",
       "cluster_5       0.000000\n",
       "cluster_6    4609.508396\n",
       "cluster_7       0.000000\n",
       "dtype: float64"
      ]
     },
     "execution_count": 8,
     "metadata": {},
     "output_type": "execute_result"
    }
   ],
   "source": [
    "data['Wind (offshore), operationRateMax'].sum()"
   ]
  },
  {
   "cell_type": "markdown",
   "metadata": {},
   "source": [
    "### PV"
   ]
  },
  {
   "cell_type": "code",
   "execution_count": 9,
   "metadata": {},
   "outputs": [],
   "source": [
    "esM.add(fn.Source(esM=esM, name='PV', commodity='electricity', hasCapacityVariable=True,\n",
    "                  operationRateMax=data['PV, operationRateMax'], capacityMax=data['PV, capacityMax'],\n",
    "                  investPerCapacity=0.65, opexPerCapacity=0.65*0.02, interestRate=0.08,\n",
    "                  economicLifetime=25))"
   ]
  },
  {
   "cell_type": "markdown",
   "metadata": {},
   "source": [
    "Full load hours:"
   ]
  },
  {
   "cell_type": "code",
   "execution_count": 10,
   "metadata": {},
   "outputs": [
    {
     "data": {
      "text/plain": [
       "cluster_0    1113.216464\n",
       "cluster_1    1053.579422\n",
       "cluster_2    1058.005181\n",
       "cluster_3    1079.872237\n",
       "cluster_4    1140.407380\n",
       "cluster_5    1051.848141\n",
       "cluster_6    1069.843344\n",
       "cluster_7    1085.697466\n",
       "dtype: float64"
      ]
     },
     "execution_count": 10,
     "metadata": {},
     "output_type": "execute_result"
    }
   ],
   "source": [
    "data['PV, operationRateMax'].sum()"
   ]
  },
  {
   "cell_type": "markdown",
   "metadata": {},
   "source": [
    "### Exisisting run-of-river hydroelectricity plants"
   ]
  },
  {
   "cell_type": "code",
   "execution_count": 11,
   "metadata": {},
   "outputs": [],
   "source": [
    "esM.add(fn.Source(esM=esM, name='Existing run-of-river plants', commodity='electricity',\n",
    "                  hasCapacityVariable=True,\n",
    "                  operationRateFix=data['Existing run-of-river plants, operationRateFix'], tsaWeight=0.01,\n",
    "                  capacityFix=data['Existing run-of-river plants, capacityFix'],\n",
    "                  investPerCapacity=0, opexPerCapacity=0.208))"
   ]
  },
  {
   "cell_type": "markdown",
   "metadata": {},
   "source": [
    "## 3.2. Methane (natural gas and biogas)"
   ]
  },
  {
   "cell_type": "markdown",
   "metadata": {},
   "source": [
    "### Natural gas"
   ]
  },
  {
   "cell_type": "code",
   "execution_count": 12,
   "metadata": {},
   "outputs": [],
   "source": [
    "esM.add(fn.Source(esM=esM, name='Natural gas purchase', commodity='methane',\n",
    "                  hasCapacityVariable=False, commodityCost=0.0331*1e-3))"
   ]
  },
  {
   "cell_type": "markdown",
   "metadata": {},
   "source": [
    "### Biogas"
   ]
  },
  {
   "cell_type": "code",
   "execution_count": 13,
   "metadata": {},
   "outputs": [],
   "source": [
    "esM.add(fn.Source(esM=esM, name='Biogas purchase', commodity='biogas',\n",
    "                  operationRateMax=data['Biogas, operationRateMax'], hasCapacityVariable=False,\n",
    "                  commodityCost=0.05409*1e-3))"
   ]
  },
  {
   "cell_type": "markdown",
   "metadata": {},
   "source": [
    "## 3.3 CO2"
   ]
  },
  {
   "cell_type": "markdown",
   "metadata": {},
   "source": [
    "### CO2\n",
    "\n",
    "The CO2 source is required for the case in which it can be mixed with conventional natural gas."
   ]
  },
  {
   "cell_type": "code",
   "execution_count": 14,
   "metadata": {},
   "outputs": [],
   "source": [
    "esM.add(fn.Source(esM=esM, name='CO2 from enviroment', commodity='CO2',\n",
    "                  hasCapacityVariable=False, commodityLimitID='CO2 limit', yearlyLimit=366*(1-CO2_reductionTarget)))"
   ]
  },
  {
   "cell_type": "markdown",
   "metadata": {},
   "source": [
    "# 4. Add conversion components to the energy system model"
   ]
  },
  {
   "cell_type": "markdown",
   "metadata": {},
   "source": [
    "### Combined cycle gas turbine plants"
   ]
  },
  {
   "cell_type": "code",
   "execution_count": 15,
   "metadata": {},
   "outputs": [],
   "source": [
    "esM.add(fn.Conversion(esM=esM, name='CCGT plants (methane)', physicalUnit=r'GW$_{el}$',\n",
    "                      commodityConversionFactors={'electricity':1, 'methane':-1/0.625, 'CO2':201*1e-6/0.625},\n",
    "                      hasCapacityVariable=True,\n",
    "                      investPerCapacity=0.65, opexPerCapacity=0.021, interestRate=0.08,\n",
    "                      economicLifetime=33))"
   ]
  },
  {
   "cell_type": "markdown",
   "metadata": {},
   "source": [
    "### New combined cycle gas turbine plants for biogas"
   ]
  },
  {
   "cell_type": "code",
   "execution_count": 16,
   "metadata": {},
   "outputs": [],
   "source": [
    "esM.add(fn.Conversion(esM=esM, name='New CCGT plants (biogas)', physicalUnit=r'GW$_{el}$',\n",
    "                      commodityConversionFactors={'electricity':1, 'biogas':-1/0.635},\n",
    "                      hasCapacityVariable=True, \n",
    "                      investPerCapacity=0.7, opexPerCapacity=0.021, interestRate=0.08,\n",
    "                      economicLifetime=33))"
   ]
  },
  {
   "cell_type": "markdown",
   "metadata": {},
   "source": [
    "### New combined cycly gas turbines for hydrogen"
   ]
  },
  {
   "cell_type": "code",
   "execution_count": 17,
   "metadata": {},
   "outputs": [],
   "source": [
    "esM.add(fn.Conversion(esM=esM, name='New CCGT plants (hydrogen)', physicalUnit=r'GW$_{el}$',\n",
    "                      commodityConversionFactors={'electricity':1, 'hydrogen':-1/0.6},\n",
    "                      hasCapacityVariable=True, \n",
    "                      investPerCapacity=0.7, opexPerCapacity=0.021, interestRate=0.08,\n",
    "                      economicLifetime=33))"
   ]
  },
  {
   "cell_type": "markdown",
   "metadata": {},
   "source": [
    "### Electrolyzers"
   ]
  },
  {
   "cell_type": "code",
   "execution_count": 18,
   "metadata": {},
   "outputs": [],
   "source": [
    "esM.add(fn.Conversion(esM=esM, name='Electroylzers', physicalUnit=r'GW$_{el}$',\n",
    "                      commodityConversionFactors={'electricity':-1, 'hydrogen':0.7},\n",
    "                      hasCapacityVariable=True, \n",
    "                      investPerCapacity=0.5, opexPerCapacity=0.5*0.025, interestRate=0.08,\n",
    "                      economicLifetime=10))"
   ]
  },
  {
   "cell_type": "markdown",
   "metadata": {},
   "source": [
    "### rSOC"
   ]
  },
  {
   "cell_type": "code",
   "execution_count": 19,
   "metadata": {},
   "outputs": [],
   "source": [
    "capexRSOC=1.5\n",
    "\n",
    "esM.add(fn.Conversion(esM=esM, name='rSOEC', physicalUnit=r'GW$_{el}$', linkedConversionCapacityID='rSOC',\n",
    "                      commodityConversionFactors={'electricity':-1, 'hydrogen':0.6},\n",
    "                      hasCapacityVariable=True, \n",
    "                      investPerCapacity=capexRSOC/2, opexPerCapacity=capexRSOC*0.02/2, interestRate=0.08,\n",
    "                      economicLifetime=10))\n",
    "\n",
    "esM.add(fn.Conversion(esM=esM, name='rSOFC', physicalUnit=r'GW$_{el}$', linkedConversionCapacityID='rSOC',\n",
    "                      commodityConversionFactors={'electricity':1, 'hydrogen':-1/0.6},\n",
    "                      hasCapacityVariable=True, \n",
    "                      investPerCapacity=capexRSOC/2, opexPerCapacity=capexRSOC*0.02/2, interestRate=0.08,\n",
    "                      economicLifetime=10))"
   ]
  },
  {
   "cell_type": "markdown",
   "metadata": {},
   "source": [
    "# 5. Add commodity storages to the energy system model"
   ]
  },
  {
   "cell_type": "markdown",
   "metadata": {},
   "source": [
    "## 5.1. Electricity storage"
   ]
  },
  {
   "cell_type": "markdown",
   "metadata": {},
   "source": [
    "### Lithium ion batteries\n",
    "\n",
    "The self discharge of a lithium ion battery is here described as 3% per month. The self discharge per hours is obtained using the equation (1-$\\text{selfDischarge}_\\text{hour})^{30*24\\text{h}} = 1-\\text{selfDischarge}_\\text{month}$."
   ]
  },
  {
   "cell_type": "code",
   "execution_count": 20,
   "metadata": {},
   "outputs": [],
   "source": [
    "esM.add(fn.Storage(esM=esM, name='Li-ion batteries', commodity='electricity',\n",
    "                   hasCapacityVariable=True, chargeEfficiency=0.95,\n",
    "                   cyclicLifetime=10000, dischargeEfficiency=0.95, selfDischarge=1-(1-0.03)**(1/(30*24)),\n",
    "                   chargeRate=1, dischargeRate=1, doPreciseTsaModeling=False,\n",
    "                   investPerCapacity=0.151, opexPerCapacity=0.002, interestRate=0.08,\n",
    "                   economicLifetime=22))"
   ]
  },
  {
   "cell_type": "markdown",
   "metadata": {},
   "source": [
    "## 5.2. Hydrogen storage"
   ]
  },
  {
   "cell_type": "markdown",
   "metadata": {},
   "source": [
    "### Hydrogen filled salt caverns\n",
    "The maximum capacity is here obtained by: dividing the given capacity (which is given for methane) by the lower heating value of methane and then multiplying it with the lower heating value of hydrogen."
   ]
  },
  {
   "cell_type": "code",
   "execution_count": 21,
   "metadata": {},
   "outputs": [],
   "source": [
    "esM.add(fn.Storage(esM=esM, name='Salt caverns (hydrogen)', commodity='hydrogen',\n",
    "                   hasCapacityVariable=True, capacityVariableDomain='continuous',\n",
    "                   capacityPerPlantUnit=133,\n",
    "                   chargeRate=1/470.37, dischargeRate=1/470.37, sharedPotentialID='Existing salt caverns',\n",
    "                   stateOfChargeMin=0.33, stateOfChargeMax=1, capacityMax=data['Salt caverns (hydrogen), capacityMax'],\n",
    "                   investPerCapacity=0.00011, opexPerCapacity=0.00057, interestRate=0.08,\n",
    "                   economicLifetime=30))"
   ]
  },
  {
   "cell_type": "markdown",
   "metadata": {},
   "source": [
    "## 5.3. Methane storage"
   ]
  },
  {
   "cell_type": "markdown",
   "metadata": {},
   "source": [
    "### Methane filled salt caverns"
   ]
  },
  {
   "cell_type": "code",
   "execution_count": 22,
   "metadata": {},
   "outputs": [],
   "source": [
    "esM.add(fn.Storage(esM=esM, name='Salt caverns (biogas)', commodity='biogas',\n",
    "                   hasCapacityVariable=True, capacityVariableDomain='continuous',\n",
    "                   capacityPerPlantUnit=443,\n",
    "                   chargeRate=1/470.37, dischargeRate=1/470.37, sharedPotentialID='Existing salt caverns',\n",
    "                   stateOfChargeMin=0.33, stateOfChargeMax=1, capacityMax=data['Salt caverns (methane), capacityMax'],\n",
    "                   investPerCapacity=0.00004, opexPerCapacity=0.00001, interestRate=0.08,\n",
    "                   economicLifetime=30))"
   ]
  },
  {
   "cell_type": "markdown",
   "metadata": {},
   "source": [
    "## 5.4 Pumped hydro storage"
   ]
  },
  {
   "cell_type": "markdown",
   "metadata": {},
   "source": [
    "### Pumped hydro storage"
   ]
  },
  {
   "cell_type": "code",
   "execution_count": 23,
   "metadata": {},
   "outputs": [],
   "source": [
    "esM.add(fn.Storage(esM=esM, name='Pumped hydro storage', commodity='electricity',\n",
    "                   chargeEfficiency=0.88, dischargeEfficiency=0.88,\n",
    "                   hasCapacityVariable=True, selfDischarge=1-(1-0.00375)**(1/(30*24)),\n",
    "                   chargeRate=0.16, dischargeRate=0.12, capacityFix=data['Pumped hydro storage, capacityFix'],\n",
    "                   investPerCapacity=0, opexPerCapacity=0.000153))"
   ]
  },
  {
   "cell_type": "markdown",
   "metadata": {},
   "source": [
    "# 6. Add commodity transmission components to the energy system model"
   ]
  },
  {
   "cell_type": "markdown",
   "metadata": {},
   "source": [
    "## 6.1. Electricity transmission"
   ]
  },
  {
   "cell_type": "markdown",
   "metadata": {},
   "source": [
    "### AC cables"
   ]
  },
  {
   "cell_type": "markdown",
   "metadata": {},
   "source": [
    "esM.add(fn.LinearOptimalPowerFlow(esM=esM, name='AC cables', commodity='electricity',\n",
    "                                  hasCapacityVariable=True, capacityFix=data['AC cables, capacityFix'],\n",
    "                                  reactances=data['AC cables, reactances']))"
   ]
  },
  {
   "cell_type": "code",
   "execution_count": 24,
   "metadata": {},
   "outputs": [
    {
     "name": "stdout",
     "output_type": "stream",
     "text": [
      "The distances of a component are set to a normalized value of 1.\n"
     ]
    }
   ],
   "source": [
    "esM.add(fn.Transmission(esM=esM, name='AC cables', commodity='electricity',\n",
    "                                  hasCapacityVariable=True, capacityFix=data['AC cables, capacityFix']))"
   ]
  },
  {
   "cell_type": "markdown",
   "metadata": {},
   "source": [
    "### DC cables"
   ]
  },
  {
   "cell_type": "code",
   "execution_count": 25,
   "metadata": {},
   "outputs": [],
   "source": [
    "esM.add(fn.Transmission(esM=esM, name='DC cables', commodity='electricity', losses=data['DC cables, losses'],\n",
    "                        distances=data['DC cables, distances'],\n",
    "                        hasCapacityVariable=True, capacityFix=data['DC cables, capacityFix']))"
   ]
  },
  {
   "cell_type": "markdown",
   "metadata": {},
   "source": [
    "## 6.2 Methane transmission"
   ]
  },
  {
   "cell_type": "markdown",
   "metadata": {},
   "source": [
    "### Methane pipeline"
   ]
  },
  {
   "cell_type": "code",
   "execution_count": 26,
   "metadata": {
    "scrolled": true
   },
   "outputs": [],
   "source": [
    "esM.add(fn.Transmission(esM=esM, name='Pipelines (biogas)', commodity='biogas', \n",
    "                        distances=data['Pipelines, distances'],\n",
    "                        hasCapacityVariable=True, hasIsBuiltBinaryVariable=True, bigM=300,\n",
    "                        locationalEligibility=data['Pipelines, eligibility'],\n",
    "                        capacityMax=data['Pipelines, eligibility']*15, sharedPotentialID='pipelines',\n",
    "                        investPerCapacity=0.000037, investIfBuilt=0.000314,\n",
    "                        interestRate=0.08, economicLifetime=40))"
   ]
  },
  {
   "cell_type": "markdown",
   "metadata": {},
   "source": [
    "esM.getComponent('Pipelines (methane)')._mapC['cluster_0_cluster_4'][1]"
   ]
  },
  {
   "cell_type": "markdown",
   "metadata": {},
   "source": [
    "## 6.3 Hydrogen transmission"
   ]
  },
  {
   "cell_type": "markdown",
   "metadata": {},
   "source": [
    "### Hydrogen pipelines"
   ]
  },
  {
   "cell_type": "code",
   "execution_count": 27,
   "metadata": {
    "scrolled": true
   },
   "outputs": [],
   "source": [
    "esM.add(fn.Transmission(esM=esM, name='Pipelines (hydrogen)', commodity='hydrogen',\n",
    "                        distances=data['Pipelines, distances'],\n",
    "                        hasCapacityVariable=True, hasIsBuiltBinaryVariable=True, bigM=300,\n",
    "                        locationalEligibility=data['Pipelines, eligibility'],\n",
    "                        capacityMax=data['Pipelines, eligibility']*15, sharedPotentialID='pipelines',\n",
    "                        investPerCapacity=0.000177, investIfBuilt=0.00033,\n",
    "                        interestRate=0.08, economicLifetime=40))"
   ]
  },
  {
   "cell_type": "markdown",
   "metadata": {},
   "source": [
    "esM.getComponent('Pipeline (hydrogen)')._mapC"
   ]
  },
  {
   "cell_type": "markdown",
   "metadata": {},
   "source": [
    "# 7. Add commodity sinks to the energy system model"
   ]
  },
  {
   "cell_type": "markdown",
   "metadata": {},
   "source": [
    "## 7.1. Electricity sinks"
   ]
  },
  {
   "cell_type": "markdown",
   "metadata": {},
   "source": [
    "### Electricity demand"
   ]
  },
  {
   "cell_type": "code",
   "execution_count": 28,
   "metadata": {},
   "outputs": [],
   "source": [
    "esM.add(fn.Sink(esM=esM, name='Electricity demand', commodity='electricity',\n",
    "                hasCapacityVariable=False, operationRateFix=data['Electricity demand, operationRateFix']))"
   ]
  },
  {
   "cell_type": "markdown",
   "metadata": {},
   "source": [
    "## 7.2. Hydrogen sinks"
   ]
  },
  {
   "cell_type": "markdown",
   "metadata": {},
   "source": [
    "### Fuel cell electric vehicle (FCEV) demand"
   ]
  },
  {
   "cell_type": "code",
   "execution_count": 29,
   "metadata": {},
   "outputs": [],
   "source": [
    "FCEV_penetration=0.5\n",
    "esM.add(fn.Sink(esM=esM, name='Hydrogen demand', commodity='hydrogen', hasCapacityVariable=False,\n",
    "                operationRateFix=data['Hydrogen demand, operationRateFix']*FCEV_penetration))"
   ]
  },
  {
   "cell_type": "markdown",
   "metadata": {},
   "source": [
    "## 7.3. CO2 sinks"
   ]
  },
  {
   "cell_type": "markdown",
   "metadata": {},
   "source": [
    "### CO2 exiting the system's boundary"
   ]
  },
  {
   "cell_type": "code",
   "execution_count": 30,
   "metadata": {},
   "outputs": [],
   "source": [
    "esM.add(fn.Sink(esM=esM, name='CO2 to enviroment', commodity='CO2',\n",
    "                hasCapacityVariable=False, commodityLimitID='CO2 limit', yearlyLimit=366*(1-CO2_reductionTarget)))"
   ]
  },
  {
   "cell_type": "markdown",
   "metadata": {},
   "source": [
    "#### All components are now added to the model and the model can be optimized. If the computational complexity of the optimization should be reduced, there are two ways to accomplish that:\n",
    "(i) Spatial aggregation: Reducing the spatial resolution of the entire esM. \n",
    "\n",
    "(ii) Temporal aggregation: The time series data of the specified components can be clustered before the optimization. (The parameter timeSeriesAggregation is set to True in the optimize call if temporal aggregation is performed.)"
   ]
  },
  {
   "cell_type": "markdown",
   "metadata": {},
   "source": [
    "# 8.1 Spatial Aggregation"
   ]
  },
  {
   "cell_type": "code",
   "execution_count": 31,
   "metadata": {},
   "outputs": [],
   "source": [
    "shapefile = 'InputData/SpatialData/ShapeFiles/clusteredRegions.shp'"
   ]
  },
  {
   "cell_type": "code",
   "execution_count": 50,
   "metadata": {},
   "outputs": [
    {
     "name": "stdout",
     "output_type": "stream",
     "text": [
      "Performing all variable-based clustering on the regions. Clustering mode: sklearn_hierarchical\n"
     ]
    },
    {
     "name": "stderr",
     "output_type": "stream",
     "text": [
      " c:\\users\\s.patil\\documents\\code\\fine\\FINE\\spagat\\grouping_utils.py:271: UserWarning:Variable gpd_geometries has dimensions ('space',) which are not considered for spatial aggregation.\n",
      " c:\\users\\s.patil\\documents\\code\\fine\\FINE\\spagat\\grouping_utils.py:271: UserWarning:Variable gpd_centroids has dimensions ('space',) which are not considered for spatial aggregation.\n"
     ]
    },
    {
     "name": "stdout",
     "output_type": "stream",
     "text": [
      "The cophenetic correlation coefficient of the hiearchical clustering is  0.4269224974383427\n",
      "Inconsistencies: [0.0, 0.7071067811865421, 0.0, 0.7071067811865466, 0.6130811433999683, 0.7071067811865495, 0.7071067811865476]\n",
      "Silhouette scores:  [0.19259256890256637, 0.06717378691006956, 0.1370136253951097, 0.18188039476606646, 0.0008344424503486103, 0.07115203197830983]\n",
      "elapsed time for all_variable_based_clustering: 0.01 minutes\n",
      "Aggregation mode for 2d_locationalEligibility set to bool as only binary values are acceptable for this variable\n",
      "Aggregation mode for 1d_locationalEligibility set to bool as only binary values are acceptable for this variable\n"
     ]
    },
    {
     "name": "stderr",
     "output_type": "stream",
     "text": [
      " c:\\users\\s.patil\\documents\\code\\fine\\FINE\\spagat\\representation.py:120: VisibleDeprecationWarning:Creating an ndarray from ragged nested sequences (which is a list-or-tuple of lists-or-tuples-or ndarrays with different lengths or shapes) is deprecated. If you meant to do this, you must specify 'dtype=object' when creating the ndarray\n",
      " c:\\users\\s.patil\\documents\\code\\fine\\FINE\\utils.py:989: UserWarning:Pandas doesn't allow columns to be created via a new attribute name - see https://pandas.pydata.org/pandas-docs/stable/indexing.html#attribute-access\n",
      " c:\\users\\s.patil\\documents\\code\\fine\\FINE\\utils.py:989: UserWarning:Pandas doesn't allow columns to be created via a new attribute name - see https://pandas.pydata.org/pandas-docs/stable/indexing.html#attribute-access\n",
      " c:\\users\\s.patil\\documents\\code\\fine\\FINE\\utils.py:989: UserWarning:Pandas doesn't allow columns to be created via a new attribute name - see https://pandas.pydata.org/pandas-docs/stable/indexing.html#attribute-access\n",
      " c:\\users\\s.patil\\documents\\code\\fine\\FINE\\utils.py:989: UserWarning:Pandas doesn't allow columns to be created via a new attribute name - see https://pandas.pydata.org/pandas-docs/stable/indexing.html#attribute-access\n",
      " c:\\users\\s.patil\\documents\\code\\fine\\FINE\\utils.py:989: UserWarning:Pandas doesn't allow columns to be created via a new attribute name - see https://pandas.pydata.org/pandas-docs/stable/indexing.html#attribute-access\n",
      " c:\\users\\s.patil\\documents\\code\\fine\\FINE\\utils.py:989: UserWarning:Pandas doesn't allow columns to be created via a new attribute name - see https://pandas.pydata.org/pandas-docs/stable/indexing.html#attribute-access\n",
      " c:\\users\\s.patil\\documents\\code\\fine\\FINE\\utils.py:989: UserWarning:Pandas doesn't allow columns to be created via a new attribute name - see https://pandas.pydata.org/pandas-docs/stable/indexing.html#attribute-access\n"
     ]
    },
    {
     "name": "stdout",
     "output_type": "stream",
     "text": [
      "elapsed time for save_sds: 0.01 minutes\n"
     ]
    }
   ],
   "source": [
    "aggregated_esM = esM.aggregateSpatially(shapefilePath=shapefile, \n",
    "                                        grouping_mode='all_variable_based', \n",
    "                                        nRegionsForRepresentation=3,\n",
    "                                        aggregatedResultsPath='OutputData')"
   ]
  },
  {
   "cell_type": "code",
   "execution_count": 64,
   "metadata": {},
   "outputs": [
    {
     "data": {
      "text/plain": [
       "['cluster_5',\n",
       " 'cluster_7',\n",
       " 'cluster_0_cluster_1_cluster_2_cluster_3_cluster_4_cluster_6']"
      ]
     },
     "execution_count": 64,
     "metadata": {},
     "output_type": "execute_result"
    }
   ],
   "source": [
    "new_locations = list(aggregated_esM.locations)\n",
    "new_locations"
   ]
  },
  {
   "cell_type": "code",
   "execution_count": 52,
   "metadata": {},
   "outputs": [
    {
     "data": {
      "text/plain": [
       "{'AC cables': <FINE.transmission.Transmission at 0x1f8d4ee0d08>,\n",
       " 'DC cables': <FINE.transmission.Transmission at 0x1f8d5cb1f88>,\n",
       " 'Pipelines (biogas)': <FINE.transmission.Transmission at 0x1f8d6989788>,\n",
       " 'Pipelines (hydrogen)': <FINE.transmission.Transmission at 0x1f8d5449608>}"
      ]
     },
     "execution_count": 52,
     "metadata": {},
     "output_type": "execute_result"
    }
   ],
   "source": [
    "aggregated_esM.componentModelingDict['TransmissionModel'].componentsDict"
   ]
  },
  {
   "cell_type": "markdown",
   "metadata": {},
   "source": [
    "# 8.2 Temporal Aggregation\n",
    "\n",
    "All components are now added to the model and the model can be optimized. If the computational complexity of the optimization should be reduced, the time series data of the specified components can be clustered before the optimization and the parameter timeSeriesAggregation is set to True in the optimize call."
   ]
  },
  {
   "cell_type": "code",
   "execution_count": 53,
   "metadata": {
    "scrolled": true
   },
   "outputs": [
    {
     "name": "stdout",
     "output_type": "stream",
     "text": [
      "\n",
      "Clustering time series data with 7 typical periods and 24 time steps per period...\n",
      "\t\t(0.4668 sec)\n",
      "\n"
     ]
    }
   ],
   "source": [
    "aggregated_esM.aggregateTemporally(numberOfTypicalPeriods=7)"
   ]
  },
  {
   "cell_type": "markdown",
   "metadata": {},
   "source": [
    "# 9 Optimization"
   ]
  },
  {
   "cell_type": "code",
   "execution_count": 54,
   "metadata": {
    "scrolled": true
   },
   "outputs": [
    {
     "name": "stdout",
     "output_type": "stream",
     "text": [
      "Time series aggregation specifications:\n",
      "Number of typical periods:7, number of time steps per period:24\n",
      "\n",
      "Declaring sets, variables and constraints for SourceSinkModel\n",
      "\tdeclaring sets... \n",
      "\tdeclaring variables... \n",
      "\tdeclaring constraints... \n",
      "\t\t(0.2637 sec)\n",
      "\n",
      "Declaring sets, variables and constraints for ConversionModel\n",
      "\tdeclaring sets... \n",
      "\tdeclaring variables... \n",
      "\tdeclaring constraints... \n",
      "\t\t(0.1372 sec)\n",
      "\n",
      "Declaring sets, variables and constraints for StorageModel\n",
      "\tdeclaring sets... \n",
      "\tdeclaring variables... \n",
      "\tdeclaring constraints... \n",
      "\t\t(1.0965 sec)\n",
      "\n",
      "Declaring sets, variables and constraints for TransmissionModel\n",
      "\tdeclaring sets... \n",
      "\tdeclaring variables... \n",
      "\tdeclaring constraints... \n",
      "\t\t(0.0950 sec)\n",
      "\n",
      "Declaring shared potential constraint...\n",
      "\t\t(0.0010 sec)\n",
      "\n",
      "Declaring linked component quantity constraint...\n",
      "\t\t(0.0000 sec)\n",
      "\n",
      "Declaring commodity balances...\n",
      "\t\t(0.3357 sec)\n",
      "\n",
      "Declaring objective function...\n",
      "\t\t(0.1477 sec)\n",
      "\n",
      "Using license file C:\\Users\\s.patil\\gurobi.lic\n",
      "Academic license - for non-commercial use only\n",
      "Read LP format model from file C:\\Users\\S9CFE~1.PAT\\AppData\\Local\\Temp\\tmpx2jxk2gy.pyomo.lp\n",
      "Reading time = 0.17 seconds\n",
      "x30976: 28503 rows, 18040 columns, 83849 nonzeros\n",
      "Changed value of parameter QCPDual to 1\n",
      "   Prev: 0  Min: 0  Max: 1  Default: 0\n",
      "Changed value of parameter Threads to 3\n",
      "   Prev: 0  Min: 0  Max: 1024  Default: 0\n",
      "Parameter logfile unchanged\n",
      "   Value:   Default: \n",
      "Gurobi Optimizer version 9.0.1 build v9.0.1rc0 (win64)\n",
      "Optimize a model with 28503 rows, 18040 columns and 83849 nonzeros\n",
      "Model fingerprint: 0x0d9ada39\n",
      "Variable types: 18032 continuous, 8 integer (8 binary)\n",
      "Coefficient statistics:\n",
      "  Matrix range     [5e-11, 5e+02]\n",
      "  Objective range  [1e-05, 1e+02]\n",
      "  Bounds range     [1e+00, 2e+05]\n",
      "  RHS range        [1e-01, 7e+01]\n",
      "Warning: Model contains large matrix coefficient range\n",
      "         Consider reformulating model or setting NumericFocus parameter\n",
      "         to avoid numerical issues.\n",
      "Presolve removed 8003 rows and 6019 columns\n",
      "Presolve time: 0.18s\n",
      "Presolved: 20500 rows, 12021 columns, 66944 nonzeros\n",
      "Variable types: 12017 continuous, 4 integer (4 binary)\n",
      "\n",
      "Root simplex log...\n",
      "\n",
      "Iteration    Objective       Primal Inf.    Dual Inf.      Time\n",
      "   13196    3.9190087e+01   6.211484e+06   0.000000e+00      5s\n",
      "   19226    5.3378951e+01   3.434460e+06   0.000000e+00     10s\n",
      "   26108    7.1618504e+01   7.142817e+05   0.000000e+00     15s\n",
      "   31938    8.2003035e+01   4.453447e+07   0.000000e+00     20s\n",
      "   37038    9.6792020e+01   2.949275e+07   0.000000e+00     25s\n",
      "   43576    1.2219112e+02   1.487701e+05   0.000000e+00     30s\n",
      "   50306    1.4208162e+02   2.680461e+05   0.000000e+00     35s\n",
      "   57580    1.5804319e+02   3.288242e+06   0.000000e+00     40s\n",
      "   64668    2.0273198e+02   1.003826e+06   0.000000e+00     45s\n",
      "   70158    2.2344686e+02   5.026135e+05   0.000000e+00     50s\n",
      "   72035    2.2425963e+02   0.000000e+00   0.000000e+00     51s\n",
      "\n",
      "Root relaxation: objective 2.242596e+02, 72035 iterations, 51.30 seconds\n",
      "\n",
      "    Nodes    |    Current Node    |     Objective Bounds      |     Work\n",
      " Expl Unexpl |  Obj  Depth IntInf | Incumbent    BestBd   Gap | It/Node Time\n",
      "\n",
      "     0     0  224.25963    0    1          -  224.25963      -     -   51s\n",
      "     0     0  224.25963    0    1          -  224.25963      -     -   51s\n",
      "     0     2  224.25963    0    1          -  224.25963      -     -   51s\n",
      "*    1     0               1     224.2913708  224.27221  0.01%   114   53s\n",
      "\n",
      "Explored 3 nodes (74902 simplex iterations) in 53.44 seconds\n",
      "Thread count was 3 (of 8 available processors)\n",
      "\n",
      "Solution count 1: 224.291 \n",
      "\n",
      "Optimal solution found (tolerance 1.00e-04)\n",
      "Warning: max constraint violation (3.4668e-06) exceeds tolerance\n",
      "Best objective 2.242913708085e+02, best bound 2.242913708085e+02, gap 0.0000%\n",
      "\n",
      "Status: ok\n",
      "Return code: 0\n",
      "Message: Model was solved to optimality (subject to tolerances), and an optimal solution is available.\n",
      "Termination condition: optimal\n",
      "Termination message: Model was solved to optimality (subject to tolerances), and an optimal solution is available.\n",
      "Wall time: 53.445186614990234\n",
      "Error rc: 0\n",
      "Time: 54.23059964179993\n",
      "\n",
      "\n",
      "Name: x30976\n",
      "Lower bound: 224.29137080850268\n",
      "Upper bound: 224.2913708085027\n",
      "Number of objectives: 1\n",
      "Number of constraints: 28503\n",
      "Number of variables: 18040\n",
      "Number of binary variables: 8\n",
      "Number of integer variables: 8\n",
      "Number of continuous variables: 18032\n",
      "Number of nonzeros: 83849\n",
      "Sense: minimize\n",
      "\n",
      "Solve time: 56.932072162628174 sec.\n",
      "\n",
      "Processing optimization output...\n",
      "for SourceSinkModel ...    (0.8759sec)\n",
      "for ConversionModel ...    (0.7075sec)\n"
     ]
    },
    {
     "name": "stderr",
     "output_type": "stream",
     "text": [
      " c:\\users\\s.patil\\documents\\code\\fine\\FINE\\storage.py:1087: UserWarning:Charge and discharge at the same time for component Salt caverns (hydrogen)\n",
      " c:\\users\\s.patil\\documents\\code\\fine\\FINE\\storage.py:1087: UserWarning:Charge and discharge at the same time for component Salt caverns (biogas)\n"
     ]
    },
    {
     "name": "stdout",
     "output_type": "stream",
     "text": [
      "for StorageModel ...       (2.1351sec)\n",
      "for TransmissionModel ...  (1.2135sec)\n",
      "\t\t(4.9335 sec)\n",
      "\n"
     ]
    }
   ],
   "source": [
    "aggregated_esM.optimize(timeSeriesAggregation=True, solver='gurobi')"
   ]
  },
  {
   "cell_type": "markdown",
   "metadata": {},
   "source": [
    "# 10. Selected Results Output"
   ]
  },
  {
   "cell_type": "markdown",
   "metadata": {},
   "source": [
    "## 10.1. Plots for Spatial Aggregation Results "
   ]
  },
  {
   "cell_type": "markdown",
   "metadata": {},
   "source": [
    "#### Original spatial resolution"
   ]
  },
  {
   "cell_type": "code",
   "execution_count": 55,
   "metadata": {},
   "outputs": [
    {
     "name": "stderr",
     "output_type": "stream",
     "text": [
      " c:\\users\\s.patil\\documents\\code\\fine\\FINE\\IOManagement\\standardIO.py:659: MatplotlibDeprecationWarning:The 's' parameter of annotate() has been renamed 'text' since Matplotlib 3.3; support for the old name will be dropped two minor releases later.\n",
      " c:\\users\\s.patil\\documents\\code\\fine\\FINE\\IOManagement\\standardIO.py:659: MatplotlibDeprecationWarning:The 's' parameter of annotate() has been renamed 'text' since Matplotlib 3.3; support for the old name will be dropped two minor releases later.\n",
      " c:\\users\\s.patil\\documents\\code\\fine\\FINE\\IOManagement\\standardIO.py:659: MatplotlibDeprecationWarning:The 's' parameter of annotate() has been renamed 'text' since Matplotlib 3.3; support for the old name will be dropped two minor releases later.\n",
      " c:\\users\\s.patil\\documents\\code\\fine\\FINE\\IOManagement\\standardIO.py:659: MatplotlibDeprecationWarning:The 's' parameter of annotate() has been renamed 'text' since Matplotlib 3.3; support for the old name will be dropped two minor releases later.\n",
      " c:\\users\\s.patil\\documents\\code\\fine\\FINE\\IOManagement\\standardIO.py:659: MatplotlibDeprecationWarning:The 's' parameter of annotate() has been renamed 'text' since Matplotlib 3.3; support for the old name will be dropped two minor releases later.\n",
      " c:\\users\\s.patil\\documents\\code\\fine\\FINE\\IOManagement\\standardIO.py:659: MatplotlibDeprecationWarning:The 's' parameter of annotate() has been renamed 'text' since Matplotlib 3.3; support for the old name will be dropped two minor releases later.\n",
      " c:\\users\\s.patil\\documents\\code\\fine\\FINE\\IOManagement\\standardIO.py:659: MatplotlibDeprecationWarning:The 's' parameter of annotate() has been renamed 'text' since Matplotlib 3.3; support for the old name will be dropped two minor releases later.\n",
      " c:\\users\\s.patil\\documents\\code\\fine\\FINE\\IOManagement\\standardIO.py:659: MatplotlibDeprecationWarning:The 's' parameter of annotate() has been renamed 'text' since Matplotlib 3.3; support for the old name will be dropped two minor releases later.\n"
     ]
    },
    {
     "data": {
      "image/png": "[encoded data removed]",
      "text/plain": [
       "<Figure size 432x432 with 1 Axes>"
      ]
     },
     "metadata": {
      "needs_background": "light"
     },
     "output_type": "display_data"
    }
   ],
   "source": [
    "locFilePath = os.path.join(cwd, 'InputData', 'SpatialData','ShapeFiles', 'clusteredRegions.shp')\n",
    "fig, ax = fn.plotLocations(locFilePath, plotLocNames=True, indexColumn='index')"
   ]
  },
  {
   "cell_type": "markdown",
   "metadata": {},
   "source": [
    "#### Spatial resolution after aggregation"
   ]
  },
  {
   "cell_type": "code",
   "execution_count": 56,
   "metadata": {},
   "outputs": [
    {
     "name": "stderr",
     "output_type": "stream",
     "text": [
      " c:\\users\\s.patil\\documents\\code\\fine\\FINE\\IOManagement\\standardIO.py:659: MatplotlibDeprecationWarning:The 's' parameter of annotate() has been renamed 'text' since Matplotlib 3.3; support for the old name will be dropped two minor releases later.\n",
      " c:\\users\\s.patil\\documents\\code\\fine\\FINE\\IOManagement\\standardIO.py:659: MatplotlibDeprecationWarning:The 's' parameter of annotate() has been renamed 'text' since Matplotlib 3.3; support for the old name will be dropped two minor releases later.\n",
      " c:\\users\\s.patil\\documents\\code\\fine\\FINE\\IOManagement\\standardIO.py:659: MatplotlibDeprecationWarning:The 's' parameter of annotate() has been renamed 'text' since Matplotlib 3.3; support for the old name will be dropped two minor releases later.\n"
     ]
    },
    {
     "data": {
      "image/png": "[encoded data removed]",
      "text/plain": [
       "<Figure size 432x432 with 1 Axes>"
      ]
     },
     "metadata": {
      "needs_background": "light"
     },
     "output_type": "display_data"
    }
   ],
   "source": [
    "aggregated_regions_FilePath = os.path.join(cwd, 'OutputData', 'sds_regions.shp')\n",
    "fig, ax = fn.plotLocations(aggregated_regions_FilePath, plotLocNames=True, indexColumn='space')"
   ]
  },
  {
   "cell_type": "markdown",
   "metadata": {},
   "source": [
    "## 10.2. Sources and Sink Optimization Summary"
   ]
  },
  {
   "cell_type": "code",
   "execution_count": 57,
   "metadata": {
    "scrolled": false
   },
   "outputs": [
    {
     "data": {
      "text/html": [
       "<div>\n",
       "<style scoped>\n",
       "    .dataframe tbody tr th:only-of-type {\n",
       "        vertical-align: middle;\n",
       "    }\n",
       "\n",
       "    .dataframe tbody tr th {\n",
       "        vertical-align: top;\n",
       "    }\n",
       "\n",
       "    .dataframe thead th {\n",
       "        text-align: right;\n",
       "    }\n",
       "</style>\n",
       "<table border=\"1\" class=\"dataframe\">\n",
       "  <thead>\n",
       "    <tr style=\"text-align: right;\">\n",
       "      <th></th>\n",
       "      <th></th>\n",
       "      <th></th>\n",
       "      <th>cluster_0_cluster_1_cluster_2_cluster_3_cluster_4_cluster_6</th>\n",
       "      <th>cluster_5</th>\n",
       "      <th>cluster_7</th>\n",
       "    </tr>\n",
       "    <tr>\n",
       "      <th>Component</th>\n",
       "      <th>Property</th>\n",
       "      <th>Unit</th>\n",
       "      <th></th>\n",
       "      <th></th>\n",
       "      <th></th>\n",
       "    </tr>\n",
       "  </thead>\n",
       "  <tbody>\n",
       "    <tr>\n",
       "      <th rowspan=\"4\" valign=\"top\">Biogas purchase</th>\n",
       "      <th>TAC</th>\n",
       "      <th>[1e9 Euro/a]</th>\n",
       "      <td>0</td>\n",
       "      <td>0.155594</td>\n",
       "      <td>0.0577292</td>\n",
       "    </tr>\n",
       "    <tr>\n",
       "      <th>commodCosts</th>\n",
       "      <th>[1e9 Euro/a]</th>\n",
       "      <td>0</td>\n",
       "      <td>0.155594</td>\n",
       "      <td>0.0577292</td>\n",
       "    </tr>\n",
       "    <tr>\n",
       "      <th rowspan=\"2\" valign=\"top\">operation</th>\n",
       "      <th>[GW$_{biogas,LHV}$*h/a]</th>\n",
       "      <td>0</td>\n",
       "      <td>2876.58</td>\n",
       "      <td>1067.28</td>\n",
       "    </tr>\n",
       "    <tr>\n",
       "      <th>[GW$_{biogas,LHV}$*h]</th>\n",
       "      <td>0</td>\n",
       "      <td>2876.58</td>\n",
       "      <td>1067.28</td>\n",
       "    </tr>\n",
       "    <tr>\n",
       "      <th rowspan=\"2\" valign=\"top\">Electricity demand</th>\n",
       "      <th rowspan=\"2\" valign=\"top\">operation</th>\n",
       "      <th>[GW$_{el}$*h/a]</th>\n",
       "      <td>470635</td>\n",
       "      <td>41413.4</td>\n",
       "      <td>15851.1</td>\n",
       "    </tr>\n",
       "    <tr>\n",
       "      <th>[GW$_{el}$*h]</th>\n",
       "      <td>470635</td>\n",
       "      <td>41413.4</td>\n",
       "      <td>15851.1</td>\n",
       "    </tr>\n",
       "    <tr>\n",
       "      <th rowspan=\"5\" valign=\"top\">Existing run-of-river plants</th>\n",
       "      <th>TAC</th>\n",
       "      <th>[1e9 Euro/a]</th>\n",
       "      <td>4.35129</td>\n",
       "      <td>0</td>\n",
       "      <td>0.0674723</td>\n",
       "    </tr>\n",
       "    <tr>\n",
       "      <th>capacity</th>\n",
       "      <th>[GW$_{el}$]</th>\n",
       "      <td>3.48661</td>\n",
       "      <td>NaN</td>\n",
       "      <td>0.324386</td>\n",
       "    </tr>\n",
       "    <tr>\n",
       "      <th rowspan=\"2\" valign=\"top\">operation</th>\n",
       "      <th>[GW$_{el}$*h/a]</th>\n",
       "      <td>79582</td>\n",
       "      <td>NaN</td>\n",
       "      <td>1480.82</td>\n",
       "    </tr>\n",
       "    <tr>\n",
       "      <th>[GW$_{el}$*h]</th>\n",
       "      <td>79582</td>\n",
       "      <td>NaN</td>\n",
       "      <td>1480.82</td>\n",
       "    </tr>\n",
       "    <tr>\n",
       "      <th>opexCap</th>\n",
       "      <th>[1e9 Euro/a]</th>\n",
       "      <td>4.35129</td>\n",
       "      <td>NaN</td>\n",
       "      <td>0.0674723</td>\n",
       "    </tr>\n",
       "    <tr>\n",
       "      <th rowspan=\"2\" valign=\"top\">Hydrogen demand</th>\n",
       "      <th rowspan=\"2\" valign=\"top\">operation</th>\n",
       "      <th>[GW$_{H_{2},LHV}$*h/a]</th>\n",
       "      <td>62367.3</td>\n",
       "      <td>5747.42</td>\n",
       "      <td>1453.12</td>\n",
       "    </tr>\n",
       "    <tr>\n",
       "      <th>[GW$_{H_{2},LHV}$*h]</th>\n",
       "      <td>62367.3</td>\n",
       "      <td>5747.42</td>\n",
       "      <td>1453.12</td>\n",
       "    </tr>\n",
       "    <tr>\n",
       "      <th rowspan=\"7\" valign=\"top\">PV</th>\n",
       "      <th>TAC</th>\n",
       "      <th>[1e9 Euro/a]</th>\n",
       "      <td>70.7431</td>\n",
       "      <td>1.46977</td>\n",
       "      <td>0.366282</td>\n",
       "    </tr>\n",
       "    <tr>\n",
       "      <th>capacity</th>\n",
       "      <th>[GW$_{el}$]</th>\n",
       "      <td>36.2785</td>\n",
       "      <td>19.891</td>\n",
       "      <td>4.95704</td>\n",
       "    </tr>\n",
       "    <tr>\n",
       "      <th>capexCap</th>\n",
       "      <th>[1e9 Euro/a]</th>\n",
       "      <td>67.9134</td>\n",
       "      <td>1.21118</td>\n",
       "      <td>0.30184</td>\n",
       "    </tr>\n",
       "    <tr>\n",
       "      <th>invest</th>\n",
       "      <th>[1e9 Euro]</th>\n",
       "      <td>141.486</td>\n",
       "      <td>12.9291</td>\n",
       "      <td>3.22208</td>\n",
       "    </tr>\n",
       "    <tr>\n",
       "      <th rowspan=\"2\" valign=\"top\">operation</th>\n",
       "      <th>[GW$_{el}$*h/a]</th>\n",
       "      <td>220742</td>\n",
       "      <td>20641.9</td>\n",
       "      <td>5195.39</td>\n",
       "    </tr>\n",
       "    <tr>\n",
       "      <th>[GW$_{el}$*h]</th>\n",
       "      <td>220742</td>\n",
       "      <td>20641.9</td>\n",
       "      <td>5195.39</td>\n",
       "    </tr>\n",
       "    <tr>\n",
       "      <th>opexCap</th>\n",
       "      <th>[1e9 Euro/a]</th>\n",
       "      <td>2.82973</td>\n",
       "      <td>0.258582</td>\n",
       "      <td>0.0644416</td>\n",
       "    </tr>\n",
       "    <tr>\n",
       "      <th rowspan=\"7\" valign=\"top\">Wind (offshore)</th>\n",
       "      <th>TAC</th>\n",
       "      <th>[1e9 Euro/a]</th>\n",
       "      <td>94.3138</td>\n",
       "      <td>0</td>\n",
       "      <td>0</td>\n",
       "    </tr>\n",
       "    <tr>\n",
       "      <th>capacity</th>\n",
       "      <th>[GW$_{el}$]</th>\n",
       "      <td>13.6687</td>\n",
       "      <td>NaN</td>\n",
       "      <td>NaN</td>\n",
       "    </tr>\n",
       "    <tr>\n",
       "      <th>capexCap</th>\n",
       "      <th>[1e9 Euro/a]</th>\n",
       "      <td>90.5412</td>\n",
       "      <td>NaN</td>\n",
       "      <td>NaN</td>\n",
       "    </tr>\n",
       "    <tr>\n",
       "      <th>invest</th>\n",
       "      <th>[1e9 Euro]</th>\n",
       "      <td>188.628</td>\n",
       "      <td>NaN</td>\n",
       "      <td>NaN</td>\n",
       "    </tr>\n",
       "    <tr>\n",
       "      <th rowspan=\"2\" valign=\"top\">operation</th>\n",
       "      <th>[GW$_{el}$*h/a]</th>\n",
       "      <td>223590</td>\n",
       "      <td>NaN</td>\n",
       "      <td>NaN</td>\n",
       "    </tr>\n",
       "    <tr>\n",
       "      <th>[GW$_{el}$*h]</th>\n",
       "      <td>223590</td>\n",
       "      <td>NaN</td>\n",
       "      <td>NaN</td>\n",
       "    </tr>\n",
       "    <tr>\n",
       "      <th>opexCap</th>\n",
       "      <th>[1e9 Euro/a]</th>\n",
       "      <td>3.77255</td>\n",
       "      <td>NaN</td>\n",
       "      <td>NaN</td>\n",
       "    </tr>\n",
       "    <tr>\n",
       "      <th rowspan=\"7\" valign=\"top\">Wind (onshore)</th>\n",
       "      <th>TAC</th>\n",
       "      <th>[1e9 Euro/a]</th>\n",
       "      <td>3.09213</td>\n",
       "      <td>7.07742</td>\n",
       "      <td>1.14266</td>\n",
       "    </tr>\n",
       "    <tr>\n",
       "      <th>capacity</th>\n",
       "      <th>[GW$_{el}$]</th>\n",
       "      <td>0.93701</td>\n",
       "      <td>52.8018</td>\n",
       "      <td>8.52491</td>\n",
       "    </tr>\n",
       "    <tr>\n",
       "      <th>capexCap</th>\n",
       "      <th>[1e9 Euro/a]</th>\n",
       "      <td>2.96845</td>\n",
       "      <td>5.91578</td>\n",
       "      <td>0.955108</td>\n",
       "    </tr>\n",
       "    <tr>\n",
       "      <th>invest</th>\n",
       "      <th>[1e9 Euro]</th>\n",
       "      <td>6.18427</td>\n",
       "      <td>58.082</td>\n",
       "      <td>9.3774</td>\n",
       "    </tr>\n",
       "    <tr>\n",
       "      <th rowspan=\"2\" valign=\"top\">operation</th>\n",
       "      <th>[GW$_{el}$*h/a]</th>\n",
       "      <td>10710.7</td>\n",
       "      <td>92065.8</td>\n",
       "      <td>12100.5</td>\n",
       "    </tr>\n",
       "    <tr>\n",
       "      <th>[GW$_{el}$*h]</th>\n",
       "      <td>10710.7</td>\n",
       "      <td>92065.8</td>\n",
       "      <td>12100.5</td>\n",
       "    </tr>\n",
       "    <tr>\n",
       "      <th>opexCap</th>\n",
       "      <th>[1e9 Euro/a]</th>\n",
       "      <td>0.123685</td>\n",
       "      <td>1.16164</td>\n",
       "      <td>0.187548</td>\n",
       "    </tr>\n",
       "  </tbody>\n",
       "</table>\n",
       "</div>"
      ],
      "text/plain": [
       "                                                                 cluster_0_cluster_1_cluster_2_cluster_3_cluster_4_cluster_6  \\\n",
       "Component                    Property    Unit                                                                                  \n",
       "Biogas purchase              TAC         [1e9 Euro/a]                                                             0            \n",
       "                             commodCosts [1e9 Euro/a]                                                             0            \n",
       "                             operation   [GW$_{biogas,LHV}$*h/a]                                                  0            \n",
       "                                         [GW$_{biogas,LHV}$*h]                                                    0            \n",
       "Electricity demand           operation   [GW$_{el}$*h/a]                                                     470635            \n",
       "                                         [GW$_{el}$*h]                                                       470635            \n",
       "Existing run-of-river plants TAC         [1e9 Euro/a]                                                       4.35129            \n",
       "                             capacity    [GW$_{el}$]                                                        3.48661            \n",
       "                             operation   [GW$_{el}$*h/a]                                                      79582            \n",
       "                                         [GW$_{el}$*h]                                                        79582            \n",
       "                             opexCap     [1e9 Euro/a]                                                       4.35129            \n",
       "Hydrogen demand              operation   [GW$_{H_{2},LHV}$*h/a]                                             62367.3            \n",
       "                                         [GW$_{H_{2},LHV}$*h]                                               62367.3            \n",
       "PV                           TAC         [1e9 Euro/a]                                                       70.7431            \n",
       "                             capacity    [GW$_{el}$]                                                        36.2785            \n",
       "                             capexCap    [1e9 Euro/a]                                                       67.9134            \n",
       "                             invest      [1e9 Euro]                                                         141.486            \n",
       "                             operation   [GW$_{el}$*h/a]                                                     220742            \n",
       "                                         [GW$_{el}$*h]                                                       220742            \n",
       "                             opexCap     [1e9 Euro/a]                                                       2.82973            \n",
       "Wind (offshore)              TAC         [1e9 Euro/a]                                                       94.3138            \n",
       "                             capacity    [GW$_{el}$]                                                        13.6687            \n",
       "                             capexCap    [1e9 Euro/a]                                                       90.5412            \n",
       "                             invest      [1e9 Euro]                                                         188.628            \n",
       "                             operation   [GW$_{el}$*h/a]                                                     223590            \n",
       "                                         [GW$_{el}$*h]                                                       223590            \n",
       "                             opexCap     [1e9 Euro/a]                                                       3.77255            \n",
       "Wind (onshore)               TAC         [1e9 Euro/a]                                                       3.09213            \n",
       "                             capacity    [GW$_{el}$]                                                        0.93701            \n",
       "                             capexCap    [1e9 Euro/a]                                                       2.96845            \n",
       "                             invest      [1e9 Euro]                                                         6.18427            \n",
       "                             operation   [GW$_{el}$*h/a]                                                    10710.7            \n",
       "                                         [GW$_{el}$*h]                                                      10710.7            \n",
       "                             opexCap     [1e9 Euro/a]                                                      0.123685            \n",
       "\n",
       "                                                                 cluster_5  \\\n",
       "Component                    Property    Unit                                \n",
       "Biogas purchase              TAC         [1e9 Euro/a]             0.155594   \n",
       "                             commodCosts [1e9 Euro/a]             0.155594   \n",
       "                             operation   [GW$_{biogas,LHV}$*h/a]   2876.58   \n",
       "                                         [GW$_{biogas,LHV}$*h]     2876.58   \n",
       "Electricity demand           operation   [GW$_{el}$*h/a]           41413.4   \n",
       "                                         [GW$_{el}$*h]             41413.4   \n",
       "Existing run-of-river plants TAC         [1e9 Euro/a]                    0   \n",
       "                             capacity    [GW$_{el}$]                   NaN   \n",
       "                             operation   [GW$_{el}$*h/a]               NaN   \n",
       "                                         [GW$_{el}$*h]                 NaN   \n",
       "                             opexCap     [1e9 Euro/a]                  NaN   \n",
       "Hydrogen demand              operation   [GW$_{H_{2},LHV}$*h/a]    5747.42   \n",
       "                                         [GW$_{H_{2},LHV}$*h]      5747.42   \n",
       "PV                           TAC         [1e9 Euro/a]              1.46977   \n",
       "                             capacity    [GW$_{el}$]                19.891   \n",
       "                             capexCap    [1e9 Euro/a]              1.21118   \n",
       "                             invest      [1e9 Euro]                12.9291   \n",
       "                             operation   [GW$_{el}$*h/a]           20641.9   \n",
       "                                         [GW$_{el}$*h]             20641.9   \n",
       "                             opexCap     [1e9 Euro/a]             0.258582   \n",
       "Wind (offshore)              TAC         [1e9 Euro/a]                    0   \n",
       "                             capacity    [GW$_{el}$]                   NaN   \n",
       "                             capexCap    [1e9 Euro/a]                  NaN   \n",
       "                             invest      [1e9 Euro]                    NaN   \n",
       "                             operation   [GW$_{el}$*h/a]               NaN   \n",
       "                                         [GW$_{el}$*h]                 NaN   \n",
       "                             opexCap     [1e9 Euro/a]                  NaN   \n",
       "Wind (onshore)               TAC         [1e9 Euro/a]              7.07742   \n",
       "                             capacity    [GW$_{el}$]               52.8018   \n",
       "                             capexCap    [1e9 Euro/a]              5.91578   \n",
       "                             invest      [1e9 Euro]                 58.082   \n",
       "                             operation   [GW$_{el}$*h/a]           92065.8   \n",
       "                                         [GW$_{el}$*h]             92065.8   \n",
       "                             opexCap     [1e9 Euro/a]              1.16164   \n",
       "\n",
       "                                                                  cluster_7  \n",
       "Component                    Property    Unit                                \n",
       "Biogas purchase              TAC         [1e9 Euro/a]             0.0577292  \n",
       "                             commodCosts [1e9 Euro/a]             0.0577292  \n",
       "                             operation   [GW$_{biogas,LHV}$*h/a]    1067.28  \n",
       "                                         [GW$_{biogas,LHV}$*h]      1067.28  \n",
       "Electricity demand           operation   [GW$_{el}$*h/a]            15851.1  \n",
       "                                         [GW$_{el}$*h]              15851.1  \n",
       "Existing run-of-river plants TAC         [1e9 Euro/a]             0.0674723  \n",
       "                             capacity    [GW$_{el}$]               0.324386  \n",
       "                             operation   [GW$_{el}$*h/a]            1480.82  \n",
       "                                         [GW$_{el}$*h]              1480.82  \n",
       "                             opexCap     [1e9 Euro/a]             0.0674723  \n",
       "Hydrogen demand              operation   [GW$_{H_{2},LHV}$*h/a]     1453.12  \n",
       "                                         [GW$_{H_{2},LHV}$*h]       1453.12  \n",
       "PV                           TAC         [1e9 Euro/a]              0.366282  \n",
       "                             capacity    [GW$_{el}$]                4.95704  \n",
       "                             capexCap    [1e9 Euro/a]               0.30184  \n",
       "                             invest      [1e9 Euro]                 3.22208  \n",
       "                             operation   [GW$_{el}$*h/a]            5195.39  \n",
       "                                         [GW$_{el}$*h]              5195.39  \n",
       "                             opexCap     [1e9 Euro/a]             0.0644416  \n",
       "Wind (offshore)              TAC         [1e9 Euro/a]                     0  \n",
       "                             capacity    [GW$_{el}$]                    NaN  \n",
       "                             capexCap    [1e9 Euro/a]                   NaN  \n",
       "                             invest      [1e9 Euro]                     NaN  \n",
       "                             operation   [GW$_{el}$*h/a]                NaN  \n",
       "                                         [GW$_{el}$*h]                  NaN  \n",
       "                             opexCap     [1e9 Euro/a]                   NaN  \n",
       "Wind (onshore)               TAC         [1e9 Euro/a]               1.14266  \n",
       "                             capacity    [GW$_{el}$]                8.52491  \n",
       "                             capexCap    [1e9 Euro/a]              0.955108  \n",
       "                             invest      [1e9 Euro]                  9.3774  \n",
       "                             operation   [GW$_{el}$*h/a]            12100.5  \n",
       "                                         [GW$_{el}$*h]              12100.5  \n",
       "                             opexCap     [1e9 Euro/a]              0.187548  "
      ]
     },
     "execution_count": 57,
     "metadata": {},
     "output_type": "execute_result"
    }
   ],
   "source": [
    "aggregated_esM.getOptimizationSummary(\"SourceSinkModel\", outputLevel=2)"
   ]
  },
  {
   "cell_type": "markdown",
   "metadata": {},
   "source": [
    "#### Plot installed capacities"
   ]
  },
  {
   "cell_type": "code",
   "execution_count": 58,
   "metadata": {
    "scrolled": false
   },
   "outputs": [
    {
     "data": {
      "image/png": "[encoded data removed]",
      "text/plain": [
       "<Figure size 432x432 with 2 Axes>"
      ]
     },
     "metadata": {
      "needs_background": "light"
     },
     "output_type": "display_data"
    }
   ],
   "source": [
    "## 'Wind (onshore)'\n",
    "fig, ax = fn.plotLocationalColorMap(aggregated_esM, \n",
    "                                    'Wind (onshore)', \n",
    "                                    aggregated_regions_FilePath, \n",
    "                                    'space',\n",
    "                                    perArea=False)"
   ]
  },
  {
   "cell_type": "code",
   "execution_count": 59,
   "metadata": {},
   "outputs": [
    {
     "data": {
      "text/html": [
       "<div>\n",
       "<style scoped>\n",
       "    .dataframe tbody tr th:only-of-type {\n",
       "        vertical-align: middle;\n",
       "    }\n",
       "\n",
       "    .dataframe tbody tr th {\n",
       "        vertical-align: top;\n",
       "    }\n",
       "\n",
       "    .dataframe thead th {\n",
       "        text-align: right;\n",
       "    }\n",
       "</style>\n",
       "<table border=\"1\" class=\"dataframe\">\n",
       "  <thead>\n",
       "    <tr style=\"text-align: right;\">\n",
       "      <th></th>\n",
       "      <th>index</th>\n",
       "      <th>geometry</th>\n",
       "    </tr>\n",
       "  </thead>\n",
       "  <tbody>\n",
       "    <tr>\n",
       "      <th>0</th>\n",
       "      <td>cluster_0</td>\n",
       "      <td>MULTIPOLYGON (((4223496.092 2734368.143, 42236...</td>\n",
       "    </tr>\n",
       "    <tr>\n",
       "      <th>1</th>\n",
       "      <td>cluster_1</td>\n",
       "      <td>MULTIPOLYGON (((4199685.633 3404002.686, 41996...</td>\n",
       "    </tr>\n",
       "    <tr>\n",
       "      <th>2</th>\n",
       "      <td>cluster_2</td>\n",
       "      <td>MULTIPOLYGON (((4106781.295 3394915.767, 41067...</td>\n",
       "    </tr>\n",
       "    <tr>\n",
       "      <th>3</th>\n",
       "      <td>cluster_3</td>\n",
       "      <td>MULTIPOLYGON (((4602449.935 3408647.034, 46024...</td>\n",
       "    </tr>\n",
       "    <tr>\n",
       "      <th>4</th>\n",
       "      <td>cluster_4</td>\n",
       "      <td>POLYGON ((4553700.750 2730225.831, 4553786.048...</td>\n",
       "    </tr>\n",
       "    <tr>\n",
       "      <th>5</th>\n",
       "      <td>cluster_5</td>\n",
       "      <td>POLYGON ((4571189.891 3067926.848, 4571184.381...</td>\n",
       "    </tr>\n",
       "    <tr>\n",
       "      <th>6</th>\n",
       "      <td>cluster_6</td>\n",
       "      <td>MULTIPOLYGON (((4235203.262 3440768.058, 42352...</td>\n",
       "    </tr>\n",
       "    <tr>\n",
       "      <th>7</th>\n",
       "      <td>cluster_7</td>\n",
       "      <td>MULTIPOLYGON (((4039023.418 2970178.496, 40390...</td>\n",
       "    </tr>\n",
       "  </tbody>\n",
       "</table>\n",
       "</div>"
      ],
      "text/plain": [
       "       index                                           geometry\n",
       "0  cluster_0  MULTIPOLYGON (((4223496.092 2734368.143, 42236...\n",
       "1  cluster_1  MULTIPOLYGON (((4199685.633 3404002.686, 41996...\n",
       "2  cluster_2  MULTIPOLYGON (((4106781.295 3394915.767, 41067...\n",
       "3  cluster_3  MULTIPOLYGON (((4602449.935 3408647.034, 46024...\n",
       "4  cluster_4  POLYGON ((4553700.750 2730225.831, 4553786.048...\n",
       "5  cluster_5  POLYGON ((4571189.891 3067926.848, 4571184.381...\n",
       "6  cluster_6  MULTIPOLYGON (((4235203.262 3440768.058, 42352...\n",
       "7  cluster_7  MULTIPOLYGON (((4039023.418 2970178.496, 40390..."
      ]
     },
     "execution_count": 59,
     "metadata": {},
     "output_type": "execute_result"
    }
   ],
   "source": [
    "gpd.read_file(locFilePath)"
   ]
  },
  {
   "cell_type": "code",
   "execution_count": 60,
   "metadata": {
    "scrolled": false
   },
   "outputs": [
    {
     "data": {
      "image/png": "[encoded data removed]",
      "text/plain": [
       "<Figure size 432x432 with 2 Axes>"
      ]
     },
     "metadata": {
      "needs_background": "light"
     },
     "output_type": "display_data"
    }
   ],
   "source": [
    "## 'PV'\n",
    "fig, ax = fn.plotLocationalColorMap(aggregated_esM, \n",
    "                                    'PV', \n",
    "                                    aggregated_regions_FilePath, \n",
    "                                    'space', \n",
    "                                    perArea=True)"
   ]
  },
  {
   "cell_type": "markdown",
   "metadata": {},
   "source": [
    "#### Plot operation time series (either one or two dimensional)"
   ]
  },
  {
   "cell_type": "code",
   "execution_count": 65,
   "metadata": {},
   "outputs": [
    {
     "data": {
      "image/png": "[encoded data removed]",
      "text/plain": [
       "<Figure size 864x288 with 1 Axes>"
      ]
     },
     "metadata": {
      "needs_background": "light"
     },
     "output_type": "display_data"
    }
   ],
   "source": [
    "fig, ax = fn.plotOperation(aggregated_esM, \n",
    "                           'Electricity demand', \n",
    "                           new_locations[0])"
   ]
  },
  {
   "cell_type": "markdown",
   "metadata": {},
   "source": [
    "## 10.2. Conversion Optimization Summary"
   ]
  },
  {
   "cell_type": "code",
   "execution_count": 66,
   "metadata": {},
   "outputs": [
    {
     "data": {
      "text/html": [
       "<div>\n",
       "<style scoped>\n",
       "    .dataframe tbody tr th:only-of-type {\n",
       "        vertical-align: middle;\n",
       "    }\n",
       "\n",
       "    .dataframe tbody tr th {\n",
       "        vertical-align: top;\n",
       "    }\n",
       "\n",
       "    .dataframe thead th {\n",
       "        text-align: right;\n",
       "    }\n",
       "</style>\n",
       "<table border=\"1\" class=\"dataframe\">\n",
       "  <thead>\n",
       "    <tr style=\"text-align: right;\">\n",
       "      <th></th>\n",
       "      <th></th>\n",
       "      <th></th>\n",
       "      <th>cluster_0_cluster_1_cluster_2_cluster_3_cluster_4_cluster_6</th>\n",
       "      <th>cluster_5</th>\n",
       "      <th>cluster_7</th>\n",
       "    </tr>\n",
       "    <tr>\n",
       "      <th>Component</th>\n",
       "      <th>Property</th>\n",
       "      <th>Unit</th>\n",
       "      <th></th>\n",
       "      <th></th>\n",
       "      <th></th>\n",
       "    </tr>\n",
       "  </thead>\n",
       "  <tbody>\n",
       "    <tr>\n",
       "      <th rowspan=\"7\" valign=\"top\">Electroylzers</th>\n",
       "      <th>TAC</th>\n",
       "      <th>[1e9 Euro/a]</th>\n",
       "      <td>18.73</td>\n",
       "      <td>2.2781</td>\n",
       "      <td>0.0206202</td>\n",
       "    </tr>\n",
       "    <tr>\n",
       "      <th>capacity</th>\n",
       "      <th>[GW$_{el}$]</th>\n",
       "      <td>12.363</td>\n",
       "      <td>26.1806</td>\n",
       "      <td>0.236974</td>\n",
       "    </tr>\n",
       "    <tr>\n",
       "      <th>capexCap</th>\n",
       "      <th>[1e9 Euro/a]</th>\n",
       "      <td>17.8028</td>\n",
       "      <td>1.95084</td>\n",
       "      <td>0.0176581</td>\n",
       "    </tr>\n",
       "    <tr>\n",
       "      <th>invest</th>\n",
       "      <th>[1e9 Euro]</th>\n",
       "      <td>37.0891</td>\n",
       "      <td>13.0903</td>\n",
       "      <td>0.118487</td>\n",
       "    </tr>\n",
       "    <tr>\n",
       "      <th rowspan=\"2\" valign=\"top\">operation</th>\n",
       "      <th>[GW$_{el}$*h/a]</th>\n",
       "      <td>89096.2</td>\n",
       "      <td>60107.9</td>\n",
       "      <td>2075.89</td>\n",
       "    </tr>\n",
       "    <tr>\n",
       "      <th>[GW$_{el}$*h]</th>\n",
       "      <td>89096.2</td>\n",
       "      <td>60107.9</td>\n",
       "      <td>2075.89</td>\n",
       "    </tr>\n",
       "    <tr>\n",
       "      <th>opexCap</th>\n",
       "      <th>[1e9 Euro/a]</th>\n",
       "      <td>0.927228</td>\n",
       "      <td>0.327257</td>\n",
       "      <td>0.00296217</td>\n",
       "    </tr>\n",
       "    <tr>\n",
       "      <th rowspan=\"7\" valign=\"top\">New CCGT plants (biogas)</th>\n",
       "      <th>TAC</th>\n",
       "      <th>[1e9 Euro/a]</th>\n",
       "      <td>0</td>\n",
       "      <td>0.120009</td>\n",
       "      <td>0.00723318</td>\n",
       "    </tr>\n",
       "    <tr>\n",
       "      <th>capacity</th>\n",
       "      <th>[GW$_{el}$]</th>\n",
       "      <td>0</td>\n",
       "      <td>1.46717</td>\n",
       "      <td>0.0884294</td>\n",
       "    </tr>\n",
       "    <tr>\n",
       "      <th>capexCap</th>\n",
       "      <th>[1e9 Euro/a]</th>\n",
       "      <td>0</td>\n",
       "      <td>0.0891984</td>\n",
       "      <td>0.00537617</td>\n",
       "    </tr>\n",
       "    <tr>\n",
       "      <th>invest</th>\n",
       "      <th>[1e9 Euro]</th>\n",
       "      <td>0</td>\n",
       "      <td>1.02702</td>\n",
       "      <td>0.0619006</td>\n",
       "    </tr>\n",
       "    <tr>\n",
       "      <th rowspan=\"2\" valign=\"top\">operation</th>\n",
       "      <th>[GW$_{el}$*h/a]</th>\n",
       "      <td>0</td>\n",
       "      <td>1826.63</td>\n",
       "      <td>677.723</td>\n",
       "    </tr>\n",
       "    <tr>\n",
       "      <th>[GW$_{el}$*h]</th>\n",
       "      <td>0</td>\n",
       "      <td>1826.63</td>\n",
       "      <td>677.723</td>\n",
       "    </tr>\n",
       "    <tr>\n",
       "      <th>opexCap</th>\n",
       "      <th>[1e9 Euro/a]</th>\n",
       "      <td>0</td>\n",
       "      <td>0.0308106</td>\n",
       "      <td>0.00185702</td>\n",
       "    </tr>\n",
       "    <tr>\n",
       "      <th rowspan=\"7\" valign=\"top\">New CCGT plants (hydrogen)</th>\n",
       "      <th>TAC</th>\n",
       "      <th>[1e9 Euro/a]</th>\n",
       "      <td>0</td>\n",
       "      <td>0.893929</td>\n",
       "      <td>0</td>\n",
       "    </tr>\n",
       "    <tr>\n",
       "      <th>capacity</th>\n",
       "      <th>[GW$_{el}$]</th>\n",
       "      <td>0</td>\n",
       "      <td>10.9287</td>\n",
       "      <td>0</td>\n",
       "    </tr>\n",
       "    <tr>\n",
       "      <th>capexCap</th>\n",
       "      <th>[1e9 Euro/a]</th>\n",
       "      <td>0</td>\n",
       "      <td>0.664426</td>\n",
       "      <td>0</td>\n",
       "    </tr>\n",
       "    <tr>\n",
       "      <th>invest</th>\n",
       "      <th>[1e9 Euro]</th>\n",
       "      <td>0</td>\n",
       "      <td>7.65012</td>\n",
       "      <td>0</td>\n",
       "    </tr>\n",
       "    <tr>\n",
       "      <th rowspan=\"2\" valign=\"top\">operation</th>\n",
       "      <th>[GW$_{el}$*h/a]</th>\n",
       "      <td>0</td>\n",
       "      <td>21796.9</td>\n",
       "      <td>0</td>\n",
       "    </tr>\n",
       "    <tr>\n",
       "      <th>[GW$_{el}$*h]</th>\n",
       "      <td>0</td>\n",
       "      <td>21796.9</td>\n",
       "      <td>0</td>\n",
       "    </tr>\n",
       "    <tr>\n",
       "      <th>opexCap</th>\n",
       "      <th>[1e9 Euro/a]</th>\n",
       "      <td>0</td>\n",
       "      <td>0.229504</td>\n",
       "      <td>0</td>\n",
       "    </tr>\n",
       "  </tbody>\n",
       "</table>\n",
       "</div>"
      ],
      "text/plain": [
       "                                                     cluster_0_cluster_1_cluster_2_cluster_3_cluster_4_cluster_6  \\\n",
       "Component                  Property  Unit                                                                          \n",
       "Electroylzers              TAC       [1e9 Euro/a]                                                 18.73            \n",
       "                           capacity  [GW$_{el}$]                                                 12.363            \n",
       "                           capexCap  [1e9 Euro/a]                                               17.8028            \n",
       "                           invest    [1e9 Euro]                                                 37.0891            \n",
       "                           operation [GW$_{el}$*h/a]                                            89096.2            \n",
       "                                     [GW$_{el}$*h]                                              89096.2            \n",
       "                           opexCap   [1e9 Euro/a]                                              0.927228            \n",
       "New CCGT plants (biogas)   TAC       [1e9 Euro/a]                                                     0            \n",
       "                           capacity  [GW$_{el}$]                                                      0            \n",
       "                           capexCap  [1e9 Euro/a]                                                     0            \n",
       "                           invest    [1e9 Euro]                                                       0            \n",
       "                           operation [GW$_{el}$*h/a]                                                  0            \n",
       "                                     [GW$_{el}$*h]                                                    0            \n",
       "                           opexCap   [1e9 Euro/a]                                                     0            \n",
       "New CCGT plants (hydrogen) TAC       [1e9 Euro/a]                                                     0            \n",
       "                           capacity  [GW$_{el}$]                                                      0            \n",
       "                           capexCap  [1e9 Euro/a]                                                     0            \n",
       "                           invest    [1e9 Euro]                                                       0            \n",
       "                           operation [GW$_{el}$*h/a]                                                  0            \n",
       "                                     [GW$_{el}$*h]                                                    0            \n",
       "                           opexCap   [1e9 Euro/a]                                                     0            \n",
       "\n",
       "                                                      cluster_5   cluster_7  \n",
       "Component                  Property  Unit                                    \n",
       "Electroylzers              TAC       [1e9 Euro/a]        2.2781   0.0206202  \n",
       "                           capacity  [GW$_{el}$]        26.1806    0.236974  \n",
       "                           capexCap  [1e9 Euro/a]       1.95084   0.0176581  \n",
       "                           invest    [1e9 Euro]         13.0903    0.118487  \n",
       "                           operation [GW$_{el}$*h/a]    60107.9     2075.89  \n",
       "                                     [GW$_{el}$*h]      60107.9     2075.89  \n",
       "                           opexCap   [1e9 Euro/a]      0.327257  0.00296217  \n",
       "New CCGT plants (biogas)   TAC       [1e9 Euro/a]      0.120009  0.00723318  \n",
       "                           capacity  [GW$_{el}$]        1.46717   0.0884294  \n",
       "                           capexCap  [1e9 Euro/a]     0.0891984  0.00537617  \n",
       "                           invest    [1e9 Euro]         1.02702   0.0619006  \n",
       "                           operation [GW$_{el}$*h/a]    1826.63     677.723  \n",
       "                                     [GW$_{el}$*h]      1826.63     677.723  \n",
       "                           opexCap   [1e9 Euro/a]     0.0308106  0.00185702  \n",
       "New CCGT plants (hydrogen) TAC       [1e9 Euro/a]      0.893929           0  \n",
       "                           capacity  [GW$_{el}$]        10.9287           0  \n",
       "                           capexCap  [1e9 Euro/a]      0.664426           0  \n",
       "                           invest    [1e9 Euro]         7.65012           0  \n",
       "                           operation [GW$_{el}$*h/a]    21796.9           0  \n",
       "                                     [GW$_{el}$*h]      21796.9           0  \n",
       "                           opexCap   [1e9 Euro/a]      0.229504           0  "
      ]
     },
     "execution_count": 66,
     "metadata": {},
     "output_type": "execute_result"
    }
   ],
   "source": [
    "aggregated_esM.getOptimizationSummary(\"ConversionModel\", outputLevel=2)"
   ]
  },
  {
   "cell_type": "code",
   "execution_count": 67,
   "metadata": {},
   "outputs": [
    {
     "data": {
      "image/png": "[encoded data removed]",
      "text/plain": [
       "<Figure size 864x288 with 2 Axes>"
      ]
     },
     "metadata": {
      "needs_background": "light"
     },
     "output_type": "display_data"
    }
   ],
   "source": [
    "fig, ax = fn.plotOperationColorMap(aggregated_esM, \n",
    "                                   'New CCGT plants (biogas)', \n",
    "                                   new_locations[0])"
   ]
  },
  {
   "cell_type": "markdown",
   "metadata": {},
   "source": [
    "## 10.3. Storage Optimization Summary"
   ]
  },
  {
   "cell_type": "code",
   "execution_count": 68,
   "metadata": {},
   "outputs": [
    {
     "data": {
      "text/html": [
       "<div>\n",
       "<style scoped>\n",
       "    .dataframe tbody tr th:only-of-type {\n",
       "        vertical-align: middle;\n",
       "    }\n",
       "\n",
       "    .dataframe tbody tr th {\n",
       "        vertical-align: top;\n",
       "    }\n",
       "\n",
       "    .dataframe thead th {\n",
       "        text-align: right;\n",
       "    }\n",
       "</style>\n",
       "<table border=\"1\" class=\"dataframe\">\n",
       "  <thead>\n",
       "    <tr style=\"text-align: right;\">\n",
       "      <th></th>\n",
       "      <th></th>\n",
       "      <th></th>\n",
       "      <th>cluster_0_cluster_1_cluster_2_cluster_3_cluster_4_cluster_6</th>\n",
       "      <th>cluster_5</th>\n",
       "      <th>cluster_7</th>\n",
       "    </tr>\n",
       "    <tr>\n",
       "      <th>Component</th>\n",
       "      <th>Property</th>\n",
       "      <th>Unit</th>\n",
       "      <th></th>\n",
       "      <th></th>\n",
       "      <th></th>\n",
       "    </tr>\n",
       "  </thead>\n",
       "  <tbody>\n",
       "    <tr>\n",
       "      <th rowspan=\"9\" valign=\"top\">Li-ion batteries</th>\n",
       "      <th>TAC</th>\n",
       "      <th>[1e9 Euro/a]</th>\n",
       "      <td>0</td>\n",
       "      <td>3.66821</td>\n",
       "      <td>1.04348</td>\n",
       "    </tr>\n",
       "    <tr>\n",
       "      <th>capacity</th>\n",
       "      <th>[GW$_{el}$*h]</th>\n",
       "      <td>0</td>\n",
       "      <td>218.309</td>\n",
       "      <td>62.1014</td>\n",
       "    </tr>\n",
       "    <tr>\n",
       "      <th>capexCap</th>\n",
       "      <th>[1e9 Euro/a]</th>\n",
       "      <td>0</td>\n",
       "      <td>3.23159</td>\n",
       "      <td>0.919277</td>\n",
       "    </tr>\n",
       "    <tr>\n",
       "      <th>invest</th>\n",
       "      <th>[1e9 Euro]</th>\n",
       "      <td>0</td>\n",
       "      <td>32.9646</td>\n",
       "      <td>9.37731</td>\n",
       "    </tr>\n",
       "    <tr>\n",
       "      <th rowspan=\"2\" valign=\"top\">operationCharge</th>\n",
       "      <th>[GW$_{el}$*h/a]</th>\n",
       "      <td>0</td>\n",
       "      <td>64372.5</td>\n",
       "      <td>15248.4</td>\n",
       "    </tr>\n",
       "    <tr>\n",
       "      <th>[GW$_{el}$*h]</th>\n",
       "      <td>0</td>\n",
       "      <td>64372.5</td>\n",
       "      <td>15248.4</td>\n",
       "    </tr>\n",
       "    <tr>\n",
       "      <th rowspan=\"2\" valign=\"top\">operationDischarge</th>\n",
       "      <th>[GW$_{el}$*h/a]</th>\n",
       "      <td>0</td>\n",
       "      <td>58063.1</td>\n",
       "      <td>13753</td>\n",
       "    </tr>\n",
       "    <tr>\n",
       "      <th>[GW$_{el}$*h]</th>\n",
       "      <td>0</td>\n",
       "      <td>58063.1</td>\n",
       "      <td>13753</td>\n",
       "    </tr>\n",
       "    <tr>\n",
       "      <th>opexCap</th>\n",
       "      <th>[1e9 Euro/a]</th>\n",
       "      <td>0</td>\n",
       "      <td>0.436618</td>\n",
       "      <td>0.124203</td>\n",
       "    </tr>\n",
       "    <tr>\n",
       "      <th rowspan=\"7\" valign=\"top\">Pumped hydro storage</th>\n",
       "      <th>TAC</th>\n",
       "      <th>[1e9 Euro/a]</th>\n",
       "      <td>0.047647</td>\n",
       "      <td>0.0038302</td>\n",
       "      <td>0</td>\n",
       "    </tr>\n",
       "    <tr>\n",
       "      <th>capacity</th>\n",
       "      <th>[GW$_{el}$*h]</th>\n",
       "      <td>51.903</td>\n",
       "      <td>25.034</td>\n",
       "      <td>NaN</td>\n",
       "    </tr>\n",
       "    <tr>\n",
       "      <th rowspan=\"2\" valign=\"top\">operationCharge</th>\n",
       "      <th>[GW$_{el}$*h/a]</th>\n",
       "      <td>12080.5</td>\n",
       "      <td>2881</td>\n",
       "      <td>NaN</td>\n",
       "    </tr>\n",
       "    <tr>\n",
       "      <th>[GW$_{el}$*h]</th>\n",
       "      <td>12080.5</td>\n",
       "      <td>2881</td>\n",
       "      <td>NaN</td>\n",
       "    </tr>\n",
       "    <tr>\n",
       "      <th rowspan=\"2\" valign=\"top\">operationDischarge</th>\n",
       "      <th>[GW$_{el}$*h/a]</th>\n",
       "      <td>9354.22</td>\n",
       "      <td>2230.24</td>\n",
       "      <td>NaN</td>\n",
       "    </tr>\n",
       "    <tr>\n",
       "      <th>[GW$_{el}$*h]</th>\n",
       "      <td>9354.22</td>\n",
       "      <td>2230.24</td>\n",
       "      <td>NaN</td>\n",
       "    </tr>\n",
       "    <tr>\n",
       "      <th>opexCap</th>\n",
       "      <th>[1e9 Euro/a]</th>\n",
       "      <td>0.047647</td>\n",
       "      <td>0.0038302</td>\n",
       "      <td>NaN</td>\n",
       "    </tr>\n",
       "    <tr>\n",
       "      <th rowspan=\"9\" valign=\"top\">Salt caverns (biogas)</th>\n",
       "      <th>TAC</th>\n",
       "      <th>[1e9 Euro/a]</th>\n",
       "      <td>0</td>\n",
       "      <td>0.0209227</td>\n",
       "      <td>0</td>\n",
       "    </tr>\n",
       "    <tr>\n",
       "      <th>capacity</th>\n",
       "      <th>[GW$_{biogas,LHV}$*h]</th>\n",
       "      <td>0</td>\n",
       "      <td>1543.75</td>\n",
       "      <td>NaN</td>\n",
       "    </tr>\n",
       "    <tr>\n",
       "      <th>capexCap</th>\n",
       "      <th>[1e9 Euro/a]</th>\n",
       "      <td>0</td>\n",
       "      <td>0.00548511</td>\n",
       "      <td>NaN</td>\n",
       "    </tr>\n",
       "    <tr>\n",
       "      <th>invest</th>\n",
       "      <th>[1e9 Euro]</th>\n",
       "      <td>0</td>\n",
       "      <td>0.0617502</td>\n",
       "      <td>NaN</td>\n",
       "    </tr>\n",
       "    <tr>\n",
       "      <th rowspan=\"2\" valign=\"top\">operationCharge</th>\n",
       "      <th>[GW$_{biogas,LHV}$*h/a]</th>\n",
       "      <td>0</td>\n",
       "      <td>2804.46</td>\n",
       "      <td>NaN</td>\n",
       "    </tr>\n",
       "    <tr>\n",
       "      <th>[GW$_{biogas,LHV}$*h]</th>\n",
       "      <td>0</td>\n",
       "      <td>2804.46</td>\n",
       "      <td>NaN</td>\n",
       "    </tr>\n",
       "    <tr>\n",
       "      <th rowspan=\"2\" valign=\"top\">operationDischarge</th>\n",
       "      <th>[GW$_{biogas,LHV}$*h/a]</th>\n",
       "      <td>0</td>\n",
       "      <td>2804.46</td>\n",
       "      <td>NaN</td>\n",
       "    </tr>\n",
       "    <tr>\n",
       "      <th>[GW$_{biogas,LHV}$*h]</th>\n",
       "      <td>0</td>\n",
       "      <td>2804.46</td>\n",
       "      <td>NaN</td>\n",
       "    </tr>\n",
       "    <tr>\n",
       "      <th>opexCap</th>\n",
       "      <th>[1e9 Euro/a]</th>\n",
       "      <td>0</td>\n",
       "      <td>0.0154375</td>\n",
       "      <td>NaN</td>\n",
       "    </tr>\n",
       "    <tr>\n",
       "      <th rowspan=\"9\" valign=\"top\">Salt caverns (hydrogen)</th>\n",
       "      <th>TAC</th>\n",
       "      <th>[1e9 Euro/a]</th>\n",
       "      <td>6.03212</td>\n",
       "      <td>8.58801</td>\n",
       "      <td>0</td>\n",
       "    </tr>\n",
       "    <tr>\n",
       "      <th>capacity</th>\n",
       "      <th>[GW$_{H_{2},LHV}$*h]</th>\n",
       "      <td>1614.25</td>\n",
       "      <td>14812.8</td>\n",
       "      <td>NaN</td>\n",
       "    </tr>\n",
       "    <tr>\n",
       "      <th>capexCap</th>\n",
       "      <th>[1e9 Euro/a]</th>\n",
       "      <td>0.511393</td>\n",
       "      <td>0.144736</td>\n",
       "      <td>NaN</td>\n",
       "    </tr>\n",
       "    <tr>\n",
       "      <th>invest</th>\n",
       "      <th>[1e9 Euro]</th>\n",
       "      <td>1.0654</td>\n",
       "      <td>1.6294</td>\n",
       "      <td>NaN</td>\n",
       "    </tr>\n",
       "    <tr>\n",
       "      <th rowspan=\"2\" valign=\"top\">operationCharge</th>\n",
       "      <th>[GW$_{H_{2},LHV}$*h/a]</th>\n",
       "      <td>9138.5</td>\n",
       "      <td>40157.1</td>\n",
       "      <td>NaN</td>\n",
       "    </tr>\n",
       "    <tr>\n",
       "      <th>[GW$_{H_{2},LHV}$*h]</th>\n",
       "      <td>9138.5</td>\n",
       "      <td>40157.1</td>\n",
       "      <td>NaN</td>\n",
       "    </tr>\n",
       "    <tr>\n",
       "      <th rowspan=\"2\" valign=\"top\">operationDischarge</th>\n",
       "      <th>[GW$_{H_{2},LHV}$*h/a]</th>\n",
       "      <td>9138.5</td>\n",
       "      <td>40157.1</td>\n",
       "      <td>NaN</td>\n",
       "    </tr>\n",
       "    <tr>\n",
       "      <th>[GW$_{H_{2},LHV}$*h]</th>\n",
       "      <td>9138.5</td>\n",
       "      <td>40157.1</td>\n",
       "      <td>NaN</td>\n",
       "    </tr>\n",
       "    <tr>\n",
       "      <th>opexCap</th>\n",
       "      <th>[1e9 Euro/a]</th>\n",
       "      <td>5.52072</td>\n",
       "      <td>8.44327</td>\n",
       "      <td>NaN</td>\n",
       "    </tr>\n",
       "  </tbody>\n",
       "</table>\n",
       "</div>"
      ],
      "text/plain": [
       "                                                                   cluster_0_cluster_1_cluster_2_cluster_3_cluster_4_cluster_6  \\\n",
       "Component               Property           Unit                                                                                  \n",
       "Li-ion batteries        TAC                [1e9 Euro/a]                                                             0            \n",
       "                        capacity           [GW$_{el}$*h]                                                            0            \n",
       "                        capexCap           [1e9 Euro/a]                                                             0            \n",
       "                        invest             [1e9 Euro]                                                               0            \n",
       "                        operationCharge    [GW$_{el}$*h/a]                                                          0            \n",
       "                                           [GW$_{el}$*h]                                                            0            \n",
       "                        operationDischarge [GW$_{el}$*h/a]                                                          0            \n",
       "                                           [GW$_{el}$*h]                                                            0            \n",
       "                        opexCap            [1e9 Euro/a]                                                             0            \n",
       "Pumped hydro storage    TAC                [1e9 Euro/a]                                                      0.047647            \n",
       "                        capacity           [GW$_{el}$*h]                                                       51.903            \n",
       "                        operationCharge    [GW$_{el}$*h/a]                                                    12080.5            \n",
       "                                           [GW$_{el}$*h]                                                      12080.5            \n",
       "                        operationDischarge [GW$_{el}$*h/a]                                                    9354.22            \n",
       "                                           [GW$_{el}$*h]                                                      9354.22            \n",
       "                        opexCap            [1e9 Euro/a]                                                      0.047647            \n",
       "Salt caverns (biogas)   TAC                [1e9 Euro/a]                                                             0            \n",
       "                        capacity           [GW$_{biogas,LHV}$*h]                                                    0            \n",
       "                        capexCap           [1e9 Euro/a]                                                             0            \n",
       "                        invest             [1e9 Euro]                                                               0            \n",
       "                        operationCharge    [GW$_{biogas,LHV}$*h/a]                                                  0            \n",
       "                                           [GW$_{biogas,LHV}$*h]                                                    0            \n",
       "                        operationDischarge [GW$_{biogas,LHV}$*h/a]                                                  0            \n",
       "                                           [GW$_{biogas,LHV}$*h]                                                    0            \n",
       "                        opexCap            [1e9 Euro/a]                                                             0            \n",
       "Salt caverns (hydrogen) TAC                [1e9 Euro/a]                                                       6.03212            \n",
       "                        capacity           [GW$_{H_{2},LHV}$*h]                                               1614.25            \n",
       "                        capexCap           [1e9 Euro/a]                                                      0.511393            \n",
       "                        invest             [1e9 Euro]                                                          1.0654            \n",
       "                        operationCharge    [GW$_{H_{2},LHV}$*h/a]                                              9138.5            \n",
       "                                           [GW$_{H_{2},LHV}$*h]                                                9138.5            \n",
       "                        operationDischarge [GW$_{H_{2},LHV}$*h/a]                                              9138.5            \n",
       "                                           [GW$_{H_{2},LHV}$*h]                                                9138.5            \n",
       "                        opexCap            [1e9 Euro/a]                                                       5.52072            \n",
       "\n",
       "                                                                     cluster_5  \\\n",
       "Component               Property           Unit                                  \n",
       "Li-ion batteries        TAC                [1e9 Euro/a]                3.66821   \n",
       "                        capacity           [GW$_{el}$*h]               218.309   \n",
       "                        capexCap           [1e9 Euro/a]                3.23159   \n",
       "                        invest             [1e9 Euro]                  32.9646   \n",
       "                        operationCharge    [GW$_{el}$*h/a]             64372.5   \n",
       "                                           [GW$_{el}$*h]               64372.5   \n",
       "                        operationDischarge [GW$_{el}$*h/a]             58063.1   \n",
       "                                           [GW$_{el}$*h]               58063.1   \n",
       "                        opexCap            [1e9 Euro/a]               0.436618   \n",
       "Pumped hydro storage    TAC                [1e9 Euro/a]              0.0038302   \n",
       "                        capacity           [GW$_{el}$*h]                25.034   \n",
       "                        operationCharge    [GW$_{el}$*h/a]                2881   \n",
       "                                           [GW$_{el}$*h]                  2881   \n",
       "                        operationDischarge [GW$_{el}$*h/a]             2230.24   \n",
       "                                           [GW$_{el}$*h]               2230.24   \n",
       "                        opexCap            [1e9 Euro/a]              0.0038302   \n",
       "Salt caverns (biogas)   TAC                [1e9 Euro/a]              0.0209227   \n",
       "                        capacity           [GW$_{biogas,LHV}$*h]       1543.75   \n",
       "                        capexCap           [1e9 Euro/a]             0.00548511   \n",
       "                        invest             [1e9 Euro]                0.0617502   \n",
       "                        operationCharge    [GW$_{biogas,LHV}$*h/a]     2804.46   \n",
       "                                           [GW$_{biogas,LHV}$*h]       2804.46   \n",
       "                        operationDischarge [GW$_{biogas,LHV}$*h/a]     2804.46   \n",
       "                                           [GW$_{biogas,LHV}$*h]       2804.46   \n",
       "                        opexCap            [1e9 Euro/a]              0.0154375   \n",
       "Salt caverns (hydrogen) TAC                [1e9 Euro/a]                8.58801   \n",
       "                        capacity           [GW$_{H_{2},LHV}$*h]        14812.8   \n",
       "                        capexCap           [1e9 Euro/a]               0.144736   \n",
       "                        invest             [1e9 Euro]                   1.6294   \n",
       "                        operationCharge    [GW$_{H_{2},LHV}$*h/a]      40157.1   \n",
       "                                           [GW$_{H_{2},LHV}$*h]        40157.1   \n",
       "                        operationDischarge [GW$_{H_{2},LHV}$*h/a]      40157.1   \n",
       "                                           [GW$_{H_{2},LHV}$*h]        40157.1   \n",
       "                        opexCap            [1e9 Euro/a]                8.44327   \n",
       "\n",
       "                                                                   cluster_7  \n",
       "Component               Property           Unit                               \n",
       "Li-ion batteries        TAC                [1e9 Euro/a]              1.04348  \n",
       "                        capacity           [GW$_{el}$*h]             62.1014  \n",
       "                        capexCap           [1e9 Euro/a]             0.919277  \n",
       "                        invest             [1e9 Euro]                9.37731  \n",
       "                        operationCharge    [GW$_{el}$*h/a]           15248.4  \n",
       "                                           [GW$_{el}$*h]             15248.4  \n",
       "                        operationDischarge [GW$_{el}$*h/a]             13753  \n",
       "                                           [GW$_{el}$*h]               13753  \n",
       "                        opexCap            [1e9 Euro/a]             0.124203  \n",
       "Pumped hydro storage    TAC                [1e9 Euro/a]                    0  \n",
       "                        capacity           [GW$_{el}$*h]                 NaN  \n",
       "                        operationCharge    [GW$_{el}$*h/a]               NaN  \n",
       "                                           [GW$_{el}$*h]                 NaN  \n",
       "                        operationDischarge [GW$_{el}$*h/a]               NaN  \n",
       "                                           [GW$_{el}$*h]                 NaN  \n",
       "                        opexCap            [1e9 Euro/a]                  NaN  \n",
       "Salt caverns (biogas)   TAC                [1e9 Euro/a]                    0  \n",
       "                        capacity           [GW$_{biogas,LHV}$*h]         NaN  \n",
       "                        capexCap           [1e9 Euro/a]                  NaN  \n",
       "                        invest             [1e9 Euro]                    NaN  \n",
       "                        operationCharge    [GW$_{biogas,LHV}$*h/a]       NaN  \n",
       "                                           [GW$_{biogas,LHV}$*h]         NaN  \n",
       "                        operationDischarge [GW$_{biogas,LHV}$*h/a]       NaN  \n",
       "                                           [GW$_{biogas,LHV}$*h]         NaN  \n",
       "                        opexCap            [1e9 Euro/a]                  NaN  \n",
       "Salt caverns (hydrogen) TAC                [1e9 Euro/a]                    0  \n",
       "                        capacity           [GW$_{H_{2},LHV}$*h]          NaN  \n",
       "                        capexCap           [1e9 Euro/a]                  NaN  \n",
       "                        invest             [1e9 Euro]                    NaN  \n",
       "                        operationCharge    [GW$_{H_{2},LHV}$*h/a]        NaN  \n",
       "                                           [GW$_{H_{2},LHV}$*h]          NaN  \n",
       "                        operationDischarge [GW$_{H_{2},LHV}$*h/a]        NaN  \n",
       "                                           [GW$_{H_{2},LHV}$*h]          NaN  \n",
       "                        opexCap            [1e9 Euro/a]                  NaN  "
      ]
     },
     "execution_count": 68,
     "metadata": {},
     "output_type": "execute_result"
    }
   ],
   "source": [
    "aggregated_esM.getOptimizationSummary(\"StorageModel\", outputLevel=2)"
   ]
  },
  {
   "cell_type": "code",
   "execution_count": 69,
   "metadata": {},
   "outputs": [
    {
     "data": {
      "image/png": "[encoded data removed]",
      "text/plain": [
       "<Figure size 864x288 with 2 Axes>"
      ]
     },
     "metadata": {
      "needs_background": "light"
     },
     "output_type": "display_data"
    }
   ],
   "source": [
    "fig, ax = fn.plotOperationColorMap(aggregated_esM, \n",
    "                                   'Li-ion batteries', \n",
    "                                   new_locations[0], \n",
    "                                   variableName='stateOfChargeOperationVariablesOptimum')"
   ]
  },
  {
   "cell_type": "code",
   "execution_count": 70,
   "metadata": {},
   "outputs": [
    {
     "data": {
      "image/png": "[encoded data removed]",
      "text/plain": [
       "<Figure size 864x288 with 2 Axes>"
      ]
     },
     "metadata": {
      "needs_background": "light"
     },
     "output_type": "display_data"
    }
   ],
   "source": [
    "fig, ax = fn.plotOperationColorMap(aggregated_esM, \n",
    "                                   'Pumped hydro storage', \n",
    "                                   new_locations[0],\n",
    "                                  variableName='stateOfChargeOperationVariablesOptimum')"
   ]
  },
  {
   "cell_type": "code",
   "execution_count": 71,
   "metadata": {},
   "outputs": [
    {
     "data": {
      "image/png": "[encoded data removed]",
      "text/plain": [
       "<Figure size 864x288 with 2 Axes>"
      ]
     },
     "metadata": {
      "needs_background": "light"
     },
     "output_type": "display_data"
    }
   ],
   "source": [
    "fig, ax = fn.plotOperationColorMap(aggregated_esM, \n",
    "                                   'Salt caverns (biogas)', \n",
    "                                   new_locations[0],\n",
    "                                  variableName='stateOfChargeOperationVariablesOptimum')"
   ]
  },
  {
   "cell_type": "code",
   "execution_count": 72,
   "metadata": {},
   "outputs": [
    {
     "data": {
      "image/png": "[encoded data removed]",
      "text/plain": [
       "<Figure size 864x288 with 2 Axes>"
      ]
     },
     "metadata": {
      "needs_background": "light"
     },
     "output_type": "display_data"
    }
   ],
   "source": [
    "fig, ax = fn.plotOperationColorMap(aggregated_esM, \n",
    "                                   'Salt caverns (hydrogen)', \n",
    "                                   new_locations[0],\n",
    "                                  variableName='stateOfChargeOperationVariablesOptimum')"
   ]
  },
  {
   "cell_type": "markdown",
   "metadata": {},
   "source": [
    "## 10.4. Transmission Optimization Summary"
   ]
  },
  {
   "cell_type": "code",
   "execution_count": 73,
   "metadata": {
    "scrolled": false
   },
   "outputs": [
    {
     "data": {
      "text/html": [
       "<div>\n",
       "<style scoped>\n",
       "    .dataframe tbody tr th:only-of-type {\n",
       "        vertical-align: middle;\n",
       "    }\n",
       "\n",
       "    .dataframe tbody tr th {\n",
       "        vertical-align: top;\n",
       "    }\n",
       "\n",
       "    .dataframe thead th {\n",
       "        text-align: right;\n",
       "    }\n",
       "</style>\n",
       "<table border=\"1\" class=\"dataframe\">\n",
       "  <thead>\n",
       "    <tr style=\"text-align: right;\">\n",
       "      <th></th>\n",
       "      <th></th>\n",
       "      <th></th>\n",
       "      <th></th>\n",
       "      <th>cluster_0_cluster_1_cluster_2_cluster_3_cluster_4_cluster_6</th>\n",
       "      <th>cluster_5</th>\n",
       "      <th>cluster_7</th>\n",
       "    </tr>\n",
       "    <tr>\n",
       "      <th>Component</th>\n",
       "      <th>Property</th>\n",
       "      <th>Unit</th>\n",
       "      <th>LocationIn</th>\n",
       "      <th></th>\n",
       "      <th></th>\n",
       "      <th></th>\n",
       "    </tr>\n",
       "  </thead>\n",
       "  <tbody>\n",
       "    <tr>\n",
       "      <th rowspan=\"9\" valign=\"top\">AC cables</th>\n",
       "      <th rowspan=\"3\" valign=\"top\">capacity</th>\n",
       "      <th rowspan=\"3\" valign=\"top\">[GW$_{el}$]</th>\n",
       "      <th>cluster_0_cluster_1_cluster_2_cluster_3_cluster_4_cluster_6</th>\n",
       "      <td>NaN</td>\n",
       "      <td>23</td>\n",
       "      <td>5.5</td>\n",
       "    </tr>\n",
       "    <tr>\n",
       "      <th>cluster_5</th>\n",
       "      <td>23</td>\n",
       "      <td>NaN</td>\n",
       "      <td>NaN</td>\n",
       "    </tr>\n",
       "    <tr>\n",
       "      <th>cluster_7</th>\n",
       "      <td>5.5</td>\n",
       "      <td>NaN</td>\n",
       "      <td>NaN</td>\n",
       "    </tr>\n",
       "    <tr>\n",
       "      <th rowspan=\"6\" valign=\"top\">operation</th>\n",
       "      <th rowspan=\"3\" valign=\"top\">[GW$_{el}$*h/a]</th>\n",
       "      <th>cluster_0_cluster_1_cluster_2_cluster_3_cluster_4_cluster_6</th>\n",
       "      <td>NaN</td>\n",
       "      <td>61004.7</td>\n",
       "      <td>15994.9</td>\n",
       "    </tr>\n",
       "    <tr>\n",
       "      <th>cluster_5</th>\n",
       "      <td>91092.3</td>\n",
       "      <td>NaN</td>\n",
       "      <td>NaN</td>\n",
       "    </tr>\n",
       "    <tr>\n",
       "      <th>cluster_7</th>\n",
       "      <td>16026.9</td>\n",
       "      <td>NaN</td>\n",
       "      <td>NaN</td>\n",
       "    </tr>\n",
       "    <tr>\n",
       "      <th rowspan=\"3\" valign=\"top\">[GW$_{el}$*h]</th>\n",
       "      <th>cluster_0_cluster_1_cluster_2_cluster_3_cluster_4_cluster_6</th>\n",
       "      <td>NaN</td>\n",
       "      <td>61004.7</td>\n",
       "      <td>15994.9</td>\n",
       "    </tr>\n",
       "    <tr>\n",
       "      <th>cluster_5</th>\n",
       "      <td>91092.3</td>\n",
       "      <td>NaN</td>\n",
       "      <td>NaN</td>\n",
       "    </tr>\n",
       "    <tr>\n",
       "      <th>cluster_7</th>\n",
       "      <td>16026.9</td>\n",
       "      <td>NaN</td>\n",
       "      <td>NaN</td>\n",
       "    </tr>\n",
       "    <tr>\n",
       "      <th rowspan=\"6\" valign=\"top\">DC cables</th>\n",
       "      <th rowspan=\"2\" valign=\"top\">capacity</th>\n",
       "      <th rowspan=\"2\" valign=\"top\">[GW$_{el}$]</th>\n",
       "      <th>cluster_0_cluster_1_cluster_2_cluster_3_cluster_4_cluster_6</th>\n",
       "      <td>NaN</td>\n",
       "      <td>4</td>\n",
       "      <td>NaN</td>\n",
       "    </tr>\n",
       "    <tr>\n",
       "      <th>cluster_5</th>\n",
       "      <td>4</td>\n",
       "      <td>NaN</td>\n",
       "      <td>NaN</td>\n",
       "    </tr>\n",
       "    <tr>\n",
       "      <th rowspan=\"4\" valign=\"top\">operation</th>\n",
       "      <th rowspan=\"2\" valign=\"top\">[GW$_{el}$*h/a]</th>\n",
       "      <th>cluster_0_cluster_1_cluster_2_cluster_3_cluster_4_cluster_6</th>\n",
       "      <td>NaN</td>\n",
       "      <td>7526.79</td>\n",
       "      <td>NaN</td>\n",
       "    </tr>\n",
       "    <tr>\n",
       "      <th>cluster_5</th>\n",
       "      <td>5260.08</td>\n",
       "      <td>NaN</td>\n",
       "      <td>NaN</td>\n",
       "    </tr>\n",
       "    <tr>\n",
       "      <th rowspan=\"2\" valign=\"top\">[GW$_{el}$*h]</th>\n",
       "      <th>cluster_0_cluster_1_cluster_2_cluster_3_cluster_4_cluster_6</th>\n",
       "      <td>NaN</td>\n",
       "      <td>7526.79</td>\n",
       "      <td>NaN</td>\n",
       "    </tr>\n",
       "    <tr>\n",
       "      <th>cluster_5</th>\n",
       "      <td>5260.08</td>\n",
       "      <td>NaN</td>\n",
       "      <td>NaN</td>\n",
       "    </tr>\n",
       "  </tbody>\n",
       "</table>\n",
       "</div>"
      ],
      "text/plain": [
       "                                                                                       cluster_0_cluster_1_cluster_2_cluster_3_cluster_4_cluster_6  \\\n",
       "Component Property  Unit            LocationIn                                                                                                       \n",
       "AC cables capacity  [GW$_{el}$]     cluster_0_cluster_1_cluster_2_cluster_3_cluster...                                                NaN            \n",
       "                                    cluster_5                                                                                          23            \n",
       "                                    cluster_7                                                                                         5.5            \n",
       "          operation [GW$_{el}$*h/a] cluster_0_cluster_1_cluster_2_cluster_3_cluster...                                                NaN            \n",
       "                                    cluster_5                                                                                     91092.3            \n",
       "                                    cluster_7                                                                                     16026.9            \n",
       "                    [GW$_{el}$*h]   cluster_0_cluster_1_cluster_2_cluster_3_cluster...                                                NaN            \n",
       "                                    cluster_5                                                                                     91092.3            \n",
       "                                    cluster_7                                                                                     16026.9            \n",
       "DC cables capacity  [GW$_{el}$]     cluster_0_cluster_1_cluster_2_cluster_3_cluster...                                                NaN            \n",
       "                                    cluster_5                                                                                           4            \n",
       "          operation [GW$_{el}$*h/a] cluster_0_cluster_1_cluster_2_cluster_3_cluster...                                                NaN            \n",
       "                                    cluster_5                                                                                     5260.08            \n",
       "                    [GW$_{el}$*h]   cluster_0_cluster_1_cluster_2_cluster_3_cluster...                                                NaN            \n",
       "                                    cluster_5                                                                                     5260.08            \n",
       "\n",
       "                                                                                       cluster_5  \\\n",
       "Component Property  Unit            LocationIn                                                     \n",
       "AC cables capacity  [GW$_{el}$]     cluster_0_cluster_1_cluster_2_cluster_3_cluster...        23   \n",
       "                                    cluster_5                                                NaN   \n",
       "                                    cluster_7                                                NaN   \n",
       "          operation [GW$_{el}$*h/a] cluster_0_cluster_1_cluster_2_cluster_3_cluster...   61004.7   \n",
       "                                    cluster_5                                                NaN   \n",
       "                                    cluster_7                                                NaN   \n",
       "                    [GW$_{el}$*h]   cluster_0_cluster_1_cluster_2_cluster_3_cluster...   61004.7   \n",
       "                                    cluster_5                                                NaN   \n",
       "                                    cluster_7                                                NaN   \n",
       "DC cables capacity  [GW$_{el}$]     cluster_0_cluster_1_cluster_2_cluster_3_cluster...         4   \n",
       "                                    cluster_5                                                NaN   \n",
       "          operation [GW$_{el}$*h/a] cluster_0_cluster_1_cluster_2_cluster_3_cluster...   7526.79   \n",
       "                                    cluster_5                                                NaN   \n",
       "                    [GW$_{el}$*h]   cluster_0_cluster_1_cluster_2_cluster_3_cluster...   7526.79   \n",
       "                                    cluster_5                                                NaN   \n",
       "\n",
       "                                                                                       cluster_7  \n",
       "Component Property  Unit            LocationIn                                                    \n",
       "AC cables capacity  [GW$_{el}$]     cluster_0_cluster_1_cluster_2_cluster_3_cluster...       5.5  \n",
       "                                    cluster_5                                                NaN  \n",
       "                                    cluster_7                                                NaN  \n",
       "          operation [GW$_{el}$*h/a] cluster_0_cluster_1_cluster_2_cluster_3_cluster...   15994.9  \n",
       "                                    cluster_5                                                NaN  \n",
       "                                    cluster_7                                                NaN  \n",
       "                    [GW$_{el}$*h]   cluster_0_cluster_1_cluster_2_cluster_3_cluster...   15994.9  \n",
       "                                    cluster_5                                                NaN  \n",
       "                                    cluster_7                                                NaN  \n",
       "DC cables capacity  [GW$_{el}$]     cluster_0_cluster_1_cluster_2_cluster_3_cluster...       NaN  \n",
       "                                    cluster_5                                                NaN  \n",
       "          operation [GW$_{el}$*h/a] cluster_0_cluster_1_cluster_2_cluster_3_cluster...       NaN  \n",
       "                                    cluster_5                                                NaN  \n",
       "                    [GW$_{el}$*h]   cluster_0_cluster_1_cluster_2_cluster_3_cluster...       NaN  \n",
       "                                    cluster_5                                                NaN  "
      ]
     },
     "execution_count": 73,
     "metadata": {},
     "output_type": "execute_result"
    }
   ],
   "source": [
    "#TODO: check why 'Pipelines' are not present here (they are present after spatial aggregation)\n",
    "aggregated_esM.getOptimizationSummary(\"TransmissionModel\", outputLevel=2)"
   ]
  },
  {
   "cell_type": "markdown",
   "metadata": {},
   "source": [
    "Check that the shared capacity of the pipelines are not exceeded"
   ]
  },
  {
   "cell_type": "code",
   "execution_count": 75,
   "metadata": {},
   "outputs": [
    {
     "data": {
      "text/html": [
       "<div>\n",
       "<style scoped>\n",
       "    .dataframe tbody tr th:only-of-type {\n",
       "        vertical-align: middle;\n",
       "    }\n",
       "\n",
       "    .dataframe tbody tr th {\n",
       "        vertical-align: top;\n",
       "    }\n",
       "\n",
       "    .dataframe thead th {\n",
       "        text-align: right;\n",
       "    }\n",
       "</style>\n",
       "<table border=\"1\" class=\"dataframe\">\n",
       "  <thead>\n",
       "    <tr style=\"text-align: right;\">\n",
       "      <th></th>\n",
       "      <th>cluster_0_cluster_1_cluster_2_cluster_3_cluster_4_cluster_6</th>\n",
       "      <th>cluster_5</th>\n",
       "      <th>cluster_7</th>\n",
       "    </tr>\n",
       "  </thead>\n",
       "  <tbody>\n",
       "    <tr>\n",
       "      <th>cluster_0_cluster_1_cluster_2_cluster_3_cluster_4_cluster_6</th>\n",
       "      <td>NaN</td>\n",
       "      <td>0.0</td>\n",
       "      <td>0.0</td>\n",
       "    </tr>\n",
       "    <tr>\n",
       "      <th>cluster_5</th>\n",
       "      <td>0.0</td>\n",
       "      <td>NaN</td>\n",
       "      <td>NaN</td>\n",
       "    </tr>\n",
       "    <tr>\n",
       "      <th>cluster_7</th>\n",
       "      <td>0.0</td>\n",
       "      <td>NaN</td>\n",
       "      <td>NaN</td>\n",
       "    </tr>\n",
       "  </tbody>\n",
       "</table>\n",
       "</div>"
      ],
      "text/plain": [
       "                                                    cluster_0_cluster_1_cluster_2_cluster_3_cluster_4_cluster_6  \\\n",
       "cluster_0_cluster_1_cluster_2_cluster_3_cluster...                                                NaN             \n",
       "cluster_5                                                                                         0.0             \n",
       "cluster_7                                                                                         0.0             \n",
       "\n",
       "                                                    cluster_5  cluster_7  \n",
       "cluster_0_cluster_1_cluster_2_cluster_3_cluster...        0.0        0.0  \n",
       "cluster_5                                                 NaN        NaN  \n",
       "cluster_7                                                 NaN        NaN  "
      ]
     },
     "execution_count": 75,
     "metadata": {},
     "output_type": "execute_result"
    }
   ],
   "source": [
    "df = aggregated_esM.componentModelingDict[\"TransmissionModel\"].capacityVariablesOptimum\n",
    "df.loc['Pipelines (biogas)']+df.loc['Pipelines (hydrogen)']"
   ]
  }
 ],
 "metadata": {
  "anaconda-cloud": {},
  "kernelspec": {
   "display_name": "Python 3",
   "language": "python",
   "name": "python3"
  },
  "language_info": {
   "codemirror_mode": {
    "name": "ipython",
    "version": 3
   },
   "file_extension": ".py",
   "mimetype": "text/x-python",
   "name": "python",
   "nbconvert_exporter": "python",
   "pygments_lexer": "ipython3",
   "version": "3.7.8"
  }
 },
 "nbformat": 4,
 "nbformat_minor": 1
}
