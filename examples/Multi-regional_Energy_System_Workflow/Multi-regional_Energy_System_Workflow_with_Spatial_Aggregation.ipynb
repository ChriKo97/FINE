{
 "cells": [
  {
   "cell_type": "markdown",
   "metadata": {},
   "source": [
    "# Workflow for a multi-regional energy system\n",
    "\n",
    "In this application of the FINE framework, a multi-regional energy system is modeled and optimized.\n",
    "\n",
    "All classes which are available to the user are utilized and examples of the selection of different parameters within these classes are given.\n",
    "\n",
    "The workflow is structures as follows:\n",
    "1. Required packages are imported and the input data path is set\n",
    "2. An energy system model instance is created\n",
    "3. Commodity sources are added to the energy system model\n",
    "4. Commodity conversion components are added to the energy system model\n",
    "5. Commodity storages are added to the energy system model\n",
    "6. Commodity transmission components are added to the energy system model\n",
    "7. Commodity sinks are added to the energy system model\n",
    "8. The energy system model is optimized\n",
    "9. Selected optimization results are presented\n"
   ]
  },
  {
   "cell_type": "markdown",
   "metadata": {},
   "source": [
    "# 1. Import required packages and set input data path\n",
    "\n",
    "The FINE framework is imported which provides the required classes and functions for modeling the energy system."
   ]
  },
  {
   "cell_type": "code",
   "execution_count": 1,
   "metadata": {},
   "outputs": [],
   "source": [
    "import FINE as fn\n",
    "from getData import getData\n",
    "import os\n",
    "cwd = os.getcwd()\n",
    "data = getData()\n",
    "\n",
    "%matplotlib inline  \n",
    "%load_ext autoreload\n",
    "%autoreload 2"
   ]
  },
  {
   "cell_type": "markdown",
   "metadata": {},
   "source": [
    "# 2. Create an energy system model instance \n",
    "\n",
    "The structure of the energy system model is given by the considered locations, commodities, the number of time steps as well as the hours per time step.\n",
    "\n",
    "The commodities are specified by a unit (i.e. 'GW_electric', 'GW_H2lowerHeatingValue', 'Mio. t CO2/h') which can be given as an energy or mass unit per hour. Furthermore, the cost unit and length unit are specified."
   ]
  },
  {
   "cell_type": "code",
   "execution_count": 2,
   "metadata": {},
   "outputs": [],
   "source": [
    "locations = {'cluster_0', 'cluster_1', 'cluster_2', 'cluster_3', 'cluster_4', 'cluster_5', 'cluster_6', 'cluster_7'}\n",
    "commodityUnitDict = {'electricity': r'GW$_{el}$', 'methane': r'GW$_{CH_{4},LHV}$', 'biogas': r'GW$_{biogas,LHV}$',\n",
    "                     'CO2': r'Mio. t$_{CO_2}$/h', 'hydrogen': r'GW$_{H_{2},LHV}$'}\n",
    "commodities = {'electricity', 'hydrogen', 'methane', 'biogas', 'CO2'}\n",
    "numberOfTimeSteps=8760\n",
    "hoursPerTimeStep=1"
   ]
  },
  {
   "cell_type": "code",
   "execution_count": 3,
   "metadata": {},
   "outputs": [],
   "source": [
    "esM = fn.EnergySystemModel(locations=locations, commodities=commodities, numberOfTimeSteps=8760,\n",
    "                           commodityUnitsDict=commodityUnitDict,\n",
    "                           hoursPerTimeStep=1, costUnit='1e9 Euro', lengthUnit='km', verboseLogLevel=0)"
   ]
  },
  {
   "cell_type": "code",
   "execution_count": 4,
   "metadata": {},
   "outputs": [],
   "source": [
    "CO2_reductionTarget = 1"
   ]
  },
  {
   "cell_type": "markdown",
   "metadata": {},
   "source": [
    "# 3. Add commodity sources to the energy system model"
   ]
  },
  {
   "cell_type": "markdown",
   "metadata": {},
   "source": [
    "## 3.1. Electricity sources"
   ]
  },
  {
   "cell_type": "markdown",
   "metadata": {},
   "source": [
    "### Wind onshore"
   ]
  },
  {
   "cell_type": "code",
   "execution_count": 5,
   "metadata": {},
   "outputs": [],
   "source": [
    "esM.add(fn.Source(esM=esM, name='Wind (onshore)', commodity='electricity', hasCapacityVariable=True,\n",
    "                  operationRateMax=data['Wind (onshore), operationRateMax'],\n",
    "                  capacityMax=data['Wind (onshore), capacityMax'],\n",
    "                  investPerCapacity=1.1, opexPerCapacity=1.1*0.02, interestRate=0.08,\n",
    "                  economicLifetime=20))"
   ]
  },
  {
   "cell_type": "markdown",
   "metadata": {},
   "source": [
    "Full load hours:"
   ]
  },
  {
   "cell_type": "code",
   "execution_count": 6,
   "metadata": {},
   "outputs": [
    {
     "data": {
      "text/plain": [
       "cluster_0    1572.003960\n",
       "cluster_1    2350.292663\n",
       "cluster_2    2374.507270\n",
       "cluster_3    2186.572278\n",
       "cluster_4    1572.650655\n",
       "cluster_5    1767.840650\n",
       "cluster_6    2719.564564\n",
       "cluster_7    1553.045964\n",
       "dtype: float64"
      ]
     },
     "execution_count": 6,
     "metadata": {},
     "output_type": "execute_result"
    }
   ],
   "source": [
    "data['Wind (onshore), operationRateMax'].sum()"
   ]
  },
  {
   "cell_type": "markdown",
   "metadata": {},
   "source": [
    "### Wind offshore"
   ]
  },
  {
   "cell_type": "code",
   "execution_count": 7,
   "metadata": {},
   "outputs": [],
   "source": [
    "esM.add(fn.Source(esM=esM, name='Wind (offshore)', commodity='electricity', hasCapacityVariable=True,\n",
    "                  operationRateMax=data['Wind (offshore), operationRateMax'],\n",
    "                  capacityMax=data['Wind (offshore), capacityMax'],\n",
    "                  investPerCapacity=2.3, opexPerCapacity=2.3*0.02, interestRate=0.08,\n",
    "                  economicLifetime=20))"
   ]
  },
  {
   "cell_type": "markdown",
   "metadata": {},
   "source": [
    "Full load hours:"
   ]
  },
  {
   "cell_type": "code",
   "execution_count": 8,
   "metadata": {},
   "outputs": [
    {
     "data": {
      "text/plain": [
       "cluster_0       0.000000\n",
       "cluster_1    4435.420314\n",
       "cluster_2    4301.655834\n",
       "cluster_3    3902.391858\n",
       "cluster_4       0.000000\n",
       "cluster_5       0.000000\n",
       "cluster_6    4609.508396\n",
       "cluster_7       0.000000\n",
       "dtype: float64"
      ]
     },
     "execution_count": 8,
     "metadata": {},
     "output_type": "execute_result"
    }
   ],
   "source": [
    "data['Wind (offshore), operationRateMax'].sum()"
   ]
  },
  {
   "cell_type": "markdown",
   "metadata": {},
   "source": [
    "### PV"
   ]
  },
  {
   "cell_type": "code",
   "execution_count": 9,
   "metadata": {},
   "outputs": [],
   "source": [
    "esM.add(fn.Source(esM=esM, name='PV', commodity='electricity', hasCapacityVariable=True,\n",
    "                  operationRateMax=data['PV, operationRateMax'], capacityMax=data['PV, capacityMax'],\n",
    "                  investPerCapacity=0.65, opexPerCapacity=0.65*0.02, interestRate=0.08,\n",
    "                  economicLifetime=25))"
   ]
  },
  {
   "cell_type": "markdown",
   "metadata": {},
   "source": [
    "Full load hours:"
   ]
  },
  {
   "cell_type": "code",
   "execution_count": 10,
   "metadata": {},
   "outputs": [
    {
     "data": {
      "text/plain": [
       "cluster_0    1113.216464\n",
       "cluster_1    1053.579422\n",
       "cluster_2    1058.005181\n",
       "cluster_3    1079.872237\n",
       "cluster_4    1140.407380\n",
       "cluster_5    1051.848141\n",
       "cluster_6    1069.843344\n",
       "cluster_7    1085.697466\n",
       "dtype: float64"
      ]
     },
     "execution_count": 10,
     "metadata": {},
     "output_type": "execute_result"
    }
   ],
   "source": [
    "data['PV, operationRateMax'].sum()"
   ]
  },
  {
   "cell_type": "markdown",
   "metadata": {},
   "source": [
    "### Exisisting run-of-river hydroelectricity plants"
   ]
  },
  {
   "cell_type": "code",
   "execution_count": 11,
   "metadata": {},
   "outputs": [],
   "source": [
    "esM.add(fn.Source(esM=esM, name='Existing run-of-river plants', commodity='electricity',\n",
    "                  hasCapacityVariable=True,\n",
    "                  operationRateFix=data['Existing run-of-river plants, operationRateFix'], tsaWeight=0.01,\n",
    "                  capacityFix=data['Existing run-of-river plants, capacityFix'],\n",
    "                  investPerCapacity=0, opexPerCapacity=0.208))"
   ]
  },
  {
   "cell_type": "markdown",
   "metadata": {},
   "source": [
    "## 3.2. Methane (natural gas and biogas)"
   ]
  },
  {
   "cell_type": "markdown",
   "metadata": {},
   "source": [
    "### Natural gas"
   ]
  },
  {
   "cell_type": "code",
   "execution_count": 12,
   "metadata": {},
   "outputs": [],
   "source": [
    "esM.add(fn.Source(esM=esM, name='Natural gas purchase', commodity='methane',\n",
    "                  hasCapacityVariable=False, commodityCost=0.0331*1e-3))"
   ]
  },
  {
   "cell_type": "markdown",
   "metadata": {},
   "source": [
    "### Biogas"
   ]
  },
  {
   "cell_type": "code",
   "execution_count": 13,
   "metadata": {},
   "outputs": [],
   "source": [
    "esM.add(fn.Source(esM=esM, name='Biogas purchase', commodity='biogas',\n",
    "                  operationRateMax=data['Biogas, operationRateMax'], hasCapacityVariable=False,\n",
    "                  commodityCost=0.05409*1e-3))"
   ]
  },
  {
   "cell_type": "markdown",
   "metadata": {},
   "source": [
    "## 3.3 CO2"
   ]
  },
  {
   "cell_type": "markdown",
   "metadata": {},
   "source": [
    "### CO2\n",
    "\n",
    "The CO2 source is required for the case in which it can be mixed with conventional natural gas."
   ]
  },
  {
   "cell_type": "code",
   "execution_count": 14,
   "metadata": {},
   "outputs": [],
   "source": [
    "esM.add(fn.Source(esM=esM, name='CO2 from enviroment', commodity='CO2',\n",
    "                  hasCapacityVariable=False, commodityLimitID='CO2 limit', yearlyLimit=366*(1-CO2_reductionTarget)))"
   ]
  },
  {
   "cell_type": "markdown",
   "metadata": {},
   "source": [
    "# 4. Add conversion components to the energy system model"
   ]
  },
  {
   "cell_type": "markdown",
   "metadata": {},
   "source": [
    "### Combined cycle gas turbine plants"
   ]
  },
  {
   "cell_type": "code",
   "execution_count": 15,
   "metadata": {},
   "outputs": [],
   "source": [
    "esM.add(fn.Conversion(esM=esM, name='CCGT plants (methane)', physicalUnit=r'GW$_{el}$',\n",
    "                      commodityConversionFactors={'electricity':1, 'methane':-1/0.625, 'CO2':201*1e-6/0.625},\n",
    "                      hasCapacityVariable=True,\n",
    "                      investPerCapacity=0.65, opexPerCapacity=0.021, interestRate=0.08,\n",
    "                      economicLifetime=33))"
   ]
  },
  {
   "cell_type": "markdown",
   "metadata": {},
   "source": [
    "### New combined cycle gas turbine plants for biogas"
   ]
  },
  {
   "cell_type": "code",
   "execution_count": 16,
   "metadata": {},
   "outputs": [],
   "source": [
    "esM.add(fn.Conversion(esM=esM, name='New CCGT plants (biogas)', physicalUnit=r'GW$_{el}$',\n",
    "                      commodityConversionFactors={'electricity':1, 'biogas':-1/0.635},\n",
    "                      hasCapacityVariable=True, \n",
    "                      investPerCapacity=0.7, opexPerCapacity=0.021, interestRate=0.08,\n",
    "                      economicLifetime=33))"
   ]
  },
  {
   "cell_type": "markdown",
   "metadata": {},
   "source": [
    "### New combined cycly gas turbines for hydrogen"
   ]
  },
  {
   "cell_type": "code",
   "execution_count": 17,
   "metadata": {},
   "outputs": [],
   "source": [
    "esM.add(fn.Conversion(esM=esM, name='New CCGT plants (hydrogen)', physicalUnit=r'GW$_{el}$',\n",
    "                      commodityConversionFactors={'electricity':1, 'hydrogen':-1/0.6},\n",
    "                      hasCapacityVariable=True, \n",
    "                      investPerCapacity=0.7, opexPerCapacity=0.021, interestRate=0.08,\n",
    "                      economicLifetime=33))"
   ]
  },
  {
   "cell_type": "markdown",
   "metadata": {},
   "source": [
    "### Electrolyzers"
   ]
  },
  {
   "cell_type": "code",
   "execution_count": 18,
   "metadata": {},
   "outputs": [],
   "source": [
    "esM.add(fn.Conversion(esM=esM, name='Electroylzers', physicalUnit=r'GW$_{el}$',\n",
    "                      commodityConversionFactors={'electricity':-1, 'hydrogen':0.7},\n",
    "                      hasCapacityVariable=True, \n",
    "                      investPerCapacity=0.5, opexPerCapacity=0.5*0.025, interestRate=0.08,\n",
    "                      economicLifetime=10))"
   ]
  },
  {
   "cell_type": "markdown",
   "metadata": {},
   "source": [
    "### rSOC"
   ]
  },
  {
   "cell_type": "code",
   "execution_count": 19,
   "metadata": {},
   "outputs": [],
   "source": [
    "capexRSOC=1.5\n",
    "\n",
    "esM.add(fn.Conversion(esM=esM, name='rSOEC', physicalUnit=r'GW$_{el}$', linkedConversionCapacityID='rSOC',\n",
    "                      commodityConversionFactors={'electricity':-1, 'hydrogen':0.6},\n",
    "                      hasCapacityVariable=True, \n",
    "                      investPerCapacity=capexRSOC/2, opexPerCapacity=capexRSOC*0.02/2, interestRate=0.08,\n",
    "                      economicLifetime=10))\n",
    "\n",
    "esM.add(fn.Conversion(esM=esM, name='rSOFC', physicalUnit=r'GW$_{el}$', linkedConversionCapacityID='rSOC',\n",
    "                      commodityConversionFactors={'electricity':1, 'hydrogen':-1/0.6},\n",
    "                      hasCapacityVariable=True, \n",
    "                      investPerCapacity=capexRSOC/2, opexPerCapacity=capexRSOC*0.02/2, interestRate=0.08,\n",
    "                      economicLifetime=10))"
   ]
  },
  {
   "cell_type": "markdown",
   "metadata": {},
   "source": [
    "# 5. Add commodity storages to the energy system model"
   ]
  },
  {
   "cell_type": "markdown",
   "metadata": {},
   "source": [
    "## 5.1. Electricity storage"
   ]
  },
  {
   "cell_type": "markdown",
   "metadata": {},
   "source": [
    "### Lithium ion batteries\n",
    "\n",
    "The self discharge of a lithium ion battery is here described as 3% per month. The self discharge per hours is obtained using the equation (1-$\\text{selfDischarge}_\\text{hour})^{30*24\\text{h}} = 1-\\text{selfDischarge}_\\text{month}$."
   ]
  },
  {
   "cell_type": "code",
   "execution_count": 20,
   "metadata": {},
   "outputs": [],
   "source": [
    "esM.add(fn.Storage(esM=esM, name='Li-ion batteries', commodity='electricity',\n",
    "                   hasCapacityVariable=True, chargeEfficiency=0.95,\n",
    "                   cyclicLifetime=10000, dischargeEfficiency=0.95, selfDischarge=1-(1-0.03)**(1/(30*24)),\n",
    "                   chargeRate=1, dischargeRate=1, doPreciseTsaModeling=False,\n",
    "                   investPerCapacity=0.151, opexPerCapacity=0.002, interestRate=0.08,\n",
    "                   economicLifetime=22))"
   ]
  },
  {
   "cell_type": "markdown",
   "metadata": {},
   "source": [
    "## 5.2. Hydrogen storage"
   ]
  },
  {
   "cell_type": "markdown",
   "metadata": {},
   "source": [
    "### Hydrogen filled salt caverns\n",
    "The maximum capacity is here obtained by: dividing the given capacity (which is given for methane) by the lower heating value of methane and then multiplying it with the lower heating value of hydrogen."
   ]
  },
  {
   "cell_type": "code",
   "execution_count": 21,
   "metadata": {},
   "outputs": [],
   "source": [
    "esM.add(fn.Storage(esM=esM, name='Salt caverns (hydrogen)', commodity='hydrogen',\n",
    "                   hasCapacityVariable=True, capacityVariableDomain='continuous',\n",
    "                   capacityPerPlantUnit=133,\n",
    "                   chargeRate=1/470.37, dischargeRate=1/470.37, sharedPotentialID='Existing salt caverns',\n",
    "                   stateOfChargeMin=0.33, stateOfChargeMax=1, capacityMax=data['Salt caverns (hydrogen), capacityMax'],\n",
    "                   investPerCapacity=0.00011, opexPerCapacity=0.00057, interestRate=0.08,\n",
    "                   economicLifetime=30))"
   ]
  },
  {
   "cell_type": "markdown",
   "metadata": {},
   "source": [
    "## 5.3. Methane storage"
   ]
  },
  {
   "cell_type": "markdown",
   "metadata": {},
   "source": [
    "### Methane filled salt caverns"
   ]
  },
  {
   "cell_type": "code",
   "execution_count": 22,
   "metadata": {},
   "outputs": [],
   "source": [
    "esM.add(fn.Storage(esM=esM, name='Salt caverns (biogas)', commodity='biogas',\n",
    "                   hasCapacityVariable=True, capacityVariableDomain='continuous',\n",
    "                   capacityPerPlantUnit=443,\n",
    "                   chargeRate=1/470.37, dischargeRate=1/470.37, sharedPotentialID='Existing salt caverns',\n",
    "                   stateOfChargeMin=0.33, stateOfChargeMax=1, capacityMax=data['Salt caverns (methane), capacityMax'],\n",
    "                   investPerCapacity=0.00004, opexPerCapacity=0.00001, interestRate=0.08,\n",
    "                   economicLifetime=30))"
   ]
  },
  {
   "cell_type": "markdown",
   "metadata": {},
   "source": [
    "## 5.4 Pumped hydro storage"
   ]
  },
  {
   "cell_type": "markdown",
   "metadata": {},
   "source": [
    "### Pumped hydro storage"
   ]
  },
  {
   "cell_type": "code",
   "execution_count": 23,
   "metadata": {},
   "outputs": [],
   "source": [
    "esM.add(fn.Storage(esM=esM, name='Pumped hydro storage', commodity='electricity',\n",
    "                   chargeEfficiency=0.88, dischargeEfficiency=0.88,\n",
    "                   hasCapacityVariable=True, selfDischarge=1-(1-0.00375)**(1/(30*24)),\n",
    "                   chargeRate=0.16, dischargeRate=0.12, capacityFix=data['Pumped hydro storage, capacityFix'],\n",
    "                   investPerCapacity=0, opexPerCapacity=0.000153))"
   ]
  },
  {
   "cell_type": "markdown",
   "metadata": {},
   "source": [
    "# 6. Add commodity transmission components to the energy system model"
   ]
  },
  {
   "cell_type": "markdown",
   "metadata": {},
   "source": [
    "## 6.1. Electricity transmission"
   ]
  },
  {
   "cell_type": "markdown",
   "metadata": {},
   "source": [
    "### AC cables"
   ]
  },
  {
   "cell_type": "markdown",
   "metadata": {},
   "source": [
    "esM.add(fn.LinearOptimalPowerFlow(esM=esM, name='AC cables', commodity='electricity',\n",
    "                                  hasCapacityVariable=True, capacityFix=data['AC cables, capacityFix'],\n",
    "                                  reactances=data['AC cables, reactances']))"
   ]
  },
  {
   "cell_type": "code",
   "execution_count": 24,
   "metadata": {},
   "outputs": [
    {
     "name": "stdout",
     "output_type": "stream",
     "text": [
      "The distances of a component are set to a normalized value of 1.\n"
     ]
    }
   ],
   "source": [
    "esM.add(fn.Transmission(esM=esM, name='AC cables', commodity='electricity',\n",
    "                                  hasCapacityVariable=True, capacityFix=data['AC cables, capacityFix']))"
   ]
  },
  {
   "cell_type": "markdown",
   "metadata": {},
   "source": [
    "### DC cables"
   ]
  },
  {
   "cell_type": "code",
   "execution_count": 25,
   "metadata": {},
   "outputs": [],
   "source": [
    "esM.add(fn.Transmission(esM=esM, name='DC cables', commodity='electricity', losses=data['DC cables, losses'],\n",
    "                        distances=data['DC cables, distances'],\n",
    "                        hasCapacityVariable=True, capacityFix=data['DC cables, capacityFix']))"
   ]
  },
  {
   "cell_type": "markdown",
   "metadata": {},
   "source": [
    "## 6.2 Methane transmission"
   ]
  },
  {
   "cell_type": "markdown",
   "metadata": {},
   "source": [
    "### Methane pipeline"
   ]
  },
  {
   "cell_type": "code",
   "execution_count": 26,
   "metadata": {
    "scrolled": true
   },
   "outputs": [],
   "source": [
    "esM.add(fn.Transmission(esM=esM, name='Pipelines (biogas)', commodity='biogas', \n",
    "                        distances=data['Pipelines, distances'],\n",
    "                        hasCapacityVariable=True, hasIsBuiltBinaryVariable=True, bigM=300,\n",
    "                        locationalEligibility=data['Pipelines, eligibility'],\n",
    "                        capacityMax=data['Pipelines, eligibility']*15, sharedPotentialID='pipelines',\n",
    "                        investPerCapacity=0.000037, investIfBuilt=0.000314,\n",
    "                        interestRate=0.08, economicLifetime=40))"
   ]
  },
  {
   "cell_type": "markdown",
   "metadata": {},
   "source": [
    "esM.getComponent('Pipelines (methane)')._mapC['cluster_0_cluster_4'][1]"
   ]
  },
  {
   "cell_type": "markdown",
   "metadata": {},
   "source": [
    "## 6.3 Hydrogen transmission"
   ]
  },
  {
   "cell_type": "markdown",
   "metadata": {},
   "source": [
    "### Hydrogen pipelines"
   ]
  },
  {
   "cell_type": "code",
   "execution_count": 27,
   "metadata": {
    "scrolled": true
   },
   "outputs": [],
   "source": [
    "esM.add(fn.Transmission(esM=esM, name='Pipelines (hydrogen)', commodity='hydrogen',\n",
    "                        distances=data['Pipelines, distances'],\n",
    "                        hasCapacityVariable=True, hasIsBuiltBinaryVariable=True, bigM=300,\n",
    "                        locationalEligibility=data['Pipelines, eligibility'],\n",
    "                        capacityMax=data['Pipelines, eligibility']*15, sharedPotentialID='pipelines',\n",
    "                        investPerCapacity=0.000177, investIfBuilt=0.00033,\n",
    "                        interestRate=0.08, economicLifetime=40))"
   ]
  },
  {
   "cell_type": "markdown",
   "metadata": {},
   "source": [
    "esM.getComponent('Pipeline (hydrogen)')._mapC"
   ]
  },
  {
   "cell_type": "markdown",
   "metadata": {},
   "source": [
    "# 7. Add commodity sinks to the energy system model"
   ]
  },
  {
   "cell_type": "markdown",
   "metadata": {},
   "source": [
    "## 7.1. Electricity sinks"
   ]
  },
  {
   "cell_type": "markdown",
   "metadata": {},
   "source": [
    "### Electricity demand"
   ]
  },
  {
   "cell_type": "code",
   "execution_count": 28,
   "metadata": {},
   "outputs": [],
   "source": [
    "esM.add(fn.Sink(esM=esM, name='Electricity demand', commodity='electricity',\n",
    "                hasCapacityVariable=False, operationRateFix=data['Electricity demand, operationRateFix']))"
   ]
  },
  {
   "cell_type": "markdown",
   "metadata": {},
   "source": [
    "## 7.2. Hydrogen sinks"
   ]
  },
  {
   "cell_type": "markdown",
   "metadata": {},
   "source": [
    "### Fuel cell electric vehicle (FCEV) demand"
   ]
  },
  {
   "cell_type": "code",
   "execution_count": 29,
   "metadata": {},
   "outputs": [],
   "source": [
    "FCEV_penetration=0.5\n",
    "esM.add(fn.Sink(esM=esM, name='Hydrogen demand', commodity='hydrogen', hasCapacityVariable=False,\n",
    "                operationRateFix=data['Hydrogen demand, operationRateFix']*FCEV_penetration))"
   ]
  },
  {
   "cell_type": "markdown",
   "metadata": {},
   "source": [
    "## 7.3. CO2 sinks"
   ]
  },
  {
   "cell_type": "markdown",
   "metadata": {},
   "source": [
    "### CO2 exiting the system's boundary"
   ]
  },
  {
   "cell_type": "code",
   "execution_count": 30,
   "metadata": {},
   "outputs": [],
   "source": [
    "esM.add(fn.Sink(esM=esM, name='CO2 to enviroment', commodity='CO2',\n",
    "                hasCapacityVariable=False, commodityLimitID='CO2 limit', yearlyLimit=366*(1-CO2_reductionTarget)))"
   ]
  },
  {
   "cell_type": "markdown",
   "metadata": {},
   "source": [
    "#### All components are now added to the model and the model can be optimized. If the computational complexity of the optimization should be reduced, there are two ways to accomplish that:\n",
    "(i) Spatial aggregation: Reducing the spatial resolution of the entire esM. \n",
    "\n",
    "(ii) Temporal aggregation: The time series data of the specified components can be clustered before the optimization. (The parameter timeSeriesAggregation is set to True in the optimize call if temporal aggregation is performed.)"
   ]
  },
  {
   "cell_type": "markdown",
   "metadata": {},
   "source": [
    "# 8.1 Spatial Aggregation"
   ]
  },
  {
   "cell_type": "code",
   "execution_count": 31,
   "metadata": {},
   "outputs": [],
   "source": [
    "from FINE.IOManagement import xarray_io as xrio\n",
    "import geopandas as gpd"
   ]
  },
  {
   "cell_type": "code",
   "execution_count": 32,
   "metadata": {},
   "outputs": [],
   "source": [
    "shapefile = 'InputData/SpatialData/ShapeFiles/clusteredRegions.shp'\n",
    "regions_gdf = gpd.read_file(shapefile)\n"
   ]
  },
  {
   "cell_type": "code",
   "execution_count": 33,
   "metadata": {},
   "outputs": [
    {
     "name": "stdout",
     "output_type": "stream",
     "text": [
      "Performing distance-based clustering on the regions. Clustering mode: sklearn_hierarchical\n",
      "Statistics on this hiearchical clustering:\n",
      "The cophenetic correlation coefficient is  0.6412997116997836\n"
     ]
    },
    {
     "data": {
      "image/png": "[encoded data removed]",
      "text/plain": [
       "<Figure size 1296x504 with 1 Axes>"
      ]
     },
     "metadata": {
      "needs_background": "light"
     },
     "output_type": "display_data"
    },
    {
     "name": "stdout",
     "output_type": "stream",
     "text": [
      "elapsed time for distance_based_clustering: 0.00 minutes\n",
      "Aggregation mode for 2d_locationalEligibility set to bool as only binary values are acceptable for this variable\n",
      "Aggregation mode for 1d_locationalEligibility set to bool as only binary values are acceptable for this variable\n",
      "elapsed time for save_sds: 0.01 minutes\n"
     ]
    }
   ],
   "source": [
    "aggregated_esM = xrio.spatial_aggregation(esM, \n",
    "                                    gdfRegions = regions_gdf, \n",
    "                                    grouping_mode = 'distance_based',\n",
    "                                    nRegionsForRepresentation = 3,\n",
    "                                    aggregatedResultsPath='OutputData') "
   ]
  },
  {
   "cell_type": "code",
   "execution_count": 34,
   "metadata": {},
   "outputs": [
    {
     "data": {
      "text/plain": [
       "{'cluster_0_cluster_4_cluster_7',\n",
       " 'cluster_1_cluster_2_cluster_6',\n",
       " 'cluster_3_cluster_5'}"
      ]
     },
     "execution_count": 34,
     "metadata": {},
     "output_type": "execute_result"
    }
   ],
   "source": [
    "aggregated_esM.locations"
   ]
  },
  {
   "cell_type": "code",
   "execution_count": 35,
   "metadata": {},
   "outputs": [
    {
     "data": {
      "text/plain": [
       "{'AC cables': <FINE.transmission.Transmission at 0x26b4885ec48>,\n",
       " 'DC cables': <FINE.transmission.Transmission at 0x26b48788848>,\n",
       " 'Pipelines (biogas)': <FINE.transmission.Transmission at 0x26b4879c088>,\n",
       " 'Pipelines (hydrogen)': <FINE.transmission.Transmission at 0x26b4879cf08>}"
      ]
     },
     "execution_count": 35,
     "metadata": {},
     "output_type": "execute_result"
    }
   ],
   "source": [
    "aggregated_esM.componentModelingDict['TransmissionModel'].componentsDict"
   ]
  },
  {
   "cell_type": "markdown",
   "metadata": {},
   "source": [
    "# 8.2 Temporal Aggregation\n",
    "\n",
    "All components are now added to the model and the model can be optimized. If the computational complexity of the optimization should be reduced, the time series data of the specified components can be clustered before the optimization and the parameter timeSeriesAggregation is set to True in the optimize call."
   ]
  },
  {
   "cell_type": "code",
   "execution_count": 36,
   "metadata": {
    "scrolled": true
   },
   "outputs": [
    {
     "name": "stdout",
     "output_type": "stream",
     "text": [
      "\n",
      "Clustering time series data with 7 typical periods and 24 time steps per period...\n",
      "\t\t(5.4298 sec)\n",
      "\n"
     ]
    }
   ],
   "source": [
    "aggregated_esM.cluster(numberOfTypicalPeriods=7)"
   ]
  },
  {
   "cell_type": "markdown",
   "metadata": {},
   "source": [
    "# 9 Optimization"
   ]
  },
  {
   "cell_type": "code",
   "execution_count": 37,
   "metadata": {
    "scrolled": true
   },
   "outputs": [
    {
     "name": "stdout",
     "output_type": "stream",
     "text": [
      "Time series aggregation specifications:\n",
      "Number of typical periods:7, number of time steps per period:24\n",
      "\n",
      "Declaring sets, variables and constraints for SourceSinkModel\n",
      "\tdeclaring sets... \n",
      "\tdeclaring variables... \n",
      "\tdeclaring constraints... \n",
      "\t\t(0.3110 sec)\n",
      "\n",
      "Declaring sets, variables and constraints for ConversionModel\n",
      "\tdeclaring sets... \n",
      "\tdeclaring variables... \n",
      "\tdeclaring constraints... \n",
      "\t\t(0.2025 sec)\n",
      "\n",
      "Declaring sets, variables and constraints for StorageModel\n",
      "\tdeclaring sets... \n",
      "\tdeclaring variables... \n",
      "\tdeclaring constraints... \n",
      "\t\t(1.1140 sec)\n",
      "\n",
      "Declaring sets, variables and constraints for TransmissionModel\n",
      "\tdeclaring sets... \n",
      "\tdeclaring variables... \n",
      "\tdeclaring constraints... \n",
      "\t\t(0.2698 sec)\n",
      "\n",
      "Declaring shared potential constraint...\n",
      "\t\t(0.0015 sec)\n",
      "\n",
      "Declaring linked component quantity constraint...\n",
      "\t\t(0.0000 sec)\n",
      "\n",
      "Declaring commodity balances...\n",
      "\t\t(0.3819 sec)\n",
      "\n",
      "Declaring objective function...\n",
      "\t\t(0.1583 sec)\n",
      "\n",
      "WARNING: Failed to create solver with name 'OptimalityTol=1e-3 method=2\n",
      "    cuts=0': Failed to set executable for solver asl. File with\n",
      "    name=OptimalityTol=1e-3 method=2 cuts=0 either does not exist or it is not\n",
      "    executable. To skip this validation, call set_executable with\n",
      "    validate=False.\n",
      "Either solver not selected or specified solver not available.gurobi is set as solver.\n",
      "Using license file C:\\Users\\s.patil\\gurobi.lic\n",
      "Academic license - for non-commercial use only\n",
      "Read LP format model from file C:\\Users\\S9CFE~1.PAT\\AppData\\Local\\Temp\\tmp22efgbrs.pyomo.lp\n",
      "Reading time = 0.22 seconds\n",
      "x35589: 32157 rows, 20637 columns, 96928 nonzeros\n",
      "Changed value of parameter QCPDual to 1\n",
      "   Prev: 0  Min: 0  Max: 1  Default: 0\n",
      "Changed value of parameter Threads to 3\n",
      "   Prev: 0  Min: 0  Max: 1024  Default: 0\n",
      "Parameter logfile unchanged\n",
      "   Value:   Default: \n",
      "Gurobi Optimizer version 9.0.1 build v9.0.1rc0 (win64)\n",
      "Optimize a model with 32157 rows, 20637 columns and 96928 nonzeros\n",
      "Model fingerprint: 0xcced370f\n",
      "Variable types: 20625 continuous, 12 integer (12 binary)\n",
      "Coefficient statistics:\n",
      "  Matrix range     [6e-06, 4e+02]\n",
      "  Objective range  [3e-05, 4e+01]\n",
      "  Bounds range     [1e+00, 2e+05]\n",
      "  RHS range        [4e-02, 4e+01]\n",
      "Presolve removed 9463 rows and 6450 columns\n",
      "Presolve time: 0.20s\n",
      "Presolved: 22694 rows, 14187 columns, 75872 nonzeros\n",
      "Variable types: 14181 continuous, 6 integer (6 binary)\n",
      "\n",
      "Root simplex log...\n",
      "\n",
      "Iteration    Objective       Primal Inf.    Dual Inf.      Time\n",
      "   15833    4.2885936e+01   2.355811e+07   0.000000e+00      5s\n",
      "   21283    6.8289573e+01   5.200395e+05   0.000000e+00     10s\n",
      "   26913    8.3449438e+01   5.635014e+07   0.000000e+00     15s\n",
      "   32383    9.6585212e+01   9.794530e+04   0.000000e+00     20s\n",
      "   38553    1.1096406e+02   1.277334e+05   0.000000e+00     25s\n",
      "   45165    1.2089003e+02   3.870871e+06   0.000000e+00     30s\n",
      "   51095    1.2901260e+02   4.052957e+04   0.000000e+00     35s\n",
      "   57947    1.3873777e+02   2.931103e+05   0.000000e+00     40s\n",
      "   63399    1.4480032e+02   0.000000e+00   0.000000e+00     43s\n",
      "\n",
      "Root relaxation: objective 1.448003e+02, 63399 iterations, 42.54 seconds\n",
      "\n",
      "    Nodes    |    Current Node    |     Objective Bounds      |     Work\n",
      " Expl Unexpl |  Obj  Depth IntInf | Incumbent    BestBd   Gap | It/Node Time\n",
      "\n",
      "*    0     0               0     144.8003211  144.80032  0.00%     -   42s\n",
      "\n",
      "Explored 0 nodes (63399 simplex iterations) in 42.79 seconds\n",
      "Thread count was 3 (of 8 available processors)\n",
      "\n",
      "Solution count 1: 144.8 \n",
      "\n",
      "Optimal solution found (tolerance 1.00e-04)\n",
      "Warning: max constraint violation (5.4786e-06) exceeds tolerance\n",
      "Warning: max bound violation (6.2252e-06) exceeds tolerance\n",
      "Best objective 1.448003211309e+02, best bound 1.448003211309e+02, gap 0.0000%\n",
      "\n",
      "Status: ok\n",
      "Return code: 0\n",
      "Message: Model was solved to optimality (subject to tolerances), and an optimal solution is available.\n",
      "Termination condition: optimal\n",
      "Termination message: Model was solved to optimality (subject to tolerances), and an optimal solution is available.\n",
      "Wall time: 42.78951454162598\n",
      "Error rc: 0\n",
      "Time: 43.81282377243042\n",
      "\n",
      "\n",
      "Name: x35589\n",
      "Lower bound: 144.80032113086543\n",
      "Upper bound: 144.80032113086543\n",
      "Number of objectives: 1\n",
      "Number of constraints: 32157\n",
      "Number of variables: 20637\n",
      "Number of binary variables: 12\n",
      "Number of integer variables: 12\n",
      "Number of continuous variables: 20625\n",
      "Number of nonzeros: 96928\n",
      "Sense: minimize\n",
      "\n",
      "Solve time: 46.97822666168213 sec.\n",
      "\n",
      "Processing optimization output...\n",
      "for SourceSinkModel ...    (0.9462sec)\n",
      "for ConversionModel ...    (0.6824sec)\n",
      "for StorageModel ...       (2.2155sec)\n",
      "for TransmissionModel ...  (1.4944sec)\n",
      "\t\t(5.3401 sec)\n",
      "\n"
     ]
    }
   ],
   "source": [
    "aggregated_esM.optimize(timeSeriesAggregation=True, solver='OptimalityTol=1e-3 method=2 cuts=0')"
   ]
  },
  {
   "cell_type": "markdown",
   "metadata": {},
   "source": [
    "# 10. Selected Results Output"
   ]
  },
  {
   "cell_type": "markdown",
   "metadata": {},
   "source": [
    "## 10.1. Plots for Spatial Aggregation Results "
   ]
  },
  {
   "cell_type": "markdown",
   "metadata": {},
   "source": [
    "#### Original spatial resolution"
   ]
  },
  {
   "cell_type": "code",
   "execution_count": 38,
   "metadata": {},
   "outputs": [
    {
     "data": {
      "image/png": "[encoded data removed]",
      "text/plain": [
       "<Figure size 432x432 with 1 Axes>"
      ]
     },
     "metadata": {
      "needs_background": "light"
     },
     "output_type": "display_data"
    }
   ],
   "source": [
    "locFilePath = os.path.join(cwd, 'InputData', 'SpatialData','ShapeFiles', 'clusteredRegions.shp')\n",
    "fig, ax = fn.plotLocations(locFilePath, plotLocNames=True, indexColumn='index')"
   ]
  },
  {
   "cell_type": "markdown",
   "metadata": {},
   "source": [
    "#### Spatial resolution after aggregation"
   ]
  },
  {
   "cell_type": "code",
   "execution_count": null,
   "metadata": {},
   "outputs": [],
   "source": [
    "aggregated_regions_FilePath = os.path.join(cwd, 'OutputData', 'sds_regions.shp')\n",
    "fig, ax = fn.plotLocations(aggregated_regions_FilePath, plotLocNames=True, indexColumn='space')"
   ]
  },
  {
   "cell_type": "markdown",
   "metadata": {},
   "source": [
    "## 10.2. Sources and Sink Optimization Summary"
   ]
  },
  {
   "cell_type": "code",
   "execution_count": null,
   "metadata": {
    "scrolled": false
   },
   "outputs": [],
   "source": [
    "aggregated_esM.getOptimizationSummary(\"SourceSinkModel\", outputLevel=2)"
   ]
  },
  {
   "cell_type": "markdown",
   "metadata": {},
   "source": [
    "#### Plot installed capacities"
   ]
  },
  {
   "cell_type": "code",
   "execution_count": null,
   "metadata": {
    "scrolled": false
   },
   "outputs": [],
   "source": [
    "## 'Wind (onshore)'\n",
    "fig, ax = fn.plotLocationalColorMap(aggregated_esM, \n",
    "                                    'Wind (onshore)', \n",
    "                                    aggregated_regions_FilePath, \n",
    "                                    'space', \n",
    "                                    perArea=True)"
   ]
  },
  {
   "cell_type": "code",
   "execution_count": null,
   "metadata": {
    "scrolled": false
   },
   "outputs": [],
   "source": [
    "## 'PV'\n",
    "fig, ax = fn.plotLocationalColorMap(aggregated_esM, \n",
    "                                    'PV', \n",
    "                                    aggregated_regions_FilePath, \n",
    "                                    'space', \n",
    "                                    perArea=True)"
   ]
  },
  {
   "cell_type": "markdown",
   "metadata": {},
   "source": [
    "#### Plot operation time series (either one or two dimensional)"
   ]
  },
  {
   "cell_type": "code",
   "execution_count": null,
   "metadata": {},
   "outputs": [],
   "source": [
    "fig, ax = fn.plotOperation(aggregated_esM, \n",
    "                           'Electricity demand', \n",
    "                           'cluster_1_cluster_2_cluster_6')"
   ]
  },
  {
   "cell_type": "markdown",
   "metadata": {},
   "source": [
    "## 10.2. Conversion Optimization Summary"
   ]
  },
  {
   "cell_type": "code",
   "execution_count": null,
   "metadata": {},
   "outputs": [],
   "source": [
    "aggregated_esM.getOptimizationSummary(\"ConversionModel\", outputLevel=2)"
   ]
  },
  {
   "cell_type": "code",
   "execution_count": null,
   "metadata": {},
   "outputs": [],
   "source": [
    "fig, ax = fn.plotOperationColorMap(aggregated_esM, \n",
    "                                   'New CCGT plants (biogas)', \n",
    "                                   'cluster_1_cluster_2_cluster_6')"
   ]
  },
  {
   "cell_type": "markdown",
   "metadata": {},
   "source": [
    "## 10.3. Storage Optimization Summary"
   ]
  },
  {
   "cell_type": "code",
   "execution_count": null,
   "metadata": {},
   "outputs": [],
   "source": [
    "aggregated_esM.getOptimizationSummary(\"StorageModel\", outputLevel=2)"
   ]
  },
  {
   "cell_type": "code",
   "execution_count": null,
   "metadata": {},
   "outputs": [],
   "source": [
    "fig, ax = fn.plotOperationColorMap(aggregated_esM, \n",
    "                                   'Li-ion batteries', \n",
    "                                   'cluster_1_cluster_2_cluster_6', \n",
    "                                   variableName='stateOfChargeOperationVariablesOptimum')"
   ]
  },
  {
   "cell_type": "code",
   "execution_count": null,
   "metadata": {},
   "outputs": [],
   "source": [
    "fig, ax = fn.plotOperationColorMap(aggregated_esM, \n",
    "                                   'Pumped hydro storage', \n",
    "                                   'cluster_1_cluster_2_cluster_6',\n",
    "                                  variableName='stateOfChargeOperationVariablesOptimum')"
   ]
  },
  {
   "cell_type": "code",
   "execution_count": null,
   "metadata": {},
   "outputs": [],
   "source": [
    "fig, ax = fn.plotOperationColorMap(aggregated_esM, \n",
    "                                   'Salt caverns (biogas)', \n",
    "                                   'cluster_1_cluster_2_cluster_6',\n",
    "                                  variableName='stateOfChargeOperationVariablesOptimum')"
   ]
  },
  {
   "cell_type": "code",
   "execution_count": null,
   "metadata": {},
   "outputs": [],
   "source": [
    "fig, ax = fn.plotOperationColorMap(aggregated_esM, \n",
    "                                   'Salt caverns (hydrogen)', \n",
    "                                   'cluster_1_cluster_2_cluster_6',\n",
    "                                  variableName='stateOfChargeOperationVariablesOptimum')"
   ]
  },
  {
   "cell_type": "markdown",
   "metadata": {},
   "source": [
    "## 10.4. Transmission Optimization Summary"
   ]
  },
  {
   "cell_type": "code",
   "execution_count": null,
   "metadata": {
    "scrolled": false
   },
   "outputs": [],
   "source": [
    "#TODO: check why 'Pipelines' are not present here (they are present after spatial aggregation)\n",
    "aggregated_esM.getOptimizationSummary(\"TransmissionModel\", outputLevel=2)"
   ]
  },
  {
   "cell_type": "markdown",
   "metadata": {},
   "source": [
    "Check that the shared capacity of the pipelines are not exceeded"
   ]
  },
  {
   "cell_type": "code",
   "execution_count": null,
   "metadata": {},
   "outputs": [],
   "source": [
    "df=esM.componentModelingDict[\"TransmissionModel\"].capacityVariablesOptimum\n",
    "df.loc['Pipelines (biogas)']+df.loc['Pipelines (hydrogen)']"
   ]
  },
  {
   "cell_type": "code",
   "execution_count": null,
   "metadata": {},
   "outputs": [],
   "source": [
    "#TODO: check TODO in create_grid_shapefile (representation.py) and in save_sds (dataset.py), work on it, save grid shapefiles during \n",
    "# spatial aggregation and then run the cells below "
   ]
  },
  {
   "cell_type": "code",
   "execution_count": 39,
   "metadata": {},
   "outputs": [],
   "source": [
    "ac_lines_shp = gpd.read_file('C:/Users/s.patil/Documents/code/fine/test/spagat/data/output/test_ac_lines.shp')"
   ]
  },
  {
   "cell_type": "code",
   "execution_count": 41,
   "metadata": {},
   "outputs": [
    {
     "data": {
      "text/plain": [
       "<AxesSubplot:>"
      ]
     },
     "execution_count": 41,
     "metadata": {},
     "output_type": "execute_result"
    },
    {
     "data": {
      "image/png": "[encoded data removed]",
      "text/plain": [
       "<Figure size 432x288 with 1 Axes>"
      ]
     },
     "metadata": {
      "needs_background": "light"
     },
     "output_type": "display_data"
    }
   ],
   "source": [
    "ac_lines_shp.plot()"
   ]
  },
  {
   "cell_type": "code",
   "execution_count": null,
   "metadata": {},
   "outputs": [],
   "source": [
    "transFilePath = os.path.join(cwd, 'InputData', 'SpatialData','ShapeFiles', 'AClines.shp')\n",
    "\n",
    "fig, ax = fn.plotLocations(locFilePath, indexColumn='index')                                 \n",
    "fig, ax = fn.plotTransmission(esM, 'AC cables', transFilePath, loc0='bus0', loc1='bus1', fig=fig, ax=ax)"
   ]
  },
  {
   "cell_type": "code",
   "execution_count": null,
   "metadata": {},
   "outputs": [],
   "source": [
    "fig, ax = fn.plotLocations(aggregated_regions_FilePath, indexColumn='index')                                 \n",
    "fig, ax = fn.plotTransmission(esM_aggregated, 'AC cables', aggregated_grid_FilePath, loc0='bus0', loc1='bus1', fig=fig, ax=ax)"
   ]
  },
  {
   "cell_type": "code",
   "execution_count": null,
   "metadata": {},
   "outputs": [],
   "source": [
    "transFilePath = os.path.join(cwd, 'InputData', 'SpatialData','ShapeFiles', 'DClines.shp')\n",
    "\n",
    "fig, ax = fn.plotLocations(locFilePath, indexColumn='index')                                 \n",
    "fig, ax = fn.plotTransmission(esM, 'DC cables', transFilePath, loc0='cluster0', loc1='cluster1', fig=fig, ax=ax)"
   ]
  },
  {
   "cell_type": "code",
   "execution_count": null,
   "metadata": {},
   "outputs": [],
   "source": [
    "transFilePath = os.path.join(cwd, 'InputData', 'SpatialData','ShapeFiles', 'transmissionPipeline.shp')\n",
    "\n",
    "fig, ax = fn.plotLocations(locFilePath, indexColumn='index')                                 \n",
    "fig, ax = fn.plotTransmission(esM, 'Pipelines (hydrogen)', transFilePath, loc0='cluster0', loc1='cluster1',\n",
    "                              fig=fig, ax=ax)"
   ]
  },
  {
   "cell_type": "code",
   "execution_count": null,
   "metadata": {},
   "outputs": [],
   "source": [
    "transFilePath = os.path.join(cwd, 'InputData', 'SpatialData','ShapeFiles', 'transmissionPipeline.shp')\n",
    "\n",
    "fig, ax = fn.plotLocations(locFilePath, indexColumn='index')                                 \n",
    "fig, ax = fn.plotTransmission(esM, 'Pipelines (biogas)', transFilePath, loc0='cluster0', loc1='cluster1',\n",
    "                              fig=fig, ax=ax)"
   ]
  },
  {
   "cell_type": "code",
   "execution_count": null,
   "metadata": {},
   "outputs": [],
   "source": []
  },
  {
   "cell_type": "code",
   "execution_count": null,
   "metadata": {},
   "outputs": [],
   "source": []
  },
  {
   "cell_type": "code",
   "execution_count": null,
   "metadata": {},
   "outputs": [],
   "source": []
  }
 ],
 "metadata": {
  "anaconda-cloud": {},
  "kernelspec": {
   "display_name": "Python 3",
   "language": "python",
   "name": "python3"
  },
  "language_info": {
   "codemirror_mode": {
    "name": "ipython",
    "version": 3
   },
   "file_extension": ".py",
   "mimetype": "text/x-python",
   "name": "python",
   "nbconvert_exporter": "python",
   "pygments_lexer": "ipython3",
   "version": "3.7.8"
  }
 },
 "nbformat": 4,
 "nbformat_minor": 1
}
