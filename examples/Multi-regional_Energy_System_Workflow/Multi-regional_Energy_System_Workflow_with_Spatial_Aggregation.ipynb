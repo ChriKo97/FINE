{
 "cells": [
  {
   "cell_type": "markdown",
   "metadata": {},
   "source": [
    "# Workflow for a multi-regional energy system\n",
    "\n",
    "In this application of the FINE framework, a multi-regional energy system is modeled and optimized.\n",
    "\n",
    "All classes which are available to the user are utilized and examples of the selection of different parameters within these classes are given.\n",
    "\n",
    "The workflow is structures as follows:\n",
    "1. Required packages are imported and the input data path is set\n",
    "2. An energy system model instance is created\n",
    "3. Commodity sources are added to the energy system model\n",
    "4. Commodity conversion components are added to the energy system model\n",
    "5. Commodity storages are added to the energy system model\n",
    "6. Commodity transmission components are added to the energy system model\n",
    "7. Commodity sinks are added to the energy system model\n",
    "8. The energy system model is optimized\n",
    "9. Selected optimization results are presented\n"
   ]
  },
  {
   "cell_type": "markdown",
   "metadata": {},
   "source": [
    "# 1. Import required packages and set input data path\n",
    "\n",
    "The FINE framework is imported which provides the required classes and functions for modeling the energy system."
   ]
  },
  {
   "cell_type": "code",
   "execution_count": 1,
   "metadata": {},
   "outputs": [],
   "source": [
    "import FINE as fn\n",
    "from getData import getData\n",
    "import os\n",
    "cwd = os.getcwd()\n",
    "data = getData()\n",
    "\n",
    "%matplotlib inline  \n",
    "%load_ext autoreload\n",
    "%autoreload 2"
   ]
  },
  {
   "cell_type": "markdown",
   "metadata": {},
   "source": [
    "# 2. Create an energy system model instance \n",
    "\n",
    "The structure of the energy system model is given by the considered locations, commodities, the number of time steps as well as the hours per time step.\n",
    "\n",
    "The commodities are specified by a unit (i.e. 'GW_electric', 'GW_H2lowerHeatingValue', 'Mio. t CO2/h') which can be given as an energy or mass unit per hour. Furthermore, the cost unit and length unit are specified."
   ]
  },
  {
   "cell_type": "code",
   "execution_count": 2,
   "metadata": {},
   "outputs": [],
   "source": [
    "locations = {'cluster_0', 'cluster_1', 'cluster_2', 'cluster_3', 'cluster_4', 'cluster_5', 'cluster_6', 'cluster_7'}\n",
    "commodityUnitDict = {'electricity': r'GW$_{el}$', 'methane': r'GW$_{CH_{4},LHV}$', 'biogas': r'GW$_{biogas,LHV}$',\n",
    "                     'CO2': r'Mio. t$_{CO_2}$/h', 'hydrogen': r'GW$_{H_{2},LHV}$'}\n",
    "commodities = {'electricity', 'hydrogen', 'methane', 'biogas', 'CO2'}\n",
    "numberOfTimeSteps=8760\n",
    "hoursPerTimeStep=1"
   ]
  },
  {
   "cell_type": "code",
   "execution_count": 3,
   "metadata": {},
   "outputs": [],
   "source": [
    "esM = fn.EnergySystemModel(locations=locations, commodities=commodities, numberOfTimeSteps=8760,\n",
    "                           commodityUnitsDict=commodityUnitDict,\n",
    "                           hoursPerTimeStep=1, costUnit='1e9 Euro', lengthUnit='km', verboseLogLevel=0)"
   ]
  },
  {
   "cell_type": "code",
   "execution_count": 4,
   "metadata": {},
   "outputs": [],
   "source": [
    "CO2_reductionTarget = 1"
   ]
  },
  {
   "cell_type": "markdown",
   "metadata": {},
   "source": [
    "# 3. Add commodity sources to the energy system model"
   ]
  },
  {
   "cell_type": "markdown",
   "metadata": {},
   "source": [
    "## 3.1. Electricity sources"
   ]
  },
  {
   "cell_type": "markdown",
   "metadata": {},
   "source": [
    "### Wind onshore"
   ]
  },
  {
   "cell_type": "code",
   "execution_count": 5,
   "metadata": {},
   "outputs": [],
   "source": [
    "esM.add(fn.Source(esM=esM, name='Wind (onshore)', commodity='electricity', hasCapacityVariable=True,\n",
    "                  operationRateMax=data['Wind (onshore), operationRateMax'],\n",
    "                  capacityMax=data['Wind (onshore), capacityMax'],\n",
    "                  investPerCapacity=1.1, opexPerCapacity=1.1*0.02, interestRate=0.08,\n",
    "                  economicLifetime=20))"
   ]
  },
  {
   "cell_type": "markdown",
   "metadata": {},
   "source": [
    "Full load hours:"
   ]
  },
  {
   "cell_type": "code",
   "execution_count": 6,
   "metadata": {},
   "outputs": [
    {
     "data": {
      "text/plain": [
       "cluster_0    1572.003960\n",
       "cluster_1    2350.292663\n",
       "cluster_2    2374.507270\n",
       "cluster_3    2186.572278\n",
       "cluster_4    1572.650655\n",
       "cluster_5    1767.840650\n",
       "cluster_6    2719.564564\n",
       "cluster_7    1553.045964\n",
       "dtype: float64"
      ]
     },
     "execution_count": 6,
     "metadata": {},
     "output_type": "execute_result"
    }
   ],
   "source": [
    "data['Wind (onshore), operationRateMax'].sum()"
   ]
  },
  {
   "cell_type": "markdown",
   "metadata": {},
   "source": [
    "### Wind offshore"
   ]
  },
  {
   "cell_type": "code",
   "execution_count": 7,
   "metadata": {},
   "outputs": [],
   "source": [
    "esM.add(fn.Source(esM=esM, name='Wind (offshore)', commodity='electricity', hasCapacityVariable=True,\n",
    "                  operationRateMax=data['Wind (offshore), operationRateMax'],\n",
    "                  capacityMax=data['Wind (offshore), capacityMax'],\n",
    "                  investPerCapacity=2.3, opexPerCapacity=2.3*0.02, interestRate=0.08,\n",
    "                  economicLifetime=20))"
   ]
  },
  {
   "cell_type": "markdown",
   "metadata": {},
   "source": [
    "Full load hours:"
   ]
  },
  {
   "cell_type": "code",
   "execution_count": 8,
   "metadata": {},
   "outputs": [
    {
     "data": {
      "text/plain": [
       "cluster_0       0.000000\n",
       "cluster_1    4435.420314\n",
       "cluster_2    4301.655834\n",
       "cluster_3    3902.391858\n",
       "cluster_4       0.000000\n",
       "cluster_5       0.000000\n",
       "cluster_6    4609.508396\n",
       "cluster_7       0.000000\n",
       "dtype: float64"
      ]
     },
     "execution_count": 8,
     "metadata": {},
     "output_type": "execute_result"
    }
   ],
   "source": [
    "data['Wind (offshore), operationRateMax'].sum()"
   ]
  },
  {
   "cell_type": "markdown",
   "metadata": {},
   "source": [
    "### PV"
   ]
  },
  {
   "cell_type": "code",
   "execution_count": 9,
   "metadata": {},
   "outputs": [],
   "source": [
    "esM.add(fn.Source(esM=esM, name='PV', commodity='electricity', hasCapacityVariable=True,\n",
    "                  operationRateMax=data['PV, operationRateMax'], capacityMax=data['PV, capacityMax'],\n",
    "                  investPerCapacity=0.65, opexPerCapacity=0.65*0.02, interestRate=0.08,\n",
    "                  economicLifetime=25))"
   ]
  },
  {
   "cell_type": "markdown",
   "metadata": {},
   "source": [
    "Full load hours:"
   ]
  },
  {
   "cell_type": "code",
   "execution_count": 10,
   "metadata": {},
   "outputs": [
    {
     "data": {
      "text/plain": [
       "cluster_0    1113.216464\n",
       "cluster_1    1053.579422\n",
       "cluster_2    1058.005181\n",
       "cluster_3    1079.872237\n",
       "cluster_4    1140.407380\n",
       "cluster_5    1051.848141\n",
       "cluster_6    1069.843344\n",
       "cluster_7    1085.697466\n",
       "dtype: float64"
      ]
     },
     "execution_count": 10,
     "metadata": {},
     "output_type": "execute_result"
    }
   ],
   "source": [
    "data['PV, operationRateMax'].sum()"
   ]
  },
  {
   "cell_type": "markdown",
   "metadata": {},
   "source": [
    "### Exisisting run-of-river hydroelectricity plants"
   ]
  },
  {
   "cell_type": "code",
   "execution_count": 11,
   "metadata": {},
   "outputs": [],
   "source": [
    "esM.add(fn.Source(esM=esM, name='Existing run-of-river plants', commodity='electricity',\n",
    "                  hasCapacityVariable=True,\n",
    "                  operationRateFix=data['Existing run-of-river plants, operationRateFix'], tsaWeight=0.01,\n",
    "                  capacityFix=data['Existing run-of-river plants, capacityFix'],\n",
    "                  investPerCapacity=0, opexPerCapacity=0.208))"
   ]
  },
  {
   "cell_type": "markdown",
   "metadata": {},
   "source": [
    "## 3.2. Methane (natural gas and biogas)"
   ]
  },
  {
   "cell_type": "markdown",
   "metadata": {},
   "source": [
    "### Natural gas"
   ]
  },
  {
   "cell_type": "code",
   "execution_count": 12,
   "metadata": {},
   "outputs": [],
   "source": [
    "esM.add(fn.Source(esM=esM, name='Natural gas purchase', commodity='methane',\n",
    "                  hasCapacityVariable=False, commodityCost=0.0331*1e-3))"
   ]
  },
  {
   "cell_type": "markdown",
   "metadata": {},
   "source": [
    "### Biogas"
   ]
  },
  {
   "cell_type": "code",
   "execution_count": 13,
   "metadata": {},
   "outputs": [],
   "source": [
    "esM.add(fn.Source(esM=esM, name='Biogas purchase', commodity='biogas',\n",
    "                  operationRateMax=data['Biogas, operationRateMax'], hasCapacityVariable=False,\n",
    "                  commodityCost=0.05409*1e-3))"
   ]
  },
  {
   "cell_type": "markdown",
   "metadata": {},
   "source": [
    "## 3.3 CO2"
   ]
  },
  {
   "cell_type": "markdown",
   "metadata": {},
   "source": [
    "### CO2\n",
    "\n",
    "The CO2 source is required for the case in which it can be mixed with conventional natural gas."
   ]
  },
  {
   "cell_type": "code",
   "execution_count": 14,
   "metadata": {},
   "outputs": [],
   "source": [
    "esM.add(fn.Source(esM=esM, name='CO2 from enviroment', commodity='CO2',\n",
    "                  hasCapacityVariable=False, commodityLimitID='CO2 limit', yearlyLimit=366*(1-CO2_reductionTarget)))"
   ]
  },
  {
   "cell_type": "markdown",
   "metadata": {},
   "source": [
    "# 4. Add conversion components to the energy system model"
   ]
  },
  {
   "cell_type": "markdown",
   "metadata": {},
   "source": [
    "### Combined cycle gas turbine plants"
   ]
  },
  {
   "cell_type": "code",
   "execution_count": 15,
   "metadata": {},
   "outputs": [],
   "source": [
    "esM.add(fn.Conversion(esM=esM, name='CCGT plants (methane)', physicalUnit=r'GW$_{el}$',\n",
    "                      commodityConversionFactors={'electricity':1, 'methane':-1/0.625, 'CO2':201*1e-6/0.625},\n",
    "                      hasCapacityVariable=True,\n",
    "                      investPerCapacity=0.65, opexPerCapacity=0.021, interestRate=0.08,\n",
    "                      economicLifetime=33))"
   ]
  },
  {
   "cell_type": "markdown",
   "metadata": {},
   "source": [
    "### New combined cycle gas turbine plants for biogas"
   ]
  },
  {
   "cell_type": "code",
   "execution_count": 16,
   "metadata": {},
   "outputs": [],
   "source": [
    "esM.add(fn.Conversion(esM=esM, name='New CCGT plants (biogas)', physicalUnit=r'GW$_{el}$',\n",
    "                      commodityConversionFactors={'electricity':1, 'biogas':-1/0.635},\n",
    "                      hasCapacityVariable=True, \n",
    "                      investPerCapacity=0.7, opexPerCapacity=0.021, interestRate=0.08,\n",
    "                      economicLifetime=33))"
   ]
  },
  {
   "cell_type": "markdown",
   "metadata": {},
   "source": [
    "### New combined cycly gas turbines for hydrogen"
   ]
  },
  {
   "cell_type": "code",
   "execution_count": 17,
   "metadata": {},
   "outputs": [],
   "source": [
    "esM.add(fn.Conversion(esM=esM, name='New CCGT plants (hydrogen)', physicalUnit=r'GW$_{el}$',\n",
    "                      commodityConversionFactors={'electricity':1, 'hydrogen':-1/0.6},\n",
    "                      hasCapacityVariable=True, \n",
    "                      investPerCapacity=0.7, opexPerCapacity=0.021, interestRate=0.08,\n",
    "                      economicLifetime=33))"
   ]
  },
  {
   "cell_type": "markdown",
   "metadata": {},
   "source": [
    "### Electrolyzers"
   ]
  },
  {
   "cell_type": "code",
   "execution_count": 18,
   "metadata": {},
   "outputs": [],
   "source": [
    "esM.add(fn.Conversion(esM=esM, name='Electroylzers', physicalUnit=r'GW$_{el}$',\n",
    "                      commodityConversionFactors={'electricity':-1, 'hydrogen':0.7},\n",
    "                      hasCapacityVariable=True, \n",
    "                      investPerCapacity=0.5, opexPerCapacity=0.5*0.025, interestRate=0.08,\n",
    "                      economicLifetime=10))"
   ]
  },
  {
   "cell_type": "markdown",
   "metadata": {},
   "source": [
    "### rSOC"
   ]
  },
  {
   "cell_type": "code",
   "execution_count": 19,
   "metadata": {},
   "outputs": [],
   "source": [
    "capexRSOC=1.5\n",
    "\n",
    "esM.add(fn.Conversion(esM=esM, name='rSOEC', physicalUnit=r'GW$_{el}$', linkedConversionCapacityID='rSOC',\n",
    "                      commodityConversionFactors={'electricity':-1, 'hydrogen':0.6},\n",
    "                      hasCapacityVariable=True, \n",
    "                      investPerCapacity=capexRSOC/2, opexPerCapacity=capexRSOC*0.02/2, interestRate=0.08,\n",
    "                      economicLifetime=10))\n",
    "\n",
    "esM.add(fn.Conversion(esM=esM, name='rSOFC', physicalUnit=r'GW$_{el}$', linkedConversionCapacityID='rSOC',\n",
    "                      commodityConversionFactors={'electricity':1, 'hydrogen':-1/0.6},\n",
    "                      hasCapacityVariable=True, \n",
    "                      investPerCapacity=capexRSOC/2, opexPerCapacity=capexRSOC*0.02/2, interestRate=0.08,\n",
    "                      economicLifetime=10))"
   ]
  },
  {
   "cell_type": "markdown",
   "metadata": {},
   "source": [
    "# 5. Add commodity storages to the energy system model"
   ]
  },
  {
   "cell_type": "markdown",
   "metadata": {},
   "source": [
    "## 5.1. Electricity storage"
   ]
  },
  {
   "cell_type": "markdown",
   "metadata": {},
   "source": [
    "### Lithium ion batteries\n",
    "\n",
    "The self discharge of a lithium ion battery is here described as 3% per month. The self discharge per hours is obtained using the equation (1-$\\text{selfDischarge}_\\text{hour})^{30*24\\text{h}} = 1-\\text{selfDischarge}_\\text{month}$."
   ]
  },
  {
   "cell_type": "code",
   "execution_count": 20,
   "metadata": {},
   "outputs": [],
   "source": [
    "esM.add(fn.Storage(esM=esM, name='Li-ion batteries', commodity='electricity',\n",
    "                   hasCapacityVariable=True, chargeEfficiency=0.95,\n",
    "                   cyclicLifetime=10000, dischargeEfficiency=0.95, selfDischarge=1-(1-0.03)**(1/(30*24)),\n",
    "                   chargeRate=1, dischargeRate=1, doPreciseTsaModeling=False,\n",
    "                   investPerCapacity=0.151, opexPerCapacity=0.002, interestRate=0.08,\n",
    "                   economicLifetime=22))"
   ]
  },
  {
   "cell_type": "markdown",
   "metadata": {},
   "source": [
    "## 5.2. Hydrogen storage"
   ]
  },
  {
   "cell_type": "markdown",
   "metadata": {},
   "source": [
    "### Hydrogen filled salt caverns\n",
    "The maximum capacity is here obtained by: dividing the given capacity (which is given for methane) by the lower heating value of methane and then multiplying it with the lower heating value of hydrogen."
   ]
  },
  {
   "cell_type": "code",
   "execution_count": 21,
   "metadata": {},
   "outputs": [],
   "source": [
    "esM.add(fn.Storage(esM=esM, name='Salt caverns (hydrogen)', commodity='hydrogen',\n",
    "                   hasCapacityVariable=True, capacityVariableDomain='continuous',\n",
    "                   capacityPerPlantUnit=133,\n",
    "                   chargeRate=1/470.37, dischargeRate=1/470.37, sharedPotentialID='Existing salt caverns',\n",
    "                   stateOfChargeMin=0.33, stateOfChargeMax=1, capacityMax=data['Salt caverns (hydrogen), capacityMax'],\n",
    "                   investPerCapacity=0.00011, opexPerCapacity=0.00057, interestRate=0.08,\n",
    "                   economicLifetime=30))"
   ]
  },
  {
   "cell_type": "markdown",
   "metadata": {},
   "source": [
    "## 5.3. Methane storage"
   ]
  },
  {
   "cell_type": "markdown",
   "metadata": {},
   "source": [
    "### Methane filled salt caverns"
   ]
  },
  {
   "cell_type": "code",
   "execution_count": 22,
   "metadata": {},
   "outputs": [],
   "source": [
    "esM.add(fn.Storage(esM=esM, name='Salt caverns (biogas)', commodity='biogas',\n",
    "                   hasCapacityVariable=True, capacityVariableDomain='continuous',\n",
    "                   capacityPerPlantUnit=443,\n",
    "                   chargeRate=1/470.37, dischargeRate=1/470.37, sharedPotentialID='Existing salt caverns',\n",
    "                   stateOfChargeMin=0.33, stateOfChargeMax=1, capacityMax=data['Salt caverns (methane), capacityMax'],\n",
    "                   investPerCapacity=0.00004, opexPerCapacity=0.00001, interestRate=0.08,\n",
    "                   economicLifetime=30))"
   ]
  },
  {
   "cell_type": "markdown",
   "metadata": {},
   "source": [
    "## 5.4 Pumped hydro storage"
   ]
  },
  {
   "cell_type": "markdown",
   "metadata": {},
   "source": [
    "### Pumped hydro storage"
   ]
  },
  {
   "cell_type": "code",
   "execution_count": 23,
   "metadata": {},
   "outputs": [],
   "source": [
    "esM.add(fn.Storage(esM=esM, name='Pumped hydro storage', commodity='electricity',\n",
    "                   chargeEfficiency=0.88, dischargeEfficiency=0.88,\n",
    "                   hasCapacityVariable=True, selfDischarge=1-(1-0.00375)**(1/(30*24)),\n",
    "                   chargeRate=0.16, dischargeRate=0.12, capacityFix=data['Pumped hydro storage, capacityFix'],\n",
    "                   investPerCapacity=0, opexPerCapacity=0.000153))"
   ]
  },
  {
   "cell_type": "markdown",
   "metadata": {},
   "source": [
    "# 6. Add commodity transmission components to the energy system model"
   ]
  },
  {
   "cell_type": "markdown",
   "metadata": {},
   "source": [
    "## 6.1. Electricity transmission"
   ]
  },
  {
   "cell_type": "markdown",
   "metadata": {},
   "source": [
    "### AC cables"
   ]
  },
  {
   "cell_type": "markdown",
   "metadata": {},
   "source": [
    "esM.add(fn.LinearOptimalPowerFlow(esM=esM, name='AC cables', commodity='electricity',\n",
    "                                  hasCapacityVariable=True, capacityFix=data['AC cables, capacityFix'],\n",
    "                                  reactances=data['AC cables, reactances']))"
   ]
  },
  {
   "cell_type": "code",
   "execution_count": 24,
   "metadata": {},
   "outputs": [
    {
     "name": "stdout",
     "output_type": "stream",
     "text": [
      "The distances of a component are set to a normalized value of 1.\n"
     ]
    }
   ],
   "source": [
    "esM.add(fn.Transmission(esM=esM, name='AC cables', commodity='electricity',\n",
    "                                  hasCapacityVariable=True, capacityFix=data['AC cables, capacityFix']))"
   ]
  },
  {
   "cell_type": "markdown",
   "metadata": {},
   "source": [
    "### DC cables"
   ]
  },
  {
   "cell_type": "code",
   "execution_count": 25,
   "metadata": {},
   "outputs": [],
   "source": [
    "esM.add(fn.Transmission(esM=esM, name='DC cables', commodity='electricity', losses=data['DC cables, losses'],\n",
    "                        distances=data['DC cables, distances'],\n",
    "                        hasCapacityVariable=True, capacityFix=data['DC cables, capacityFix']))"
   ]
  },
  {
   "cell_type": "markdown",
   "metadata": {},
   "source": [
    "## 6.2 Methane transmission"
   ]
  },
  {
   "cell_type": "markdown",
   "metadata": {},
   "source": [
    "### Methane pipeline"
   ]
  },
  {
   "cell_type": "code",
   "execution_count": 26,
   "metadata": {
    "scrolled": true
   },
   "outputs": [],
   "source": [
    "esM.add(fn.Transmission(esM=esM, name='Pipelines (biogas)', commodity='biogas', \n",
    "                        distances=data['Pipelines, distances'],\n",
    "                        hasCapacityVariable=True, hasIsBuiltBinaryVariable=True, bigM=300,\n",
    "                        locationalEligibility=data['Pipelines, eligibility'],\n",
    "                        capacityMax=data['Pipelines, eligibility']*15, sharedPotentialID='pipelines',\n",
    "                        investPerCapacity=0.000037, investIfBuilt=0.000314,\n",
    "                        interestRate=0.08, economicLifetime=40))"
   ]
  },
  {
   "cell_type": "markdown",
   "metadata": {},
   "source": [
    "esM.getComponent('Pipelines (methane)')._mapC['cluster_0_cluster_4'][1]"
   ]
  },
  {
   "cell_type": "markdown",
   "metadata": {},
   "source": [
    "## 6.3 Hydrogen transmission"
   ]
  },
  {
   "cell_type": "markdown",
   "metadata": {},
   "source": [
    "### Hydrogen pipelines"
   ]
  },
  {
   "cell_type": "code",
   "execution_count": 27,
   "metadata": {
    "scrolled": true
   },
   "outputs": [],
   "source": [
    "esM.add(fn.Transmission(esM=esM, name='Pipelines (hydrogen)', commodity='hydrogen',\n",
    "                        distances=data['Pipelines, distances'],\n",
    "                        hasCapacityVariable=True, hasIsBuiltBinaryVariable=True, bigM=300,\n",
    "                        locationalEligibility=data['Pipelines, eligibility'],\n",
    "                        capacityMax=data['Pipelines, eligibility']*15, sharedPotentialID='pipelines',\n",
    "                        investPerCapacity=0.000177, investIfBuilt=0.00033,\n",
    "                        interestRate=0.08, economicLifetime=40))"
   ]
  },
  {
   "cell_type": "markdown",
   "metadata": {},
   "source": [
    "esM.getComponent('Pipeline (hydrogen)')._mapC"
   ]
  },
  {
   "cell_type": "markdown",
   "metadata": {},
   "source": [
    "# 7. Add commodity sinks to the energy system model"
   ]
  },
  {
   "cell_type": "markdown",
   "metadata": {},
   "source": [
    "## 7.1. Electricity sinks"
   ]
  },
  {
   "cell_type": "markdown",
   "metadata": {},
   "source": [
    "### Electricity demand"
   ]
  },
  {
   "cell_type": "code",
   "execution_count": 28,
   "metadata": {},
   "outputs": [],
   "source": [
    "esM.add(fn.Sink(esM=esM, name='Electricity demand', commodity='electricity',\n",
    "                hasCapacityVariable=False, operationRateFix=data['Electricity demand, operationRateFix']))"
   ]
  },
  {
   "cell_type": "markdown",
   "metadata": {},
   "source": [
    "## 7.2. Hydrogen sinks"
   ]
  },
  {
   "cell_type": "markdown",
   "metadata": {},
   "source": [
    "### Fuel cell electric vehicle (FCEV) demand"
   ]
  },
  {
   "cell_type": "code",
   "execution_count": 29,
   "metadata": {},
   "outputs": [],
   "source": [
    "FCEV_penetration=0.5\n",
    "esM.add(fn.Sink(esM=esM, name='Hydrogen demand', commodity='hydrogen', hasCapacityVariable=False,\n",
    "                operationRateFix=data['Hydrogen demand, operationRateFix']*FCEV_penetration))"
   ]
  },
  {
   "cell_type": "markdown",
   "metadata": {},
   "source": [
    "## 7.3. CO2 sinks"
   ]
  },
  {
   "cell_type": "markdown",
   "metadata": {},
   "source": [
    "### CO2 exiting the system's boundary"
   ]
  },
  {
   "cell_type": "code",
   "execution_count": 30,
   "metadata": {},
   "outputs": [],
   "source": [
    "esM.add(fn.Sink(esM=esM, name='CO2 to enviroment', commodity='CO2',\n",
    "                hasCapacityVariable=False, commodityLimitID='CO2 limit', yearlyLimit=366*(1-CO2_reductionTarget)))"
   ]
  },
  {
   "cell_type": "markdown",
   "metadata": {},
   "source": [
    "# 8.1 Spatial Aggregation"
   ]
  },
  {
   "cell_type": "code",
   "execution_count": 31,
   "metadata": {},
   "outputs": [
    {
     "name": "stdout",
     "output_type": "stream",
     "text": [
      "elapsed time for distance_based_clustering: 0.00 minutes\n"
     ]
    }
   ],
   "source": [
    "from FINE.IOManagement import xarray_io as xrio\n",
    "\n",
    "shapefileFolder = os.path.join('InputData/SpatialData/ShapeFiles/')\n",
    "\n",
    "inputShapefile = 'clusteredRegions.shp'\n",
    "\n",
    "esM_aggregated = esM.spatial_aggregation(numberOfRegions=3, clusterMethod=\"centroid-based\", \n",
    "                                         shapefileFolder=shapefileFolder, inputShapefile=inputShapefile)\n",
    "\n",
    "aggregated_regions_FilePath = os.path.join(shapefileFolder, 'aggregated_regions.shp')\n",
    "aggregated_grid_FilePath = os.path.join(shapefileFolder, 'aggregated_grid.shp')"
   ]
  },
  {
   "cell_type": "markdown",
   "metadata": {},
   "source": [
    "All components are now added to the model and the model can be optimized. If the computational complexity of the optimization should be reduced, the time series data of the specified components can be clustered before the optimization and the parameter timeSeriesAggregation is set to True in the optimize call."
   ]
  },
  {
   "cell_type": "markdown",
   "metadata": {},
   "source": [
    "# 8.2 Temporal Aggregation"
   ]
  },
  {
   "cell_type": "code",
   "execution_count": 32,
   "metadata": {
    "scrolled": true
   },
   "outputs": [
    {
     "name": "stdout",
     "output_type": "stream",
     "text": [
      "\n",
      "Clustering time series data with 7 typical periods and 24 time steps per period...\n",
      "\t\t(4.1690 sec)\n",
      "\n",
      "\n",
      "Clustering time series data with 7 typical periods and 24 time steps per period...\n",
      "\t\t(1.4151 sec)\n",
      "\n"
     ]
    }
   ],
   "source": [
    "esM.cluster(numberOfTypicalPeriods=7)\n",
    "esM_aggregated.cluster(numberOfTypicalPeriods=7)"
   ]
  },
  {
   "cell_type": "markdown",
   "metadata": {},
   "source": [
    "### Optimization"
   ]
  },
  {
   "cell_type": "code",
   "execution_count": null,
   "metadata": {
    "scrolled": true,
    "tags": [
     "outputPrepend",
     "outputPrepend",
     "outputPrepend",
     "outputPrepend",
     "outputPrepend",
     "outputPrepend",
     "outputPrepend",
     "outputPrepend",
     "outputPrepend",
     "outputPrepend",
     "outputPrepend",
     "outputPrepend",
     "outputPrepend",
     "outputPrepend",
     "outputPrepend",
     "outputPrepend",
     "outputPrepend",
     "outputPrepend",
     "outputPrepend",
     "outputPrepend",
     "outputPrepend",
     "outputPrepend",
     "outputPrepend",
     "outputPrepend",
     "outputPrepend",
     "outputPrepend",
     "outputPrepend",
     "outputPrepend",
     "outputPrepend",
     "outputPrepend",
     "outputPrepend",
     "outputPrepend",
     "outputPrepend",
     "outputPrepend",
     "outputPrepend",
     "outputPrepend",
     "outputPrepend",
     "outputPrepend",
     "outputPrepend",
     "outputPrepend",
     "outputPrepend",
     "outputPrepend",
     "outputPrepend",
     "outputPrepend",
     "outputPrepend",
     "outputPrepend",
     "outputPrepend",
     "outputPrepend",
     "outputPrepend",
     "outputPrepend",
     "outputPrepend",
     "outputPrepend",
     "outputPrepend",
     "outputPrepend",
     "outputPrepend",
     "outputPrepend",
     "outputPrepend",
     "outputPrepend",
     "outputPrepend",
     "outputPrepend",
     "outputPrepend",
     "outputPrepend",
     "outputPrepend",
     "outputPrepend",
     "outputPrepend",
     "outputPrepend",
     "outputPrepend",
     "outputPrepend",
     "outputPrepend",
     "outputPrepend",
     "outputPrepend",
     "outputPrepend",
     "outputPrepend",
     "outputPrepend",
     "outputPrepend",
     "outputPrepend",
     "outputPrepend",
     "outputPrepend",
     "outputPrepend",
     "outputPrepend",
     "outputPrepend",
     "outputPrepend",
     "outputPrepend",
     "outputPrepend",
     "outputPrepend",
     "outputPrepend",
     "outputPrepend",
     "outputPrepend",
     "outputPrepend",
     "outputPrepend",
     "outputPrepend",
     "outputPrepend",
     "outputPrepend",
     "outputPrepend",
     "outputPrepend",
     "outputPrepend",
     "outputPrepend",
     "outputPrepend",
     "outputPrepend",
     "outputPrepend",
     "outputPrepend",
     "outputPrepend",
     "outputPrepend",
     "outputPrepend",
     "outputPrepend",
     "outputPrepend",
     "outputPrepend",
     "outputPrepend",
     "outputPrepend",
     "outputPrepend",
     "outputPrepend",
     "outputPrepend",
     "outputPrepend",
     "outputPrepend",
     "outputPrepend",
     "outputPrepend",
     "outputPrepend",
     "outputPrepend",
     "outputPrepend",
     "outputPrepend",
     "outputPrepend",
     "outputPrepend",
     "outputPrepend",
     "outputPrepend",
     "outputPrepend",
     "outputPrepend",
     "outputPrepend",
     "outputPrepend",
     "outputPrepend",
     "outputPrepend",
     "outputPrepend",
     "outputPrepend",
     "outputPrepend",
     "outputPrepend",
     "outputPrepend",
     "outputPrepend",
     "outputPrepend",
     "outputPrepend",
     "outputPrepend",
     "outputPrepend"
    ]
   },
   "outputs": [
    {
     "name": "stdout",
     "output_type": "stream",
     "text": [
      "Time series aggregation specifications:\n",
      "Number of typical periods:7, number of time steps per periods:24\n",
      "\n",
      "Declaring sets, variables and constraints for SourceSinkModel\n",
      "\tdeclaring sets... \n",
      "\tdeclaring variables... \n",
      "\tdeclaring constraints... \n",
      "\t\t(4.0049 sec)\n",
      "\n",
      "Declaring sets, variables and constraints for ConversionModel\n",
      "\tdeclaring sets... \n",
      "\tdeclaring variables... \n",
      "\tdeclaring constraints... \n",
      "\t\t(0.4827 sec)\n",
      "\n",
      "Declaring sets, variables and constraints for StorageModel\n",
      "\tdeclaring sets... \n",
      "\tdeclaring variables... \n",
      "\tdeclaring constraints... \n",
      "\t\t(6.5964 sec)\n",
      "\n",
      "Declaring sets, variables and constraints for TransmissionModel\n",
      "\tdeclaring sets... \n",
      "\tdeclaring variables... \n",
      "\tdeclaring constraints... \n",
      "\t\t(1.9530 sec)\n",
      "\n",
      "Declaring shared potential constraint...\n",
      "\t\t(0.0110 sec)\n",
      "\n",
      "Declaring commodity balances...\n",
      "\t\t(3.1947 sec)\n",
      "\n",
      "Declaring objective function...\n",
      "\t\t(1.1578 sec)\n",
      "\n",
      "GLPSOL: GLPK LP/MIP Solver, v4.65\n",
      "Parameter(s) specified in the command line:\n",
      " --write C:\\Users\\R2D98~1.BEE\\AppData\\Local\\Temp\\tmpd3yof27z.glpk.raw --wglp\n",
      " C:\\Users\\R2D98~1.BEE\\AppData\\Local\\Temp\\tmphli5dyjj.glpk.glp --cpxlp C:\\Users\\R2D98~1.BEE\\AppData\\Local\\Temp\\tmph368j3k5.pyomo.lp\n",
      "Reading problem data from 'C:\\Users\\R2D98~1.BEE\\AppData\\Local\\Temp\\tmph368j3k5.pyomo.lp'...\n",
      "C:\\Users\\R2D98~1.BEE\\AppData\\Local\\Temp\\tmph368j3k5.pyomo.lp:585162: warning: lower bound of variable 'x72030' redefined\n",
      "C:\\Users\\R2D98~1.BEE\\AppData\\Local\\Temp\\tmph368j3k5.pyomo.lp:585162: warning: upper bound of variable 'x72030' redefined\n",
      "85942 rows, 56962 columns, 267475 non-zeros\n",
      "52 integer variables, all of which are binary\n",
      "585214 lines were read\n",
      "Writing problem data to 'C:\\Users\\R2D98~1.BEE\\AppData\\Local\\Temp\\tmphli5dyjj.glpk.glp'...\n",
      "534601 lines were written\n",
      "GLPK Integer Optimizer, v4.65\n",
      "85942 rows, 56962 columns, 267475 non-zeros\n",
      "52 integer variables, all of which are binary\n",
      "Preprocessing...\n",
      "52 constraint coefficient(s) were reduced\n",
      "75754 rows, 49506 columns, 238540 non-zeros\n",
      "52 integer variables, all of which are binary\n",
      "Scaling...\n",
      " A: min|aij| =  1.846e-06  max|aij| =  4.545e+02  ratio =  2.462e+08\n",
      "GM: min|aij| =  2.218e-01  max|aij| =  4.508e+00  ratio =  2.033e+01\n",
      "EQ: min|aij| =  5.011e-02  max|aij| =  1.000e+00  ratio =  1.996e+01\n",
      "2N: min|aij| =  5.836e-02  max|aij| =  1.766e+00  ratio =  3.025e+01\n",
      "Constructing initial basis...\n",
      "Size of triangular part is 75199\n",
      "Solving LP relaxation...\n",
      "GLPK Simplex Optimizer, v4.65\n",
      "75754 rows, 49506 columns, 238540 non-zeros\n",
      "      0: obj =  -1.908364724e+02 inf =   4.047e+08 (18067)\n",
      "Perturbing LP to avoid instability [681]...\n",
      "   1089: obj =  -1.491467062e+02 inf =   3.567e+08 (17184) 9\n",
      "   2072: obj =  -1.127062537e+02 inf =   2.926e+08 (16560) 8\n",
      "   2805: obj =  -1.016057638e+02 inf =   2.860e+08 (15771) 7\n",
      "   3674: obj =  -5.042652965e+01 inf =   1.951e+08 (15221) 6\n",
      "   4321: obj =  -4.350037255e+01 inf =   1.900e+08 (14764) 6\n",
      "Warning: basis matrix is ill-conditioned (cond = 1.3e+14)\n",
      "   5000: obj =  -3.631797517e+01 inf =   1.885e+08 (14638) 6\n",
      "   5786: obj =  -1.921837178e+01 inf =   1.685e+08 (14473) 7\n",
      "   6454: obj =  -4.805135940e+00 inf =   1.680e+08 (14287) 6\n",
      "   7146: obj =   7.426281272e+00 inf =   1.658e+08 (14168) 6\n",
      "   7771: obj =   2.307698724e+01 inf =   1.507e+08 (13925) 5\n",
      "   8345: obj =   3.324613659e+01 inf =   1.429e+08 (13833) 6\n",
      "   9026: obj =   4.824285041e+01 inf =   1.219e+08 (13706) 5\n",
      "   9513: obj =   5.303711837e+01 inf =   1.162e+08 (13409) 4\n",
      "  10193: obj =   6.537866032e+01 inf =   1.006e+08 (13205) 5\n",
      "  10985: obj =   8.692044345e+01 inf =   9.949e+07 (12629) 7\n",
      "Warning: basis matrix is ill-conditioned (cond = 1.89e+13)\n",
      "  11558: obj =   1.038078638e+02 inf =   9.113e+07 (12424) 6\n",
      "  12242: obj =   1.153733086e+02 inf =   8.625e+07 (12167) 6\n",
      "  12873: obj =   1.175674872e+02 inf =   8.582e+07 (11849) 6\n",
      "  13292: obj =   1.183648607e+02 inf =   8.450e+07 (11778) 4\n",
      "  13782: obj =   1.296381780e+02 inf =   6.960e+07 (11054) 3\n",
      "  14522: obj =   1.523011657e+02 inf =   3.934e+07 (10684) 6\n",
      "  15237: obj =   1.546293179e+02 inf =   3.585e+07 (10628) 6\n",
      "  15860: obj =   1.559439565e+02 inf =   3.419e+07 (10521) 6\n",
      "  16603: obj =   1.582048129e+02 inf =   3.228e+07 (10278) 7\n",
      "  17342: obj =   1.514212761e+02 inf =   2.883e+07 (9869) 7\n",
      "  18027: obj =   1.505711692e+02 inf =   2.620e+07 (9082) 6\n",
      "  18672: obj =   1.508052892e+02 inf =   2.481e+07 (8989) 6\n",
      "  19312: obj =   1.485473866e+02 inf =   2.421e+07 (8837) 5\n",
      "  19958: obj =   1.431761327e+02 inf =   2.381e+07 (8382) 6\n",
      "  20553: obj =   1.439847117e+02 inf =   2.317e+07 (8336) 6\n",
      "  21171: obj =   1.468246542e+02 inf =   2.237e+07 (8006) 6\n",
      "  21702: obj =   1.521284393e+02 inf =   2.214e+07 (7885) 4\n",
      "  22268: obj =   1.591243109e+02 inf =   2.173e+07 (7841) 5\n",
      "  22778: obj =   1.596391117e+02 inf =   2.137e+07 (7750) 5\n",
      "  23262: obj =   1.611506430e+02 inf =   2.105e+07 (7650) 4\n",
      "  23744: obj =   1.614423088e+02 inf =   2.074e+07 (7570) 5\n",
      "  24221: obj =   1.619321667e+02 inf =   2.049e+07 (7524) 4\n",
      "  24760: obj =   1.633608350e+02 inf =   2.029e+07 (7408) 5\n",
      "  25120: obj =   1.641550986e+02 inf =   2.012e+07 (7390) 4\n",
      "  25497: obj =   1.646097287e+02 inf =   2.000e+07 (7385) 3\n",
      "Warning: basis matrix is ill-conditioned (cond = 7.08e+12)\n",
      "  25948: obj =   1.661976197e+02 inf =   1.986e+07 (7367) 5\n",
      "  26364: obj =   1.676455757e+02 inf =   1.967e+07 (7325) 4\n",
      "  26701: obj =   1.685711848e+02 inf =   1.958e+07 (7301) 3\n",
      "  27070: obj =   1.698173173e+02 inf =   1.952e+07 (7290) 4\n",
      "  27395: obj =   1.714249827e+02 inf =   1.933e+07 (7278) 3\n",
      "  27688: obj =   1.718090137e+02 inf =   1.930e+07 (7270) 3\n",
      "  28108: obj =   1.725775737e+02 inf =   1.922e+07 (7216) 3\n",
      "  28482: obj =   1.740860434e+02 inf =   1.906e+07 (7181) 4\n",
      "  28892: obj =   1.747084253e+02 inf =   1.899e+07 (7166) 3\n",
      "  29317: obj =   1.769600556e+02 inf =   1.870e+07 (7148) 4\n",
      "Warning: basis matrix is ill-conditioned (cond = 2.09e+13)\n",
      "  29713: obj =   1.804924529e+02 inf =   1.843e+07 (7134) 5\n",
      "Warning: basis matrix is ill-conditioned (cond = 2.9e+14)\n",
      "Warning: basis matrix is ill-conditioned (cond = 8.11e+13)\n",
      "Warning: basis matrix is ill-conditioned (cond = 1.51e+13)\n",
      "  30140: obj =   1.789076261e+02 inf =   1.821e+07 (7086) 4\n",
      "Warning: basis matrix is ill-conditioned (cond = 1.79e+14)\n",
      "Warning: basis matrix is ill-conditioned (cond = 7.65e+13)\n",
      "  30578: obj =   1.721122509e+02 inf =   1.767e+07 (7049) 6\n",
      "  30956: obj =   1.701734570e+02 inf =   1.749e+07 (7036) 3\n",
      "  31435: obj =   1.668201509e+02 inf =   1.711e+07 (6999) 5\n",
      "  31834: obj =   1.647146362e+02 inf =   1.689e+07 (6984) 4\n",
      "  32195: obj =   1.636512901e+02 inf =   1.681e+07 (6939) 3\n",
      "Warning: basis matrix is ill-conditioned (cond = 2.23e+13)\n",
      "  32561: obj =   1.621285101e+02 inf =   1.677e+07 (6930) 4\n",
      "  32928: obj =   1.606108317e+02 inf =   1.665e+07 (6920) 3\n",
      "  33471: obj =   1.601236635e+02 inf =   1.646e+07 (6871) 5\n",
      "Warning: basis matrix is ill-conditioned (cond = 3.62e+13)\n",
      "  34013: obj =   1.602298789e+02 inf =   1.635e+07 (6849) 4\n",
      "  34526: obj =   1.614964938e+02 inf =   1.621e+07 (6818) 5\n",
      "  35070: obj =   1.623009094e+02 inf =   1.614e+07 (6752) 5\n",
      "Warning: basis matrix is ill-conditioned (cond = 3.04e+13)\n",
      "  35598: obj =   1.643096880e+02 inf =   1.600e+07 (6646) 5\n",
      "  36102: obj =   1.636666522e+02 inf =   1.573e+07 (6610) 5\n",
      "  36535: obj =   1.633754506e+02 inf =   1.566e+07 (6598) 4\n",
      "  37057: obj =   1.639524202e+02 inf =   1.539e+07 (6565) 5\n",
      "  37489: obj =   1.646416456e+02 inf =   1.533e+07 (6565) 4\n",
      "  37847: obj =   1.634101529e+02 inf =   1.530e+07 (6553) 3\n",
      "  38195: obj =   1.639974353e+02 inf =   1.523e+07 (6552) 3\n",
      "  38616: obj =   1.638147538e+02 inf =   1.513e+07 (6254) 4\n",
      "Warning: basis matrix is ill-conditioned (cond = 1.55e+13)\n",
      "  39081: obj =   1.635061872e+02 inf =   1.499e+07 (6247) 5\n",
      "  39491: obj =   1.630353626e+02 inf =   1.491e+07 (6242) 3\n",
      "Warning: basis matrix is ill-conditioned (cond = 6.92e+13)\n",
      "Warning: basis matrix is ill-conditioned (cond = 2.27e+13)\n",
      "  39919: obj =   1.606915393e+02 inf =   1.476e+07 (6230) 7\n",
      "  40303: obj =   1.583804585e+02 inf =   1.464e+07 (6220) 3\n",
      "  40732: obj =   1.569483595e+02 inf =   1.455e+07 (6207) 4\n",
      "  41156: obj =   1.568257101e+02 inf =   1.448e+07 (6195) 4\n",
      "  41487: obj =   1.560904498e+02 inf =   1.443e+07 (6175) 3\n",
      "  41857: obj =   1.547651088e+02 inf =   1.434e+07 (6120) 3\n",
      "  42182: obj =   1.551655682e+02 inf =   1.429e+07 (6094) 3\n"
     ]
    },
    {
     "name": "stdout",
     "output_type": "stream",
     "text": [
      "  42531: obj =   1.564494897e+02 inf =   1.423e+07 (6075) 3\n",
      "  42896: obj =   1.563156883e+02 inf =   1.418e+07 (6040) 4\n",
      "  43301: obj =   1.562452683e+02 inf =   1.415e+07 (6006) 4\n",
      "  43723: obj =   1.572284455e+02 inf =   1.409e+07 (5999) 4\n",
      "Warning: basis matrix is ill-conditioned (cond = 6.02e+13)\n",
      "  44179: obj =   1.571363058e+02 inf =   1.406e+07 (5982) 4\n",
      "Warning: basis matrix is ill-conditioned (cond = 8.28e+12)\n",
      "Warning: basis matrix is ill-conditioned (cond = 6.96e+12)\n",
      "  44524: obj =   1.582111251e+02 inf =   1.403e+07 (5981) 3\n",
      "  44890: obj =   1.577673354e+02 inf =   1.403e+07 (5965) 4\n",
      "  45313: obj =   1.578845940e+02 inf =   1.402e+07 (5963) 3\n",
      "  45751: obj =   1.579012408e+02 inf =   1.389e+07 (5927) 4\n",
      "  46172: obj =   1.578601906e+02 inf =   1.380e+07 (5904) 4\n",
      "Warning: basis matrix is ill-conditioned (cond = 1.24e+14)\n",
      "Warning: basis matrix is ill-conditioned (cond = 1.12e+14)\n",
      "  46601: obj =   1.572143185e+02 inf =   1.374e+07 (5674) 5\n",
      "Warning: basis matrix is ill-conditioned (cond = 2.26e+13)\n",
      "  46945: obj =   1.572878534e+02 inf =   1.363e+07 (5611) 4\n",
      "Warning: basis matrix is ill-conditioned (cond = 1.11e+13)\n",
      "Warning: basis matrix is ill-conditioned (cond = 8.06e+12)\n",
      "  47239: obj =   1.575276019e+02 inf =   1.360e+07 (5582) 3\n",
      "  47506: obj =   1.576381169e+02 inf =   1.358e+07 (5577) 2\n",
      "  47792: obj =   1.578551593e+02 inf =   1.358e+07 (5577) 3\n",
      "  48097: obj =   1.582153656e+02 inf =   1.347e+07 (5572) 2\n",
      "  48421: obj =   1.592236133e+02 inf =   1.342e+07 (5550) 3\n",
      "Warning: basis matrix is ill-conditioned (cond = 2.26e+13)\n",
      "  48752: obj =   1.611797457e+02 inf =   1.340e+07 (5549) 3\n",
      "Warning: basis matrix is ill-conditioned (cond = 1.54e+14)\n",
      "  49080: obj =   1.637309506e+02 inf =   1.336e+07 (5546) 4\n",
      "Warning: basis matrix is ill-conditioned (cond = 3.51e+13)\n",
      "  49366: obj =   1.685678290e+02 inf =   1.329e+07 (5533) 3\n",
      "Warning: basis matrix is ill-conditioned (cond = 7.04e+13)\n",
      "  49716: obj =   1.711488933e+02 inf =   1.318e+07 (5527) 4\n",
      "Warning: basis matrix is ill-conditioned (cond = 1.62e+14)\n",
      "Warning: basis matrix is ill-conditioned (cond = 1.56e+14)\n",
      "Warning: basis matrix is ill-conditioned (cond = 9.76e+13)\n",
      "Warning: basis matrix is ill-conditioned (cond = 1.29e+14)\n",
      "  49997: obj =   1.733827429e+02 inf =   1.311e+07 (5524) 4\n",
      "Warning: basis matrix is ill-conditioned (cond = 2.62e+13)\n",
      "  50290: obj =   1.774567132e+02 inf =   1.290e+07 (5517) 3\n",
      "Warning: basis matrix is ill-conditioned (cond = 2.04e+13)\n",
      "Warning: basis matrix is ill-conditioned (cond = 1.46e+13)\n",
      "  50606: obj =   1.775766049e+02 inf =   1.287e+07 (5516) 2\n",
      "  50925: obj =   1.790506038e+02 inf =   1.270e+07 (5279) 3\n",
      "  51217: obj =   1.793215711e+02 inf =   1.269e+07 (5277) 3\n",
      "  51485: obj =   1.798621355e+02 inf =   1.256e+07 (5269) 2\n",
      "  51858: obj =   1.796897583e+02 inf =   1.246e+07 (5224) 3\n",
      "  52229: obj =   1.772432743e+02 inf =   1.235e+07 (5183) 3\n",
      "  52619: obj =   1.789537589e+02 inf =   1.221e+07 (5173) 4\n",
      "  52984: obj =   1.779854374e+02 inf =   1.207e+07 (5170) 3\n",
      "  53272: obj =   1.784504155e+02 inf =   1.200e+07 (5163) 3\n",
      "  53655: obj =   1.788480830e+02 inf =   1.195e+07 (5141) 3\n",
      "  53968: obj =   1.785712546e+02 inf =   1.193e+07 (5109) 3\n",
      "  54295: obj =   1.776592222e+02 inf =   1.189e+07 (5039) 3\n",
      "  54452: obj =   1.778999171e+02 inf =   1.187e+07 (5032) 2\n",
      "  54638: obj =   1.777113411e+02 inf =   1.184e+07 (5025) 2\n",
      "  54856: obj =   1.773733500e+02 inf =   1.183e+07 (5020) 2\n",
      "  55139: obj =   1.772114217e+02 inf =   1.182e+07 (5008) 2\n",
      "  55369: obj =   1.765737449e+02 inf =   1.179e+07 (5003) 2\n",
      "Warning: basis matrix is ill-conditioned (cond = 1.24e+13)\n",
      "  55696: obj =   1.767384087e+02 inf =   1.175e+07 (4778) 3\n",
      "Warning: basis matrix is ill-conditioned (cond = 1.83e+13)\n",
      "Warning: basis matrix is ill-conditioned (cond = 2.78e+13)\n",
      "Warning: basis matrix is ill-conditioned (cond = 5.27e+13)\n",
      "  56039: obj =   1.766795915e+02 inf =   1.170e+07 (4742) 3\n",
      "Warning: basis matrix is ill-conditioned (cond = 3.97e+13)\n",
      "Warning: basis matrix is ill-conditioned (cond = 3.97e+13)\n",
      "  56334: obj =   1.765757010e+02 inf =   1.168e+07 (4736) 3\n",
      "  56555: obj =   1.769265792e+02 inf =   1.164e+07 (4721) 2\n",
      "  56843: obj =   1.789207722e+02 inf =   1.161e+07 (4710) 3\n",
      "Warning: basis matrix is ill-conditioned (cond = 7.34e+13)\n",
      "  57099: obj =   1.783591987e+02 inf =   1.156e+07 (4703) 3\n",
      "  57345: obj =   1.770916740e+02 inf =   1.154e+07 (4701) 2\n",
      "  57600: obj =   1.756960953e+02 inf =   1.151e+07 (4693) 3\n",
      "  57885: obj =   1.753382186e+02 inf =   1.150e+07 (4692) 2\n",
      "  58201: obj =   1.747714508e+02 inf =   1.139e+07 (4662) 3\n",
      "  58522: obj =   1.747481462e+02 inf =   1.138e+07 (4659) 3\n",
      "  58768: obj =   1.739832912e+02 inf =   1.136e+07 (4646) 2\n",
      "Warning: basis matrix is ill-conditioned (cond = 2.07e+13)\n",
      "Warning: basis matrix is ill-conditioned (cond = 1.82e+13)\n",
      "Warning: basis matrix is ill-conditioned (cond = 1.43e+14)\n",
      "  59056: obj =   1.738474256e+02 inf =   1.128e+07 (4608) 4\n",
      "Warning: basis matrix is ill-conditioned (cond = 5.85e+12)\n",
      "Warning: basis matrix is ill-conditioned (cond = 7.04e+13)\n",
      "  59342: obj =   1.735768145e+02 inf =   1.125e+07 (4593) 3\n",
      "Warning: basis matrix is ill-conditioned (cond = 2.25e+13)\n",
      "  59589: obj =   1.734717437e+02 inf =   1.123e+07 (4591) 3\n",
      "  59873: obj =   1.733510735e+02 inf =   1.122e+07 (4590) 2\n",
      "  60239: obj =   1.716826053e+02 inf =   1.120e+07 (4585) 4\n",
      "  60578: obj =   1.709963176e+02 inf =   1.117e+07 (4575) 3\n",
      "  60839: obj =   1.715065862e+02 inf =   1.114e+07 (4563) 2\n",
      "Warning: basis matrix is ill-conditioned (cond = 2.56e+13)\n",
      "  61096: obj =   1.712772729e+02 inf =   1.110e+07 (4546) 3\n"
     ]
    }
   ],
   "source": [
    "esM.optimize(timeSeriesAggregation=True, solver=\"glpk\")"
   ]
  },
  {
   "cell_type": "code",
   "execution_count": null,
   "metadata": {
    "scrolled": true
   },
   "outputs": [],
   "source": [
    "esM_aggregated.optimize(timeSeriesAggregation=True, solver=\"glpk\")"
   ]
  },
  {
   "cell_type": "markdown",
   "metadata": {},
   "source": [
    " 9. Selected results output\n",
    "\n",
    "Plot locations (GeoPandas required)"
   ]
  },
  {
   "cell_type": "code",
   "execution_count": null,
   "metadata": {},
   "outputs": [],
   "source": [
    "locFilePath = os.path.join(cwd, 'InputData', 'SpatialData','ShapeFiles', 'clusteredRegions.shp')\n",
    "fig, ax = fn.plotLocations(locFilePath, plotLocNames=True, indexColumn='index')"
   ]
  },
  {
   "cell_type": "code",
   "execution_count": null,
   "metadata": {},
   "outputs": [],
   "source": [
    "fig, ax = fn.plotLocations(aggregated_regions_FilePath, plotLocNames=True, indexColumn='index')"
   ]
  },
  {
   "cell_type": "markdown",
   "metadata": {},
   "source": [
    "### Sources and Sink\n",
    "\n",
    "Show optimization summary"
   ]
  },
  {
   "cell_type": "code",
   "execution_count": null,
   "metadata": {
    "scrolled": false
   },
   "outputs": [],
   "source": [
    "esM.getOptimizationSummary(\"SourceSinkModel\", outputLevel=2)"
   ]
  },
  {
   "cell_type": "code",
   "execution_count": null,
   "metadata": {},
   "outputs": [],
   "source": [
    "esM_aggregated.getOptimizationSummary(\"SourceSinkModel\", outputLevel=2)"
   ]
  },
  {
   "cell_type": "markdown",
   "metadata": {},
   "source": [
    "Plot installed capacities"
   ]
  },
  {
   "cell_type": "code",
   "execution_count": null,
   "metadata": {
    "scrolled": false
   },
   "outputs": [],
   "source": [
    "fig, ax = fn.plotLocationalColorMap(esM, 'Wind (onshore)', locFilePath, 'index', perArea=True)"
   ]
  },
  {
   "cell_type": "code",
   "execution_count": null,
   "metadata": {
    "scrolled": false
   },
   "outputs": [],
   "source": [
    "fig, ax = fn.plotLocationalColorMap(esM_aggregated, 'Wind (onshore)', \n",
    "                                    aggregated_regions_FilePath, 'index', perArea=True)"
   ]
  },
  {
   "cell_type": "code",
   "execution_count": null,
   "metadata": {
    "scrolled": false
   },
   "outputs": [],
   "source": [
    "fig, ax = fn.plotLocationalColorMap(esM, 'PV', locFilePath, 'index', perArea=True)"
   ]
  },
  {
   "cell_type": "code",
   "execution_count": null,
   "metadata": {
    "scrolled": false
   },
   "outputs": [],
   "source": [
    "fig, ax = fn.plotLocationalColorMap(esM_aggregated, 'PV', aggregated_regions_FilePath, 'index', perArea=True)"
   ]
  },
  {
   "cell_type": "markdown",
   "metadata": {},
   "source": [
    "Plot operation time series (either one or two dimensional)"
   ]
  },
  {
   "cell_type": "code",
   "execution_count": null,
   "metadata": {},
   "outputs": [],
   "source": [
    "fig, ax = fn.plotOperation(esM, 'Electricity demand', 'cluster_0')"
   ]
  },
  {
   "cell_type": "code",
   "execution_count": null,
   "metadata": {},
   "outputs": [],
   "source": [
    "fig, ax = fn.plotOperationColorMap(esM, 'Electricity demand', 'cluster_0')"
   ]
  },
  {
   "cell_type": "markdown",
   "metadata": {},
   "source": [
    "### Conversion\n",
    "\n",
    "Show optimization summary"
   ]
  },
  {
   "cell_type": "code",
   "execution_count": null,
   "metadata": {},
   "outputs": [],
   "source": [
    "esM.getOptimizationSummary(\"ConversionModel\", outputLevel=2)"
   ]
  },
  {
   "cell_type": "code",
   "execution_count": null,
   "metadata": {},
   "outputs": [],
   "source": [
    "esM_aggregated.getOptimizationSummary(\"ConversionModel\", outputLevel=2)"
   ]
  },
  {
   "cell_type": "code",
   "execution_count": null,
   "metadata": {},
   "outputs": [],
   "source": [
    "fig, ax = fn.plotOperationColorMap(esM, 'New CCGT plants (biogas)', 'cluster_2')"
   ]
  },
  {
   "cell_type": "code",
   "execution_count": null,
   "metadata": {},
   "outputs": [],
   "source": [
    "fig, ax = fn.plotOperationColorMap(esM_aggregated, 'New CCGT plants (biogas)', 'cluster_1_cluster_2')"
   ]
  },
  {
   "cell_type": "markdown",
   "metadata": {},
   "source": [
    "### Storage\n",
    "\n",
    "Show optimization summary"
   ]
  },
  {
   "cell_type": "code",
   "execution_count": null,
   "metadata": {},
   "outputs": [],
   "source": [
    "esM.getOptimizationSummary(\"StorageModel\", outputLevel=2)"
   ]
  },
  {
   "cell_type": "code",
   "execution_count": null,
   "metadata": {},
   "outputs": [],
   "source": [
    "fig, ax = fn.plotOperationColorMap(esM, 'Li-ion batteries', 'cluster_2', \n",
    "                                   variableName='stateOfChargeOperationVariablesOptimum')"
   ]
  },
  {
   "cell_type": "code",
   "execution_count": null,
   "metadata": {},
   "outputs": [],
   "source": [
    "fig, ax = fn.plotOperationColorMap(esM, 'Pumped hydro storage', 'cluster_2',\n",
    "                                  variableName='stateOfChargeOperationVariablesOptimum')"
   ]
  },
  {
   "cell_type": "code",
   "execution_count": null,
   "metadata": {},
   "outputs": [],
   "source": [
    "fig, ax = fn.plotOperationColorMap(esM, 'Salt caverns (biogas)', 'cluster_2',\n",
    "                                  variableName='stateOfChargeOperationVariablesOptimum')"
   ]
  },
  {
   "cell_type": "code",
   "execution_count": null,
   "metadata": {},
   "outputs": [],
   "source": [
    "fig, ax = fn.plotOperationColorMap(esM, 'Salt caverns (hydrogen)', 'cluster_2',\n",
    "                                  variableName='stateOfChargeOperationVariablesOptimum')"
   ]
  },
  {
   "cell_type": "markdown",
   "metadata": {},
   "source": [
    "## Transmission\n",
    "\n",
    "Show optimization summary"
   ]
  },
  {
   "cell_type": "code",
   "execution_count": null,
   "metadata": {
    "scrolled": false
   },
   "outputs": [],
   "source": [
    "esM.getOptimizationSummary(\"TransmissionModel\", outputLevel=2).loc['Pipelines (hydrogen)']"
   ]
  },
  {
   "cell_type": "markdown",
   "metadata": {},
   "source": [
    "Check that the shared capacity of the pipelines are not exceeded"
   ]
  },
  {
   "cell_type": "code",
   "execution_count": null,
   "metadata": {},
   "outputs": [],
   "source": [
    "df=esM.componentModelingDict[\"TransmissionModel\"].capacityVariablesOptimum\n",
    "df.loc['Pipelines (biogas)']+df.loc['Pipelines (hydrogen)']"
   ]
  },
  {
   "cell_type": "markdown",
   "metadata": {},
   "source": [
    "Plot installed transmission capacities"
   ]
  },
  {
   "cell_type": "code",
   "execution_count": null,
   "metadata": {},
   "outputs": [],
   "source": [
    "transFilePath = os.path.join(cwd, 'InputData', 'SpatialData','ShapeFiles', 'AClines.shp')\n",
    "\n",
    "fig, ax = fn.plotLocations(locFilePath, indexColumn='index')                                 \n",
    "fig, ax = fn.plotTransmission(esM, 'AC cables', transFilePath, loc0='bus0', loc1='bus1', fig=fig, ax=ax)"
   ]
  },
  {
   "cell_type": "code",
   "execution_count": null,
   "metadata": {},
   "outputs": [],
   "source": [
    "fig, ax = fn.plotLocations(aggregated_regions_FilePath, indexColumn='index')                                 \n",
    "fig, ax = fn.plotTransmission(esM_aggregated, 'AC cables', aggregated_grid_FilePath, loc0='bus0', loc1='bus1', fig=fig, ax=ax)"
   ]
  },
  {
   "cell_type": "code",
   "execution_count": null,
   "metadata": {},
   "outputs": [],
   "source": [
    "transFilePath = os.path.join(cwd, 'InputData', 'SpatialData','ShapeFiles', 'DClines.shp')\n",
    "\n",
    "fig, ax = fn.plotLocations(locFilePath, indexColumn='index')                                 \n",
    "fig, ax = fn.plotTransmission(esM, 'DC cables', transFilePath, loc0='cluster0', loc1='cluster1', fig=fig, ax=ax)"
   ]
  },
  {
   "cell_type": "code",
   "execution_count": null,
   "metadata": {},
   "outputs": [],
   "source": [
    "transFilePath = os.path.join(cwd, 'InputData', 'SpatialData','ShapeFiles', 'transmissionPipeline.shp')\n",
    "\n",
    "fig, ax = fn.plotLocations(locFilePath, indexColumn='index')                                 \n",
    "fig, ax = fn.plotTransmission(esM, 'Pipelines (hydrogen)', transFilePath, loc0='cluster0', loc1='cluster1',\n",
    "                              fig=fig, ax=ax)"
   ]
  },
  {
   "cell_type": "code",
   "execution_count": null,
   "metadata": {},
   "outputs": [],
   "source": [
    "transFilePath = os.path.join(cwd, 'InputData', 'SpatialData','ShapeFiles', 'transmissionPipeline.shp')\n",
    "\n",
    "fig, ax = fn.plotLocations(locFilePath, indexColumn='index')                                 \n",
    "fig, ax = fn.plotTransmission(esM, 'Pipelines (biogas)', transFilePath, loc0='cluster0', loc1='cluster1',\n",
    "                              fig=fig, ax=ax)"
   ]
  },
  {
   "cell_type": "code",
   "execution_count": null,
   "metadata": {},
   "outputs": [],
   "source": []
  },
  {
   "cell_type": "code",
   "execution_count": null,
   "metadata": {},
   "outputs": [],
   "source": []
  },
  {
   "cell_type": "code",
   "execution_count": null,
   "metadata": {},
   "outputs": [],
   "source": []
  }
 ],
 "metadata": {
  "anaconda-cloud": {},
  "kernelspec": {
   "display_name": "Python 3.6.10 64-bit ('FINE': conda)",
   "language": "python",
   "name": "python361064bitfinecondad20532319ad94d9b832fbe0e5710fadd"
  },
  "language_info": {
   "codemirror_mode": {
    "name": "ipython",
    "version": 3
   },
   "file_extension": ".py",
   "mimetype": "text/x-python",
   "name": "python",
   "nbconvert_exporter": "python",
   "pygments_lexer": "ipython3",
   "version": "3.6.10"
  }
 },
 "nbformat": 4,
 "nbformat_minor": 1
}
