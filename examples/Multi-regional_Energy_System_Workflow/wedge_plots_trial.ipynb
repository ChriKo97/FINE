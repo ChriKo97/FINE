{
 "cells": [
  {
   "cell_type": "code",
   "execution_count": 9,
   "metadata": {},
   "outputs": [],
   "source": [
    "import geopandas as gpd\n",
    "import matplotlib.pyplot as plt\n",
    "import numpy as np"
   ]
  },
  {
   "cell_type": "code",
   "execution_count": 3,
   "metadata": {},
   "outputs": [],
   "source": [
    "shapefile = gpd.read_file(\"C:\\Repos\\FINE\\examples\\Multi-regional_Energy_System_Workflow\\InputData\\SpatialData\\ShapeFiles\\clusteredRegions.shp\")"
   ]
  },
  {
   "cell_type": "code",
   "execution_count": 4,
   "metadata": {},
   "outputs": [
    {
     "data": {
      "text/html": [
       "<div>\n",
       "<style scoped>\n",
       "    .dataframe tbody tr th:only-of-type {\n",
       "        vertical-align: middle;\n",
       "    }\n",
       "\n",
       "    .dataframe tbody tr th {\n",
       "        vertical-align: top;\n",
       "    }\n",
       "\n",
       "    .dataframe thead th {\n",
       "        text-align: right;\n",
       "    }\n",
       "</style>\n",
       "<table border=\"1\" class=\"dataframe\">\n",
       "  <thead>\n",
       "    <tr style=\"text-align: right;\">\n",
       "      <th></th>\n",
       "      <th>index</th>\n",
       "      <th>geometry</th>\n",
       "    </tr>\n",
       "  </thead>\n",
       "  <tbody>\n",
       "    <tr>\n",
       "      <th>0</th>\n",
       "      <td>cluster_0</td>\n",
       "      <td>MULTIPOLYGON (((4223496.092 2734368.143, 42236...</td>\n",
       "    </tr>\n",
       "    <tr>\n",
       "      <th>1</th>\n",
       "      <td>cluster_1</td>\n",
       "      <td>MULTIPOLYGON (((4199685.633 3404002.686, 41996...</td>\n",
       "    </tr>\n",
       "    <tr>\n",
       "      <th>2</th>\n",
       "      <td>cluster_2</td>\n",
       "      <td>MULTIPOLYGON (((4106781.295 3394915.767, 41067...</td>\n",
       "    </tr>\n",
       "    <tr>\n",
       "      <th>3</th>\n",
       "      <td>cluster_3</td>\n",
       "      <td>MULTIPOLYGON (((4602449.935 3408647.034, 46024...</td>\n",
       "    </tr>\n",
       "    <tr>\n",
       "      <th>4</th>\n",
       "      <td>cluster_4</td>\n",
       "      <td>POLYGON ((4553700.750 2730225.831, 4553786.048...</td>\n",
       "    </tr>\n",
       "  </tbody>\n",
       "</table>\n",
       "</div>"
      ],
      "text/plain": [
       "       index                                           geometry\n",
       "0  cluster_0  MULTIPOLYGON (((4223496.092 2734368.143, 42236...\n",
       "1  cluster_1  MULTIPOLYGON (((4199685.633 3404002.686, 41996...\n",
       "2  cluster_2  MULTIPOLYGON (((4106781.295 3394915.767, 41067...\n",
       "3  cluster_3  MULTIPOLYGON (((4602449.935 3408647.034, 46024...\n",
       "4  cluster_4  POLYGON ((4553700.750 2730225.831, 4553786.048..."
      ]
     },
     "execution_count": 4,
     "metadata": {},
     "output_type": "execute_result"
    }
   ],
   "source": [
    "shapefile.head()"
   ]
  },
  {
   "cell_type": "code",
   "execution_count": 12,
   "metadata": {},
   "outputs": [
    {
     "data": {
      "text/plain": [
       "8"
      ]
     },
     "execution_count": 12,
     "metadata": {},
     "output_type": "execute_result"
    }
   ],
   "source": [
    "len(shapefile)"
   ]
  },
  {
   "cell_type": "code",
   "execution_count": 46,
   "metadata": {},
   "outputs": [],
   "source": [
    "shapefile['value1'] = np.random.randint(200, size=8)\n",
    "shapefile['value2'] = np.random.randint(100, size=8)"
   ]
  },
  {
   "cell_type": "code",
   "execution_count": 47,
   "metadata": {},
   "outputs": [],
   "source": [
    "shapefile['sum'] = shapefile['value1'] + shapefile['value2']"
   ]
  },
  {
   "cell_type": "code",
   "execution_count": 48,
   "metadata": {},
   "outputs": [
    {
     "data": {
      "text/html": [
       "<div>\n",
       "<style scoped>\n",
       "    .dataframe tbody tr th:only-of-type {\n",
       "        vertical-align: middle;\n",
       "    }\n",
       "\n",
       "    .dataframe tbody tr th {\n",
       "        vertical-align: top;\n",
       "    }\n",
       "\n",
       "    .dataframe thead th {\n",
       "        text-align: right;\n",
       "    }\n",
       "</style>\n",
       "<table border=\"1\" class=\"dataframe\">\n",
       "  <thead>\n",
       "    <tr style=\"text-align: right;\">\n",
       "      <th></th>\n",
       "      <th>index</th>\n",
       "      <th>geometry</th>\n",
       "      <th>value1</th>\n",
       "      <th>value2</th>\n",
       "      <th>sum</th>\n",
       "      <th>total_degree</th>\n",
       "      <th>value1_degree</th>\n",
       "      <th>value2_degree</th>\n",
       "    </tr>\n",
       "  </thead>\n",
       "  <tbody>\n",
       "    <tr>\n",
       "      <th>0</th>\n",
       "      <td>cluster_0</td>\n",
       "      <td>MULTIPOLYGON (((4223496.092 2734368.143, 42236...</td>\n",
       "      <td>87</td>\n",
       "      <td>55</td>\n",
       "      <td>142</td>\n",
       "      <td>360</td>\n",
       "      <td>227.200000</td>\n",
       "      <td>132.800000</td>\n",
       "    </tr>\n",
       "    <tr>\n",
       "      <th>1</th>\n",
       "      <td>cluster_1</td>\n",
       "      <td>MULTIPOLYGON (((4199685.633 3404002.686, 41996...</td>\n",
       "      <td>168</td>\n",
       "      <td>12</td>\n",
       "      <td>180</td>\n",
       "      <td>360</td>\n",
       "      <td>230.679612</td>\n",
       "      <td>129.320388</td>\n",
       "    </tr>\n",
       "    <tr>\n",
       "      <th>2</th>\n",
       "      <td>cluster_2</td>\n",
       "      <td>MULTIPOLYGON (((4106781.295 3394915.767, 41067...</td>\n",
       "      <td>183</td>\n",
       "      <td>91</td>\n",
       "      <td>274</td>\n",
       "      <td>360</td>\n",
       "      <td>77.142857</td>\n",
       "      <td>282.857143</td>\n",
       "    </tr>\n",
       "    <tr>\n",
       "      <th>3</th>\n",
       "      <td>cluster_3</td>\n",
       "      <td>MULTIPOLYGON (((4602449.935 3408647.034, 46024...</td>\n",
       "      <td>91</td>\n",
       "      <td>64</td>\n",
       "      <td>155</td>\n",
       "      <td>360</td>\n",
       "      <td>192.918660</td>\n",
       "      <td>167.081340</td>\n",
       "    </tr>\n",
       "    <tr>\n",
       "      <th>4</th>\n",
       "      <td>cluster_4</td>\n",
       "      <td>POLYGON ((4553700.750 2730225.831, 4553786.048...</td>\n",
       "      <td>194</td>\n",
       "      <td>97</td>\n",
       "      <td>291</td>\n",
       "      <td>360</td>\n",
       "      <td>224.615385</td>\n",
       "      <td>135.384615</td>\n",
       "    </tr>\n",
       "  </tbody>\n",
       "</table>\n",
       "</div>"
      ],
      "text/plain": [
       "       index                                           geometry  value1  \\\n",
       "0  cluster_0  MULTIPOLYGON (((4223496.092 2734368.143, 42236...      87   \n",
       "1  cluster_1  MULTIPOLYGON (((4199685.633 3404002.686, 41996...     168   \n",
       "2  cluster_2  MULTIPOLYGON (((4106781.295 3394915.767, 41067...     183   \n",
       "3  cluster_3  MULTIPOLYGON (((4602449.935 3408647.034, 46024...      91   \n",
       "4  cluster_4  POLYGON ((4553700.750 2730225.831, 4553786.048...     194   \n",
       "\n",
       "   value2  sum  total_degree  value1_degree  value2_degree  \n",
       "0      55  142           360     227.200000     132.800000  \n",
       "1      12  180           360     230.679612     129.320388  \n",
       "2      91  274           360      77.142857     282.857143  \n",
       "3      64  155           360     192.918660     167.081340  \n",
       "4      97  291           360     224.615385     135.384615  "
      ]
     },
     "execution_count": 48,
     "metadata": {},
     "output_type": "execute_result"
    }
   ],
   "source": [
    "shapefile.head()"
   ]
  },
  {
   "cell_type": "code",
   "execution_count": 49,
   "metadata": {},
   "outputs": [],
   "source": [
    "shapefile['total_degree'] = 360\n",
    "shapefile['value1_degree'] = (shapefile['value1'] / shapefile['sum']) * shapefile['total_degree']\n",
    "shapefile['value2_degree'] = (shapefile['value2'] / shapefile['sum']) * shapefile['total_degree']"
   ]
  },
  {
   "cell_type": "code",
   "execution_count": 50,
   "metadata": {
    "scrolled": true
   },
   "outputs": [
    {
     "data": {
      "text/html": [
       "<div>\n",
       "<style scoped>\n",
       "    .dataframe tbody tr th:only-of-type {\n",
       "        vertical-align: middle;\n",
       "    }\n",
       "\n",
       "    .dataframe tbody tr th {\n",
       "        vertical-align: top;\n",
       "    }\n",
       "\n",
       "    .dataframe thead th {\n",
       "        text-align: right;\n",
       "    }\n",
       "</style>\n",
       "<table border=\"1\" class=\"dataframe\">\n",
       "  <thead>\n",
       "    <tr style=\"text-align: right;\">\n",
       "      <th></th>\n",
       "      <th>index</th>\n",
       "      <th>geometry</th>\n",
       "      <th>value1</th>\n",
       "      <th>value2</th>\n",
       "      <th>sum</th>\n",
       "      <th>total_degree</th>\n",
       "      <th>value1_degree</th>\n",
       "      <th>value2_degree</th>\n",
       "    </tr>\n",
       "  </thead>\n",
       "  <tbody>\n",
       "    <tr>\n",
       "      <th>0</th>\n",
       "      <td>cluster_0</td>\n",
       "      <td>MULTIPOLYGON (((4223496.092 2734368.143, 42236...</td>\n",
       "      <td>87</td>\n",
       "      <td>55</td>\n",
       "      <td>142</td>\n",
       "      <td>360</td>\n",
       "      <td>220.563380</td>\n",
       "      <td>139.436620</td>\n",
       "    </tr>\n",
       "    <tr>\n",
       "      <th>1</th>\n",
       "      <td>cluster_1</td>\n",
       "      <td>MULTIPOLYGON (((4199685.633 3404002.686, 41996...</td>\n",
       "      <td>168</td>\n",
       "      <td>12</td>\n",
       "      <td>180</td>\n",
       "      <td>360</td>\n",
       "      <td>336.000000</td>\n",
       "      <td>24.000000</td>\n",
       "    </tr>\n",
       "    <tr>\n",
       "      <th>2</th>\n",
       "      <td>cluster_2</td>\n",
       "      <td>MULTIPOLYGON (((4106781.295 3394915.767, 41067...</td>\n",
       "      <td>183</td>\n",
       "      <td>91</td>\n",
       "      <td>274</td>\n",
       "      <td>360</td>\n",
       "      <td>240.437956</td>\n",
       "      <td>119.562044</td>\n",
       "    </tr>\n",
       "    <tr>\n",
       "      <th>3</th>\n",
       "      <td>cluster_3</td>\n",
       "      <td>MULTIPOLYGON (((4602449.935 3408647.034, 46024...</td>\n",
       "      <td>91</td>\n",
       "      <td>64</td>\n",
       "      <td>155</td>\n",
       "      <td>360</td>\n",
       "      <td>211.354839</td>\n",
       "      <td>148.645161</td>\n",
       "    </tr>\n",
       "    <tr>\n",
       "      <th>4</th>\n",
       "      <td>cluster_4</td>\n",
       "      <td>POLYGON ((4553700.750 2730225.831, 4553786.048...</td>\n",
       "      <td>194</td>\n",
       "      <td>97</td>\n",
       "      <td>291</td>\n",
       "      <td>360</td>\n",
       "      <td>240.000000</td>\n",
       "      <td>120.000000</td>\n",
       "    </tr>\n",
       "  </tbody>\n",
       "</table>\n",
       "</div>"
      ],
      "text/plain": [
       "       index                                           geometry  value1  \\\n",
       "0  cluster_0  MULTIPOLYGON (((4223496.092 2734368.143, 42236...      87   \n",
       "1  cluster_1  MULTIPOLYGON (((4199685.633 3404002.686, 41996...     168   \n",
       "2  cluster_2  MULTIPOLYGON (((4106781.295 3394915.767, 41067...     183   \n",
       "3  cluster_3  MULTIPOLYGON (((4602449.935 3408647.034, 46024...      91   \n",
       "4  cluster_4  POLYGON ((4553700.750 2730225.831, 4553786.048...     194   \n",
       "\n",
       "   value2  sum  total_degree  value1_degree  value2_degree  \n",
       "0      55  142           360     220.563380     139.436620  \n",
       "1      12  180           360     336.000000      24.000000  \n",
       "2      91  274           360     240.437956     119.562044  \n",
       "3      64  155           360     211.354839     148.645161  \n",
       "4      97  291           360     240.000000     120.000000  "
      ]
     },
     "execution_count": 50,
     "metadata": {},
     "output_type": "execute_result"
    }
   ],
   "source": [
    "shapefile.head()"
   ]
  },
  {
   "cell_type": "code",
   "execution_count": 51,
   "metadata": {},
   "outputs": [],
   "source": [
    "centroid = shapefile.copy()\n",
    "centroid['geometry'] = centroid.geometry.centroid"
   ]
  },
  {
   "cell_type": "code",
   "execution_count": 52,
   "metadata": {},
   "outputs": [],
   "source": [
    "from matplotlib.patches import Wedge\n",
    "from matplotlib.collections import PatchCollection"
   ]
  },
  {
   "cell_type": "code",
   "execution_count": 60,
   "metadata": {},
   "outputs": [],
   "source": [
    "import FINE as fn"
   ]
  },
  {
   "cell_type": "code",
   "execution_count": 61,
   "metadata": {},
   "outputs": [
    {
     "data": {
      "text/plain": [
       "(<Figure size 432x432 with 1 Axes>, <AxesSubplot:>)"
      ]
     },
     "execution_count": 61,
     "metadata": {},
     "output_type": "execute_result"
    },
    {
     "data": {
      "image/png": "[encoded data removed]",
      "text/plain": [
       "<Figure size 432x432 with 1 Axes>"
      ]
     },
     "metadata": {
      "needs_background": "light"
     },
     "output_type": "display_data"
    }
   ],
   "source": [
    "locFilePath = r\"C:\\Repos\\FINE\\examples\\Multi-regional_Energy_System_Workflow\\InputData\\SpatialData\\ShapeFiles\\clusteredRegions.shp\"\n",
    "fn.plotLocations(locFilePath, indexColumn='index')"
   ]
  },
  {
   "cell_type": "code",
   "execution_count": 63,
   "metadata": {},
   "outputs": [
    {
     "data": {
      "text/plain": [
       "(3999254.586507462, 4704583.497893981, 2640765.16909005, 3594602.1733842236)"
      ]
     },
     "execution_count": 63,
     "metadata": {},
     "output_type": "execute_result"
    },
    {
     "data": {
      "image/png": "[encoded data removed]",
      "text/plain": [
       "<Figure size 432x432 with 1 Axes>"
      ]
     },
     "metadata": {
      "needs_background": "light"
     },
     "output_type": "display_data"
    }
   ],
   "source": [
    "fig, ax = fn.plotLocations(locFilePath, indexColumn='index') #plt.subplots(figsize=(12,8))\n",
    "ax.set_aspect('equal')\n",
    "#regions = shapefile.plot(ax=ax, zorder=1, color='None', linewidth=0.5, alpha=0.5, edgecolor='black')\n",
    "#centroid.plot(ax=regions, color='black', marker='^', markersize=5)\n",
    "\n",
    "for index in centroid.index:\n",
    "    xValue = centroid.geometry[index].x\n",
    "    yValue = centroid.geometry[index].y\n",
    "    \n",
    "    pie1 = Wedge((xValue, yValue), \n",
    "                 shapefile.loc[index, 'sum']*200, # radius\n",
    "                 0, # theta1\n",
    "                 shapefile.loc[index,'value1_degree'], #theta2\n",
    "                 fc='lightblue', lw=0.6, zorder=2, edgecolor='black')\n",
    "    \n",
    "    pie2 = Wedge((xValue, yValue), \n",
    "                 shapefile.loc[index, 'sum']*200, \n",
    "                 shapefile.loc[index,'value1_degree'], \n",
    "                 shapefile.loc[index,'value1_degree']+shapefile.loc[index,'value2_degree'], \n",
    "                 fc='green', lw=0.6, zorder=2, edgecolor='black')\n",
    "    \n",
    "    ax.add_artist(pie1)\n",
    "    ax.add_artist(pie2)\n",
    "    \n",
    "regions.axis('off')"
   ]
  },
  {
   "cell_type": "code",
   "execution_count": null,
   "metadata": {},
   "outputs": [],
   "source": []
  }
 ],
 "metadata": {
  "anaconda-cloud": {},
  "kernelspec": {
   "display_name": "Python 3",
   "language": "python",
   "name": "python3"
  },
  "language_info": {
   "codemirror_mode": {
    "name": "ipython",
    "version": 3
   },
   "file_extension": ".py",
   "mimetype": "text/x-python",
   "name": "python",
   "nbconvert_exporter": "python",
   "pygments_lexer": "ipython3",
   "version": "3.6.12"
  }
 },
 "nbformat": 4,
 "nbformat_minor": 4
}
