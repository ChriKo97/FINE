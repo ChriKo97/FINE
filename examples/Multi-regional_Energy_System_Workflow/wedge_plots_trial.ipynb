{
 "cells": [
  {
   "cell_type": "code",
   "execution_count": 3,
   "metadata": {},
   "outputs": [],
   "source": [
    "import geopandas as gpd\n",
    "import matplotlib.pyplot as plt\n",
    "import numpy as np\n",
    "import os"
   ]
  },
  {
   "cell_type": "code",
   "execution_count": 18,
   "metadata": {},
   "outputs": [],
   "source": [
    "cwd = os.getcwd()\n",
    "locFilePath = os.path.join(cwd, 'InputData', 'SpatialData','ShapeFiles', 'clusteredRegions.shp')"
   ]
  },
  {
   "cell_type": "code",
   "execution_count": 6,
   "metadata": {},
   "outputs": [],
   "source": [
    "shapefile = gpd.read_file(locFilePath)"
   ]
  },
  {
   "cell_type": "code",
   "execution_count": 7,
   "metadata": {},
   "outputs": [
    {
     "data": {
      "text/html": [
       "<div>\n",
       "<style scoped>\n",
       "    .dataframe tbody tr th:only-of-type {\n",
       "        vertical-align: middle;\n",
       "    }\n",
       "\n",
       "    .dataframe tbody tr th {\n",
       "        vertical-align: top;\n",
       "    }\n",
       "\n",
       "    .dataframe thead th {\n",
       "        text-align: right;\n",
       "    }\n",
       "</style>\n",
       "<table border=\"1\" class=\"dataframe\">\n",
       "  <thead>\n",
       "    <tr style=\"text-align: right;\">\n",
       "      <th></th>\n",
       "      <th>index</th>\n",
       "      <th>geometry</th>\n",
       "    </tr>\n",
       "  </thead>\n",
       "  <tbody>\n",
       "    <tr>\n",
       "      <th>0</th>\n",
       "      <td>cluster_0</td>\n",
       "      <td>MULTIPOLYGON (((4223496.092 2734368.143, 42236...</td>\n",
       "    </tr>\n",
       "    <tr>\n",
       "      <th>1</th>\n",
       "      <td>cluster_1</td>\n",
       "      <td>MULTIPOLYGON (((4199685.633 3404002.686, 41996...</td>\n",
       "    </tr>\n",
       "    <tr>\n",
       "      <th>2</th>\n",
       "      <td>cluster_2</td>\n",
       "      <td>MULTIPOLYGON (((4106781.295 3394915.767, 41067...</td>\n",
       "    </tr>\n",
       "    <tr>\n",
       "      <th>3</th>\n",
       "      <td>cluster_3</td>\n",
       "      <td>MULTIPOLYGON (((4602449.935 3408647.034, 46024...</td>\n",
       "    </tr>\n",
       "    <tr>\n",
       "      <th>4</th>\n",
       "      <td>cluster_4</td>\n",
       "      <td>POLYGON ((4553700.750 2730225.831, 4553786.048...</td>\n",
       "    </tr>\n",
       "  </tbody>\n",
       "</table>\n",
       "</div>"
      ],
      "text/plain": [
       "       index                                           geometry\n",
       "0  cluster_0  MULTIPOLYGON (((4223496.092 2734368.143, 42236...\n",
       "1  cluster_1  MULTIPOLYGON (((4199685.633 3404002.686, 41996...\n",
       "2  cluster_2  MULTIPOLYGON (((4106781.295 3394915.767, 41067...\n",
       "3  cluster_3  MULTIPOLYGON (((4602449.935 3408647.034, 46024...\n",
       "4  cluster_4  POLYGON ((4553700.750 2730225.831, 4553786.048..."
      ]
     },
     "execution_count": 7,
     "metadata": {},
     "output_type": "execute_result"
    }
   ],
   "source": [
    "shapefile.head()"
   ]
  },
  {
   "cell_type": "code",
   "execution_count": 8,
   "metadata": {},
   "outputs": [
    {
     "data": {
      "text/plain": [
       "8"
      ]
     },
     "execution_count": 8,
     "metadata": {},
     "output_type": "execute_result"
    }
   ],
   "source": [
    "len(shapefile)"
   ]
  },
  {
   "cell_type": "code",
   "execution_count": 9,
   "metadata": {},
   "outputs": [],
   "source": [
    "shapefile['value1'] = np.random.randint(200, size=8)\n",
    "shapefile['value2'] = np.random.randint(100, size=8)"
   ]
  },
  {
   "cell_type": "code",
   "execution_count": 10,
   "metadata": {},
   "outputs": [],
   "source": [
    "shapefile['sum'] = shapefile['value1'] + shapefile['value2']"
   ]
  },
  {
   "cell_type": "code",
   "execution_count": 11,
   "metadata": {},
   "outputs": [
    {
     "data": {
      "text/html": [
       "<div>\n",
       "<style scoped>\n",
       "    .dataframe tbody tr th:only-of-type {\n",
       "        vertical-align: middle;\n",
       "    }\n",
       "\n",
       "    .dataframe tbody tr th {\n",
       "        vertical-align: top;\n",
       "    }\n",
       "\n",
       "    .dataframe thead th {\n",
       "        text-align: right;\n",
       "    }\n",
       "</style>\n",
       "<table border=\"1\" class=\"dataframe\">\n",
       "  <thead>\n",
       "    <tr style=\"text-align: right;\">\n",
       "      <th></th>\n",
       "      <th>index</th>\n",
       "      <th>geometry</th>\n",
       "      <th>value1</th>\n",
       "      <th>value2</th>\n",
       "      <th>sum</th>\n",
       "    </tr>\n",
       "  </thead>\n",
       "  <tbody>\n",
       "    <tr>\n",
       "      <th>0</th>\n",
       "      <td>cluster_0</td>\n",
       "      <td>MULTIPOLYGON (((4223496.092 2734368.143, 42236...</td>\n",
       "      <td>168</td>\n",
       "      <td>19</td>\n",
       "      <td>187</td>\n",
       "    </tr>\n",
       "    <tr>\n",
       "      <th>1</th>\n",
       "      <td>cluster_1</td>\n",
       "      <td>MULTIPOLYGON (((4199685.633 3404002.686, 41996...</td>\n",
       "      <td>165</td>\n",
       "      <td>80</td>\n",
       "      <td>245</td>\n",
       "    </tr>\n",
       "    <tr>\n",
       "      <th>2</th>\n",
       "      <td>cluster_2</td>\n",
       "      <td>MULTIPOLYGON (((4106781.295 3394915.767, 41067...</td>\n",
       "      <td>34</td>\n",
       "      <td>88</td>\n",
       "      <td>122</td>\n",
       "    </tr>\n",
       "    <tr>\n",
       "      <th>3</th>\n",
       "      <td>cluster_3</td>\n",
       "      <td>MULTIPOLYGON (((4602449.935 3408647.034, 46024...</td>\n",
       "      <td>50</td>\n",
       "      <td>36</td>\n",
       "      <td>86</td>\n",
       "    </tr>\n",
       "    <tr>\n",
       "      <th>4</th>\n",
       "      <td>cluster_4</td>\n",
       "      <td>POLYGON ((4553700.750 2730225.831, 4553786.048...</td>\n",
       "      <td>11</td>\n",
       "      <td>8</td>\n",
       "      <td>19</td>\n",
       "    </tr>\n",
       "  </tbody>\n",
       "</table>\n",
       "</div>"
      ],
      "text/plain": [
       "       index                                           geometry  value1  \\\n",
       "0  cluster_0  MULTIPOLYGON (((4223496.092 2734368.143, 42236...     168   \n",
       "1  cluster_1  MULTIPOLYGON (((4199685.633 3404002.686, 41996...     165   \n",
       "2  cluster_2  MULTIPOLYGON (((4106781.295 3394915.767, 41067...      34   \n",
       "3  cluster_3  MULTIPOLYGON (((4602449.935 3408647.034, 46024...      50   \n",
       "4  cluster_4  POLYGON ((4553700.750 2730225.831, 4553786.048...      11   \n",
       "\n",
       "   value2  sum  \n",
       "0      19  187  \n",
       "1      80  245  \n",
       "2      88  122  \n",
       "3      36   86  \n",
       "4       8   19  "
      ]
     },
     "execution_count": 11,
     "metadata": {},
     "output_type": "execute_result"
    }
   ],
   "source": [
    "shapefile.head()"
   ]
  },
  {
   "cell_type": "code",
   "execution_count": 12,
   "metadata": {},
   "outputs": [],
   "source": [
    "shapefile['total_degree'] = 360\n",
    "shapefile['value1_degree'] = (shapefile['value1'] / shapefile['sum']) * shapefile['total_degree']\n",
    "shapefile['value2_degree'] = (shapefile['value2'] / shapefile['sum']) * shapefile['total_degree']"
   ]
  },
  {
   "cell_type": "code",
   "execution_count": 13,
   "metadata": {
    "scrolled": true
   },
   "outputs": [
    {
     "data": {
      "text/html": [
       "<div>\n",
       "<style scoped>\n",
       "    .dataframe tbody tr th:only-of-type {\n",
       "        vertical-align: middle;\n",
       "    }\n",
       "\n",
       "    .dataframe tbody tr th {\n",
       "        vertical-align: top;\n",
       "    }\n",
       "\n",
       "    .dataframe thead th {\n",
       "        text-align: right;\n",
       "    }\n",
       "</style>\n",
       "<table border=\"1\" class=\"dataframe\">\n",
       "  <thead>\n",
       "    <tr style=\"text-align: right;\">\n",
       "      <th></th>\n",
       "      <th>index</th>\n",
       "      <th>geometry</th>\n",
       "      <th>value1</th>\n",
       "      <th>value2</th>\n",
       "      <th>sum</th>\n",
       "      <th>total_degree</th>\n",
       "      <th>value1_degree</th>\n",
       "      <th>value2_degree</th>\n",
       "    </tr>\n",
       "  </thead>\n",
       "  <tbody>\n",
       "    <tr>\n",
       "      <th>0</th>\n",
       "      <td>cluster_0</td>\n",
       "      <td>MULTIPOLYGON (((4223496.092 2734368.143, 42236...</td>\n",
       "      <td>168</td>\n",
       "      <td>19</td>\n",
       "      <td>187</td>\n",
       "      <td>360</td>\n",
       "      <td>323.422460</td>\n",
       "      <td>36.577540</td>\n",
       "    </tr>\n",
       "    <tr>\n",
       "      <th>1</th>\n",
       "      <td>cluster_1</td>\n",
       "      <td>MULTIPOLYGON (((4199685.633 3404002.686, 41996...</td>\n",
       "      <td>165</td>\n",
       "      <td>80</td>\n",
       "      <td>245</td>\n",
       "      <td>360</td>\n",
       "      <td>242.448980</td>\n",
       "      <td>117.551020</td>\n",
       "    </tr>\n",
       "    <tr>\n",
       "      <th>2</th>\n",
       "      <td>cluster_2</td>\n",
       "      <td>MULTIPOLYGON (((4106781.295 3394915.767, 41067...</td>\n",
       "      <td>34</td>\n",
       "      <td>88</td>\n",
       "      <td>122</td>\n",
       "      <td>360</td>\n",
       "      <td>100.327869</td>\n",
       "      <td>259.672131</td>\n",
       "    </tr>\n",
       "    <tr>\n",
       "      <th>3</th>\n",
       "      <td>cluster_3</td>\n",
       "      <td>MULTIPOLYGON (((4602449.935 3408647.034, 46024...</td>\n",
       "      <td>50</td>\n",
       "      <td>36</td>\n",
       "      <td>86</td>\n",
       "      <td>360</td>\n",
       "      <td>209.302326</td>\n",
       "      <td>150.697674</td>\n",
       "    </tr>\n",
       "    <tr>\n",
       "      <th>4</th>\n",
       "      <td>cluster_4</td>\n",
       "      <td>POLYGON ((4553700.750 2730225.831, 4553786.048...</td>\n",
       "      <td>11</td>\n",
       "      <td>8</td>\n",
       "      <td>19</td>\n",
       "      <td>360</td>\n",
       "      <td>208.421053</td>\n",
       "      <td>151.578947</td>\n",
       "    </tr>\n",
       "  </tbody>\n",
       "</table>\n",
       "</div>"
      ],
      "text/plain": [
       "       index                                           geometry  value1  \\\n",
       "0  cluster_0  MULTIPOLYGON (((4223496.092 2734368.143, 42236...     168   \n",
       "1  cluster_1  MULTIPOLYGON (((4199685.633 3404002.686, 41996...     165   \n",
       "2  cluster_2  MULTIPOLYGON (((4106781.295 3394915.767, 41067...      34   \n",
       "3  cluster_3  MULTIPOLYGON (((4602449.935 3408647.034, 46024...      50   \n",
       "4  cluster_4  POLYGON ((4553700.750 2730225.831, 4553786.048...      11   \n",
       "\n",
       "   value2  sum  total_degree  value1_degree  value2_degree  \n",
       "0      19  187           360     323.422460      36.577540  \n",
       "1      80  245           360     242.448980     117.551020  \n",
       "2      88  122           360     100.327869     259.672131  \n",
       "3      36   86           360     209.302326     150.697674  \n",
       "4       8   19           360     208.421053     151.578947  "
      ]
     },
     "execution_count": 13,
     "metadata": {},
     "output_type": "execute_result"
    }
   ],
   "source": [
    "shapefile.head()"
   ]
  },
  {
   "cell_type": "code",
   "execution_count": 14,
   "metadata": {},
   "outputs": [],
   "source": [
    "centroid = shapefile.copy()\n",
    "centroid['geometry'] = centroid.geometry.centroid"
   ]
  },
  {
   "cell_type": "code",
   "execution_count": 15,
   "metadata": {},
   "outputs": [],
   "source": [
    "from matplotlib.patches import Wedge\n",
    "from matplotlib.collections import PatchCollection"
   ]
  },
  {
   "cell_type": "code",
   "execution_count": 16,
   "metadata": {},
   "outputs": [],
   "source": [
    "import FINE as fn"
   ]
  },
  {
   "cell_type": "code",
   "execution_count": 19,
   "metadata": {},
   "outputs": [
    {
     "data": {
      "text/plain": [
       "(<Figure size 432x432 with 1 Axes>, <AxesSubplot:>)"
      ]
     },
     "execution_count": 19,
     "metadata": {},
     "output_type": "execute_result"
    },
    {
     "data": {
      "image/png": "[encoded data removed]",
      "text/plain": [
       "<Figure size 432x432 with 1 Axes>"
      ]
     },
     "metadata": {
      "needs_background": "light"
     },
     "output_type": "display_data"
    }
   ],
   "source": [
    "fn.plotLocations(locFilePath, indexColumn='index')"
   ]
  },
  {
   "cell_type": "code",
   "execution_count": 22,
   "metadata": {},
   "outputs": [
    {
     "name": "stdout",
     "output_type": "stream",
     "text": [
      "<class 'float'>\n",
      "<class 'float'>\n",
      "<class 'float'>\n",
      "<class 'float'>\n",
      "<class 'float'>\n",
      "<class 'float'>\n",
      "<class 'float'>\n",
      "<class 'float'>\n"
     ]
    },
    {
     "ename": "NameError",
     "evalue": "name 'regions' is not defined",
     "output_type": "error",
     "traceback": [
      "\u001b[1;31m---------------------------------------------------------------------------\u001b[0m",
      "\u001b[1;31mNameError\u001b[0m                                 Traceback (most recent call last)",
      "\u001b[1;32m<ipython-input-22-fd6696df153c>\u001b[0m in \u001b[0;36m<module>\u001b[1;34m\u001b[0m\n\u001b[0;32m     24\u001b[0m     \u001b[0max\u001b[0m\u001b[1;33m.\u001b[0m\u001b[0madd_artist\u001b[0m\u001b[1;33m(\u001b[0m\u001b[0mpie2\u001b[0m\u001b[1;33m)\u001b[0m\u001b[1;33m\u001b[0m\u001b[1;33m\u001b[0m\u001b[0m\n\u001b[0;32m     25\u001b[0m \u001b[1;33m\u001b[0m\u001b[0m\n\u001b[1;32m---> 26\u001b[1;33m \u001b[0mregions\u001b[0m\u001b[1;33m.\u001b[0m\u001b[0maxis\u001b[0m\u001b[1;33m(\u001b[0m\u001b[1;34m'off'\u001b[0m\u001b[1;33m)\u001b[0m\u001b[1;33m\u001b[0m\u001b[1;33m\u001b[0m\u001b[0m\n\u001b[0m",
      "\u001b[1;31mNameError\u001b[0m: name 'regions' is not defined"
     ]
    },
    {
     "data": {
      "image/png": "[encoded data removed]",
      "text/plain": [
       "<Figure size 432x432 with 1 Axes>"
      ]
     },
     "metadata": {
      "needs_background": "light"
     },
     "output_type": "display_data"
    }
   ],
   "source": [
    "\n",
    "fig, ax = fn.plotLocations(locFilePath, indexColumn='index') #plt.subplots(figsize=(12,8))\n",
    "ax.set_aspect('equal')\n",
    "#regions = shapefile.plot(ax=ax, zorder=1, color='None', linewidth=0.5, alpha=0.5, edgecolor='black')\n",
    "#centroid.plot(ax=regions, color='black', marker='^', markersize=5)\n",
    "\n",
    "for index in centroid.index:\n",
    "    xValue = centroid.geometry[index].x\n",
    "    yValue = centroid.geometry[index].y\n",
    "    print(type(xValue))\n",
    "    \n",
    "    pie1 = Wedge((xValue, yValue), \n",
    "                 shapefile.loc[index, 'sum']*200, # radius\n",
    "                 0, # theta1\n",
    "                 shapefile.loc[index,'value1_degree'], #theta2\n",
    "                 fc='lightblue', lw=0.6, zorder=2, edgecolor='black')\n",
    "    \n",
    "    pie2 = Wedge((xValue, yValue), \n",
    "                 shapefile.loc[index, 'sum']*200, \n",
    "                 shapefile.loc[index,'value1_degree'], \n",
    "                 shapefile.loc[index,'value1_degree']+shapefile.loc[index,'value2_degree'], \n",
    "                 fc='green', lw=0.6, zorder=2, edgecolor='black')\n",
    "    \n",
    "    ax.add_artist(pie1)\n",
    "    ax.add_artist(pie2)\n",
    "    \n",
    "regions.axis('off')"
   ]
  },
  {
   "cell_type": "code",
   "execution_count": null,
   "metadata": {},
   "outputs": [],
   "source": []
  }
 ],
 "metadata": {
  "anaconda-cloud": {},
  "kernelspec": {
   "display_name": "Python 3",
   "language": "python",
   "name": "python3"
  },
  "language_info": {
   "codemirror_mode": {
    "name": "ipython",
    "version": 3
   },
   "file_extension": ".py",
   "mimetype": "text/x-python",
   "name": "python",
   "nbconvert_exporter": "python",
   "pygments_lexer": "ipython3",
   "version": "3.6.12"
  }
 },
 "nbformat": 4,
 "nbformat_minor": 4
}
